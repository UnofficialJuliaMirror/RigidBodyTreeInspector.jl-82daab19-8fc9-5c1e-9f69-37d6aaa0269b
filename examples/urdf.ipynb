{
 "cells": [
  {
   "cell_type": "code",
   "execution_count": 1,
   "metadata": {
    "collapsed": false
   },
   "outputs": [
    {
     "data": {
      "text/html": [
       "<div id=\"interact-js-shim\">\n",
       "    <script charset=\"utf-8\">\n",
       "(function (IPython, $, _, MathJax) {\n",
       "    $.event.special.destroyed = {\n",
       "\tremove: function(o) {\n",
       "\t    if (o.handler) {\n",
       "\t\to.handler.apply(this, arguments)\n",
       "\t    }\n",
       "\t}\n",
       "    }\n",
       "\n",
       "    var OutputArea = IPython.version >= \"4.0.0\" ? require(\"notebook/js/outputarea\").OutputArea : IPython.OutputArea;\n",
       "\n",
       "    var redrawValue = function (container, type, val) {\n",
       "\tvar selector = $(\"<div/>\");\n",
       "\tvar oa = new OutputArea(_.extend(selector, {\n",
       "\t    selector: selector,\n",
       "\t    prompt_area: true,\n",
       "\t    events: IPython.events,\n",
       "\t    keyboard_manager: IPython.keyboard_manager\n",
       "\t})); // Hack to work with IPython 2.1.0\n",
       "\n",
       "\tswitch (type) {\n",
       "\tcase \"image/png\":\n",
       "            var _src = 'data:' + type + ';base64,' + val;\n",
       "\t    $(container).find(\"img\").attr('src', _src);\n",
       "\t    break;\n",
       "\tdefault:\n",
       "\t    var toinsert = OutputArea.append_map[type].apply(\n",
       "\t\toa, [val, {}, selector]\n",
       "\t    );\n",
       "\t    $(container).empty().append(toinsert.contents());\n",
       "\t    selector.remove();\n",
       "\t}\n",
       "\tif (type === \"text/latex\" && MathJax) {\n",
       "\t    MathJax.Hub.Queue([\"Typeset\", MathJax.Hub, toinsert.get(0)]);\n",
       "\t}\n",
       "    }\n",
       "\n",
       "\n",
       "    $(document).ready(function() {\n",
       "\tfunction initComm(evt, data) {\n",
       "\t    var comm_manager = data.kernel.comm_manager;\n",
       "        //_.extend(comm_manager.targets, require(\"widgets/js/widget\"))\n",
       "\t    comm_manager.register_target(\"Signal\", function (comm) {\n",
       "            comm.on_msg(function (msg) {\n",
       "                //Widgets.log(\"message received\", msg);\n",
       "                var val = msg.content.data.value;\n",
       "                $(\".signal-\" + comm.comm_id).each(function() {\n",
       "                var type = $(this).data(\"type\");\n",
       "                if (val[type]) {\n",
       "                    redrawValue(this, type, val[type], type);\n",
       "                }\n",
       "                });\n",
       "                delete val;\n",
       "                delete msg.content.data.value;\n",
       "            });\n",
       "\t    });\n",
       "\n",
       "\t    // coordingate with Comm and redraw Signals\n",
       "\t    // XXX: Test using Reactive here to improve performance\n",
       "\t    $([IPython.events]).on(\n",
       "\t\t'output_appended.OutputArea', function (event, type, value, md, toinsert) {\n",
       "\t\t    if (md && md.reactive) {\n",
       "                // console.log(md.comm_id);\n",
       "                toinsert.addClass(\"signal-\" + md.comm_id);\n",
       "                toinsert.data(\"type\", type);\n",
       "                // Signal back indicating the mimetype required\n",
       "                var comm_manager = IPython.notebook.kernel.comm_manager;\n",
       "                var comm = comm_manager.comms[md.comm_id];\n",
       "                comm.then(function (c) {\n",
       "                    c.send({action: \"subscribe_mime\",\n",
       "                       mime: type});\n",
       "                    toinsert.bind(\"destroyed\", function() {\n",
       "                        c.send({action: \"unsubscribe_mime\",\n",
       "                               mime: type});\n",
       "                    });\n",
       "                })\n",
       "\t\t    }\n",
       "\t    });\n",
       "\t}\n",
       "\n",
       "\ttry {\n",
       "\t    // try to initialize right away. otherwise, wait on the status_started event.\n",
       "\t    initComm(undefined, IPython.notebook);\n",
       "\t} catch (e) {\n",
       "\t    $([IPython.events]).on('kernel_created.Kernel kernel_created.Session', initComm);\n",
       "\t}\n",
       "    });\n",
       "})(IPython, jQuery, _, MathJax);\n",
       "</script>\n",
       "    <script>\n",
       "        window.interactLoadedFlag = true\n",
       "       $(\"#interact-js-shim\").bind(\"destroyed\", function () {\n",
       "           if (window.interactLoadedFlag) {\n",
       "               console.warn(\"JavaScript required by Interact will be removed if you remove this cell or run using Interact more than once.\")\n",
       "           }\n",
       "       })\n",
       "       $([IPython.events]).on(\"kernel_starting.Kernel kernel_restarting.Kernel\", function () { window.interactLoadedFlag = false })\n",
       "   </script>\n",
       "</div>"
      ]
     },
     "metadata": {},
     "output_type": "display_data"
    },
    {
     "name": "stderr",
     "output_type": "stream",
     "text": [
      "WARNING: Base.writemime is deprecated.\n",
      "  likely near /home/rdeits/locomotion/explorations/RigidBodyTreeInspector/packages/v0.5/Interact/src/IJulia/setup.jl:116\n",
      "WARNING: Base.writemime is deprecated.\n",
      "  likely near /home/rdeits/locomotion/explorations/RigidBodyTreeInspector/packages/v0.5/Interact/src/IJulia/setup.jl:116\n"
     ]
    }
   ],
   "source": [
    "import RigidBodyTreeInspector\n",
    "using RigidBodyDynamics"
   ]
  },
  {
   "cell_type": "code",
   "execution_count": 2,
   "metadata": {
    "collapsed": false
   },
   "outputs": [
    {
     "name": "stderr",
     "output_type": "stream",
     "text": [
      "WARNING: replacing module RigidBodyTreeInspector\n",
      "WARNING: Method definition draw(DrakeVisualizer.Visualizer, RigidBodyDynamics.MechanismState) in module RigidBodyTreeInspector at /home/rdeits/locomotion/explorations/RigidBodyTreeInspector/packages/v0.5/RigidBodyTreeInspector/src/RigidBodyTreeInspector.jl:148 overwritten in module RigidBodyTreeInspector at /home/rdeits/locomotion/explorations/RigidBodyTreeInspector/packages/v0.5/RigidBodyTreeInspector/src/RigidBodyTreeInspector.jl:148.\n",
      "WARNING: Method definition convert(Type{CoordinateTransformations.AffineMap}, RigidBodyDynamics.Transform3D) in module RigidBodyTreeInspector at /home/rdeits/locomotion/explorations/RigidBodyTreeInspector/packages/v0.5/RigidBodyTreeInspector/src/RigidBodyTreeInspector.jl:145 overwritten in module RigidBodyTreeInspector at /home/rdeits/locomotion/explorations/RigidBodyTreeInspector/packages/v0.5/RigidBodyTreeInspector/src/RigidBodyTreeInspector.jl:145.\n",
      "WARNING: Method definition one(Type{Array{Float64, 1}}) in module RigidBodyTreeInspector at /home/rdeits/locomotion/explorations/RigidBodyTreeInspector/packages/v0.5/RigidBodyTreeInspector/src/RigidBodyTreeInspector.jl:191 overwritten in module RigidBodyTreeInspector at /home/rdeits/locomotion/explorations/RigidBodyTreeInspector/packages/v0.5/RigidBodyTreeInspector/src/RigidBodyTreeInspector.jl:191.\n",
      "WARNING: Method definition (::Type{DrakeVisualizer.Visualizer})(RigidBodyDynamics.Mechanism) in module RigidBodyTreeInspector at /home/rdeits/locomotion/explorations/RigidBodyTreeInspector/packages/v0.5/RigidBodyTreeInspector/src/RigidBodyTreeInspector.jl:141 overwritten in module RigidBodyTreeInspector at /home/rdeits/locomotion/explorations/RigidBodyTreeInspector/packages/v0.5/RigidBodyTreeInspector/src/RigidBodyTreeInspector.jl:141.\n",
      "WARNING: Method definition Type(Array{Any, 1}, Type{DrakeVisualizer.Visualizer}, RigidBodyDynamics.Mechanism) in module RigidBodyTreeInspector overwritten in module RigidBodyTreeInspector.\n"
     ]
    }
   ],
   "source": [
    "reload(\"RigidBodyTreeInspector\")"
   ]
  },
  {
   "cell_type": "code",
   "execution_count": 3,
   "metadata": {
    "collapsed": false,
    "scrolled": false
   },
   "outputs": [],
   "source": [
    "# Let's construct a mechanism by loading a URDF\n",
    "urdf = \"/home/rdeits/locomotion/drake/drake/examples/Valkyrie/urdf/urdf/valkyrie_A_sim_drake_one_neck_dof_wide_ankle_rom.urdf\"\n",
    "# urdf = \"/home/rdeits/locomotion/drake/drake/examples/Atlas/urdf/atlas_minimal_contact.urdf\"\n",
    "mechanism = RigidBodyDynamics.parse_urdf(Float64, urdf);"
   ]
  },
  {
   "cell_type": "code",
   "execution_count": null,
   "metadata": {
    "collapsed": false
   },
   "outputs": [],
   "source": [
    "# We can visualize the kinematic structure `of the robot just by inspecting it:\n",
    "RigidBodyTreeInspector.inspect(mechanism)"
   ]
  },
  {
   "cell_type": "code",
   "execution_count": null,
   "metadata": {
    "collapsed": false
   },
   "outputs": [],
   "source": [
    "# And we can also show the inertias of each link, visualized as\n",
    "# ellipsoids of equivalent mass and inertia\n",
    "RigidBodyTreeInspector.inspect(mechanism; show_inertias=true)"
   ]
  },
  {
   "cell_type": "code",
   "execution_count": null,
   "metadata": {
    "collapsed": false
   },
   "outputs": [],
   "source": [
    "# We can also parse the visual elements from the URDF and use them to \n",
    "# show the robot instead:\n",
    "vis = RigidBodyTreeInspector.parse_urdf(urdf, mechanism);\n",
    "RigidBodyTreeInspector.inspect(mechanism, vis)"
   ]
  }
 ],
 "metadata": {
  "kernelspec": {
   "display_name": "Julia 0.5.0-rc3",
   "language": "julia",
   "name": "julia-0.5"
  },
  "language_info": {
   "file_extension": ".jl",
   "mimetype": "application/julia",
   "name": "julia",
   "version": "0.5.0"
  },
  "widgets": {
   "state": {
    "023bedc3-1a01-44f1-ab89-c3f8666126fd": {
     "views": [
      {
       "cell_index": 4
      }
     ]
    },
    "02bf270e-38e7-4928-b580-7c0afa2af84b": {
     "views": [
      {
       "cell_index": 4
      }
     ]
    },
    "04f3849f-99f8-4324-93d0-ecb0c1ab36fc": {
     "views": [
      {
       "cell_index": 4
      }
     ]
    },
    "07101099-e593-4d05-8a10-471967ae8db2": {
     "views": [
      {
       "cell_index": 4
      }
     ]
    },
    "09271b00-6af7-42de-949f-fc74bffabe61": {
     "views": [
      {
       "cell_index": 5
      }
     ]
    },
    "0e3f1a9d-1388-4457-ad0d-8bd002b9fe29": {
     "views": [
      {
       "cell_index": 4
      }
     ]
    },
    "0fb4d44e-ea12-440f-b219-fa0e528f9d3a": {
     "views": [
      {
       "cell_index": 3
      }
     ]
    },
    "0fbb0931-397a-4d26-891b-0d773d6845b4": {
     "views": [
      {
       "cell_index": 3
      }
     ]
    },
    "15524ba2-acd7-4cb5-a181-ad3b60844e12": {
     "views": [
      {
       "cell_index": 5
      }
     ]
    },
    "183b7950-e68f-4304-8115-b6ec1678d55a": {
     "views": [
      {
       "cell_index": 3
      }
     ]
    },
    "21664129-9316-435e-8e61-beb55cf73c92": {
     "views": [
      {
       "cell_index": 4
      }
     ]
    },
    "233efcfb-b1c7-4d81-af18-ca2a9eac52ef": {
     "views": [
      {
       "cell_index": 3
      }
     ]
    },
    "26aaac60-8f03-4eaa-a444-761ccde3458c": {
     "views": [
      {
       "cell_index": 4
      }
     ]
    },
    "28f3db63-8fb7-492a-b449-9cfd03b84ed1": {
     "views": [
      {
       "cell_index": 3
      }
     ]
    },
    "2fd9839a-e50d-41d9-9230-48a72fd52a10": {
     "views": [
      {
       "cell_index": 3
      }
     ]
    },
    "348ea1d4-1579-46ad-bcc4-5c9ae4f889db": {
     "views": [
      {
       "cell_index": 4
      }
     ]
    },
    "36c9c8b5-a1f8-4d38-9697-8d8ef31c35dd": {
     "views": [
      {
       "cell_index": 5
      }
     ]
    },
    "377a7d54-0def-4e2d-8d42-6069290bc3c5": {
     "views": [
      {
       "cell_index": 3
      }
     ]
    },
    "38c90fa6-afa6-40db-b834-eb52dd17b5b3": {
     "views": [
      {
       "cell_index": 4
      }
     ]
    },
    "39bc3aca-3854-4729-be7a-70db56bddba7": {
     "views": [
      {
       "cell_index": 4
      }
     ]
    },
    "3e1267d4-a4df-49ee-a55f-07b5beef24bc": {
     "views": [
      {
       "cell_index": 4
      }
     ]
    },
    "42824460-ddc5-4650-878d-83b7852f604c": {
     "views": [
      {
       "cell_index": 4
      }
     ]
    },
    "43990b56-1922-40d9-a9e5-74cc6bbd4d82": {
     "views": [
      {
       "cell_index": 3
      }
     ]
    },
    "4726d291-4692-4345-9ef0-00a1e6372150": {
     "views": [
      {
       "cell_index": 3
      }
     ]
    },
    "4a298a36-edcd-4e8c-abee-e28a6ca3f6e8": {
     "views": [
      {
       "cell_index": 3
      }
     ]
    },
    "4bb25948-f425-4292-aeab-2433b7a8b6e7": {
     "views": [
      {
       "cell_index": 4
      }
     ]
    },
    "4f55d2a3-de00-4af0-8ed2-86a38d7e42c9": {
     "views": [
      {
       "cell_index": 3
      }
     ]
    },
    "4f6260d7-b33d-43fb-bcff-8c1fcaccfcb8": {
     "views": [
      {
       "cell_index": 3
      }
     ]
    },
    "52c3e6e7-c5fb-41c8-b1ee-e7897175437f": {
     "views": [
      {
       "cell_index": 3
      }
     ]
    },
    "5c487aee-1d4b-4fb9-9919-4129e3452457": {
     "views": [
      {
       "cell_index": 3
      }
     ]
    },
    "5f5d6709-1b30-4edf-81d2-df414a095e74": {
     "views": [
      {
       "cell_index": 3
      }
     ]
    },
    "5fefe7b8-44d0-418d-977b-f27a4e07f1c9": {
     "views": [
      {
       "cell_index": 5
      }
     ]
    },
    "607739be-d842-4eb6-bf80-4ac6dbde7d4f": {
     "views": [
      {
       "cell_index": 3
      }
     ]
    },
    "617b481f-3878-40bf-91fd-e4a5ebbd7a10": {
     "views": [
      {
       "cell_index": 4
      }
     ]
    },
    "6618991c-ef7c-4d8b-b43a-d0952d9c4888": {
     "views": [
      {
       "cell_index": 4
      }
     ]
    },
    "669909eb-2c0e-4be2-b906-425bfc091847": {
     "views": [
      {
       "cell_index": 3
      }
     ]
    },
    "67354546-afb3-4349-849d-67810df1500a": {
     "views": [
      {
       "cell_index": 4
      }
     ]
    },
    "6767e478-7685-42a1-9a6a-cd317864c269": {
     "views": [
      {
       "cell_index": 4
      }
     ]
    },
    "687c3845-ec01-439f-8af3-486b43478c82": {
     "views": [
      {
       "cell_index": 3
      }
     ]
    },
    "68a28125-ad7c-42e8-8492-eb54b0f1e352": {
     "views": [
      {
       "cell_index": 3
      }
     ]
    },
    "6a71e4a0-1437-4e08-b5d3-051949d32738": {
     "views": [
      {
       "cell_index": 3
      }
     ]
    },
    "6da662dd-d8c9-48b0-8485-bd5212740c75": {
     "views": [
      {
       "cell_index": 4
      }
     ]
    },
    "708d9820-096d-4ef4-84fb-71f7803906c4": {
     "views": [
      {
       "cell_index": 4
      }
     ]
    },
    "7b7e4037-4e15-4fa0-8633-bc66a39ac4e6": {
     "views": [
      {
       "cell_index": 3
      }
     ]
    },
    "7ced7059-f875-40a0-8980-3c2080994262": {
     "views": [
      {
       "cell_index": 3
      }
     ]
    },
    "7effe576-ca45-492b-82ca-56d0f61873c5": {
     "views": [
      {
       "cell_index": 3
      }
     ]
    },
    "7f928aa9-ef46-4898-b9f9-33309c0c0571": {
     "views": [
      {
       "cell_index": 5
      }
     ]
    },
    "807f63ee-59e1-408c-b7bf-af3bdad9dd74": {
     "views": [
      {
       "cell_index": 4
      }
     ]
    },
    "87e3788b-7240-4cc1-b27d-322ed5d393bc": {
     "views": [
      {
       "cell_index": 3
      }
     ]
    },
    "898d6061-8def-4fb5-a097-eff8dc9e9083": {
     "views": [
      {
       "cell_index": 4
      }
     ]
    },
    "89e5c1ef-2a82-4300-9180-4a185181b7cd": {
     "views": [
      {
       "cell_index": 4
      }
     ]
    },
    "8d20a0ca-ec0f-4e2a-8863-c3d8b5cce656": {
     "views": [
      {
       "cell_index": 5
      }
     ]
    },
    "8db5bee2-4edf-44ac-b01f-46ef0e153f99": {
     "views": [
      {
       "cell_index": 4
      }
     ]
    },
    "9679c451-9b43-4cc5-98b8-ea8c7795cfad": {
     "views": [
      {
       "cell_index": 3
      }
     ]
    },
    "a76779be-b82f-4827-a16e-9fabfeb05738": {
     "views": [
      {
       "cell_index": 4
      }
     ]
    },
    "a7b30ff6-49a1-4498-8b06-f98db6747e5c": {
     "views": [
      {
       "cell_index": 4
      }
     ]
    },
    "abac56a9-65cc-42c5-a404-6ffcd6a6af3c": {
     "views": [
      {
       "cell_index": 5
      }
     ]
    },
    "abaf175e-86fc-4fb2-b5bf-da80fdb2941c": {
     "views": [
      {
       "cell_index": 5
      }
     ]
    },
    "abd9332e-b730-4e81-a007-81bd23bee584": {
     "views": [
      {
       "cell_index": 5
      }
     ]
    },
    "acd64269-06b4-43af-a7fc-621669ac634a": {
     "views": [
      {
       "cell_index": 5
      }
     ]
    },
    "afbbcbc0-15e7-43a5-9dfc-6976877a156f": {
     "views": [
      {
       "cell_index": 5
      }
     ]
    },
    "b29c7378-00df-417d-917a-1b91f63dab60": {
     "views": [
      {
       "cell_index": 3
      }
     ]
    },
    "b2ca93ca-60c4-46d8-bd2e-29de269a8d33": {
     "views": [
      {
       "cell_index": 3
      }
     ]
    },
    "b5b60787-7315-404b-9592-fe3b54ebbba0": {
     "views": [
      {
       "cell_index": 3
      }
     ]
    },
    "b8f896f0-b99a-410e-ab88-916dcc91339b": {
     "views": [
      {
       "cell_index": 5
      }
     ]
    },
    "b99de7e3-fa7f-4945-ad63-b7e5b00e6b09": {
     "views": [
      {
       "cell_index": 5
      }
     ]
    },
    "bb09b7d4-d5d0-4123-bc0a-3fe19bfa3d88": {
     "views": [
      {
       "cell_index": 3
      }
     ]
    },
    "bc8af814-4270-4855-8166-2575d4a0f60e": {
     "views": [
      {
       "cell_index": 3
      }
     ]
    },
    "be5af80c-1562-49b3-894f-0c3ef737f7f1": {
     "views": [
      {
       "cell_index": 4
      }
     ]
    },
    "be6fd493-9f81-4423-9be9-dca2af27e069": {
     "views": [
      {
       "cell_index": 3
      }
     ]
    },
    "c17582ab-9350-497f-9617-963bee7202d0": {
     "views": [
      {
       "cell_index": 3
      }
     ]
    },
    "c1b5249f-578c-4c20-9bdb-3680c7cfd0ec": {
     "views": [
      {
       "cell_index": 3
      }
     ]
    },
    "c296a504-1f39-4166-a76b-8730be9013ba": {
     "views": [
      {
       "cell_index": 3
      }
     ]
    },
    "c4eec9f5-f04a-4eb5-b973-a717b1d7a53a": {
     "views": [
      {
       "cell_index": 3
      }
     ]
    },
    "c5157657-8c09-43dc-a481-58f0bfdf4cc6": {
     "views": [
      {
       "cell_index": 3
      }
     ]
    },
    "c775d9d2-4e6d-4e4d-9257-92f26d21979e": {
     "views": [
      {
       "cell_index": 5
      }
     ]
    },
    "c9ba13f6-c925-4646-842a-8d447121b65c": {
     "views": [
      {
       "cell_index": 4
      }
     ]
    },
    "ca3a152e-a041-4d82-84af-61953a97a033": {
     "views": [
      {
       "cell_index": 3
      }
     ]
    },
    "cbee33f8-1b74-4923-9278-103d42d0b8a7": {
     "views": [
      {
       "cell_index": 3
      }
     ]
    },
    "cf5530f0-99e4-44e6-aa27-4a573d919c61": {
     "views": [
      {
       "cell_index": 3
      }
     ]
    },
    "d0085b2c-26bc-4aea-93e8-eff31e04c090": {
     "views": [
      {
       "cell_index": 4
      }
     ]
    },
    "d2aa3eda-dda2-4737-9b41-10d87e34629e": {
     "views": [
      {
       "cell_index": 3
      }
     ]
    },
    "dbbac7e3-d30d-4c99-96fe-ebc832196fd5": {
     "views": [
      {
       "cell_index": 3
      }
     ]
    },
    "e5c5a814-7aac-471e-a8df-9236292752d9": {
     "views": [
      {
       "cell_index": 3
      }
     ]
    },
    "e6ec3e13-f964-4411-ac98-f0509f9737dd": {
     "views": [
      {
       "cell_index": 5
      }
     ]
    },
    "e7322e70-5818-479f-a32b-67e9e403f81a": {
     "views": [
      {
       "cell_index": 3
      }
     ]
    },
    "efbda263-2e14-49fe-a531-19b570abf767": {
     "views": [
      {
       "cell_index": 3
      }
     ]
    },
    "f6705766-d6d7-4054-a781-ddfb0187a158": {
     "views": [
      {
       "cell_index": 4
      }
     ]
    },
    "fb9b5353-1d2b-47b4-b710-0b8679b86b19": {
     "views": [
      {
       "cell_index": 4
      }
     ]
    },
    "ffe36445-99e9-40c0-9084-8a19a74ea247": {
     "views": [
      {
       "cell_index": 3
      }
     ]
    }
   },
   "version": "1.2.0"
  }
 },
 "nbformat": 4,
 "nbformat_minor": 0
}
