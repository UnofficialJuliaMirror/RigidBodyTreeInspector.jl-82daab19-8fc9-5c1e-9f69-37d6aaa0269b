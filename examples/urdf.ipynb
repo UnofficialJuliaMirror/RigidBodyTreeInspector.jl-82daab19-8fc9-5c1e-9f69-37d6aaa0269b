{
 "cells": [
  {
   "cell_type": "code",
   "execution_count": 1,
   "metadata": {
    "collapsed": false
   },
   "outputs": [
    {
     "data": {
      "text/html": [
       "<div id=\"interact-js-shim\">\n",
       "    <script charset=\"utf-8\">\n",
       "(function (IPython, $, _, MathJax) {\n",
       "    $.event.special.destroyed = {\n",
       "\tremove: function(o) {\n",
       "\t    if (o.handler) {\n",
       "\t\to.handler.apply(this, arguments)\n",
       "\t    }\n",
       "\t}\n",
       "    }\n",
       "\n",
       "    var OutputArea = IPython.version >= \"4.0.0\" ? require(\"notebook/js/outputarea\").OutputArea : IPython.OutputArea;\n",
       "\n",
       "    var redrawValue = function (container, type, val) {\n",
       "\tvar selector = $(\"<div/>\");\n",
       "\tvar oa = new OutputArea(_.extend(selector, {\n",
       "\t    selector: selector,\n",
       "\t    prompt_area: true,\n",
       "\t    events: IPython.events,\n",
       "\t    keyboard_manager: IPython.keyboard_manager\n",
       "\t})); // Hack to work with IPython 2.1.0\n",
       "\n",
       "\tswitch (type) {\n",
       "\tcase \"image/png\":\n",
       "            var _src = 'data:' + type + ';base64,' + val;\n",
       "\t    $(container).find(\"img\").attr('src', _src);\n",
       "\t    break;\n",
       "\tdefault:\n",
       "\t    var toinsert = OutputArea.append_map[type].apply(\n",
       "\t\toa, [val, {}, selector]\n",
       "\t    );\n",
       "\t    $(container).empty().append(toinsert.contents());\n",
       "\t    selector.remove();\n",
       "\t}\n",
       "\tif (type === \"text/latex\" && MathJax) {\n",
       "\t    MathJax.Hub.Queue([\"Typeset\", MathJax.Hub, toinsert.get(0)]);\n",
       "\t}\n",
       "    }\n",
       "\n",
       "\n",
       "    $(document).ready(function() {\n",
       "\tfunction initComm(evt, data) {\n",
       "\t    var comm_manager = data.kernel.comm_manager;\n",
       "        //_.extend(comm_manager.targets, require(\"widgets/js/widget\"))\n",
       "\t    comm_manager.register_target(\"Signal\", function (comm) {\n",
       "            comm.on_msg(function (msg) {\n",
       "                //Widgets.log(\"message received\", msg);\n",
       "                var val = msg.content.data.value;\n",
       "                $(\".signal-\" + comm.comm_id).each(function() {\n",
       "                var type = $(this).data(\"type\");\n",
       "                if (val[type]) {\n",
       "                    redrawValue(this, type, val[type], type);\n",
       "                }\n",
       "                });\n",
       "                delete val;\n",
       "                delete msg.content.data.value;\n",
       "            });\n",
       "\t    });\n",
       "\n",
       "\t    // coordingate with Comm and redraw Signals\n",
       "\t    // XXX: Test using Reactive here to improve performance\n",
       "\t    $([IPython.events]).on(\n",
       "\t\t'output_appended.OutputArea', function (event, type, value, md, toinsert) {\n",
       "\t\t    if (md && md.reactive) {\n",
       "                // console.log(md.comm_id);\n",
       "                toinsert.addClass(\"signal-\" + md.comm_id);\n",
       "                toinsert.data(\"type\", type);\n",
       "                // Signal back indicating the mimetype required\n",
       "                var comm_manager = IPython.notebook.kernel.comm_manager;\n",
       "                var comm = comm_manager.comms[md.comm_id];\n",
       "                comm.then(function (c) {\n",
       "                    c.send({action: \"subscribe_mime\",\n",
       "                       mime: type});\n",
       "                    toinsert.bind(\"destroyed\", function() {\n",
       "                        c.send({action: \"unsubscribe_mime\",\n",
       "                               mime: type});\n",
       "                    });\n",
       "                })\n",
       "\t\t    }\n",
       "\t    });\n",
       "\t}\n",
       "\n",
       "\ttry {\n",
       "\t    // try to initialize right away. otherwise, wait on the status_started event.\n",
       "\t    initComm(undefined, IPython.notebook);\n",
       "\t} catch (e) {\n",
       "\t    $([IPython.events]).on('kernel_created.Kernel kernel_created.Session', initComm);\n",
       "\t}\n",
       "    });\n",
       "})(IPython, jQuery, _, MathJax);\n",
       "</script>\n",
       "    <script>\n",
       "        window.interactLoadedFlag = true\n",
       "       $(\"#interact-js-shim\").bind(\"destroyed\", function () {\n",
       "           if (window.interactLoadedFlag) {\n",
       "               console.warn(\"JavaScript required by Interact will be removed if you remove this cell or run using Interact more than once.\")\n",
       "           }\n",
       "       })\n",
       "       $([IPython.events]).on(\"kernel_starting.Kernel kernel_restarting.Kernel\", function () { window.interactLoadedFlag = false })\n",
       "   </script>\n",
       "</div>"
      ]
     },
     "metadata": {},
     "output_type": "display_data"
    },
    {
     "name": "stderr",
     "output_type": "stream",
     "text": [
      "WARNING: Base.writemime is deprecated.\n",
      "  likely near /home/rdeits/locomotion/explorations/RigidBodyTreeInspector/packages/v0.5/Interact/src/IJulia/setup.jl:116\n",
      "WARNING: Base.writemime is deprecated.\n",
      "  likely near /home/rdeits/locomotion/explorations/RigidBodyTreeInspector/packages/v0.5/Interact/src/IJulia/setup.jl:116\n"
     ]
    }
   ],
   "source": [
    "using RigidBodyTreeInspector\n",
    "using RigidBodyDynamics"
   ]
  },
  {
   "cell_type": "code",
   "execution_count": 2,
   "metadata": {
    "collapsed": false,
    "scrolled": false
   },
   "outputs": [],
   "source": [
    "# Let's construct a mechanism by loading a URDF\n",
    "urdf = \"/home/rdeits/locomotion/drake/drake/examples/Valkyrie/urdf/urdf/valkyrie_A_sim_drake_one_neck_dof_wide_ankle_rom.urdf\"\n",
    "# urdf = \"/home/rdeits/locomotion/drake/drake/examples/Atlas/urdf/atlas_minimal_contact.urdf\"\n",
    "mechanism = RigidBodyDynamics.parse_urdf(Float64, urdf);"
   ]
  },
  {
   "cell_type": "code",
   "execution_count": 3,
   "metadata": {
    "collapsed": false
   },
   "outputs": [
    {
     "data": {
      "text/html": [],
      "text/plain": [
       "Interact.Slider{Float64}(Signal{Float64}(0.0, nactions=0),\"torsoYaw.1\",0.0,linspace(-3.141592653589793,3.141592653589793,51),\".3f\",true)"
      ]
     },
     "metadata": {},
     "output_type": "display_data"
    },
    {
     "data": {
      "text/html": [],
      "text/plain": [
       "Interact.Slider{Float64}(Signal{Float64}(0.0, nactions=0),\"torsoPitch.1\",0.0,linspace(-3.141592653589793,3.141592653589793,51),\".3f\",true)"
      ]
     },
     "metadata": {},
     "output_type": "display_data"
    },
    {
     "data": {
      "text/html": [],
      "text/plain": [
       "Interact.Slider{Float64}(Signal{Float64}(0.0, nactions=0),\"torsoRoll.1\",0.0,linspace(-3.141592653589793,3.141592653589793,51),\".3f\",true)"
      ]
     },
     "metadata": {},
     "output_type": "display_data"
    },
    {
     "data": {
      "text/html": [],
      "text/plain": [
       "Interact.Slider{Float64}(Signal{Float64}(0.0, nactions=0),\"lowerNeckPitch.1\",0.0,linspace(-3.141592653589793,3.141592653589793,51),\".3f\",true)"
      ]
     },
     "metadata": {},
     "output_type": "display_data"
    },
    {
     "data": {
      "text/html": [],
      "text/plain": [
       "Interact.Slider{Float64}(Signal{Float64}(0.0, nactions=0),\"rightShoulderPitch.1\",0.0,linspace(-3.141592653589793,3.141592653589793,51),\".3f\",true)"
      ]
     },
     "metadata": {},
     "output_type": "display_data"
    },
    {
     "data": {
      "text/html": [],
      "text/plain": [
       "Interact.Slider{Float64}(Signal{Float64}(0.0, nactions=0),\"rightShoulderRoll.1\",0.0,linspace(-3.141592653589793,3.141592653589793,51),\".3f\",true)"
      ]
     },
     "metadata": {},
     "output_type": "display_data"
    },
    {
     "data": {
      "text/html": [],
      "text/plain": [
       "Interact.Slider{Float64}(Signal{Float64}(0.0, nactions=0),\"rightShoulderYaw.1\",0.0,linspace(-3.141592653589793,3.141592653589793,51),\".3f\",true)"
      ]
     },
     "metadata": {},
     "output_type": "display_data"
    },
    {
     "data": {
      "text/html": [],
      "text/plain": [
       "Interact.Slider{Float64}(Signal{Float64}(0.0, nactions=0),\"rightElbowPitch.1\",0.0,linspace(-3.141592653589793,3.141592653589793,51),\".3f\",true)"
      ]
     },
     "metadata": {},
     "output_type": "display_data"
    },
    {
     "data": {
      "text/html": [],
      "text/plain": [
       "Interact.Slider{Float64}(Signal{Float64}(0.0, nactions=0),\"rightForearmYaw.1\",0.0,linspace(-3.141592653589793,3.141592653589793,51),\".3f\",true)"
      ]
     },
     "metadata": {},
     "output_type": "display_data"
    },
    {
     "data": {
      "text/html": [],
      "text/plain": [
       "Interact.Slider{Float64}(Signal{Float64}(0.0, nactions=0),\"rightWristRoll.1\",0.0,linspace(-3.141592653589793,3.141592653589793,51),\".3f\",true)"
      ]
     },
     "metadata": {},
     "output_type": "display_data"
    },
    {
     "data": {
      "text/html": [],
      "text/plain": [
       "Interact.Slider{Float64}(Signal{Float64}(0.0, nactions=0),\"rightWristPitch.1\",0.0,linspace(-3.141592653589793,3.141592653589793,51),\".3f\",true)"
      ]
     },
     "metadata": {},
     "output_type": "display_data"
    },
    {
     "data": {
      "text/html": [],
      "text/plain": [
       "Interact.Slider{Float64}(Signal{Float64}(0.0, nactions=0),\"leftShoulderPitch.1\",0.0,linspace(-3.141592653589793,3.141592653589793,51),\".3f\",true)"
      ]
     },
     "metadata": {},
     "output_type": "display_data"
    },
    {
     "data": {
      "text/html": [],
      "text/plain": [
       "Interact.Slider{Float64}(Signal{Float64}(0.0, nactions=0),\"leftShoulderRoll.1\",0.0,linspace(-3.141592653589793,3.141592653589793,51),\".3f\",true)"
      ]
     },
     "metadata": {},
     "output_type": "display_data"
    },
    {
     "data": {
      "text/html": [],
      "text/plain": [
       "Interact.Slider{Float64}(Signal{Float64}(0.0, nactions=0),\"leftShoulderYaw.1\",0.0,linspace(-3.141592653589793,3.141592653589793,51),\".3f\",true)"
      ]
     },
     "metadata": {},
     "output_type": "display_data"
    },
    {
     "data": {
      "text/html": [],
      "text/plain": [
       "Interact.Slider{Float64}(Signal{Float64}(0.0, nactions=0),\"leftElbowPitch.1\",0.0,linspace(-3.141592653589793,3.141592653589793,51),\".3f\",true)"
      ]
     },
     "metadata": {},
     "output_type": "display_data"
    },
    {
     "data": {
      "text/html": [],
      "text/plain": [
       "Interact.Slider{Float64}(Signal{Float64}(0.0, nactions=0),\"leftForearmYaw.1\",0.0,linspace(-3.141592653589793,3.141592653589793,51),\".3f\",true)"
      ]
     },
     "metadata": {},
     "output_type": "display_data"
    },
    {
     "data": {
      "text/html": [],
      "text/plain": [
       "Interact.Slider{Float64}(Signal{Float64}(0.0, nactions=0),\"leftWristRoll.1\",0.0,linspace(-3.141592653589793,3.141592653589793,51),\".3f\",true)"
      ]
     },
     "metadata": {},
     "output_type": "display_data"
    },
    {
     "data": {
      "text/html": [],
      "text/plain": [
       "Interact.Slider{Float64}(Signal{Float64}(0.0, nactions=0),\"leftWristPitch.1\",0.0,linspace(-3.141592653589793,3.141592653589793,51),\".3f\",true)"
      ]
     },
     "metadata": {},
     "output_type": "display_data"
    },
    {
     "data": {
      "text/html": [],
      "text/plain": [
       "Interact.Slider{Float64}(Signal{Float64}(0.0, nactions=0),\"rightHipYaw.1\",0.0,linspace(-3.141592653589793,3.141592653589793,51),\".3f\",true)"
      ]
     },
     "metadata": {},
     "output_type": "display_data"
    },
    {
     "data": {
      "text/html": [],
      "text/plain": [
       "Interact.Slider{Float64}(Signal{Float64}(0.0, nactions=0),\"rightHipRoll.1\",0.0,linspace(-3.141592653589793,3.141592653589793,51),\".3f\",true)"
      ]
     },
     "metadata": {},
     "output_type": "display_data"
    },
    {
     "data": {
      "text/html": [],
      "text/plain": [
       "Interact.Slider{Float64}(Signal{Float64}(0.0, nactions=0),\"rightHipPitch.1\",0.0,linspace(-3.141592653589793,3.141592653589793,51),\".3f\",true)"
      ]
     },
     "metadata": {},
     "output_type": "display_data"
    },
    {
     "data": {
      "text/html": [],
      "text/plain": [
       "Interact.Slider{Float64}(Signal{Float64}(0.0, nactions=0),\"rightKneePitch.1\",0.0,linspace(-3.141592653589793,3.141592653589793,51),\".3f\",true)"
      ]
     },
     "metadata": {},
     "output_type": "display_data"
    },
    {
     "data": {
      "text/html": [],
      "text/plain": [
       "Interact.Slider{Float64}(Signal{Float64}(0.0, nactions=0),\"rightAnklePitch.1\",0.0,linspace(-3.141592653589793,3.141592653589793,51),\".3f\",true)"
      ]
     },
     "metadata": {},
     "output_type": "display_data"
    },
    {
     "data": {
      "text/html": [],
      "text/plain": [
       "Interact.Slider{Float64}(Signal{Float64}(0.0, nactions=0),\"rightAnkleRoll.1\",0.0,linspace(-3.141592653589793,3.141592653589793,51),\".3f\",true)"
      ]
     },
     "metadata": {},
     "output_type": "display_data"
    },
    {
     "data": {
      "text/html": [],
      "text/plain": [
       "Interact.Slider{Float64}(Signal{Float64}(0.0, nactions=0),\"leftHipYaw.1\",0.0,linspace(-3.141592653589793,3.141592653589793,51),\".3f\",true)"
      ]
     },
     "metadata": {},
     "output_type": "display_data"
    },
    {
     "data": {
      "text/html": [],
      "text/plain": [
       "Interact.Slider{Float64}(Signal{Float64}(0.0, nactions=0),\"leftHipRoll.1\",0.0,linspace(-3.141592653589793,3.141592653589793,51),\".3f\",true)"
      ]
     },
     "metadata": {},
     "output_type": "display_data"
    },
    {
     "data": {
      "text/html": [],
      "text/plain": [
       "Interact.Slider{Float64}(Signal{Float64}(0.0, nactions=0),\"leftHipPitch.1\",0.0,linspace(-3.141592653589793,3.141592653589793,51),\".3f\",true)"
      ]
     },
     "metadata": {},
     "output_type": "display_data"
    },
    {
     "data": {
      "text/html": [],
      "text/plain": [
       "Interact.Slider{Float64}(Signal{Float64}(0.0, nactions=0),\"leftKneePitch.1\",0.0,linspace(-3.141592653589793,3.141592653589793,51),\".3f\",true)"
      ]
     },
     "metadata": {},
     "output_type": "display_data"
    },
    {
     "data": {
      "text/html": [],
      "text/plain": [
       "Interact.Slider{Float64}(Signal{Float64}(0.0, nactions=0),\"leftAnklePitch.1\",0.0,linspace(-3.141592653589793,3.141592653589793,51),\".3f\",true)"
      ]
     },
     "metadata": {},
     "output_type": "display_data"
    },
    {
     "data": {
      "text/html": [],
      "text/plain": [
       "Interact.Slider{Float64}(Signal{Float64}(0.0, nactions=0),\"leftAnkleRoll.1\",0.0,linspace(-3.141592653589793,3.141592653589793,51),\".3f\",true)"
      ]
     },
     "metadata": {},
     "output_type": "display_data"
    },
    {
     "data": {
      "text/plain": [
       "nothing"
      ]
     },
     "execution_count": 3,
     "metadata": {
      "comm_id": "2fd4b964-db77-4159-a5a3-1c1f235070de",
      "reactive": true
     },
     "output_type": "execute_result"
    }
   ],
   "source": [
    "# We can visualize the kinematic structure `of the robot just by inspecting it:\n",
    "inspect(mechanism)"
   ]
  },
  {
   "cell_type": "code",
   "execution_count": 4,
   "metadata": {
    "collapsed": false
   },
   "outputs": [
    {
     "data": {
      "text/html": [],
      "text/plain": [
       "Interact.Slider{Float64}(Signal{Float64}(0.0, nactions=0),\"torsoYaw.1\",0.0,linspace(-3.141592653589793,3.141592653589793,51),\".3f\",true)"
      ]
     },
     "metadata": {},
     "output_type": "display_data"
    },
    {
     "data": {
      "text/html": [],
      "text/plain": [
       "Interact.Slider{Float64}(Signal{Float64}(0.0, nactions=0),\"torsoPitch.1\",0.0,linspace(-3.141592653589793,3.141592653589793,51),\".3f\",true)"
      ]
     },
     "metadata": {},
     "output_type": "display_data"
    },
    {
     "data": {
      "text/html": [],
      "text/plain": [
       "Interact.Slider{Float64}(Signal{Float64}(0.0, nactions=0),\"torsoRoll.1\",0.0,linspace(-3.141592653589793,3.141592653589793,51),\".3f\",true)"
      ]
     },
     "metadata": {},
     "output_type": "display_data"
    },
    {
     "data": {
      "text/html": [],
      "text/plain": [
       "Interact.Slider{Float64}(Signal{Float64}(0.0, nactions=0),\"lowerNeckPitch.1\",0.0,linspace(-3.141592653589793,3.141592653589793,51),\".3f\",true)"
      ]
     },
     "metadata": {},
     "output_type": "display_data"
    },
    {
     "data": {
      "text/html": [],
      "text/plain": [
       "Interact.Slider{Float64}(Signal{Float64}(0.0, nactions=0),\"rightShoulderPitch.1\",0.0,linspace(-3.141592653589793,3.141592653589793,51),\".3f\",true)"
      ]
     },
     "metadata": {},
     "output_type": "display_data"
    },
    {
     "data": {
      "text/html": [],
      "text/plain": [
       "Interact.Slider{Float64}(Signal{Float64}(0.0, nactions=0),\"rightShoulderRoll.1\",0.0,linspace(-3.141592653589793,3.141592653589793,51),\".3f\",true)"
      ]
     },
     "metadata": {},
     "output_type": "display_data"
    },
    {
     "data": {
      "text/html": [],
      "text/plain": [
       "Interact.Slider{Float64}(Signal{Float64}(0.0, nactions=0),\"rightShoulderYaw.1\",0.0,linspace(-3.141592653589793,3.141592653589793,51),\".3f\",true)"
      ]
     },
     "metadata": {},
     "output_type": "display_data"
    },
    {
     "data": {
      "text/html": [],
      "text/plain": [
       "Interact.Slider{Float64}(Signal{Float64}(0.0, nactions=0),\"rightElbowPitch.1\",0.0,linspace(-3.141592653589793,3.141592653589793,51),\".3f\",true)"
      ]
     },
     "metadata": {},
     "output_type": "display_data"
    },
    {
     "data": {
      "text/html": [],
      "text/plain": [
       "Interact.Slider{Float64}(Signal{Float64}(0.0, nactions=0),\"rightForearmYaw.1\",0.0,linspace(-3.141592653589793,3.141592653589793,51),\".3f\",true)"
      ]
     },
     "metadata": {},
     "output_type": "display_data"
    },
    {
     "data": {
      "text/html": [],
      "text/plain": [
       "Interact.Slider{Float64}(Signal{Float64}(0.0, nactions=0),\"rightWristRoll.1\",0.0,linspace(-3.141592653589793,3.141592653589793,51),\".3f\",true)"
      ]
     },
     "metadata": {},
     "output_type": "display_data"
    },
    {
     "data": {
      "text/html": [],
      "text/plain": [
       "Interact.Slider{Float64}(Signal{Float64}(0.0, nactions=0),\"rightWristPitch.1\",0.0,linspace(-3.141592653589793,3.141592653589793,51),\".3f\",true)"
      ]
     },
     "metadata": {},
     "output_type": "display_data"
    },
    {
     "data": {
      "text/html": [],
      "text/plain": [
       "Interact.Slider{Float64}(Signal{Float64}(0.0, nactions=0),\"leftShoulderPitch.1\",0.0,linspace(-3.141592653589793,3.141592653589793,51),\".3f\",true)"
      ]
     },
     "metadata": {},
     "output_type": "display_data"
    },
    {
     "data": {
      "text/html": [],
      "text/plain": [
       "Interact.Slider{Float64}(Signal{Float64}(0.0, nactions=0),\"leftShoulderRoll.1\",0.0,linspace(-3.141592653589793,3.141592653589793,51),\".3f\",true)"
      ]
     },
     "metadata": {},
     "output_type": "display_data"
    },
    {
     "data": {
      "text/html": [],
      "text/plain": [
       "Interact.Slider{Float64}(Signal{Float64}(0.0, nactions=0),\"leftShoulderYaw.1\",0.0,linspace(-3.141592653589793,3.141592653589793,51),\".3f\",true)"
      ]
     },
     "metadata": {},
     "output_type": "display_data"
    },
    {
     "data": {
      "text/html": [],
      "text/plain": [
       "Interact.Slider{Float64}(Signal{Float64}(0.0, nactions=0),\"leftElbowPitch.1\",0.0,linspace(-3.141592653589793,3.141592653589793,51),\".3f\",true)"
      ]
     },
     "metadata": {},
     "output_type": "display_data"
    },
    {
     "data": {
      "text/html": [],
      "text/plain": [
       "Interact.Slider{Float64}(Signal{Float64}(0.0, nactions=0),\"leftForearmYaw.1\",0.0,linspace(-3.141592653589793,3.141592653589793,51),\".3f\",true)"
      ]
     },
     "metadata": {},
     "output_type": "display_data"
    },
    {
     "data": {
      "text/html": [],
      "text/plain": [
       "Interact.Slider{Float64}(Signal{Float64}(0.0, nactions=0),\"leftWristRoll.1\",0.0,linspace(-3.141592653589793,3.141592653589793,51),\".3f\",true)"
      ]
     },
     "metadata": {},
     "output_type": "display_data"
    },
    {
     "data": {
      "text/html": [],
      "text/plain": [
       "Interact.Slider{Float64}(Signal{Float64}(0.0, nactions=0),\"leftWristPitch.1\",0.0,linspace(-3.141592653589793,3.141592653589793,51),\".3f\",true)"
      ]
     },
     "metadata": {},
     "output_type": "display_data"
    },
    {
     "data": {
      "text/html": [],
      "text/plain": [
       "Interact.Slider{Float64}(Signal{Float64}(0.0, nactions=0),\"rightHipYaw.1\",0.0,linspace(-3.141592653589793,3.141592653589793,51),\".3f\",true)"
      ]
     },
     "metadata": {},
     "output_type": "display_data"
    },
    {
     "data": {
      "text/html": [],
      "text/plain": [
       "Interact.Slider{Float64}(Signal{Float64}(0.0, nactions=0),\"rightHipRoll.1\",0.0,linspace(-3.141592653589793,3.141592653589793,51),\".3f\",true)"
      ]
     },
     "metadata": {},
     "output_type": "display_data"
    },
    {
     "data": {
      "text/html": [],
      "text/plain": [
       "Interact.Slider{Float64}(Signal{Float64}(0.0, nactions=0),\"rightHipPitch.1\",0.0,linspace(-3.141592653589793,3.141592653589793,51),\".3f\",true)"
      ]
     },
     "metadata": {},
     "output_type": "display_data"
    },
    {
     "data": {
      "text/html": [],
      "text/plain": [
       "Interact.Slider{Float64}(Signal{Float64}(0.0, nactions=0),\"rightKneePitch.1\",0.0,linspace(-3.141592653589793,3.141592653589793,51),\".3f\",true)"
      ]
     },
     "metadata": {},
     "output_type": "display_data"
    },
    {
     "data": {
      "text/html": [],
      "text/plain": [
       "Interact.Slider{Float64}(Signal{Float64}(0.0, nactions=0),\"rightAnklePitch.1\",0.0,linspace(-3.141592653589793,3.141592653589793,51),\".3f\",true)"
      ]
     },
     "metadata": {},
     "output_type": "display_data"
    },
    {
     "data": {
      "text/html": [],
      "text/plain": [
       "Interact.Slider{Float64}(Signal{Float64}(0.0, nactions=0),\"rightAnkleRoll.1\",0.0,linspace(-3.141592653589793,3.141592653589793,51),\".3f\",true)"
      ]
     },
     "metadata": {},
     "output_type": "display_data"
    },
    {
     "data": {
      "text/html": [],
      "text/plain": [
       "Interact.Slider{Float64}(Signal{Float64}(0.0, nactions=0),\"leftHipYaw.1\",0.0,linspace(-3.141592653589793,3.141592653589793,51),\".3f\",true)"
      ]
     },
     "metadata": {},
     "output_type": "display_data"
    },
    {
     "data": {
      "text/html": [],
      "text/plain": [
       "Interact.Slider{Float64}(Signal{Float64}(0.0, nactions=0),\"leftHipRoll.1\",0.0,linspace(-3.141592653589793,3.141592653589793,51),\".3f\",true)"
      ]
     },
     "metadata": {},
     "output_type": "display_data"
    },
    {
     "data": {
      "text/html": [],
      "text/plain": [
       "Interact.Slider{Float64}(Signal{Float64}(0.0, nactions=0),\"leftHipPitch.1\",0.0,linspace(-3.141592653589793,3.141592653589793,51),\".3f\",true)"
      ]
     },
     "metadata": {},
     "output_type": "display_data"
    },
    {
     "data": {
      "text/html": [],
      "text/plain": [
       "Interact.Slider{Float64}(Signal{Float64}(0.0, nactions=0),\"leftKneePitch.1\",0.0,linspace(-3.141592653589793,3.141592653589793,51),\".3f\",true)"
      ]
     },
     "metadata": {},
     "output_type": "display_data"
    },
    {
     "data": {
      "text/html": [],
      "text/plain": [
       "Interact.Slider{Float64}(Signal{Float64}(0.0, nactions=0),\"leftAnklePitch.1\",0.0,linspace(-3.141592653589793,3.141592653589793,51),\".3f\",true)"
      ]
     },
     "metadata": {},
     "output_type": "display_data"
    },
    {
     "data": {
      "text/html": [],
      "text/plain": [
       "Interact.Slider{Float64}(Signal{Float64}(0.0, nactions=0),\"leftAnkleRoll.1\",0.0,linspace(-3.141592653589793,3.141592653589793,51),\".3f\",true)"
      ]
     },
     "metadata": {},
     "output_type": "display_data"
    },
    {
     "data": {
      "text/plain": [
       "nothing"
      ]
     },
     "execution_count": 4,
     "metadata": {
      "comm_id": "bfeda732-f3bd-4caa-b55a-167b309f25c9",
      "reactive": true
     },
     "output_type": "execute_result"
    }
   ],
   "source": [
    "# And we can also show the inertias of each link, visualized as\n",
    "# ellipsoids of equivalent mass and inertia\n",
    "inspect(mechanism; show_inertias=true)"
   ]
  },
  {
   "cell_type": "code",
   "execution_count": 5,
   "metadata": {
    "collapsed": false
   },
   "outputs": [
    {
     "data": {
      "text/html": [],
      "text/plain": [
       "Interact.Slider{Float64}(Signal{Float64}(0.0, nactions=0),\"torsoYaw.1\",0.0,linspace(-3.141592653589793,3.141592653589793,51),\".3f\",true)"
      ]
     },
     "metadata": {},
     "output_type": "display_data"
    },
    {
     "data": {
      "text/html": [],
      "text/plain": [
       "Interact.Slider{Float64}(Signal{Float64}(0.0, nactions=0),\"torsoPitch.1\",0.0,linspace(-3.141592653589793,3.141592653589793,51),\".3f\",true)"
      ]
     },
     "metadata": {},
     "output_type": "display_data"
    },
    {
     "data": {
      "text/html": [],
      "text/plain": [
       "Interact.Slider{Float64}(Signal{Float64}(0.0, nactions=0),\"torsoRoll.1\",0.0,linspace(-3.141592653589793,3.141592653589793,51),\".3f\",true)"
      ]
     },
     "metadata": {},
     "output_type": "display_data"
    },
    {
     "data": {
      "text/html": [],
      "text/plain": [
       "Interact.Slider{Float64}(Signal{Float64}(0.0, nactions=0),\"lowerNeckPitch.1\",0.0,linspace(-3.141592653589793,3.141592653589793,51),\".3f\",true)"
      ]
     },
     "metadata": {},
     "output_type": "display_data"
    },
    {
     "data": {
      "text/html": [],
      "text/plain": [
       "Interact.Slider{Float64}(Signal{Float64}(0.0, nactions=0),\"rightShoulderPitch.1\",0.0,linspace(-3.141592653589793,3.141592653589793,51),\".3f\",true)"
      ]
     },
     "metadata": {},
     "output_type": "display_data"
    },
    {
     "data": {
      "text/html": [],
      "text/plain": [
       "Interact.Slider{Float64}(Signal{Float64}(0.0, nactions=0),\"rightShoulderRoll.1\",0.0,linspace(-3.141592653589793,3.141592653589793,51),\".3f\",true)"
      ]
     },
     "metadata": {},
     "output_type": "display_data"
    },
    {
     "data": {
      "text/html": [],
      "text/plain": [
       "Interact.Slider{Float64}(Signal{Float64}(0.0, nactions=0),\"rightShoulderYaw.1\",0.0,linspace(-3.141592653589793,3.141592653589793,51),\".3f\",true)"
      ]
     },
     "metadata": {},
     "output_type": "display_data"
    },
    {
     "data": {
      "text/html": [],
      "text/plain": [
       "Interact.Slider{Float64}(Signal{Float64}(0.0, nactions=0),\"rightElbowPitch.1\",0.0,linspace(-3.141592653589793,3.141592653589793,51),\".3f\",true)"
      ]
     },
     "metadata": {},
     "output_type": "display_data"
    },
    {
     "data": {
      "text/html": [],
      "text/plain": [
       "Interact.Slider{Float64}(Signal{Float64}(0.0, nactions=0),\"rightForearmYaw.1\",0.0,linspace(-3.141592653589793,3.141592653589793,51),\".3f\",true)"
      ]
     },
     "metadata": {},
     "output_type": "display_data"
    },
    {
     "data": {
      "text/html": [],
      "text/plain": [
       "Interact.Slider{Float64}(Signal{Float64}(0.0, nactions=0),\"rightWristRoll.1\",0.0,linspace(-3.141592653589793,3.141592653589793,51),\".3f\",true)"
      ]
     },
     "metadata": {},
     "output_type": "display_data"
    },
    {
     "data": {
      "text/html": [],
      "text/plain": [
       "Interact.Slider{Float64}(Signal{Float64}(0.0, nactions=0),\"rightWristPitch.1\",0.0,linspace(-3.141592653589793,3.141592653589793,51),\".3f\",true)"
      ]
     },
     "metadata": {},
     "output_type": "display_data"
    },
    {
     "data": {
      "text/html": [],
      "text/plain": [
       "Interact.Slider{Float64}(Signal{Float64}(0.0, nactions=0),\"leftShoulderPitch.1\",0.0,linspace(-3.141592653589793,3.141592653589793,51),\".3f\",true)"
      ]
     },
     "metadata": {},
     "output_type": "display_data"
    },
    {
     "data": {
      "text/html": [],
      "text/plain": [
       "Interact.Slider{Float64}(Signal{Float64}(0.0, nactions=0),\"leftShoulderRoll.1\",0.0,linspace(-3.141592653589793,3.141592653589793,51),\".3f\",true)"
      ]
     },
     "metadata": {},
     "output_type": "display_data"
    },
    {
     "data": {
      "text/html": [],
      "text/plain": [
       "Interact.Slider{Float64}(Signal{Float64}(0.0, nactions=0),\"leftShoulderYaw.1\",0.0,linspace(-3.141592653589793,3.141592653589793,51),\".3f\",true)"
      ]
     },
     "metadata": {},
     "output_type": "display_data"
    },
    {
     "data": {
      "text/html": [],
      "text/plain": [
       "Interact.Slider{Float64}(Signal{Float64}(0.0, nactions=0),\"leftElbowPitch.1\",0.0,linspace(-3.141592653589793,3.141592653589793,51),\".3f\",true)"
      ]
     },
     "metadata": {},
     "output_type": "display_data"
    },
    {
     "data": {
      "text/html": [],
      "text/plain": [
       "Interact.Slider{Float64}(Signal{Float64}(0.0, nactions=0),\"leftForearmYaw.1\",0.0,linspace(-3.141592653589793,3.141592653589793,51),\".3f\",true)"
      ]
     },
     "metadata": {},
     "output_type": "display_data"
    },
    {
     "data": {
      "text/html": [],
      "text/plain": [
       "Interact.Slider{Float64}(Signal{Float64}(0.0, nactions=0),\"leftWristRoll.1\",0.0,linspace(-3.141592653589793,3.141592653589793,51),\".3f\",true)"
      ]
     },
     "metadata": {},
     "output_type": "display_data"
    },
    {
     "data": {
      "text/html": [],
      "text/plain": [
       "Interact.Slider{Float64}(Signal{Float64}(0.0, nactions=0),\"leftWristPitch.1\",0.0,linspace(-3.141592653589793,3.141592653589793,51),\".3f\",true)"
      ]
     },
     "metadata": {},
     "output_type": "display_data"
    },
    {
     "data": {
      "text/html": [],
      "text/plain": [
       "Interact.Slider{Float64}(Signal{Float64}(0.0, nactions=0),\"rightHipYaw.1\",0.0,linspace(-3.141592653589793,3.141592653589793,51),\".3f\",true)"
      ]
     },
     "metadata": {},
     "output_type": "display_data"
    },
    {
     "data": {
      "text/html": [],
      "text/plain": [
       "Interact.Slider{Float64}(Signal{Float64}(0.0, nactions=0),\"rightHipRoll.1\",0.0,linspace(-3.141592653589793,3.141592653589793,51),\".3f\",true)"
      ]
     },
     "metadata": {},
     "output_type": "display_data"
    },
    {
     "data": {
      "text/html": [],
      "text/plain": [
       "Interact.Slider{Float64}(Signal{Float64}(0.0, nactions=0),\"rightHipPitch.1\",0.0,linspace(-3.141592653589793,3.141592653589793,51),\".3f\",true)"
      ]
     },
     "metadata": {},
     "output_type": "display_data"
    },
    {
     "data": {
      "text/html": [],
      "text/plain": [
       "Interact.Slider{Float64}(Signal{Float64}(0.0, nactions=0),\"rightKneePitch.1\",0.0,linspace(-3.141592653589793,3.141592653589793,51),\".3f\",true)"
      ]
     },
     "metadata": {},
     "output_type": "display_data"
    },
    {
     "data": {
      "text/html": [],
      "text/plain": [
       "Interact.Slider{Float64}(Signal{Float64}(0.0, nactions=0),\"rightAnklePitch.1\",0.0,linspace(-3.141592653589793,3.141592653589793,51),\".3f\",true)"
      ]
     },
     "metadata": {},
     "output_type": "display_data"
    },
    {
     "data": {
      "text/html": [],
      "text/plain": [
       "Interact.Slider{Float64}(Signal{Float64}(0.0, nactions=0),\"rightAnkleRoll.1\",0.0,linspace(-3.141592653589793,3.141592653589793,51),\".3f\",true)"
      ]
     },
     "metadata": {},
     "output_type": "display_data"
    },
    {
     "data": {
      "text/html": [],
      "text/plain": [
       "Interact.Slider{Float64}(Signal{Float64}(0.0, nactions=0),\"leftHipYaw.1\",0.0,linspace(-3.141592653589793,3.141592653589793,51),\".3f\",true)"
      ]
     },
     "metadata": {},
     "output_type": "display_data"
    },
    {
     "data": {
      "text/html": [],
      "text/plain": [
       "Interact.Slider{Float64}(Signal{Float64}(0.0, nactions=0),\"leftHipRoll.1\",0.0,linspace(-3.141592653589793,3.141592653589793,51),\".3f\",true)"
      ]
     },
     "metadata": {},
     "output_type": "display_data"
    },
    {
     "data": {
      "text/html": [],
      "text/plain": [
       "Interact.Slider{Float64}(Signal{Float64}(0.0, nactions=0),\"leftHipPitch.1\",0.0,linspace(-3.141592653589793,3.141592653589793,51),\".3f\",true)"
      ]
     },
     "metadata": {},
     "output_type": "display_data"
    },
    {
     "data": {
      "text/html": [],
      "text/plain": [
       "Interact.Slider{Float64}(Signal{Float64}(0.0, nactions=0),\"leftKneePitch.1\",0.0,linspace(-3.141592653589793,3.141592653589793,51),\".3f\",true)"
      ]
     },
     "metadata": {},
     "output_type": "display_data"
    },
    {
     "data": {
      "text/html": [],
      "text/plain": [
       "Interact.Slider{Float64}(Signal{Float64}(0.0, nactions=0),\"leftAnklePitch.1\",0.0,linspace(-3.141592653589793,3.141592653589793,51),\".3f\",true)"
      ]
     },
     "metadata": {},
     "output_type": "display_data"
    },
    {
     "data": {
      "text/html": [],
      "text/plain": [
       "Interact.Slider{Float64}(Signal{Float64}(0.0, nactions=0),\"leftAnkleRoll.1\",0.0,linspace(-3.141592653589793,3.141592653589793,51),\".3f\",true)"
      ]
     },
     "metadata": {},
     "output_type": "display_data"
    },
    {
     "data": {
      "text/plain": [
       "nothing"
      ]
     },
     "execution_count": 5,
     "metadata": {
      "comm_id": "d7935d8a-55aa-4be1-85a7-9c81a6341bd9",
      "reactive": true
     },
     "output_type": "execute_result"
    }
   ],
   "source": [
    "# We can also parse the visual elements from the URDF and use them to \n",
    "# show the robot instead:\n",
    "vis = parse_urdf(urdf, mechanism);\n",
    "inspect(mechanism, vis)"
   ]
  },
  {
   "cell_type": "code",
   "execution_count": null,
   "metadata": {
    "collapsed": true
   },
   "outputs": [],
   "source": []
  }
 ],
 "metadata": {
  "kernelspec": {
   "display_name": "Julia 0.5.0",
   "language": "julia",
   "name": "julia-0.5"
  },
  "language_info": {
   "file_extension": ".jl",
   "mimetype": "application/julia",
   "name": "julia",
   "version": "0.5.0"
  },
  "widgets": {
   "state": {
    "00422409-8605-470d-9920-927c8e5a6fe2": {
     "views": [
      {
       "cell_index": 3
      }
     ]
    },
    "0131aa48-ffe3-46d0-90e3-c0912a41bf29": {
     "views": [
      {
       "cell_index": 4
      }
     ]
    },
    "02550afd-5bd4-4101-a7d0-ce7836f809e6": {
     "views": [
      {
       "cell_index": 2
      }
     ]
    },
    "02fa8cca-c57d-4fc1-8add-5a1a8be7060d": {
     "views": [
      {
       "cell_index": 2
      }
     ]
    },
    "0387fd60-2974-4800-96df-fcd5fd0df4f1": {
     "views": [
      {
       "cell_index": 2
      }
     ]
    },
    "04e8c49e-ab3a-4905-b025-67abcc5f4144": {
     "views": [
      {
       "cell_index": 3
      }
     ]
    },
    "066adafe-9229-4a52-8d59-8d46a4bb59ef": {
     "views": [
      {
       "cell_index": 3
      }
     ]
    },
    "07a51acb-ed48-40c9-90dc-184052455b73": {
     "views": [
      {
       "cell_index": 2
      }
     ]
    },
    "07ec1bb7-4a4e-48c9-96e4-09bcc821db31": {
     "views": [
      {
       "cell_index": 2
      }
     ]
    },
    "084ec4b3-5a6f-4020-a561-253d34161800": {
     "views": [
      {
       "cell_index": 3
      }
     ]
    },
    "09008ebe-a91b-4e85-be85-318e92f9f09c": {
     "views": [
      {
       "cell_index": 4
      }
     ]
    },
    "091f1c6d-8cc8-4445-83ed-68c647f7a13b": {
     "views": [
      {
       "cell_index": 3
      }
     ]
    },
    "0a757753-36bf-47cd-bdec-2a01e1709466": {
     "views": [
      {
       "cell_index": 3
      }
     ]
    },
    "0b452599-6c49-4448-aba3-0d19497a4004": {
     "views": [
      {
       "cell_index": 2
      }
     ]
    },
    "0ea6c11a-219e-4b64-a32c-8b26e7ef403c": {
     "views": [
      {
       "cell_index": 3
      }
     ]
    },
    "0f8cc00c-588d-4c52-898b-61ddd2bea7aa": {
     "views": [
      {
       "cell_index": 2
      }
     ]
    },
    "1031166c-50d8-4583-bd34-5149f2686f59": {
     "views": [
      {
       "cell_index": 3
      }
     ]
    },
    "105ece46-7f95-4b7b-9ce6-4c1318dfbf74": {
     "views": [
      {
       "cell_index": 2
      }
     ]
    },
    "114dfd61-92b9-40e2-863d-6ac32912c692": {
     "views": [
      {
       "cell_index": 2
      }
     ]
    },
    "11f267da-b309-443e-8a4c-7d39a7c9be32": {
     "views": [
      {
       "cell_index": 3
      }
     ]
    },
    "142912b1-f121-4bd6-b540-127b1df84918": {
     "views": [
      {
       "cell_index": 2
      }
     ]
    },
    "1483b8a4-7e42-49d5-b398-1d4d550eaf50": {
     "views": [
      {
       "cell_index": 4
      }
     ]
    },
    "14c3e89c-8071-4f82-a46a-fa58dfc4f97e": {
     "views": [
      {
       "cell_index": 3
      }
     ]
    },
    "15c9a23d-0177-49f7-bc4a-721876ad08bf": {
     "views": [
      {
       "cell_index": 2
      }
     ]
    },
    "16ab1c5c-9ca1-4f4b-9c2c-31a47e2e8bf2": {
     "views": [
      {
       "cell_index": 3
      }
     ]
    },
    "1983e92e-89f8-4e22-836b-2d8e40a9f1c7": {
     "views": [
      {
       "cell_index": 3
      }
     ]
    },
    "19e97689-3dec-4424-87b4-34161726ae2c": {
     "views": [
      {
       "cell_index": 4
      }
     ]
    },
    "1c0a3900-b5bc-4b5e-9aba-c390936efb4b": {
     "views": [
      {
       "cell_index": 3
      }
     ]
    },
    "1e2a0a50-76c0-476f-b05b-b273f35284fd": {
     "views": [
      {
       "cell_index": 2
      }
     ]
    },
    "1ec2c6db-392a-49ed-b7d6-ec46c6df1dac": {
     "views": [
      {
       "cell_index": 3
      }
     ]
    },
    "1ec9cd30-41e3-4d45-af2d-8cca4351e9a7": {
     "views": [
      {
       "cell_index": 4
      }
     ]
    },
    "227ceec4-ca60-482d-b258-06cc42880e3f": {
     "views": [
      {
       "cell_index": 4
      }
     ]
    },
    "22c7a02e-1753-4060-83ea-37a70e759f7f": {
     "views": [
      {
       "cell_index": 4
      }
     ]
    },
    "23617821-0267-4bcf-84ac-54cff2f9f814": {
     "views": [
      {
       "cell_index": 3
      }
     ]
    },
    "256d2075-859e-4015-8d8c-023c6d75a9ef": {
     "views": [
      {
       "cell_index": 4
      }
     ]
    },
    "268cc6b0-8310-476c-9fbb-82b5ef43c43c": {
     "views": [
      {
       "cell_index": 3
      }
     ]
    },
    "2a4fea7b-801f-4374-af40-a34a54731bbd": {
     "views": [
      {
       "cell_index": 2
      }
     ]
    },
    "2a7f55be-b4df-4cc7-ad7b-76648b995de8": {
     "views": [
      {
       "cell_index": 3
      }
     ]
    },
    "2a8c6dc4-1069-48cb-83e8-8cdc5f92b0d2": {
     "views": [
      {
       "cell_index": 4
      }
     ]
    },
    "2aa5881c-69bc-4cab-8f40-57057371f0d7": {
     "views": [
      {
       "cell_index": 3
      }
     ]
    },
    "2af40af5-27d0-492a-84f9-ba7a6ed9f9d8": {
     "views": [
      {
       "cell_index": 2
      }
     ]
    },
    "2c1fdc89-b057-42fb-a858-a4bf4975ce53": {
     "views": [
      {
       "cell_index": 4
      }
     ]
    },
    "2d6ae6b5-183f-4437-a60a-9ece7e77a7e3": {
     "views": [
      {
       "cell_index": 4
      }
     ]
    },
    "30e94602-cd9b-45e3-bec7-b1338bf96f5a": {
     "views": [
      {
       "cell_index": 4
      }
     ]
    },
    "32611174-1926-4596-b916-82c01976c4ad": {
     "views": [
      {
       "cell_index": 4
      }
     ]
    },
    "34f17fc1-7b96-4ea2-a9a5-660bd533eb38": {
     "views": [
      {
       "cell_index": 3
      }
     ]
    },
    "37718085-fdf3-4252-b800-7313ce8d66e4": {
     "views": [
      {
       "cell_index": 4
      }
     ]
    },
    "3a26c49f-f991-43da-8615-04cf28755f76": {
     "views": [
      {
       "cell_index": 3
      }
     ]
    },
    "3ab9792c-6cc1-44e0-ac23-7a65a447dae5": {
     "views": [
      {
       "cell_index": 3
      }
     ]
    },
    "3cf08463-f859-4c28-9533-a06623e0443d": {
     "views": [
      {
       "cell_index": 4
      }
     ]
    },
    "40f4cbe3-686f-45c9-a2c6-dac52aa0532b": {
     "views": [
      {
       "cell_index": 3
      }
     ]
    },
    "4126ddc5-e520-406e-9234-898f9611d49f": {
     "views": [
      {
       "cell_index": 3
      }
     ]
    },
    "41f87363-fa3d-4f72-a4ad-bbe16391c268": {
     "views": [
      {
       "cell_index": 3
      }
     ]
    },
    "425312b4-4f3c-4728-b446-00303fbab4b6": {
     "views": [
      {
       "cell_index": 2
      }
     ]
    },
    "43e80396-12b5-4b0e-bd30-df3552a541fb": {
     "views": [
      {
       "cell_index": 2
      }
     ]
    },
    "45084d41-be1e-4b0f-8d7a-45d6872f42e0": {
     "views": [
      {
       "cell_index": 2
      }
     ]
    },
    "459cc61d-cae5-43b2-b4ce-8d0ce074c5e6": {
     "views": [
      {
       "cell_index": 4
      }
     ]
    },
    "459f9beb-d6b6-4420-b4aa-cf51ec803f48": {
     "views": [
      {
       "cell_index": 2
      }
     ]
    },
    "45b768ca-db8b-4f8b-a863-b1f8dddaacbc": {
     "views": [
      {
       "cell_index": 3
      }
     ]
    },
    "4c4dad52-3b01-4c0a-b250-615195e9c47a": {
     "views": [
      {
       "cell_index": 3
      }
     ]
    },
    "4d0a69ed-28de-44bc-9b98-2f08c222a4a8": {
     "views": [
      {
       "cell_index": 4
      }
     ]
    },
    "4df271d7-8735-464b-9951-381e80e0f803": {
     "views": [
      {
       "cell_index": 3
      }
     ]
    },
    "51a78d37-8a53-4ada-9cb1-ab07c83708ef": {
     "views": [
      {
       "cell_index": 3
      }
     ]
    },
    "52a26bf8-ae51-4ac9-9e43-6da7ffd85c32": {
     "views": [
      {
       "cell_index": 3
      }
     ]
    },
    "53663918-b248-4f51-9703-46498904203c": {
     "views": [
      {
       "cell_index": 3
      }
     ]
    },
    "55916f87-781c-4761-a9e7-100094089c0d": {
     "views": [
      {
       "cell_index": 4
      }
     ]
    },
    "5720e3c4-5850-4fa3-b136-4af3665849be": {
     "views": [
      {
       "cell_index": 3
      }
     ]
    },
    "587c1fc3-e3ea-4b62-b0fa-669603070153": {
     "views": [
      {
       "cell_index": 4
      }
     ]
    },
    "5884fae7-c24a-406e-92d9-e9ab6556a546": {
     "views": [
      {
       "cell_index": 4
      }
     ]
    },
    "59962c90-03ee-4cd7-82a8-7ba49bf36f57": {
     "views": [
      {
       "cell_index": 3
      }
     ]
    },
    "5bafc011-9681-47c5-b152-0393c4aad8e9": {
     "views": [
      {
       "cell_index": 2
      }
     ]
    },
    "5bd62bf9-beed-4ee9-9c58-88d1d0c688fb": {
     "views": [
      {
       "cell_index": 3
      }
     ]
    },
    "5bfa45e7-5052-4a19-91dd-175c231286b3": {
     "views": [
      {
       "cell_index": 4
      }
     ]
    },
    "5e13e1e2-236e-4a17-9382-8bfd774086db": {
     "views": [
      {
       "cell_index": 3
      }
     ]
    },
    "5f097f5a-1e00-437b-8d4c-46d598a55a9f": {
     "views": [
      {
       "cell_index": 4
      }
     ]
    },
    "5f78edbc-3519-4ef5-a708-75b1ead51d6d": {
     "views": [
      {
       "cell_index": 2
      }
     ]
    },
    "5f937696-cfdd-438d-b96f-7f3a55788929": {
     "views": [
      {
       "cell_index": 3
      }
     ]
    },
    "5fb8f44f-04d2-4f73-9d3c-7b8c230fbc97": {
     "views": [
      {
       "cell_index": 3
      }
     ]
    },
    "60c87dd6-c96b-45d1-a408-21499a43f379": {
     "views": [
      {
       "cell_index": 3
      }
     ]
    },
    "62cb7c5a-6ee5-4b48-a2d2-0fa18a891640": {
     "views": [
      {
       "cell_index": 4
      }
     ]
    },
    "649f91a4-144e-443a-a1f7-9802781580f3": {
     "views": [
      {
       "cell_index": 4
      }
     ]
    },
    "65297cf7-7df2-4d7e-b6a1-bcd9077aedc3": {
     "views": [
      {
       "cell_index": 4
      }
     ]
    },
    "6682473e-53cc-438f-9190-0f311fc7300c": {
     "views": [
      {
       "cell_index": 4
      }
     ]
    },
    "66e357b8-eea1-4348-8ef2-5c6fc30b5df2": {
     "views": [
      {
       "cell_index": 4
      }
     ]
    },
    "678ee2d1-1adf-4158-8d1f-db5ff37a3d79": {
     "views": [
      {
       "cell_index": 2
      }
     ]
    },
    "68465fee-493e-4c33-beb4-6b47f1835e42": {
     "views": [
      {
       "cell_index": 3
      }
     ]
    },
    "68d52fc5-6da9-4a88-a138-4d3fc439dc03": {
     "views": [
      {
       "cell_index": 2
      }
     ]
    },
    "6ab7ddad-10be-4abf-b282-410c8f8c4076": {
     "views": [
      {
       "cell_index": 4
      }
     ]
    },
    "6bcec35f-32d2-4301-8df6-f6ce2955fc97": {
     "views": [
      {
       "cell_index": 3
      }
     ]
    },
    "6bd72dd8-a22c-441e-8c26-73b1fabad46e": {
     "views": [
      {
       "cell_index": 2
      }
     ]
    },
    "6d19260c-a9bf-4e14-aef8-46c0d1c782a4": {
     "views": [
      {
       "cell_index": 3
      }
     ]
    },
    "6dcc2748-2a6b-42da-8328-f7390b27cc7e": {
     "views": [
      {
       "cell_index": 3
      }
     ]
    },
    "7160b6a8-89f8-4d58-a4a9-8083d820dbec": {
     "views": [
      {
       "cell_index": 3
      }
     ]
    },
    "71742599-c691-4b51-89ad-1fb94d2e5924": {
     "views": [
      {
       "cell_index": 4
      }
     ]
    },
    "73168d2c-75db-473e-9538-1de9c94ee0da": {
     "views": [
      {
       "cell_index": 2
      }
     ]
    },
    "73211c36-6194-4770-85ea-620dc64d07c0": {
     "views": [
      {
       "cell_index": 2
      }
     ]
    },
    "77caec52-d6c4-475f-a67d-8b10f4c5769a": {
     "views": [
      {
       "cell_index": 2
      }
     ]
    },
    "79a5e857-35ca-4f89-b1c9-f89ec5389f9c": {
     "views": [
      {
       "cell_index": 4
      }
     ]
    },
    "7a3b0e6e-36c5-45f1-8425-cf4dc11be8da": {
     "views": [
      {
       "cell_index": 2
      }
     ]
    },
    "7a6128b9-d6e6-45c3-8c10-0f1e7e8aebfa": {
     "views": [
      {
       "cell_index": 3
      }
     ]
    },
    "7c1732e2-fedd-4336-b264-45cb03c9c9ae": {
     "views": [
      {
       "cell_index": 2
      }
     ]
    },
    "7cbde50e-c8e6-48b2-a29c-1aeef31c711a": {
     "views": [
      {
       "cell_index": 2
      }
     ]
    },
    "7d8c4d10-56e2-43ee-9ba2-fd1b326a785d": {
     "views": [
      {
       "cell_index": 3
      }
     ]
    },
    "7d951574-f6e4-40e8-8288-5b5f97339f4f": {
     "views": [
      {
       "cell_index": 4
      }
     ]
    },
    "7f3d330a-a0f6-4548-9384-e09ff7bb102a": {
     "views": [
      {
       "cell_index": 4
      }
     ]
    },
    "8022b240-8482-403e-81c7-3db39b50611f": {
     "views": [
      {
       "cell_index": 3
      }
     ]
    },
    "822c13d4-0eed-4d86-a6cb-d1cfd2bb5d0c": {
     "views": [
      {
       "cell_index": 2
      }
     ]
    },
    "831cc01f-4035-43ea-ad82-ab0ddf0a7eff": {
     "views": [
      {
       "cell_index": 2
      }
     ]
    },
    "83953922-f420-4540-a871-8a71ce30f4fd": {
     "views": [
      {
       "cell_index": 4
      }
     ]
    },
    "83e2a9e6-6660-447c-a75a-0edc738f9007": {
     "views": [
      {
       "cell_index": 4
      }
     ]
    },
    "852e99d4-c1bb-4ee4-bfd3-c22b59fe4732": {
     "views": [
      {
       "cell_index": 3
      }
     ]
    },
    "86e4a956-0110-421b-b373-110bff019a3a": {
     "views": [
      {
       "cell_index": 3
      }
     ]
    },
    "87f9900b-5025-4976-ab8f-2014f07abc79": {
     "views": [
      {
       "cell_index": 4
      }
     ]
    },
    "8d49fd6f-4a0c-4603-8a0a-4181835e361b": {
     "views": [
      {
       "cell_index": 4
      }
     ]
    },
    "8df59fef-b7f5-44fc-a471-e75f51fe187c": {
     "views": [
      {
       "cell_index": 4
      }
     ]
    },
    "8f941f4c-06e4-4da1-9864-567406deec0e": {
     "views": [
      {
       "cell_index": 2
      }
     ]
    },
    "915dbc2e-3310-41b1-baa2-f56bc037cb7e": {
     "views": [
      {
       "cell_index": 3
      }
     ]
    },
    "91693c21-9971-45a8-b187-bef01d7a6d1a": {
     "views": [
      {
       "cell_index": 4
      }
     ]
    },
    "94fe53e8-417c-4ff0-a792-6b9e3054d590": {
     "views": [
      {
       "cell_index": 4
      }
     ]
    },
    "96582473-8b5b-4224-9b55-bbc14e9660ec": {
     "views": [
      {
       "cell_index": 4
      }
     ]
    },
    "97acbe72-ccbd-4076-80ae-80c22b21f07b": {
     "views": [
      {
       "cell_index": 3
      }
     ]
    },
    "9aaca3e3-2599-44cb-81bd-12d286f2fdcc": {
     "views": [
      {
       "cell_index": 3
      }
     ]
    },
    "9b5f27f0-67df-4f23-8eec-b46b1dc06e2d": {
     "views": [
      {
       "cell_index": 4
      }
     ]
    },
    "9cbaed74-1cec-4cd4-a17f-56c15ae0fbc7": {
     "views": [
      {
       "cell_index": 3
      }
     ]
    },
    "9fb5e6a2-ce23-4a1b-8d84-57381dba3799": {
     "views": [
      {
       "cell_index": 3
      }
     ]
    },
    "a16b410c-5a17-40dc-a92b-d91d3bbc3976": {
     "views": [
      {
       "cell_index": 3
      }
     ]
    },
    "a39258ba-90eb-46d1-8ee1-dca2c02a8d64": {
     "views": [
      {
       "cell_index": 3
      }
     ]
    },
    "a47044b8-0c59-4e32-92ee-41780d5b8225": {
     "views": [
      {
       "cell_index": 4
      }
     ]
    },
    "a4b82b4b-9105-41b5-ad8d-a33e20931c39": {
     "views": [
      {
       "cell_index": 4
      }
     ]
    },
    "a632a2de-fe0c-4ada-ac4d-95d665245774": {
     "views": [
      {
       "cell_index": 4
      }
     ]
    },
    "a965439e-e804-469e-a728-bb839da4e192": {
     "views": [
      {
       "cell_index": 3
      }
     ]
    },
    "a9e91c0f-f36a-4fa5-8125-6c2234d6cd65": {
     "views": [
      {
       "cell_index": 2
      }
     ]
    },
    "ad84e815-06ae-48f4-a4fa-834f9694596c": {
     "views": [
      {
       "cell_index": 3
      }
     ]
    },
    "ae3a463b-6243-4e30-a316-1128d2c46d99": {
     "views": [
      {
       "cell_index": 4
      }
     ]
    },
    "b0d40b4d-f4e0-40e6-afa4-9de0936b518e": {
     "views": [
      {
       "cell_index": 3
      }
     ]
    },
    "b2ea0f07-192a-4e77-871e-dfdaf7a3b9eb": {
     "views": [
      {
       "cell_index": 4
      }
     ]
    },
    "b61182c8-8a25-4283-9ad0-6ce01538ddfb": {
     "views": [
      {
       "cell_index": 2
      }
     ]
    },
    "b82c87c2-1939-48dc-b6c2-40e6cfced184": {
     "views": [
      {
       "cell_index": 4
      }
     ]
    },
    "b889fe53-20ff-44a4-ac22-8c571d4d8fe5": {
     "views": [
      {
       "cell_index": 3
      }
     ]
    },
    "b91eea54-baaf-4b70-b59c-fd6a1e3918af": {
     "views": [
      {
       "cell_index": 4
      }
     ]
    },
    "b9b08f2f-320a-44eb-b18d-c7302ce41daa": {
     "views": [
      {
       "cell_index": 4
      }
     ]
    },
    "bbb09ae7-4bfc-484d-891f-1116fa21a37c": {
     "views": [
      {
       "cell_index": 4
      }
     ]
    },
    "bca67b26-d9eb-41f3-aa7d-631b8ffbe2f9": {
     "views": [
      {
       "cell_index": 3
      }
     ]
    },
    "bd4dbb81-161d-4645-999e-9336f7889b27": {
     "views": [
      {
       "cell_index": 4
      }
     ]
    },
    "be7bad31-1a36-42cc-90dd-8e0bac340d72": {
     "views": [
      {
       "cell_index": 3
      }
     ]
    },
    "c076bbdc-bfde-4f91-8a03-af52363aa7d5": {
     "views": [
      {
       "cell_index": 3
      }
     ]
    },
    "c147f4ab-0cae-41c1-a70e-2048ce004b35": {
     "views": [
      {
       "cell_index": 2
      }
     ]
    },
    "c169684b-9c6e-4131-9647-5a4052a3fdb2": {
     "views": [
      {
       "cell_index": 2
      }
     ]
    },
    "c2766190-9be6-4277-9e4d-c6f38303d47a": {
     "views": [
      {
       "cell_index": 4
      }
     ]
    },
    "c2802159-9093-4f52-bf23-bfdd89ff8b60": {
     "views": [
      {
       "cell_index": 2
      }
     ]
    },
    "c2d14542-e492-44b1-9a65-c673b144fd95": {
     "views": [
      {
       "cell_index": 4
      }
     ]
    },
    "c49424de-85ff-4fb2-8afd-18021f1f766f": {
     "views": [
      {
       "cell_index": 3
      }
     ]
    },
    "c5b6ee5f-5f86-4827-a6cb-7d927bb833ef": {
     "views": [
      {
       "cell_index": 2
      }
     ]
    },
    "ccc79185-780f-4e1b-97f8-c6cd158525de": {
     "views": [
      {
       "cell_index": 2
      }
     ]
    },
    "cf3e7b4e-f8a2-4bf7-b147-b8bf1006de22": {
     "views": [
      {
       "cell_index": 4
      }
     ]
    },
    "cff4ec0f-1d67-46f9-a64d-5df10f33a761": {
     "views": [
      {
       "cell_index": 2
      }
     ]
    },
    "d0d9604a-bede-4e93-9060-bf69ce1dab37": {
     "views": [
      {
       "cell_index": 3
      }
     ]
    },
    "d3657039-9d45-4c28-ad8b-2f2d8b9a5370": {
     "views": [
      {
       "cell_index": 2
      }
     ]
    },
    "d9f70f6a-027a-4746-bec0-a00b47fb5c2f": {
     "views": [
      {
       "cell_index": 4
      }
     ]
    },
    "da7beab9-77c9-48ce-b637-7b3d4053b9ab": {
     "views": [
      {
       "cell_index": 3
      }
     ]
    },
    "dbd9c5f8-ce83-431f-b7d4-e8f497b45dc8": {
     "views": [
      {
       "cell_index": 3
      }
     ]
    },
    "dca495ec-e13d-415d-a257-1368fa292ec2": {
     "views": [
      {
       "cell_index": 3
      }
     ]
    },
    "dcb22175-6849-4b6d-a96f-29e42f6e5b48": {
     "views": [
      {
       "cell_index": 3
      }
     ]
    },
    "de6bfcfa-2feb-4bbd-96fd-57f73b1096bb": {
     "views": [
      {
       "cell_index": 3
      }
     ]
    },
    "e50aec8a-0946-4d20-b868-ae15e4e819e7": {
     "views": [
      {
       "cell_index": 3
      }
     ]
    },
    "e5624016-b8eb-4297-9da4-c740f544e588": {
     "views": [
      {
       "cell_index": 3
      }
     ]
    },
    "e73c5e88-ccbb-48ab-9005-9ddc3aa6d923": {
     "views": [
      {
       "cell_index": 4
      }
     ]
    },
    "ea41d47b-3a1a-48df-a12a-5faa95ef2539": {
     "views": [
      {
       "cell_index": 3
      }
     ]
    },
    "eaec26c6-1f73-416c-aa1e-88158281d6e0": {
     "views": [
      {
       "cell_index": 2
      }
     ]
    },
    "eb6aaa70-94c9-401f-80b2-d28aa2beae4a": {
     "views": [
      {
       "cell_index": 3
      }
     ]
    },
    "edcd6f21-eb43-48d0-b25b-a5ed46f89f46": {
     "views": [
      {
       "cell_index": 4
      }
     ]
    },
    "effd89a5-1d4b-4668-b28e-831bf7655035": {
     "views": [
      {
       "cell_index": 3
      }
     ]
    },
    "f2519a7e-bb28-4a28-95d3-ed7719445022": {
     "views": [
      {
       "cell_index": 3
      }
     ]
    },
    "f473d9ee-99df-438d-8d5a-b4331ee688b8": {
     "views": [
      {
       "cell_index": 4
      }
     ]
    },
    "f68288c1-e340-4343-b17b-99f413dda90e": {
     "views": [
      {
       "cell_index": 4
      }
     ]
    },
    "f9412b2c-5224-4f34-8fd5-b4b44902b25b": {
     "views": [
      {
       "cell_index": 3
      }
     ]
    },
    "fb27025a-44e8-49f8-b07c-d69c78f03127": {
     "views": [
      {
       "cell_index": 2
      }
     ]
    },
    "fb9ec4e6-3395-4966-8fdd-be54a2676f72": {
     "views": [
      {
       "cell_index": 4
      }
     ]
    },
    "fcadf6b8-bbc2-48b4-b6d5-bf09921e2a4e": {
     "views": [
      {
       "cell_index": 2
      }
     ]
    },
    "ff10eb5e-11d6-42be-899a-5346e71850f2": {
     "views": [
      {
       "cell_index": 2
      }
     ]
    }
   },
   "version": "1.2.0"
  }
 },
 "nbformat": 4,
 "nbformat_minor": 0
}
