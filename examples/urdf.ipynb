{
 "cells": [
  {
   "cell_type": "code",
   "execution_count": 1,
   "metadata": {
    "collapsed": false
   },
   "outputs": [
    {
     "data": {
      "text/html": [
       "<div id=\"interact-js-shim\">\n",
       "    <script charset=\"utf-8\">\n",
       "(function (IPython, $, _, MathJax) {\n",
       "    $.event.special.destroyed = {\n",
       "\tremove: function(o) {\n",
       "\t    if (o.handler) {\n",
       "\t\to.handler.apply(this, arguments)\n",
       "\t    }\n",
       "\t}\n",
       "    }\n",
       "\n",
       "    var OutputArea = IPython.version >= \"4.0.0\" ? require(\"notebook/js/outputarea\").OutputArea : IPython.OutputArea;\n",
       "\n",
       "    var redrawValue = function (container, type, val) {\n",
       "\tvar selector = $(\"<div/>\");\n",
       "\tvar oa = new OutputArea(_.extend(selector, {\n",
       "\t    selector: selector,\n",
       "\t    prompt_area: true,\n",
       "\t    events: IPython.events,\n",
       "\t    keyboard_manager: IPython.keyboard_manager\n",
       "\t})); // Hack to work with IPython 2.1.0\n",
       "\n",
       "\tswitch (type) {\n",
       "\tcase \"image/png\":\n",
       "            var _src = 'data:' + type + ';base64,' + val;\n",
       "\t    $(container).find(\"img\").attr('src', _src);\n",
       "\t    break;\n",
       "\tdefault:\n",
       "\t    var toinsert = OutputArea.append_map[type].apply(\n",
       "\t\toa, [val, {}, selector]\n",
       "\t    );\n",
       "\t    $(container).empty().append(toinsert.contents());\n",
       "\t    selector.remove();\n",
       "\t}\n",
       "\tif (type === \"text/latex\" && MathJax) {\n",
       "\t    MathJax.Hub.Queue([\"Typeset\", MathJax.Hub, toinsert.get(0)]);\n",
       "\t}\n",
       "    }\n",
       "\n",
       "\n",
       "    $(document).ready(function() {\n",
       "\tfunction initComm(evt, data) {\n",
       "\t    var comm_manager = data.kernel.comm_manager;\n",
       "        //_.extend(comm_manager.targets, require(\"widgets/js/widget\"))\n",
       "\t    comm_manager.register_target(\"Signal\", function (comm) {\n",
       "            comm.on_msg(function (msg) {\n",
       "                //Widgets.log(\"message received\", msg);\n",
       "                var val = msg.content.data.value;\n",
       "                $(\".signal-\" + comm.comm_id).each(function() {\n",
       "                var type = $(this).data(\"type\");\n",
       "                if (val[type]) {\n",
       "                    redrawValue(this, type, val[type], type);\n",
       "                }\n",
       "                });\n",
       "                delete val;\n",
       "                delete msg.content.data.value;\n",
       "            });\n",
       "\t    });\n",
       "\n",
       "\t    // coordingate with Comm and redraw Signals\n",
       "\t    // XXX: Test using Reactive here to improve performance\n",
       "\t    $([IPython.events]).on(\n",
       "\t\t'output_appended.OutputArea', function (event, type, value, md, toinsert) {\n",
       "\t\t    if (md && md.reactive) {\n",
       "                // console.log(md.comm_id);\n",
       "                toinsert.addClass(\"signal-\" + md.comm_id);\n",
       "                toinsert.data(\"type\", type);\n",
       "                // Signal back indicating the mimetype required\n",
       "                var comm_manager = IPython.notebook.kernel.comm_manager;\n",
       "                var comm = comm_manager.comms[md.comm_id];\n",
       "                comm.then(function (c) {\n",
       "                    c.send({action: \"subscribe_mime\",\n",
       "                       mime: type});\n",
       "                    toinsert.bind(\"destroyed\", function() {\n",
       "                        c.send({action: \"unsubscribe_mime\",\n",
       "                               mime: type});\n",
       "                    });\n",
       "                })\n",
       "\t\t    }\n",
       "\t    });\n",
       "\t}\n",
       "\n",
       "\ttry {\n",
       "\t    // try to initialize right away. otherwise, wait on the status_started event.\n",
       "\t    initComm(undefined, IPython.notebook);\n",
       "\t} catch (e) {\n",
       "\t    $([IPython.events]).on('kernel_created.Kernel kernel_created.Session', initComm);\n",
       "\t}\n",
       "    });\n",
       "})(IPython, jQuery, _, MathJax);\n",
       "</script>\n",
       "    <script>\n",
       "        window.interactLoadedFlag = true\n",
       "       $(\"#interact-js-shim\").bind(\"destroyed\", function () {\n",
       "           if (window.interactLoadedFlag) {\n",
       "               console.warn(\"JavaScript required by Interact will be removed if you remove this cell or run using Interact more than once.\")\n",
       "           }\n",
       "       })\n",
       "       $([IPython.events]).on(\"kernel_starting.Kernel kernel_restarting.Kernel\", function () { window.interactLoadedFlag = false })\n",
       "   </script>\n",
       "</div>"
      ]
     },
     "metadata": {},
     "output_type": "display_data"
    },
    {
     "name": "stdout",
     "output_type": "stream",
     "text": [
      "adding: /home/rdeits/locomotion/explorations/point-cloud-signed-distance/packages/v0.5/DrakeVisualizer/src/lcmtypes to the python path\n"
     ]
    }
   ],
   "source": [
    "using RigidBodyTreeInspector\n",
    "using RigidBodyDynamics"
   ]
  },
  {
   "cell_type": "code",
   "execution_count": 2,
   "metadata": {
    "collapsed": false,
    "scrolled": false
   },
   "outputs": [],
   "source": [
    "# Let's construct a mechanism by loading a URDF\n",
    "urdf = \"$(ENV[\"HOME\"])/locomotion/drake-distro/drake/examples/Valkyrie/urdf/urdf/valkyrie_A_sim_drake_one_neck_dof_wide_ankle_rom.urdf\"\n",
    "# urdf = \"$(ENV[\"HOME\"])/locomotion/drake/drake/examples/Atlas/urdf/atlas_minimal_contact.urdf\"\n",
    "\n",
    "mechanism = RigidBodyDynamics.parse_urdf(Float64, urdf);"
   ]
  },
  {
   "cell_type": "code",
   "execution_count": 3,
   "metadata": {
    "collapsed": false
   },
   "outputs": [
    {
     "data": {
      "text/html": [],
      "text/plain": [
       "Interact.Slider{Float64}(Signal{Float64}(0.0, nactions=0),\"torsoYaw.1\",0.0,linspace(-3.141592653589793,3.141592653589793,51),\".3f\",true)"
      ]
     },
     "metadata": {},
     "output_type": "display_data"
    },
    {
     "data": {
      "text/html": [],
      "text/plain": [
       "Interact.Slider{Float64}(Signal{Float64}(0.0, nactions=0),\"torsoPitch.1\",0.0,linspace(-3.141592653589793,3.141592653589793,51),\".3f\",true)"
      ]
     },
     "metadata": {},
     "output_type": "display_data"
    },
    {
     "data": {
      "text/html": [],
      "text/plain": [
       "Interact.Slider{Float64}(Signal{Float64}(0.0, nactions=0),\"torsoRoll.1\",0.0,linspace(-3.141592653589793,3.141592653589793,51),\".3f\",true)"
      ]
     },
     "metadata": {},
     "output_type": "display_data"
    },
    {
     "data": {
      "text/html": [],
      "text/plain": [
       "Interact.Slider{Float64}(Signal{Float64}(0.0, nactions=0),\"lowerNeckPitch.1\",0.0,linspace(-3.141592653589793,3.141592653589793,51),\".3f\",true)"
      ]
     },
     "metadata": {},
     "output_type": "display_data"
    },
    {
     "data": {
      "text/html": [],
      "text/plain": [
       "Interact.Slider{Float64}(Signal{Float64}(0.0, nactions=0),\"rightShoulderPitch.1\",0.0,linspace(-3.141592653589793,3.141592653589793,51),\".3f\",true)"
      ]
     },
     "metadata": {},
     "output_type": "display_data"
    },
    {
     "data": {
      "text/html": [],
      "text/plain": [
       "Interact.Slider{Float64}(Signal{Float64}(0.0, nactions=0),\"rightShoulderRoll.1\",0.0,linspace(-3.141592653589793,3.141592653589793,51),\".3f\",true)"
      ]
     },
     "metadata": {},
     "output_type": "display_data"
    },
    {
     "data": {
      "text/html": [],
      "text/plain": [
       "Interact.Slider{Float64}(Signal{Float64}(0.0, nactions=0),\"rightShoulderYaw.1\",0.0,linspace(-3.141592653589793,3.141592653589793,51),\".3f\",true)"
      ]
     },
     "metadata": {},
     "output_type": "display_data"
    },
    {
     "data": {
      "text/html": [],
      "text/plain": [
       "Interact.Slider{Float64}(Signal{Float64}(0.0, nactions=0),\"rightElbowPitch.1\",0.0,linspace(-3.141592653589793,3.141592653589793,51),\".3f\",true)"
      ]
     },
     "metadata": {},
     "output_type": "display_data"
    },
    {
     "data": {
      "text/html": [],
      "text/plain": [
       "Interact.Slider{Float64}(Signal{Float64}(0.0, nactions=0),\"rightForearmYaw.1\",0.0,linspace(-3.141592653589793,3.141592653589793,51),\".3f\",true)"
      ]
     },
     "metadata": {},
     "output_type": "display_data"
    },
    {
     "data": {
      "text/html": [],
      "text/plain": [
       "Interact.Slider{Float64}(Signal{Float64}(0.0, nactions=0),\"rightWristRoll.1\",0.0,linspace(-3.141592653589793,3.141592653589793,51),\".3f\",true)"
      ]
     },
     "metadata": {},
     "output_type": "display_data"
    },
    {
     "data": {
      "text/html": [],
      "text/plain": [
       "Interact.Slider{Float64}(Signal{Float64}(0.0, nactions=0),\"rightWristPitch.1\",0.0,linspace(-3.141592653589793,3.141592653589793,51),\".3f\",true)"
      ]
     },
     "metadata": {},
     "output_type": "display_data"
    },
    {
     "data": {
      "text/html": [],
      "text/plain": [
       "Interact.Slider{Float64}(Signal{Float64}(0.0, nactions=0),\"leftShoulderPitch.1\",0.0,linspace(-3.141592653589793,3.141592653589793,51),\".3f\",true)"
      ]
     },
     "metadata": {},
     "output_type": "display_data"
    },
    {
     "data": {
      "text/html": [],
      "text/plain": [
       "Interact.Slider{Float64}(Signal{Float64}(0.0, nactions=0),\"leftShoulderRoll.1\",0.0,linspace(-3.141592653589793,3.141592653589793,51),\".3f\",true)"
      ]
     },
     "metadata": {},
     "output_type": "display_data"
    },
    {
     "data": {
      "text/html": [],
      "text/plain": [
       "Interact.Slider{Float64}(Signal{Float64}(0.0, nactions=0),\"leftShoulderYaw.1\",0.0,linspace(-3.141592653589793,3.141592653589793,51),\".3f\",true)"
      ]
     },
     "metadata": {},
     "output_type": "display_data"
    },
    {
     "data": {
      "text/html": [],
      "text/plain": [
       "Interact.Slider{Float64}(Signal{Float64}(0.0, nactions=0),\"leftElbowPitch.1\",0.0,linspace(-3.141592653589793,3.141592653589793,51),\".3f\",true)"
      ]
     },
     "metadata": {},
     "output_type": "display_data"
    },
    {
     "data": {
      "text/html": [],
      "text/plain": [
       "Interact.Slider{Float64}(Signal{Float64}(0.0, nactions=0),\"leftForearmYaw.1\",0.0,linspace(-3.141592653589793,3.141592653589793,51),\".3f\",true)"
      ]
     },
     "metadata": {},
     "output_type": "display_data"
    },
    {
     "data": {
      "text/html": [],
      "text/plain": [
       "Interact.Slider{Float64}(Signal{Float64}(0.0, nactions=0),\"leftWristRoll.1\",0.0,linspace(-3.141592653589793,3.141592653589793,51),\".3f\",true)"
      ]
     },
     "metadata": {},
     "output_type": "display_data"
    },
    {
     "data": {
      "text/html": [],
      "text/plain": [
       "Interact.Slider{Float64}(Signal{Float64}(0.0, nactions=0),\"leftWristPitch.1\",0.0,linspace(-3.141592653589793,3.141592653589793,51),\".3f\",true)"
      ]
     },
     "metadata": {},
     "output_type": "display_data"
    },
    {
     "data": {
      "text/html": [],
      "text/plain": [
       "Interact.Slider{Float64}(Signal{Float64}(0.0, nactions=0),\"rightHipYaw.1\",0.0,linspace(-3.141592653589793,3.141592653589793,51),\".3f\",true)"
      ]
     },
     "metadata": {},
     "output_type": "display_data"
    },
    {
     "data": {
      "text/html": [],
      "text/plain": [
       "Interact.Slider{Float64}(Signal{Float64}(0.0, nactions=0),\"rightHipRoll.1\",0.0,linspace(-3.141592653589793,3.141592653589793,51),\".3f\",true)"
      ]
     },
     "metadata": {},
     "output_type": "display_data"
    },
    {
     "data": {
      "text/html": [],
      "text/plain": [
       "Interact.Slider{Float64}(Signal{Float64}(0.0, nactions=0),\"rightHipPitch.1\",0.0,linspace(-3.141592653589793,3.141592653589793,51),\".3f\",true)"
      ]
     },
     "metadata": {},
     "output_type": "display_data"
    },
    {
     "data": {
      "text/html": [],
      "text/plain": [
       "Interact.Slider{Float64}(Signal{Float64}(0.0, nactions=0),\"rightKneePitch.1\",0.0,linspace(-3.141592653589793,3.141592653589793,51),\".3f\",true)"
      ]
     },
     "metadata": {},
     "output_type": "display_data"
    },
    {
     "data": {
      "text/html": [],
      "text/plain": [
       "Interact.Slider{Float64}(Signal{Float64}(0.0, nactions=0),\"rightAnklePitch.1\",0.0,linspace(-3.141592653589793,3.141592653589793,51),\".3f\",true)"
      ]
     },
     "metadata": {},
     "output_type": "display_data"
    },
    {
     "data": {
      "text/html": [],
      "text/plain": [
       "Interact.Slider{Float64}(Signal{Float64}(0.0, nactions=0),\"rightAnkleRoll.1\",0.0,linspace(-3.141592653589793,3.141592653589793,51),\".3f\",true)"
      ]
     },
     "metadata": {},
     "output_type": "display_data"
    },
    {
     "data": {
      "text/html": [],
      "text/plain": [
       "Interact.Slider{Float64}(Signal{Float64}(0.0, nactions=0),\"leftHipYaw.1\",0.0,linspace(-3.141592653589793,3.141592653589793,51),\".3f\",true)"
      ]
     },
     "metadata": {},
     "output_type": "display_data"
    },
    {
     "data": {
      "text/html": [],
      "text/plain": [
       "Interact.Slider{Float64}(Signal{Float64}(0.0, nactions=0),\"leftHipRoll.1\",0.0,linspace(-3.141592653589793,3.141592653589793,51),\".3f\",true)"
      ]
     },
     "metadata": {},
     "output_type": "display_data"
    },
    {
     "data": {
      "text/html": [],
      "text/plain": [
       "Interact.Slider{Float64}(Signal{Float64}(0.0, nactions=0),\"leftHipPitch.1\",0.0,linspace(-3.141592653589793,3.141592653589793,51),\".3f\",true)"
      ]
     },
     "metadata": {},
     "output_type": "display_data"
    },
    {
     "data": {
      "text/html": [],
      "text/plain": [
       "Interact.Slider{Float64}(Signal{Float64}(0.0, nactions=0),\"leftKneePitch.1\",0.0,linspace(-3.141592653589793,3.141592653589793,51),\".3f\",true)"
      ]
     },
     "metadata": {},
     "output_type": "display_data"
    },
    {
     "data": {
      "text/html": [],
      "text/plain": [
       "Interact.Slider{Float64}(Signal{Float64}(0.0, nactions=0),\"leftAnklePitch.1\",0.0,linspace(-3.141592653589793,3.141592653589793,51),\".3f\",true)"
      ]
     },
     "metadata": {},
     "output_type": "display_data"
    },
    {
     "data": {
      "text/html": [],
      "text/plain": [
       "Interact.Slider{Float64}(Signal{Float64}(0.0, nactions=0),\"leftAnkleRoll.1\",0.0,linspace(-3.141592653589793,3.141592653589793,51),\".3f\",true)"
      ]
     },
     "metadata": {},
     "output_type": "display_data"
    },
    {
     "data": {
      "text/plain": [
       "nothing"
      ]
     },
     "execution_count": 3,
     "metadata": {
      "comm_id": "be0e927e-70c9-4329-be2a-7098352d4a70",
      "reactive": true
     },
     "output_type": "execute_result"
    }
   ],
   "source": [
    "# We can visualize the kinematic structure of the robot just by inspecting it:\n",
    "inspect(mechanism)"
   ]
  },
  {
   "cell_type": "code",
   "execution_count": 4,
   "metadata": {
    "collapsed": false
   },
   "outputs": [
    {
     "data": {
      "text/html": [],
      "text/plain": [
       "Interact.Slider{Float64}(Signal{Float64}(0.0, nactions=0),\"torsoYaw.1\",0.0,linspace(-3.141592653589793,3.141592653589793,51),\".3f\",true)"
      ]
     },
     "metadata": {},
     "output_type": "display_data"
    },
    {
     "data": {
      "text/html": [],
      "text/plain": [
       "Interact.Slider{Float64}(Signal{Float64}(0.0, nactions=0),\"torsoPitch.1\",0.0,linspace(-3.141592653589793,3.141592653589793,51),\".3f\",true)"
      ]
     },
     "metadata": {},
     "output_type": "display_data"
    },
    {
     "data": {
      "text/html": [],
      "text/plain": [
       "Interact.Slider{Float64}(Signal{Float64}(0.0, nactions=0),\"torsoRoll.1\",0.0,linspace(-3.141592653589793,3.141592653589793,51),\".3f\",true)"
      ]
     },
     "metadata": {},
     "output_type": "display_data"
    },
    {
     "data": {
      "text/html": [],
      "text/plain": [
       "Interact.Slider{Float64}(Signal{Float64}(0.0, nactions=0),\"lowerNeckPitch.1\",0.0,linspace(-3.141592653589793,3.141592653589793,51),\".3f\",true)"
      ]
     },
     "metadata": {},
     "output_type": "display_data"
    },
    {
     "data": {
      "text/html": [],
      "text/plain": [
       "Interact.Slider{Float64}(Signal{Float64}(0.0, nactions=0),\"rightShoulderPitch.1\",0.0,linspace(-3.141592653589793,3.141592653589793,51),\".3f\",true)"
      ]
     },
     "metadata": {},
     "output_type": "display_data"
    },
    {
     "data": {
      "text/html": [],
      "text/plain": [
       "Interact.Slider{Float64}(Signal{Float64}(0.0, nactions=0),\"rightShoulderRoll.1\",0.0,linspace(-3.141592653589793,3.141592653589793,51),\".3f\",true)"
      ]
     },
     "metadata": {},
     "output_type": "display_data"
    },
    {
     "data": {
      "text/html": [],
      "text/plain": [
       "Interact.Slider{Float64}(Signal{Float64}(0.0, nactions=0),\"rightShoulderYaw.1\",0.0,linspace(-3.141592653589793,3.141592653589793,51),\".3f\",true)"
      ]
     },
     "metadata": {},
     "output_type": "display_data"
    },
    {
     "data": {
      "text/html": [],
      "text/plain": [
       "Interact.Slider{Float64}(Signal{Float64}(0.0, nactions=0),\"rightElbowPitch.1\",0.0,linspace(-3.141592653589793,3.141592653589793,51),\".3f\",true)"
      ]
     },
     "metadata": {},
     "output_type": "display_data"
    },
    {
     "data": {
      "text/html": [],
      "text/plain": [
       "Interact.Slider{Float64}(Signal{Float64}(0.0, nactions=0),\"rightForearmYaw.1\",0.0,linspace(-3.141592653589793,3.141592653589793,51),\".3f\",true)"
      ]
     },
     "metadata": {},
     "output_type": "display_data"
    },
    {
     "data": {
      "text/html": [],
      "text/plain": [
       "Interact.Slider{Float64}(Signal{Float64}(0.0, nactions=0),\"rightWristRoll.1\",0.0,linspace(-3.141592653589793,3.141592653589793,51),\".3f\",true)"
      ]
     },
     "metadata": {},
     "output_type": "display_data"
    },
    {
     "data": {
      "text/html": [],
      "text/plain": [
       "Interact.Slider{Float64}(Signal{Float64}(0.0, nactions=0),\"rightWristPitch.1\",0.0,linspace(-3.141592653589793,3.141592653589793,51),\".3f\",true)"
      ]
     },
     "metadata": {},
     "output_type": "display_data"
    },
    {
     "data": {
      "text/html": [],
      "text/plain": [
       "Interact.Slider{Float64}(Signal{Float64}(0.0, nactions=0),\"leftShoulderPitch.1\",0.0,linspace(-3.141592653589793,3.141592653589793,51),\".3f\",true)"
      ]
     },
     "metadata": {},
     "output_type": "display_data"
    },
    {
     "data": {
      "text/html": [],
      "text/plain": [
       "Interact.Slider{Float64}(Signal{Float64}(0.0, nactions=0),\"leftShoulderRoll.1\",0.0,linspace(-3.141592653589793,3.141592653589793,51),\".3f\",true)"
      ]
     },
     "metadata": {},
     "output_type": "display_data"
    },
    {
     "data": {
      "text/html": [],
      "text/plain": [
       "Interact.Slider{Float64}(Signal{Float64}(0.0, nactions=0),\"leftShoulderYaw.1\",0.0,linspace(-3.141592653589793,3.141592653589793,51),\".3f\",true)"
      ]
     },
     "metadata": {},
     "output_type": "display_data"
    },
    {
     "data": {
      "text/html": [],
      "text/plain": [
       "Interact.Slider{Float64}(Signal{Float64}(0.0, nactions=0),\"leftElbowPitch.1\",0.0,linspace(-3.141592653589793,3.141592653589793,51),\".3f\",true)"
      ]
     },
     "metadata": {},
     "output_type": "display_data"
    },
    {
     "data": {
      "text/html": [],
      "text/plain": [
       "Interact.Slider{Float64}(Signal{Float64}(0.0, nactions=0),\"leftForearmYaw.1\",0.0,linspace(-3.141592653589793,3.141592653589793,51),\".3f\",true)"
      ]
     },
     "metadata": {},
     "output_type": "display_data"
    },
    {
     "data": {
      "text/html": [],
      "text/plain": [
       "Interact.Slider{Float64}(Signal{Float64}(0.0, nactions=0),\"leftWristRoll.1\",0.0,linspace(-3.141592653589793,3.141592653589793,51),\".3f\",true)"
      ]
     },
     "metadata": {},
     "output_type": "display_data"
    },
    {
     "data": {
      "text/html": [],
      "text/plain": [
       "Interact.Slider{Float64}(Signal{Float64}(0.0, nactions=0),\"leftWristPitch.1\",0.0,linspace(-3.141592653589793,3.141592653589793,51),\".3f\",true)"
      ]
     },
     "metadata": {},
     "output_type": "display_data"
    },
    {
     "data": {
      "text/html": [],
      "text/plain": [
       "Interact.Slider{Float64}(Signal{Float64}(0.0, nactions=0),\"rightHipYaw.1\",0.0,linspace(-3.141592653589793,3.141592653589793,51),\".3f\",true)"
      ]
     },
     "metadata": {},
     "output_type": "display_data"
    },
    {
     "data": {
      "text/html": [],
      "text/plain": [
       "Interact.Slider{Float64}(Signal{Float64}(0.0, nactions=0),\"rightHipRoll.1\",0.0,linspace(-3.141592653589793,3.141592653589793,51),\".3f\",true)"
      ]
     },
     "metadata": {},
     "output_type": "display_data"
    },
    {
     "data": {
      "text/html": [],
      "text/plain": [
       "Interact.Slider{Float64}(Signal{Float64}(0.0, nactions=0),\"rightHipPitch.1\",0.0,linspace(-3.141592653589793,3.141592653589793,51),\".3f\",true)"
      ]
     },
     "metadata": {},
     "output_type": "display_data"
    },
    {
     "data": {
      "text/html": [],
      "text/plain": [
       "Interact.Slider{Float64}(Signal{Float64}(0.0, nactions=0),\"rightKneePitch.1\",0.0,linspace(-3.141592653589793,3.141592653589793,51),\".3f\",true)"
      ]
     },
     "metadata": {},
     "output_type": "display_data"
    },
    {
     "data": {
      "text/html": [],
      "text/plain": [
       "Interact.Slider{Float64}(Signal{Float64}(0.0, nactions=0),\"rightAnklePitch.1\",0.0,linspace(-3.141592653589793,3.141592653589793,51),\".3f\",true)"
      ]
     },
     "metadata": {},
     "output_type": "display_data"
    },
    {
     "data": {
      "text/html": [],
      "text/plain": [
       "Interact.Slider{Float64}(Signal{Float64}(0.0, nactions=0),\"rightAnkleRoll.1\",0.0,linspace(-3.141592653589793,3.141592653589793,51),\".3f\",true)"
      ]
     },
     "metadata": {},
     "output_type": "display_data"
    },
    {
     "data": {
      "text/html": [],
      "text/plain": [
       "Interact.Slider{Float64}(Signal{Float64}(0.0, nactions=0),\"leftHipYaw.1\",0.0,linspace(-3.141592653589793,3.141592653589793,51),\".3f\",true)"
      ]
     },
     "metadata": {},
     "output_type": "display_data"
    },
    {
     "data": {
      "text/html": [],
      "text/plain": [
       "Interact.Slider{Float64}(Signal{Float64}(0.0, nactions=0),\"leftHipRoll.1\",0.0,linspace(-3.141592653589793,3.141592653589793,51),\".3f\",true)"
      ]
     },
     "metadata": {},
     "output_type": "display_data"
    },
    {
     "data": {
      "text/html": [],
      "text/plain": [
       "Interact.Slider{Float64}(Signal{Float64}(0.0, nactions=0),\"leftHipPitch.1\",0.0,linspace(-3.141592653589793,3.141592653589793,51),\".3f\",true)"
      ]
     },
     "metadata": {},
     "output_type": "display_data"
    },
    {
     "data": {
      "text/html": [],
      "text/plain": [
       "Interact.Slider{Float64}(Signal{Float64}(0.0, nactions=0),\"leftKneePitch.1\",0.0,linspace(-3.141592653589793,3.141592653589793,51),\".3f\",true)"
      ]
     },
     "metadata": {},
     "output_type": "display_data"
    },
    {
     "data": {
      "text/html": [],
      "text/plain": [
       "Interact.Slider{Float64}(Signal{Float64}(0.0, nactions=0),\"leftAnklePitch.1\",0.0,linspace(-3.141592653589793,3.141592653589793,51),\".3f\",true)"
      ]
     },
     "metadata": {},
     "output_type": "display_data"
    },
    {
     "data": {
      "text/html": [],
      "text/plain": [
       "Interact.Slider{Float64}(Signal{Float64}(0.0, nactions=0),\"leftAnkleRoll.1\",0.0,linspace(-3.141592653589793,3.141592653589793,51),\".3f\",true)"
      ]
     },
     "metadata": {},
     "output_type": "display_data"
    },
    {
     "data": {
      "text/plain": [
       "nothing"
      ]
     },
     "execution_count": 4,
     "metadata": {
      "comm_id": "cc90d1ea-94f7-4e2f-88cb-fd009ae32cf6",
      "reactive": true
     },
     "output_type": "execute_result"
    }
   ],
   "source": [
    "# And we can also show the inertias of each link, visualized as\n",
    "# ellipsoids of equivalent mass and inertia\n",
    "inspect(mechanism; show_inertias=true)"
   ]
  },
  {
   "cell_type": "code",
   "execution_count": 5,
   "metadata": {
    "collapsed": false
   },
   "outputs": [
    {
     "data": {
      "text/html": [],
      "text/plain": [
       "Interact.Slider{Float64}(Signal{Float64}(0.0, nactions=0),\"torsoYaw.1\",0.0,linspace(-3.141592653589793,3.141592653589793,51),\".3f\",true)"
      ]
     },
     "metadata": {},
     "output_type": "display_data"
    },
    {
     "data": {
      "text/html": [],
      "text/plain": [
       "Interact.Slider{Float64}(Signal{Float64}(0.0, nactions=0),\"torsoPitch.1\",0.0,linspace(-3.141592653589793,3.141592653589793,51),\".3f\",true)"
      ]
     },
     "metadata": {},
     "output_type": "display_data"
    },
    {
     "data": {
      "text/html": [],
      "text/plain": [
       "Interact.Slider{Float64}(Signal{Float64}(0.0, nactions=0),\"torsoRoll.1\",0.0,linspace(-3.141592653589793,3.141592653589793,51),\".3f\",true)"
      ]
     },
     "metadata": {},
     "output_type": "display_data"
    },
    {
     "data": {
      "text/html": [],
      "text/plain": [
       "Interact.Slider{Float64}(Signal{Float64}(0.0, nactions=0),\"lowerNeckPitch.1\",0.0,linspace(-3.141592653589793,3.141592653589793,51),\".3f\",true)"
      ]
     },
     "metadata": {},
     "output_type": "display_data"
    },
    {
     "data": {
      "text/html": [],
      "text/plain": [
       "Interact.Slider{Float64}(Signal{Float64}(0.0, nactions=0),\"rightShoulderPitch.1\",0.0,linspace(-3.141592653589793,3.141592653589793,51),\".3f\",true)"
      ]
     },
     "metadata": {},
     "output_type": "display_data"
    },
    {
     "data": {
      "text/html": [],
      "text/plain": [
       "Interact.Slider{Float64}(Signal{Float64}(0.0, nactions=0),\"rightShoulderRoll.1\",0.0,linspace(-3.141592653589793,3.141592653589793,51),\".3f\",true)"
      ]
     },
     "metadata": {},
     "output_type": "display_data"
    },
    {
     "data": {
      "text/html": [],
      "text/plain": [
       "Interact.Slider{Float64}(Signal{Float64}(0.0, nactions=0),\"rightShoulderYaw.1\",0.0,linspace(-3.141592653589793,3.141592653589793,51),\".3f\",true)"
      ]
     },
     "metadata": {},
     "output_type": "display_data"
    },
    {
     "data": {
      "text/html": [],
      "text/plain": [
       "Interact.Slider{Float64}(Signal{Float64}(0.0, nactions=0),\"rightElbowPitch.1\",0.0,linspace(-3.141592653589793,3.141592653589793,51),\".3f\",true)"
      ]
     },
     "metadata": {},
     "output_type": "display_data"
    },
    {
     "data": {
      "text/html": [],
      "text/plain": [
       "Interact.Slider{Float64}(Signal{Float64}(0.0, nactions=0),\"rightForearmYaw.1\",0.0,linspace(-3.141592653589793,3.141592653589793,51),\".3f\",true)"
      ]
     },
     "metadata": {},
     "output_type": "display_data"
    },
    {
     "data": {
      "text/html": [],
      "text/plain": [
       "Interact.Slider{Float64}(Signal{Float64}(0.0, nactions=0),\"rightWristRoll.1\",0.0,linspace(-3.141592653589793,3.141592653589793,51),\".3f\",true)"
      ]
     },
     "metadata": {},
     "output_type": "display_data"
    },
    {
     "data": {
      "text/html": [],
      "text/plain": [
       "Interact.Slider{Float64}(Signal{Float64}(0.0, nactions=0),\"rightWristPitch.1\",0.0,linspace(-3.141592653589793,3.141592653589793,51),\".3f\",true)"
      ]
     },
     "metadata": {},
     "output_type": "display_data"
    },
    {
     "data": {
      "text/html": [],
      "text/plain": [
       "Interact.Slider{Float64}(Signal{Float64}(0.0, nactions=0),\"leftShoulderPitch.1\",0.0,linspace(-3.141592653589793,3.141592653589793,51),\".3f\",true)"
      ]
     },
     "metadata": {},
     "output_type": "display_data"
    },
    {
     "data": {
      "text/html": [],
      "text/plain": [
       "Interact.Slider{Float64}(Signal{Float64}(0.0, nactions=0),\"leftShoulderRoll.1\",0.0,linspace(-3.141592653589793,3.141592653589793,51),\".3f\",true)"
      ]
     },
     "metadata": {},
     "output_type": "display_data"
    },
    {
     "data": {
      "text/html": [],
      "text/plain": [
       "Interact.Slider{Float64}(Signal{Float64}(0.0, nactions=0),\"leftShoulderYaw.1\",0.0,linspace(-3.141592653589793,3.141592653589793,51),\".3f\",true)"
      ]
     },
     "metadata": {},
     "output_type": "display_data"
    },
    {
     "data": {
      "text/html": [],
      "text/plain": [
       "Interact.Slider{Float64}(Signal{Float64}(0.0, nactions=0),\"leftElbowPitch.1\",0.0,linspace(-3.141592653589793,3.141592653589793,51),\".3f\",true)"
      ]
     },
     "metadata": {},
     "output_type": "display_data"
    },
    {
     "data": {
      "text/html": [],
      "text/plain": [
       "Interact.Slider{Float64}(Signal{Float64}(0.0, nactions=0),\"leftForearmYaw.1\",0.0,linspace(-3.141592653589793,3.141592653589793,51),\".3f\",true)"
      ]
     },
     "metadata": {},
     "output_type": "display_data"
    },
    {
     "data": {
      "text/html": [],
      "text/plain": [
       "Interact.Slider{Float64}(Signal{Float64}(0.0, nactions=0),\"leftWristRoll.1\",0.0,linspace(-3.141592653589793,3.141592653589793,51),\".3f\",true)"
      ]
     },
     "metadata": {},
     "output_type": "display_data"
    },
    {
     "data": {
      "text/html": [],
      "text/plain": [
       "Interact.Slider{Float64}(Signal{Float64}(0.0, nactions=0),\"leftWristPitch.1\",0.0,linspace(-3.141592653589793,3.141592653589793,51),\".3f\",true)"
      ]
     },
     "metadata": {},
     "output_type": "display_data"
    },
    {
     "data": {
      "text/html": [],
      "text/plain": [
       "Interact.Slider{Float64}(Signal{Float64}(0.0, nactions=0),\"rightHipYaw.1\",0.0,linspace(-3.141592653589793,3.141592653589793,51),\".3f\",true)"
      ]
     },
     "metadata": {},
     "output_type": "display_data"
    },
    {
     "data": {
      "text/html": [],
      "text/plain": [
       "Interact.Slider{Float64}(Signal{Float64}(0.0, nactions=0),\"rightHipRoll.1\",0.0,linspace(-3.141592653589793,3.141592653589793,51),\".3f\",true)"
      ]
     },
     "metadata": {},
     "output_type": "display_data"
    },
    {
     "data": {
      "text/html": [],
      "text/plain": [
       "Interact.Slider{Float64}(Signal{Float64}(0.0, nactions=0),\"rightHipPitch.1\",0.0,linspace(-3.141592653589793,3.141592653589793,51),\".3f\",true)"
      ]
     },
     "metadata": {},
     "output_type": "display_data"
    },
    {
     "data": {
      "text/html": [],
      "text/plain": [
       "Interact.Slider{Float64}(Signal{Float64}(0.0, nactions=0),\"rightKneePitch.1\",0.0,linspace(-3.141592653589793,3.141592653589793,51),\".3f\",true)"
      ]
     },
     "metadata": {},
     "output_type": "display_data"
    },
    {
     "data": {
      "text/html": [],
      "text/plain": [
       "Interact.Slider{Float64}(Signal{Float64}(0.0, nactions=0),\"rightAnklePitch.1\",0.0,linspace(-3.141592653589793,3.141592653589793,51),\".3f\",true)"
      ]
     },
     "metadata": {},
     "output_type": "display_data"
    },
    {
     "data": {
      "text/html": [],
      "text/plain": [
       "Interact.Slider{Float64}(Signal{Float64}(0.0, nactions=0),\"rightAnkleRoll.1\",0.0,linspace(-3.141592653589793,3.141592653589793,51),\".3f\",true)"
      ]
     },
     "metadata": {},
     "output_type": "display_data"
    },
    {
     "data": {
      "text/html": [],
      "text/plain": [
       "Interact.Slider{Float64}(Signal{Float64}(0.0, nactions=0),\"leftHipYaw.1\",0.0,linspace(-3.141592653589793,3.141592653589793,51),\".3f\",true)"
      ]
     },
     "metadata": {},
     "output_type": "display_data"
    },
    {
     "data": {
      "text/html": [],
      "text/plain": [
       "Interact.Slider{Float64}(Signal{Float64}(0.0, nactions=0),\"leftHipRoll.1\",0.0,linspace(-3.141592653589793,3.141592653589793,51),\".3f\",true)"
      ]
     },
     "metadata": {},
     "output_type": "display_data"
    },
    {
     "data": {
      "text/html": [],
      "text/plain": [
       "Interact.Slider{Float64}(Signal{Float64}(0.0, nactions=0),\"leftHipPitch.1\",0.0,linspace(-3.141592653589793,3.141592653589793,51),\".3f\",true)"
      ]
     },
     "metadata": {},
     "output_type": "display_data"
    },
    {
     "data": {
      "text/html": [],
      "text/plain": [
       "Interact.Slider{Float64}(Signal{Float64}(0.0, nactions=0),\"leftKneePitch.1\",0.0,linspace(-3.141592653589793,3.141592653589793,51),\".3f\",true)"
      ]
     },
     "metadata": {},
     "output_type": "display_data"
    },
    {
     "data": {
      "text/html": [],
      "text/plain": [
       "Interact.Slider{Float64}(Signal{Float64}(0.0, nactions=0),\"leftAnklePitch.1\",0.0,linspace(-3.141592653589793,3.141592653589793,51),\".3f\",true)"
      ]
     },
     "metadata": {},
     "output_type": "display_data"
    },
    {
     "data": {
      "text/html": [],
      "text/plain": [
       "Interact.Slider{Float64}(Signal{Float64}(0.0, nactions=0),\"leftAnkleRoll.1\",0.0,linspace(-3.141592653589793,3.141592653589793,51),\".3f\",true)"
      ]
     },
     "metadata": {},
     "output_type": "display_data"
    },
    {
     "data": {
      "text/plain": [
       "nothing"
      ]
     },
     "execution_count": 5,
     "metadata": {
      "comm_id": "5fe70322-d410-4a95-aaf7-36d68af2795e",
      "reactive": true
     },
     "output_type": "execute_result"
    }
   ],
   "source": [
    "# We can also parse the visual elements from the URDF and use them to \n",
    "# show the robot instead. The URDF we're using uses the package:// \n",
    "# prefix when looking for mesh files, so we'll have to tell it what \n",
    "# directories to search in:\n",
    "package_path = [\"$(ENV[\"HOME\"])/locomotion/drake-distro/drake/examples\"]\n",
    "vis = parse_urdf(urdf, mechanism; package_path=package_path);\n",
    "inspect(mechanism, vis)"
   ]
  },
  {
   "cell_type": "code",
   "execution_count": 6,
   "metadata": {
    "collapsed": true
   },
   "outputs": [],
   "source": []
  }
 ],
 "metadata": {
  "kernelspec": {
   "display_name": "Julia 0.5.0",
   "language": "julia",
   "name": "julia-0.5"
  },
  "language_info": {
   "file_extension": ".jl",
   "mimetype": "application/julia",
   "name": "julia",
   "version": "0.5.0"
  },
  "widgets": {
   "state": {
    "03dfab57-e16e-40e9-ab44-368147c465f4": {
     "views": [
      {
       "cell_index": 4
      }
     ]
    },
    "045dcc30-d736-424d-857b-015389e9f859": {
     "views": [
      {
       "cell_index": 3
      }
     ]
    },
    "048b23b9-ac69-4c9f-92a7-66125ccf65fb": {
     "views": [
      {
       "cell_index": 2
      }
     ]
    },
    "06091d77-ac5f-43e0-8190-b315ed153a64": {
     "views": [
      {
       "cell_index": 2
      }
     ]
    },
    "08927bd3-c799-4a38-8d78-ec4bd9685b0c": {
     "views": [
      {
       "cell_index": 4
      }
     ]
    },
    "08ebf33c-4bae-4b5c-9dfb-22697448b67b": {
     "views": [
      {
       "cell_index": 3
      }
     ]
    },
    "0916ef84-3ee3-442e-b3d4-da9e9d9f889c": {
     "views": [
      {
       "cell_index": 3
      }
     ]
    },
    "094e8fad-7ea2-45ed-8561-e45c2779fbed": {
     "views": [
      {
       "cell_index": 3
      }
     ]
    },
    "0c3a71db-c5f6-4b48-b7ea-a8a43e0767ce": {
     "views": [
      {
       "cell_index": 3
      }
     ]
    },
    "0ec0709e-3381-44eb-9b51-cda2b64acf4e": {
     "views": [
      {
       "cell_index": 3
      }
     ]
    },
    "0f07fdd2-0a49-4142-a47e-099a7f447814": {
     "views": [
      {
       "cell_index": 2
      }
     ]
    },
    "0f659916-ce9a-4484-9a6b-2d8e9445fd2b": {
     "views": [
      {
       "cell_index": 3
      }
     ]
    },
    "0f6c500e-8464-4563-92ef-432e51695a0a": {
     "views": [
      {
       "cell_index": 2
      }
     ]
    },
    "0fbb4577-581d-4ba6-8fe0-22faadd0a5e2": {
     "views": [
      {
       "cell_index": 3
      }
     ]
    },
    "11f16e27-bd97-4b1a-9314-8897fa827a8d": {
     "views": [
      {
       "cell_index": 3
      }
     ]
    },
    "133c8344-9630-4671-8544-ac759bfa688a": {
     "views": [
      {
       "cell_index": 3
      }
     ]
    },
    "137db514-cd14-44ff-9caf-c13f94ffeaa0": {
     "views": [
      {
       "cell_index": 4
      }
     ]
    },
    "14e75a28-ca51-4522-a662-c3109a820b40": {
     "views": [
      {
       "cell_index": 3
      }
     ]
    },
    "1520736a-edab-4de1-b0c2-cef36b2c3dd3": {
     "views": [
      {
       "cell_index": 2
      }
     ]
    },
    "15db8af4-c852-4bc8-b03f-81b55f49deb3": {
     "views": [
      {
       "cell_index": 2
      }
     ]
    },
    "1760b15c-a0b4-4944-9156-8b0fe1a5fed0": {
     "views": [
      {
       "cell_index": 2
      }
     ]
    },
    "17ba780d-10bd-48b8-9b9e-12eb0b1537cb": {
     "views": [
      {
       "cell_index": 3
      }
     ]
    },
    "18669d2f-35e2-4e9f-bf65-4db6e86d04af": {
     "views": [
      {
       "cell_index": 3
      }
     ]
    },
    "19ee6c73-8942-4f7f-9bd2-a5f5f3dea3c2": {
     "views": [
      {
       "cell_index": 2
      }
     ]
    },
    "1a97b1cd-71e4-4af3-916b-08dd33c9f7d9": {
     "views": [
      {
       "cell_index": 2
      }
     ]
    },
    "1c3b3a52-d3d9-40b0-890e-19e9bcc15057": {
     "views": [
      {
       "cell_index": 2
      }
     ]
    },
    "1c4f6893-f553-4c44-aa4b-1199ac50b53e": {
     "views": [
      {
       "cell_index": 4
      }
     ]
    },
    "1c875b23-784c-45ad-b2f9-e9ea83906d13": {
     "views": [
      {
       "cell_index": 3
      }
     ]
    },
    "1cd5bc4a-ca0d-4d39-8697-25e5ca454658": {
     "views": [
      {
       "cell_index": 3
      }
     ]
    },
    "1db928cf-bf41-4658-bc2c-c65f0a9e3e24": {
     "views": [
      {
       "cell_index": 3
      }
     ]
    },
    "1f38a618-2e82-4a1c-94e4-3af771b0947d": {
     "views": [
      {
       "cell_index": 4
      }
     ]
    },
    "20c45969-19ed-49ee-92e5-a2da5128a5e8": {
     "views": [
      {
       "cell_index": 3
      }
     ]
    },
    "2109e20e-56d6-45eb-b37f-18743d0d6192": {
     "views": [
      {
       "cell_index": 4
      }
     ]
    },
    "22db8352-f536-4c9b-bd75-8b3634144919": {
     "views": [
      {
       "cell_index": 2
      }
     ]
    },
    "232b9757-5434-4aa4-bcf5-db6d8c501778": {
     "views": [
      {
       "cell_index": 3
      }
     ]
    },
    "23728214-c514-412a-ab39-2d79ad3db0cc": {
     "views": [
      {
       "cell_index": 3
      }
     ]
    },
    "240a564f-1f68-4919-9854-5747a16528ed": {
     "views": [
      {
       "cell_index": 3
      }
     ]
    },
    "24332051-f373-4257-999c-ec1a10ffb7e1": {
     "views": [
      {
       "cell_index": 2
      }
     ]
    },
    "2481e1df-b63d-4d50-a0f6-deccfa9fed2b": {
     "views": [
      {
       "cell_index": 2
      }
     ]
    },
    "24af53cd-676a-47e7-a9ea-ca6d252de858": {
     "views": [
      {
       "cell_index": 2
      }
     ]
    },
    "24e18139-d7bc-43d5-9fcc-b44a0a5cc1b6": {
     "views": [
      {
       "cell_index": 2
      }
     ]
    },
    "25ea8fa8-5da0-43d0-87a2-b5ffc93b920c": {
     "views": [
      {
       "cell_index": 3
      }
     ]
    },
    "2611e97e-d644-4608-95de-6919a07b6602": {
     "views": [
      {
       "cell_index": 3
      }
     ]
    },
    "269dcd45-f8fc-45a3-bb59-45b3abed3b36": {
     "views": [
      {
       "cell_index": 4
      }
     ]
    },
    "27149a87-ae0d-4c91-b34c-017fe1ed3fca": {
     "views": [
      {
       "cell_index": 3
      }
     ]
    },
    "27d1f69d-07ed-4caf-9bae-1d9fd2acc21d": {
     "views": [
      {
       "cell_index": 3
      }
     ]
    },
    "29d1c40c-d01a-431b-9e19-3899bfd6cade": {
     "views": [
      {
       "cell_index": 2
      }
     ]
    },
    "2b605c50-eb4c-4727-9697-b6572364ae63": {
     "views": [
      {
       "cell_index": 2
      }
     ]
    },
    "2c7e2e72-b651-41ba-a3c8-2a8d0c32bc9f": {
     "views": [
      {
       "cell_index": 2
      }
     ]
    },
    "2ca15541-b934-4096-bca5-7e39ffdf48b4": {
     "views": [
      {
       "cell_index": 3
      }
     ]
    },
    "2cca3bda-a402-48c7-b66b-e6fe689cda5f": {
     "views": [
      {
       "cell_index": 2
      }
     ]
    },
    "2e47159d-7618-434f-add6-68a3c8cd2dd4": {
     "views": [
      {
       "cell_index": 3
      }
     ]
    },
    "2e7932e2-f7fb-4c63-89f7-f0bcf6b0479c": {
     "views": [
      {
       "cell_index": 3
      }
     ]
    },
    "2f9a5757-0481-4a60-bf3b-d9b1c2f391ab": {
     "views": [
      {
       "cell_index": 2
      }
     ]
    },
    "329787dd-232d-4911-96b5-a72e5f136e60": {
     "views": [
      {
       "cell_index": 4
      }
     ]
    },
    "32994d95-6680-49dd-a349-81a6e1fc142b": {
     "views": [
      {
       "cell_index": 3
      }
     ]
    },
    "32f3c278-2985-4b84-9853-db0b7d24389e": {
     "views": [
      {
       "cell_index": 2
      }
     ]
    },
    "330f2386-dd67-476e-8969-51cf68cd3ff4": {
     "views": [
      {
       "cell_index": 4
      }
     ]
    },
    "33dc4e6f-7c8b-486e-9407-d4ce4737e6bf": {
     "views": [
      {
       "cell_index": 2
      }
     ]
    },
    "34c09d74-09fc-4b24-b85f-1ac8ca635cb5": {
     "views": [
      {
       "cell_index": 3
      }
     ]
    },
    "3622817b-008c-45c8-a374-2c4ebb45e77e": {
     "views": [
      {
       "cell_index": 4
      }
     ]
    },
    "366fc0cd-1ee9-4819-b8c8-bb7171bbe460": {
     "views": [
      {
       "cell_index": 3
      }
     ]
    },
    "368bdab1-dec3-4d33-8825-50d740d85081": {
     "views": [
      {
       "cell_index": 2
      }
     ]
    },
    "37bd5014-ec5c-459e-b59f-b8a3c2c31443": {
     "views": [
      {
       "cell_index": 2
      }
     ]
    },
    "383331ac-9b49-4d30-a2d2-0adf9e94acae": {
     "views": [
      {
       "cell_index": 3
      }
     ]
    },
    "3a7f5816-dd00-4cad-9fee-5f7f2d4ffc1b": {
     "views": [
      {
       "cell_index": 2
      }
     ]
    },
    "3b2675af-be9c-4e45-8568-7d457470c731": {
     "views": [
      {
       "cell_index": 3
      }
     ]
    },
    "3bfa9c1a-e2be-40f6-a355-76254b3bcae2": {
     "views": [
      {
       "cell_index": 2
      }
     ]
    },
    "3d9e3cf6-edea-4d32-a205-8f4b0054aa97": {
     "views": [
      {
       "cell_index": 2
      }
     ]
    },
    "3dd3c70a-62b6-4fdb-86cd-7dd41c3265cf": {
     "views": [
      {
       "cell_index": 2
      }
     ]
    },
    "3e660a23-a42f-48e4-8f02-2d451b9aa4d3": {
     "views": [
      {
       "cell_index": 2
      }
     ]
    },
    "3e79cbb2-743f-4f02-8af8-ca9de398a097": {
     "views": [
      {
       "cell_index": 2
      }
     ]
    },
    "3ef1ce4c-49f9-4d63-acd6-2799a500656b": {
     "views": [
      {
       "cell_index": 2
      }
     ]
    },
    "3f2e73ef-fe10-431d-bb9d-4d1f40e2c0e4": {
     "views": [
      {
       "cell_index": 3
      }
     ]
    },
    "40615ffb-f3ab-4e18-a49d-b05ca47d5dc9": {
     "views": [
      {
       "cell_index": 3
      }
     ]
    },
    "41052171-f529-4367-9145-49ae8f174a84": {
     "views": [
      {
       "cell_index": 2
      }
     ]
    },
    "415b3456-1c3c-4aae-93f0-012a07fd4ccb": {
     "views": [
      {
       "cell_index": 4
      }
     ]
    },
    "42094405-0c6d-401e-a734-d2cd7cc35c61": {
     "views": [
      {
       "cell_index": 2
      }
     ]
    },
    "427eecf3-db17-4d36-b701-5367659f71e4": {
     "views": [
      {
       "cell_index": 4
      }
     ]
    },
    "433565b1-830d-4c1b-b2a0-872526019727": {
     "views": [
      {
       "cell_index": 4
      }
     ]
    },
    "44d1fc4e-47de-48ee-8e2c-596eda9e1061": {
     "views": [
      {
       "cell_index": 2
      }
     ]
    },
    "45069b0a-1f64-49e1-ac39-9d936a9b5109": {
     "views": [
      {
       "cell_index": 3
      }
     ]
    },
    "458008d1-985b-4f9a-8ccf-2986fa9cc199": {
     "views": [
      {
       "cell_index": 2
      }
     ]
    },
    "46a31f1e-0859-4812-964c-7f1459782048": {
     "views": [
      {
       "cell_index": 2
      }
     ]
    },
    "479031a4-f1ab-423a-a031-5193b6728785": {
     "views": [
      {
       "cell_index": 4
      }
     ]
    },
    "48455747-f305-4ff0-a26b-14c8ccd11519": {
     "views": [
      {
       "cell_index": 2
      }
     ]
    },
    "48f9f40e-b24a-4100-9617-524b145a742b": {
     "views": [
      {
       "cell_index": 3
      }
     ]
    },
    "49be2e91-049a-42b8-aed6-c9d5b2a5dad9": {
     "views": [
      {
       "cell_index": 4
      }
     ]
    },
    "49bfaee2-e2be-4872-8a29-fac3222c99f8": {
     "views": [
      {
       "cell_index": 2
      }
     ]
    },
    "4a3b548f-fc7d-47cf-95ac-a91057affcf2": {
     "views": [
      {
       "cell_index": 2
      }
     ]
    },
    "4ab8f3c5-f23d-4603-b1f8-2b245e000c97": {
     "views": [
      {
       "cell_index": 2
      }
     ]
    },
    "4b1163e7-917d-4dda-a3d9-2c915d9a1cf1": {
     "views": [
      {
       "cell_index": 3
      }
     ]
    },
    "4b604219-33c5-4720-a621-7d13e9c16b88": {
     "views": [
      {
       "cell_index": 2
      }
     ]
    },
    "4d5836c7-31b8-46bc-b5df-ca64aa21644a": {
     "views": [
      {
       "cell_index": 2
      }
     ]
    },
    "4d72c34e-2159-4779-8e98-54f2e4873d09": {
     "views": [
      {
       "cell_index": 2
      }
     ]
    },
    "4e97c271-6ed3-4877-a929-0ea4f52c7771": {
     "views": [
      {
       "cell_index": 4
      }
     ]
    },
    "4fb1e919-d286-496a-a520-58afad748b3c": {
     "views": [
      {
       "cell_index": 2
      }
     ]
    },
    "4fd07f5d-3441-42d6-8c37-ca6e4ead1282": {
     "views": [
      {
       "cell_index": 3
      }
     ]
    },
    "516392a5-e9c3-40e4-bac4-3b5f6cf224b0": {
     "views": [
      {
       "cell_index": 3
      }
     ]
    },
    "51e99c33-64f7-4362-bd08-2fd0f5b63cc2": {
     "views": [
      {
       "cell_index": 4
      }
     ]
    },
    "52cdaefd-add1-471f-a8ef-a25b8da8b52a": {
     "views": [
      {
       "cell_index": 3
      }
     ]
    },
    "5315e677-8bad-4dcf-8882-5eac760f602a": {
     "views": [
      {
       "cell_index": 3
      }
     ]
    },
    "5348c776-c84e-49eb-8577-46f31ed8282a": {
     "views": [
      {
       "cell_index": 4
      }
     ]
    },
    "56214ffd-5137-443d-bb91-b1c97f175a6e": {
     "views": [
      {
       "cell_index": 4
      }
     ]
    },
    "5656b731-5e0d-4608-a233-19ac136c6914": {
     "views": [
      {
       "cell_index": 4
      }
     ]
    },
    "57bf1742-fad4-4a87-b942-e14e278ebc4c": {
     "views": [
      {
       "cell_index": 3
      }
     ]
    },
    "57e84a44-372b-493e-970d-6fac40aadfc1": {
     "views": [
      {
       "cell_index": 2
      }
     ]
    },
    "5960c004-6745-4977-8d80-a4b0874d86eb": {
     "views": [
      {
       "cell_index": 2
      }
     ]
    },
    "596a6086-a109-42f6-b3fa-5810dc4b3fee": {
     "views": [
      {
       "cell_index": 3
      }
     ]
    },
    "59f48a54-e5d2-4b8d-ba22-1a98143defa9": {
     "views": [
      {
       "cell_index": 4
      }
     ]
    },
    "5c6416ca-81b5-42c5-83f3-1a3593370272": {
     "views": [
      {
       "cell_index": 2
      }
     ]
    },
    "5ccc8c49-1a47-4d98-bfbc-0afda244b56d": {
     "views": [
      {
       "cell_index": 3
      }
     ]
    },
    "5d22a2f0-efff-4635-984a-2663d9c19e4e": {
     "views": [
      {
       "cell_index": 3
      }
     ]
    },
    "5ef02cb3-996c-4367-a246-1293b24f24f9": {
     "views": [
      {
       "cell_index": 3
      }
     ]
    },
    "5ef07ed8-1bed-4c25-b617-80aaf1c33b78": {
     "views": [
      {
       "cell_index": 3
      }
     ]
    },
    "5fa26721-88b8-4f82-bb80-39dee4bc97bf": {
     "views": [
      {
       "cell_index": 3
      }
     ]
    },
    "5fef477b-4d7c-439d-be0d-bf4207fe1b9d": {
     "views": [
      {
       "cell_index": 3
      }
     ]
    },
    "5ff62c3f-3f18-43ae-b020-8f29102bf01e": {
     "views": [
      {
       "cell_index": 4
      }
     ]
    },
    "60d621f8-582e-4262-849f-4b5ec780e7ef": {
     "views": [
      {
       "cell_index": 2
      }
     ]
    },
    "62bf3d5d-f843-40ac-9bb1-269f4096d4a9": {
     "views": [
      {
       "cell_index": 2
      }
     ]
    },
    "63e05152-8dff-4ceb-bff9-87c88fe40b88": {
     "views": [
      {
       "cell_index": 3
      }
     ]
    },
    "6419eab0-7d3a-48dc-85c2-4ad513c633d5": {
     "views": [
      {
       "cell_index": 3
      }
     ]
    },
    "651606f0-eb89-42be-98ee-214864a027b3": {
     "views": [
      {
       "cell_index": 2
      }
     ]
    },
    "659d7fda-d8d2-46e3-82f0-ccd8347c8dc3": {
     "views": [
      {
       "cell_index": 4
      }
     ]
    },
    "668637b2-3d4e-4f94-a68e-4cfb673187d0": {
     "views": [
      {
       "cell_index": 4
      }
     ]
    },
    "6b63f1d8-e9a7-4b3a-bbc5-3dcaabfc90da": {
     "views": [
      {
       "cell_index": 2
      }
     ]
    },
    "6ba2270e-f0cb-4895-9a9e-f5f6528aa982": {
     "views": [
      {
       "cell_index": 3
      }
     ]
    },
    "6c74425f-23c2-4fb7-af43-2b3b02e977e9": {
     "views": [
      {
       "cell_index": 4
      }
     ]
    },
    "6e19509e-b691-4501-8477-bee0c6624cad": {
     "views": [
      {
       "cell_index": 2
      }
     ]
    },
    "6e8d5603-24fd-43c6-91bd-dcf90b5f1da9": {
     "views": [
      {
       "cell_index": 4
      }
     ]
    },
    "7045ec15-ed59-46f4-be44-a701ff6d68e3": {
     "views": [
      {
       "cell_index": 3
      }
     ]
    },
    "708889df-3044-41cb-a3f4-1b6e11891bca": {
     "views": [
      {
       "cell_index": 3
      }
     ]
    },
    "70e42671-3273-4156-8835-64614a4db070": {
     "views": [
      {
       "cell_index": 4
      }
     ]
    },
    "719096f1-c367-4940-be38-cea33e125a07": {
     "views": [
      {
       "cell_index": 3
      }
     ]
    },
    "719b0157-e070-4550-9ff8-3f99f695a366": {
     "views": [
      {
       "cell_index": 3
      }
     ]
    },
    "72460e38-5c81-4c03-84f1-69b85815f696": {
     "views": [
      {
       "cell_index": 3
      }
     ]
    },
    "728be5f4-47dc-47ea-8432-167bf07c24fc": {
     "views": [
      {
       "cell_index": 4
      }
     ]
    },
    "7456d9dc-0591-4dd8-bb55-e4a755dfc490": {
     "views": [
      {
       "cell_index": 2
      }
     ]
    },
    "77423d72-423d-4f0a-b6da-7dbb70bcb51a": {
     "views": [
      {
       "cell_index": 2
      }
     ]
    },
    "77b3f1c5-117b-4291-9afd-795d7b38f068": {
     "views": [
      {
       "cell_index": 3
      }
     ]
    },
    "77b89331-da85-405f-ae95-8137911e8ede": {
     "views": [
      {
       "cell_index": 3
      }
     ]
    },
    "7886f456-ee3f-4ee0-8f43-f6d0b9c2d162": {
     "views": [
      {
       "cell_index": 2
      }
     ]
    },
    "7a132821-7ad1-4c5b-9622-69c974c2b86e": {
     "views": [
      {
       "cell_index": 2
      }
     ]
    },
    "7aaeb51a-6d75-47b0-ab9d-0b6a0a8db294": {
     "views": [
      {
       "cell_index": 4
      }
     ]
    },
    "7be92c65-8e71-47dc-8ba8-5324d5995ae4": {
     "views": [
      {
       "cell_index": 2
      }
     ]
    },
    "7df238d0-78db-471e-8d5d-e3fc82452a74": {
     "views": [
      {
       "cell_index": 4
      }
     ]
    },
    "7e4ec161-dd1b-4df6-9ae3-00bd0ebab6fd": {
     "views": [
      {
       "cell_index": 2
      }
     ]
    },
    "7ffeec79-a153-402c-9816-4f7a7f2b3bc7": {
     "views": [
      {
       "cell_index": 2
      }
     ]
    },
    "805ef42b-8c9b-4210-baa4-bbbe6668ba6e": {
     "views": [
      {
       "cell_index": 4
      }
     ]
    },
    "8191fb99-4aec-4d2a-aa29-88db5648dbdc": {
     "views": [
      {
       "cell_index": 3
      }
     ]
    },
    "81ac0ba2-83cd-42f5-9082-c5c097612b68": {
     "views": [
      {
       "cell_index": 2
      }
     ]
    },
    "83351e51-9eb6-4fd1-a54e-6bcd0ae78bd7": {
     "views": [
      {
       "cell_index": 2
      }
     ]
    },
    "838f48ab-214b-4d40-b9c4-96c792e6d72e": {
     "views": [
      {
       "cell_index": 4
      }
     ]
    },
    "83c76d83-bf2a-4d8e-9d34-166e2090d86f": {
     "views": [
      {
       "cell_index": 3
      }
     ]
    },
    "8670b4ce-bee3-4a31-beee-50318ebca8af": {
     "views": [
      {
       "cell_index": 2
      }
     ]
    },
    "8690768c-6d6e-4814-9754-8e5cbfcb8759": {
     "views": [
      {
       "cell_index": 2
      }
     ]
    },
    "87dce240-6b18-4fef-b9e6-6efe6dadd8f8": {
     "views": [
      {
       "cell_index": 4
      }
     ]
    },
    "88740410-cb01-4fa9-88af-bc96d48a02b4": {
     "views": [
      {
       "cell_index": 2
      }
     ]
    },
    "887e1731-ecc9-4c70-b337-edbf112077b3": {
     "views": [
      {
       "cell_index": 4
      }
     ]
    },
    "8883792d-b6b2-4acc-a55c-f556daf9a8b9": {
     "views": [
      {
       "cell_index": 4
      }
     ]
    },
    "88ace0ef-3947-4d46-9d0a-922401ab7ba8": {
     "views": [
      {
       "cell_index": 3
      }
     ]
    },
    "890de1c4-cbc9-4c53-b820-981b29673f35": {
     "views": [
      {
       "cell_index": 3
      }
     ]
    },
    "8adea534-1a13-4502-b542-c39c20454659": {
     "views": [
      {
       "cell_index": 4
      }
     ]
    },
    "8b1fc98e-779a-4a85-a58e-f5a016858ec9": {
     "views": [
      {
       "cell_index": 4
      }
     ]
    },
    "8cd4ea60-926d-469a-a601-5db0aaff8e29": {
     "views": [
      {
       "cell_index": 2
      }
     ]
    },
    "8d14823c-6a29-484d-be13-60ee935fdd05": {
     "views": [
      {
       "cell_index": 2
      }
     ]
    },
    "8e005807-fe08-4d3c-98cf-d297bb236b9c": {
     "views": [
      {
       "cell_index": 3
      }
     ]
    },
    "8fb21646-c052-4a41-a875-2cc637d4157b": {
     "views": [
      {
       "cell_index": 4
      }
     ]
    },
    "91084ab0-fd7e-4fed-8132-1f59ad26dfa3": {
     "views": [
      {
       "cell_index": 3
      }
     ]
    },
    "91d0ce81-e8b6-448f-9204-bc7eca88d07d": {
     "views": [
      {
       "cell_index": 4
      }
     ]
    },
    "925fc730-dfea-4249-bf3c-19e5508d4472": {
     "views": [
      {
       "cell_index": 4
      }
     ]
    },
    "9297e87b-c3d1-4120-8e6f-22986bbab0e4": {
     "views": [
      {
       "cell_index": 3
      }
     ]
    },
    "92c7d3fa-f97e-41fe-ac1c-daad856de68f": {
     "views": [
      {
       "cell_index": 2
      }
     ]
    },
    "93995c18-43d3-4f1f-8e99-3953b739b816": {
     "views": [
      {
       "cell_index": 3
      }
     ]
    },
    "93b0f6ee-932d-4582-80ea-5613870219ab": {
     "views": [
      {
       "cell_index": 3
      }
     ]
    },
    "96cb5d9b-500b-40ed-a9af-3b4f1a573502": {
     "views": [
      {
       "cell_index": 3
      }
     ]
    },
    "97da3705-5add-4602-b3ff-93af50f908ff": {
     "views": [
      {
       "cell_index": 3
      }
     ]
    },
    "98fc9604-9cb3-4137-ab54-fa7ebb6a5a5c": {
     "views": [
      {
       "cell_index": 4
      }
     ]
    },
    "991ec26f-2967-4cd2-b0a2-cce56b9527fa": {
     "views": [
      {
       "cell_index": 3
      }
     ]
    },
    "9a354fbf-32e8-4044-bf76-a2e6f0063e46": {
     "views": [
      {
       "cell_index": 3
      }
     ]
    },
    "9aad11ca-85b9-4375-b2ab-0591f8dd5f46": {
     "views": [
      {
       "cell_index": 4
      }
     ]
    },
    "9c7e7dc1-b364-4695-bdc9-aadb4a483dc9": {
     "views": [
      {
       "cell_index": 3
      }
     ]
    },
    "9c7fed25-e5dc-404f-8d76-8f4a7b78ffa2": {
     "views": [
      {
       "cell_index": 3
      }
     ]
    },
    "9e3ab054-c681-4f6e-abd3-c3efb2aac296": {
     "views": [
      {
       "cell_index": 3
      }
     ]
    },
    "9f5bb15c-161a-459c-8a5e-b9c99268903a": {
     "views": [
      {
       "cell_index": 3
      }
     ]
    },
    "a0fdc86d-c589-446b-8923-a223bf35a4b1": {
     "views": [
      {
       "cell_index": 4
      }
     ]
    },
    "a1f05b91-c89f-4b29-b163-4b9899a3edd3": {
     "views": [
      {
       "cell_index": 4
      }
     ]
    },
    "a29f3da7-e463-4beb-a849-809f8fd3fb92": {
     "views": [
      {
       "cell_index": 4
      }
     ]
    },
    "a2a0dc4a-b7c6-4464-84f7-2e89e5f12650": {
     "views": [
      {
       "cell_index": 2
      }
     ]
    },
    "a3824939-ced8-4aed-92b5-12334df39223": {
     "views": [
      {
       "cell_index": 2
      }
     ]
    },
    "a3c2ff91-6630-4180-8275-fe99b4786c80": {
     "views": [
      {
       "cell_index": 3
      }
     ]
    },
    "a41447a1-160b-4245-904c-948f96cffd68": {
     "views": [
      {
       "cell_index": 2
      }
     ]
    },
    "a536778a-fd07-4167-bc35-8f70df41f51c": {
     "views": [
      {
       "cell_index": 3
      }
     ]
    },
    "a564d5e0-dabe-40ef-939a-9622ed65ee4e": {
     "views": [
      {
       "cell_index": 4
      }
     ]
    },
    "a67800aa-24a7-4289-8318-4d035fdc6898": {
     "views": [
      {
       "cell_index": 2
      }
     ]
    },
    "a6d2e599-26e1-4399-a3fb-383baabe1652": {
     "views": [
      {
       "cell_index": 4
      }
     ]
    },
    "a6d3714d-af52-48f0-8fad-746ca04d0a38": {
     "views": [
      {
       "cell_index": 3
      }
     ]
    },
    "a71388b7-eacb-4c96-9ea9-da871877a4ff": {
     "views": [
      {
       "cell_index": 4
      }
     ]
    },
    "a747ec61-0241-4d87-b43a-2925137c9ea5": {
     "views": [
      {
       "cell_index": 3
      }
     ]
    },
    "a791d813-2190-480d-9f95-5152a982c851": {
     "views": [
      {
       "cell_index": 2
      }
     ]
    },
    "a8c93fa7-f607-4e13-be7d-6aee8f175bf8": {
     "views": [
      {
       "cell_index": 4
      }
     ]
    },
    "aac85b2a-46a9-4930-a8b8-2b7b7ad523ca": {
     "views": [
      {
       "cell_index": 3
      }
     ]
    },
    "abc3ea82-b929-4afd-8dbc-bed5b062a847": {
     "views": [
      {
       "cell_index": 2
      }
     ]
    },
    "ac1c9e1c-f862-4706-8e40-cfdbb222baa4": {
     "views": [
      {
       "cell_index": 2
      }
     ]
    },
    "ac1f8a93-fd93-4e27-9b02-033fcca2afb8": {
     "views": [
      {
       "cell_index": 2
      }
     ]
    },
    "ad02e511-ab5b-4975-ac24-8836d5b6ac4e": {
     "views": [
      {
       "cell_index": 4
      }
     ]
    },
    "af9ad1be-3e19-44b1-910a-7729e4cdd28e": {
     "views": [
      {
       "cell_index": 3
      }
     ]
    },
    "b03ce9df-b9b0-49c1-b1f6-d7dee925fbdf": {
     "views": [
      {
       "cell_index": 3
      }
     ]
    },
    "b2cbd6ac-4556-4f08-b6f9-25db96d6bd68": {
     "views": [
      {
       "cell_index": 4
      }
     ]
    },
    "b341582d-2d66-4036-b322-ea0a1c129581": {
     "views": [
      {
       "cell_index": 3
      }
     ]
    },
    "b366e26b-fead-4cb5-847f-d9a0a26b77e3": {
     "views": [
      {
       "cell_index": 4
      }
     ]
    },
    "b4179435-6f2d-4d9e-8297-8b00923976b2": {
     "views": [
      {
       "cell_index": 2
      }
     ]
    },
    "b43eca40-a357-45f7-9f1d-5075300b9e8e": {
     "views": [
      {
       "cell_index": 2
      }
     ]
    },
    "b494bc95-cac3-4056-b331-0f6ac48b0b76": {
     "views": [
      {
       "cell_index": 2
      }
     ]
    },
    "b588374f-2264-4a19-9f71-138060f863b0": {
     "views": [
      {
       "cell_index": 3
      }
     ]
    },
    "b58f878e-f384-453b-bb27-679cbb2d006c": {
     "views": [
      {
       "cell_index": 3
      }
     ]
    },
    "b63a89e7-7148-4260-ac67-f0a122ee169a": {
     "views": [
      {
       "cell_index": 3
      }
     ]
    },
    "b63fae57-1154-427b-8173-67a9688a16ef": {
     "views": [
      {
       "cell_index": 4
      }
     ]
    },
    "b6b89b22-9c28-44ca-b527-13d542be3d17": {
     "views": [
      {
       "cell_index": 4
      }
     ]
    },
    "b6bba854-2562-47d5-8c20-a95bcb2fb4a4": {
     "views": [
      {
       "cell_index": 3
      }
     ]
    },
    "b6becae1-804d-475a-aeef-877bc109af91": {
     "views": [
      {
       "cell_index": 3
      }
     ]
    },
    "b869e363-0a49-4ad0-80de-ee47e3e7a2b9": {
     "views": [
      {
       "cell_index": 4
      }
     ]
    },
    "b87efb16-2b1c-4b6c-b472-56493ede56b7": {
     "views": [
      {
       "cell_index": 3
      }
     ]
    },
    "b90a153a-6ceb-47e5-98ae-6444549c0e39": {
     "views": [
      {
       "cell_index": 4
      }
     ]
    },
    "b9618928-9f1f-467f-8706-2027a9668b9c": {
     "views": [
      {
       "cell_index": 4
      }
     ]
    },
    "ba8d472c-a636-4949-8245-78b72c1a9d5f": {
     "views": [
      {
       "cell_index": 3
      }
     ]
    },
    "bc0a7383-0c17-46b8-b4a4-1f139123077b": {
     "views": [
      {
       "cell_index": 3
      }
     ]
    },
    "bc97d4bd-0718-4ba2-b6f1-0b00bdeffcc3": {
     "views": [
      {
       "cell_index": 3
      }
     ]
    },
    "bdc8a88f-2ccd-49be-86a1-8ae39dad6d32": {
     "views": [
      {
       "cell_index": 3
      }
     ]
    },
    "be082d0a-b2db-4968-a137-9b709f33d2ab": {
     "views": [
      {
       "cell_index": 2
      }
     ]
    },
    "bffef031-55b8-4cf9-9bd9-80c9855a9c41": {
     "views": [
      {
       "cell_index": 2
      }
     ]
    },
    "c0703893-b582-4643-a38c-84650cb74c9e": {
     "views": [
      {
       "cell_index": 2
      }
     ]
    },
    "c0de4afa-0eb8-4dd4-be4c-310cc4b7437e": {
     "views": [
      {
       "cell_index": 3
      }
     ]
    },
    "c5f6fba3-00a7-4aba-a1ab-d5e3142940f1": {
     "views": [
      {
       "cell_index": 2
      }
     ]
    },
    "c6a188d6-804a-4260-ab69-04bb18f788be": {
     "views": [
      {
       "cell_index": 4
      }
     ]
    },
    "c90e6e17-b26c-4f04-b2d6-417bf62b0e5b": {
     "views": [
      {
       "cell_index": 3
      }
     ]
    },
    "c9b41315-7455-4ac4-acbc-59ef93834c40": {
     "views": [
      {
       "cell_index": 4
      }
     ]
    },
    "cb4e2d05-722a-4155-8366-88602a7a51f4": {
     "views": [
      {
       "cell_index": 4
      }
     ]
    },
    "cc9186b2-32d5-4fac-a68c-a7a03e70050d": {
     "views": [
      {
       "cell_index": 3
      }
     ]
    },
    "cdac98e4-0d43-46f5-bc8b-c5af5b35a922": {
     "views": [
      {
       "cell_index": 4
      }
     ]
    },
    "cdced1fe-2101-4fdf-a7ef-92cd64146139": {
     "views": [
      {
       "cell_index": 4
      }
     ]
    },
    "cee320b6-0039-4a70-aa5e-92265158ceb3": {
     "views": [
      {
       "cell_index": 2
      }
     ]
    },
    "cf86ecca-ce42-4ee8-bac8-5a1862d36c26": {
     "views": [
      {
       "cell_index": 4
      }
     ]
    },
    "d0af8a7c-a19f-49a5-96c9-a5dd2c8dfe99": {
     "views": [
      {
       "cell_index": 3
      }
     ]
    },
    "d12cd582-f1fd-42a1-ada4-28cec8f29f8e": {
     "views": [
      {
       "cell_index": 2
      }
     ]
    },
    "d1333475-52ba-4bf1-b2a8-dedcc9c1cf9a": {
     "views": [
      {
       "cell_index": 4
      }
     ]
    },
    "d358715c-c0c9-4fd9-baa3-c02b220482c0": {
     "views": [
      {
       "cell_index": 4
      }
     ]
    },
    "d3a2c9a3-73b2-4eab-aafd-2fac75d69c8c": {
     "views": [
      {
       "cell_index": 2
      }
     ]
    },
    "d4102c2d-7d7a-4067-8af3-abe0dcbe834d": {
     "views": [
      {
       "cell_index": 2
      }
     ]
    },
    "d491b21d-93cf-4fa4-82ec-b5e01326474b": {
     "views": [
      {
       "cell_index": 2
      }
     ]
    },
    "d78769e0-1322-492b-9ae9-0c95db51a70e": {
     "views": [
      {
       "cell_index": 4
      }
     ]
    },
    "d7f36900-8484-4559-a597-cc6a59a78857": {
     "views": [
      {
       "cell_index": 3
      }
     ]
    },
    "d7fb05b4-c38c-49e3-8f93-b7e4078dc6b5": {
     "views": [
      {
       "cell_index": 2
      }
     ]
    },
    "d83b3fab-f6cf-4494-b312-bd28e64ff3d3": {
     "views": [
      {
       "cell_index": 2
      }
     ]
    },
    "d95f8581-fc5b-4c19-8abf-89633e8f59fe": {
     "views": [
      {
       "cell_index": 2
      }
     ]
    },
    "d9c5a40b-915a-4593-abda-263ad462ba8b": {
     "views": [
      {
       "cell_index": 3
      }
     ]
    },
    "da467b89-ed17-4639-8403-ff43a0bb6fe6": {
     "views": [
      {
       "cell_index": 2
      }
     ]
    },
    "dacc267c-425b-4eb1-9789-f7cfc7d3ffea": {
     "views": [
      {
       "cell_index": 2
      }
     ]
    },
    "db50b814-4a9c-49c3-a22f-fff92d1c9194": {
     "views": [
      {
       "cell_index": 2
      }
     ]
    },
    "dd852a89-e31c-401d-86d6-638d9000b99a": {
     "views": [
      {
       "cell_index": 2
      }
     ]
    },
    "e20bb603-5274-4484-8ead-a2aa98d1579d": {
     "views": [
      {
       "cell_index": 4
      }
     ]
    },
    "e253cc6c-d719-4074-b75a-2aad90c55ee2": {
     "views": [
      {
       "cell_index": 3
      }
     ]
    },
    "e420e997-9042-46bd-8103-bbb0fc8fe4d6": {
     "views": [
      {
       "cell_index": 4
      }
     ]
    },
    "e4d8d846-7d14-4ae0-a670-f5dba9d51fa1": {
     "views": [
      {
       "cell_index": 4
      }
     ]
    },
    "e60552c6-a4f7-4b34-b1d9-5a1c8a20b54e": {
     "views": [
      {
       "cell_index": 2
      }
     ]
    },
    "e831ad06-f5de-4884-b9ce-db3637a8aa73": {
     "views": [
      {
       "cell_index": 3
      }
     ]
    },
    "e87956a5-8063-4aa8-bc3c-ac8641f81cff": {
     "views": [
      {
       "cell_index": 3
      }
     ]
    },
    "e8e0ed79-98ab-4535-9f2b-1d6f190486a5": {
     "views": [
      {
       "cell_index": 3
      }
     ]
    },
    "e9394ae7-dfc4-46c3-9f61-9f58a0a32dcd": {
     "views": [
      {
       "cell_index": 3
      }
     ]
    },
    "e9b84722-36bc-4766-b546-dd51d5ec12fd": {
     "views": [
      {
       "cell_index": 4
      }
     ]
    },
    "eb99453b-4839-410b-b175-7ad042961355": {
     "views": [
      {
       "cell_index": 2
      }
     ]
    },
    "ed28790c-8955-4e22-a714-0a6bcc330451": {
     "views": [
      {
       "cell_index": 3
      }
     ]
    },
    "ed53500b-f7e8-4cca-998c-76bb3f668842": {
     "views": [
      {
       "cell_index": 3
      }
     ]
    },
    "ee58e650-a25c-4a2a-ae22-857b67897bd1": {
     "views": [
      {
       "cell_index": 3
      }
     ]
    },
    "eeab7d4b-9e72-41d3-a0ac-d049e5c46d6a": {
     "views": [
      {
       "cell_index": 3
      }
     ]
    },
    "eebfdfb7-737a-4fb8-9990-0379679a44d7": {
     "views": [
      {
       "cell_index": 2
      }
     ]
    },
    "ef8f6656-d5c6-4a33-a551-622dad657b38": {
     "views": [
      {
       "cell_index": 3
      }
     ]
    },
    "efaa242b-01f2-4dd8-bc3d-3b7cc30b13b7": {
     "views": [
      {
       "cell_index": 3
      }
     ]
    },
    "f0960498-4ac0-4bd7-b1a3-fcbf2c051dde": {
     "views": [
      {
       "cell_index": 3
      }
     ]
    },
    "f0ae92c5-be4f-477d-b677-29c74e58b063": {
     "views": [
      {
       "cell_index": 2
      }
     ]
    },
    "f148ce0b-3372-44ac-beec-93b13282c755": {
     "views": [
      {
       "cell_index": 2
      }
     ]
    },
    "f1926f61-4844-4ac7-bdf6-9563d09b85d6": {
     "views": [
      {
       "cell_index": 3
      }
     ]
    },
    "f2db9edf-8756-4d6c-88a3-f507e707cfd6": {
     "views": [
      {
       "cell_index": 3
      }
     ]
    },
    "f40e0f36-c3b2-4352-ac88-a31e48d1146c": {
     "views": [
      {
       "cell_index": 2
      }
     ]
    },
    "f5eba6b3-239c-44ec-a4d6-50ccef95e24d": {
     "views": [
      {
       "cell_index": 4
      }
     ]
    },
    "f5fae157-030f-4542-a534-f4577d23acdc": {
     "views": [
      {
       "cell_index": 4
      }
     ]
    },
    "f6672f6a-3e03-4b2a-8a39-9e1e046479d5": {
     "views": [
      {
       "cell_index": 2
      }
     ]
    },
    "f7839660-4c15-4584-b2cf-9caef1f7704d": {
     "views": [
      {
       "cell_index": 3
      }
     ]
    },
    "f8d99907-2590-4498-838f-29ff29323a23": {
     "views": [
      {
       "cell_index": 3
      }
     ]
    },
    "f996acfa-e521-4e78-b1ce-bdf705e8d60f": {
     "views": [
      {
       "cell_index": 3
      }
     ]
    },
    "f9b93a48-aa64-49fe-a84d-57f7ae8171be": {
     "views": [
      {
       "cell_index": 4
      }
     ]
    },
    "fa03e408-cecf-4842-b2e9-dcd45e5db267": {
     "views": [
      {
       "cell_index": 4
      }
     ]
    },
    "fa14ddec-be39-4ec5-9be5-e5889c5d5fa5": {
     "views": [
      {
       "cell_index": 2
      }
     ]
    },
    "fafdd778-d28d-47e9-9751-ad878479ce67": {
     "views": [
      {
       "cell_index": 2
      }
     ]
    },
    "fc2b4395-2e58-45d3-8be9-e8604c472980": {
     "views": [
      {
       "cell_index": 3
      }
     ]
    },
    "fc786992-6de3-4c66-81a8-daee4f7c81a4": {
     "views": [
      {
       "cell_index": 3
      }
     ]
    },
    "fdacc286-028c-4f5c-80b4-16128eca6f0e": {
     "views": [
      {
       "cell_index": 2
      }
     ]
    },
    "fed3304f-531c-424c-9d92-3701f7f52aa1": {
     "views": [
      {
       "cell_index": 4
      }
     ]
    },
    "ff703d38-b1d9-4985-8da3-f0bb27d44d5f": {
     "views": [
      {
       "cell_index": 3
      }
     ]
    },
    "ffa5985c-f4e9-4a9e-bda3-c26b80881799": {
     "views": [
      {
       "cell_index": 2
      }
     ]
    }
   },
   "version": "1.2.0"
  }
 },
 "nbformat": 4,
 "nbformat_minor": 0
}
