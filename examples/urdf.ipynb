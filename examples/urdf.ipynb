{
 "cells": [
  {
   "cell_type": "code",
   "execution_count": 1,
   "metadata": {
    "collapsed": false
   },
   "outputs": [
    {
     "data": {
      "text/html": [
       "<div id=\"interact-js-shim\">\n",
       "    <script charset=\"utf-8\">\n",
       "(function (IPython, $, _, MathJax) {\n",
       "    $.event.special.destroyed = {\n",
       "\tremove: function(o) {\n",
       "\t    if (o.handler) {\n",
       "\t\to.handler.apply(this, arguments)\n",
       "\t    }\n",
       "\t}\n",
       "    }\n",
       "\n",
       "    var OutputArea = IPython.version >= \"4.0.0\" ? require(\"notebook/js/outputarea\").OutputArea : IPython.OutputArea;\n",
       "\n",
       "    var redrawValue = function (container, type, val) {\n",
       "\tvar selector = $(\"<div/>\");\n",
       "\tvar oa = new OutputArea(_.extend(selector, {\n",
       "\t    selector: selector,\n",
       "\t    prompt_area: true,\n",
       "\t    events: IPython.events,\n",
       "\t    keyboard_manager: IPython.keyboard_manager\n",
       "\t})); // Hack to work with IPython 2.1.0\n",
       "\n",
       "\tswitch (type) {\n",
       "\tcase \"image/png\":\n",
       "            var _src = 'data:' + type + ';base64,' + val;\n",
       "\t    $(container).find(\"img\").attr('src', _src);\n",
       "\t    break;\n",
       "\tdefault:\n",
       "\t    var toinsert = OutputArea.append_map[type].apply(\n",
       "\t\toa, [val, {}, selector]\n",
       "\t    );\n",
       "\t    $(container).empty().append(toinsert.contents());\n",
       "\t    selector.remove();\n",
       "\t}\n",
       "\tif (type === \"text/latex\" && MathJax) {\n",
       "\t    MathJax.Hub.Queue([\"Typeset\", MathJax.Hub, toinsert.get(0)]);\n",
       "\t}\n",
       "    }\n",
       "\n",
       "\n",
       "    $(document).ready(function() {\n",
       "\tfunction initComm(evt, data) {\n",
       "\t    var comm_manager = data.kernel.comm_manager;\n",
       "        //_.extend(comm_manager.targets, require(\"widgets/js/widget\"))\n",
       "\t    comm_manager.register_target(\"Signal\", function (comm) {\n",
       "            comm.on_msg(function (msg) {\n",
       "                //Widgets.log(\"message received\", msg);\n",
       "                var val = msg.content.data.value;\n",
       "                $(\".signal-\" + comm.comm_id).each(function() {\n",
       "                var type = $(this).data(\"type\");\n",
       "                if (val[type]) {\n",
       "                    redrawValue(this, type, val[type], type);\n",
       "                }\n",
       "                });\n",
       "                delete val;\n",
       "                delete msg.content.data.value;\n",
       "            });\n",
       "\t    });\n",
       "\n",
       "\t    // coordingate with Comm and redraw Signals\n",
       "\t    // XXX: Test using Reactive here to improve performance\n",
       "\t    $([IPython.events]).on(\n",
       "\t\t'output_appended.OutputArea', function (event, type, value, md, toinsert) {\n",
       "\t\t    if (md && md.reactive) {\n",
       "                // console.log(md.comm_id);\n",
       "                toinsert.addClass(\"signal-\" + md.comm_id);\n",
       "                toinsert.data(\"type\", type);\n",
       "                // Signal back indicating the mimetype required\n",
       "                var comm_manager = IPython.notebook.kernel.comm_manager;\n",
       "                var comm = comm_manager.comms[md.comm_id];\n",
       "                comm.then(function (c) {\n",
       "                    c.send({action: \"subscribe_mime\",\n",
       "                       mime: type});\n",
       "                    toinsert.bind(\"destroyed\", function() {\n",
       "                        c.send({action: \"unsubscribe_mime\",\n",
       "                               mime: type});\n",
       "                    });\n",
       "                })\n",
       "\t\t    }\n",
       "\t    });\n",
       "\t}\n",
       "\n",
       "\ttry {\n",
       "\t    // try to initialize right away. otherwise, wait on the status_started event.\n",
       "\t    initComm(undefined, IPython.notebook);\n",
       "\t} catch (e) {\n",
       "\t    $([IPython.events]).on('kernel_created.Kernel kernel_created.Session', initComm);\n",
       "\t}\n",
       "    });\n",
       "})(IPython, jQuery, _, MathJax);\n",
       "</script>\n",
       "    <script>\n",
       "        window.interactLoadedFlag = true\n",
       "       $(\"#interact-js-shim\").bind(\"destroyed\", function () {\n",
       "           if (window.interactLoadedFlag) {\n",
       "               console.warn(\"JavaScript required by Interact will be removed if you remove this cell or run using Interact more than once.\")\n",
       "           }\n",
       "       })\n",
       "       $([IPython.events]).on(\"kernel_starting.Kernel kernel_restarting.Kernel\", function () { window.interactLoadedFlag = false })\n",
       "   </script>\n",
       "</div>"
      ]
     },
     "metadata": {},
     "output_type": "display_data"
    },
    {
     "name": "stderr",
     "output_type": "stream",
     "text": [
      "WARNING: Base.writemime is deprecated.\n",
      "  likely near /home/rdeits/locomotion/explorations/RigidBodyTreeInspector/packages/v0.5/Interact/src/IJulia/setup.jl:116\n",
      "WARNING: Base.writemime is deprecated.\n",
      "  likely near /home/rdeits/locomotion/explorations/RigidBodyTreeInspector/packages/v0.5/Interact/src/IJulia/setup.jl:116\n"
     ]
    }
   ],
   "source": [
    "import RigidBodyTreeInspector\n",
    "using RigidBodyDynamics"
   ]
  },
  {
   "cell_type": "code",
   "execution_count": 2,
   "metadata": {
    "collapsed": false
   },
   "outputs": [
    {
     "name": "stderr",
     "output_type": "stream",
     "text": [
      "WARNING: replacing module RigidBodyTreeInspector\n",
      "WARNING: Method definition draw(DrakeVisualizer.Visualizer, RigidBodyDynamics.MechanismState) in module RigidBodyTreeInspector at /home/rdeits/locomotion/explorations/RigidBodyTreeInspector/packages/v0.5/RigidBodyTreeInspector/src/RigidBodyTreeInspector.jl:148 overwritten in module RigidBodyTreeInspector at /home/rdeits/locomotion/explorations/RigidBodyTreeInspector/packages/v0.5/RigidBodyTreeInspector/src/RigidBodyTreeInspector.jl:148.\n",
      "WARNING: Method definition convert(Type{CoordinateTransformations.AffineMap}, RigidBodyDynamics.Transform3D) in module RigidBodyTreeInspector at /home/rdeits/locomotion/explorations/RigidBodyTreeInspector/packages/v0.5/RigidBodyTreeInspector/src/RigidBodyTreeInspector.jl:145 overwritten in module RigidBodyTreeInspector at /home/rdeits/locomotion/explorations/RigidBodyTreeInspector/packages/v0.5/RigidBodyTreeInspector/src/RigidBodyTreeInspector.jl:145.\n",
      "WARNING: Method definition one(Type{Array{Float64, 1}}) in module RigidBodyTreeInspector at /home/rdeits/locomotion/explorations/RigidBodyTreeInspector/packages/v0.5/RigidBodyTreeInspector/src/RigidBodyTreeInspector.jl:191 overwritten in module RigidBodyTreeInspector at /home/rdeits/locomotion/explorations/RigidBodyTreeInspector/packages/v0.5/RigidBodyTreeInspector/src/RigidBodyTreeInspector.jl:191.\n",
      "WARNING: Method definition (::Type{DrakeVisualizer.Visualizer})(RigidBodyDynamics.Mechanism) in module RigidBodyTreeInspector at /home/rdeits/locomotion/explorations/RigidBodyTreeInspector/packages/v0.5/RigidBodyTreeInspector/src/RigidBodyTreeInspector.jl:141 overwritten in module RigidBodyTreeInspector at /home/rdeits/locomotion/explorations/RigidBodyTreeInspector/packages/v0.5/RigidBodyTreeInspector/src/RigidBodyTreeInspector.jl:141.\n",
      "WARNING: Method definition Type(Array{Any, 1}, Type{DrakeVisualizer.Visualizer}, RigidBodyDynamics.Mechanism) in module RigidBodyTreeInspector overwritten in module RigidBodyTreeInspector.\n"
     ]
    }
   ],
   "source": [
    "reload(\"RigidBodyTreeInspector\")"
   ]
  },
  {
   "cell_type": "code",
   "execution_count": 7,
   "metadata": {
    "collapsed": false,
    "scrolled": false
   },
   "outputs": [],
   "source": [
    "# Let's construct a mechanism by loading a URDF\n",
    "urdf = \"/home/rdeits/locomotion/drake/drake/examples/Valkyrie/urdf/urdf/valkyrie_A_sim_drake_one_neck_dof_wide_ankle_rom.urdf\"\n",
    "# urdf = \"/home/rdeits/locomotion/drake/drake/examples/Atlas/urdf/atlas_minimal_contact.urdf\"\n",
    "mechanism = RigidBodyDynamics.parse_urdf(Float64, urdf);"
   ]
  },
  {
   "cell_type": "code",
   "execution_count": 8,
   "metadata": {
    "collapsed": false
   },
   "outputs": [
    {
     "data": {
      "text/html": [],
      "text/plain": [
       "Interact.Slider{Float64}(Signal{Float64}(0.0, nactions=0),\"torsoYaw.1\",0.0,linspace(-3.141592653589793,3.141592653589793,51),\".3f\",true)"
      ]
     },
     "metadata": {},
     "output_type": "display_data"
    },
    {
     "data": {
      "text/html": [],
      "text/plain": [
       "Interact.Slider{Float64}(Signal{Float64}(0.0, nactions=0),\"torsoPitch.1\",0.0,linspace(-3.141592653589793,3.141592653589793,51),\".3f\",true)"
      ]
     },
     "metadata": {},
     "output_type": "display_data"
    },
    {
     "data": {
      "text/html": [],
      "text/plain": [
       "Interact.Slider{Float64}(Signal{Float64}(0.0, nactions=0),\"torsoRoll.1\",0.0,linspace(-3.141592653589793,3.141592653589793,51),\".3f\",true)"
      ]
     },
     "metadata": {},
     "output_type": "display_data"
    },
    {
     "data": {
      "text/html": [],
      "text/plain": [
       "Interact.Slider{Float64}(Signal{Float64}(0.0, nactions=0),\"lowerNeckPitch.1\",0.0,linspace(-3.141592653589793,3.141592653589793,51),\".3f\",true)"
      ]
     },
     "metadata": {},
     "output_type": "display_data"
    },
    {
     "data": {
      "text/html": [],
      "text/plain": [
       "Interact.Slider{Float64}(Signal{Float64}(0.0, nactions=0),\"rightShoulderPitch.1\",0.0,linspace(-3.141592653589793,3.141592653589793,51),\".3f\",true)"
      ]
     },
     "metadata": {},
     "output_type": "display_data"
    },
    {
     "data": {
      "text/html": [],
      "text/plain": [
       "Interact.Slider{Float64}(Signal{Float64}(0.0, nactions=0),\"rightShoulderRoll.1\",0.0,linspace(-3.141592653589793,3.141592653589793,51),\".3f\",true)"
      ]
     },
     "metadata": {},
     "output_type": "display_data"
    },
    {
     "data": {
      "text/html": [],
      "text/plain": [
       "Interact.Slider{Float64}(Signal{Float64}(0.0, nactions=0),\"rightShoulderYaw.1\",0.0,linspace(-3.141592653589793,3.141592653589793,51),\".3f\",true)"
      ]
     },
     "metadata": {},
     "output_type": "display_data"
    },
    {
     "data": {
      "text/html": [],
      "text/plain": [
       "Interact.Slider{Float64}(Signal{Float64}(0.0, nactions=0),\"rightElbowPitch.1\",0.0,linspace(-3.141592653589793,3.141592653589793,51),\".3f\",true)"
      ]
     },
     "metadata": {},
     "output_type": "display_data"
    },
    {
     "data": {
      "text/html": [],
      "text/plain": [
       "Interact.Slider{Float64}(Signal{Float64}(0.0, nactions=0),\"rightForearmYaw.1\",0.0,linspace(-3.141592653589793,3.141592653589793,51),\".3f\",true)"
      ]
     },
     "metadata": {},
     "output_type": "display_data"
    },
    {
     "data": {
      "text/html": [],
      "text/plain": [
       "Interact.Slider{Float64}(Signal{Float64}(0.0, nactions=0),\"rightWristRoll.1\",0.0,linspace(-3.141592653589793,3.141592653589793,51),\".3f\",true)"
      ]
     },
     "metadata": {},
     "output_type": "display_data"
    },
    {
     "data": {
      "text/html": [],
      "text/plain": [
       "Interact.Slider{Float64}(Signal{Float64}(0.0, nactions=0),\"rightWristPitch.1\",0.0,linspace(-3.141592653589793,3.141592653589793,51),\".3f\",true)"
      ]
     },
     "metadata": {},
     "output_type": "display_data"
    },
    {
     "data": {
      "text/html": [],
      "text/plain": [
       "Interact.Slider{Float64}(Signal{Float64}(0.0, nactions=0),\"leftShoulderPitch.1\",0.0,linspace(-3.141592653589793,3.141592653589793,51),\".3f\",true)"
      ]
     },
     "metadata": {},
     "output_type": "display_data"
    },
    {
     "data": {
      "text/html": [],
      "text/plain": [
       "Interact.Slider{Float64}(Signal{Float64}(0.0, nactions=0),\"leftShoulderRoll.1\",0.0,linspace(-3.141592653589793,3.141592653589793,51),\".3f\",true)"
      ]
     },
     "metadata": {},
     "output_type": "display_data"
    },
    {
     "data": {
      "text/html": [],
      "text/plain": [
       "Interact.Slider{Float64}(Signal{Float64}(0.0, nactions=0),\"leftShoulderYaw.1\",0.0,linspace(-3.141592653589793,3.141592653589793,51),\".3f\",true)"
      ]
     },
     "metadata": {},
     "output_type": "display_data"
    },
    {
     "data": {
      "text/html": [],
      "text/plain": [
       "Interact.Slider{Float64}(Signal{Float64}(0.0, nactions=0),\"leftElbowPitch.1\",0.0,linspace(-3.141592653589793,3.141592653589793,51),\".3f\",true)"
      ]
     },
     "metadata": {},
     "output_type": "display_data"
    },
    {
     "data": {
      "text/html": [],
      "text/plain": [
       "Interact.Slider{Float64}(Signal{Float64}(0.0, nactions=0),\"leftForearmYaw.1\",0.0,linspace(-3.141592653589793,3.141592653589793,51),\".3f\",true)"
      ]
     },
     "metadata": {},
     "output_type": "display_data"
    },
    {
     "data": {
      "text/html": [],
      "text/plain": [
       "Interact.Slider{Float64}(Signal{Float64}(0.0, nactions=0),\"leftWristRoll.1\",0.0,linspace(-3.141592653589793,3.141592653589793,51),\".3f\",true)"
      ]
     },
     "metadata": {},
     "output_type": "display_data"
    },
    {
     "data": {
      "text/html": [],
      "text/plain": [
       "Interact.Slider{Float64}(Signal{Float64}(0.0, nactions=0),\"leftWristPitch.1\",0.0,linspace(-3.141592653589793,3.141592653589793,51),\".3f\",true)"
      ]
     },
     "metadata": {},
     "output_type": "display_data"
    },
    {
     "data": {
      "text/html": [],
      "text/plain": [
       "Interact.Slider{Float64}(Signal{Float64}(0.0, nactions=0),\"rightHipYaw.1\",0.0,linspace(-3.141592653589793,3.141592653589793,51),\".3f\",true)"
      ]
     },
     "metadata": {},
     "output_type": "display_data"
    },
    {
     "data": {
      "text/html": [],
      "text/plain": [
       "Interact.Slider{Float64}(Signal{Float64}(0.0, nactions=0),\"rightHipRoll.1\",0.0,linspace(-3.141592653589793,3.141592653589793,51),\".3f\",true)"
      ]
     },
     "metadata": {},
     "output_type": "display_data"
    },
    {
     "data": {
      "text/html": [],
      "text/plain": [
       "Interact.Slider{Float64}(Signal{Float64}(0.0, nactions=0),\"rightHipPitch.1\",0.0,linspace(-3.141592653589793,3.141592653589793,51),\".3f\",true)"
      ]
     },
     "metadata": {},
     "output_type": "display_data"
    },
    {
     "data": {
      "text/html": [],
      "text/plain": [
       "Interact.Slider{Float64}(Signal{Float64}(0.0, nactions=0),\"rightKneePitch.1\",0.0,linspace(-3.141592653589793,3.141592653589793,51),\".3f\",true)"
      ]
     },
     "metadata": {},
     "output_type": "display_data"
    },
    {
     "data": {
      "text/html": [],
      "text/plain": [
       "Interact.Slider{Float64}(Signal{Float64}(0.0, nactions=0),\"rightAnklePitch.1\",0.0,linspace(-3.141592653589793,3.141592653589793,51),\".3f\",true)"
      ]
     },
     "metadata": {},
     "output_type": "display_data"
    },
    {
     "data": {
      "text/html": [],
      "text/plain": [
       "Interact.Slider{Float64}(Signal{Float64}(0.0, nactions=0),\"rightAnkleRoll.1\",0.0,linspace(-3.141592653589793,3.141592653589793,51),\".3f\",true)"
      ]
     },
     "metadata": {},
     "output_type": "display_data"
    },
    {
     "data": {
      "text/html": [],
      "text/plain": [
       "Interact.Slider{Float64}(Signal{Float64}(0.0, nactions=0),\"leftHipYaw.1\",0.0,linspace(-3.141592653589793,3.141592653589793,51),\".3f\",true)"
      ]
     },
     "metadata": {},
     "output_type": "display_data"
    },
    {
     "data": {
      "text/html": [],
      "text/plain": [
       "Interact.Slider{Float64}(Signal{Float64}(0.0, nactions=0),\"leftHipRoll.1\",0.0,linspace(-3.141592653589793,3.141592653589793,51),\".3f\",true)"
      ]
     },
     "metadata": {},
     "output_type": "display_data"
    },
    {
     "data": {
      "text/html": [],
      "text/plain": [
       "Interact.Slider{Float64}(Signal{Float64}(0.0, nactions=0),\"leftHipPitch.1\",0.0,linspace(-3.141592653589793,3.141592653589793,51),\".3f\",true)"
      ]
     },
     "metadata": {},
     "output_type": "display_data"
    },
    {
     "data": {
      "text/html": [],
      "text/plain": [
       "Interact.Slider{Float64}(Signal{Float64}(0.0, nactions=0),\"leftKneePitch.1\",0.0,linspace(-3.141592653589793,3.141592653589793,51),\".3f\",true)"
      ]
     },
     "metadata": {},
     "output_type": "display_data"
    },
    {
     "data": {
      "text/html": [],
      "text/plain": [
       "Interact.Slider{Float64}(Signal{Float64}(0.0, nactions=0),\"leftAnklePitch.1\",0.0,linspace(-3.141592653589793,3.141592653589793,51),\".3f\",true)"
      ]
     },
     "metadata": {},
     "output_type": "display_data"
    },
    {
     "data": {
      "text/html": [],
      "text/plain": [
       "Interact.Slider{Float64}(Signal{Float64}(0.0, nactions=0),\"leftAnkleRoll.1\",0.0,linspace(-3.141592653589793,3.141592653589793,51),\".3f\",true)"
      ]
     },
     "metadata": {},
     "output_type": "display_data"
    },
    {
     "data": {
      "text/plain": [
       "nothing"
      ]
     },
     "execution_count": 8,
     "metadata": {
      "comm_id": "9eb171e6-6b16-403c-afb3-a9eda550da8b",
      "reactive": true
     },
     "output_type": "execute_result"
    }
   ],
   "source": [
    "# We can visualize the kinematic structure `of the robot just by inspecting it:\n",
    "RigidBodyTreeInspector.inspect(mechanism)"
   ]
  },
  {
   "cell_type": "code",
   "execution_count": 9,
   "metadata": {
    "collapsed": false
   },
   "outputs": [
    {
     "data": {
      "text/html": [],
      "text/plain": [
       "Interact.Slider{Float64}(Signal{Float64}(0.0, nactions=0),\"torsoYaw.1\",0.0,linspace(-3.141592653589793,3.141592653589793,51),\".3f\",true)"
      ]
     },
     "metadata": {},
     "output_type": "display_data"
    },
    {
     "data": {
      "text/html": [],
      "text/plain": [
       "Interact.Slider{Float64}(Signal{Float64}(0.0, nactions=0),\"torsoPitch.1\",0.0,linspace(-3.141592653589793,3.141592653589793,51),\".3f\",true)"
      ]
     },
     "metadata": {},
     "output_type": "display_data"
    },
    {
     "data": {
      "text/html": [],
      "text/plain": [
       "Interact.Slider{Float64}(Signal{Float64}(0.0, nactions=0),\"torsoRoll.1\",0.0,linspace(-3.141592653589793,3.141592653589793,51),\".3f\",true)"
      ]
     },
     "metadata": {},
     "output_type": "display_data"
    },
    {
     "data": {
      "text/html": [],
      "text/plain": [
       "Interact.Slider{Float64}(Signal{Float64}(0.0, nactions=0),\"lowerNeckPitch.1\",0.0,linspace(-3.141592653589793,3.141592653589793,51),\".3f\",true)"
      ]
     },
     "metadata": {},
     "output_type": "display_data"
    },
    {
     "data": {
      "text/html": [],
      "text/plain": [
       "Interact.Slider{Float64}(Signal{Float64}(0.0, nactions=0),\"rightShoulderPitch.1\",0.0,linspace(-3.141592653589793,3.141592653589793,51),\".3f\",true)"
      ]
     },
     "metadata": {},
     "output_type": "display_data"
    },
    {
     "data": {
      "text/html": [],
      "text/plain": [
       "Interact.Slider{Float64}(Signal{Float64}(0.0, nactions=0),\"rightShoulderRoll.1\",0.0,linspace(-3.141592653589793,3.141592653589793,51),\".3f\",true)"
      ]
     },
     "metadata": {},
     "output_type": "display_data"
    },
    {
     "data": {
      "text/html": [],
      "text/plain": [
       "Interact.Slider{Float64}(Signal{Float64}(0.0, nactions=0),\"rightShoulderYaw.1\",0.0,linspace(-3.141592653589793,3.141592653589793,51),\".3f\",true)"
      ]
     },
     "metadata": {},
     "output_type": "display_data"
    },
    {
     "data": {
      "text/html": [],
      "text/plain": [
       "Interact.Slider{Float64}(Signal{Float64}(0.0, nactions=0),\"rightElbowPitch.1\",0.0,linspace(-3.141592653589793,3.141592653589793,51),\".3f\",true)"
      ]
     },
     "metadata": {},
     "output_type": "display_data"
    },
    {
     "data": {
      "text/html": [],
      "text/plain": [
       "Interact.Slider{Float64}(Signal{Float64}(0.0, nactions=0),\"rightForearmYaw.1\",0.0,linspace(-3.141592653589793,3.141592653589793,51),\".3f\",true)"
      ]
     },
     "metadata": {},
     "output_type": "display_data"
    },
    {
     "data": {
      "text/html": [],
      "text/plain": [
       "Interact.Slider{Float64}(Signal{Float64}(0.0, nactions=0),\"rightWristRoll.1\",0.0,linspace(-3.141592653589793,3.141592653589793,51),\".3f\",true)"
      ]
     },
     "metadata": {},
     "output_type": "display_data"
    },
    {
     "data": {
      "text/html": [],
      "text/plain": [
       "Interact.Slider{Float64}(Signal{Float64}(0.0, nactions=0),\"rightWristPitch.1\",0.0,linspace(-3.141592653589793,3.141592653589793,51),\".3f\",true)"
      ]
     },
     "metadata": {},
     "output_type": "display_data"
    },
    {
     "data": {
      "text/html": [],
      "text/plain": [
       "Interact.Slider{Float64}(Signal{Float64}(0.0, nactions=0),\"leftShoulderPitch.1\",0.0,linspace(-3.141592653589793,3.141592653589793,51),\".3f\",true)"
      ]
     },
     "metadata": {},
     "output_type": "display_data"
    },
    {
     "data": {
      "text/html": [],
      "text/plain": [
       "Interact.Slider{Float64}(Signal{Float64}(0.0, nactions=0),\"leftShoulderRoll.1\",0.0,linspace(-3.141592653589793,3.141592653589793,51),\".3f\",true)"
      ]
     },
     "metadata": {},
     "output_type": "display_data"
    },
    {
     "data": {
      "text/html": [],
      "text/plain": [
       "Interact.Slider{Float64}(Signal{Float64}(0.0, nactions=0),\"leftShoulderYaw.1\",0.0,linspace(-3.141592653589793,3.141592653589793,51),\".3f\",true)"
      ]
     },
     "metadata": {},
     "output_type": "display_data"
    },
    {
     "data": {
      "text/html": [],
      "text/plain": [
       "Interact.Slider{Float64}(Signal{Float64}(0.0, nactions=0),\"leftElbowPitch.1\",0.0,linspace(-3.141592653589793,3.141592653589793,51),\".3f\",true)"
      ]
     },
     "metadata": {},
     "output_type": "display_data"
    },
    {
     "data": {
      "text/html": [],
      "text/plain": [
       "Interact.Slider{Float64}(Signal{Float64}(0.0, nactions=0),\"leftForearmYaw.1\",0.0,linspace(-3.141592653589793,3.141592653589793,51),\".3f\",true)"
      ]
     },
     "metadata": {},
     "output_type": "display_data"
    },
    {
     "data": {
      "text/html": [],
      "text/plain": [
       "Interact.Slider{Float64}(Signal{Float64}(0.0, nactions=0),\"leftWristRoll.1\",0.0,linspace(-3.141592653589793,3.141592653589793,51),\".3f\",true)"
      ]
     },
     "metadata": {},
     "output_type": "display_data"
    },
    {
     "data": {
      "text/html": [],
      "text/plain": [
       "Interact.Slider{Float64}(Signal{Float64}(0.0, nactions=0),\"leftWristPitch.1\",0.0,linspace(-3.141592653589793,3.141592653589793,51),\".3f\",true)"
      ]
     },
     "metadata": {},
     "output_type": "display_data"
    },
    {
     "data": {
      "text/html": [],
      "text/plain": [
       "Interact.Slider{Float64}(Signal{Float64}(0.0, nactions=0),\"rightHipYaw.1\",0.0,linspace(-3.141592653589793,3.141592653589793,51),\".3f\",true)"
      ]
     },
     "metadata": {},
     "output_type": "display_data"
    },
    {
     "data": {
      "text/html": [],
      "text/plain": [
       "Interact.Slider{Float64}(Signal{Float64}(0.0, nactions=0),\"rightHipRoll.1\",0.0,linspace(-3.141592653589793,3.141592653589793,51),\".3f\",true)"
      ]
     },
     "metadata": {},
     "output_type": "display_data"
    },
    {
     "data": {
      "text/html": [],
      "text/plain": [
       "Interact.Slider{Float64}(Signal{Float64}(0.0, nactions=0),\"rightHipPitch.1\",0.0,linspace(-3.141592653589793,3.141592653589793,51),\".3f\",true)"
      ]
     },
     "metadata": {},
     "output_type": "display_data"
    },
    {
     "data": {
      "text/html": [],
      "text/plain": [
       "Interact.Slider{Float64}(Signal{Float64}(0.0, nactions=0),\"rightKneePitch.1\",0.0,linspace(-3.141592653589793,3.141592653589793,51),\".3f\",true)"
      ]
     },
     "metadata": {},
     "output_type": "display_data"
    },
    {
     "data": {
      "text/html": [],
      "text/plain": [
       "Interact.Slider{Float64}(Signal{Float64}(0.0, nactions=0),\"rightAnklePitch.1\",0.0,linspace(-3.141592653589793,3.141592653589793,51),\".3f\",true)"
      ]
     },
     "metadata": {},
     "output_type": "display_data"
    },
    {
     "data": {
      "text/html": [],
      "text/plain": [
       "Interact.Slider{Float64}(Signal{Float64}(0.0, nactions=0),\"rightAnkleRoll.1\",0.0,linspace(-3.141592653589793,3.141592653589793,51),\".3f\",true)"
      ]
     },
     "metadata": {},
     "output_type": "display_data"
    },
    {
     "data": {
      "text/html": [],
      "text/plain": [
       "Interact.Slider{Float64}(Signal{Float64}(0.0, nactions=0),\"leftHipYaw.1\",0.0,linspace(-3.141592653589793,3.141592653589793,51),\".3f\",true)"
      ]
     },
     "metadata": {},
     "output_type": "display_data"
    },
    {
     "data": {
      "text/html": [],
      "text/plain": [
       "Interact.Slider{Float64}(Signal{Float64}(0.0, nactions=0),\"leftHipRoll.1\",0.0,linspace(-3.141592653589793,3.141592653589793,51),\".3f\",true)"
      ]
     },
     "metadata": {},
     "output_type": "display_data"
    },
    {
     "data": {
      "text/html": [],
      "text/plain": [
       "Interact.Slider{Float64}(Signal{Float64}(0.0, nactions=0),\"leftHipPitch.1\",0.0,linspace(-3.141592653589793,3.141592653589793,51),\".3f\",true)"
      ]
     },
     "metadata": {},
     "output_type": "display_data"
    },
    {
     "data": {
      "text/html": [],
      "text/plain": [
       "Interact.Slider{Float64}(Signal{Float64}(0.0, nactions=0),\"leftKneePitch.1\",0.0,linspace(-3.141592653589793,3.141592653589793,51),\".3f\",true)"
      ]
     },
     "metadata": {},
     "output_type": "display_data"
    },
    {
     "data": {
      "text/html": [],
      "text/plain": [
       "Interact.Slider{Float64}(Signal{Float64}(0.0, nactions=0),\"leftAnklePitch.1\",0.0,linspace(-3.141592653589793,3.141592653589793,51),\".3f\",true)"
      ]
     },
     "metadata": {},
     "output_type": "display_data"
    },
    {
     "data": {
      "text/html": [],
      "text/plain": [
       "Interact.Slider{Float64}(Signal{Float64}(0.0, nactions=0),\"leftAnkleRoll.1\",0.0,linspace(-3.141592653589793,3.141592653589793,51),\".3f\",true)"
      ]
     },
     "metadata": {},
     "output_type": "display_data"
    },
    {
     "data": {
      "text/plain": [
       "nothing"
      ]
     },
     "execution_count": 9,
     "metadata": {
      "comm_id": "a316dfeb-956d-4c9f-adb8-6bff0f30040c",
      "reactive": true
     },
     "output_type": "execute_result"
    }
   ],
   "source": [
    "# And we can also show the inertias of each link, visualized as\n",
    "# ellipsoids of equivalent mass and inertia\n",
    "RigidBodyTreeInspector.inspect(mechanism; show_inertias=true)"
   ]
  },
  {
   "cell_type": "code",
   "execution_count": 10,
   "metadata": {
    "collapsed": false
   },
   "outputs": [
    {
     "data": {
      "text/html": [],
      "text/plain": [
       "Interact.Slider{Float64}(Signal{Float64}(0.0, nactions=0),\"torsoYaw.1\",0.0,linspace(-3.141592653589793,3.141592653589793,51),\".3f\",true)"
      ]
     },
     "metadata": {},
     "output_type": "display_data"
    },
    {
     "data": {
      "text/html": [],
      "text/plain": [
       "Interact.Slider{Float64}(Signal{Float64}(0.0, nactions=0),\"torsoPitch.1\",0.0,linspace(-3.141592653589793,3.141592653589793,51),\".3f\",true)"
      ]
     },
     "metadata": {},
     "output_type": "display_data"
    },
    {
     "data": {
      "text/html": [],
      "text/plain": [
       "Interact.Slider{Float64}(Signal{Float64}(0.0, nactions=0),\"torsoRoll.1\",0.0,linspace(-3.141592653589793,3.141592653589793,51),\".3f\",true)"
      ]
     },
     "metadata": {},
     "output_type": "display_data"
    },
    {
     "data": {
      "text/html": [],
      "text/plain": [
       "Interact.Slider{Float64}(Signal{Float64}(0.0, nactions=0),\"lowerNeckPitch.1\",0.0,linspace(-3.141592653589793,3.141592653589793,51),\".3f\",true)"
      ]
     },
     "metadata": {},
     "output_type": "display_data"
    },
    {
     "data": {
      "text/html": [],
      "text/plain": [
       "Interact.Slider{Float64}(Signal{Float64}(0.0, nactions=0),\"rightShoulderPitch.1\",0.0,linspace(-3.141592653589793,3.141592653589793,51),\".3f\",true)"
      ]
     },
     "metadata": {},
     "output_type": "display_data"
    },
    {
     "data": {
      "text/html": [],
      "text/plain": [
       "Interact.Slider{Float64}(Signal{Float64}(0.0, nactions=0),\"rightShoulderRoll.1\",0.0,linspace(-3.141592653589793,3.141592653589793,51),\".3f\",true)"
      ]
     },
     "metadata": {},
     "output_type": "display_data"
    },
    {
     "data": {
      "text/html": [],
      "text/plain": [
       "Interact.Slider{Float64}(Signal{Float64}(0.0, nactions=0),\"rightShoulderYaw.1\",0.0,linspace(-3.141592653589793,3.141592653589793,51),\".3f\",true)"
      ]
     },
     "metadata": {},
     "output_type": "display_data"
    },
    {
     "data": {
      "text/html": [],
      "text/plain": [
       "Interact.Slider{Float64}(Signal{Float64}(0.0, nactions=0),\"rightElbowPitch.1\",0.0,linspace(-3.141592653589793,3.141592653589793,51),\".3f\",true)"
      ]
     },
     "metadata": {},
     "output_type": "display_data"
    },
    {
     "data": {
      "text/html": [],
      "text/plain": [
       "Interact.Slider{Float64}(Signal{Float64}(0.0, nactions=0),\"rightForearmYaw.1\",0.0,linspace(-3.141592653589793,3.141592653589793,51),\".3f\",true)"
      ]
     },
     "metadata": {},
     "output_type": "display_data"
    },
    {
     "data": {
      "text/html": [],
      "text/plain": [
       "Interact.Slider{Float64}(Signal{Float64}(0.0, nactions=0),\"rightWristRoll.1\",0.0,linspace(-3.141592653589793,3.141592653589793,51),\".3f\",true)"
      ]
     },
     "metadata": {},
     "output_type": "display_data"
    },
    {
     "data": {
      "text/html": [],
      "text/plain": [
       "Interact.Slider{Float64}(Signal{Float64}(0.0, nactions=0),\"rightWristPitch.1\",0.0,linspace(-3.141592653589793,3.141592653589793,51),\".3f\",true)"
      ]
     },
     "metadata": {},
     "output_type": "display_data"
    },
    {
     "data": {
      "text/html": [],
      "text/plain": [
       "Interact.Slider{Float64}(Signal{Float64}(0.0, nactions=0),\"leftShoulderPitch.1\",0.0,linspace(-3.141592653589793,3.141592653589793,51),\".3f\",true)"
      ]
     },
     "metadata": {},
     "output_type": "display_data"
    },
    {
     "data": {
      "text/html": [],
      "text/plain": [
       "Interact.Slider{Float64}(Signal{Float64}(0.0, nactions=0),\"leftShoulderRoll.1\",0.0,linspace(-3.141592653589793,3.141592653589793,51),\".3f\",true)"
      ]
     },
     "metadata": {},
     "output_type": "display_data"
    },
    {
     "data": {
      "text/html": [],
      "text/plain": [
       "Interact.Slider{Float64}(Signal{Float64}(0.0, nactions=0),\"leftShoulderYaw.1\",0.0,linspace(-3.141592653589793,3.141592653589793,51),\".3f\",true)"
      ]
     },
     "metadata": {},
     "output_type": "display_data"
    },
    {
     "data": {
      "text/html": [],
      "text/plain": [
       "Interact.Slider{Float64}(Signal{Float64}(0.0, nactions=0),\"leftElbowPitch.1\",0.0,linspace(-3.141592653589793,3.141592653589793,51),\".3f\",true)"
      ]
     },
     "metadata": {},
     "output_type": "display_data"
    },
    {
     "data": {
      "text/html": [],
      "text/plain": [
       "Interact.Slider{Float64}(Signal{Float64}(0.0, nactions=0),\"leftForearmYaw.1\",0.0,linspace(-3.141592653589793,3.141592653589793,51),\".3f\",true)"
      ]
     },
     "metadata": {},
     "output_type": "display_data"
    },
    {
     "data": {
      "text/html": [],
      "text/plain": [
       "Interact.Slider{Float64}(Signal{Float64}(0.0, nactions=0),\"leftWristRoll.1\",0.0,linspace(-3.141592653589793,3.141592653589793,51),\".3f\",true)"
      ]
     },
     "metadata": {},
     "output_type": "display_data"
    },
    {
     "data": {
      "text/html": [],
      "text/plain": [
       "Interact.Slider{Float64}(Signal{Float64}(0.0, nactions=0),\"leftWristPitch.1\",0.0,linspace(-3.141592653589793,3.141592653589793,51),\".3f\",true)"
      ]
     },
     "metadata": {},
     "output_type": "display_data"
    },
    {
     "data": {
      "text/html": [],
      "text/plain": [
       "Interact.Slider{Float64}(Signal{Float64}(0.0, nactions=0),\"rightHipYaw.1\",0.0,linspace(-3.141592653589793,3.141592653589793,51),\".3f\",true)"
      ]
     },
     "metadata": {},
     "output_type": "display_data"
    },
    {
     "data": {
      "text/html": [],
      "text/plain": [
       "Interact.Slider{Float64}(Signal{Float64}(0.0, nactions=0),\"rightHipRoll.1\",0.0,linspace(-3.141592653589793,3.141592653589793,51),\".3f\",true)"
      ]
     },
     "metadata": {},
     "output_type": "display_data"
    },
    {
     "data": {
      "text/html": [],
      "text/plain": [
       "Interact.Slider{Float64}(Signal{Float64}(0.0, nactions=0),\"rightHipPitch.1\",0.0,linspace(-3.141592653589793,3.141592653589793,51),\".3f\",true)"
      ]
     },
     "metadata": {},
     "output_type": "display_data"
    },
    {
     "data": {
      "text/html": [],
      "text/plain": [
       "Interact.Slider{Float64}(Signal{Float64}(0.0, nactions=0),\"rightKneePitch.1\",0.0,linspace(-3.141592653589793,3.141592653589793,51),\".3f\",true)"
      ]
     },
     "metadata": {},
     "output_type": "display_data"
    },
    {
     "data": {
      "text/html": [],
      "text/plain": [
       "Interact.Slider{Float64}(Signal{Float64}(0.0, nactions=0),\"rightAnklePitch.1\",0.0,linspace(-3.141592653589793,3.141592653589793,51),\".3f\",true)"
      ]
     },
     "metadata": {},
     "output_type": "display_data"
    },
    {
     "data": {
      "text/html": [],
      "text/plain": [
       "Interact.Slider{Float64}(Signal{Float64}(0.0, nactions=0),\"rightAnkleRoll.1\",0.0,linspace(-3.141592653589793,3.141592653589793,51),\".3f\",true)"
      ]
     },
     "metadata": {},
     "output_type": "display_data"
    },
    {
     "data": {
      "text/html": [],
      "text/plain": [
       "Interact.Slider{Float64}(Signal{Float64}(0.0, nactions=0),\"leftHipYaw.1\",0.0,linspace(-3.141592653589793,3.141592653589793,51),\".3f\",true)"
      ]
     },
     "metadata": {},
     "output_type": "display_data"
    },
    {
     "data": {
      "text/html": [],
      "text/plain": [
       "Interact.Slider{Float64}(Signal{Float64}(0.0, nactions=0),\"leftHipRoll.1\",0.0,linspace(-3.141592653589793,3.141592653589793,51),\".3f\",true)"
      ]
     },
     "metadata": {},
     "output_type": "display_data"
    },
    {
     "data": {
      "text/html": [],
      "text/plain": [
       "Interact.Slider{Float64}(Signal{Float64}(0.0, nactions=0),\"leftHipPitch.1\",0.0,linspace(-3.141592653589793,3.141592653589793,51),\".3f\",true)"
      ]
     },
     "metadata": {},
     "output_type": "display_data"
    },
    {
     "data": {
      "text/html": [],
      "text/plain": [
       "Interact.Slider{Float64}(Signal{Float64}(0.0, nactions=0),\"leftKneePitch.1\",0.0,linspace(-3.141592653589793,3.141592653589793,51),\".3f\",true)"
      ]
     },
     "metadata": {},
     "output_type": "display_data"
    },
    {
     "data": {
      "text/html": [],
      "text/plain": [
       "Interact.Slider{Float64}(Signal{Float64}(0.0, nactions=0),\"leftAnklePitch.1\",0.0,linspace(-3.141592653589793,3.141592653589793,51),\".3f\",true)"
      ]
     },
     "metadata": {},
     "output_type": "display_data"
    },
    {
     "data": {
      "text/html": [],
      "text/plain": [
       "Interact.Slider{Float64}(Signal{Float64}(0.0, nactions=0),\"leftAnkleRoll.1\",0.0,linspace(-3.141592653589793,3.141592653589793,51),\".3f\",true)"
      ]
     },
     "metadata": {},
     "output_type": "display_data"
    },
    {
     "data": {
      "text/plain": [
       "nothing"
      ]
     },
     "execution_count": 10,
     "metadata": {
      "comm_id": "86271f07-3619-4f2a-90f4-60aa2cd86da0",
      "reactive": true
     },
     "output_type": "execute_result"
    }
   ],
   "source": [
    "# We can also parse the visual elements from the URDF and use them to \n",
    "# show the robot instead:\n",
    "vis = RigidBodyTreeInspector.parse_urdf(urdf, mechanism);\n",
    "RigidBodyTreeInspector.inspect(mechanism, vis)"
   ]
  },
  {
   "cell_type": "code",
   "execution_count": null,
   "metadata": {
    "collapsed": true
   },
   "outputs": [],
   "source": []
  }
 ],
 "metadata": {
  "kernelspec": {
   "display_name": "Julia 0.5.0-rc3",
   "language": "julia",
   "name": "julia-0.5"
  },
  "language_info": {
   "file_extension": ".jl",
   "mimetype": "application/julia",
   "name": "julia",
   "version": "0.5.0"
  },
  "widgets": {
   "state": {
    "0036b335-469d-40d2-a507-6b494553f39e": {
     "views": [
      {
       "cell_index": 3
      }
     ]
    },
    "023bedc3-1a01-44f1-ab89-c3f8666126fd": {
     "views": [
      {
       "cell_index": 4
      }
     ]
    },
    "02612181-3098-41c2-b242-a7e158e930fc": {
     "views": [
      {
       "cell_index": 3
      }
     ]
    },
    "02be6a5f-2a21-4a78-8360-4e2e532ab309": {
     "views": [
      {
       "cell_index": 3
      }
     ]
    },
    "02bf270e-38e7-4928-b580-7c0afa2af84b": {
     "views": [
      {
       "cell_index": 4
      }
     ]
    },
    "033c3f4f-f48d-4da5-9390-21fdafcc634f": {
     "views": [
      {
       "cell_index": 4
      }
     ]
    },
    "036265ca-5747-4565-a9dd-e6797ca87aca": {
     "views": [
      {
       "cell_index": 5
      }
     ]
    },
    "0434c1ee-6896-48ad-8965-0d4e5dd61956": {
     "views": [
      {
       "cell_index": 3
      }
     ]
    },
    "0475f410-afc9-46bb-9051-cfd9ec27c245": {
     "views": [
      {
       "cell_index": 4
      }
     ]
    },
    "04f3849f-99f8-4324-93d0-ecb0c1ab36fc": {
     "views": [
      {
       "cell_index": 4
      }
     ]
    },
    "07101099-e593-4d05-8a10-471967ae8db2": {
     "views": [
      {
       "cell_index": 4
      }
     ]
    },
    "078728ef-22f7-43b4-b064-d1e0a9e44427": {
     "views": [
      {
       "cell_index": 3
      }
     ]
    },
    "09271b00-6af7-42de-949f-fc74bffabe61": {
     "views": [
      {
       "cell_index": 5
      }
     ]
    },
    "09d8d24a-7948-4e2a-a27c-8e9fdbe1a9d6": {
     "views": [
      {
       "cell_index": 3
      }
     ]
    },
    "0d07cbe5-c047-40f5-b8bb-4bf793d7d9b7": {
     "views": [
      {
       "cell_index": 4
      }
     ]
    },
    "0e3f1a9d-1388-4457-ad0d-8bd002b9fe29": {
     "views": [
      {
       "cell_index": 4
      }
     ]
    },
    "0fb4d44e-ea12-440f-b219-fa0e528f9d3a": {
     "views": [
      {
       "cell_index": 3
      }
     ]
    },
    "0fbb0931-397a-4d26-891b-0d773d6845b4": {
     "views": [
      {
       "cell_index": 3
      }
     ]
    },
    "102fa10a-60c4-4fc0-9dc7-bede2e60a90f": {
     "views": [
      {
       "cell_index": 4
      }
     ]
    },
    "10de85a6-4e99-43d6-9c0e-8ae14977cb8c": {
     "views": [
      {
       "cell_index": 3
      }
     ]
    },
    "128b0980-34d9-4e97-b549-431febe4babb": {
     "views": [
      {
       "cell_index": 5
      }
     ]
    },
    "149fdee6-b204-4491-bbb1-990d8da5dfa3": {
     "views": [
      {
       "cell_index": 5
      }
     ]
    },
    "14cf5adc-a864-4dfc-9d58-81d196741700": {
     "views": [
      {
       "cell_index": 4
      }
     ]
    },
    "15524ba2-acd7-4cb5-a181-ad3b60844e12": {
     "views": [
      {
       "cell_index": 5
      }
     ]
    },
    "183b7950-e68f-4304-8115-b6ec1678d55a": {
     "views": [
      {
       "cell_index": 3
      }
     ]
    },
    "19b03fb5-e389-4d50-8950-505078841226": {
     "views": [
      {
       "cell_index": 4
      }
     ]
    },
    "1ef7c384-9562-4915-9ef6-477f44d0d922": {
     "views": [
      {
       "cell_index": 5
      }
     ]
    },
    "203993af-4030-4bd9-80e0-2a51f97c968a": {
     "views": [
      {
       "cell_index": 4
      }
     ]
    },
    "21664129-9316-435e-8e61-beb55cf73c92": {
     "views": [
      {
       "cell_index": 4
      }
     ]
    },
    "2174d307-beb5-409b-be54-d676ba8c6667": {
     "views": [
      {
       "cell_index": 3
      }
     ]
    },
    "233efcfb-b1c7-4d81-af18-ca2a9eac52ef": {
     "views": [
      {
       "cell_index": 3
      }
     ]
    },
    "2594c105-8719-47c5-b234-f1d0fd413897": {
     "views": [
      {
       "cell_index": 4
      }
     ]
    },
    "26aaac60-8f03-4eaa-a444-761ccde3458c": {
     "views": [
      {
       "cell_index": 4
      }
     ]
    },
    "28f3db63-8fb7-492a-b449-9cfd03b84ed1": {
     "views": [
      {
       "cell_index": 3
      }
     ]
    },
    "29d8ad0c-03d5-44b2-a874-c39e92f1f520": {
     "views": [
      {
       "cell_index": 4
      }
     ]
    },
    "2a47934f-9926-4cb8-9ed7-06750026faea": {
     "views": [
      {
       "cell_index": 3
      }
     ]
    },
    "2aa9e7da-d16e-4782-8b0a-5001d9bd65a1": {
     "views": [
      {
       "cell_index": 5
      }
     ]
    },
    "2b358f1c-c195-4614-b8a2-eaa8149de26a": {
     "views": [
      {
       "cell_index": 4
      }
     ]
    },
    "2d63d27f-62f8-428c-acbe-28022c70c548": {
     "views": [
      {
       "cell_index": 5
      }
     ]
    },
    "2f05560c-b559-49f8-a6ac-1f17cad47e06": {
     "views": [
      {
       "cell_index": 3
      }
     ]
    },
    "2f1e95f0-a0dd-4507-b2b5-ef69538f3e26": {
     "views": [
      {
       "cell_index": 3
      }
     ]
    },
    "2fd9839a-e50d-41d9-9230-48a72fd52a10": {
     "views": [
      {
       "cell_index": 3
      }
     ]
    },
    "30aa7d75-665d-492d-bbf3-cf28a19645de": {
     "views": [
      {
       "cell_index": 3
      }
     ]
    },
    "348ea1d4-1579-46ad-bcc4-5c9ae4f889db": {
     "views": [
      {
       "cell_index": 4
      }
     ]
    },
    "352d44ff-c56d-4b22-9b11-87aa2f98c1c7": {
     "views": [
      {
       "cell_index": 4
      }
     ]
    },
    "36c9c8b5-a1f8-4d38-9697-8d8ef31c35dd": {
     "views": [
      {
       "cell_index": 5
      }
     ]
    },
    "377a7d54-0def-4e2d-8d42-6069290bc3c5": {
     "views": [
      {
       "cell_index": 3
      }
     ]
    },
    "38c90fa6-afa6-40db-b834-eb52dd17b5b3": {
     "views": [
      {
       "cell_index": 4
      }
     ]
    },
    "39bc3aca-3854-4729-be7a-70db56bddba7": {
     "views": [
      {
       "cell_index": 4
      }
     ]
    },
    "3b5ebd8c-6fde-40fb-bb79-43238e84c6e6": {
     "views": [
      {
       "cell_index": 4
      }
     ]
    },
    "3ba3e49e-d074-4d71-9b01-a11b2f42ea71": {
     "views": [
      {
       "cell_index": 4
      }
     ]
    },
    "3ded60e2-422d-4263-9509-20a19b44e05c": {
     "views": [
      {
       "cell_index": 4
      }
     ]
    },
    "3e1267d4-a4df-49ee-a55f-07b5beef24bc": {
     "views": [
      {
       "cell_index": 4
      }
     ]
    },
    "3edebfbc-9520-40d0-b0dc-749975d24b81": {
     "views": [
      {
       "cell_index": 5
      }
     ]
    },
    "3f96f801-f5cf-41f6-991f-0fdd0e478571": {
     "views": [
      {
       "cell_index": 4
      }
     ]
    },
    "3fccd593-c663-437a-84ba-34ac64b1d476": {
     "views": [
      {
       "cell_index": 3
      }
     ]
    },
    "42824460-ddc5-4650-878d-83b7852f604c": {
     "views": [
      {
       "cell_index": 4
      }
     ]
    },
    "43990b56-1922-40d9-a9e5-74cc6bbd4d82": {
     "views": [
      {
       "cell_index": 3
      }
     ]
    },
    "44a9ac9b-e6f3-4aa6-994f-ffbf954d47a4": {
     "views": [
      {
       "cell_index": 5
      }
     ]
    },
    "45e97a0b-77d5-4a0f-a231-0ea7f7d57557": {
     "views": [
      {
       "cell_index": 4
      }
     ]
    },
    "462c582d-e86d-4a58-8ad3-0a3d1e992374": {
     "views": [
      {
       "cell_index": 4
      }
     ]
    },
    "4726d291-4692-4345-9ef0-00a1e6372150": {
     "views": [
      {
       "cell_index": 3
      }
     ]
    },
    "49064167-43db-4a32-88fe-46a34f842fed": {
     "views": [
      {
       "cell_index": 5
      }
     ]
    },
    "4a298a36-edcd-4e8c-abee-e28a6ca3f6e8": {
     "views": [
      {
       "cell_index": 3
      }
     ]
    },
    "4bb25948-f425-4292-aeab-2433b7a8b6e7": {
     "views": [
      {
       "cell_index": 4
      }
     ]
    },
    "4c8ceaea-b989-407a-901a-754782eb2a41": {
     "views": [
      {
       "cell_index": 4
      }
     ]
    },
    "4d371183-dadb-40af-b49e-33ce7b61b436": {
     "views": [
      {
       "cell_index": 3
      }
     ]
    },
    "4de3de97-4871-48c9-9eba-e9d88ec64e15": {
     "views": [
      {
       "cell_index": 3
      }
     ]
    },
    "4f55d2a3-de00-4af0-8ed2-86a38d7e42c9": {
     "views": [
      {
       "cell_index": 3
      }
     ]
    },
    "4f6260d7-b33d-43fb-bcff-8c1fcaccfcb8": {
     "views": [
      {
       "cell_index": 3
      }
     ]
    },
    "5270770d-a132-45ce-9f80-767ea75e15f3": {
     "views": [
      {
       "cell_index": 5
      }
     ]
    },
    "52c3e6e7-c5fb-41c8-b1ee-e7897175437f": {
     "views": [
      {
       "cell_index": 3
      }
     ]
    },
    "53ce9efe-fe5f-4aef-86d3-f1094fda3d2a": {
     "views": [
      {
       "cell_index": 3
      }
     ]
    },
    "54e42246-d98e-47e8-91f2-cf5fdeeefbaa": {
     "views": [
      {
       "cell_index": 3
      }
     ]
    },
    "55240b22-0222-45b7-ac19-a5f9b7244e2b": {
     "views": [
      {
       "cell_index": 3
      }
     ]
    },
    "5913f19a-4cb3-4706-a7e3-c3ebfc25ca55": {
     "views": [
      {
       "cell_index": 5
      }
     ]
    },
    "5a0a7f42-df4a-45a7-b2a4-bcfbe2195d95": {
     "views": [
      {
       "cell_index": 4
      }
     ]
    },
    "5a6cb0a2-14e1-4913-b6ce-0812ce28e943": {
     "views": [
      {
       "cell_index": 5
      }
     ]
    },
    "5aa89933-9eb9-423f-908b-4b8953b7cab4": {
     "views": [
      {
       "cell_index": 4
      }
     ]
    },
    "5c487aee-1d4b-4fb9-9919-4129e3452457": {
     "views": [
      {
       "cell_index": 3
      }
     ]
    },
    "5c9a2b24-d7b0-4b7b-802a-f513b0681ef7": {
     "views": [
      {
       "cell_index": 4
      }
     ]
    },
    "5f5d6709-1b30-4edf-81d2-df414a095e74": {
     "views": [
      {
       "cell_index": 3
      }
     ]
    },
    "5fefe7b8-44d0-418d-977b-f27a4e07f1c9": {
     "views": [
      {
       "cell_index": 5
      }
     ]
    },
    "607739be-d842-4eb6-bf80-4ac6dbde7d4f": {
     "views": [
      {
       "cell_index": 3
      }
     ]
    },
    "617b481f-3878-40bf-91fd-e4a5ebbd7a10": {
     "views": [
      {
       "cell_index": 4
      }
     ]
    },
    "632d7708-7fc9-44e7-a84b-8689b88a062b": {
     "views": [
      {
       "cell_index": 5
      }
     ]
    },
    "63da6b34-2a1a-4d56-abb2-3bf2a40cd53e": {
     "views": [
      {
       "cell_index": 5
      }
     ]
    },
    "642fb874-9d23-4cb1-a8fa-1b418ff92ab6": {
     "views": [
      {
       "cell_index": 3
      }
     ]
    },
    "65dedf0d-b804-4a2e-acec-baaa8c43961b": {
     "views": [
      {
       "cell_index": 4
      }
     ]
    },
    "6618991c-ef7c-4d8b-b43a-d0952d9c4888": {
     "views": [
      {
       "cell_index": 4
      }
     ]
    },
    "669909eb-2c0e-4be2-b906-425bfc091847": {
     "views": [
      {
       "cell_index": 3
      }
     ]
    },
    "6713420a-a3d5-4825-84cc-5cd28e3752be": {
     "views": [
      {
       "cell_index": 3
      }
     ]
    },
    "67354546-afb3-4349-849d-67810df1500a": {
     "views": [
      {
       "cell_index": 4
      }
     ]
    },
    "6767e478-7685-42a1-9a6a-cd317864c269": {
     "views": [
      {
       "cell_index": 4
      }
     ]
    },
    "687c3845-ec01-439f-8af3-486b43478c82": {
     "views": [
      {
       "cell_index": 3
      }
     ]
    },
    "68a28125-ad7c-42e8-8492-eb54b0f1e352": {
     "views": [
      {
       "cell_index": 3
      }
     ]
    },
    "68d63bfa-797e-4b1a-aed6-3b607a035fca": {
     "views": [
      {
       "cell_index": 5
      }
     ]
    },
    "68ee0147-9316-4877-983b-0f16ff81c872": {
     "views": [
      {
       "cell_index": 5
      }
     ]
    },
    "6a71e4a0-1437-4e08-b5d3-051949d32738": {
     "views": [
      {
       "cell_index": 3
      }
     ]
    },
    "6acb30dd-d6bb-476a-9cfc-60c50b3c4fd7": {
     "views": [
      {
       "cell_index": 3
      }
     ]
    },
    "6b51cfa8-82c8-4e16-bfba-a0a94603c663": {
     "views": [
      {
       "cell_index": 3
      }
     ]
    },
    "6b5c23c9-497c-4ca6-9aef-6f5f48e83e51": {
     "views": [
      {
       "cell_index": 3
      }
     ]
    },
    "6b83e75b-dd2a-47a6-a869-7d51ecefe5d7": {
     "views": [
      {
       "cell_index": 5
      }
     ]
    },
    "6da662dd-d8c9-48b0-8485-bd5212740c75": {
     "views": [
      {
       "cell_index": 4
      }
     ]
    },
    "6fcb8dd3-906c-43f3-b9eb-3aab57636f0c": {
     "views": [
      {
       "cell_index": 4
      }
     ]
    },
    "708d9820-096d-4ef4-84fb-71f7803906c4": {
     "views": [
      {
       "cell_index": 4
      }
     ]
    },
    "723efbab-57ef-402a-bd80-3b8831ac2f22": {
     "views": [
      {
       "cell_index": 3
      }
     ]
    },
    "77dc26f9-7db6-4320-be76-da623b63eee2": {
     "views": [
      {
       "cell_index": 3
      }
     ]
    },
    "77dd2a57-a8f6-4fb3-a86d-eaa05249f634": {
     "views": [
      {
       "cell_index": 3
      }
     ]
    },
    "7b7e4037-4e15-4fa0-8633-bc66a39ac4e6": {
     "views": [
      {
       "cell_index": 3
      }
     ]
    },
    "7ced7059-f875-40a0-8980-3c2080994262": {
     "views": [
      {
       "cell_index": 3
      }
     ]
    },
    "7ebe2014-11d1-4e83-995c-d205198fcbaf": {
     "views": [
      {
       "cell_index": 5
      }
     ]
    },
    "7effe576-ca45-492b-82ca-56d0f61873c5": {
     "views": [
      {
       "cell_index": 3
      }
     ]
    },
    "7f461fdb-00da-44d2-b10d-e744317f8b1b": {
     "views": [
      {
       "cell_index": 4
      }
     ]
    },
    "7f928aa9-ef46-4898-b9f9-33309c0c0571": {
     "views": [
      {
       "cell_index": 5
      }
     ]
    },
    "807f63ee-59e1-408c-b7bf-af3bdad9dd74": {
     "views": [
      {
       "cell_index": 4
      }
     ]
    },
    "84079ef5-adec-49df-a346-d5977ed1fdf5": {
     "views": [
      {
       "cell_index": 4
      }
     ]
    },
    "86cbf905-79da-413b-968e-3d753fdd030d": {
     "views": [
      {
       "cell_index": 4
      }
     ]
    },
    "86fefa19-d014-4599-955b-82b959317061": {
     "views": [
      {
       "cell_index": 3
      }
     ]
    },
    "87e3788b-7240-4cc1-b27d-322ed5d393bc": {
     "views": [
      {
       "cell_index": 3
      }
     ]
    },
    "898d6061-8def-4fb5-a097-eff8dc9e9083": {
     "views": [
      {
       "cell_index": 4
      }
     ]
    },
    "89e5c1ef-2a82-4300-9180-4a185181b7cd": {
     "views": [
      {
       "cell_index": 4
      }
     ]
    },
    "8d20a0ca-ec0f-4e2a-8863-c3d8b5cce656": {
     "views": [
      {
       "cell_index": 5
      }
     ]
    },
    "8db5bee2-4edf-44ac-b01f-46ef0e153f99": {
     "views": [
      {
       "cell_index": 4
      }
     ]
    },
    "8ffe33d4-2573-4e84-81b2-a7779d110745": {
     "views": [
      {
       "cell_index": 5
      }
     ]
    },
    "9087a161-f466-458a-9ee7-14a860c252b4": {
     "views": [
      {
       "cell_index": 4
      }
     ]
    },
    "93215d77-673f-438a-9bc6-0d0f05c312bf": {
     "views": [
      {
       "cell_index": 4
      }
     ]
    },
    "94d7a6ac-82e4-42b6-ac02-4e815c1e1536": {
     "views": [
      {
       "cell_index": 3
      }
     ]
    },
    "9679c451-9b43-4cc5-98b8-ea8c7795cfad": {
     "views": [
      {
       "cell_index": 3
      }
     ]
    },
    "9a37876c-6483-47f9-8bfb-20960feef1be": {
     "views": [
      {
       "cell_index": 5
      }
     ]
    },
    "9bd57fc3-392c-4edc-b8d1-a2cffeb0a85d": {
     "views": [
      {
       "cell_index": 4
      }
     ]
    },
    "9c053eae-f174-4913-9ac7-807f171fc8f9": {
     "views": [
      {
       "cell_index": 5
      }
     ]
    },
    "9c4e9d64-376e-4c85-9c33-740ff584f040": {
     "views": [
      {
       "cell_index": 4
      }
     ]
    },
    "9cfbe1eb-198d-4663-8314-08a6b7e5eec7": {
     "views": [
      {
       "cell_index": 5
      }
     ]
    },
    "9e50b409-0feb-42a7-abd4-d7c1bf34c76b": {
     "views": [
      {
       "cell_index": 4
      }
     ]
    },
    "9e8f4530-6b32-4701-8edd-c1f08a924569": {
     "views": [
      {
       "cell_index": 3
      }
     ]
    },
    "9f85c274-0690-43c9-8ddf-2dd7c495fb94": {
     "views": [
      {
       "cell_index": 5
      }
     ]
    },
    "a1b26b20-c83b-4420-a39a-4559e7b30fd6": {
     "views": [
      {
       "cell_index": 4
      }
     ]
    },
    "a1d28c01-781d-4db5-94d6-e259460baaeb": {
     "views": [
      {
       "cell_index": 3
      }
     ]
    },
    "a6056db7-e5d3-46be-9a16-d8c32ecaa4ca": {
     "views": [
      {
       "cell_index": 3
      }
     ]
    },
    "a76779be-b82f-4827-a16e-9fabfeb05738": {
     "views": [
      {
       "cell_index": 4
      }
     ]
    },
    "a7b30ff6-49a1-4498-8b06-f98db6747e5c": {
     "views": [
      {
       "cell_index": 4
      }
     ]
    },
    "abac56a9-65cc-42c5-a404-6ffcd6a6af3c": {
     "views": [
      {
       "cell_index": 5
      }
     ]
    },
    "abaf175e-86fc-4fb2-b5bf-da80fdb2941c": {
     "views": [
      {
       "cell_index": 5
      }
     ]
    },
    "abc72eb3-1222-4c95-8245-19745445d6a6": {
     "views": [
      {
       "cell_index": 5
      }
     ]
    },
    "abd9332e-b730-4e81-a007-81bd23bee584": {
     "views": [
      {
       "cell_index": 5
      }
     ]
    },
    "abe202a3-ea9f-46df-a78a-8c27b1f5d8c4": {
     "views": [
      {
       "cell_index": 3
      }
     ]
    },
    "acd64269-06b4-43af-a7fc-621669ac634a": {
     "views": [
      {
       "cell_index": 5
      }
     ]
    },
    "afbbcbc0-15e7-43a5-9dfc-6976877a156f": {
     "views": [
      {
       "cell_index": 5
      }
     ]
    },
    "b29c7378-00df-417d-917a-1b91f63dab60": {
     "views": [
      {
       "cell_index": 3
      }
     ]
    },
    "b2ca93ca-60c4-46d8-bd2e-29de269a8d33": {
     "views": [
      {
       "cell_index": 3
      }
     ]
    },
    "b5389386-da1e-4b8f-a774-6d191dfc3f92": {
     "views": [
      {
       "cell_index": 5
      }
     ]
    },
    "b5b60787-7315-404b-9592-fe3b54ebbba0": {
     "views": [
      {
       "cell_index": 3
      }
     ]
    },
    "b7fbe111-264b-4167-a7d8-61194cce9095": {
     "views": [
      {
       "cell_index": 5
      }
     ]
    },
    "b849c68b-c74c-461c-bd1c-cf1e47e33054": {
     "views": [
      {
       "cell_index": 3
      }
     ]
    },
    "b8cb1f23-97b6-40ef-8321-850fd4728647": {
     "views": [
      {
       "cell_index": 5
      }
     ]
    },
    "b8f896f0-b99a-410e-ab88-916dcc91339b": {
     "views": [
      {
       "cell_index": 5
      }
     ]
    },
    "b99de7e3-fa7f-4945-ad63-b7e5b00e6b09": {
     "views": [
      {
       "cell_index": 5
      }
     ]
    },
    "ba865b4f-27cc-429a-bd88-7a9edd955fc3": {
     "views": [
      {
       "cell_index": 4
      }
     ]
    },
    "bb09b7d4-d5d0-4123-bc0a-3fe19bfa3d88": {
     "views": [
      {
       "cell_index": 3
      }
     ]
    },
    "bc8af814-4270-4855-8166-2575d4a0f60e": {
     "views": [
      {
       "cell_index": 3
      }
     ]
    },
    "bdb96107-9f6b-4552-b2ee-2f38ea914a0c": {
     "views": [
      {
       "cell_index": 4
      }
     ]
    },
    "be5af80c-1562-49b3-894f-0c3ef737f7f1": {
     "views": [
      {
       "cell_index": 4
      }
     ]
    },
    "be6fd493-9f81-4423-9be9-dca2af27e069": {
     "views": [
      {
       "cell_index": 3
      }
     ]
    },
    "c0bb4a03-e8e7-4668-9f06-ff67f9b3bb47": {
     "views": [
      {
       "cell_index": 3
      }
     ]
    },
    "c17582ab-9350-497f-9617-963bee7202d0": {
     "views": [
      {
       "cell_index": 3
      }
     ]
    },
    "c1b5249f-578c-4c20-9bdb-3680c7cfd0ec": {
     "views": [
      {
       "cell_index": 3
      }
     ]
    },
    "c296a504-1f39-4166-a76b-8730be9013ba": {
     "views": [
      {
       "cell_index": 3
      }
     ]
    },
    "c4eec9f5-f04a-4eb5-b973-a717b1d7a53a": {
     "views": [
      {
       "cell_index": 3
      }
     ]
    },
    "c5157657-8c09-43dc-a481-58f0bfdf4cc6": {
     "views": [
      {
       "cell_index": 3
      }
     ]
    },
    "c741eab8-87e0-4aeb-a0d6-5c0047baa539": {
     "views": [
      {
       "cell_index": 3
      }
     ]
    },
    "c775d9d2-4e6d-4e4d-9257-92f26d21979e": {
     "views": [
      {
       "cell_index": 5
      }
     ]
    },
    "c8f5575f-726c-4792-a2a8-24bacd82eacd": {
     "views": [
      {
       "cell_index": 5
      }
     ]
    },
    "c9ba13f6-c925-4646-842a-8d447121b65c": {
     "views": [
      {
       "cell_index": 4
      }
     ]
    },
    "ca3a152e-a041-4d82-84af-61953a97a033": {
     "views": [
      {
       "cell_index": 3
      }
     ]
    },
    "ca726433-e1df-4214-a19c-db57fa67a77d": {
     "views": [
      {
       "cell_index": 3
      }
     ]
    },
    "cb916d87-b3db-4b57-93da-3ac8245e3905": {
     "views": [
      {
       "cell_index": 4
      }
     ]
    },
    "cbee33f8-1b74-4923-9278-103d42d0b8a7": {
     "views": [
      {
       "cell_index": 3
      }
     ]
    },
    "cd1155a3-24bd-405f-8bdc-f7f96b80b4e4": {
     "views": [
      {
       "cell_index": 5
      }
     ]
    },
    "cf5530f0-99e4-44e6-aa27-4a573d919c61": {
     "views": [
      {
       "cell_index": 3
      }
     ]
    },
    "cf66a479-352e-4ad5-9dc9-56fb810e8f97": {
     "views": [
      {
       "cell_index": 4
      }
     ]
    },
    "d0085b2c-26bc-4aea-93e8-eff31e04c090": {
     "views": [
      {
       "cell_index": 4
      }
     ]
    },
    "d19eee15-6667-4ed3-a9cb-a503a3cd3396": {
     "views": [
      {
       "cell_index": 5
      }
     ]
    },
    "d227cbb3-5269-436e-a398-d9fc4832eb2d": {
     "views": [
      {
       "cell_index": 5
      }
     ]
    },
    "d2aa3eda-dda2-4737-9b41-10d87e34629e": {
     "views": [
      {
       "cell_index": 3
      }
     ]
    },
    "d2f95cdb-fa7a-4211-802b-f50dea144fd4": {
     "views": [
      {
       "cell_index": 4
      }
     ]
    },
    "d4c4d9d3-297a-4428-8581-b51b8ff119b2": {
     "views": [
      {
       "cell_index": 3
      }
     ]
    },
    "d4c90830-15b7-4e67-81ea-ef91345ef5a1": {
     "views": [
      {
       "cell_index": 5
      }
     ]
    },
    "d52b334b-5845-43d9-9b96-aa6d3484a232": {
     "views": [
      {
       "cell_index": 4
      }
     ]
    },
    "d6d47b95-f95d-46d3-b162-7cb4919c6998": {
     "views": [
      {
       "cell_index": 5
      }
     ]
    },
    "d7365560-27c3-462b-91bc-df12a5312a33": {
     "views": [
      {
       "cell_index": 3
      }
     ]
    },
    "d8223ad8-447c-4b8c-8905-38b87d153bb9": {
     "views": [
      {
       "cell_index": 5
      }
     ]
    },
    "d88dffc8-099e-4ac9-b016-78a7c0c5cca1": {
     "views": [
      {
       "cell_index": 4
      }
     ]
    },
    "d930ea19-f062-4ace-bbd7-de6cb258a938": {
     "views": [
      {
       "cell_index": 5
      }
     ]
    },
    "da1d93d7-513c-4042-8f80-2f4582ca87af": {
     "views": [
      {
       "cell_index": 4
      }
     ]
    },
    "da980bd2-41a2-4015-afbf-d79c796d343b": {
     "views": [
      {
       "cell_index": 5
      }
     ]
    },
    "dbbac7e3-d30d-4c99-96fe-ebc832196fd5": {
     "views": [
      {
       "cell_index": 3
      }
     ]
    },
    "dbe3e868-59c0-422a-80a8-0c4703f19127": {
     "views": [
      {
       "cell_index": 3
      }
     ]
    },
    "dc801cf1-254e-4e97-91c3-f8d0528ce59f": {
     "views": [
      {
       "cell_index": 5
      }
     ]
    },
    "dcc3be54-5471-418d-bbb8-04e53b658d8c": {
     "views": [
      {
       "cell_index": 5
      }
     ]
    },
    "dd8978bd-aa57-4386-992d-2ed096730d13": {
     "views": [
      {
       "cell_index": 4
      }
     ]
    },
    "dda1abe7-5915-44a2-89f2-c8bd6ec8e816": {
     "views": [
      {
       "cell_index": 3
      }
     ]
    },
    "de403b04-ea87-4e53-b17c-c9078ba15e91": {
     "views": [
      {
       "cell_index": 3
      }
     ]
    },
    "e03fafa4-9851-4951-a272-5445ffe2e7a9": {
     "views": [
      {
       "cell_index": 5
      }
     ]
    },
    "e19e9aa3-b1cf-47d8-a24e-20d18db2007c": {
     "views": [
      {
       "cell_index": 5
      }
     ]
    },
    "e30343dd-3987-4525-aba1-c2259aeaf620": {
     "views": [
      {
       "cell_index": 5
      }
     ]
    },
    "e35e636a-8241-4b57-82a9-109bd0ed64d5": {
     "views": [
      {
       "cell_index": 5
      }
     ]
    },
    "e410a542-d4ea-4d20-9b0b-00a770c1ceab": {
     "views": [
      {
       "cell_index": 5
      }
     ]
    },
    "e54a5af1-2460-4374-8cc1-21dac738a39e": {
     "views": [
      {
       "cell_index": 3
      }
     ]
    },
    "e5c5a814-7aac-471e-a8df-9236292752d9": {
     "views": [
      {
       "cell_index": 3
      }
     ]
    },
    "e670e8c7-a09e-40e0-9bf3-77132ca28ef9": {
     "views": [
      {
       "cell_index": 5
      }
     ]
    },
    "e6ec3e13-f964-4411-ac98-f0509f9737dd": {
     "views": [
      {
       "cell_index": 5
      }
     ]
    },
    "e7322e70-5818-479f-a32b-67e9e403f81a": {
     "views": [
      {
       "cell_index": 3
      }
     ]
    },
    "e7f9125f-81e3-4a45-b13d-ff68f2976479": {
     "views": [
      {
       "cell_index": 5
      }
     ]
    },
    "e86b9220-05f8-4aa9-bfc6-e0c745d832cd": {
     "views": [
      {
       "cell_index": 3
      }
     ]
    },
    "eb580c58-c7c2-40d9-984f-e2abedd73c3a": {
     "views": [
      {
       "cell_index": 3
      }
     ]
    },
    "ee217698-68b2-4296-85f5-14807cd93e4a": {
     "views": [
      {
       "cell_index": 4
      }
     ]
    },
    "efbda263-2e14-49fe-a531-19b570abf767": {
     "views": [
      {
       "cell_index": 3
      }
     ]
    },
    "f08c0715-1360-473c-9c7a-b1cebab57b64": {
     "views": [
      {
       "cell_index": 4
      }
     ]
    },
    "f6705766-d6d7-4054-a781-ddfb0187a158": {
     "views": [
      {
       "cell_index": 4
      }
     ]
    },
    "f77108d0-ad9b-44db-93c5-f0ef52561864": {
     "views": [
      {
       "cell_index": 4
      }
     ]
    },
    "f8be418e-966b-4c13-8569-b79a2a324e69": {
     "views": [
      {
       "cell_index": 4
      }
     ]
    },
    "fac95a29-60a3-4fc5-853c-770e3059b133": {
     "views": [
      {
       "cell_index": 3
      }
     ]
    },
    "fb9b5353-1d2b-47b4-b710-0b8679b86b19": {
     "views": [
      {
       "cell_index": 4
      }
     ]
    },
    "ffe36445-99e9-40c0-9084-8a19a74ea247": {
     "views": [
      {
       "cell_index": 3
      }
     ]
    }
   },
   "version": "1.2.0"
  }
 },
 "nbformat": 4,
 "nbformat_minor": 0
}
