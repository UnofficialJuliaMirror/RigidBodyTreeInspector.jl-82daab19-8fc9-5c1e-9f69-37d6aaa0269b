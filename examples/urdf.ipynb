{
 "cells": [
  {
   "cell_type": "code",
   "execution_count": 1,
   "metadata": {
    "collapsed": false
   },
   "outputs": [
    {
     "data": {
      "text/html": [
       "<div id=\"interact-js-shim\">\n",
       "    <script charset=\"utf-8\">\n",
       "(function (IPython, $, _, MathJax) {\n",
       "    $.event.special.destroyed = {\n",
       "\tremove: function(o) {\n",
       "\t    if (o.handler) {\n",
       "\t\to.handler.apply(this, arguments)\n",
       "\t    }\n",
       "\t}\n",
       "    }\n",
       "\n",
       "    var OutputArea = IPython.version >= \"4.0.0\" ? require(\"notebook/js/outputarea\").OutputArea : IPython.OutputArea;\n",
       "\n",
       "    var redrawValue = function (container, type, val) {\n",
       "\tvar selector = $(\"<div/>\");\n",
       "\tvar oa = new OutputArea(_.extend(selector, {\n",
       "\t    selector: selector,\n",
       "\t    prompt_area: true,\n",
       "\t    events: IPython.events,\n",
       "\t    keyboard_manager: IPython.keyboard_manager\n",
       "\t})); // Hack to work with IPython 2.1.0\n",
       "\n",
       "\tswitch (type) {\n",
       "\tcase \"image/png\":\n",
       "            var _src = 'data:' + type + ';base64,' + val;\n",
       "\t    $(container).find(\"img\").attr('src', _src);\n",
       "\t    break;\n",
       "\tdefault:\n",
       "\t    var toinsert = OutputArea.append_map[type].apply(\n",
       "\t\toa, [val, {}, selector]\n",
       "\t    );\n",
       "\t    $(container).empty().append(toinsert.contents());\n",
       "\t    selector.remove();\n",
       "\t}\n",
       "\tif (type === \"text/latex\" && MathJax) {\n",
       "\t    MathJax.Hub.Queue([\"Typeset\", MathJax.Hub, toinsert.get(0)]);\n",
       "\t}\n",
       "    }\n",
       "\n",
       "\n",
       "    $(document).ready(function() {\n",
       "\tfunction initComm(evt, data) {\n",
       "\t    var comm_manager = data.kernel.comm_manager;\n",
       "        //_.extend(comm_manager.targets, require(\"widgets/js/widget\"))\n",
       "\t    comm_manager.register_target(\"Signal\", function (comm) {\n",
       "            comm.on_msg(function (msg) {\n",
       "                //Widgets.log(\"message received\", msg);\n",
       "                var val = msg.content.data.value;\n",
       "                $(\".signal-\" + comm.comm_id).each(function() {\n",
       "                var type = $(this).data(\"type\");\n",
       "                if (val[type]) {\n",
       "                    redrawValue(this, type, val[type], type);\n",
       "                }\n",
       "                });\n",
       "                delete val;\n",
       "                delete msg.content.data.value;\n",
       "            });\n",
       "\t    });\n",
       "\n",
       "\t    // coordingate with Comm and redraw Signals\n",
       "\t    // XXX: Test using Reactive here to improve performance\n",
       "\t    $([IPython.events]).on(\n",
       "\t\t'output_appended.OutputArea', function (event, type, value, md, toinsert) {\n",
       "\t\t    if (md && md.reactive) {\n",
       "                // console.log(md.comm_id);\n",
       "                toinsert.addClass(\"signal-\" + md.comm_id);\n",
       "                toinsert.data(\"type\", type);\n",
       "                // Signal back indicating the mimetype required\n",
       "                var comm_manager = IPython.notebook.kernel.comm_manager;\n",
       "                var comm = comm_manager.comms[md.comm_id];\n",
       "                comm.then(function (c) {\n",
       "                    c.send({action: \"subscribe_mime\",\n",
       "                       mime: type});\n",
       "                    toinsert.bind(\"destroyed\", function() {\n",
       "                        c.send({action: \"unsubscribe_mime\",\n",
       "                               mime: type});\n",
       "                    });\n",
       "                })\n",
       "\t\t    }\n",
       "\t    });\n",
       "\t}\n",
       "\n",
       "\ttry {\n",
       "\t    // try to initialize right away. otherwise, wait on the status_started event.\n",
       "\t    initComm(undefined, IPython.notebook);\n",
       "\t} catch (e) {\n",
       "\t    $([IPython.events]).on('kernel_created.Kernel kernel_created.Session', initComm);\n",
       "\t}\n",
       "    });\n",
       "})(IPython, jQuery, _, MathJax);\n",
       "</script>\n",
       "    <script>\n",
       "        window.interactLoadedFlag = true\n",
       "       $(\"#interact-js-shim\").bind(\"destroyed\", function () {\n",
       "           if (window.interactLoadedFlag) {\n",
       "               console.warn(\"JavaScript required by Interact will be removed if you remove this cell or run using Interact more than once.\")\n",
       "           }\n",
       "       })\n",
       "       $([IPython.events]).on(\"kernel_starting.Kernel kernel_restarting.Kernel\", function () { window.interactLoadedFlag = false })\n",
       "   </script>\n",
       "</div>"
      ]
     },
     "metadata": {},
     "output_type": "display_data"
    },
    {
     "name": "stdout",
     "output_type": "stream",
     "text": [
      "adding: /Users/rdeits/.julia/v0.5/DrakeVisualizer/src/lcmtypes to the python path\n"
     ]
    }
   ],
   "source": [
    "using RigidBodyTreeInspector\n",
    "using RigidBodyDynamics"
   ]
  },
  {
   "cell_type": "code",
   "execution_count": 2,
   "metadata": {
    "collapsed": false,
    "scrolled": false
   },
   "outputs": [],
   "source": [
    "# Let's construct a mechanism by loading a URDF. \n",
    "# This URDF is distributed with the free Drake toolbox: \n",
    "# https://github.com/RobotLocomotion/drake/\n",
    "# I am assuming that you have cloned drake to \n",
    "# ~/locomotion/drake-distro\n",
    "# If your copy of drake is somewhere else, you'll\n",
    "# need to update DRAKE_DISTRO appropriately. \n",
    "# Note that you do not need to build or compile Drake; \n",
    "# just cloning the repository should be enough to provide\n",
    "# you with all the files you will need for this demo. \n",
    "const DRAKE_DISTRO = \"$(ENV[\"HOME\"])/locomotion/drake-distro\"\n",
    "urdf = \"$DRAKE_DISTRO/drake/examples/Valkyrie/urdf/urdf/valkyrie_A_sim_drake_one_neck_dof_wide_ankle_rom.urdf\"\n",
    "\n",
    "mechanism = RigidBodyDynamics.parse_urdf(Float64, urdf);"
   ]
  },
  {
   "cell_type": "code",
   "execution_count": 3,
   "metadata": {
    "collapsed": false
   },
   "outputs": [
    {
     "data": {
      "text/plain": [
       "Process(`drake-visualizer`, ProcessRunning)"
      ]
     },
     "execution_count": 3,
     "metadata": {},
     "output_type": "execute_result"
    }
   ],
   "source": [
    "# Launch the viewer\n",
    "proc = DrakeVisualizer.new_window()"
   ]
  },
  {
   "cell_type": "code",
   "execution_count": 5,
   "metadata": {
    "collapsed": false,
    "scrolled": false
   },
   "outputs": [
    {
     "data": {
      "text/html": [],
      "text/plain": [
       "Interact.Slider{Float64}(Signal{Float64}(0.0, nactions=0),\"torsoYaw.1\",0.0,linspace(-3.141592653589793,3.141592653589793,51),\".3f\",true)"
      ]
     },
     "metadata": {},
     "output_type": "display_data"
    },
    {
     "data": {
      "text/html": [],
      "text/plain": [
       "Interact.Slider{Float64}(Signal{Float64}(0.0, nactions=0),\"torsoPitch.1\",0.0,linspace(-3.141592653589793,3.141592653589793,51),\".3f\",true)"
      ]
     },
     "metadata": {},
     "output_type": "display_data"
    },
    {
     "data": {
      "text/html": [],
      "text/plain": [
       "Interact.Slider{Float64}(Signal{Float64}(0.0, nactions=0),\"torsoRoll.1\",0.0,linspace(-3.141592653589793,3.141592653589793,51),\".3f\",true)"
      ]
     },
     "metadata": {},
     "output_type": "display_data"
    },
    {
     "data": {
      "text/html": [],
      "text/plain": [
       "Interact.Slider{Float64}(Signal{Float64}(0.0, nactions=0),\"lowerNeckPitch.1\",0.0,linspace(-3.141592653589793,3.141592653589793,51),\".3f\",true)"
      ]
     },
     "metadata": {},
     "output_type": "display_data"
    },
    {
     "data": {
      "text/html": [],
      "text/plain": [
       "Interact.Slider{Float64}(Signal{Float64}(0.0, nactions=0),\"rightShoulderPitch.1\",0.0,linspace(-3.141592653589793,3.141592653589793,51),\".3f\",true)"
      ]
     },
     "metadata": {},
     "output_type": "display_data"
    },
    {
     "data": {
      "text/html": [],
      "text/plain": [
       "Interact.Slider{Float64}(Signal{Float64}(0.0, nactions=0),\"rightShoulderRoll.1\",0.0,linspace(-3.141592653589793,3.141592653589793,51),\".3f\",true)"
      ]
     },
     "metadata": {},
     "output_type": "display_data"
    },
    {
     "data": {
      "text/html": [],
      "text/plain": [
       "Interact.Slider{Float64}(Signal{Float64}(0.0, nactions=0),\"rightShoulderYaw.1\",0.0,linspace(-3.141592653589793,3.141592653589793,51),\".3f\",true)"
      ]
     },
     "metadata": {},
     "output_type": "display_data"
    },
    {
     "data": {
      "text/html": [],
      "text/plain": [
       "Interact.Slider{Float64}(Signal{Float64}(0.0, nactions=0),\"rightElbowPitch.1\",0.0,linspace(-3.141592653589793,3.141592653589793,51),\".3f\",true)"
      ]
     },
     "metadata": {},
     "output_type": "display_data"
    },
    {
     "data": {
      "text/html": [],
      "text/plain": [
       "Interact.Slider{Float64}(Signal{Float64}(0.0, nactions=0),\"rightForearmYaw.1\",0.0,linspace(-3.141592653589793,3.141592653589793,51),\".3f\",true)"
      ]
     },
     "metadata": {},
     "output_type": "display_data"
    },
    {
     "data": {
      "text/html": [],
      "text/plain": [
       "Interact.Slider{Float64}(Signal{Float64}(0.0, nactions=0),\"rightWristRoll.1\",0.0,linspace(-3.141592653589793,3.141592653589793,51),\".3f\",true)"
      ]
     },
     "metadata": {},
     "output_type": "display_data"
    },
    {
     "data": {
      "text/html": [],
      "text/plain": [
       "Interact.Slider{Float64}(Signal{Float64}(0.0, nactions=0),\"rightWristPitch.1\",0.0,linspace(-3.141592653589793,3.141592653589793,51),\".3f\",true)"
      ]
     },
     "metadata": {},
     "output_type": "display_data"
    },
    {
     "data": {
      "text/html": [],
      "text/plain": [
       "Interact.Slider{Float64}(Signal{Float64}(0.0, nactions=0),\"leftShoulderPitch.1\",0.0,linspace(-3.141592653589793,3.141592653589793,51),\".3f\",true)"
      ]
     },
     "metadata": {},
     "output_type": "display_data"
    },
    {
     "data": {
      "text/html": [],
      "text/plain": [
       "Interact.Slider{Float64}(Signal{Float64}(0.0, nactions=0),\"leftShoulderRoll.1\",0.0,linspace(-3.141592653589793,3.141592653589793,51),\".3f\",true)"
      ]
     },
     "metadata": {},
     "output_type": "display_data"
    },
    {
     "data": {
      "text/html": [],
      "text/plain": [
       "Interact.Slider{Float64}(Signal{Float64}(0.0, nactions=0),\"leftShoulderYaw.1\",0.0,linspace(-3.141592653589793,3.141592653589793,51),\".3f\",true)"
      ]
     },
     "metadata": {},
     "output_type": "display_data"
    },
    {
     "data": {
      "text/html": [],
      "text/plain": [
       "Interact.Slider{Float64}(Signal{Float64}(0.0, nactions=0),\"leftElbowPitch.1\",0.0,linspace(-3.141592653589793,3.141592653589793,51),\".3f\",true)"
      ]
     },
     "metadata": {},
     "output_type": "display_data"
    },
    {
     "data": {
      "text/html": [],
      "text/plain": [
       "Interact.Slider{Float64}(Signal{Float64}(0.0, nactions=0),\"leftForearmYaw.1\",0.0,linspace(-3.141592653589793,3.141592653589793,51),\".3f\",true)"
      ]
     },
     "metadata": {},
     "output_type": "display_data"
    },
    {
     "data": {
      "text/html": [],
      "text/plain": [
       "Interact.Slider{Float64}(Signal{Float64}(0.0, nactions=0),\"leftWristRoll.1\",0.0,linspace(-3.141592653589793,3.141592653589793,51),\".3f\",true)"
      ]
     },
     "metadata": {},
     "output_type": "display_data"
    },
    {
     "data": {
      "text/html": [],
      "text/plain": [
       "Interact.Slider{Float64}(Signal{Float64}(0.0, nactions=0),\"leftWristPitch.1\",0.0,linspace(-3.141592653589793,3.141592653589793,51),\".3f\",true)"
      ]
     },
     "metadata": {},
     "output_type": "display_data"
    },
    {
     "data": {
      "text/html": [],
      "text/plain": [
       "Interact.Slider{Float64}(Signal{Float64}(0.0, nactions=0),\"rightHipYaw.1\",0.0,linspace(-3.141592653589793,3.141592653589793,51),\".3f\",true)"
      ]
     },
     "metadata": {},
     "output_type": "display_data"
    },
    {
     "data": {
      "text/html": [],
      "text/plain": [
       "Interact.Slider{Float64}(Signal{Float64}(0.0, nactions=0),\"rightHipRoll.1\",0.0,linspace(-3.141592653589793,3.141592653589793,51),\".3f\",true)"
      ]
     },
     "metadata": {},
     "output_type": "display_data"
    },
    {
     "data": {
      "text/html": [],
      "text/plain": [
       "Interact.Slider{Float64}(Signal{Float64}(0.0, nactions=0),\"rightHipPitch.1\",0.0,linspace(-3.141592653589793,3.141592653589793,51),\".3f\",true)"
      ]
     },
     "metadata": {},
     "output_type": "display_data"
    },
    {
     "data": {
      "text/html": [],
      "text/plain": [
       "Interact.Slider{Float64}(Signal{Float64}(0.0, nactions=0),\"rightKneePitch.1\",0.0,linspace(-3.141592653589793,3.141592653589793,51),\".3f\",true)"
      ]
     },
     "metadata": {},
     "output_type": "display_data"
    },
    {
     "data": {
      "text/html": [],
      "text/plain": [
       "Interact.Slider{Float64}(Signal{Float64}(0.0, nactions=0),\"rightAnklePitch.1\",0.0,linspace(-3.141592653589793,3.141592653589793,51),\".3f\",true)"
      ]
     },
     "metadata": {},
     "output_type": "display_data"
    },
    {
     "data": {
      "text/html": [],
      "text/plain": [
       "Interact.Slider{Float64}(Signal{Float64}(0.0, nactions=0),\"rightAnkleRoll.1\",0.0,linspace(-3.141592653589793,3.141592653589793,51),\".3f\",true)"
      ]
     },
     "metadata": {},
     "output_type": "display_data"
    },
    {
     "data": {
      "text/html": [],
      "text/plain": [
       "Interact.Slider{Float64}(Signal{Float64}(0.0, nactions=0),\"leftHipYaw.1\",0.0,linspace(-3.141592653589793,3.141592653589793,51),\".3f\",true)"
      ]
     },
     "metadata": {},
     "output_type": "display_data"
    },
    {
     "data": {
      "text/html": [],
      "text/plain": [
       "Interact.Slider{Float64}(Signal{Float64}(0.0, nactions=0),\"leftHipRoll.1\",0.0,linspace(-3.141592653589793,3.141592653589793,51),\".3f\",true)"
      ]
     },
     "metadata": {},
     "output_type": "display_data"
    },
    {
     "data": {
      "text/html": [],
      "text/plain": [
       "Interact.Slider{Float64}(Signal{Float64}(0.0, nactions=0),\"leftHipPitch.1\",0.0,linspace(-3.141592653589793,3.141592653589793,51),\".3f\",true)"
      ]
     },
     "metadata": {},
     "output_type": "display_data"
    },
    {
     "data": {
      "text/html": [],
      "text/plain": [
       "Interact.Slider{Float64}(Signal{Float64}(0.0, nactions=0),\"leftKneePitch.1\",0.0,linspace(-3.141592653589793,3.141592653589793,51),\".3f\",true)"
      ]
     },
     "metadata": {},
     "output_type": "display_data"
    },
    {
     "data": {
      "text/html": [],
      "text/plain": [
       "Interact.Slider{Float64}(Signal{Float64}(0.0, nactions=0),\"leftAnklePitch.1\",0.0,linspace(-3.141592653589793,3.141592653589793,51),\".3f\",true)"
      ]
     },
     "metadata": {},
     "output_type": "display_data"
    },
    {
     "data": {
      "text/html": [],
      "text/plain": [
       "Interact.Slider{Float64}(Signal{Float64}(0.0, nactions=0),\"leftAnkleRoll.1\",0.0,linspace(-3.141592653589793,3.141592653589793,51),\".3f\",true)"
      ]
     },
     "metadata": {},
     "output_type": "display_data"
    },
    {
     "data": {
      "text/plain": [
       "nothing"
      ]
     },
     "execution_count": 5,
     "metadata": {
      "comm_id": "b50aa6c3-47a7-42fb-91e6-421b2d34a819",
      "reactive": true
     },
     "output_type": "execute_result"
    }
   ],
   "source": [
    "# We can visualize the kinematic structure of the robot just by inspecting it:\n",
    "inspect(mechanism)"
   ]
  },
  {
   "cell_type": "code",
   "execution_count": 6,
   "metadata": {
    "collapsed": false
   },
   "outputs": [
    {
     "data": {
      "text/html": [],
      "text/plain": [
       "Interact.Slider{Float64}(Signal{Float64}(0.0, nactions=0),\"torsoYaw.1\",0.0,linspace(-3.141592653589793,3.141592653589793,51),\".3f\",true)"
      ]
     },
     "metadata": {},
     "output_type": "display_data"
    },
    {
     "data": {
      "text/html": [],
      "text/plain": [
       "Interact.Slider{Float64}(Signal{Float64}(0.0, nactions=0),\"torsoPitch.1\",0.0,linspace(-3.141592653589793,3.141592653589793,51),\".3f\",true)"
      ]
     },
     "metadata": {},
     "output_type": "display_data"
    },
    {
     "data": {
      "text/html": [],
      "text/plain": [
       "Interact.Slider{Float64}(Signal{Float64}(0.0, nactions=0),\"torsoRoll.1\",0.0,linspace(-3.141592653589793,3.141592653589793,51),\".3f\",true)"
      ]
     },
     "metadata": {},
     "output_type": "display_data"
    },
    {
     "data": {
      "text/html": [],
      "text/plain": [
       "Interact.Slider{Float64}(Signal{Float64}(0.0, nactions=0),\"lowerNeckPitch.1\",0.0,linspace(-3.141592653589793,3.141592653589793,51),\".3f\",true)"
      ]
     },
     "metadata": {},
     "output_type": "display_data"
    },
    {
     "data": {
      "text/html": [],
      "text/plain": [
       "Interact.Slider{Float64}(Signal{Float64}(0.0, nactions=0),\"rightShoulderPitch.1\",0.0,linspace(-3.141592653589793,3.141592653589793,51),\".3f\",true)"
      ]
     },
     "metadata": {},
     "output_type": "display_data"
    },
    {
     "data": {
      "text/html": [],
      "text/plain": [
       "Interact.Slider{Float64}(Signal{Float64}(0.0, nactions=0),\"rightShoulderRoll.1\",0.0,linspace(-3.141592653589793,3.141592653589793,51),\".3f\",true)"
      ]
     },
     "metadata": {},
     "output_type": "display_data"
    },
    {
     "data": {
      "text/html": [],
      "text/plain": [
       "Interact.Slider{Float64}(Signal{Float64}(0.0, nactions=0),\"rightShoulderYaw.1\",0.0,linspace(-3.141592653589793,3.141592653589793,51),\".3f\",true)"
      ]
     },
     "metadata": {},
     "output_type": "display_data"
    },
    {
     "data": {
      "text/html": [],
      "text/plain": [
       "Interact.Slider{Float64}(Signal{Float64}(0.0, nactions=0),\"rightElbowPitch.1\",0.0,linspace(-3.141592653589793,3.141592653589793,51),\".3f\",true)"
      ]
     },
     "metadata": {},
     "output_type": "display_data"
    },
    {
     "data": {
      "text/html": [],
      "text/plain": [
       "Interact.Slider{Float64}(Signal{Float64}(0.0, nactions=0),\"rightForearmYaw.1\",0.0,linspace(-3.141592653589793,3.141592653589793,51),\".3f\",true)"
      ]
     },
     "metadata": {},
     "output_type": "display_data"
    },
    {
     "data": {
      "text/html": [],
      "text/plain": [
       "Interact.Slider{Float64}(Signal{Float64}(0.0, nactions=0),\"rightWristRoll.1\",0.0,linspace(-3.141592653589793,3.141592653589793,51),\".3f\",true)"
      ]
     },
     "metadata": {},
     "output_type": "display_data"
    },
    {
     "data": {
      "text/html": [],
      "text/plain": [
       "Interact.Slider{Float64}(Signal{Float64}(0.0, nactions=0),\"rightWristPitch.1\",0.0,linspace(-3.141592653589793,3.141592653589793,51),\".3f\",true)"
      ]
     },
     "metadata": {},
     "output_type": "display_data"
    },
    {
     "data": {
      "text/html": [],
      "text/plain": [
       "Interact.Slider{Float64}(Signal{Float64}(0.0, nactions=0),\"leftShoulderPitch.1\",0.0,linspace(-3.141592653589793,3.141592653589793,51),\".3f\",true)"
      ]
     },
     "metadata": {},
     "output_type": "display_data"
    },
    {
     "data": {
      "text/html": [],
      "text/plain": [
       "Interact.Slider{Float64}(Signal{Float64}(0.0, nactions=0),\"leftShoulderRoll.1\",0.0,linspace(-3.141592653589793,3.141592653589793,51),\".3f\",true)"
      ]
     },
     "metadata": {},
     "output_type": "display_data"
    },
    {
     "data": {
      "text/html": [],
      "text/plain": [
       "Interact.Slider{Float64}(Signal{Float64}(0.0, nactions=0),\"leftShoulderYaw.1\",0.0,linspace(-3.141592653589793,3.141592653589793,51),\".3f\",true)"
      ]
     },
     "metadata": {},
     "output_type": "display_data"
    },
    {
     "data": {
      "text/html": [],
      "text/plain": [
       "Interact.Slider{Float64}(Signal{Float64}(0.0, nactions=0),\"leftElbowPitch.1\",0.0,linspace(-3.141592653589793,3.141592653589793,51),\".3f\",true)"
      ]
     },
     "metadata": {},
     "output_type": "display_data"
    },
    {
     "data": {
      "text/html": [],
      "text/plain": [
       "Interact.Slider{Float64}(Signal{Float64}(0.0, nactions=0),\"leftForearmYaw.1\",0.0,linspace(-3.141592653589793,3.141592653589793,51),\".3f\",true)"
      ]
     },
     "metadata": {},
     "output_type": "display_data"
    },
    {
     "data": {
      "text/html": [],
      "text/plain": [
       "Interact.Slider{Float64}(Signal{Float64}(0.0, nactions=0),\"leftWristRoll.1\",0.0,linspace(-3.141592653589793,3.141592653589793,51),\".3f\",true)"
      ]
     },
     "metadata": {},
     "output_type": "display_data"
    },
    {
     "data": {
      "text/html": [],
      "text/plain": [
       "Interact.Slider{Float64}(Signal{Float64}(0.0, nactions=0),\"leftWristPitch.1\",0.0,linspace(-3.141592653589793,3.141592653589793,51),\".3f\",true)"
      ]
     },
     "metadata": {},
     "output_type": "display_data"
    },
    {
     "data": {
      "text/html": [],
      "text/plain": [
       "Interact.Slider{Float64}(Signal{Float64}(0.0, nactions=0),\"rightHipYaw.1\",0.0,linspace(-3.141592653589793,3.141592653589793,51),\".3f\",true)"
      ]
     },
     "metadata": {},
     "output_type": "display_data"
    },
    {
     "data": {
      "text/html": [],
      "text/plain": [
       "Interact.Slider{Float64}(Signal{Float64}(0.0, nactions=0),\"rightHipRoll.1\",0.0,linspace(-3.141592653589793,3.141592653589793,51),\".3f\",true)"
      ]
     },
     "metadata": {},
     "output_type": "display_data"
    },
    {
     "data": {
      "text/html": [],
      "text/plain": [
       "Interact.Slider{Float64}(Signal{Float64}(0.0, nactions=0),\"rightHipPitch.1\",0.0,linspace(-3.141592653589793,3.141592653589793,51),\".3f\",true)"
      ]
     },
     "metadata": {},
     "output_type": "display_data"
    },
    {
     "data": {
      "text/html": [],
      "text/plain": [
       "Interact.Slider{Float64}(Signal{Float64}(0.0, nactions=0),\"rightKneePitch.1\",0.0,linspace(-3.141592653589793,3.141592653589793,51),\".3f\",true)"
      ]
     },
     "metadata": {},
     "output_type": "display_data"
    },
    {
     "data": {
      "text/html": [],
      "text/plain": [
       "Interact.Slider{Float64}(Signal{Float64}(0.0, nactions=0),\"rightAnklePitch.1\",0.0,linspace(-3.141592653589793,3.141592653589793,51),\".3f\",true)"
      ]
     },
     "metadata": {},
     "output_type": "display_data"
    },
    {
     "data": {
      "text/html": [],
      "text/plain": [
       "Interact.Slider{Float64}(Signal{Float64}(0.0, nactions=0),\"rightAnkleRoll.1\",0.0,linspace(-3.141592653589793,3.141592653589793,51),\".3f\",true)"
      ]
     },
     "metadata": {},
     "output_type": "display_data"
    },
    {
     "data": {
      "text/html": [],
      "text/plain": [
       "Interact.Slider{Float64}(Signal{Float64}(0.0, nactions=0),\"leftHipYaw.1\",0.0,linspace(-3.141592653589793,3.141592653589793,51),\".3f\",true)"
      ]
     },
     "metadata": {},
     "output_type": "display_data"
    },
    {
     "data": {
      "text/html": [],
      "text/plain": [
       "Interact.Slider{Float64}(Signal{Float64}(0.0, nactions=0),\"leftHipRoll.1\",0.0,linspace(-3.141592653589793,3.141592653589793,51),\".3f\",true)"
      ]
     },
     "metadata": {},
     "output_type": "display_data"
    },
    {
     "data": {
      "text/html": [],
      "text/plain": [
       "Interact.Slider{Float64}(Signal{Float64}(0.0, nactions=0),\"leftHipPitch.1\",0.0,linspace(-3.141592653589793,3.141592653589793,51),\".3f\",true)"
      ]
     },
     "metadata": {},
     "output_type": "display_data"
    },
    {
     "data": {
      "text/html": [],
      "text/plain": [
       "Interact.Slider{Float64}(Signal{Float64}(0.0, nactions=0),\"leftKneePitch.1\",0.0,linspace(-3.141592653589793,3.141592653589793,51),\".3f\",true)"
      ]
     },
     "metadata": {},
     "output_type": "display_data"
    },
    {
     "data": {
      "text/html": [],
      "text/plain": [
       "Interact.Slider{Float64}(Signal{Float64}(0.0, nactions=0),\"leftAnklePitch.1\",0.0,linspace(-3.141592653589793,3.141592653589793,51),\".3f\",true)"
      ]
     },
     "metadata": {},
     "output_type": "display_data"
    },
    {
     "data": {
      "text/html": [],
      "text/plain": [
       "Interact.Slider{Float64}(Signal{Float64}(0.0, nactions=0),\"leftAnkleRoll.1\",0.0,linspace(-3.141592653589793,3.141592653589793,51),\".3f\",true)"
      ]
     },
     "metadata": {},
     "output_type": "display_data"
    },
    {
     "data": {
      "text/plain": [
       "nothing"
      ]
     },
     "execution_count": 6,
     "metadata": {
      "comm_id": "28fb5314-b9b7-4ae3-8ffa-fe5cd6b6c4a5",
      "reactive": true
     },
     "output_type": "execute_result"
    }
   ],
   "source": [
    "# And we can also show the inertias of each link, visualized as\n",
    "# ellipsoids of equivalent mass and inertia\n",
    "inspect(mechanism; show_inertias=true)"
   ]
  },
  {
   "cell_type": "code",
   "execution_count": 7,
   "metadata": {
    "collapsed": false
   },
   "outputs": [
    {
     "data": {
      "text/html": [],
      "text/plain": [
       "Interact.Slider{Float64}(Signal{Float64}(0.0, nactions=0),\"torsoYaw.1\",0.0,linspace(-3.141592653589793,3.141592653589793,51),\".3f\",true)"
      ]
     },
     "metadata": {},
     "output_type": "display_data"
    },
    {
     "data": {
      "text/html": [],
      "text/plain": [
       "Interact.Slider{Float64}(Signal{Float64}(0.0, nactions=0),\"torsoPitch.1\",0.0,linspace(-3.141592653589793,3.141592653589793,51),\".3f\",true)"
      ]
     },
     "metadata": {},
     "output_type": "display_data"
    },
    {
     "data": {
      "text/html": [],
      "text/plain": [
       "Interact.Slider{Float64}(Signal{Float64}(0.0, nactions=0),\"torsoRoll.1\",0.0,linspace(-3.141592653589793,3.141592653589793,51),\".3f\",true)"
      ]
     },
     "metadata": {},
     "output_type": "display_data"
    },
    {
     "data": {
      "text/html": [],
      "text/plain": [
       "Interact.Slider{Float64}(Signal{Float64}(0.0, nactions=0),\"lowerNeckPitch.1\",0.0,linspace(-3.141592653589793,3.141592653589793,51),\".3f\",true)"
      ]
     },
     "metadata": {},
     "output_type": "display_data"
    },
    {
     "data": {
      "text/html": [],
      "text/plain": [
       "Interact.Slider{Float64}(Signal{Float64}(0.0, nactions=0),\"rightShoulderPitch.1\",0.0,linspace(-3.141592653589793,3.141592653589793,51),\".3f\",true)"
      ]
     },
     "metadata": {},
     "output_type": "display_data"
    },
    {
     "data": {
      "text/html": [],
      "text/plain": [
       "Interact.Slider{Float64}(Signal{Float64}(0.0, nactions=0),\"rightShoulderRoll.1\",0.0,linspace(-3.141592653589793,3.141592653589793,51),\".3f\",true)"
      ]
     },
     "metadata": {},
     "output_type": "display_data"
    },
    {
     "data": {
      "text/html": [],
      "text/plain": [
       "Interact.Slider{Float64}(Signal{Float64}(0.0, nactions=0),\"rightShoulderYaw.1\",0.0,linspace(-3.141592653589793,3.141592653589793,51),\".3f\",true)"
      ]
     },
     "metadata": {},
     "output_type": "display_data"
    },
    {
     "data": {
      "text/html": [],
      "text/plain": [
       "Interact.Slider{Float64}(Signal{Float64}(0.0, nactions=0),\"rightElbowPitch.1\",0.0,linspace(-3.141592653589793,3.141592653589793,51),\".3f\",true)"
      ]
     },
     "metadata": {},
     "output_type": "display_data"
    },
    {
     "data": {
      "text/html": [],
      "text/plain": [
       "Interact.Slider{Float64}(Signal{Float64}(0.0, nactions=0),\"rightForearmYaw.1\",0.0,linspace(-3.141592653589793,3.141592653589793,51),\".3f\",true)"
      ]
     },
     "metadata": {},
     "output_type": "display_data"
    },
    {
     "data": {
      "text/html": [],
      "text/plain": [
       "Interact.Slider{Float64}(Signal{Float64}(0.0, nactions=0),\"rightWristRoll.1\",0.0,linspace(-3.141592653589793,3.141592653589793,51),\".3f\",true)"
      ]
     },
     "metadata": {},
     "output_type": "display_data"
    },
    {
     "data": {
      "text/html": [],
      "text/plain": [
       "Interact.Slider{Float64}(Signal{Float64}(0.0, nactions=0),\"rightWristPitch.1\",0.0,linspace(-3.141592653589793,3.141592653589793,51),\".3f\",true)"
      ]
     },
     "metadata": {},
     "output_type": "display_data"
    },
    {
     "data": {
      "text/html": [],
      "text/plain": [
       "Interact.Slider{Float64}(Signal{Float64}(0.0, nactions=0),\"leftShoulderPitch.1\",0.0,linspace(-3.141592653589793,3.141592653589793,51),\".3f\",true)"
      ]
     },
     "metadata": {},
     "output_type": "display_data"
    },
    {
     "data": {
      "text/html": [],
      "text/plain": [
       "Interact.Slider{Float64}(Signal{Float64}(0.0, nactions=0),\"leftShoulderRoll.1\",0.0,linspace(-3.141592653589793,3.141592653589793,51),\".3f\",true)"
      ]
     },
     "metadata": {},
     "output_type": "display_data"
    },
    {
     "data": {
      "text/html": [],
      "text/plain": [
       "Interact.Slider{Float64}(Signal{Float64}(0.0, nactions=0),\"leftShoulderYaw.1\",0.0,linspace(-3.141592653589793,3.141592653589793,51),\".3f\",true)"
      ]
     },
     "metadata": {},
     "output_type": "display_data"
    },
    {
     "data": {
      "text/html": [],
      "text/plain": [
       "Interact.Slider{Float64}(Signal{Float64}(0.0, nactions=0),\"leftElbowPitch.1\",0.0,linspace(-3.141592653589793,3.141592653589793,51),\".3f\",true)"
      ]
     },
     "metadata": {},
     "output_type": "display_data"
    },
    {
     "data": {
      "text/html": [],
      "text/plain": [
       "Interact.Slider{Float64}(Signal{Float64}(0.0, nactions=0),\"leftForearmYaw.1\",0.0,linspace(-3.141592653589793,3.141592653589793,51),\".3f\",true)"
      ]
     },
     "metadata": {},
     "output_type": "display_data"
    },
    {
     "data": {
      "text/html": [],
      "text/plain": [
       "Interact.Slider{Float64}(Signal{Float64}(0.0, nactions=0),\"leftWristRoll.1\",0.0,linspace(-3.141592653589793,3.141592653589793,51),\".3f\",true)"
      ]
     },
     "metadata": {},
     "output_type": "display_data"
    },
    {
     "data": {
      "text/html": [],
      "text/plain": [
       "Interact.Slider{Float64}(Signal{Float64}(0.0, nactions=0),\"leftWristPitch.1\",0.0,linspace(-3.141592653589793,3.141592653589793,51),\".3f\",true)"
      ]
     },
     "metadata": {},
     "output_type": "display_data"
    },
    {
     "data": {
      "text/html": [],
      "text/plain": [
       "Interact.Slider{Float64}(Signal{Float64}(0.0, nactions=0),\"rightHipYaw.1\",0.0,linspace(-3.141592653589793,3.141592653589793,51),\".3f\",true)"
      ]
     },
     "metadata": {},
     "output_type": "display_data"
    },
    {
     "data": {
      "text/html": [],
      "text/plain": [
       "Interact.Slider{Float64}(Signal{Float64}(0.0, nactions=0),\"rightHipRoll.1\",0.0,linspace(-3.141592653589793,3.141592653589793,51),\".3f\",true)"
      ]
     },
     "metadata": {},
     "output_type": "display_data"
    },
    {
     "data": {
      "text/html": [],
      "text/plain": [
       "Interact.Slider{Float64}(Signal{Float64}(0.0, nactions=0),\"rightHipPitch.1\",0.0,linspace(-3.141592653589793,3.141592653589793,51),\".3f\",true)"
      ]
     },
     "metadata": {},
     "output_type": "display_data"
    },
    {
     "data": {
      "text/html": [],
      "text/plain": [
       "Interact.Slider{Float64}(Signal{Float64}(0.0, nactions=0),\"rightKneePitch.1\",0.0,linspace(-3.141592653589793,3.141592653589793,51),\".3f\",true)"
      ]
     },
     "metadata": {},
     "output_type": "display_data"
    },
    {
     "data": {
      "text/html": [],
      "text/plain": [
       "Interact.Slider{Float64}(Signal{Float64}(0.0, nactions=0),\"rightAnklePitch.1\",0.0,linspace(-3.141592653589793,3.141592653589793,51),\".3f\",true)"
      ]
     },
     "metadata": {},
     "output_type": "display_data"
    },
    {
     "data": {
      "text/html": [],
      "text/plain": [
       "Interact.Slider{Float64}(Signal{Float64}(0.0, nactions=0),\"rightAnkleRoll.1\",0.0,linspace(-3.141592653589793,3.141592653589793,51),\".3f\",true)"
      ]
     },
     "metadata": {},
     "output_type": "display_data"
    },
    {
     "data": {
      "text/html": [],
      "text/plain": [
       "Interact.Slider{Float64}(Signal{Float64}(0.0, nactions=0),\"leftHipYaw.1\",0.0,linspace(-3.141592653589793,3.141592653589793,51),\".3f\",true)"
      ]
     },
     "metadata": {},
     "output_type": "display_data"
    },
    {
     "data": {
      "text/html": [],
      "text/plain": [
       "Interact.Slider{Float64}(Signal{Float64}(0.0, nactions=0),\"leftHipRoll.1\",0.0,linspace(-3.141592653589793,3.141592653589793,51),\".3f\",true)"
      ]
     },
     "metadata": {},
     "output_type": "display_data"
    },
    {
     "data": {
      "text/html": [],
      "text/plain": [
       "Interact.Slider{Float64}(Signal{Float64}(0.0, nactions=0),\"leftHipPitch.1\",0.0,linspace(-3.141592653589793,3.141592653589793,51),\".3f\",true)"
      ]
     },
     "metadata": {},
     "output_type": "display_data"
    },
    {
     "data": {
      "text/html": [],
      "text/plain": [
       "Interact.Slider{Float64}(Signal{Float64}(0.0, nactions=0),\"leftKneePitch.1\",0.0,linspace(-3.141592653589793,3.141592653589793,51),\".3f\",true)"
      ]
     },
     "metadata": {},
     "output_type": "display_data"
    },
    {
     "data": {
      "text/html": [],
      "text/plain": [
       "Interact.Slider{Float64}(Signal{Float64}(0.0, nactions=0),\"leftAnklePitch.1\",0.0,linspace(-3.141592653589793,3.141592653589793,51),\".3f\",true)"
      ]
     },
     "metadata": {},
     "output_type": "display_data"
    },
    {
     "data": {
      "text/html": [],
      "text/plain": [
       "Interact.Slider{Float64}(Signal{Float64}(0.0, nactions=0),\"leftAnkleRoll.1\",0.0,linspace(-3.141592653589793,3.141592653589793,51),\".3f\",true)"
      ]
     },
     "metadata": {},
     "output_type": "display_data"
    },
    {
     "data": {
      "text/plain": [
       "nothing"
      ]
     },
     "execution_count": 7,
     "metadata": {
      "comm_id": "9b16a4b8-d9e5-4633-8308-c77c6577f42e",
      "reactive": true
     },
     "output_type": "execute_result"
    }
   ],
   "source": [
    "# We can also parse the visual elements from the URDF and use them to \n",
    "# show the robot instead. The URDF we're using uses the package:// \n",
    "# prefix when looking for mesh files, so we'll have to tell it what \n",
    "# directories to search in:\n",
    "package_path = [\"$DRAKE_DISTRO/drake/examples\"]\n",
    "vis = parse_urdf(urdf, mechanism; package_path=package_path);\n",
    "inspect(mechanism, vis)"
   ]
  },
  {
   "cell_type": "code",
   "execution_count": 8,
   "metadata": {
    "collapsed": false
   },
   "outputs": [
    {
     "data": {
      "text/plain": [
       "0"
      ]
     },
     "execution_count": 8,
     "metadata": {},
     "output_type": "execute_result"
    }
   ],
   "source": [
    "# Close the window\n",
    "kill(proc)"
   ]
  },
  {
   "cell_type": "code",
   "execution_count": null,
   "metadata": {
    "collapsed": true
   },
   "outputs": [],
   "source": []
  }
 ],
 "metadata": {
  "kernelspec": {
   "display_name": "Julia 0.5.0",
   "language": "julia",
   "name": "julia-0.5"
  },
  "language_info": {
   "file_extension": ".jl",
   "mimetype": "application/julia",
   "name": "julia",
   "version": "0.5.0"
  },
  "widgets": {
   "state": {
    "02a5815e-7c64-472b-9a9a-cd03a0ba9b69": {
     "views": [
      {
       "cell_index": 5
      }
     ]
    },
    "049377e6-746c-4fa4-ab0e-9f442a1a33f9": {
     "views": [
      {
       "cell_index": 5
      }
     ]
    },
    "0abeeb06-673f-47fb-9e1b-a5ad03dbbf80": {
     "views": [
      {
       "cell_index": 3
      }
     ]
    },
    "0b8439d5-cf35-465c-8a47-7f42d5471d66": {
     "views": [
      {
       "cell_index": 3
      }
     ]
    },
    "0cee5859-591a-47c7-afa7-8575b4af9cdf": {
     "views": [
      {
       "cell_index": 4
      }
     ]
    },
    "0d4ef7b4-9629-4e51-805a-e184ffde7787": {
     "views": [
      {
       "cell_index": 4
      }
     ]
    },
    "0e0563a5-dd83-4431-8b88-d4361cd10e0b": {
     "views": [
      {
       "cell_index": 3
      }
     ]
    },
    "0eef5efd-16df-4bfc-963d-0692c2e21fe4": {
     "views": [
      {
       "cell_index": 3
      }
     ]
    },
    "1047704f-6a00-4ac5-9bb4-7473eb0a9e27": {
     "views": [
      {
       "cell_index": 5
      }
     ]
    },
    "10f73894-0bee-487b-8712-f909248ac15b": {
     "views": [
      {
       "cell_index": 3
      }
     ]
    },
    "134c80e1-6f87-4692-9468-0c5189f46909": {
     "views": [
      {
       "cell_index": 4
      }
     ]
    },
    "15a8ff1d-a09c-487d-b1b5-631747ec4b7b": {
     "views": [
      {
       "cell_index": 3
      }
     ]
    },
    "15d3454f-5c7b-4b59-a389-be9928a6939b": {
     "views": [
      {
       "cell_index": 3
      }
     ]
    },
    "17e8dfa9-52c0-4718-84ba-426d3a8f4756": {
     "views": [
      {
       "cell_index": 4
      }
     ]
    },
    "195ec828-87da-4b0f-9118-6c3d67e674fc": {
     "views": [
      {
       "cell_index": 3
      }
     ]
    },
    "1cecafaf-4e43-46e4-ad66-896452337ed1": {
     "views": [
      {
       "cell_index": 3
      }
     ]
    },
    "1d00bee7-5c69-45a6-ad80-a8cd54fa2ca6": {
     "views": [
      {
       "cell_index": 3
      }
     ]
    },
    "1d1e65f9-c3f6-49ba-8299-84fdaa3cacda": {
     "views": [
      {
       "cell_index": 4
      }
     ]
    },
    "1e699155-5cf7-4cf7-9e3e-ca8f82ad4855": {
     "views": [
      {
       "cell_index": 5
      }
     ]
    },
    "1fdd1ac1-ce15-4219-b6bb-96dae3f3503a": {
     "views": [
      {
       "cell_index": 3
      }
     ]
    },
    "22dcf1d1-a3e8-40dc-8b7b-7eead91c0099": {
     "views": [
      {
       "cell_index": 4
      }
     ]
    },
    "23ac9671-a8c4-4ce0-9793-9ec718e79b6e": {
     "views": [
      {
       "cell_index": 5
      }
     ]
    },
    "249ad1ba-d0a0-4708-940a-b2de6ab15747": {
     "views": [
      {
       "cell_index": 3
      }
     ]
    },
    "26703da5-c5d8-4bce-9906-aae2072499bc": {
     "views": [
      {
       "cell_index": 3
      }
     ]
    },
    "26e5c97c-c418-4579-a05b-54ed1f8f8f93": {
     "views": [
      {
       "cell_index": 3
      }
     ]
    },
    "27261621-de8a-46f3-9230-0c68cadf9757": {
     "views": [
      {
       "cell_index": 3
      }
     ]
    },
    "2811d96b-6f5d-45e5-8b00-a93988f70409": {
     "views": [
      {
       "cell_index": 5
      }
     ]
    },
    "34898f6e-87df-41ce-bdda-a676cde16d3c": {
     "views": [
      {
       "cell_index": 5
      }
     ]
    },
    "375305bc-8026-40e7-8eb5-bb6d45b4d351": {
     "views": [
      {
       "cell_index": 4
      }
     ]
    },
    "3871981c-e8a1-4dd2-90fa-93dcc8c028d4": {
     "views": [
      {
       "cell_index": 4
      }
     ]
    },
    "388c07ac-613b-4997-ba71-66f988e47db9": {
     "views": [
      {
       "cell_index": 5
      }
     ]
    },
    "3ac06edf-918a-46a5-8d2c-1dfc1e526d5b": {
     "views": [
      {
       "cell_index": 3
      }
     ]
    },
    "3b057771-1a3a-4122-8ff6-095ec9e84a76": {
     "views": [
      {
       "cell_index": 5
      }
     ]
    },
    "3b8a1ba5-9a27-444e-aa00-3ff277bb7d28": {
     "views": [
      {
       "cell_index": 3
      }
     ]
    },
    "3f27f098-092b-470a-8df6-88b98954674c": {
     "views": [
      {
       "cell_index": 3
      }
     ]
    },
    "4573de3a-9ad6-4c30-8c9d-bb9dcf866af6": {
     "views": [
      {
       "cell_index": 4
      }
     ]
    },
    "4813d5dc-3161-472f-b66c-8ec6275f2af9": {
     "views": [
      {
       "cell_index": 3
      }
     ]
    },
    "52ad619c-d894-41b9-a04b-9dd4fe94cd7a": {
     "views": [
      {
       "cell_index": 4
      }
     ]
    },
    "5531a36c-5eae-485c-b984-9509af86445a": {
     "views": [
      {
       "cell_index": 4
      }
     ]
    },
    "577336b8-b013-4e0e-91c9-2e7c506b8f47": {
     "views": [
      {
       "cell_index": 4
      }
     ]
    },
    "604f91a3-eeb2-493a-93f9-6ea3bf1a6c69": {
     "views": [
      {
       "cell_index": 3
      }
     ]
    },
    "60afc865-303d-4cca-876d-e72d38f9e736": {
     "views": [
      {
       "cell_index": 4
      }
     ]
    },
    "60ea6ed5-93fd-4754-9af6-a40d17f82e8f": {
     "views": [
      {
       "cell_index": 3
      }
     ]
    },
    "615fc081-a478-4776-922d-7c362da0c280": {
     "views": [
      {
       "cell_index": 3
      }
     ]
    },
    "629f53c3-1139-4c8e-8eb0-21859840b32f": {
     "views": [
      {
       "cell_index": 5
      }
     ]
    },
    "67f34a3d-e443-4e13-8adf-ddb35f1bdca1": {
     "views": [
      {
       "cell_index": 4
      }
     ]
    },
    "688642f5-728f-4f4b-8866-416ca3c0dad3": {
     "views": [
      {
       "cell_index": 5
      }
     ]
    },
    "69af56f3-7ed1-47a8-a2be-f0a57f45f9fd": {
     "views": [
      {
       "cell_index": 3
      }
     ]
    },
    "6bdf9088-947b-4e0e-969c-092737689067": {
     "views": [
      {
       "cell_index": 3
      }
     ]
    },
    "6d652fd0-fba1-4dff-a99f-b60b4485ef80": {
     "views": [
      {
       "cell_index": 3
      }
     ]
    },
    "704c6db9-fad5-4dbc-9b25-4d635fb5d156": {
     "views": [
      {
       "cell_index": 3
      }
     ]
    },
    "7160e2ee-de9b-45df-a75a-c0e9058fd4ed": {
     "views": [
      {
       "cell_index": 4
      }
     ]
    },
    "7317a7e2-480d-413b-927a-78785426f8a5": {
     "views": [
      {
       "cell_index": 5
      }
     ]
    },
    "7664f6c3-28d2-4a74-913e-b76168b22142": {
     "views": [
      {
       "cell_index": 3
      }
     ]
    },
    "7672e72c-4496-4eca-adea-1b52a70d5535": {
     "views": [
      {
       "cell_index": 5
      }
     ]
    },
    "773d3495-333d-4e17-a38d-251c7c25be4d": {
     "views": [
      {
       "cell_index": 3
      }
     ]
    },
    "77f27257-048d-4073-80df-131f4315723e": {
     "views": [
      {
       "cell_index": 3
      }
     ]
    },
    "7f4daaae-db65-40fe-934d-75bb747b9422": {
     "views": [
      {
       "cell_index": 5
      }
     ]
    },
    "82e20a42-e715-4efa-8129-1c6812954d3c": {
     "views": [
      {
       "cell_index": 4
      }
     ]
    },
    "87067d7d-3ab1-4aaf-b41f-b4ff9ee59a5b": {
     "views": [
      {
       "cell_index": 5
      }
     ]
    },
    "875db43e-9ac9-47e3-b58c-3f4009dd437d": {
     "views": [
      {
       "cell_index": 3
      }
     ]
    },
    "8b75bc74-1a10-42e5-82a3-17b68be1f540": {
     "views": [
      {
       "cell_index": 5
      }
     ]
    },
    "8bd88c9e-9542-479e-be74-eebe9360e958": {
     "views": [
      {
       "cell_index": 4
      }
     ]
    },
    "8ddb429f-0bf8-4abb-82ba-2b757e43d05d": {
     "views": [
      {
       "cell_index": 4
      }
     ]
    },
    "8e3da327-4726-408b-a758-14fd3503ff54": {
     "views": [
      {
       "cell_index": 3
      }
     ]
    },
    "900e2495-a3c6-4dd2-9e3f-534530f1e555": {
     "views": [
      {
       "cell_index": 3
      }
     ]
    },
    "93d19d53-e5f6-425a-938f-8717b4f8f00b": {
     "views": [
      {
       "cell_index": 4
      }
     ]
    },
    "949431ed-8443-4625-830f-603393b13597": {
     "views": [
      {
       "cell_index": 3
      }
     ]
    },
    "99c30196-b291-4876-83c1-96cdce7051a7": {
     "views": [
      {
       "cell_index": 3
      }
     ]
    },
    "9af8a3ec-819a-47a7-b929-edf3d64e0c47": {
     "views": [
      {
       "cell_index": 4
      }
     ]
    },
    "9e56c2ff-d747-4d53-850d-b4bf52fd4ef8": {
     "views": [
      {
       "cell_index": 3
      }
     ]
    },
    "a02687e1-605d-4a0b-ab5c-52fa06aee9db": {
     "views": [
      {
       "cell_index": 3
      }
     ]
    },
    "a09d6293-bfb1-4ee8-994a-3e8e041df78b": {
     "views": [
      {
       "cell_index": 5
      }
     ]
    },
    "a59acee0-183e-4612-b959-438ba4b60b3a": {
     "views": [
      {
       "cell_index": 4
      }
     ]
    },
    "a5ecdeaf-da6c-435b-b49b-c3a08d64f973": {
     "views": [
      {
       "cell_index": 4
      }
     ]
    },
    "a6ef9ea5-75cf-4996-bf89-805d7047fb04": {
     "views": [
      {
       "cell_index": 5
      }
     ]
    },
    "aa1d33e2-a897-4fb4-8bdd-7588bb7a411a": {
     "views": [
      {
       "cell_index": 3
      }
     ]
    },
    "af9dc94a-18be-47cd-98b6-5778d7b7b424": {
     "views": [
      {
       "cell_index": 3
      }
     ]
    },
    "b058f258-bfe2-4543-b40b-f1360e17027b": {
     "views": [
      {
       "cell_index": 3
      }
     ]
    },
    "b0e1616a-640d-4ab8-bedb-fc5c71528007": {
     "views": [
      {
       "cell_index": 3
      }
     ]
    },
    "b2333a3e-6786-4d46-af90-bdb388f7f610": {
     "views": [
      {
       "cell_index": 4
      }
     ]
    },
    "b29debcc-7cf0-4909-a8fc-1f3785d4d20c": {
     "views": [
      {
       "cell_index": 3
      }
     ]
    },
    "b3e44fef-5d43-4b7e-a8f5-f7fc841e9284": {
     "views": [
      {
       "cell_index": 5
      }
     ]
    },
    "be5be629-0098-4444-8553-85b3c40fc789": {
     "views": [
      {
       "cell_index": 3
      }
     ]
    },
    "bfa8b2f5-4759-423f-a290-1b072b47f46d": {
     "views": [
      {
       "cell_index": 5
      }
     ]
    },
    "c09f51c0-f949-4886-bf49-3a771d279134": {
     "views": [
      {
       "cell_index": 5
      }
     ]
    },
    "c137e52c-ae83-4c84-8493-7b30261d75f7": {
     "views": [
      {
       "cell_index": 5
      }
     ]
    },
    "cbc60513-725c-41e3-9950-f13294b5aa26": {
     "views": [
      {
       "cell_index": 5
      }
     ]
    },
    "cdd404db-87fa-4bf2-bb64-17db3406e2a1": {
     "views": [
      {
       "cell_index": 5
      }
     ]
    },
    "cee686b5-958b-483f-9f6d-a838ec3011ee": {
     "views": [
      {
       "cell_index": 5
      }
     ]
    },
    "d0273bc0-9468-4162-81a2-7461641d775c": {
     "views": [
      {
       "cell_index": 5
      }
     ]
    },
    "d0a15ec1-ad9c-4f70-b522-3769094efa2e": {
     "views": [
      {
       "cell_index": 5
      }
     ]
    },
    "d8f17703-5f93-4686-913e-ed884559c920": {
     "views": [
      {
       "cell_index": 5
      }
     ]
    },
    "db8d00aa-2bae-443c-8986-8e5e6d7fa301": {
     "views": [
      {
       "cell_index": 3
      }
     ]
    },
    "e071b54e-a931-4de9-8021-59288efa092b": {
     "views": [
      {
       "cell_index": 4
      }
     ]
    },
    "e4132a34-fa16-49be-b9b9-46eb4bb7066d": {
     "views": [
      {
       "cell_index": 5
      }
     ]
    },
    "e5ec9f48-6aa5-4f42-8815-6e2017cb292b": {
     "views": [
      {
       "cell_index": 4
      }
     ]
    },
    "e7afc992-09b4-4632-be17-2339afce0afe": {
     "views": [
      {
       "cell_index": 4
      }
     ]
    },
    "e92fa6bc-903b-49ed-9358-4d691897ef86": {
     "views": [
      {
       "cell_index": 4
      }
     ]
    },
    "ea3f55ff-a128-42ed-b71c-391310232894": {
     "views": [
      {
       "cell_index": 4
      }
     ]
    },
    "ec26fffd-726c-4970-81cc-d67bdf36f382": {
     "views": [
      {
       "cell_index": 3
      }
     ]
    },
    "f18422af-4e3c-4aa8-904c-d57e99f91171": {
     "views": [
      {
       "cell_index": 4
      }
     ]
    },
    "f2e54f35-35a5-4989-a3ce-17ff187dd931": {
     "views": [
      {
       "cell_index": 3
      }
     ]
    },
    "f86d10a4-e372-492b-8e65-bc019ecf4022": {
     "views": [
      {
       "cell_index": 4
      }
     ]
    },
    "fcf6ed8e-071e-4095-b600-41a16a204d99": {
     "views": [
      {
       "cell_index": 5
      }
     ]
    }
   },
   "version": "1.2.0"
  }
 },
 "nbformat": 4,
 "nbformat_minor": 0
}
