{
 "cells": [
  {
   "cell_type": "code",
   "execution_count": null,
   "metadata": {
    "collapsed": false
   },
   "outputs": [],
   "source": [
    "using RigidBodyTreeInspector\n",
    "using RigidBodyDynamics"
   ]
  },
  {
   "cell_type": "code",
   "execution_count": null,
   "metadata": {
    "collapsed": false,
    "scrolled": false
   },
   "outputs": [],
   "source": [
    "# Let's construct a mechanism by loading a URDF. \n",
    "# This URDF is distributed with the free Drake toolbox: \n",
    "# https://github.com/RobotLocomotion/drake/\n",
    "# I am assuming that you have cloned drake to \n",
    "# ~/locomotion/drake-distro\n",
    "# If your copy of drake is somewhere else, you'll\n",
    "# need to update DRAKE_DISTRO appropriately. \n",
    "# Note that you do not need to build or compile Drake; \n",
    "# just cloning the repository should be enough to provide\n",
    "# you with all the files you will need for this demo. \n",
    "const DRAKE_DISTRO = \"$(ENV[\"HOME\"])/locomotion/drake-distro\"\n",
    "urdf = \"$DRAKE_DISTRO/drake/examples/Valkyrie/urdf/urdf/valkyrie_A_sim_drake_one_neck_dof_wide_ankle_rom.urdf\"\n",
    "\n",
    "mechanism = parse_urdf(Float64, urdf);"
   ]
  },
  {
   "cell_type": "code",
   "execution_count": null,
   "metadata": {
    "collapsed": false
   },
   "outputs": [],
   "source": [
    "# Launch the viewer\n",
    "DrakeVisualizer.any_open_windows() || DrakeVisualizer.new_window()"
   ]
  },
  {
   "cell_type": "code",
   "execution_count": null,
   "metadata": {
    "collapsed": false,
    "scrolled": false
   },
   "outputs": [],
   "source": [
    "# We can visualize the kinematic structure of the robot just by inspecting it:\n",
    "inspect(mechanism)"
   ]
  },
  {
   "cell_type": "code",
   "execution_count": null,
   "metadata": {
    "collapsed": false
   },
   "outputs": [],
   "source": [
    "# And we can also show the inertias of each link, visualized as\n",
    "# ellipsoids of equivalent mass and inertia\n",
    "inspect(mechanism; show_inertias=true)"
   ]
  },
  {
   "cell_type": "code",
   "execution_count": null,
   "metadata": {
    "collapsed": false
   },
   "outputs": [],
   "source": [
    "# We can also parse the visual elements from the URDF and use them to \n",
    "# show the robot instead. The URDF we're using uses the package:// \n",
    "# prefix when looking for mesh files, so we'll have to tell it what \n",
    "# directories to search in:\n",
    "package_path = [\"$DRAKE_DISTRO/drake/examples\"]\n",
    "geometries = parse_urdf(urdf, mechanism; package_path=package_path);\n",
    "vis = Visualizer()[:robot1]\n",
    "setgeometry!(vis, geometries)\n",
    "inspect(mechanism, vis)"
   ]
  },
  {
   "cell_type": "code",
   "execution_count": null,
   "metadata": {
    "collapsed": true
   },
   "outputs": [],
   "source": []
  }
 ],
 "metadata": {
  "kernelspec": {
   "display_name": "Julia 0.5.0",
   "language": "julia",
   "name": "julia-0.5"
  },
  "language_info": {
   "file_extension": ".jl",
   "mimetype": "application/julia",
   "name": "julia",
   "version": "0.5.0"
  },
  "widgets": {
   "state": {
    "145d1353-cf79-4298-ba24-111d1b016d24": {
     "views": [
      {
       "cell_index": 4
      }
     ]
    },
    "14fdba17-d3a5-4130-ad93-c4a3e4d57649": {
     "views": [
      {
       "cell_index": 5
      }
     ]
    },
    "168cb330-0341-40ab-9be2-48e14d9c5ed0": {
     "views": [
      {
       "cell_index": 3
      }
     ]
    },
    "1771f27e-4bc8-4746-a2cb-04d3317afd2c": {
     "views": [
      {
       "cell_index": 5
      }
     ]
    },
    "1859a5c9-e89e-4423-b418-a3d2c817fa40": {
     "views": [
      {
       "cell_index": 5
      }
     ]
    },
    "233c4f37-adc6-4409-8c42-1ecff3f12210": {
     "views": [
      {
       "cell_index": 4
      }
     ]
    },
    "253bbc0f-cf13-4e1f-bd94-584ca4061453": {
     "views": [
      {
       "cell_index": 5
      }
     ]
    },
    "297474d9-6fb4-40ad-aff9-b7f388729f4b": {
     "views": [
      {
       "cell_index": 3
      }
     ]
    },
    "2a8442d0-fbd8-499a-ace4-a37d6a27d3d5": {
     "views": [
      {
       "cell_index": 5
      }
     ]
    },
    "2be4879b-5cf2-43c3-be85-379a1c1eace5": {
     "views": [
      {
       "cell_index": 4
      }
     ]
    },
    "2f7a1e26-58b9-4a97-9749-e3b4138ef954": {
     "views": [
      {
       "cell_index": 3
      }
     ]
    },
    "339244e9-51f1-4c3a-b765-bc688f4add89": {
     "views": [
      {
       "cell_index": 4
      }
     ]
    },
    "35d4906c-2df1-43e7-9ea6-227be7f3c79c": {
     "views": [
      {
       "cell_index": 5
      }
     ]
    },
    "371057a4-842d-4d78-ba5b-03abb9e26365": {
     "views": [
      {
       "cell_index": 4
      }
     ]
    },
    "38610bde-bc06-418b-82aa-ce4179dcc0bf": {
     "views": [
      {
       "cell_index": 4
      }
     ]
    },
    "3914bdc9-5e7a-4502-905c-879107e24aea": {
     "views": [
      {
       "cell_index": 5
      }
     ]
    },
    "3926669b-7707-4fa8-94c9-d9005057b2e2": {
     "views": [
      {
       "cell_index": 4
      }
     ]
    },
    "3c498ac8-9874-4d5e-b301-e9ff774c13b1": {
     "views": [
      {
       "cell_index": 4
      }
     ]
    },
    "3d570cbc-5e93-42fc-9faa-f583abdc9223": {
     "views": [
      {
       "cell_index": 5
      }
     ]
    },
    "3fb06ac1-1c72-4665-a68d-ab11d9b932eb": {
     "views": [
      {
       "cell_index": 4
      }
     ]
    },
    "3fbea35e-2e4d-49a9-86ce-f62d03137e36": {
     "views": [
      {
       "cell_index": 4
      }
     ]
    },
    "407f69be-4907-41c3-9c75-811932e1e7e0": {
     "views": [
      {
       "cell_index": 4
      }
     ]
    },
    "443986b9-4c3f-4371-a467-d4debd743a09": {
     "views": [
      {
       "cell_index": 4
      }
     ]
    },
    "4e24d096-22bc-443b-8d61-f98335382c40": {
     "views": [
      {
       "cell_index": 4
      }
     ]
    },
    "4f6a65bb-e2bf-4d16-a784-a9cac6a2f7fa": {
     "views": [
      {
       "cell_index": 3
      }
     ]
    },
    "50ff5259-672a-4d2c-9cbe-b0a531f27f0d": {
     "views": [
      {
       "cell_index": 3
      }
     ]
    },
    "53ed9a37-d6b7-476e-9d1c-19c314922083": {
     "views": [
      {
       "cell_index": 3
      }
     ]
    },
    "55e1ad0e-ed17-47f5-b928-3c3de205177a": {
     "views": [
      {
       "cell_index": 4
      }
     ]
    },
    "56329699-a164-4d0f-b41f-4b5054229c96": {
     "views": [
      {
       "cell_index": 5
      }
     ]
    },
    "575002f9-0dc1-43e2-aa31-3d1c6c3abc29": {
     "views": [
      {
       "cell_index": 5
      }
     ]
    },
    "587ddd9b-bada-4661-91c0-2000d86b8289": {
     "views": [
      {
       "cell_index": 3
      }
     ]
    },
    "58f24d72-f906-4517-a473-11f7afc66fe4": {
     "views": [
      {
       "cell_index": 4
      }
     ]
    },
    "59e53d23-9805-4e3c-8322-c3d82c359fb3": {
     "views": [
      {
       "cell_index": 4
      }
     ]
    },
    "5a11279f-4b7d-4ea5-a4d7-bbce62bb9fc5": {
     "views": [
      {
       "cell_index": 3
      }
     ]
    },
    "5a4741a6-3077-40c9-840e-f6d093516970": {
     "views": [
      {
       "cell_index": 5
      }
     ]
    },
    "64f0443a-1b56-48aa-91a8-cd834fcd7fc0": {
     "views": [
      {
       "cell_index": 5
      }
     ]
    },
    "6b0c948c-c582-4307-b7f8-e2ea7d19e011": {
     "views": [
      {
       "cell_index": 5
      }
     ]
    },
    "74b758d4-4b1a-46d4-b763-a557c2625a60": {
     "views": [
      {
       "cell_index": 3
      }
     ]
    },
    "77456da4-8710-408b-9c13-88d1d772fb8c": {
     "views": [
      {
       "cell_index": 3
      }
     ]
    },
    "77750aad-f5a1-4ac6-b44e-391267b00e05": {
     "views": [
      {
       "cell_index": 3
      }
     ]
    },
    "779ab277-a73c-4bba-bdc8-a215a707b84c": {
     "views": [
      {
       "cell_index": 4
      }
     ]
    },
    "7a7f88a5-fbec-44c6-abf8-f2a4d090714b": {
     "views": [
      {
       "cell_index": 5
      }
     ]
    },
    "7dc0420e-5f67-43dd-be5a-3f33263775b2": {
     "views": [
      {
       "cell_index": 4
      }
     ]
    },
    "820e3feb-f07b-4793-88e4-4e0b8ac3772b": {
     "views": [
      {
       "cell_index": 4
      }
     ]
    },
    "8387cc58-74ae-4b0d-be37-05cd90467487": {
     "views": [
      {
       "cell_index": 3
      }
     ]
    },
    "87154e5f-0126-4ec7-8d02-359e10ad0dbd": {
     "views": [
      {
       "cell_index": 5
      }
     ]
    },
    "888a9c26-179c-462d-80af-5321c2509312": {
     "views": [
      {
       "cell_index": 5
      }
     ]
    },
    "89608b10-ba22-466f-8966-76a99aa0e2e5": {
     "views": [
      {
       "cell_index": 4
      }
     ]
    },
    "8bbad680-5912-4b19-b774-d95e5522589a": {
     "views": [
      {
       "cell_index": 5
      }
     ]
    },
    "8da66823-27f9-4101-9495-e251ff73f6c2": {
     "views": [
      {
       "cell_index": 3
      }
     ]
    },
    "8e7bfaeb-af5e-4854-8115-72307a262055": {
     "views": [
      {
       "cell_index": 4
      }
     ]
    },
    "8f45a9e5-3025-417d-8ce7-2b616a47e5de": {
     "views": [
      {
       "cell_index": 5
      }
     ]
    },
    "96703655-2376-4272-a236-7a0a622202d3": {
     "views": [
      {
       "cell_index": 5
      }
     ]
    },
    "9799d07a-4b02-40fd-9cfd-b11761f67c72": {
     "views": [
      {
       "cell_index": 3
      }
     ]
    },
    "984c5249-397f-4afd-bc5d-6b3d402256c3": {
     "views": [
      {
       "cell_index": 4
      }
     ]
    },
    "9c0370f4-41c0-4a2a-9713-348c299b1c58": {
     "views": [
      {
       "cell_index": 3
      }
     ]
    },
    "9e1e7c05-3e6e-42c8-b66e-ab6327ddcc99": {
     "views": [
      {
       "cell_index": 5
      }
     ]
    },
    "9fe3582c-0cc6-41c0-b734-df23c4041b8e": {
     "views": [
      {
       "cell_index": 4
      }
     ]
    },
    "a0d85c78-49f7-4462-ba01-8a9cd1d4bed8": {
     "views": [
      {
       "cell_index": 3
      }
     ]
    },
    "a62e96c2-1c1f-4685-8e21-82e6eaa875dd": {
     "views": [
      {
       "cell_index": 5
      }
     ]
    },
    "a6646f57-93f1-447e-a3b5-cc3b6f3d1658": {
     "views": [
      {
       "cell_index": 5
      }
     ]
    },
    "a72d5d21-f706-444b-9834-779227a6a9dc": {
     "views": [
      {
       "cell_index": 5
      }
     ]
    },
    "aa9c157c-6d65-4365-b089-8e6b954e12e6": {
     "views": [
      {
       "cell_index": 3
      }
     ]
    },
    "ad48567f-4f57-4618-a7c6-5df12283c7b4": {
     "views": [
      {
       "cell_index": 3
      }
     ]
    },
    "aed95882-e50c-437e-8893-398341711569": {
     "views": [
      {
       "cell_index": 5
      }
     ]
    },
    "b0a0d306-5af8-47d8-9fcc-9919b62090d8": {
     "views": [
      {
       "cell_index": 5
      }
     ]
    },
    "b0da5417-8181-410d-8897-486fe6981e33": {
     "views": [
      {
       "cell_index": 3
      }
     ]
    },
    "b43e2ef8-b6ee-496a-8884-54866bb1409f": {
     "views": [
      {
       "cell_index": 5
      }
     ]
    },
    "b51190e3-53bf-4bda-bd1b-f47fcd03edf1": {
     "views": [
      {
       "cell_index": 5
      }
     ]
    },
    "bad43af3-f385-4bad-a809-cc70fa95df2a": {
     "views": [
      {
       "cell_index": 3
      }
     ]
    },
    "bd5c4ea3-c3b2-47f6-9a02-08967f0bc63c": {
     "views": [
      {
       "cell_index": 5
      }
     ]
    },
    "c02f5c82-0eb1-4238-a891-cebdeb6297b3": {
     "views": [
      {
       "cell_index": 3
      }
     ]
    },
    "c16ad46e-b543-4877-a219-df2ecc955932": {
     "views": [
      {
       "cell_index": 5
      }
     ]
    },
    "c1bddccf-0e4a-487b-9a1a-2585fe4f0154": {
     "views": [
      {
       "cell_index": 4
      }
     ]
    },
    "c51f7a3e-3d43-4622-81f2-67a5bce8640b": {
     "views": [
      {
       "cell_index": 4
      }
     ]
    },
    "c6fc0204-d03b-48c7-96dd-d70cba2c305b": {
     "views": [
      {
       "cell_index": 4
      }
     ]
    },
    "ccae890e-1229-4d5d-a909-706cd3f8b85c": {
     "views": [
      {
       "cell_index": 4
      }
     ]
    },
    "cf92a35b-e4eb-4431-b315-bca89bf66fa8": {
     "views": [
      {
       "cell_index": 3
      }
     ]
    },
    "d6cdbf8e-404c-45c2-ba51-07348e89af3f": {
     "views": [
      {
       "cell_index": 3
      }
     ]
    },
    "d79b04ad-124c-4699-b319-c03b4b8dde15": {
     "views": [
      {
       "cell_index": 4
      }
     ]
    },
    "de25b152-90d3-413c-8efb-7a8b41f3c300": {
     "views": [
      {
       "cell_index": 3
      }
     ]
    },
    "e438e770-0177-45c1-b38b-eb88326c70fc": {
     "views": [
      {
       "cell_index": 3
      }
     ]
    },
    "ea7ba3c5-0221-4caf-9a28-eed36f70fea4": {
     "views": [
      {
       "cell_index": 3
      }
     ]
    },
    "eef9a76e-6d1f-4a01-8c9a-8f62d8e192be": {
     "views": [
      {
       "cell_index": 3
      }
     ]
    },
    "f16e384a-8fcd-41b8-9ecb-5d7fea7ebec9": {
     "views": [
      {
       "cell_index": 5
      }
     ]
    },
    "f6e5df10-1c08-44bb-a0fb-14aa11236e3b": {
     "views": [
      {
       "cell_index": 3
      }
     ]
    },
    "fad1495e-7d6a-43da-9334-42051ef7d638": {
     "views": [
      {
       "cell_index": 3
      }
     ]
    },
    "feac8abb-e29b-4aac-a873-3e072b7873b2": {
     "views": [
      {
       "cell_index": 4
      }
     ]
    },
    "ff15e2f5-291a-4bd1-8fd7-e5cc6ace1607": {
     "views": [
      {
       "cell_index": 3
      }
     ]
    },
    "ff574156-7644-4a46-a1b7-ccdea5bc5779": {
     "views": [
      {
       "cell_index": 4
      }
     ]
    }
   },
   "version": "1.2.0"
  }
 },
 "nbformat": 4,
 "nbformat_minor": 0
}
