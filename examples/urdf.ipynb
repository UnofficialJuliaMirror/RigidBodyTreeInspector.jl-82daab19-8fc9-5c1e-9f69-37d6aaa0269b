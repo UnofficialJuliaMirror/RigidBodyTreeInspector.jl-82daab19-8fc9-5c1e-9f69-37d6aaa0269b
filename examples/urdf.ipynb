{
 "cells": [
  {
   "cell_type": "code",
   "execution_count": null,
   "metadata": {
    "collapsed": false
   },
   "outputs": [],
   "source": [
    "using RigidBodyTreeInspector\n",
    "using RigidBodyDynamics"
   ]
  },
  {
   "cell_type": "code",
   "execution_count": 2,
   "metadata": {
    "collapsed": false,
    "scrolled": false
   },
   "outputs": [],
   "source": [
    "# Let's construct a mechanism by loading a URDF. \n",
    "# This URDF is distributed with the free Drake toolbox: \n",
    "# https://github.com/RobotLocomotion/drake/\n",
    "# I am assuming that you have cloned drake to \n",
    "# ~/locomotion/drake-distro\n",
    "# If your copy of drake is somewhere else, you'll\n",
    "# need to update DRAKE_DISTRO appropriately\n",
    "const DRAKE_DISTRO = \"$(ENV[\"HOME\"])/locomotion/drake-distro\"\n",
    "urdf = \"$DRAKE_DISTRO/drake/examples/Valkyrie/urdf/urdf/valkyrie_A_sim_drake_one_neck_dof_wide_ankle_rom.urdf\"\n",
    "\n",
    "mechanism = RigidBodyDynamics.parse_urdf(Float64, urdf);"
   ]
  },
  {
   "cell_type": "code",
   "execution_count": 3,
   "metadata": {
    "collapsed": false
   },
   "outputs": [
    {
     "data": {
      "text/plain": [
       "Process(`drake-visualizer`, ProcessRunning)"
      ]
     },
     "execution_count": 3,
     "metadata": {},
     "output_type": "execute_result"
    }
   ],
   "source": [
    "# Launch the viewer\n",
    "proc = DrakeVisualizer.new_window()"
   ]
  },
  {
   "cell_type": "code",
   "execution_count": null,
   "metadata": {
    "collapsed": false,
    "scrolled": false
   },
   "outputs": [],
   "source": [
    "# We can visualize the kinematic structure of the robot just by inspecting it:\n",
    "inspect(mechanism)"
   ]
  },
  {
   "cell_type": "code",
   "execution_count": 5,
   "metadata": {
    "collapsed": false
   },
   "outputs": [
    {
     "data": {
      "text/html": [],
      "text/plain": [
       "Interact.Slider{Float64}(Signal{Float64}(0.0, nactions=0),\"torsoYaw.1\",0.0,linspace(-3.141592653589793,3.141592653589793,51),\".3f\",true)"
      ]
     },
     "metadata": {},
     "output_type": "display_data"
    },
    {
     "data": {
      "text/html": [],
      "text/plain": [
       "Interact.Slider{Float64}(Signal{Float64}(0.0, nactions=0),\"torsoPitch.1\",0.0,linspace(-3.141592653589793,3.141592653589793,51),\".3f\",true)"
      ]
     },
     "metadata": {},
     "output_type": "display_data"
    },
    {
     "data": {
      "text/html": [],
      "text/plain": [
       "Interact.Slider{Float64}(Signal{Float64}(0.0, nactions=0),\"torsoRoll.1\",0.0,linspace(-3.141592653589793,3.141592653589793,51),\".3f\",true)"
      ]
     },
     "metadata": {},
     "output_type": "display_data"
    },
    {
     "data": {
      "text/html": [],
      "text/plain": [
       "Interact.Slider{Float64}(Signal{Float64}(0.0, nactions=0),\"lowerNeckPitch.1\",0.0,linspace(-3.141592653589793,3.141592653589793,51),\".3f\",true)"
      ]
     },
     "metadata": {},
     "output_type": "display_data"
    },
    {
     "data": {
      "text/html": [],
      "text/plain": [
       "Interact.Slider{Float64}(Signal{Float64}(0.0, nactions=0),\"rightShoulderPitch.1\",0.0,linspace(-3.141592653589793,3.141592653589793,51),\".3f\",true)"
      ]
     },
     "metadata": {},
     "output_type": "display_data"
    },
    {
     "data": {
      "text/html": [],
      "text/plain": [
       "Interact.Slider{Float64}(Signal{Float64}(0.0, nactions=0),\"rightShoulderRoll.1\",0.0,linspace(-3.141592653589793,3.141592653589793,51),\".3f\",true)"
      ]
     },
     "metadata": {},
     "output_type": "display_data"
    },
    {
     "data": {
      "text/html": [],
      "text/plain": [
       "Interact.Slider{Float64}(Signal{Float64}(0.0, nactions=0),\"rightShoulderYaw.1\",0.0,linspace(-3.141592653589793,3.141592653589793,51),\".3f\",true)"
      ]
     },
     "metadata": {},
     "output_type": "display_data"
    },
    {
     "data": {
      "text/html": [],
      "text/plain": [
       "Interact.Slider{Float64}(Signal{Float64}(0.0, nactions=0),\"rightElbowPitch.1\",0.0,linspace(-3.141592653589793,3.141592653589793,51),\".3f\",true)"
      ]
     },
     "metadata": {},
     "output_type": "display_data"
    },
    {
     "data": {
      "text/html": [],
      "text/plain": [
       "Interact.Slider{Float64}(Signal{Float64}(0.0, nactions=0),\"rightForearmYaw.1\",0.0,linspace(-3.141592653589793,3.141592653589793,51),\".3f\",true)"
      ]
     },
     "metadata": {},
     "output_type": "display_data"
    },
    {
     "data": {
      "text/html": [],
      "text/plain": [
       "Interact.Slider{Float64}(Signal{Float64}(0.0, nactions=0),\"rightWristRoll.1\",0.0,linspace(-3.141592653589793,3.141592653589793,51),\".3f\",true)"
      ]
     },
     "metadata": {},
     "output_type": "display_data"
    },
    {
     "data": {
      "text/html": [],
      "text/plain": [
       "Interact.Slider{Float64}(Signal{Float64}(0.0, nactions=0),\"rightWristPitch.1\",0.0,linspace(-3.141592653589793,3.141592653589793,51),\".3f\",true)"
      ]
     },
     "metadata": {},
     "output_type": "display_data"
    },
    {
     "data": {
      "text/html": [],
      "text/plain": [
       "Interact.Slider{Float64}(Signal{Float64}(0.0, nactions=0),\"leftShoulderPitch.1\",0.0,linspace(-3.141592653589793,3.141592653589793,51),\".3f\",true)"
      ]
     },
     "metadata": {},
     "output_type": "display_data"
    },
    {
     "data": {
      "text/html": [],
      "text/plain": [
       "Interact.Slider{Float64}(Signal{Float64}(0.0, nactions=0),\"leftShoulderRoll.1\",0.0,linspace(-3.141592653589793,3.141592653589793,51),\".3f\",true)"
      ]
     },
     "metadata": {},
     "output_type": "display_data"
    },
    {
     "data": {
      "text/html": [],
      "text/plain": [
       "Interact.Slider{Float64}(Signal{Float64}(0.0, nactions=0),\"leftShoulderYaw.1\",0.0,linspace(-3.141592653589793,3.141592653589793,51),\".3f\",true)"
      ]
     },
     "metadata": {},
     "output_type": "display_data"
    },
    {
     "data": {
      "text/html": [],
      "text/plain": [
       "Interact.Slider{Float64}(Signal{Float64}(0.0, nactions=0),\"leftElbowPitch.1\",0.0,linspace(-3.141592653589793,3.141592653589793,51),\".3f\",true)"
      ]
     },
     "metadata": {},
     "output_type": "display_data"
    },
    {
     "data": {
      "text/html": [],
      "text/plain": [
       "Interact.Slider{Float64}(Signal{Float64}(0.0, nactions=0),\"leftForearmYaw.1\",0.0,linspace(-3.141592653589793,3.141592653589793,51),\".3f\",true)"
      ]
     },
     "metadata": {},
     "output_type": "display_data"
    },
    {
     "data": {
      "text/html": [],
      "text/plain": [
       "Interact.Slider{Float64}(Signal{Float64}(0.0, nactions=0),\"leftWristRoll.1\",0.0,linspace(-3.141592653589793,3.141592653589793,51),\".3f\",true)"
      ]
     },
     "metadata": {},
     "output_type": "display_data"
    },
    {
     "data": {
      "text/html": [],
      "text/plain": [
       "Interact.Slider{Float64}(Signal{Float64}(0.0, nactions=0),\"leftWristPitch.1\",0.0,linspace(-3.141592653589793,3.141592653589793,51),\".3f\",true)"
      ]
     },
     "metadata": {},
     "output_type": "display_data"
    },
    {
     "data": {
      "text/html": [],
      "text/plain": [
       "Interact.Slider{Float64}(Signal{Float64}(0.0, nactions=0),\"rightHipYaw.1\",0.0,linspace(-3.141592653589793,3.141592653589793,51),\".3f\",true)"
      ]
     },
     "metadata": {},
     "output_type": "display_data"
    },
    {
     "data": {
      "text/html": [],
      "text/plain": [
       "Interact.Slider{Float64}(Signal{Float64}(0.0, nactions=0),\"rightHipRoll.1\",0.0,linspace(-3.141592653589793,3.141592653589793,51),\".3f\",true)"
      ]
     },
     "metadata": {},
     "output_type": "display_data"
    },
    {
     "data": {
      "text/html": [],
      "text/plain": [
       "Interact.Slider{Float64}(Signal{Float64}(0.0, nactions=0),\"rightHipPitch.1\",0.0,linspace(-3.141592653589793,3.141592653589793,51),\".3f\",true)"
      ]
     },
     "metadata": {},
     "output_type": "display_data"
    },
    {
     "data": {
      "text/html": [],
      "text/plain": [
       "Interact.Slider{Float64}(Signal{Float64}(0.0, nactions=0),\"rightKneePitch.1\",0.0,linspace(-3.141592653589793,3.141592653589793,51),\".3f\",true)"
      ]
     },
     "metadata": {},
     "output_type": "display_data"
    },
    {
     "data": {
      "text/html": [],
      "text/plain": [
       "Interact.Slider{Float64}(Signal{Float64}(0.0, nactions=0),\"rightAnklePitch.1\",0.0,linspace(-3.141592653589793,3.141592653589793,51),\".3f\",true)"
      ]
     },
     "metadata": {},
     "output_type": "display_data"
    },
    {
     "data": {
      "text/html": [],
      "text/plain": [
       "Interact.Slider{Float64}(Signal{Float64}(0.0, nactions=0),\"rightAnkleRoll.1\",0.0,linspace(-3.141592653589793,3.141592653589793,51),\".3f\",true)"
      ]
     },
     "metadata": {},
     "output_type": "display_data"
    },
    {
     "data": {
      "text/html": [],
      "text/plain": [
       "Interact.Slider{Float64}(Signal{Float64}(0.0, nactions=0),\"leftHipYaw.1\",0.0,linspace(-3.141592653589793,3.141592653589793,51),\".3f\",true)"
      ]
     },
     "metadata": {},
     "output_type": "display_data"
    },
    {
     "data": {
      "text/html": [],
      "text/plain": [
       "Interact.Slider{Float64}(Signal{Float64}(0.0, nactions=0),\"leftHipRoll.1\",0.0,linspace(-3.141592653589793,3.141592653589793,51),\".3f\",true)"
      ]
     },
     "metadata": {},
     "output_type": "display_data"
    },
    {
     "data": {
      "text/html": [],
      "text/plain": [
       "Interact.Slider{Float64}(Signal{Float64}(0.0, nactions=0),\"leftHipPitch.1\",0.0,linspace(-3.141592653589793,3.141592653589793,51),\".3f\",true)"
      ]
     },
     "metadata": {},
     "output_type": "display_data"
    },
    {
     "data": {
      "text/html": [],
      "text/plain": [
       "Interact.Slider{Float64}(Signal{Float64}(0.0, nactions=0),\"leftKneePitch.1\",0.0,linspace(-3.141592653589793,3.141592653589793,51),\".3f\",true)"
      ]
     },
     "metadata": {},
     "output_type": "display_data"
    },
    {
     "data": {
      "text/html": [],
      "text/plain": [
       "Interact.Slider{Float64}(Signal{Float64}(0.0, nactions=0),\"leftAnklePitch.1\",0.0,linspace(-3.141592653589793,3.141592653589793,51),\".3f\",true)"
      ]
     },
     "metadata": {},
     "output_type": "display_data"
    },
    {
     "data": {
      "text/html": [],
      "text/plain": [
       "Interact.Slider{Float64}(Signal{Float64}(0.0, nactions=0),\"leftAnkleRoll.1\",0.0,linspace(-3.141592653589793,3.141592653589793,51),\".3f\",true)"
      ]
     },
     "metadata": {},
     "output_type": "display_data"
    },
    {
     "data": {
      "text/plain": [
       "nothing"
      ]
     },
     "execution_count": 5,
     "metadata": {
      "comm_id": "a942580f-b4fb-4c84-ad9d-907dc9f23c19",
      "reactive": true
     },
     "output_type": "execute_result"
    }
   ],
   "source": [
    "# And we can also show the inertias of each link, visualized as\n",
    "# ellipsoids of equivalent mass and inertia\n",
    "inspect(mechanism; show_inertias=true)"
   ]
  },
  {
   "cell_type": "code",
   "execution_count": 6,
   "metadata": {
    "collapsed": false
   },
   "outputs": [
    {
     "data": {
      "text/html": [],
      "text/plain": [
       "Interact.Slider{Float64}(Signal{Float64}(0.0, nactions=0),\"torsoYaw.1\",0.0,linspace(-3.141592653589793,3.141592653589793,51),\".3f\",true)"
      ]
     },
     "metadata": {},
     "output_type": "display_data"
    },
    {
     "data": {
      "text/html": [],
      "text/plain": [
       "Interact.Slider{Float64}(Signal{Float64}(0.0, nactions=0),\"torsoPitch.1\",0.0,linspace(-3.141592653589793,3.141592653589793,51),\".3f\",true)"
      ]
     },
     "metadata": {},
     "output_type": "display_data"
    },
    {
     "data": {
      "text/html": [],
      "text/plain": [
       "Interact.Slider{Float64}(Signal{Float64}(0.0, nactions=0),\"torsoRoll.1\",0.0,linspace(-3.141592653589793,3.141592653589793,51),\".3f\",true)"
      ]
     },
     "metadata": {},
     "output_type": "display_data"
    },
    {
     "data": {
      "text/html": [],
      "text/plain": [
       "Interact.Slider{Float64}(Signal{Float64}(0.0, nactions=0),\"lowerNeckPitch.1\",0.0,linspace(-3.141592653589793,3.141592653589793,51),\".3f\",true)"
      ]
     },
     "metadata": {},
     "output_type": "display_data"
    },
    {
     "data": {
      "text/html": [],
      "text/plain": [
       "Interact.Slider{Float64}(Signal{Float64}(0.0, nactions=0),\"rightShoulderPitch.1\",0.0,linspace(-3.141592653589793,3.141592653589793,51),\".3f\",true)"
      ]
     },
     "metadata": {},
     "output_type": "display_data"
    },
    {
     "data": {
      "text/html": [],
      "text/plain": [
       "Interact.Slider{Float64}(Signal{Float64}(0.0, nactions=0),\"rightShoulderRoll.1\",0.0,linspace(-3.141592653589793,3.141592653589793,51),\".3f\",true)"
      ]
     },
     "metadata": {},
     "output_type": "display_data"
    },
    {
     "data": {
      "text/html": [],
      "text/plain": [
       "Interact.Slider{Float64}(Signal{Float64}(0.0, nactions=0),\"rightShoulderYaw.1\",0.0,linspace(-3.141592653589793,3.141592653589793,51),\".3f\",true)"
      ]
     },
     "metadata": {},
     "output_type": "display_data"
    },
    {
     "data": {
      "text/html": [],
      "text/plain": [
       "Interact.Slider{Float64}(Signal{Float64}(0.0, nactions=0),\"rightElbowPitch.1\",0.0,linspace(-3.141592653589793,3.141592653589793,51),\".3f\",true)"
      ]
     },
     "metadata": {},
     "output_type": "display_data"
    },
    {
     "data": {
      "text/html": [],
      "text/plain": [
       "Interact.Slider{Float64}(Signal{Float64}(0.0, nactions=0),\"rightForearmYaw.1\",0.0,linspace(-3.141592653589793,3.141592653589793,51),\".3f\",true)"
      ]
     },
     "metadata": {},
     "output_type": "display_data"
    },
    {
     "data": {
      "text/html": [],
      "text/plain": [
       "Interact.Slider{Float64}(Signal{Float64}(0.0, nactions=0),\"rightWristRoll.1\",0.0,linspace(-3.141592653589793,3.141592653589793,51),\".3f\",true)"
      ]
     },
     "metadata": {},
     "output_type": "display_data"
    },
    {
     "data": {
      "text/html": [],
      "text/plain": [
       "Interact.Slider{Float64}(Signal{Float64}(0.0, nactions=0),\"rightWristPitch.1\",0.0,linspace(-3.141592653589793,3.141592653589793,51),\".3f\",true)"
      ]
     },
     "metadata": {},
     "output_type": "display_data"
    },
    {
     "data": {
      "text/html": [],
      "text/plain": [
       "Interact.Slider{Float64}(Signal{Float64}(0.0, nactions=0),\"leftShoulderPitch.1\",0.0,linspace(-3.141592653589793,3.141592653589793,51),\".3f\",true)"
      ]
     },
     "metadata": {},
     "output_type": "display_data"
    },
    {
     "data": {
      "text/html": [],
      "text/plain": [
       "Interact.Slider{Float64}(Signal{Float64}(0.0, nactions=0),\"leftShoulderRoll.1\",0.0,linspace(-3.141592653589793,3.141592653589793,51),\".3f\",true)"
      ]
     },
     "metadata": {},
     "output_type": "display_data"
    },
    {
     "data": {
      "text/html": [],
      "text/plain": [
       "Interact.Slider{Float64}(Signal{Float64}(0.0, nactions=0),\"leftShoulderYaw.1\",0.0,linspace(-3.141592653589793,3.141592653589793,51),\".3f\",true)"
      ]
     },
     "metadata": {},
     "output_type": "display_data"
    },
    {
     "data": {
      "text/html": [],
      "text/plain": [
       "Interact.Slider{Float64}(Signal{Float64}(0.0, nactions=0),\"leftElbowPitch.1\",0.0,linspace(-3.141592653589793,3.141592653589793,51),\".3f\",true)"
      ]
     },
     "metadata": {},
     "output_type": "display_data"
    },
    {
     "data": {
      "text/html": [],
      "text/plain": [
       "Interact.Slider{Float64}(Signal{Float64}(0.0, nactions=0),\"leftForearmYaw.1\",0.0,linspace(-3.141592653589793,3.141592653589793,51),\".3f\",true)"
      ]
     },
     "metadata": {},
     "output_type": "display_data"
    },
    {
     "data": {
      "text/html": [],
      "text/plain": [
       "Interact.Slider{Float64}(Signal{Float64}(0.0, nactions=0),\"leftWristRoll.1\",0.0,linspace(-3.141592653589793,3.141592653589793,51),\".3f\",true)"
      ]
     },
     "metadata": {},
     "output_type": "display_data"
    },
    {
     "data": {
      "text/html": [],
      "text/plain": [
       "Interact.Slider{Float64}(Signal{Float64}(0.0, nactions=0),\"leftWristPitch.1\",0.0,linspace(-3.141592653589793,3.141592653589793,51),\".3f\",true)"
      ]
     },
     "metadata": {},
     "output_type": "display_data"
    },
    {
     "data": {
      "text/html": [],
      "text/plain": [
       "Interact.Slider{Float64}(Signal{Float64}(0.0, nactions=0),\"rightHipYaw.1\",0.0,linspace(-3.141592653589793,3.141592653589793,51),\".3f\",true)"
      ]
     },
     "metadata": {},
     "output_type": "display_data"
    },
    {
     "data": {
      "text/html": [],
      "text/plain": [
       "Interact.Slider{Float64}(Signal{Float64}(0.0, nactions=0),\"rightHipRoll.1\",0.0,linspace(-3.141592653589793,3.141592653589793,51),\".3f\",true)"
      ]
     },
     "metadata": {},
     "output_type": "display_data"
    },
    {
     "data": {
      "text/html": [],
      "text/plain": [
       "Interact.Slider{Float64}(Signal{Float64}(0.0, nactions=0),\"rightHipPitch.1\",0.0,linspace(-3.141592653589793,3.141592653589793,51),\".3f\",true)"
      ]
     },
     "metadata": {},
     "output_type": "display_data"
    },
    {
     "data": {
      "text/html": [],
      "text/plain": [
       "Interact.Slider{Float64}(Signal{Float64}(0.0, nactions=0),\"rightKneePitch.1\",0.0,linspace(-3.141592653589793,3.141592653589793,51),\".3f\",true)"
      ]
     },
     "metadata": {},
     "output_type": "display_data"
    },
    {
     "data": {
      "text/html": [],
      "text/plain": [
       "Interact.Slider{Float64}(Signal{Float64}(0.0, nactions=0),\"rightAnklePitch.1\",0.0,linspace(-3.141592653589793,3.141592653589793,51),\".3f\",true)"
      ]
     },
     "metadata": {},
     "output_type": "display_data"
    },
    {
     "data": {
      "text/html": [],
      "text/plain": [
       "Interact.Slider{Float64}(Signal{Float64}(0.0, nactions=0),\"rightAnkleRoll.1\",0.0,linspace(-3.141592653589793,3.141592653589793,51),\".3f\",true)"
      ]
     },
     "metadata": {},
     "output_type": "display_data"
    },
    {
     "data": {
      "text/html": [],
      "text/plain": [
       "Interact.Slider{Float64}(Signal{Float64}(0.0, nactions=0),\"leftHipYaw.1\",0.0,linspace(-3.141592653589793,3.141592653589793,51),\".3f\",true)"
      ]
     },
     "metadata": {},
     "output_type": "display_data"
    },
    {
     "data": {
      "text/html": [],
      "text/plain": [
       "Interact.Slider{Float64}(Signal{Float64}(0.0, nactions=0),\"leftHipRoll.1\",0.0,linspace(-3.141592653589793,3.141592653589793,51),\".3f\",true)"
      ]
     },
     "metadata": {},
     "output_type": "display_data"
    },
    {
     "data": {
      "text/html": [],
      "text/plain": [
       "Interact.Slider{Float64}(Signal{Float64}(0.0, nactions=0),\"leftHipPitch.1\",0.0,linspace(-3.141592653589793,3.141592653589793,51),\".3f\",true)"
      ]
     },
     "metadata": {},
     "output_type": "display_data"
    },
    {
     "data": {
      "text/html": [],
      "text/plain": [
       "Interact.Slider{Float64}(Signal{Float64}(0.0, nactions=0),\"leftKneePitch.1\",0.0,linspace(-3.141592653589793,3.141592653589793,51),\".3f\",true)"
      ]
     },
     "metadata": {},
     "output_type": "display_data"
    },
    {
     "data": {
      "text/html": [],
      "text/plain": [
       "Interact.Slider{Float64}(Signal{Float64}(0.0, nactions=0),\"leftAnklePitch.1\",0.0,linspace(-3.141592653589793,3.141592653589793,51),\".3f\",true)"
      ]
     },
     "metadata": {},
     "output_type": "display_data"
    },
    {
     "data": {
      "text/html": [],
      "text/plain": [
       "Interact.Slider{Float64}(Signal{Float64}(0.0, nactions=0),\"leftAnkleRoll.1\",0.0,linspace(-3.141592653589793,3.141592653589793,51),\".3f\",true)"
      ]
     },
     "metadata": {},
     "output_type": "display_data"
    },
    {
     "data": {
      "text/plain": [
       "nothing"
      ]
     },
     "execution_count": 6,
     "metadata": {
      "comm_id": "1c5c77c9-14dd-4807-92c5-4e3f08595491",
      "reactive": true
     },
     "output_type": "execute_result"
    }
   ],
   "source": [
    "# We can also parse the visual elements from the URDF and use them to \n",
    "# show the robot instead. The URDF we're using uses the package:// \n",
    "# prefix when looking for mesh files, so we'll have to tell it what \n",
    "# directories to search in:\n",
    "package_path = [\"$DRAKE_DISTRO/drake/examples\"]\n",
    "vis = parse_urdf(urdf, mechanism; package_path=package_path);\n",
    "inspect(mechanism, vis)"
   ]
  },
  {
   "cell_type": "code",
   "execution_count": 7,
   "metadata": {
    "collapsed": false
   },
   "outputs": [
    {
     "data": {
      "text/plain": [
       "0"
      ]
     },
     "execution_count": 7,
     "metadata": {},
     "output_type": "execute_result"
    }
   ],
   "source": [
    "# Close the window\n",
    "kill(proc)"
   ]
  },
  {
   "cell_type": "code",
   "execution_count": null,
   "metadata": {
    "collapsed": true
   },
   "outputs": [],
   "source": []
  }
 ],
 "metadata": {
  "kernelspec": {
   "display_name": "Julia 0.5.0",
   "language": "julia",
   "name": "julia-0.5"
  },
  "language_info": {
   "file_extension": ".jl",
   "mimetype": "application/julia",
   "name": "julia",
   "version": "0.5.0"
  },
  "widgets": {
   "state": {
    "0346ae0b-6b13-4a44-b6ef-212474cfc897": {
     "views": [
      {
       "cell_index": 4
      }
     ]
    },
    "08c08167-abba-40f2-9b62-fa5867f25c99": {
     "views": [
      {
       "cell_index": 3
      }
     ]
    },
    "0c233094-ae7e-4473-8309-861d715adbff": {
     "views": [
      {
       "cell_index": 3
      }
     ]
    },
    "0c41b843-34d2-4f25-acc4-770587143bb6": {
     "views": [
      {
       "cell_index": 3
      }
     ]
    },
    "0f12e6a7-58bd-465e-8958-9d479bd3ab04": {
     "views": [
      {
       "cell_index": 4
      }
     ]
    },
    "0f360a1d-f513-484e-8525-390ee00325cd": {
     "views": [
      {
       "cell_index": 5
      }
     ]
    },
    "0f510dfb-99bf-410a-950d-34d663ddcf83": {
     "views": [
      {
       "cell_index": 4
      }
     ]
    },
    "0f5fd30e-7a93-4c34-92a3-be87217bf43c": {
     "views": [
      {
       "cell_index": 4
      }
     ]
    },
    "0f632aae-3f1e-4d18-9d4f-bd543425b098": {
     "views": [
      {
       "cell_index": 5
      }
     ]
    },
    "14084338-f6b0-49ab-9e2f-1d045727718e": {
     "views": [
      {
       "cell_index": 5
      }
     ]
    },
    "19ec6e88-aed9-4e6e-baa2-61d415bc0f91": {
     "views": [
      {
       "cell_index": 3
      }
     ]
    },
    "1a2d0b92-7ae3-4d92-8c37-7b66c4badef0": {
     "views": [
      {
       "cell_index": 4
      }
     ]
    },
    "1c31b7f1-81f8-4041-ac7b-736fda8dbde8": {
     "views": [
      {
       "cell_index": 3
      }
     ]
    },
    "1cc2902b-3736-4e40-a121-e18e5423c404": {
     "views": [
      {
       "cell_index": 3
      }
     ]
    },
    "1d742138-bd4e-4a09-86d0-9d999ca72b1b": {
     "views": [
      {
       "cell_index": 4
      }
     ]
    },
    "1e41e09b-bec9-4a32-8771-d1fc57801a59": {
     "views": [
      {
       "cell_index": 5
      }
     ]
    },
    "22fc0fd1-c3fc-4a3e-81e2-4f9faae191a2": {
     "views": [
      {
       "cell_index": 4
      }
     ]
    },
    "2473094c-2445-445d-89ef-5128ef350d34": {
     "views": [
      {
       "cell_index": 3
      }
     ]
    },
    "2877fcb4-c543-4d71-8f93-75fa5b4469fb": {
     "views": [
      {
       "cell_index": 4
      }
     ]
    },
    "29792a5c-d819-42d1-99d2-d319ecea7eca": {
     "views": [
      {
       "cell_index": 4
      }
     ]
    },
    "2a3e49ef-7b45-4340-9ab1-cd40f6173b24": {
     "views": [
      {
       "cell_index": 4
      }
     ]
    },
    "2ac32e5b-cd86-4e13-bef3-d6cb61215be8": {
     "views": [
      {
       "cell_index": 5
      }
     ]
    },
    "3233feae-3e17-4373-aa73-0cb6672e4fda": {
     "views": [
      {
       "cell_index": 4
      }
     ]
    },
    "33eb5444-e57f-459a-9cc6-4d3f32fada87": {
     "views": [
      {
       "cell_index": 3
      }
     ]
    },
    "38390299-9055-4587-b19f-90f58ec59268": {
     "views": [
      {
       "cell_index": 4
      }
     ]
    },
    "3bb75e04-bff9-41c1-b26a-d7b51821e5de": {
     "views": [
      {
       "cell_index": 5
      }
     ]
    },
    "416bc10a-d0dd-4cca-9a66-c27704ec6900": {
     "views": [
      {
       "cell_index": 5
      }
     ]
    },
    "4795bab0-2159-455b-a445-cef5c54a76dd": {
     "views": [
      {
       "cell_index": 4
      }
     ]
    },
    "49140ce5-095f-4567-963c-0e39d72c93b7": {
     "views": [
      {
       "cell_index": 3
      }
     ]
    },
    "4a46ffba-a7d4-419d-bb91-820e2e854999": {
     "views": [
      {
       "cell_index": 4
      }
     ]
    },
    "4c7f60d3-19fb-493d-a699-c5aa35f4d0bc": {
     "views": [
      {
       "cell_index": 4
      }
     ]
    },
    "4e52582d-0108-4a7d-83c4-f1499fc92e88": {
     "views": [
      {
       "cell_index": 4
      }
     ]
    },
    "4ea575f3-329c-4079-b874-ffc970a85b92": {
     "views": [
      {
       "cell_index": 5
      }
     ]
    },
    "4fb473c9-dd42-4526-b2c9-120315931326": {
     "views": [
      {
       "cell_index": 3
      }
     ]
    },
    "53bcbb6f-d24b-415f-bcdf-d6bc985cd91d": {
     "views": [
      {
       "cell_index": 4
      }
     ]
    },
    "53f774a7-78b1-49cf-91e9-9cb133fa3f1b": {
     "views": [
      {
       "cell_index": 5
      }
     ]
    },
    "550bed72-07c5-4c14-b607-f11b8695177b": {
     "views": [
      {
       "cell_index": 5
      }
     ]
    },
    "57e361d9-383c-4c73-a650-617c83b32684": {
     "views": [
      {
       "cell_index": 5
      }
     ]
    },
    "5c1e3a7d-6aa2-461d-9ff5-5914e2d3975a": {
     "views": [
      {
       "cell_index": 4
      }
     ]
    },
    "60b08c30-5ad3-4c43-a9d9-ba8b1f72ce48": {
     "views": [
      {
       "cell_index": 5
      }
     ]
    },
    "6ec88670-a210-4b6d-909c-9e85882faebc": {
     "views": [
      {
       "cell_index": 5
      }
     ]
    },
    "750a8334-dde0-4ed6-81e5-ce54fdce3fcb": {
     "views": [
      {
       "cell_index": 4
      }
     ]
    },
    "788377c1-859f-40b3-9623-aebe2ebd9b2e": {
     "views": [
      {
       "cell_index": 3
      }
     ]
    },
    "7e71b6b1-bf41-4398-9d21-6321f6557eb4": {
     "views": [
      {
       "cell_index": 4
      }
     ]
    },
    "7ea0cab8-e2f1-4367-9afc-19e0d1bb18d1": {
     "views": [
      {
       "cell_index": 3
      }
     ]
    },
    "8073eda5-c998-4902-8c4b-e9b3d44b4d31": {
     "views": [
      {
       "cell_index": 4
      }
     ]
    },
    "815c9c92-cc87-4929-b424-9e8cca5e06a4": {
     "views": [
      {
       "cell_index": 3
      }
     ]
    },
    "82a0a726-e464-403f-9ae3-f2d6b428b6e1": {
     "views": [
      {
       "cell_index": 5
      }
     ]
    },
    "82af38d1-f514-4031-9155-e9dd6e0ffdaa": {
     "views": [
      {
       "cell_index": 3
      }
     ]
    },
    "861e2f24-5dbf-4dc8-91b0-0c0faa72947c": {
     "views": [
      {
       "cell_index": 3
      }
     ]
    },
    "8807a8f2-a87a-49a8-abcd-87d47f18bb9f": {
     "views": [
      {
       "cell_index": 4
      }
     ]
    },
    "8ca53072-6c9a-4ff1-b740-05c28764fb4b": {
     "views": [
      {
       "cell_index": 5
      }
     ]
    },
    "8d4162a1-59d4-4ff2-86d6-d9d6f42cf844": {
     "views": [
      {
       "cell_index": 5
      }
     ]
    },
    "90fd6dc0-df12-4135-90dd-f3fa0213c5d5": {
     "views": [
      {
       "cell_index": 4
      }
     ]
    },
    "9247cb95-4e8c-4ccb-a514-e3e127a8bd2b": {
     "views": [
      {
       "cell_index": 3
      }
     ]
    },
    "994e1c64-d5db-4fcb-b9a4-b0561522759d": {
     "views": [
      {
       "cell_index": 3
      }
     ]
    },
    "9a0b496b-fc64-4229-a79e-ce63a073231f": {
     "views": [
      {
       "cell_index": 3
      }
     ]
    },
    "9caec107-7529-41bf-98c0-43b83d54a955": {
     "views": [
      {
       "cell_index": 5
      }
     ]
    },
    "a3baa6b6-e002-41b4-8c03-4417f7a0a34f": {
     "views": [
      {
       "cell_index": 3
      }
     ]
    },
    "a479c2d6-b037-446d-bca3-a2f57f728d55": {
     "views": [
      {
       "cell_index": 4
      }
     ]
    },
    "a5cce2ee-122b-4929-be31-7519235d6a29": {
     "views": [
      {
       "cell_index": 5
      }
     ]
    },
    "a842269a-83cf-445e-a697-c881ff7ca189": {
     "views": [
      {
       "cell_index": 4
      }
     ]
    },
    "af1cc80d-40ac-4760-8922-109f09dac323": {
     "views": [
      {
       "cell_index": 5
      }
     ]
    },
    "b6712ab0-de61-4cf6-a98c-f3a6a7b67790": {
     "views": [
      {
       "cell_index": 5
      }
     ]
    },
    "b738210f-c0ed-4255-9f78-c915f3619fd0": {
     "views": [
      {
       "cell_index": 5
      }
     ]
    },
    "b82c3aaf-8725-45d1-bd72-74738402777f": {
     "views": [
      {
       "cell_index": 3
      }
     ]
    },
    "b8e4c6ca-c752-4315-b96a-e85ea8bc80c8": {
     "views": [
      {
       "cell_index": 3
      }
     ]
    },
    "bae7c310-4841-4ec7-81a1-1f354c80eb90": {
     "views": [
      {
       "cell_index": 4
      }
     ]
    },
    "c57315f4-6792-4ba0-b41a-a66fa9a892a2": {
     "views": [
      {
       "cell_index": 3
      }
     ]
    },
    "c89f8adc-3c44-4f68-a9b7-ed86d4f81866": {
     "views": [
      {
       "cell_index": 5
      }
     ]
    },
    "cb4a3833-03aa-4513-896a-fe5a65a24435": {
     "views": [
      {
       "cell_index": 3
      }
     ]
    },
    "cc17ff39-2c20-44cb-8584-fa624ec52463": {
     "views": [
      {
       "cell_index": 3
      }
     ]
    },
    "cc420807-6180-404b-bdf6-a34a95e82146": {
     "views": [
      {
       "cell_index": 5
      }
     ]
    },
    "d40903ce-b2be-409b-81da-6d55e07a6b63": {
     "views": [
      {
       "cell_index": 4
      }
     ]
    },
    "d4d1a984-ccd8-4733-bd6f-d62b401e228a": {
     "views": [
      {
       "cell_index": 4
      }
     ]
    },
    "d66c6cbc-41ea-4df7-a3a0-675843c139ab": {
     "views": [
      {
       "cell_index": 3
      }
     ]
    },
    "dcf8f009-fd92-4810-bae6-44b4eceefd03": {
     "views": [
      {
       "cell_index": 5
      }
     ]
    },
    "dd2b2509-11ac-44f8-a66a-471636eb4864": {
     "views": [
      {
       "cell_index": 5
      }
     ]
    },
    "df82dc64-b98a-4407-8b21-1454c4b68b2e": {
     "views": [
      {
       "cell_index": 5
      }
     ]
    },
    "df90fe80-1ebd-44b5-ab13-47c4be7d80a5": {
     "views": [
      {
       "cell_index": 3
      }
     ]
    },
    "e11bc107-8e31-44df-b606-1b61f523e39d": {
     "views": [
      {
       "cell_index": 3
      }
     ]
    },
    "e7bda639-09d2-4bf2-af5c-063be875c658": {
     "views": [
      {
       "cell_index": 5
      }
     ]
    },
    "e917cbfb-f41c-4e2d-aa05-ad7d52b47ee2": {
     "views": [
      {
       "cell_index": 3
      }
     ]
    },
    "ec65f480-455a-4a32-9159-3c9516b5bdb4": {
     "views": [
      {
       "cell_index": 5
      }
     ]
    },
    "f12dfacd-4b59-45f7-b21c-0037ce8fec7f": {
     "views": [
      {
       "cell_index": 4
      }
     ]
    },
    "f150cb77-a4d3-465d-8b24-6173ba40fb24": {
     "views": [
      {
       "cell_index": 4
      }
     ]
    },
    "f340efbb-0e77-48f6-b095-e85a18c7d51d": {
     "views": [
      {
       "cell_index": 3
      }
     ]
    },
    "fb2935d0-b5cc-449f-aaf1-11512533bb31": {
     "views": [
      {
       "cell_index": 5
      }
     ]
    },
    "ff7ee4bf-275f-4310-aa0b-5701b2544339": {
     "views": [
      {
       "cell_index": 5
      }
     ]
    },
    "ffbbcd94-f799-4e44-a08c-c3c0a8afa870": {
     "views": [
      {
       "cell_index": 3
      }
     ]
    }
   },
   "version": "1.2.0"
  }
 },
 "nbformat": 4,
 "nbformat_minor": 0
}
