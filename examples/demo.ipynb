{
 "cells": [
  {
   "cell_type": "code",
   "execution_count": 1,
   "metadata": {},
   "outputs": [
    {
     "data": {
      "text/html": [
       "<div id=\"interact-js-shim\">\n",
       "    <script charset=\"utf-8\">\n",
       "(function (IPython, $, _, MathJax) {\n",
       "    $.event.special.destroyed = {\n",
       "\tremove: function(o) {\n",
       "\t    if (o.handler) {\n",
       "\t\to.handler.apply(this, arguments)\n",
       "\t    }\n",
       "\t}\n",
       "    }\n",
       "\n",
       "    var OutputArea = IPython.version >= \"4.0.0\" ? require(\"notebook/js/outputarea\").OutputArea : IPython.OutputArea;\n",
       "\n",
       "    var redrawValue = function (container, type, val) {\n",
       "\tvar selector = $(\"<div/>\");\n",
       "\tvar oa = new OutputArea(_.extend(selector, {\n",
       "\t    selector: selector,\n",
       "\t    prompt_area: true,\n",
       "\t    events: IPython.events,\n",
       "\t    keyboard_manager: IPython.keyboard_manager\n",
       "\t})); // Hack to work with IPython 2.1.0\n",
       "\n",
       "\tswitch (type) {\n",
       "\tcase \"image/png\":\n",
       "            var _src = 'data:' + type + ';base64,' + val;\n",
       "\t    $(container).find(\"img\").attr('src', _src);\n",
       "\t    break;\n",
       "\tcase \"text/latex\":\n",
       "\t\tif (MathJax){\n",
       "\t\t\tvar math = MathJax.Hub.getAllJax(container)[0];\n",
       "\t\t\tMathJax.Hub.Queue([\"Text\", math, val.replace(/^\\${1,2}|\\${1,2}$/g, '')]);\n",
       "\t\t\tbreak;\n",
       "\t\t}\n",
       "\tdefault:\n",
       "\t    var toinsert = OutputArea.append_map[type].apply(\n",
       "\t\toa, [val, {}, selector]\n",
       "\t    );\n",
       "\t    $(container).empty().append(toinsert.contents());\n",
       "\t    selector.remove();\n",
       "\t}\n",
       "    }\n",
       "\n",
       "\n",
       "    $(document).ready(function() {\n",
       "\tfunction initComm(evt, data) {\n",
       "\t    var comm_manager = data.kernel.comm_manager;\n",
       "        //_.extend(comm_manager.targets, require(\"widgets/js/widget\"))\n",
       "\t    comm_manager.register_target(\"Signal\", function (comm) {\n",
       "            comm.on_msg(function (msg) {\n",
       "                var val = msg.content.data.value;\n",
       "                $(\".signal-\" + comm.comm_id).each(function() {\n",
       "                var type = $(this).data(\"type\");\n",
       "                if (typeof(val[type]) !== \"undefined\" && val[type] !== null) {\n",
       "                    redrawValue(this, type, val[type], type);\n",
       "                }\n",
       "                });\n",
       "                delete val;\n",
       "                delete msg.content.data.value;\n",
       "            });\n",
       "\t    });\n",
       "\n",
       "\t    // coordingate with Comm and redraw Signals\n",
       "\t    // XXX: Test using Reactive here to improve performance\n",
       "\t    $([IPython.events]).on(\n",
       "\t\t'output_appended.OutputArea', function (event, type, value, md, toinsert) {\n",
       "\t\t    if (md && md.reactive) {\n",
       "                // console.log(md.comm_id);\n",
       "                toinsert.addClass(\"signal-\" + md.comm_id);\n",
       "                toinsert.data(\"type\", type);\n",
       "                // Signal back indicating the mimetype required\n",
       "                var comm_manager = IPython.notebook.kernel.comm_manager;\n",
       "                var comm = comm_manager.comms[md.comm_id];\n",
       "                comm.then(function (c) {\n",
       "                    c.send({action: \"subscribe_mime\",\n",
       "                       mime: type});\n",
       "                    toinsert.bind(\"destroyed\", function() {\n",
       "                        c.send({action: \"unsubscribe_mime\",\n",
       "                               mime: type});\n",
       "                    });\n",
       "                })\n",
       "\t\t    }\n",
       "\t    });\n",
       "\t}\n",
       "\n",
       "\ttry {\n",
       "\t    // try to initialize right away. otherwise, wait on the status_started event.\n",
       "\t    initComm(undefined, IPython.notebook);\n",
       "\t} catch (e) {\n",
       "\t    $([IPython.events]).on('kernel_created.Kernel kernel_created.Session', initComm);\n",
       "\t}\n",
       "    });\n",
       "})(IPython, jQuery, _, MathJax);\n",
       "</script>\n",
       "    <script>\n",
       "        window.interactLoadedFlag = true\n",
       "       $(\"#interact-js-shim\").bind(\"destroyed\", function () {\n",
       "           if (window.interactLoadedFlag) {\n",
       "               console.warn(\"JavaScript required by Interact will be removed if you remove this cell or run using Interact more than once.\")\n",
       "           }\n",
       "       })\n",
       "       $([IPython.events]).on(\"kernel_starting.Kernel kernel_restarting.Kernel\", function () { window.interactLoadedFlag = false })\n",
       "   </script>\n",
       "</div>"
      ]
     },
     "metadata": {},
     "output_type": "display_data"
    }
   ],
   "source": [
    "using Interact\n",
    "using RigidBodyDynamics\n",
    "using RigidBodyTreeInspector"
   ]
  },
  {
   "cell_type": "code",
   "execution_count": 2,
   "metadata": {},
   "outputs": [
    {
     "data": {
      "text/plain": [
       "true"
      ]
     },
     "execution_count": 2,
     "metadata": {},
     "output_type": "execute_result"
    }
   ],
   "source": [
    "# Open the viewer application\n",
    "DrakeVisualizer.any_open_windows() || DrakeVisualizer.new_window()"
   ]
  },
  {
   "cell_type": "code",
   "execution_count": 3,
   "metadata": {},
   "outputs": [
    {
     "data": {
      "text/plain": [
       "Spanning tree:\n",
       "Vertex: world (root)\n",
       "  Vertex: body1, Edge: joint1\n",
       "    Vertex: body2, Edge: joint2\n",
       "      Vertex: body3, Edge: joint3\n",
       "        Vertex: body4, Edge: joint4\n",
       "          Vertex: body5, Edge: joint5\n",
       "            Vertex: body6, Edge: joint6\n",
       "No non-tree joints."
      ]
     },
     "execution_count": 3,
     "metadata": {},
     "output_type": "execute_result"
    }
   ],
   "source": [
    "# Construct a mechanism\n",
    "mechanism = rand_chain_mechanism(Float64, [QuaternionFloating{Float64}; [Revolute{Float64} for i = 1:5]]...)"
   ]
  },
  {
   "cell_type": "code",
   "execution_count": 4,
   "metadata": {},
   "outputs": [],
   "source": [
    "# Construct the visualizer interface, and get the :robot1 subtree\n",
    "vis = DrakeVisualizer.Visualizer()[:robot1];"
   ]
  },
  {
   "cell_type": "code",
   "execution_count": 5,
   "metadata": {},
   "outputs": [],
   "source": [
    "# Load the mechanism's geometry into the visualizer\n",
    "RigidBodyTreeInspector.setgeometry!(vis, RigidBodyTreeInspector.create_geometry(mechanism))\n",
    "\n",
    "# We can draw the mechanism at a single state:\n",
    "state = MechanismState(Float64, mechanism)\n",
    "RigidBodyTreeInspector.settransform!(vis, state);"
   ]
  },
  {
   "cell_type": "code",
   "execution_count": 6,
   "metadata": {},
   "outputs": [],
   "source": [
    "# Or we can interactively explore the degrees of freedom of the mechanism.\n",
    "# Note that the quaternion floating base joint, \"joint1\", has been given \n",
    "# six sliders. The first three correspond to the exponential map representation\n",
    "# of its rotation, and the next three correspond to its translation. \n",
    "RigidBodyTreeInspector.inspect(mechanism; show_inertias=true, randomize_colors=true);"
   ]
  },
  {
   "cell_type": "code",
   "execution_count": 7,
   "metadata": {},
   "outputs": [],
   "source": [
    "# We can also animate the mechanism, given a time sequence of states.\n",
    "# States will be linearly interpolated between the knot points.\n",
    "times = collect(linspace(0, 10, 3))\n",
    "configurations = Vector{Vector{Float64}}(length(times))\n",
    "for i = 1:length(times)\n",
    "    rand_configuration!(state)\n",
    "    configurations[i] = copy(configuration(state))\n",
    "end\n",
    "setgeometry!(vis, create_geometry(mechanism))\n",
    "animate(vis, mechanism, times, configurations; fps = 60., realtimerate = 1.)"
   ]
  },
  {
   "cell_type": "code",
   "execution_count": 8,
   "metadata": {},
   "outputs": [],
   "source": [
    "# We can simulate a mechanism from an initial state. We'll use a mechanism\n",
    "# without a QuaternionFloating joint so that it doesn't just fall straight down.\n",
    "mechanism = rand_chain_mechanism(Float64, [Revolute{Float64} for i = 1:10]...)\n",
    "vis = Visualizer()[:robot2]\n",
    "setgeometry!(vis, create_geometry(mechanism))\n",
    "state = MechanismState(Float64, mechanism)\n",
    "settransform!(vis, state)\n",
    "times, configurations, velocities = simulate(state, 10.; Δt = 0.001);"
   ]
  },
  {
   "cell_type": "code",
   "execution_count": 9,
   "metadata": {},
   "outputs": [],
   "source": [
    "# And we can animate the result in realtime\n",
    "# (note that it looks a little strange because the link center of mass locations aren't where you think they are)\n",
    "animate(vis, mechanism, times, configurations)"
   ]
  },
  {
   "cell_type": "code",
   "execution_count": 10,
   "metadata": {},
   "outputs": [
    {
     "data": {
      "text/html": [],
      "text/plain": [
       "Interact.Options{:SelectionSlider,Int64}(24: \"input-12\" = 5001 Int64 ,\"i\",5001,\"5001\",Interact.OptionDict(DataStructures.OrderedDict(\"1\"=>1,\"2\"=>2,\"3\"=>3,\"4\"=>4,\"5\"=>5,\"6\"=>6,\"7\"=>7,\"8\"=>8,\"9\"=>9,\"10\"=>10…),Dict(9775=>\"9775\",2843=>\"2843\",4495=>\"4495\",6928=>\"6928\",9905=>\"9905\",6380=>\"6380\",1316=>\"1316\",6265=>\"6265\",5459=>\"5459\",5842=>\"5842\"…)),Any[],Any[],true,\"horizontal\")"
      ]
     },
     "metadata": {},
     "output_type": "display_data"
    }
   ],
   "source": [
    "# We can also inspect individual frames from the simulation\n",
    "@manipulate for i in 1:length(times)\n",
    "    set_configuration!(state, configurations[i])\n",
    "    set_velocity!(state, velocities[i])\n",
    "    settransform!(vis, state)\n",
    "    times[i]\n",
    "end"
   ]
  },
  {
   "cell_type": "code",
   "execution_count": 11,
   "metadata": {},
   "outputs": [],
   "source": [
    "# 3D visualization can also be done *while simulating*, using DrakeVisualizerSink in combination with\n",
    "# the lower level RigidBodyDynamics ODE integration functionality:\n",
    "using RigidBodyDynamics.OdeIntegrators\n",
    "result = DynamicsResult(Float64, mechanism)\n",
    "function damped_dynamics!(vd::AbstractArray, sd::AbstractArray, t, state)\n",
    "    damping = 2.\n",
    "    τ = -damping * velocity(state)\n",
    "    dynamics!(result, state, τ)\n",
    "    copy!(vd, result.v̇)\n",
    "    copy!(sd, result.ṡ)\n",
    "    nothing\n",
    "end\n",
    "integrator = MuntheKaasIntegrator(damped_dynamics!, runge_kutta_4(Float64), DrakeVisualizerSink(vis))\n",
    "integrate(integrator, state, 10., 1e-3, maxRealtimeRate = 1.)"
   ]
  },
  {
   "cell_type": "code",
   "execution_count": 12,
   "metadata": {
    "collapsed": true
   },
   "outputs": [],
   "source": []
  }
 ],
 "metadata": {
  "kernelspec": {
   "display_name": "Julia 0.6.0",
   "language": "julia",
   "name": "julia-0.6"
  },
  "language_info": {
   "file_extension": ".jl",
   "mimetype": "application/julia",
   "name": "julia",
   "version": "0.6.0"
  },
  "widgets": {
   "state": {
    "07dadf98-245d-4324-9280-fbc4f1d0995e": {
     "views": [
      {
       "cell_index": 5
      }
     ]
    },
    "0f8fcea6-c9ff-4d7c-a60a-8385e0d72083": {
     "views": [
      {
       "cell_index": 5
      }
     ]
    },
    "1cae2a81-4f13-4b44-8e3f-e97567f10190": {
     "views": [
      {
       "cell_index": 5
      }
     ]
    },
    "205e18ba-816c-40ab-906f-fb3ec43655d0": {
     "views": [
      {
       "cell_index": 5
      }
     ]
    },
    "2268fc72-25bf-4c04-a374-bfa989b37790": {
     "views": [
      {
       "cell_index": 5
      }
     ]
    },
    "266baffa-3b37-4c4f-99e0-d48f4fec0d1b": {
     "views": [
      {
       "cell_index": 5
      }
     ]
    },
    "33c360b0-df59-4089-9564-d4ce6d7e280a": {
     "views": [
      {
       "cell_index": 5
      }
     ]
    },
    "364c09e6-87cf-4a73-a7b2-69b59e40a9d6": {
     "views": [
      {
       "cell_index": 5
      }
     ]
    },
    "41616363-5eb7-43d8-a7e6-3fc3f1c528f0": {
     "views": [
      {
       "cell_index": 9
      }
     ]
    },
    "46f58fc7-ad0e-435d-8b48-3d4d124ae20c": {
     "views": [
      {
       "cell_index": 5
      }
     ]
    },
    "4a38ece3-5903-4942-a46c-bf86b6b88d3d": {
     "views": [
      {
       "cell_index": 5
      }
     ]
    },
    "5401cd6c-42ad-4993-959e-6171612dd41e": {
     "views": [
      {
       "cell_index": 5
      }
     ]
    },
    "6f5a04ad-bcae-4a4f-b2b8-4e1fd330cf59": {
     "views": [
      {
       "cell_index": 5
      }
     ]
    },
    "9ac501ba-4021-426a-b1ca-b1346caa5634": {
     "views": [
      {
       "cell_index": 5
      }
     ]
    },
    "9bee1a68-d113-4cb0-bdf0-a7333b676b3a": {
     "views": [
      {
       "cell_index": 5
      }
     ]
    },
    "abd5fe1e-0ab4-4f1e-813e-c8f3673bcab1": {
     "views": [
      {
       "cell_index": 5
      }
     ]
    },
    "b166647b-9db3-48ed-a11f-3d7ae769605c": {
     "views": [
      {
       "cell_index": 5
      }
     ]
    },
    "bb910a8f-c4d5-480e-b5e8-d55bd2125d9c": {
     "views": [
      {
       "cell_index": 5
      }
     ]
    },
    "cf0285e0-0c4d-415f-9f59-ae9c19c29279": {
     "views": [
      {
       "cell_index": 5
      }
     ]
    },
    "d487fc62-a83d-4b94-b917-f0084a688aeb": {
     "views": [
      {
       "cell_index": 5
      }
     ]
    },
    "f604889b-af1e-4e26-bba7-a83988933df2": {
     "views": [
      {
       "cell_index": 5
      }
     ]
    },
    "f95d2ed7-7385-4901-a06d-f26658577bba": {
     "views": [
      {
       "cell_index": 5
      }
     ]
    }
   },
   "version": "1.2.0"
  }
 },
 "nbformat": 4,
 "nbformat_minor": 1
}
