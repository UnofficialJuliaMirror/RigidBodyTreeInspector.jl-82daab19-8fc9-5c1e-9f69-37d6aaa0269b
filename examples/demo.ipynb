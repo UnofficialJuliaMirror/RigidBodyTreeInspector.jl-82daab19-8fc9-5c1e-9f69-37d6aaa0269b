{
 "cells": [
  {
   "cell_type": "code",
   "execution_count": 1,
   "metadata": {
    "collapsed": false
   },
   "outputs": [
    {
     "data": {
      "text/html": [
       "<div id=\"interact-js-shim\">\n",
       "    <script charset=\"utf-8\">\n",
       "(function (IPython, $, _, MathJax) {\n",
       "    $.event.special.destroyed = {\n",
       "\tremove: function(o) {\n",
       "\t    if (o.handler) {\n",
       "\t\to.handler.apply(this, arguments)\n",
       "\t    }\n",
       "\t}\n",
       "    }\n",
       "\n",
       "    var OutputArea = IPython.version >= \"4.0.0\" ? require(\"notebook/js/outputarea\").OutputArea : IPython.OutputArea;\n",
       "\n",
       "    var redrawValue = function (container, type, val) {\n",
       "\tvar selector = $(\"<div/>\");\n",
       "\tvar oa = new OutputArea(_.extend(selector, {\n",
       "\t    selector: selector,\n",
       "\t    prompt_area: true,\n",
       "\t    events: IPython.events,\n",
       "\t    keyboard_manager: IPython.keyboard_manager\n",
       "\t})); // Hack to work with IPython 2.1.0\n",
       "\n",
       "\tswitch (type) {\n",
       "\tcase \"image/png\":\n",
       "            var _src = 'data:' + type + ';base64,' + val;\n",
       "\t    $(container).find(\"img\").attr('src', _src);\n",
       "\t    break;\n",
       "\tcase \"text/latex\":\n",
       "\t\tif (MathJax){\n",
       "\t\t\tvar math = MathJax.Hub.getAllJax(container)[0];\n",
       "\t\t\tMathJax.Hub.Queue([\"Text\", math, val.replace(/^\\${1,2}|\\${1,2}$/g, '')]);\n",
       "\t\t\tbreak;\n",
       "\t\t}\n",
       "\tdefault:\n",
       "\t    var toinsert = OutputArea.append_map[type].apply(\n",
       "\t\toa, [val, {}, selector]\n",
       "\t    );\n",
       "\t    $(container).empty().append(toinsert.contents());\n",
       "\t    selector.remove();\n",
       "\t}\n",
       "    }\n",
       "\n",
       "\n",
       "    $(document).ready(function() {\n",
       "\tfunction initComm(evt, data) {\n",
       "\t    var comm_manager = data.kernel.comm_manager;\n",
       "        //_.extend(comm_manager.targets, require(\"widgets/js/widget\"))\n",
       "\t    comm_manager.register_target(\"Signal\", function (comm) {\n",
       "            comm.on_msg(function (msg) {\n",
       "                var val = msg.content.data.value;\n",
       "                $(\".signal-\" + comm.comm_id).each(function() {\n",
       "                var type = $(this).data(\"type\");\n",
       "                if (typeof(val[type]) !== \"undefined\" && val[type] !== null) {\n",
       "                    redrawValue(this, type, val[type], type);\n",
       "                }\n",
       "                });\n",
       "                delete val;\n",
       "                delete msg.content.data.value;\n",
       "            });\n",
       "\t    });\n",
       "\n",
       "\t    // coordingate with Comm and redraw Signals\n",
       "\t    // XXX: Test using Reactive here to improve performance\n",
       "\t    $([IPython.events]).on(\n",
       "\t\t'output_appended.OutputArea', function (event, type, value, md, toinsert) {\n",
       "\t\t    if (md && md.reactive) {\n",
       "                // console.log(md.comm_id);\n",
       "                toinsert.addClass(\"signal-\" + md.comm_id);\n",
       "                toinsert.data(\"type\", type);\n",
       "                // Signal back indicating the mimetype required\n",
       "                var comm_manager = IPython.notebook.kernel.comm_manager;\n",
       "                var comm = comm_manager.comms[md.comm_id];\n",
       "                comm.then(function (c) {\n",
       "                    c.send({action: \"subscribe_mime\",\n",
       "                       mime: type});\n",
       "                    toinsert.bind(\"destroyed\", function() {\n",
       "                        c.send({action: \"unsubscribe_mime\",\n",
       "                               mime: type});\n",
       "                    });\n",
       "                })\n",
       "\t\t    }\n",
       "\t    });\n",
       "\t}\n",
       "\n",
       "\ttry {\n",
       "\t    // try to initialize right away. otherwise, wait on the status_started event.\n",
       "\t    initComm(undefined, IPython.notebook);\n",
       "\t} catch (e) {\n",
       "\t    $([IPython.events]).on('kernel_created.Kernel kernel_created.Session', initComm);\n",
       "\t}\n",
       "    });\n",
       "})(IPython, jQuery, _, MathJax);\n",
       "</script>\n",
       "    <script>\n",
       "        window.interactLoadedFlag = true\n",
       "       $(\"#interact-js-shim\").bind(\"destroyed\", function () {\n",
       "           if (window.interactLoadedFlag) {\n",
       "               console.warn(\"JavaScript required by Interact will be removed if you remove this cell or run using Interact more than once.\")\n",
       "           }\n",
       "       })\n",
       "       $([IPython.events]).on(\"kernel_starting.Kernel kernel_restarting.Kernel\", function () { window.interactLoadedFlag = false })\n",
       "   </script>\n",
       "</div>"
      ]
     },
     "metadata": {},
     "output_type": "display_data"
    }
   ],
   "source": [
    "using Interact\n",
    "using RigidBodyDynamics\n",
    "using RigidBodyTreeInspector"
   ]
  },
  {
   "cell_type": "code",
   "execution_count": 2,
   "metadata": {
    "collapsed": false
   },
   "outputs": [],
   "source": [
    "# Open the viewer application\n",
    "DrakeVisualizer.any_open_windows() || DrakeVisualizer.new_window()"
   ]
  },
  {
   "cell_type": "code",
   "execution_count": 3,
   "metadata": {
    "collapsed": false
   },
   "outputs": [
    {
     "data": {
      "text/plain": [
       "Spanning tree:\n",
       "Vertex: world (root)\n",
       "  Vertex: body1, Edge: joint1\n",
       "    Vertex: body2, Edge: joint2\n",
       "      Vertex: body3, Edge: joint3\n",
       "        Vertex: body4, Edge: joint4\n",
       "          Vertex: body5, Edge: joint5\n",
       "            Vertex: body6, Edge: joint6\n",
       "No non-tree joints."
      ]
     },
     "execution_count": 3,
     "metadata": {},
     "output_type": "execute_result"
    }
   ],
   "source": [
    "# Construct a mechanism\n",
    "mechanism = rand_chain_mechanism(Float64, [QuaternionFloating{Float64}; [Revolute{Float64} for i = 1:5]]...)"
   ]
  },
  {
   "cell_type": "code",
   "execution_count": 4,
   "metadata": {
    "collapsed": true
   },
   "outputs": [],
   "source": [
    "# Construct the visualizer interface, and get the :robot1 subtree\n",
    "vis = DrakeVisualizer.Visualizer()[:robot1];"
   ]
  },
  {
   "cell_type": "code",
   "execution_count": 5,
   "metadata": {
    "collapsed": false
   },
   "outputs": [],
   "source": [
    "# Load the mechanism's geometry into the visualizer\n",
    "setgeometry!(vis, mechanism)\n",
    "\n",
    "# We can draw the mechanism at a single state:\n",
    "state = MechanismState{Float64}(mechanism)\n",
    "settransform!(vis, state);"
   ]
  },
  {
   "cell_type": "code",
   "execution_count": 6,
   "metadata": {
    "collapsed": false
   },
   "outputs": [
    {
     "data": {
      "text/html": [],
      "text/plain": [
       "Interact.Options{:SelectionSlider,Float64}(1: \"input\" = 0.0 Float64 , \"joint1.1\", 0.0, \"0.0\", Interact.OptionDict(DataStructures.OrderedDict(\"-3.141592653589793\"=>-3.14159,\"-3.015928947446201\"=>-3.01593,\"-2.8902652413026098\"=>-2.89027,\"-2.764601535159018\"=>-2.7646,\"-2.6389378290154264\"=>-2.63894,\"-2.5132741228718345\"=>-2.51327,\"-2.3876104167282426\"=>-2.38761,\"-2.261946710584651\"=>-2.26195,\"-2.1362830044410592\"=>-2.13628,\"-2.0106192982974678\"=>-2.01062…), Dict(-3.01593=>\"-3.015928947446201\",2.89027=>\"2.8902652413026098\",1.75929=>\"1.7592918860102842\",2.63894=>\"2.6389378290154264\",0.251327=>\"0.25132741228718347\",-2.51327=>\"-2.5132741228718345\",1.25664=>\"1.2566370614359172\",-3.14159=>\"-3.141592653589793\",1.3823=>\"1.382300767579509\",2.7646=>\"2.764601535159018\"…)), Any[], Any[], true, \"horizontal\")"
      ]
     },
     "metadata": {},
     "output_type": "display_data"
    },
    {
     "data": {
      "text/html": [],
      "text/plain": [
       "Interact.Options{:SelectionSlider,Float64}(3: \"input-2\" = 0.0 Float64 , \"joint1.2\", 0.0, \"0.0\", Interact.OptionDict(DataStructures.OrderedDict(\"-3.141592653589793\"=>-3.14159,\"-3.015928947446201\"=>-3.01593,\"-2.8902652413026098\"=>-2.89027,\"-2.764601535159018\"=>-2.7646,\"-2.6389378290154264\"=>-2.63894,\"-2.5132741228718345\"=>-2.51327,\"-2.3876104167282426\"=>-2.38761,\"-2.261946710584651\"=>-2.26195,\"-2.1362830044410592\"=>-2.13628,\"-2.0106192982974678\"=>-2.01062…), Dict(-3.01593=>\"-3.015928947446201\",2.89027=>\"2.8902652413026098\",1.75929=>\"1.7592918860102842\",2.63894=>\"2.6389378290154264\",0.251327=>\"0.25132741228718347\",-2.51327=>\"-2.5132741228718345\",1.25664=>\"1.2566370614359172\",-3.14159=>\"-3.141592653589793\",1.3823=>\"1.382300767579509\",2.7646=>\"2.764601535159018\"…)), Any[], Any[], true, \"horizontal\")"
      ]
     },
     "metadata": {},
     "output_type": "display_data"
    },
    {
     "data": {
      "text/html": [],
      "text/plain": [
       "Interact.Options{:SelectionSlider,Float64}(5: \"input-3\" = 0.0 Float64 , \"joint1.3\", 0.0, \"0.0\", Interact.OptionDict(DataStructures.OrderedDict(\"-3.141592653589793\"=>-3.14159,\"-3.015928947446201\"=>-3.01593,\"-2.8902652413026098\"=>-2.89027,\"-2.764601535159018\"=>-2.7646,\"-2.6389378290154264\"=>-2.63894,\"-2.5132741228718345\"=>-2.51327,\"-2.3876104167282426\"=>-2.38761,\"-2.261946710584651\"=>-2.26195,\"-2.1362830044410592\"=>-2.13628,\"-2.0106192982974678\"=>-2.01062…), Dict(-3.01593=>\"-3.015928947446201\",2.89027=>\"2.8902652413026098\",1.75929=>\"1.7592918860102842\",2.63894=>\"2.6389378290154264\",0.251327=>\"0.25132741228718347\",-2.51327=>\"-2.5132741228718345\",1.25664=>\"1.2566370614359172\",-3.14159=>\"-3.141592653589793\",1.3823=>\"1.382300767579509\",2.7646=>\"2.764601535159018\"…)), Any[], Any[], true, \"horizontal\")"
      ]
     },
     "metadata": {},
     "output_type": "display_data"
    },
    {
     "data": {
      "text/html": [],
      "text/plain": [
       "Interact.Options{:SelectionSlider,Float64}(7: \"input-4\" = 0.0 Float64 , \"joint1.4\", 0.0, \"0.0\", Interact.OptionDict(DataStructures.OrderedDict(\"-3.141592653589793\"=>-3.14159,\"-3.015928947446201\"=>-3.01593,\"-2.8902652413026098\"=>-2.89027,\"-2.764601535159018\"=>-2.7646,\"-2.6389378290154264\"=>-2.63894,\"-2.5132741228718345\"=>-2.51327,\"-2.3876104167282426\"=>-2.38761,\"-2.261946710584651\"=>-2.26195,\"-2.1362830044410592\"=>-2.13628,\"-2.0106192982974678\"=>-2.01062…), Dict(-3.01593=>\"-3.015928947446201\",2.89027=>\"2.8902652413026098\",1.75929=>\"1.7592918860102842\",2.63894=>\"2.6389378290154264\",0.251327=>\"0.25132741228718347\",-2.51327=>\"-2.5132741228718345\",1.25664=>\"1.2566370614359172\",-3.14159=>\"-3.141592653589793\",1.3823=>\"1.382300767579509\",2.7646=>\"2.764601535159018\"…)), Any[], Any[], true, \"horizontal\")"
      ]
     },
     "metadata": {},
     "output_type": "display_data"
    },
    {
     "data": {
      "text/html": [],
      "text/plain": [
       "Interact.Options{:SelectionSlider,Float64}(9: \"input-5\" = 0.0 Float64 , \"joint1.5\", 0.0, \"0.0\", Interact.OptionDict(DataStructures.OrderedDict(\"-3.141592653589793\"=>-3.14159,\"-3.015928947446201\"=>-3.01593,\"-2.8902652413026098\"=>-2.89027,\"-2.764601535159018\"=>-2.7646,\"-2.6389378290154264\"=>-2.63894,\"-2.5132741228718345\"=>-2.51327,\"-2.3876104167282426\"=>-2.38761,\"-2.261946710584651\"=>-2.26195,\"-2.1362830044410592\"=>-2.13628,\"-2.0106192982974678\"=>-2.01062…), Dict(-3.01593=>\"-3.015928947446201\",2.89027=>\"2.8902652413026098\",1.75929=>\"1.7592918860102842\",2.63894=>\"2.6389378290154264\",0.251327=>\"0.25132741228718347\",-2.51327=>\"-2.5132741228718345\",1.25664=>\"1.2566370614359172\",-3.14159=>\"-3.141592653589793\",1.3823=>\"1.382300767579509\",2.7646=>\"2.764601535159018\"…)), Any[], Any[], true, \"horizontal\")"
      ]
     },
     "metadata": {},
     "output_type": "display_data"
    },
    {
     "data": {
      "text/html": [],
      "text/plain": [
       "Interact.Options{:SelectionSlider,Float64}(11: \"input-6\" = 0.0 Float64 , \"joint1.6\", 0.0, \"0.0\", Interact.OptionDict(DataStructures.OrderedDict(\"-3.141592653589793\"=>-3.14159,\"-3.015928947446201\"=>-3.01593,\"-2.8902652413026098\"=>-2.89027,\"-2.764601535159018\"=>-2.7646,\"-2.6389378290154264\"=>-2.63894,\"-2.5132741228718345\"=>-2.51327,\"-2.3876104167282426\"=>-2.38761,\"-2.261946710584651\"=>-2.26195,\"-2.1362830044410592\"=>-2.13628,\"-2.0106192982974678\"=>-2.01062…), Dict(-3.01593=>\"-3.015928947446201\",2.89027=>\"2.8902652413026098\",1.75929=>\"1.7592918860102842\",2.63894=>\"2.6389378290154264\",0.251327=>\"0.25132741228718347\",-2.51327=>\"-2.5132741228718345\",1.25664=>\"1.2566370614359172\",-3.14159=>\"-3.141592653589793\",1.3823=>\"1.382300767579509\",2.7646=>\"2.764601535159018\"…)), Any[], Any[], true, \"horizontal\")"
      ]
     },
     "metadata": {},
     "output_type": "display_data"
    },
    {
     "data": {
      "text/html": [],
      "text/plain": [
       "Interact.Options{:SelectionSlider,Float64}(13: \"input-7\" = 0.0 Float64 , \"joint2.1\", 0.0, \"0.0\", Interact.OptionDict(DataStructures.OrderedDict(\"-3.141592653589793\"=>-3.14159,\"-3.015928947446201\"=>-3.01593,\"-2.8902652413026098\"=>-2.89027,\"-2.764601535159018\"=>-2.7646,\"-2.6389378290154264\"=>-2.63894,\"-2.5132741228718345\"=>-2.51327,\"-2.3876104167282426\"=>-2.38761,\"-2.261946710584651\"=>-2.26195,\"-2.1362830044410592\"=>-2.13628,\"-2.0106192982974678\"=>-2.01062…), Dict(-3.01593=>\"-3.015928947446201\",2.89027=>\"2.8902652413026098\",1.75929=>\"1.7592918860102842\",2.63894=>\"2.6389378290154264\",0.251327=>\"0.25132741228718347\",-2.51327=>\"-2.5132741228718345\",1.25664=>\"1.2566370614359172\",-3.14159=>\"-3.141592653589793\",1.3823=>\"1.382300767579509\",2.7646=>\"2.764601535159018\"…)), Any[], Any[], true, \"horizontal\")"
      ]
     },
     "metadata": {},
     "output_type": "display_data"
    },
    {
     "data": {
      "text/html": [],
      "text/plain": [
       "Interact.Options{:SelectionSlider,Float64}(15: \"input-8\" = 0.0 Float64 , \"joint3.1\", 0.0, \"0.0\", Interact.OptionDict(DataStructures.OrderedDict(\"-3.141592653589793\"=>-3.14159,\"-3.015928947446201\"=>-3.01593,\"-2.8902652413026098\"=>-2.89027,\"-2.764601535159018\"=>-2.7646,\"-2.6389378290154264\"=>-2.63894,\"-2.5132741228718345\"=>-2.51327,\"-2.3876104167282426\"=>-2.38761,\"-2.261946710584651\"=>-2.26195,\"-2.1362830044410592\"=>-2.13628,\"-2.0106192982974678\"=>-2.01062…), Dict(-3.01593=>\"-3.015928947446201\",2.89027=>\"2.8902652413026098\",1.75929=>\"1.7592918860102842\",2.63894=>\"2.6389378290154264\",0.251327=>\"0.25132741228718347\",-2.51327=>\"-2.5132741228718345\",1.25664=>\"1.2566370614359172\",-3.14159=>\"-3.141592653589793\",1.3823=>\"1.382300767579509\",2.7646=>\"2.764601535159018\"…)), Any[], Any[], true, \"horizontal\")"
      ]
     },
     "metadata": {},
     "output_type": "display_data"
    },
    {
     "data": {
      "text/html": [],
      "text/plain": [
       "Interact.Options{:SelectionSlider,Float64}(17: \"input-9\" = 0.0 Float64 , \"joint4.1\", 0.0, \"0.0\", Interact.OptionDict(DataStructures.OrderedDict(\"-3.141592653589793\"=>-3.14159,\"-3.015928947446201\"=>-3.01593,\"-2.8902652413026098\"=>-2.89027,\"-2.764601535159018\"=>-2.7646,\"-2.6389378290154264\"=>-2.63894,\"-2.5132741228718345\"=>-2.51327,\"-2.3876104167282426\"=>-2.38761,\"-2.261946710584651\"=>-2.26195,\"-2.1362830044410592\"=>-2.13628,\"-2.0106192982974678\"=>-2.01062…), Dict(-3.01593=>\"-3.015928947446201\",2.89027=>\"2.8902652413026098\",1.75929=>\"1.7592918860102842\",2.63894=>\"2.6389378290154264\",0.251327=>\"0.25132741228718347\",-2.51327=>\"-2.5132741228718345\",1.25664=>\"1.2566370614359172\",-3.14159=>\"-3.141592653589793\",1.3823=>\"1.382300767579509\",2.7646=>\"2.764601535159018\"…)), Any[], Any[], true, \"horizontal\")"
      ]
     },
     "metadata": {},
     "output_type": "display_data"
    },
    {
     "data": {
      "text/html": [],
      "text/plain": [
       "Interact.Options{:SelectionSlider,Float64}(19: \"input-10\" = 0.0 Float64 , \"joint5.1\", 0.0, \"0.0\", Interact.OptionDict(DataStructures.OrderedDict(\"-3.141592653589793\"=>-3.14159,\"-3.015928947446201\"=>-3.01593,\"-2.8902652413026098\"=>-2.89027,\"-2.764601535159018\"=>-2.7646,\"-2.6389378290154264\"=>-2.63894,\"-2.5132741228718345\"=>-2.51327,\"-2.3876104167282426\"=>-2.38761,\"-2.261946710584651\"=>-2.26195,\"-2.1362830044410592\"=>-2.13628,\"-2.0106192982974678\"=>-2.01062…), Dict(-3.01593=>\"-3.015928947446201\",2.89027=>\"2.8902652413026098\",1.75929=>\"1.7592918860102842\",2.63894=>\"2.6389378290154264\",0.251327=>\"0.25132741228718347\",-2.51327=>\"-2.5132741228718345\",1.25664=>\"1.2566370614359172\",-3.14159=>\"-3.141592653589793\",1.3823=>\"1.382300767579509\",2.7646=>\"2.764601535159018\"…)), Any[], Any[], true, \"horizontal\")"
      ]
     },
     "metadata": {},
     "output_type": "display_data"
    },
    {
     "data": {
      "text/html": [],
      "text/plain": [
       "Interact.Options{:SelectionSlider,Float64}(21: \"input-11\" = 0.0 Float64 , \"joint6.1\", 0.0, \"0.0\", Interact.OptionDict(DataStructures.OrderedDict(\"-3.141592653589793\"=>-3.14159,\"-3.015928947446201\"=>-3.01593,\"-2.8902652413026098\"=>-2.89027,\"-2.764601535159018\"=>-2.7646,\"-2.6389378290154264\"=>-2.63894,\"-2.5132741228718345\"=>-2.51327,\"-2.3876104167282426\"=>-2.38761,\"-2.261946710584651\"=>-2.26195,\"-2.1362830044410592\"=>-2.13628,\"-2.0106192982974678\"=>-2.01062…), Dict(-3.01593=>\"-3.015928947446201\",2.89027=>\"2.8902652413026098\",1.75929=>\"1.7592918860102842\",2.63894=>\"2.6389378290154264\",0.251327=>\"0.25132741228718347\",-2.51327=>\"-2.5132741228718345\",1.25664=>\"1.2566370614359172\",-3.14159=>\"-3.141592653589793\",1.3823=>\"1.382300767579509\",2.7646=>\"2.764601535159018\"…)), Any[], Any[], true, \"horizontal\")"
      ]
     },
     "metadata": {},
     "output_type": "display_data"
    }
   ],
   "source": [
    "# Or we can interactively explore the degrees of freedom of the mechanism.\n",
    "# Note that the quaternion floating base joint, \"joint1\", has been given \n",
    "# six sliders. The first three correspond to the exponential map representation\n",
    "# of its rotation, and the next three correspond to its translation. \n",
    "inspect(mechanism; show_inertias=true, randomize_colors=true);"
   ]
  },
  {
   "cell_type": "code",
   "execution_count": 7,
   "metadata": {
    "collapsed": false
   },
   "outputs": [],
   "source": [
    "# We can visualize reference frames and points fixed to bodies:\n",
    "frame = frame_after(last(tree_joints(mechanism)))\n",
    "point = Point3D(frame, 0.1, 0.2, 0.3)\n",
    "addgeometry!(vis, mechanism, frame; scale=0.5)\n",
    "addgeometry!(vis, mechanism, point; radius=0.05)"
   ]
  },
  {
   "cell_type": "code",
   "execution_count": 8,
   "metadata": {
    "collapsed": true
   },
   "outputs": [],
   "source": [
    "# We can also animate the mechanism, given a time sequence of states.\n",
    "# States will be linearly interpolated between the knot points.\n",
    "times = collect(linspace(0, 10, 3))\n",
    "configurations = Vector{Vector{Float64}}(length(times))\n",
    "for i = 1:length(times)\n",
    "    rand_configuration!(state)\n",
    "    configurations[i] = copy(configuration(state))\n",
    "end\n",
    "animate(vis, mechanism, times, configurations; fps = 60., realtimerate = 1.)"
   ]
  },
  {
   "cell_type": "code",
   "execution_count": 9,
   "metadata": {
    "collapsed": true
   },
   "outputs": [],
   "source": [
    "# We can simulate a mechanism from an initial state. We'll use a mechanism\n",
    "# without a QuaternionFloating joint so that it doesn't just fall straight down.\n",
    "mechanism = rand_chain_mechanism(Float64, [Revolute{Float64} for i = 1:10]...)\n",
    "vis = Visualizer()[:robot2]\n",
    "setgeometry!(vis, mechanism)\n",
    "state = MechanismState{Float64}(mechanism)\n",
    "settransform!(vis, state)\n",
    "times, configurations, velocities = simulate(state, 10.; Δt = 0.001);"
   ]
  },
  {
   "cell_type": "code",
   "execution_count": 10,
   "metadata": {
    "collapsed": true
   },
   "outputs": [],
   "source": [
    "# And we can animate the result in realtime\n",
    "# (note that it looks a little strange because the link center of mass locations aren't where you think they are)\n",
    "animate(vis, mechanism, times, configurations)"
   ]
  },
  {
   "cell_type": "code",
   "execution_count": 11,
   "metadata": {
    "collapsed": false
   },
   "outputs": [
    {
     "data": {
      "text/html": [],
      "text/plain": [
       "Interact.Options{:SelectionSlider,Int64}(24: \"input-12\" = 5001 Int64 , \"i\", 5001, \"5001\", Interact.OptionDict(DataStructures.OrderedDict(\"1\"=>1,\"2\"=>2,\"3\"=>3,\"4\"=>4,\"5\"=>5,\"6\"=>6,\"7\"=>7,\"8\"=>8,\"9\"=>9,\"10\"=>10…), Dict(9775=>\"9775\",2843=>\"2843\",4495=>\"4495\",6928=>\"6928\",9905=>\"9905\",6380=>\"6380\",1316=>\"1316\",6265=>\"6265\",5459=>\"5459\",5842=>\"5842\"…)), Any[], Any[], true, \"horizontal\")"
      ]
     },
     "metadata": {},
     "output_type": "display_data"
    },
    {
     "data": {
      "text/plain": [
       "5.000000000000004"
      ]
     },
     "execution_count": 11,
     "metadata": {
      "comm_id": "f7add84c-cf39-4921-afbd-cafc3e6d7c37",
      "reactive": true
     },
     "output_type": "execute_result"
    }
   ],
   "source": [
    "# We can also inspect individual frames from the simulation\n",
    "@manipulate for i in 1:length(times)\n",
    "    set_configuration!(state, configurations[i])\n",
    "    set_velocity!(state, velocities[i])\n",
    "    settransform!(vis, state)\n",
    "    times[i]\n",
    "end"
   ]
  },
  {
   "cell_type": "code",
   "execution_count": 12,
   "metadata": {
    "collapsed": true
   },
   "outputs": [],
   "source": [
    "# 3D visualization can also be done *while simulating*, using DrakeVisualizerSink in combination with\n",
    "# the lower level RigidBodyDynamics ODE integration functionality:\n",
    "using RigidBodyDynamics.OdeIntegrators\n",
    "result = DynamicsResult{Float64}(mechanism)\n",
    "function damped_dynamics!(vd::AbstractArray, sd::AbstractArray, t, state)\n",
    "    damping = 2.\n",
    "    τ = -damping * velocity(state)\n",
    "    dynamics!(result, state, τ)\n",
    "    copy!(vd, result.v̇)\n",
    "    copy!(sd, result.ṡ)\n",
    "    nothing\n",
    "end\n",
    "integrator = MuntheKaasIntegrator(damped_dynamics!, runge_kutta_4(Float64), DrakeVisualizerSink(vis))\n",
    "integrate(integrator, state, 10., 1e-3, maxRealtimeRate = 1.)"
   ]
  },
  {
   "cell_type": "code",
   "execution_count": null,
   "metadata": {
    "collapsed": true
   },
   "outputs": [],
   "source": []
  }
 ],
 "metadata": {
  "kernelspec": {
   "display_name": "Julia 0.6.0",
   "language": "julia",
   "name": "julia-0.6"
  },
  "language_info": {
   "file_extension": ".jl",
   "mimetype": "application/julia",
   "name": "julia",
   "version": "0.6.0"
  },
  "widgets": {
   "state": {
    "08bade03-3d14-414a-8408-ed74f2e8f173": {
     "views": [
      {
       "cell_index": 5
      }
     ]
    },
    "0d760918-e55a-498b-adde-2f5c25701138": {
     "views": [
      {
       "cell_index": 5
      }
     ]
    },
    "162978fd-2971-4068-ade3-f5460f0ea3d6": {
     "views": [
      {
       "cell_index": 10
      }
     ]
    },
    "298c0cdd-c49e-4d30-b94c-c3d0f9883fbd": {
     "views": [
      {
       "cell_index": 5
      }
     ]
    },
    "5fc72b42-1891-485b-a93f-9f605d93e050": {
     "views": [
      {
       "cell_index": 5
      }
     ]
    },
    "6f627260-88fb-4be7-9cb3-034d979eccb7": {
     "views": [
      {
       "cell_index": 5
      }
     ]
    },
    "787e602c-75c8-4b4b-9742-1e103a41433c": {
     "views": [
      {
       "cell_index": 5
      }
     ]
    },
    "8487288e-457b-4456-a1a3-840ac184bb06": {
     "views": [
      {
       "cell_index": 5
      }
     ]
    },
    "9cdb5607-9b0d-4427-a05f-be9090c4dd19": {
     "views": [
      {
       "cell_index": 5
      }
     ]
    },
    "a0a9386b-100b-495b-8783-f4b06e8e0f65": {
     "views": [
      {
       "cell_index": 5
      }
     ]
    },
    "b605625c-e83a-48cf-9013-c12a27e85eeb": {
     "views": [
      {
       "cell_index": 5
      }
     ]
    },
    "ca79e62d-302f-4c60-ac95-e9053b9ce2a7": {
     "views": [
      {
       "cell_index": 5
      }
     ]
    }
   },
   "version": "1.2.0"
  }
 },
 "nbformat": 4,
 "nbformat_minor": 1
}
