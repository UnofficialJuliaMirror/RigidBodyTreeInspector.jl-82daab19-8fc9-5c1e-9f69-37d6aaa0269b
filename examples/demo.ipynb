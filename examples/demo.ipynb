{
 "cells": [
  {
   "cell_type": "code",
   "execution_count": 1,
   "metadata": {
    "collapsed": false
   },
   "outputs": [
    {
     "name": "stderr",
     "output_type": "stream",
     "text": [
      "INFO: Recompiling stale cache file /home/rdeits/locomotion/explorations/RigidBodyTreeInspector/packages/lib/v0.5/RigidBodyTreeInspector.ji for module RigidBodyTreeInspector.\n"
     ]
    },
    {
     "data": {
      "text/html": [
       "<div id=\"interact-js-shim\">\n",
       "    <script charset=\"utf-8\">\n",
       "(function (IPython, $, _, MathJax) {\n",
       "    $.event.special.destroyed = {\n",
       "\tremove: function(o) {\n",
       "\t    if (o.handler) {\n",
       "\t\to.handler.apply(this, arguments)\n",
       "\t    }\n",
       "\t}\n",
       "    }\n",
       "\n",
       "    var OutputArea = IPython.version >= \"4.0.0\" ? require(\"notebook/js/outputarea\").OutputArea : IPython.OutputArea;\n",
       "\n",
       "    var redrawValue = function (container, type, val) {\n",
       "\tvar selector = $(\"<div/>\");\n",
       "\tvar oa = new OutputArea(_.extend(selector, {\n",
       "\t    selector: selector,\n",
       "\t    prompt_area: true,\n",
       "\t    events: IPython.events,\n",
       "\t    keyboard_manager: IPython.keyboard_manager\n",
       "\t})); // Hack to work with IPython 2.1.0\n",
       "\n",
       "\tswitch (type) {\n",
       "\tcase \"image/png\":\n",
       "            var _src = 'data:' + type + ';base64,' + val;\n",
       "\t    $(container).find(\"img\").attr('src', _src);\n",
       "\t    break;\n",
       "\tdefault:\n",
       "\t    var toinsert = OutputArea.append_map[type].apply(\n",
       "\t\toa, [val, {}, selector]\n",
       "\t    );\n",
       "\t    $(container).empty().append(toinsert.contents());\n",
       "\t    selector.remove();\n",
       "\t}\n",
       "\tif (type === \"text/latex\" && MathJax) {\n",
       "\t    MathJax.Hub.Queue([\"Typeset\", MathJax.Hub, toinsert.get(0)]);\n",
       "\t}\n",
       "    }\n",
       "\n",
       "\n",
       "    $(document).ready(function() {\n",
       "\tfunction initComm(evt, data) {\n",
       "\t    var comm_manager = data.kernel.comm_manager;\n",
       "        //_.extend(comm_manager.targets, require(\"widgets/js/widget\"))\n",
       "\t    comm_manager.register_target(\"Signal\", function (comm) {\n",
       "            comm.on_msg(function (msg) {\n",
       "                //Widgets.log(\"message received\", msg);\n",
       "                var val = msg.content.data.value;\n",
       "                $(\".signal-\" + comm.comm_id).each(function() {\n",
       "                var type = $(this).data(\"type\");\n",
       "                if (val[type]) {\n",
       "                    redrawValue(this, type, val[type], type);\n",
       "                }\n",
       "                });\n",
       "                delete val;\n",
       "                delete msg.content.data.value;\n",
       "            });\n",
       "\t    });\n",
       "\n",
       "\t    // coordingate with Comm and redraw Signals\n",
       "\t    // XXX: Test using Reactive here to improve performance\n",
       "\t    $([IPython.events]).on(\n",
       "\t\t'output_appended.OutputArea', function (event, type, value, md, toinsert) {\n",
       "\t\t    if (md && md.reactive) {\n",
       "                // console.log(md.comm_id);\n",
       "                toinsert.addClass(\"signal-\" + md.comm_id);\n",
       "                toinsert.data(\"type\", type);\n",
       "                // Signal back indicating the mimetype required\n",
       "                var comm_manager = IPython.notebook.kernel.comm_manager;\n",
       "                var comm = comm_manager.comms[md.comm_id];\n",
       "                comm.then(function (c) {\n",
       "                    c.send({action: \"subscribe_mime\",\n",
       "                       mime: type});\n",
       "                    toinsert.bind(\"destroyed\", function() {\n",
       "                        c.send({action: \"unsubscribe_mime\",\n",
       "                               mime: type});\n",
       "                    });\n",
       "                })\n",
       "\t\t    }\n",
       "\t    });\n",
       "\t}\n",
       "\n",
       "\ttry {\n",
       "\t    // try to initialize right away. otherwise, wait on the status_started event.\n",
       "\t    initComm(undefined, IPython.notebook);\n",
       "\t} catch (e) {\n",
       "\t    $([IPython.events]).on('kernel_created.Kernel kernel_created.Session', initComm);\n",
       "\t}\n",
       "    });\n",
       "})(IPython, jQuery, _, MathJax);\n",
       "</script>\n",
       "    <script>\n",
       "        window.interactLoadedFlag = true\n",
       "       $(\"#interact-js-shim\").bind(\"destroyed\", function () {\n",
       "           if (window.interactLoadedFlag) {\n",
       "               console.warn(\"JavaScript required by Interact will be removed if you remove this cell or run using Interact more than once.\")\n",
       "           }\n",
       "       })\n",
       "       $([IPython.events]).on(\"kernel_starting.Kernel kernel_restarting.Kernel\", function () { window.interactLoadedFlag = false })\n",
       "   </script>\n",
       "</div>"
      ]
     },
     "metadata": {},
     "output_type": "display_data"
    },
    {
     "name": "stderr",
     "output_type": "stream",
     "text": [
      "WARNING: Base.writemime is deprecated.\n",
      "  likely near /home/rdeits/locomotion/explorations/RigidBodyTreeInspector/packages/v0.5/Interact/src/IJulia/setup.jl:116\n",
      "WARNING: Base.writemime is deprecated.\n",
      "  likely near /home/rdeits/locomotion/explorations/RigidBodyTreeInspector/packages/v0.5/Interact/src/IJulia/setup.jl:116\n"
     ]
    }
   ],
   "source": [
    "using RigidBodyDynamics\n",
    "using RigidBodyTreeInspector"
   ]
  },
  {
   "cell_type": "code",
   "execution_count": 8,
   "metadata": {
    "collapsed": false
   },
   "outputs": [
    {
     "data": {
      "text/plain": [
       "Vertex: world (root)\n",
       "  Vertex: body1, Edge: joint1\n",
       "    Vertex: body2, Edge: joint2\n",
       "      Vertex: body3, Edge: joint3\n",
       "        Vertex: body4, Edge: joint4\n",
       "          Vertex: body5, Edge: joint5\n",
       "            Vertex: body6, Edge: joint6"
      ]
     },
     "execution_count": 8,
     "metadata": {},
     "output_type": "execute_result"
    }
   ],
   "source": [
    "mechanism = rand_chain_mechanism(Float64, [QuaternionFloating; [Revolute{Float64} for i = 1:5]]...)"
   ]
  },
  {
   "cell_type": "code",
   "execution_count": 9,
   "metadata": {
    "collapsed": false
   },
   "outputs": [],
   "source": [
    "vis = Visualizer(mechanism);"
   ]
  },
  {
   "cell_type": "code",
   "execution_count": 10,
   "metadata": {
    "collapsed": false
   },
   "outputs": [],
   "source": [
    "# We can draw the mechanism at a single state:\n",
    "state = MechanismState(Float64, mechanism)\n",
    "zero!(state)\n",
    "setdirty!(state)\n",
    "draw(vis, state)"
   ]
  },
  {
   "cell_type": "code",
   "execution_count": 11,
   "metadata": {
    "collapsed": false
   },
   "outputs": [
    {
     "data": {
      "text/html": [],
      "text/plain": [
       "Interact.Slider{Float64}(Signal{Float64}(0.0, nactions=0),\"joint1.1\",0.0,linspace(-3.141592653589793,3.141592653589793,51),\".3f\",true)"
      ]
     },
     "metadata": {},
     "output_type": "display_data"
    },
    {
     "data": {
      "text/html": [],
      "text/plain": [
       "Interact.Slider{Float64}(Signal{Float64}(0.0, nactions=0),\"joint1.2\",0.0,linspace(-3.141592653589793,3.141592653589793,51),\".3f\",true)"
      ]
     },
     "metadata": {},
     "output_type": "display_data"
    },
    {
     "data": {
      "text/html": [],
      "text/plain": [
       "Interact.Slider{Float64}(Signal{Float64}(0.0, nactions=0),\"joint1.3\",0.0,linspace(-3.141592653589793,3.141592653589793,51),\".3f\",true)"
      ]
     },
     "metadata": {},
     "output_type": "display_data"
    },
    {
     "data": {
      "text/html": [],
      "text/plain": [
       "Interact.Slider{Float64}(Signal{Float64}(0.0, nactions=0),\"joint1.4\",0.0,linspace(-3.141592653589793,3.141592653589793,51),\".3f\",true)"
      ]
     },
     "metadata": {},
     "output_type": "display_data"
    },
    {
     "data": {
      "text/html": [],
      "text/plain": [
       "Interact.Slider{Float64}(Signal{Float64}(0.0, nactions=0),\"joint1.5\",0.0,linspace(-3.141592653589793,3.141592653589793,51),\".3f\",true)"
      ]
     },
     "metadata": {},
     "output_type": "display_data"
    },
    {
     "data": {
      "text/html": [],
      "text/plain": [
       "Interact.Slider{Float64}(Signal{Float64}(0.0, nactions=0),\"joint1.6\",0.0,linspace(-3.141592653589793,3.141592653589793,51),\".3f\",true)"
      ]
     },
     "metadata": {},
     "output_type": "display_data"
    },
    {
     "data": {
      "text/html": [],
      "text/plain": [
       "Interact.Slider{Float64}(Signal{Float64}(0.0, nactions=0),\"joint2.1\",0.0,linspace(-3.141592653589793,3.141592653589793,51),\".3f\",true)"
      ]
     },
     "metadata": {},
     "output_type": "display_data"
    },
    {
     "data": {
      "text/html": [],
      "text/plain": [
       "Interact.Slider{Float64}(Signal{Float64}(0.0, nactions=0),\"joint3.1\",0.0,linspace(-3.141592653589793,3.141592653589793,51),\".3f\",true)"
      ]
     },
     "metadata": {},
     "output_type": "display_data"
    },
    {
     "data": {
      "text/html": [],
      "text/plain": [
       "Interact.Slider{Float64}(Signal{Float64}(0.0, nactions=0),\"joint4.1\",0.0,linspace(-3.141592653589793,3.141592653589793,51),\".3f\",true)"
      ]
     },
     "metadata": {},
     "output_type": "display_data"
    },
    {
     "data": {
      "text/html": [],
      "text/plain": [
       "Interact.Slider{Float64}(Signal{Float64}(0.0, nactions=0),\"joint5.1\",0.0,linspace(-3.141592653589793,3.141592653589793,51),\".3f\",true)"
      ]
     },
     "metadata": {},
     "output_type": "display_data"
    },
    {
     "data": {
      "text/html": [],
      "text/plain": [
       "Interact.Slider{Float64}(Signal{Float64}(0.0, nactions=0),\"joint6.1\",0.0,linspace(-3.141592653589793,3.141592653589793,51),\".3f\",true)"
      ]
     },
     "metadata": {},
     "output_type": "display_data"
    },
    {
     "data": {
      "text/plain": [
       "nothing"
      ]
     },
     "execution_count": 11,
     "metadata": {
      "comm_id": "b2ff2c34-4a35-402b-8af2-f26bc407fa70",
      "reactive": true
     },
     "output_type": "execute_result"
    }
   ],
   "source": [
    "# Or we can interactively explore the degrees of freedom of the mechanism.\n",
    "# Note that the quaternion floating base joint, \"joint1\", has been given \n",
    "# six sliders. The first three correspond to the exponential map representation\n",
    "# of its rotation, and the next three correspond to its translation. \n",
    "inspect(mechanism; show_inertias=true, randomize_colors=true)"
   ]
  },
  {
   "cell_type": "code",
   "execution_count": 13,
   "metadata": {
    "collapsed": false
   },
   "outputs": [],
   "source": [
    "# we can also animate the mechanism, given a time sequence of states\n",
    "# states will be linearly interpolated between the knot points\n",
    "times = collect(linspace(0, 10, 3))\n",
    "configurations = Vector{Vector{Float64}}(length(times))\n",
    "for i = 1:length(times)\n",
    "    rand_configuration!(state)\n",
    "    configurations[i] = copy(configuration_vector(state))\n",
    "end\n",
    "animate(vis, mechanism, times, configurations; fps = 60., realtimerate = 1.)"
   ]
  },
  {
   "cell_type": "code",
   "execution_count": null,
   "metadata": {
    "collapsed": true
   },
   "outputs": [],
   "source": []
  }
 ],
 "metadata": {
  "kernelspec": {
   "display_name": "Julia 0.5.0-rc3",
   "language": "julia",
   "name": "julia-0.5"
  },
  "language_info": {
   "file_extension": ".jl",
   "mimetype": "application/julia",
   "name": "julia",
   "version": "0.5.0"
  },
  "widgets": {
   "state": {
    "05e17acf-3f2a-4472-a42b-aab60d1c15c9": {
     "views": [
      {
       "cell_index": 4
      }
     ]
    },
    "0aed9153-292e-46cd-86ca-72414dcb1985": {
     "views": [
      {
       "cell_index": 4
      }
     ]
    },
    "0e0fbad9-25ed-4529-bc3e-afad668a7bdd": {
     "views": [
      {
       "cell_index": 4
      }
     ]
    },
    "0f1bd300-2f48-4a03-97fb-1c21f21c2ed7": {
     "views": [
      {
       "cell_index": 4
      }
     ]
    },
    "28f1308b-96d7-48a4-93b0-207932b6bbc4": {
     "views": [
      {
       "cell_index": 4
      }
     ]
    },
    "29ad5f1d-ff83-4f58-a302-f31169c92e1e": {
     "views": [
      {
       "cell_index": 4
      }
     ]
    },
    "2c6fafaa-e636-4996-a952-ee65ff03c020": {
     "views": [
      {
       "cell_index": 4
      }
     ]
    },
    "3184d3a1-5a91-46a0-9b63-93ae94efc2b3": {
     "views": [
      {
       "cell_index": 4
      }
     ]
    },
    "38dd11b6-1303-4ae9-9b36-9a6c87de86c2": {
     "views": [
      {
       "cell_index": 4
      }
     ]
    },
    "392ea8a5-be01-4661-ba35-b0a5d3a194a3": {
     "views": [
      {
       "cell_index": 4
      }
     ]
    },
    "3a43e8d6-6871-4abe-a8f4-d792fb30e26d": {
     "views": [
      {
       "cell_index": 5
      }
     ]
    },
    "3e0102df-a8cf-4fe3-955a-75650091c5e1": {
     "views": [
      {
       "cell_index": 4
      }
     ]
    },
    "4201b362-2eec-4fc4-9e57-38d12c8d6151": {
     "views": [
      {
       "cell_index": 4
      }
     ]
    },
    "590a6a87-968c-4fd0-8210-8c2db8576cda": {
     "views": [
      {
       "cell_index": 4
      }
     ]
    },
    "599feadd-77aa-40aa-aa5e-2ffb2851c121": {
     "views": [
      {
       "cell_index": 4
      }
     ]
    },
    "68458738-3368-4aee-99b4-51dbd5b217f9": {
     "views": [
      {
       "cell_index": 4
      }
     ]
    },
    "7f88f2c3-05ba-4d17-aed2-6f8749f7578c": {
     "views": [
      {
       "cell_index": 4
      }
     ]
    },
    "81469ad7-0c1f-4f7a-919a-2ba8dc6f7305": {
     "views": [
      {
       "cell_index": 4
      }
     ]
    },
    "8d55aed0-a0de-45bd-8e12-411d9979476f": {
     "views": [
      {
       "cell_index": 4
      }
     ]
    },
    "913da312-3643-4c85-be42-ab7e66ee1269": {
     "views": [
      {
       "cell_index": 4
      }
     ]
    },
    "96748b07-2faf-4af0-8c18-693b3f67e285": {
     "views": [
      {
       "cell_index": 4
      }
     ]
    },
    "a98bbf86-eeb8-4211-9168-f94ff1a5a2f6": {
     "views": [
      {
       "cell_index": 4
      }
     ]
    },
    "ac86e10f-08c4-4058-87cf-e2d0039c2234": {
     "views": [
      {
       "cell_index": 4
      }
     ]
    },
    "ae52d31c-8348-41b7-946c-ee580a8f5788": {
     "views": [
      {
       "cell_index": 4
      }
     ]
    },
    "ae8a1a90-16e2-4399-b02f-23c82b65025a": {
     "views": [
      {
       "cell_index": 4
      }
     ]
    },
    "affc05b9-4fc5-4092-894d-396aa4d02da7": {
     "views": [
      {
       "cell_index": 4
      }
     ]
    },
    "b05fd527-27a1-420e-9ad4-be1dfad7ec0d": {
     "views": [
      {
       "cell_index": 4
      }
     ]
    },
    "b0b4f774-42fc-429d-ad7f-8169911831bf": {
     "views": [
      {
       "cell_index": 4
      }
     ]
    },
    "b8e05935-7d97-41bb-82c3-36991c77178d": {
     "views": [
      {
       "cell_index": 4
      }
     ]
    },
    "bbbcc4ff-fbcb-4e84-85d9-9ceb1f668c2e": {
     "views": [
      {
       "cell_index": 4
      }
     ]
    },
    "bd46b8ae-a940-4ae1-9bf1-4b6aab9e4853": {
     "views": [
      {
       "cell_index": 4
      }
     ]
    },
    "c2041584-a1d4-4d5e-b5e3-3638da9d28f7": {
     "views": [
      {
       "cell_index": 5
      }
     ]
    },
    "ceb3ff14-8342-4bc1-8977-66eac6daf3c7": {
     "views": [
      {
       "cell_index": 5
      }
     ]
    },
    "d1147795-35d8-429c-b23b-0e4c303080cc": {
     "views": [
      {
       "cell_index": 5
      }
     ]
    },
    "d575a5a3-e0be-47c9-9162-625534433e2b": {
     "views": [
      {
       "cell_index": 4
      }
     ]
    },
    "d70b9dee-8363-4cb0-a98d-99958b722b63": {
     "views": [
      {
       "cell_index": 4
      }
     ]
    },
    "dd5de7b6-c353-4bc1-98b1-9e63673f604d": {
     "views": [
      {
       "cell_index": 4
      }
     ]
    },
    "defdbd28-6595-44cd-83e8-b968bb7ee100": {
     "views": [
      {
       "cell_index": 4
      }
     ]
    },
    "e705f5c5-db50-478e-af98-0e682be600b7": {
     "views": [
      {
       "cell_index": 4
      }
     ]
    },
    "eb3b6931-ff4f-439b-aeb2-65a20c7f077d": {
     "views": [
      {
       "cell_index": 4
      }
     ]
    },
    "eb4b0edf-36d5-4614-9072-b3e70b14498f": {
     "views": [
      {
       "cell_index": 4
      }
     ]
    },
    "f03929ed-953c-4e1f-a0bf-a938ca6250cb": {
     "views": [
      {
       "cell_index": 4
      }
     ]
    },
    "f1d16743-a131-4286-9b50-701c4627e3f0": {
     "views": [
      {
       "cell_index": 4
      }
     ]
    },
    "f264ce93-b0a2-4259-9fa0-f7a2ea7a288b": {
     "views": [
      {
       "cell_index": 5
      }
     ]
    }
   },
   "version": "1.2.0"
  }
 },
 "nbformat": 4,
 "nbformat_minor": 0
}
