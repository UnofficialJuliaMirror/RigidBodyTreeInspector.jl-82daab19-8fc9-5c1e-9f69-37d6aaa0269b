{
 "cells": [
  {
   "cell_type": "code",
   "execution_count": 1,
   "metadata": {
    "collapsed": false
   },
   "outputs": [
    {
     "data": {
      "text/html": [
       "<div id=\"interact-js-shim\">\n",
       "    <script charset=\"utf-8\">\n",
       "(function (IPython, $, _, MathJax) {\n",
       "    $.event.special.destroyed = {\n",
       "\tremove: function(o) {\n",
       "\t    if (o.handler) {\n",
       "\t\to.handler.apply(this, arguments)\n",
       "\t    }\n",
       "\t}\n",
       "    }\n",
       "\n",
       "    var OutputArea = IPython.version >= \"4.0.0\" ? require(\"notebook/js/outputarea\").OutputArea : IPython.OutputArea;\n",
       "\n",
       "    var redrawValue = function (container, type, val) {\n",
       "\tvar selector = $(\"<div/>\");\n",
       "\tvar oa = new OutputArea(_.extend(selector, {\n",
       "\t    selector: selector,\n",
       "\t    prompt_area: true,\n",
       "\t    events: IPython.events,\n",
       "\t    keyboard_manager: IPython.keyboard_manager\n",
       "\t})); // Hack to work with IPython 2.1.0\n",
       "\n",
       "\tswitch (type) {\n",
       "\tcase \"image/png\":\n",
       "            var _src = 'data:' + type + ';base64,' + val;\n",
       "\t    $(container).find(\"img\").attr('src', _src);\n",
       "\t    break;\n",
       "\tcase \"text/latex\":\n",
       "\t\tif (MathJax){\n",
       "\t\t\tvar math = MathJax.Hub.getAllJax(container)[0];\n",
       "\t\t\tMathJax.Hub.Queue([\"Text\", math, val.replace(/^\\${1,2}|\\${1,2}$/g, '')]);\n",
       "\t\t\tbreak;\n",
       "\t\t}\n",
       "\tdefault:\n",
       "\t    var toinsert = OutputArea.append_map[type].apply(\n",
       "\t\toa, [val, {}, selector]\n",
       "\t    );\n",
       "\t    $(container).empty().append(toinsert.contents());\n",
       "\t    selector.remove();\n",
       "\t}\n",
       "    }\n",
       "\n",
       "\n",
       "    $(document).ready(function() {\n",
       "\tfunction initComm(evt, data) {\n",
       "\t    var comm_manager = data.kernel.comm_manager;\n",
       "        //_.extend(comm_manager.targets, require(\"widgets/js/widget\"))\n",
       "\t    comm_manager.register_target(\"Signal\", function (comm) {\n",
       "            comm.on_msg(function (msg) {\n",
       "                var val = msg.content.data.value;\n",
       "                $(\".signal-\" + comm.comm_id).each(function() {\n",
       "                var type = $(this).data(\"type\");\n",
       "                if (typeof(val[type]) !== \"undefined\" && val[type] !== null) {\n",
       "                    redrawValue(this, type, val[type], type);\n",
       "                }\n",
       "                });\n",
       "                delete val;\n",
       "                delete msg.content.data.value;\n",
       "            });\n",
       "\t    });\n",
       "\n",
       "\t    // coordingate with Comm and redraw Signals\n",
       "\t    // XXX: Test using Reactive here to improve performance\n",
       "\t    $([IPython.events]).on(\n",
       "\t\t'output_appended.OutputArea', function (event, type, value, md, toinsert) {\n",
       "\t\t    if (md && md.reactive) {\n",
       "                // console.log(md.comm_id);\n",
       "                toinsert.addClass(\"signal-\" + md.comm_id);\n",
       "                toinsert.data(\"type\", type);\n",
       "                // Signal back indicating the mimetype required\n",
       "                var comm_manager = IPython.notebook.kernel.comm_manager;\n",
       "                var comm = comm_manager.comms[md.comm_id];\n",
       "                comm.then(function (c) {\n",
       "                    c.send({action: \"subscribe_mime\",\n",
       "                       mime: type});\n",
       "                    toinsert.bind(\"destroyed\", function() {\n",
       "                        c.send({action: \"unsubscribe_mime\",\n",
       "                               mime: type});\n",
       "                    });\n",
       "                })\n",
       "\t\t    }\n",
       "\t    });\n",
       "\t}\n",
       "\n",
       "\ttry {\n",
       "\t    // try to initialize right away. otherwise, wait on the status_started event.\n",
       "\t    initComm(undefined, IPython.notebook);\n",
       "\t} catch (e) {\n",
       "\t    $([IPython.events]).on('kernel_created.Kernel kernel_created.Session', initComm);\n",
       "\t}\n",
       "    });\n",
       "})(IPython, jQuery, _, MathJax);\n",
       "</script>\n",
       "    <script>\n",
       "        window.interactLoadedFlag = true\n",
       "       $(\"#interact-js-shim\").bind(\"destroyed\", function () {\n",
       "           if (window.interactLoadedFlag) {\n",
       "               console.warn(\"JavaScript required by Interact will be removed if you remove this cell or run using Interact more than once.\")\n",
       "           }\n",
       "       })\n",
       "       $([IPython.events]).on(\"kernel_starting.Kernel kernel_restarting.Kernel\", function () { window.interactLoadedFlag = false })\n",
       "   </script>\n",
       "</div>"
      ]
     },
     "metadata": {},
     "output_type": "display_data"
    }
   ],
   "source": [
    "using RigidBodyDynamics\n",
    "using RigidBodyTreeInspector\n",
    "using Interact"
   ]
  },
  {
   "cell_type": "code",
   "execution_count": 2,
   "metadata": {
    "collapsed": false
   },
   "outputs": [
    {
     "data": {
      "text/plain": [
       "true"
      ]
     },
     "execution_count": 2,
     "metadata": {},
     "output_type": "execute_result"
    }
   ],
   "source": [
    "# Open the viewer application\n",
    "DrakeVisualizer.any_open_windows() || DrakeVisualizer.new_window()"
   ]
  },
  {
   "cell_type": "code",
   "execution_count": 14,
   "metadata": {
    "collapsed": false
   },
   "outputs": [
    {
     "data": {
      "text/plain": [
       "Vertex: world (root)"
      ]
     },
     "execution_count": 14,
     "metadata": {},
     "output_type": "execute_result"
    }
   ],
   "source": [
    "# Construct a mechanism\n",
    "mechanism = rand_chain_mechanism(Float64, [QuaternionFloating{Float64}; [Revolute{Float64} for i = 1:5]]...)"
   ]
  },
  {
   "cell_type": "code",
   "execution_count": 4,
   "metadata": {
    "collapsed": false
   },
   "outputs": [
    {
     "data": {
      "text/plain": [
       "Visualizer with path prefix Symbol[:robot1] using LCM LCMCore.LCM(Ptr{Void} @0x00000000037cc580,\"\",RawFD(47),LCMCore.Subscription[LCMCore.Subscription{LCMCore.SubscriptionOptions{DrakeVisualizer.Comms.CommsT,DrakeVisualizer.#handle_msg#7{DrakeVisualizer.CoreVisualizer}}}(LCMCore.SubscriptionOptions{DrakeVisualizer.Comms.CommsT,DrakeVisualizer.#handle_msg#7{DrakeVisualizer.CoreVisualizer}}(DrakeVisualizer.Comms.CommsT,DrakeVisualizer.handle_msg),Ptr{Void} @0x00000000037cd960)])"
      ]
     },
     "execution_count": 4,
     "metadata": {},
     "output_type": "execute_result"
    }
   ],
   "source": [
    "# Construct the visualizer interface, and get the :robot1 subtree\n",
    "vis = DrakeVisualizer.Visualizer()[:robot1]"
   ]
  },
  {
   "cell_type": "code",
   "execution_count": 5,
   "metadata": {
    "collapsed": false
   },
   "outputs": [
    {
     "data": {
      "text/plain": [
       "Set{Array{Symbol,1}}()"
      ]
     },
     "execution_count": 5,
     "metadata": {},
     "output_type": "execute_result"
    }
   ],
   "source": [
    "# Load the mechanism's geometry into the visualizer\n",
    "RigidBodyTreeInspector.setgeometry!(vis, RigidBodyTreeInspector.create_geometry(mechanism))\n",
    "\n",
    "# We can draw the mechanism at a single state:\n",
    "state = MechanismState(Float64, mechanism)\n",
    "RigidBodyTreeInspector.settransform!(vis, state)"
   ]
  },
  {
   "cell_type": "code",
   "execution_count": 6,
   "metadata": {
    "collapsed": false
   },
   "outputs": [
    {
     "data": {
      "text/html": [],
      "text/plain": [
       "Interact.Options{:SelectionSlider,Float64}(Signal{Float64}(0.0, nactions=1),\"joint1.1\",0.0,\"0.0\",Interact.OptionDict(DataStructures.OrderedDict(\"-3.141592653589793\"=>-3.14159,\"-3.015928947446201\"=>-3.01593,\"-2.8902652413026093\"=>-2.89027,\"-2.7646015351590183\"=>-2.7646,\"-2.6389378290154264\"=>-2.63894,\"-2.5132741228718345\"=>-2.51327,\"-2.3876104167282426\"=>-2.38761,\"-2.261946710584651\"=>-2.26195,\"-2.1362830044410597\"=>-2.13628,\"-2.0106192982974673\"=>-2.01062…),Dict(2.13628=>\"2.1362830044410597\",-3.01593=>\"-3.015928947446201\",-2.13628=>\"-2.1362830044410597\",1.88496=>\"1.8849555921538756\",1.75929=>\"1.7592918860102842\",2.63894=>\"2.6389378290154264\",-0.376991=>\"-0.3769911184307753\",0.251327=>\"0.25132741228718347\",-2.51327=>\"-2.5132741228718345\",1.25664=>\"1.2566370614359172\"…)),Any[],Any[],true,\"horizontal\")"
      ]
     },
     "metadata": {},
     "output_type": "display_data"
    },
    {
     "data": {
      "text/html": [],
      "text/plain": [
       "Interact.Options{:SelectionSlider,Float64}(Signal{Float64}(0.0, nactions=1),\"joint1.2\",0.0,\"0.0\",Interact.OptionDict(DataStructures.OrderedDict(\"-3.141592653589793\"=>-3.14159,\"-3.015928947446201\"=>-3.01593,\"-2.8902652413026093\"=>-2.89027,\"-2.7646015351590183\"=>-2.7646,\"-2.6389378290154264\"=>-2.63894,\"-2.5132741228718345\"=>-2.51327,\"-2.3876104167282426\"=>-2.38761,\"-2.261946710584651\"=>-2.26195,\"-2.1362830044410597\"=>-2.13628,\"-2.0106192982974673\"=>-2.01062…),Dict(2.13628=>\"2.1362830044410597\",-3.01593=>\"-3.015928947446201\",-2.13628=>\"-2.1362830044410597\",1.88496=>\"1.8849555921538756\",1.75929=>\"1.7592918860102842\",2.63894=>\"2.6389378290154264\",-0.376991=>\"-0.3769911184307753\",0.251327=>\"0.25132741228718347\",-2.51327=>\"-2.5132741228718345\",1.25664=>\"1.2566370614359172\"…)),Any[],Any[],true,\"horizontal\")"
      ]
     },
     "metadata": {},
     "output_type": "display_data"
    },
    {
     "data": {
      "text/html": [],
      "text/plain": [
       "Interact.Options{:SelectionSlider,Float64}(Signal{Float64}(0.0, nactions=1),\"joint1.3\",0.0,\"0.0\",Interact.OptionDict(DataStructures.OrderedDict(\"-3.141592653589793\"=>-3.14159,\"-3.015928947446201\"=>-3.01593,\"-2.8902652413026093\"=>-2.89027,\"-2.7646015351590183\"=>-2.7646,\"-2.6389378290154264\"=>-2.63894,\"-2.5132741228718345\"=>-2.51327,\"-2.3876104167282426\"=>-2.38761,\"-2.261946710584651\"=>-2.26195,\"-2.1362830044410597\"=>-2.13628,\"-2.0106192982974673\"=>-2.01062…),Dict(2.13628=>\"2.1362830044410597\",-3.01593=>\"-3.015928947446201\",-2.13628=>\"-2.1362830044410597\",1.88496=>\"1.8849555921538756\",1.75929=>\"1.7592918860102842\",2.63894=>\"2.6389378290154264\",-0.376991=>\"-0.3769911184307753\",0.251327=>\"0.25132741228718347\",-2.51327=>\"-2.5132741228718345\",1.25664=>\"1.2566370614359172\"…)),Any[],Any[],true,\"horizontal\")"
      ]
     },
     "metadata": {},
     "output_type": "display_data"
    },
    {
     "data": {
      "text/html": [],
      "text/plain": [
       "Interact.Options{:SelectionSlider,Float64}(Signal{Float64}(0.0, nactions=1),\"joint1.4\",0.0,\"0.0\",Interact.OptionDict(DataStructures.OrderedDict(\"-3.141592653589793\"=>-3.14159,\"-3.015928947446201\"=>-3.01593,\"-2.8902652413026093\"=>-2.89027,\"-2.7646015351590183\"=>-2.7646,\"-2.6389378290154264\"=>-2.63894,\"-2.5132741228718345\"=>-2.51327,\"-2.3876104167282426\"=>-2.38761,\"-2.261946710584651\"=>-2.26195,\"-2.1362830044410597\"=>-2.13628,\"-2.0106192982974673\"=>-2.01062…),Dict(2.13628=>\"2.1362830044410597\",-3.01593=>\"-3.015928947446201\",-2.13628=>\"-2.1362830044410597\",1.88496=>\"1.8849555921538756\",1.75929=>\"1.7592918860102842\",2.63894=>\"2.6389378290154264\",-0.376991=>\"-0.3769911184307753\",0.251327=>\"0.25132741228718347\",-2.51327=>\"-2.5132741228718345\",1.25664=>\"1.2566370614359172\"…)),Any[],Any[],true,\"horizontal\")"
      ]
     },
     "metadata": {},
     "output_type": "display_data"
    },
    {
     "data": {
      "text/html": [],
      "text/plain": [
       "Interact.Options{:SelectionSlider,Float64}(Signal{Float64}(0.0, nactions=1),\"joint1.5\",0.0,\"0.0\",Interact.OptionDict(DataStructures.OrderedDict(\"-3.141592653589793\"=>-3.14159,\"-3.015928947446201\"=>-3.01593,\"-2.8902652413026093\"=>-2.89027,\"-2.7646015351590183\"=>-2.7646,\"-2.6389378290154264\"=>-2.63894,\"-2.5132741228718345\"=>-2.51327,\"-2.3876104167282426\"=>-2.38761,\"-2.261946710584651\"=>-2.26195,\"-2.1362830044410597\"=>-2.13628,\"-2.0106192982974673\"=>-2.01062…),Dict(2.13628=>\"2.1362830044410597\",-3.01593=>\"-3.015928947446201\",-2.13628=>\"-2.1362830044410597\",1.88496=>\"1.8849555921538756\",1.75929=>\"1.7592918860102842\",2.63894=>\"2.6389378290154264\",-0.376991=>\"-0.3769911184307753\",0.251327=>\"0.25132741228718347\",-2.51327=>\"-2.5132741228718345\",1.25664=>\"1.2566370614359172\"…)),Any[],Any[],true,\"horizontal\")"
      ]
     },
     "metadata": {},
     "output_type": "display_data"
    },
    {
     "data": {
      "text/html": [],
      "text/plain": [
       "Interact.Options{:SelectionSlider,Float64}(Signal{Float64}(0.0, nactions=1),\"joint1.6\",0.0,\"0.0\",Interact.OptionDict(DataStructures.OrderedDict(\"-3.141592653589793\"=>-3.14159,\"-3.015928947446201\"=>-3.01593,\"-2.8902652413026093\"=>-2.89027,\"-2.7646015351590183\"=>-2.7646,\"-2.6389378290154264\"=>-2.63894,\"-2.5132741228718345\"=>-2.51327,\"-2.3876104167282426\"=>-2.38761,\"-2.261946710584651\"=>-2.26195,\"-2.1362830044410597\"=>-2.13628,\"-2.0106192982974673\"=>-2.01062…),Dict(2.13628=>\"2.1362830044410597\",-3.01593=>\"-3.015928947446201\",-2.13628=>\"-2.1362830044410597\",1.88496=>\"1.8849555921538756\",1.75929=>\"1.7592918860102842\",2.63894=>\"2.6389378290154264\",-0.376991=>\"-0.3769911184307753\",0.251327=>\"0.25132741228718347\",-2.51327=>\"-2.5132741228718345\",1.25664=>\"1.2566370614359172\"…)),Any[],Any[],true,\"horizontal\")"
      ]
     },
     "metadata": {},
     "output_type": "display_data"
    },
    {
     "data": {
      "text/html": [],
      "text/plain": [
       "Interact.Options{:SelectionSlider,Float64}(Signal{Float64}(0.0, nactions=1),\"joint2.1\",0.0,\"0.0\",Interact.OptionDict(DataStructures.OrderedDict(\"-3.141592653589793\"=>-3.14159,\"-3.015928947446201\"=>-3.01593,\"-2.8902652413026093\"=>-2.89027,\"-2.7646015351590183\"=>-2.7646,\"-2.6389378290154264\"=>-2.63894,\"-2.5132741228718345\"=>-2.51327,\"-2.3876104167282426\"=>-2.38761,\"-2.261946710584651\"=>-2.26195,\"-2.1362830044410597\"=>-2.13628,\"-2.0106192982974673\"=>-2.01062…),Dict(2.13628=>\"2.1362830044410597\",-3.01593=>\"-3.015928947446201\",-2.13628=>\"-2.1362830044410597\",1.88496=>\"1.8849555921538756\",1.75929=>\"1.7592918860102842\",2.63894=>\"2.6389378290154264\",-0.376991=>\"-0.3769911184307753\",0.251327=>\"0.25132741228718347\",-2.51327=>\"-2.5132741228718345\",1.25664=>\"1.2566370614359172\"…)),Any[],Any[],true,\"horizontal\")"
      ]
     },
     "metadata": {},
     "output_type": "display_data"
    },
    {
     "data": {
      "text/html": [],
      "text/plain": [
       "Interact.Options{:SelectionSlider,Float64}(Signal{Float64}(0.0, nactions=1),\"joint3.1\",0.0,\"0.0\",Interact.OptionDict(DataStructures.OrderedDict(\"-3.141592653589793\"=>-3.14159,\"-3.015928947446201\"=>-3.01593,\"-2.8902652413026093\"=>-2.89027,\"-2.7646015351590183\"=>-2.7646,\"-2.6389378290154264\"=>-2.63894,\"-2.5132741228718345\"=>-2.51327,\"-2.3876104167282426\"=>-2.38761,\"-2.261946710584651\"=>-2.26195,\"-2.1362830044410597\"=>-2.13628,\"-2.0106192982974673\"=>-2.01062…),Dict(2.13628=>\"2.1362830044410597\",-3.01593=>\"-3.015928947446201\",-2.13628=>\"-2.1362830044410597\",1.88496=>\"1.8849555921538756\",1.75929=>\"1.7592918860102842\",2.63894=>\"2.6389378290154264\",-0.376991=>\"-0.3769911184307753\",0.251327=>\"0.25132741228718347\",-2.51327=>\"-2.5132741228718345\",1.25664=>\"1.2566370614359172\"…)),Any[],Any[],true,\"horizontal\")"
      ]
     },
     "metadata": {},
     "output_type": "display_data"
    },
    {
     "data": {
      "text/html": [],
      "text/plain": [
       "Interact.Options{:SelectionSlider,Float64}(Signal{Float64}(0.0, nactions=1),\"joint4.1\",0.0,\"0.0\",Interact.OptionDict(DataStructures.OrderedDict(\"-3.141592653589793\"=>-3.14159,\"-3.015928947446201\"=>-3.01593,\"-2.8902652413026093\"=>-2.89027,\"-2.7646015351590183\"=>-2.7646,\"-2.6389378290154264\"=>-2.63894,\"-2.5132741228718345\"=>-2.51327,\"-2.3876104167282426\"=>-2.38761,\"-2.261946710584651\"=>-2.26195,\"-2.1362830044410597\"=>-2.13628,\"-2.0106192982974673\"=>-2.01062…),Dict(2.13628=>\"2.1362830044410597\",-3.01593=>\"-3.015928947446201\",-2.13628=>\"-2.1362830044410597\",1.88496=>\"1.8849555921538756\",1.75929=>\"1.7592918860102842\",2.63894=>\"2.6389378290154264\",-0.376991=>\"-0.3769911184307753\",0.251327=>\"0.25132741228718347\",-2.51327=>\"-2.5132741228718345\",1.25664=>\"1.2566370614359172\"…)),Any[],Any[],true,\"horizontal\")"
      ]
     },
     "metadata": {},
     "output_type": "display_data"
    },
    {
     "data": {
      "text/html": [],
      "text/plain": [
       "Interact.Options{:SelectionSlider,Float64}(Signal{Float64}(0.0, nactions=1),\"joint5.1\",0.0,\"0.0\",Interact.OptionDict(DataStructures.OrderedDict(\"-3.141592653589793\"=>-3.14159,\"-3.015928947446201\"=>-3.01593,\"-2.8902652413026093\"=>-2.89027,\"-2.7646015351590183\"=>-2.7646,\"-2.6389378290154264\"=>-2.63894,\"-2.5132741228718345\"=>-2.51327,\"-2.3876104167282426\"=>-2.38761,\"-2.261946710584651\"=>-2.26195,\"-2.1362830044410597\"=>-2.13628,\"-2.0106192982974673\"=>-2.01062…),Dict(2.13628=>\"2.1362830044410597\",-3.01593=>\"-3.015928947446201\",-2.13628=>\"-2.1362830044410597\",1.88496=>\"1.8849555921538756\",1.75929=>\"1.7592918860102842\",2.63894=>\"2.6389378290154264\",-0.376991=>\"-0.3769911184307753\",0.251327=>\"0.25132741228718347\",-2.51327=>\"-2.5132741228718345\",1.25664=>\"1.2566370614359172\"…)),Any[],Any[],true,\"horizontal\")"
      ]
     },
     "metadata": {},
     "output_type": "display_data"
    },
    {
     "data": {
      "text/html": [],
      "text/plain": [
       "Interact.Options{:SelectionSlider,Float64}(Signal{Float64}(0.0, nactions=1),\"joint6.1\",0.0,\"0.0\",Interact.OptionDict(DataStructures.OrderedDict(\"-3.141592653589793\"=>-3.14159,\"-3.015928947446201\"=>-3.01593,\"-2.8902652413026093\"=>-2.89027,\"-2.7646015351590183\"=>-2.7646,\"-2.6389378290154264\"=>-2.63894,\"-2.5132741228718345\"=>-2.51327,\"-2.3876104167282426\"=>-2.38761,\"-2.261946710584651\"=>-2.26195,\"-2.1362830044410597\"=>-2.13628,\"-2.0106192982974673\"=>-2.01062…),Dict(2.13628=>\"2.1362830044410597\",-3.01593=>\"-3.015928947446201\",-2.13628=>\"-2.1362830044410597\",1.88496=>\"1.8849555921538756\",1.75929=>\"1.7592918860102842\",2.63894=>\"2.6389378290154264\",-0.376991=>\"-0.3769911184307753\",0.251327=>\"0.25132741228718347\",-2.51327=>\"-2.5132741228718345\",1.25664=>\"1.2566370614359172\"…)),Any[],Any[],true,\"horizontal\")"
      ]
     },
     "metadata": {},
     "output_type": "display_data"
    }
   ],
   "source": [
    "# Or we can interactively explore the degrees of freedom of the mechanism.\n",
    "# Note that the quaternion floating base joint, \"joint1\", has been given \n",
    "# six sliders. The first three correspond to the exponential map representation\n",
    "# of its rotation, and the next three correspond to its translation. \n",
    "RigidBodyTreeInspector.inspect(mechanism; show_inertias=true, randomize_colors=true);"
   ]
  },
  {
   "cell_type": "code",
   "execution_count": 7,
   "metadata": {
    "collapsed": false
   },
   "outputs": [],
   "source": [
    "# We can also animate the mechanism, given a time sequence of states.\n",
    "# States will be linearly interpolated between the knot points.\n",
    "times = collect(linspace(0, 10, 3))\n",
    "configurations = Vector{Vector{Float64}}(length(times))\n",
    "for i = 1:length(times)\n",
    "    rand_configuration!(state)\n",
    "    configurations[i] = copy(configuration_vector(state))\n",
    "end\n",
    "setgeometry!(vis, create_geometry(mechanism))\n",
    "animate(vis, mechanism, times, configurations; fps = 60., realtimerate = 1.)"
   ]
  },
  {
   "cell_type": "code",
   "execution_count": 8,
   "metadata": {
    "collapsed": false
   },
   "outputs": [],
   "source": [
    "# We can simulate a mechanism from an initial state. We'll use a mechanism\n",
    "# without a QuaternionFloating joint so that it doesn't just fall straight down.\n",
    "mechanism = rand_chain_mechanism(Float64, [Revolute{Float64} for i = 1:10]...)\n",
    "vis = Visualizer()[:robot2]\n",
    "setgeometry!(vis, create_geometry(mechanism))\n",
    "state = MechanismState(Float64, mechanism)\n",
    "settransform!(vis, state)\n",
    "times, configurations, velocities = simulate(state, 10.; Δt = 0.001);"
   ]
  },
  {
   "cell_type": "code",
   "execution_count": 9,
   "metadata": {
    "collapsed": false
   },
   "outputs": [],
   "source": [
    "# And we can animate the result in realtime\n",
    "animate(vis, mechanism, times, configurations)"
   ]
  },
  {
   "cell_type": "code",
   "execution_count": 10,
   "metadata": {
    "collapsed": false
   },
   "outputs": [
    {
     "data": {
      "text/html": [],
      "text/plain": [
       "Interact.Options{:SelectionSlider,Int64}(Signal{Int64}(5001, nactions=1),\"i\",5001,\"5001\",Interact.OptionDict(DataStructures.OrderedDict(\"1\"=>1,\"2\"=>2,\"3\"=>3,\"4\"=>4,\"5\"=>5,\"6\"=>6,\"7\"=>7,\"8\"=>8,\"9\"=>9,\"10\"=>10…),Dict(9775=>\"9775\",2843=>\"2843\",4495=>\"4495\",6928=>\"6928\",9905=>\"9905\",6380=>\"6380\",1316=>\"1316\",6265=>\"6265\",5459=>\"5459\",5842=>\"5842\"…)),Any[],Any[],true,\"horizontal\")"
      ]
     },
     "metadata": {},
     "output_type": "display_data"
    },
    {
     "data": {
      "text/plain": [
       "5.000000000000004"
      ]
     },
     "execution_count": 10,
     "metadata": {
      "comm_id": "cca4bdf6-d507-49f2-b785-324d7207e18c",
      "reactive": true
     },
     "output_type": "execute_result"
    }
   ],
   "source": [
    "# We can also inspect individual frames from the simulation\n",
    "@manipulate for i in 1:length(times)\n",
    "    set_configuration!(state, configurations[i])\n",
    "    set_velocity!(state, velocities[i])\n",
    "    settransform!(vis, state)\n",
    "    times[i]\n",
    "end"
   ]
  }
 ],
 "metadata": {
  "kernelspec": {
   "display_name": "Julia 0.5.0",
   "language": "julia",
   "name": "julia-0.5"
  },
  "language_info": {
   "file_extension": ".jl",
   "mimetype": "application/julia",
   "name": "julia",
   "version": "0.5.0"
  },
  "widgets": {
   "state": {
    "1ea012c8-020e-409f-a2e9-8d72fae9de3a": {
     "views": [
      {
       "cell_index": 5
      }
     ]
    },
    "285c4d4b-f6b0-43b2-bff0-40ff816b74f8": {
     "views": [
      {
       "cell_index": 5
      }
     ]
    },
    "2aee4b6f-76f2-4043-b89e-5ddea2a262ee": {
     "views": [
      {
       "cell_index": 5
      }
     ]
    },
    "31f67689-a9c8-4450-a68f-ad38445b0bb4": {
     "views": [
      {
       "cell_index": 5
      }
     ]
    },
    "3427ea9d-85de-4161-b75c-4d5f54bd6bbd": {
     "views": [
      {
       "cell_index": 5
      }
     ]
    },
    "59e6f952-fb71-4e78-874b-891f1fbd4947": {
     "views": [
      {
       "cell_index": 5
      }
     ]
    },
    "62736fc5-b20c-4cd5-bf1c-ac8f351e8624": {
     "views": [
      {
       "cell_index": 5
      }
     ]
    },
    "642058b1-e8a5-4952-9edc-7763f869ae16": {
     "views": [
      {
       "cell_index": 5
      }
     ]
    },
    "69d48603-375d-42f0-8b57-bea5fe112a71": {
     "views": [
      {
       "cell_index": 5
      }
     ]
    },
    "70fdb130-47c6-4ed3-9558-58bb9f205d93": {
     "views": [
      {
       "cell_index": 5
      }
     ]
    },
    "7c188080-3710-43d9-ad76-1247faedc71f": {
     "views": [
      {
       "cell_index": 5
      }
     ]
    },
    "80a61573-67c5-4bc2-ba41-240dd0a8f0b8": {
     "views": [
      {
       "cell_index": 5
      }
     ]
    },
    "8f55ded2-a40a-4989-9922-8372f28717d6": {
     "views": [
      {
       "cell_index": 5
      }
     ]
    },
    "9ed6ed6f-e11b-4abb-bc7c-b6d4b1a0f816": {
     "views": [
      {
       "cell_index": 5
      }
     ]
    },
    "a5dfc3a0-2c98-4329-b835-af4471860708": {
     "views": [
      {
       "cell_index": 5
      }
     ]
    },
    "a8549d31-968c-4774-8650-eb501af47c75": {
     "views": [
      {
       "cell_index": 9
      }
     ]
    },
    "ca303015-7cac-4d03-abd1-006c4f481755": {
     "views": [
      {
       "cell_index": 5
      }
     ]
    },
    "d5aa5132-72d7-4bac-907f-9facdff5f9e8": {
     "views": [
      {
       "cell_index": 5
      }
     ]
    },
    "dd58993d-21fd-49f6-bbf7-16d47211dceb": {
     "views": [
      {
       "cell_index": 5
      }
     ]
    },
    "ec26904e-47ac-436b-9487-7e2ae233d23f": {
     "views": [
      {
       "cell_index": 5
      }
     ]
    },
    "f180962c-98aa-4770-8afe-77c64c6b1317": {
     "views": [
      {
       "cell_index": 5
      }
     ]
    },
    "f636229b-5729-4e4d-bf62-a850b026a1b7": {
     "views": [
      {
       "cell_index": 5
      }
     ]
    }
   },
   "version": "1.2.0"
  }
 },
 "nbformat": 4,
 "nbformat_minor": 0
}
