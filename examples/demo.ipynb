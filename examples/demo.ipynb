{
 "cells": [
  {
   "cell_type": "code",
   "execution_count": 16,
   "metadata": {
    "collapsed": false
   },
   "outputs": [],
   "source": [
    "using RigidBodyDynamics\n",
    "using RigidBodyTreeInspector\n",
    "using Interact"
   ]
  },
  {
   "cell_type": "code",
   "execution_count": 2,
   "metadata": {
    "collapsed": false
   },
   "outputs": [
    {
     "data": {
      "text/plain": [
       "Vertex: world (root)\n",
       "  Vertex: body1, Edge: joint1\n",
       "    Vertex: body2, Edge: joint2\n",
       "      Vertex: body3, Edge: joint3\n",
       "        Vertex: body4, Edge: joint4\n",
       "          Vertex: body5, Edge: joint5\n",
       "            Vertex: body6, Edge: joint6"
      ]
     },
     "execution_count": 2,
     "metadata": {},
     "output_type": "execute_result"
    }
   ],
   "source": [
    "# Construct a mechanism\n",
    "mechanism = rand_chain_mechanism(Float64, [QuaternionFloating{Float64}; [Revolute{Float64} for i = 1:5]]...)"
   ]
  },
  {
   "cell_type": "code",
   "execution_count": 3,
   "metadata": {
    "collapsed": false
   },
   "outputs": [
    {
     "data": {
      "text/plain": [
       "Visualizer with path prefix Symbol[:robot1] using LCM LCMCore.LCM(Ptr{Void} @0x00007ff145731c20,RawFD(47),LCMCore.Subscription[LCMCore.Subscription{LCMCore.SubscriptionOptions{DrakeVisualizer.Comms.CommsT,DrakeVisualizer.#handle_msg#7{DrakeVisualizer.CoreVisualizer}}}(LCMCore.SubscriptionOptions{DrakeVisualizer.Comms.CommsT,DrakeVisualizer.#handle_msg#7{DrakeVisualizer.CoreVisualizer}}(DrakeVisualizer.Comms.CommsT,DrakeVisualizer.handle_msg),Ptr{Void} @0x00007ff146a24d90)])"
      ]
     },
     "execution_count": 3,
     "metadata": {},
     "output_type": "execute_result"
    }
   ],
   "source": [
    "# Construct the visualizer interface, and get the :robot1 subtree\n",
    "vis = DrakeVisualizer.Visualizer()[:robot1]"
   ]
  },
  {
   "cell_type": "code",
   "execution_count": 4,
   "metadata": {
    "collapsed": false
   },
   "outputs": [
    {
     "data": {
      "text/plain": [
       "true"
      ]
     },
     "execution_count": 4,
     "metadata": {},
     "output_type": "execute_result"
    }
   ],
   "source": [
    "# Load the mechanism's geometry into the visualizer\n",
    "setgeometry!(vis, create_geometry(mechanism))\n",
    "\n",
    "# We can draw the mechanism at a single state:\n",
    "state = MechanismState(Float64, mechanism)\n",
    "settransform!(vis, state)"
   ]
  },
  {
   "cell_type": "code",
   "execution_count": 8,
   "metadata": {
    "collapsed": false
   },
   "outputs": [
    {
     "data": {
      "text/html": [],
      "text/plain": [
       "Interact.Options{:SelectionSlider,Float64}(Signal{Float64}(0.0, nactions=1),\"joint1.1\",0.0,\"0.0\",Interact.OptionDict(DataStructures.OrderedDict(\"-3.141592653589793\"=>-3.14159,\"-3.015928947446201\"=>-3.01593,\"-2.8902652413026093\"=>-2.89027,\"-2.7646015351590183\"=>-2.7646,\"-2.6389378290154264\"=>-2.63894,\"-2.5132741228718345\"=>-2.51327,\"-2.3876104167282426\"=>-2.38761,\"-2.261946710584651\"=>-2.26195,\"-2.1362830044410597\"=>-2.13628,\"-2.0106192982974673\"=>-2.01062…),Dict(2.13628=>\"2.1362830044410597\",-3.01593=>\"-3.015928947446201\",-2.13628=>\"-2.1362830044410597\",1.88496=>\"1.8849555921538756\",1.75929=>\"1.7592918860102842\",2.63894=>\"2.6389378290154264\",-0.376991=>\"-0.3769911184307753\",0.251327=>\"0.25132741228718347\",-2.51327=>\"-2.5132741228718345\",1.25664=>\"1.2566370614359172\"…)),Any[],Any[],true,\"horizontal\")"
      ]
     },
     "metadata": {},
     "output_type": "display_data"
    },
    {
     "data": {
      "text/html": [],
      "text/plain": [
       "Interact.Options{:SelectionSlider,Float64}(Signal{Float64}(0.0, nactions=1),\"joint1.2\",0.0,\"0.0\",Interact.OptionDict(DataStructures.OrderedDict(\"-3.141592653589793\"=>-3.14159,\"-3.015928947446201\"=>-3.01593,\"-2.8902652413026093\"=>-2.89027,\"-2.7646015351590183\"=>-2.7646,\"-2.6389378290154264\"=>-2.63894,\"-2.5132741228718345\"=>-2.51327,\"-2.3876104167282426\"=>-2.38761,\"-2.261946710584651\"=>-2.26195,\"-2.1362830044410597\"=>-2.13628,\"-2.0106192982974673\"=>-2.01062…),Dict(2.13628=>\"2.1362830044410597\",-3.01593=>\"-3.015928947446201\",-2.13628=>\"-2.1362830044410597\",1.88496=>\"1.8849555921538756\",1.75929=>\"1.7592918860102842\",2.63894=>\"2.6389378290154264\",-0.376991=>\"-0.3769911184307753\",0.251327=>\"0.25132741228718347\",-2.51327=>\"-2.5132741228718345\",1.25664=>\"1.2566370614359172\"…)),Any[],Any[],true,\"horizontal\")"
      ]
     },
     "metadata": {},
     "output_type": "display_data"
    },
    {
     "data": {
      "text/html": [],
      "text/plain": [
       "Interact.Options{:SelectionSlider,Float64}(Signal{Float64}(0.0, nactions=1),\"joint1.3\",0.0,\"0.0\",Interact.OptionDict(DataStructures.OrderedDict(\"-3.141592653589793\"=>-3.14159,\"-3.015928947446201\"=>-3.01593,\"-2.8902652413026093\"=>-2.89027,\"-2.7646015351590183\"=>-2.7646,\"-2.6389378290154264\"=>-2.63894,\"-2.5132741228718345\"=>-2.51327,\"-2.3876104167282426\"=>-2.38761,\"-2.261946710584651\"=>-2.26195,\"-2.1362830044410597\"=>-2.13628,\"-2.0106192982974673\"=>-2.01062…),Dict(2.13628=>\"2.1362830044410597\",-3.01593=>\"-3.015928947446201\",-2.13628=>\"-2.1362830044410597\",1.88496=>\"1.8849555921538756\",1.75929=>\"1.7592918860102842\",2.63894=>\"2.6389378290154264\",-0.376991=>\"-0.3769911184307753\",0.251327=>\"0.25132741228718347\",-2.51327=>\"-2.5132741228718345\",1.25664=>\"1.2566370614359172\"…)),Any[],Any[],true,\"horizontal\")"
      ]
     },
     "metadata": {},
     "output_type": "display_data"
    },
    {
     "data": {
      "text/html": [],
      "text/plain": [
       "Interact.Options{:SelectionSlider,Float64}(Signal{Float64}(0.0, nactions=1),\"joint1.4\",0.0,\"0.0\",Interact.OptionDict(DataStructures.OrderedDict(\"-3.141592653589793\"=>-3.14159,\"-3.015928947446201\"=>-3.01593,\"-2.8902652413026093\"=>-2.89027,\"-2.7646015351590183\"=>-2.7646,\"-2.6389378290154264\"=>-2.63894,\"-2.5132741228718345\"=>-2.51327,\"-2.3876104167282426\"=>-2.38761,\"-2.261946710584651\"=>-2.26195,\"-2.1362830044410597\"=>-2.13628,\"-2.0106192982974673\"=>-2.01062…),Dict(2.13628=>\"2.1362830044410597\",-3.01593=>\"-3.015928947446201\",-2.13628=>\"-2.1362830044410597\",1.88496=>\"1.8849555921538756\",1.75929=>\"1.7592918860102842\",2.63894=>\"2.6389378290154264\",-0.376991=>\"-0.3769911184307753\",0.251327=>\"0.25132741228718347\",-2.51327=>\"-2.5132741228718345\",1.25664=>\"1.2566370614359172\"…)),Any[],Any[],true,\"horizontal\")"
      ]
     },
     "metadata": {},
     "output_type": "display_data"
    },
    {
     "data": {
      "text/html": [],
      "text/plain": [
       "Interact.Options{:SelectionSlider,Float64}(Signal{Float64}(0.0, nactions=1),\"joint1.5\",0.0,\"0.0\",Interact.OptionDict(DataStructures.OrderedDict(\"-3.141592653589793\"=>-3.14159,\"-3.015928947446201\"=>-3.01593,\"-2.8902652413026093\"=>-2.89027,\"-2.7646015351590183\"=>-2.7646,\"-2.6389378290154264\"=>-2.63894,\"-2.5132741228718345\"=>-2.51327,\"-2.3876104167282426\"=>-2.38761,\"-2.261946710584651\"=>-2.26195,\"-2.1362830044410597\"=>-2.13628,\"-2.0106192982974673\"=>-2.01062…),Dict(2.13628=>\"2.1362830044410597\",-3.01593=>\"-3.015928947446201\",-2.13628=>\"-2.1362830044410597\",1.88496=>\"1.8849555921538756\",1.75929=>\"1.7592918860102842\",2.63894=>\"2.6389378290154264\",-0.376991=>\"-0.3769911184307753\",0.251327=>\"0.25132741228718347\",-2.51327=>\"-2.5132741228718345\",1.25664=>\"1.2566370614359172\"…)),Any[],Any[],true,\"horizontal\")"
      ]
     },
     "metadata": {},
     "output_type": "display_data"
    },
    {
     "data": {
      "text/html": [],
      "text/plain": [
       "Interact.Options{:SelectionSlider,Float64}(Signal{Float64}(0.0, nactions=1),\"joint1.6\",0.0,\"0.0\",Interact.OptionDict(DataStructures.OrderedDict(\"-3.141592653589793\"=>-3.14159,\"-3.015928947446201\"=>-3.01593,\"-2.8902652413026093\"=>-2.89027,\"-2.7646015351590183\"=>-2.7646,\"-2.6389378290154264\"=>-2.63894,\"-2.5132741228718345\"=>-2.51327,\"-2.3876104167282426\"=>-2.38761,\"-2.261946710584651\"=>-2.26195,\"-2.1362830044410597\"=>-2.13628,\"-2.0106192982974673\"=>-2.01062…),Dict(2.13628=>\"2.1362830044410597\",-3.01593=>\"-3.015928947446201\",-2.13628=>\"-2.1362830044410597\",1.88496=>\"1.8849555921538756\",1.75929=>\"1.7592918860102842\",2.63894=>\"2.6389378290154264\",-0.376991=>\"-0.3769911184307753\",0.251327=>\"0.25132741228718347\",-2.51327=>\"-2.5132741228718345\",1.25664=>\"1.2566370614359172\"…)),Any[],Any[],true,\"horizontal\")"
      ]
     },
     "metadata": {},
     "output_type": "display_data"
    },
    {
     "data": {
      "text/html": [],
      "text/plain": [
       "Interact.Options{:SelectionSlider,Float64}(Signal{Float64}(0.0, nactions=1),\"joint2.1\",0.0,\"0.0\",Interact.OptionDict(DataStructures.OrderedDict(\"-3.141592653589793\"=>-3.14159,\"-3.015928947446201\"=>-3.01593,\"-2.8902652413026093\"=>-2.89027,\"-2.7646015351590183\"=>-2.7646,\"-2.6389378290154264\"=>-2.63894,\"-2.5132741228718345\"=>-2.51327,\"-2.3876104167282426\"=>-2.38761,\"-2.261946710584651\"=>-2.26195,\"-2.1362830044410597\"=>-2.13628,\"-2.0106192982974673\"=>-2.01062…),Dict(2.13628=>\"2.1362830044410597\",-3.01593=>\"-3.015928947446201\",-2.13628=>\"-2.1362830044410597\",1.88496=>\"1.8849555921538756\",1.75929=>\"1.7592918860102842\",2.63894=>\"2.6389378290154264\",-0.376991=>\"-0.3769911184307753\",0.251327=>\"0.25132741228718347\",-2.51327=>\"-2.5132741228718345\",1.25664=>\"1.2566370614359172\"…)),Any[],Any[],true,\"horizontal\")"
      ]
     },
     "metadata": {},
     "output_type": "display_data"
    },
    {
     "data": {
      "text/html": [],
      "text/plain": [
       "Interact.Options{:SelectionSlider,Float64}(Signal{Float64}(0.0, nactions=1),\"joint3.1\",0.0,\"0.0\",Interact.OptionDict(DataStructures.OrderedDict(\"-3.141592653589793\"=>-3.14159,\"-3.015928947446201\"=>-3.01593,\"-2.8902652413026093\"=>-2.89027,\"-2.7646015351590183\"=>-2.7646,\"-2.6389378290154264\"=>-2.63894,\"-2.5132741228718345\"=>-2.51327,\"-2.3876104167282426\"=>-2.38761,\"-2.261946710584651\"=>-2.26195,\"-2.1362830044410597\"=>-2.13628,\"-2.0106192982974673\"=>-2.01062…),Dict(2.13628=>\"2.1362830044410597\",-3.01593=>\"-3.015928947446201\",-2.13628=>\"-2.1362830044410597\",1.88496=>\"1.8849555921538756\",1.75929=>\"1.7592918860102842\",2.63894=>\"2.6389378290154264\",-0.376991=>\"-0.3769911184307753\",0.251327=>\"0.25132741228718347\",-2.51327=>\"-2.5132741228718345\",1.25664=>\"1.2566370614359172\"…)),Any[],Any[],true,\"horizontal\")"
      ]
     },
     "metadata": {},
     "output_type": "display_data"
    },
    {
     "data": {
      "text/html": [],
      "text/plain": [
       "Interact.Options{:SelectionSlider,Float64}(Signal{Float64}(0.0, nactions=1),\"joint4.1\",0.0,\"0.0\",Interact.OptionDict(DataStructures.OrderedDict(\"-3.141592653589793\"=>-3.14159,\"-3.015928947446201\"=>-3.01593,\"-2.8902652413026093\"=>-2.89027,\"-2.7646015351590183\"=>-2.7646,\"-2.6389378290154264\"=>-2.63894,\"-2.5132741228718345\"=>-2.51327,\"-2.3876104167282426\"=>-2.38761,\"-2.261946710584651\"=>-2.26195,\"-2.1362830044410597\"=>-2.13628,\"-2.0106192982974673\"=>-2.01062…),Dict(2.13628=>\"2.1362830044410597\",-3.01593=>\"-3.015928947446201\",-2.13628=>\"-2.1362830044410597\",1.88496=>\"1.8849555921538756\",1.75929=>\"1.7592918860102842\",2.63894=>\"2.6389378290154264\",-0.376991=>\"-0.3769911184307753\",0.251327=>\"0.25132741228718347\",-2.51327=>\"-2.5132741228718345\",1.25664=>\"1.2566370614359172\"…)),Any[],Any[],true,\"horizontal\")"
      ]
     },
     "metadata": {},
     "output_type": "display_data"
    },
    {
     "data": {
      "text/html": [],
      "text/plain": [
       "Interact.Options{:SelectionSlider,Float64}(Signal{Float64}(0.0, nactions=1),\"joint5.1\",0.0,\"0.0\",Interact.OptionDict(DataStructures.OrderedDict(\"-3.141592653589793\"=>-3.14159,\"-3.015928947446201\"=>-3.01593,\"-2.8902652413026093\"=>-2.89027,\"-2.7646015351590183\"=>-2.7646,\"-2.6389378290154264\"=>-2.63894,\"-2.5132741228718345\"=>-2.51327,\"-2.3876104167282426\"=>-2.38761,\"-2.261946710584651\"=>-2.26195,\"-2.1362830044410597\"=>-2.13628,\"-2.0106192982974673\"=>-2.01062…),Dict(2.13628=>\"2.1362830044410597\",-3.01593=>\"-3.015928947446201\",-2.13628=>\"-2.1362830044410597\",1.88496=>\"1.8849555921538756\",1.75929=>\"1.7592918860102842\",2.63894=>\"2.6389378290154264\",-0.376991=>\"-0.3769911184307753\",0.251327=>\"0.25132741228718347\",-2.51327=>\"-2.5132741228718345\",1.25664=>\"1.2566370614359172\"…)),Any[],Any[],true,\"horizontal\")"
      ]
     },
     "metadata": {},
     "output_type": "display_data"
    },
    {
     "data": {
      "text/html": [],
      "text/plain": [
       "Interact.Options{:SelectionSlider,Float64}(Signal{Float64}(0.0, nactions=1),\"joint6.1\",0.0,\"0.0\",Interact.OptionDict(DataStructures.OrderedDict(\"-3.141592653589793\"=>-3.14159,\"-3.015928947446201\"=>-3.01593,\"-2.8902652413026093\"=>-2.89027,\"-2.7646015351590183\"=>-2.7646,\"-2.6389378290154264\"=>-2.63894,\"-2.5132741228718345\"=>-2.51327,\"-2.3876104167282426\"=>-2.38761,\"-2.261946710584651\"=>-2.26195,\"-2.1362830044410597\"=>-2.13628,\"-2.0106192982974673\"=>-2.01062…),Dict(2.13628=>\"2.1362830044410597\",-3.01593=>\"-3.015928947446201\",-2.13628=>\"-2.1362830044410597\",1.88496=>\"1.8849555921538756\",1.75929=>\"1.7592918860102842\",2.63894=>\"2.6389378290154264\",-0.376991=>\"-0.3769911184307753\",0.251327=>\"0.25132741228718347\",-2.51327=>\"-2.5132741228718345\",1.25664=>\"1.2566370614359172\"…)),Any[],Any[],true,\"horizontal\")"
      ]
     },
     "metadata": {},
     "output_type": "display_data"
    }
   ],
   "source": [
    "# Or we can interactively explore the degrees of freedom of the mechanism.\n",
    "# Note that the quaternion floating base joint, \"joint1\", has been given \n",
    "# six sliders. The first three correspond to the exponential map representation\n",
    "# of its rotation, and the next three correspond to its translation. \n",
    "inspect(mechanism; show_inertias=true, randomize_colors=true);"
   ]
  },
  {
   "cell_type": "code",
   "execution_count": 9,
   "metadata": {
    "collapsed": false
   },
   "outputs": [],
   "source": [
    "# We can also animate the mechanism, given a time sequence of states.\n",
    "# States will be linearly interpolated between the knot points.\n",
    "times = collect(linspace(0, 10, 3))\n",
    "configurations = Vector{Vector{Float64}}(length(times))\n",
    "for i = 1:length(times)\n",
    "    rand_configuration!(state)\n",
    "    configurations[i] = copy(configuration_vector(state))\n",
    "end\n",
    "setgeometry!(vis, create_geometry(mechanism))\n",
    "animate(vis, mechanism, times, configurations; fps = 60., realtimerate = 1.)"
   ]
  },
  {
   "cell_type": "code",
   "execution_count": 13,
   "metadata": {
    "collapsed": false
   },
   "outputs": [],
   "source": [
    "# We can simulate a mechanism from an initial state. We'll use a mechanism\n",
    "# without a QuaternionFloating joint so that it doesn't just fall straight down.\n",
    "mechanism = rand_chain_mechanism(Float64, [Revolute{Float64} for i = 1:10]...)\n",
    "vis = Visualizer()[:robot2]\n",
    "setgeometry!(vis, create_geometry(mechanism))\n",
    "state = MechanismState(Float64, mechanism)\n",
    "settransform!(vis, state)\n",
    "times, configurations, velocities = simulate(state, 10.);"
   ]
  },
  {
   "cell_type": "code",
   "execution_count": 14,
   "metadata": {
    "collapsed": false
   },
   "outputs": [],
   "source": [
    "# And we can animate the result in realtime\n",
    "animate(vis, mechanism, times, configurations)"
   ]
  },
  {
   "cell_type": "code",
   "execution_count": 18,
   "metadata": {
    "collapsed": false
   },
   "outputs": [
    {
     "data": {
      "text/html": [],
      "text/plain": [
       "Interact.Options{:SelectionSlider,Int64}(Signal{Int64}(50001, nactions=1),\"i\",50001,\"50001\",Interact.OptionDict(DataStructures.OrderedDict(\"1\"=>1,\"2\"=>2,\"3\"=>3,\"4\"=>4,\"5\"=>5,\"6\"=>6,\"7\"=>7,\"8\"=>8,\"9\"=>9,\"10\"=>10…),Dict(62417=>\"62417\",62682=>\"62682\",62591=>\"62591\",43031=>\"43031\",22035=>\"22035\",39001=>\"39001\",61670=>\"61670\",50996=>\"50996\",48586=>\"48586\",77654=>\"77654\"…)),Any[],Any[],true,\"horizontal\")"
      ]
     },
     "metadata": {},
     "output_type": "display_data"
    },
    {
     "data": {
      "text/plain": [
       "5.000000000001686"
      ]
     },
     "execution_count": 18,
     "metadata": {
      "comm_id": "bafa7d05-41c7-4931-a2af-6acacceccb40",
      "reactive": true
     },
     "output_type": "execute_result"
    }
   ],
   "source": [
    "# We can also inspect individual frames from the simulation\n",
    "@manipulate for i in 1:length(times)\n",
    "    set_configuration!(state, configurations[i])\n",
    "    set_velocity!(state, velocities[i])\n",
    "    settransform!(vis, state)\n",
    "    times[i]\n",
    "end"
   ]
  },
  {
   "cell_type": "code",
   "execution_count": 11,
   "metadata": {
    "collapsed": false
   },
   "outputs": [
    {
     "data": {
      "text/plain": [
       "0"
      ]
     },
     "execution_count": 11,
     "metadata": {},
     "output_type": "execute_result"
    }
   ],
   "source": [
    "# close the viewer\n",
    "kill(proc)"
   ]
  },
  {
   "cell_type": "code",
   "execution_count": null,
   "metadata": {
    "collapsed": true
   },
   "outputs": [],
   "source": []
  }
 ],
 "metadata": {
  "kernelspec": {
   "display_name": "Julia 0.5.0",
   "language": "julia",
   "name": "julia-0.5"
  },
  "language_info": {
   "file_extension": ".jl",
   "mimetype": "application/julia",
   "name": "julia",
   "version": "0.5.0"
  },
  "widgets": {
   "state": {
    "091a21b0-b794-4cec-8ed8-7e1291592046": {
     "views": [
      {
       "cell_index": 4
      }
     ]
    },
    "0d1f68bb-4b89-47e7-94b9-1dde37b2156f": {
     "views": [
      {
       "cell_index": 4
      }
     ]
    },
    "0d474b8b-186d-4cd8-99ae-8d4248832880": {
     "views": [
      {
       "cell_index": 4
      }
     ]
    },
    "1a045f16-0447-4332-9a21-1be69509a4a4": {
     "views": [
      {
       "cell_index": 4
      }
     ]
    },
    "271bfc27-fe1c-4995-8fe6-97cd52336ffd": {
     "views": [
      {
       "cell_index": 8
      }
     ]
    },
    "2fe69aae-2c95-4f60-ab6b-ab58098a39a5": {
     "views": [
      {
       "cell_index": 4
      }
     ]
    },
    "36742f6b-0294-4a03-bff4-41562f10c4fc": {
     "views": [
      {
       "cell_index": 4
      }
     ]
    },
    "379ec280-c6c0-4026-95bc-7845f47b813e": {
     "views": [
      {
       "cell_index": 4
      }
     ]
    },
    "4b044a39-ab3b-4db1-bd54-49ed774a82d4": {
     "views": [
      {
       "cell_index": 4
      }
     ]
    },
    "6d21c2fa-b091-401a-9084-4209f8fb54b9": {
     "views": [
      {
       "cell_index": 4
      }
     ]
    },
    "7d28c43f-26b3-4383-9786-dc5674944873": {
     "views": [
      {
       "cell_index": 4
      }
     ]
    },
    "83298922-2331-4d7f-b8d3-a69150506609": {
     "views": [
      {
       "cell_index": 4
      }
     ]
    },
    "84fdb17e-a96b-48e5-981a-ca4be56df6df": {
     "views": [
      {
       "cell_index": 4
      }
     ]
    },
    "872771f4-e103-43d3-80ab-f4a041153bcd": {
     "views": [
      {
       "cell_index": 4
      }
     ]
    },
    "8da5cb08-725d-4431-bc8b-db7ed99db30a": {
     "views": [
      {
       "cell_index": 4
      }
     ]
    },
    "8e217663-65da-4e53-98eb-9b99da6557ea": {
     "views": [
      {
       "cell_index": 4
      }
     ]
    },
    "907ffbbc-5a86-4d23-bdb9-ca76401f399a": {
     "views": [
      {
       "cell_index": 4
      }
     ]
    },
    "a535456b-ac0d-4b93-86dc-ebe243f36ded": {
     "views": [
      {
       "cell_index": 4
      }
     ]
    },
    "b77baafa-5a39-44e4-a633-35f9543da918": {
     "views": [
      {
       "cell_index": 4
      }
     ]
    },
    "b9c3a96b-e668-4968-91bd-a8a9a364abd6": {
     "views": [
      {
       "cell_index": 4
      }
     ]
    },
    "c076ef3a-2bfd-4b31-b76d-f32dc59169fb": {
     "views": [
      {
       "cell_index": 4
      }
     ]
    },
    "c4859af4-d990-41a0-a53c-460e8a7bba64": {
     "views": [
      {
       "cell_index": 4
      }
     ]
    },
    "d067b156-b42c-4409-802c-3a4ab5a54af5": {
     "views": [
      {
       "cell_index": 4
      }
     ]
    },
    "d5a71d10-3607-4e3b-b9e1-108d4641ad46": {
     "views": [
      {
       "cell_index": 4
      }
     ]
    },
    "edeb6c66-7834-4e74-b891-4ca5f4690926": {
     "views": [
      {
       "cell_index": 4
      }
     ]
    },
    "f006bb44-7e48-495c-a267-38638190ec57": {
     "views": [
      {
       "cell_index": 4
      }
     ]
    },
    "f8b53222-7213-446c-b467-c7a44facb8d6": {
     "views": [
      {
       "cell_index": 4
      }
     ]
    }
   },
   "version": "1.2.0"
  }
 },
 "nbformat": 4,
 "nbformat_minor": 0
}
