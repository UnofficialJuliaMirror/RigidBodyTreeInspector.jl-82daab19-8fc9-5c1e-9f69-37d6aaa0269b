{
 "cells": [
  {
   "cell_type": "code",
   "execution_count": 1,
   "metadata": {
    "collapsed": false
   },
   "outputs": [
    {
     "data": {
      "text/html": [
       "<div id=\"interact-js-shim\">\n",
       "    <script charset=\"utf-8\">\n",
       "(function (IPython, $, _, MathJax) {\n",
       "    $.event.special.destroyed = {\n",
       "\tremove: function(o) {\n",
       "\t    if (o.handler) {\n",
       "\t\to.handler.apply(this, arguments)\n",
       "\t    }\n",
       "\t}\n",
       "    }\n",
       "\n",
       "    var OutputArea = IPython.version >= \"4.0.0\" ? require(\"notebook/js/outputarea\").OutputArea : IPython.OutputArea;\n",
       "\n",
       "    var redrawValue = function (container, type, val) {\n",
       "\tvar selector = $(\"<div/>\");\n",
       "\tvar oa = new OutputArea(_.extend(selector, {\n",
       "\t    selector: selector,\n",
       "\t    prompt_area: true,\n",
       "\t    events: IPython.events,\n",
       "\t    keyboard_manager: IPython.keyboard_manager\n",
       "\t})); // Hack to work with IPython 2.1.0\n",
       "\n",
       "\tswitch (type) {\n",
       "\tcase \"image/png\":\n",
       "            var _src = 'data:' + type + ';base64,' + val;\n",
       "\t    $(container).find(\"img\").attr('src', _src);\n",
       "\t    break;\n",
       "\tcase \"text/latex\":\n",
       "\t\tif (MathJax){\n",
       "\t\t\tvar math = MathJax.Hub.getAllJax(container)[0];\n",
       "\t\t\tMathJax.Hub.Queue([\"Text\", math, val.replace(/^\\${1,2}|\\${1,2}$/g, '')]);\n",
       "\t\t\tbreak;\n",
       "\t\t}\n",
       "\tdefault:\n",
       "\t    var toinsert = OutputArea.append_map[type].apply(\n",
       "\t\toa, [val, {}, selector]\n",
       "\t    );\n",
       "\t    $(container).empty().append(toinsert.contents());\n",
       "\t    selector.remove();\n",
       "\t}\n",
       "    }\n",
       "\n",
       "\n",
       "    $(document).ready(function() {\n",
       "\tfunction initComm(evt, data) {\n",
       "\t    var comm_manager = data.kernel.comm_manager;\n",
       "        //_.extend(comm_manager.targets, require(\"widgets/js/widget\"))\n",
       "\t    comm_manager.register_target(\"Signal\", function (comm) {\n",
       "            comm.on_msg(function (msg) {\n",
       "                var val = msg.content.data.value;\n",
       "                $(\".signal-\" + comm.comm_id).each(function() {\n",
       "                var type = $(this).data(\"type\");\n",
       "                if (typeof(val[type]) !== \"undefined\" && val[type] !== null) {\n",
       "                    redrawValue(this, type, val[type], type);\n",
       "                }\n",
       "                });\n",
       "                delete val;\n",
       "                delete msg.content.data.value;\n",
       "            });\n",
       "\t    });\n",
       "\n",
       "\t    // coordingate with Comm and redraw Signals\n",
       "\t    // XXX: Test using Reactive here to improve performance\n",
       "\t    $([IPython.events]).on(\n",
       "\t\t'output_appended.OutputArea', function (event, type, value, md, toinsert) {\n",
       "\t\t    if (md && md.reactive) {\n",
       "                // console.log(md.comm_id);\n",
       "                toinsert.addClass(\"signal-\" + md.comm_id);\n",
       "                toinsert.data(\"type\", type);\n",
       "                // Signal back indicating the mimetype required\n",
       "                var comm_manager = IPython.notebook.kernel.comm_manager;\n",
       "                var comm = comm_manager.comms[md.comm_id];\n",
       "                comm.then(function (c) {\n",
       "                    c.send({action: \"subscribe_mime\",\n",
       "                       mime: type});\n",
       "                    toinsert.bind(\"destroyed\", function() {\n",
       "                        c.send({action: \"unsubscribe_mime\",\n",
       "                               mime: type});\n",
       "                    });\n",
       "                })\n",
       "\t\t    }\n",
       "\t    });\n",
       "\t}\n",
       "\n",
       "\ttry {\n",
       "\t    // try to initialize right away. otherwise, wait on the status_started event.\n",
       "\t    initComm(undefined, IPython.notebook);\n",
       "\t} catch (e) {\n",
       "\t    $([IPython.events]).on('kernel_created.Kernel kernel_created.Session', initComm);\n",
       "\t}\n",
       "    });\n",
       "})(IPython, jQuery, _, MathJax);\n",
       "</script>\n",
       "    <script>\n",
       "        window.interactLoadedFlag = true\n",
       "       $(\"#interact-js-shim\").bind(\"destroyed\", function () {\n",
       "           if (window.interactLoadedFlag) {\n",
       "               console.warn(\"JavaScript required by Interact will be removed if you remove this cell or run using Interact more than once.\")\n",
       "           }\n",
       "       })\n",
       "       $([IPython.events]).on(\"kernel_starting.Kernel kernel_restarting.Kernel\", function () { window.interactLoadedFlag = false })\n",
       "   </script>\n",
       "</div>"
      ]
     },
     "metadata": {},
     "output_type": "display_data"
    }
   ],
   "source": [
    "using RigidBodyDynamics\n",
    "using RigidBodyTreeInspector\n",
    "using Interact"
   ]
  },
  {
   "cell_type": "code",
   "execution_count": 2,
   "metadata": {
    "collapsed": false
   },
   "outputs": [
    {
     "data": {
      "text/plain": [
       "true"
      ]
     },
     "execution_count": 2,
     "metadata": {},
     "output_type": "execute_result"
    }
   ],
   "source": [
    "# Open the viewer application\n",
    "DrakeVisualizer.any_open_windows() || DrakeVisualizer.new_window()"
   ]
  },
  {
   "cell_type": "code",
   "execution_count": 3,
   "metadata": {
    "collapsed": false
   },
   "outputs": [
    {
     "data": {
      "text/plain": [
       "Vertex: world (root)\n",
       "  Vertex: body1, Edge: joint1\n",
       "    Vertex: body2, Edge: joint2\n",
       "      Vertex: body3, Edge: joint3\n",
       "        Vertex: body4, Edge: joint4\n",
       "          Vertex: body5, Edge: joint5\n",
       "            Vertex: body6, Edge: joint6"
      ]
     },
     "execution_count": 3,
     "metadata": {},
     "output_type": "execute_result"
    }
   ],
   "source": [
    "# Construct a mechanism\n",
    "mechanism = rand_chain_mechanism(Float64, [QuaternionFloating{Float64}; [Revolute{Float64} for i = 1:5]]...)"
   ]
  },
  {
   "cell_type": "code",
   "execution_count": 4,
   "metadata": {
    "collapsed": false
   },
   "outputs": [
    {
     "data": {
      "text/plain": [
       "Visualizer with path prefix Symbol[:robot1] using LCM LCMCore.LCM(Ptr{Void} @0x0000000003cd5920,RawFD(57),LCMCore.Subscription[LCMCore.Subscription{LCMCore.SubscriptionOptions{DrakeVisualizer.Comms.CommsT,DrakeVisualizer.#handle_msg#7{DrakeVisualizer.CoreVisualizer}}}(LCMCore.SubscriptionOptions{DrakeVisualizer.Comms.CommsT,DrakeVisualizer.#handle_msg#7{DrakeVisualizer.CoreVisualizer}}(DrakeVisualizer.Comms.CommsT,DrakeVisualizer.handle_msg),Ptr{Void} @0x0000000003d19dd0)])"
      ]
     },
     "execution_count": 4,
     "metadata": {},
     "output_type": "execute_result"
    }
   ],
   "source": [
    "# Construct the visualizer interface, and get the :robot1 subtree\n",
    "vis = DrakeVisualizer.Visualizer()[:robot1]"
   ]
  },
  {
   "cell_type": "code",
   "execution_count": 5,
   "metadata": {
    "collapsed": false
   },
   "outputs": [
    {
     "data": {
      "text/plain": [
       "true"
      ]
     },
     "execution_count": 5,
     "metadata": {},
     "output_type": "execute_result"
    }
   ],
   "source": [
    "# Load the mechanism's geometry into the visualizer\n",
    "RigidBodyTreeInspector.setgeometry!(vis, RigidBodyTreeInspector.create_geometry(mechanism))\n",
    "\n",
    "# We can draw the mechanism at a single state:\n",
    "state = MechanismState(Float64, mechanism)\n",
    "RigidBodyTreeInspector.settransform!(vis, state)"
   ]
  },
  {
   "cell_type": "code",
   "execution_count": 6,
   "metadata": {
    "collapsed": false
   },
   "outputs": [
    {
     "data": {
      "text/html": [],
      "text/plain": [
       "Interact.Options{:SelectionSlider,Float64}(Signal{Float64}(0.0, nactions=1),\"joint1.1\",0.0,\"0.0\",Interact.OptionDict(DataStructures.OrderedDict(\"-3.141592653589793\"=>-3.14159,\"-3.015928947446201\"=>-3.01593,\"-2.8902652413026093\"=>-2.89027,\"-2.7646015351590183\"=>-2.7646,\"-2.6389378290154264\"=>-2.63894,\"-2.5132741228718345\"=>-2.51327,\"-2.3876104167282426\"=>-2.38761,\"-2.261946710584651\"=>-2.26195,\"-2.1362830044410597\"=>-2.13628,\"-2.0106192982974673\"=>-2.01062…),Dict(2.13628=>\"2.1362830044410597\",-3.01593=>\"-3.015928947446201\",-2.13628=>\"-2.1362830044410597\",1.88496=>\"1.8849555921538756\",1.75929=>\"1.7592918860102842\",2.63894=>\"2.6389378290154264\",-0.376991=>\"-0.3769911184307753\",0.251327=>\"0.25132741228718347\",-2.51327=>\"-2.5132741228718345\",1.25664=>\"1.2566370614359172\"…)),Any[],Any[],true,\"horizontal\")"
      ]
     },
     "metadata": {},
     "output_type": "display_data"
    },
    {
     "data": {
      "text/html": [],
      "text/plain": [
       "Interact.Options{:SelectionSlider,Float64}(Signal{Float64}(0.0, nactions=1),\"joint1.2\",0.0,\"0.0\",Interact.OptionDict(DataStructures.OrderedDict(\"-3.141592653589793\"=>-3.14159,\"-3.015928947446201\"=>-3.01593,\"-2.8902652413026093\"=>-2.89027,\"-2.7646015351590183\"=>-2.7646,\"-2.6389378290154264\"=>-2.63894,\"-2.5132741228718345\"=>-2.51327,\"-2.3876104167282426\"=>-2.38761,\"-2.261946710584651\"=>-2.26195,\"-2.1362830044410597\"=>-2.13628,\"-2.0106192982974673\"=>-2.01062…),Dict(2.13628=>\"2.1362830044410597\",-3.01593=>\"-3.015928947446201\",-2.13628=>\"-2.1362830044410597\",1.88496=>\"1.8849555921538756\",1.75929=>\"1.7592918860102842\",2.63894=>\"2.6389378290154264\",-0.376991=>\"-0.3769911184307753\",0.251327=>\"0.25132741228718347\",-2.51327=>\"-2.5132741228718345\",1.25664=>\"1.2566370614359172\"…)),Any[],Any[],true,\"horizontal\")"
      ]
     },
     "metadata": {},
     "output_type": "display_data"
    },
    {
     "data": {
      "text/html": [],
      "text/plain": [
       "Interact.Options{:SelectionSlider,Float64}(Signal{Float64}(0.0, nactions=1),\"joint1.3\",0.0,\"0.0\",Interact.OptionDict(DataStructures.OrderedDict(\"-3.141592653589793\"=>-3.14159,\"-3.015928947446201\"=>-3.01593,\"-2.8902652413026093\"=>-2.89027,\"-2.7646015351590183\"=>-2.7646,\"-2.6389378290154264\"=>-2.63894,\"-2.5132741228718345\"=>-2.51327,\"-2.3876104167282426\"=>-2.38761,\"-2.261946710584651\"=>-2.26195,\"-2.1362830044410597\"=>-2.13628,\"-2.0106192982974673\"=>-2.01062…),Dict(2.13628=>\"2.1362830044410597\",-3.01593=>\"-3.015928947446201\",-2.13628=>\"-2.1362830044410597\",1.88496=>\"1.8849555921538756\",1.75929=>\"1.7592918860102842\",2.63894=>\"2.6389378290154264\",-0.376991=>\"-0.3769911184307753\",0.251327=>\"0.25132741228718347\",-2.51327=>\"-2.5132741228718345\",1.25664=>\"1.2566370614359172\"…)),Any[],Any[],true,\"horizontal\")"
      ]
     },
     "metadata": {},
     "output_type": "display_data"
    },
    {
     "data": {
      "text/html": [],
      "text/plain": [
       "Interact.Options{:SelectionSlider,Float64}(Signal{Float64}(0.0, nactions=1),\"joint1.4\",0.0,\"0.0\",Interact.OptionDict(DataStructures.OrderedDict(\"-3.141592653589793\"=>-3.14159,\"-3.015928947446201\"=>-3.01593,\"-2.8902652413026093\"=>-2.89027,\"-2.7646015351590183\"=>-2.7646,\"-2.6389378290154264\"=>-2.63894,\"-2.5132741228718345\"=>-2.51327,\"-2.3876104167282426\"=>-2.38761,\"-2.261946710584651\"=>-2.26195,\"-2.1362830044410597\"=>-2.13628,\"-2.0106192982974673\"=>-2.01062…),Dict(2.13628=>\"2.1362830044410597\",-3.01593=>\"-3.015928947446201\",-2.13628=>\"-2.1362830044410597\",1.88496=>\"1.8849555921538756\",1.75929=>\"1.7592918860102842\",2.63894=>\"2.6389378290154264\",-0.376991=>\"-0.3769911184307753\",0.251327=>\"0.25132741228718347\",-2.51327=>\"-2.5132741228718345\",1.25664=>\"1.2566370614359172\"…)),Any[],Any[],true,\"horizontal\")"
      ]
     },
     "metadata": {},
     "output_type": "display_data"
    },
    {
     "data": {
      "text/html": [],
      "text/plain": [
       "Interact.Options{:SelectionSlider,Float64}(Signal{Float64}(0.0, nactions=1),\"joint1.5\",0.0,\"0.0\",Interact.OptionDict(DataStructures.OrderedDict(\"-3.141592653589793\"=>-3.14159,\"-3.015928947446201\"=>-3.01593,\"-2.8902652413026093\"=>-2.89027,\"-2.7646015351590183\"=>-2.7646,\"-2.6389378290154264\"=>-2.63894,\"-2.5132741228718345\"=>-2.51327,\"-2.3876104167282426\"=>-2.38761,\"-2.261946710584651\"=>-2.26195,\"-2.1362830044410597\"=>-2.13628,\"-2.0106192982974673\"=>-2.01062…),Dict(2.13628=>\"2.1362830044410597\",-3.01593=>\"-3.015928947446201\",-2.13628=>\"-2.1362830044410597\",1.88496=>\"1.8849555921538756\",1.75929=>\"1.7592918860102842\",2.63894=>\"2.6389378290154264\",-0.376991=>\"-0.3769911184307753\",0.251327=>\"0.25132741228718347\",-2.51327=>\"-2.5132741228718345\",1.25664=>\"1.2566370614359172\"…)),Any[],Any[],true,\"horizontal\")"
      ]
     },
     "metadata": {},
     "output_type": "display_data"
    },
    {
     "data": {
      "text/html": [],
      "text/plain": [
       "Interact.Options{:SelectionSlider,Float64}(Signal{Float64}(0.0, nactions=1),\"joint1.6\",0.0,\"0.0\",Interact.OptionDict(DataStructures.OrderedDict(\"-3.141592653589793\"=>-3.14159,\"-3.015928947446201\"=>-3.01593,\"-2.8902652413026093\"=>-2.89027,\"-2.7646015351590183\"=>-2.7646,\"-2.6389378290154264\"=>-2.63894,\"-2.5132741228718345\"=>-2.51327,\"-2.3876104167282426\"=>-2.38761,\"-2.261946710584651\"=>-2.26195,\"-2.1362830044410597\"=>-2.13628,\"-2.0106192982974673\"=>-2.01062…),Dict(2.13628=>\"2.1362830044410597\",-3.01593=>\"-3.015928947446201\",-2.13628=>\"-2.1362830044410597\",1.88496=>\"1.8849555921538756\",1.75929=>\"1.7592918860102842\",2.63894=>\"2.6389378290154264\",-0.376991=>\"-0.3769911184307753\",0.251327=>\"0.25132741228718347\",-2.51327=>\"-2.5132741228718345\",1.25664=>\"1.2566370614359172\"…)),Any[],Any[],true,\"horizontal\")"
      ]
     },
     "metadata": {},
     "output_type": "display_data"
    },
    {
     "data": {
      "text/html": [],
      "text/plain": [
       "Interact.Options{:SelectionSlider,Float64}(Signal{Float64}(0.0, nactions=1),\"joint2.1\",0.0,\"0.0\",Interact.OptionDict(DataStructures.OrderedDict(\"-3.141592653589793\"=>-3.14159,\"-3.015928947446201\"=>-3.01593,\"-2.8902652413026093\"=>-2.89027,\"-2.7646015351590183\"=>-2.7646,\"-2.6389378290154264\"=>-2.63894,\"-2.5132741228718345\"=>-2.51327,\"-2.3876104167282426\"=>-2.38761,\"-2.261946710584651\"=>-2.26195,\"-2.1362830044410597\"=>-2.13628,\"-2.0106192982974673\"=>-2.01062…),Dict(2.13628=>\"2.1362830044410597\",-3.01593=>\"-3.015928947446201\",-2.13628=>\"-2.1362830044410597\",1.88496=>\"1.8849555921538756\",1.75929=>\"1.7592918860102842\",2.63894=>\"2.6389378290154264\",-0.376991=>\"-0.3769911184307753\",0.251327=>\"0.25132741228718347\",-2.51327=>\"-2.5132741228718345\",1.25664=>\"1.2566370614359172\"…)),Any[],Any[],true,\"horizontal\")"
      ]
     },
     "metadata": {},
     "output_type": "display_data"
    },
    {
     "data": {
      "text/html": [],
      "text/plain": [
       "Interact.Options{:SelectionSlider,Float64}(Signal{Float64}(0.0, nactions=1),\"joint3.1\",0.0,\"0.0\",Interact.OptionDict(DataStructures.OrderedDict(\"-3.141592653589793\"=>-3.14159,\"-3.015928947446201\"=>-3.01593,\"-2.8902652413026093\"=>-2.89027,\"-2.7646015351590183\"=>-2.7646,\"-2.6389378290154264\"=>-2.63894,\"-2.5132741228718345\"=>-2.51327,\"-2.3876104167282426\"=>-2.38761,\"-2.261946710584651\"=>-2.26195,\"-2.1362830044410597\"=>-2.13628,\"-2.0106192982974673\"=>-2.01062…),Dict(2.13628=>\"2.1362830044410597\",-3.01593=>\"-3.015928947446201\",-2.13628=>\"-2.1362830044410597\",1.88496=>\"1.8849555921538756\",1.75929=>\"1.7592918860102842\",2.63894=>\"2.6389378290154264\",-0.376991=>\"-0.3769911184307753\",0.251327=>\"0.25132741228718347\",-2.51327=>\"-2.5132741228718345\",1.25664=>\"1.2566370614359172\"…)),Any[],Any[],true,\"horizontal\")"
      ]
     },
     "metadata": {},
     "output_type": "display_data"
    },
    {
     "data": {
      "text/html": [],
      "text/plain": [
       "Interact.Options{:SelectionSlider,Float64}(Signal{Float64}(0.0, nactions=1),\"joint4.1\",0.0,\"0.0\",Interact.OptionDict(DataStructures.OrderedDict(\"-3.141592653589793\"=>-3.14159,\"-3.015928947446201\"=>-3.01593,\"-2.8902652413026093\"=>-2.89027,\"-2.7646015351590183\"=>-2.7646,\"-2.6389378290154264\"=>-2.63894,\"-2.5132741228718345\"=>-2.51327,\"-2.3876104167282426\"=>-2.38761,\"-2.261946710584651\"=>-2.26195,\"-2.1362830044410597\"=>-2.13628,\"-2.0106192982974673\"=>-2.01062…),Dict(2.13628=>\"2.1362830044410597\",-3.01593=>\"-3.015928947446201\",-2.13628=>\"-2.1362830044410597\",1.88496=>\"1.8849555921538756\",1.75929=>\"1.7592918860102842\",2.63894=>\"2.6389378290154264\",-0.376991=>\"-0.3769911184307753\",0.251327=>\"0.25132741228718347\",-2.51327=>\"-2.5132741228718345\",1.25664=>\"1.2566370614359172\"…)),Any[],Any[],true,\"horizontal\")"
      ]
     },
     "metadata": {},
     "output_type": "display_data"
    },
    {
     "data": {
      "text/html": [],
      "text/plain": [
       "Interact.Options{:SelectionSlider,Float64}(Signal{Float64}(0.0, nactions=1),\"joint5.1\",0.0,\"0.0\",Interact.OptionDict(DataStructures.OrderedDict(\"-3.141592653589793\"=>-3.14159,\"-3.015928947446201\"=>-3.01593,\"-2.8902652413026093\"=>-2.89027,\"-2.7646015351590183\"=>-2.7646,\"-2.6389378290154264\"=>-2.63894,\"-2.5132741228718345\"=>-2.51327,\"-2.3876104167282426\"=>-2.38761,\"-2.261946710584651\"=>-2.26195,\"-2.1362830044410597\"=>-2.13628,\"-2.0106192982974673\"=>-2.01062…),Dict(2.13628=>\"2.1362830044410597\",-3.01593=>\"-3.015928947446201\",-2.13628=>\"-2.1362830044410597\",1.88496=>\"1.8849555921538756\",1.75929=>\"1.7592918860102842\",2.63894=>\"2.6389378290154264\",-0.376991=>\"-0.3769911184307753\",0.251327=>\"0.25132741228718347\",-2.51327=>\"-2.5132741228718345\",1.25664=>\"1.2566370614359172\"…)),Any[],Any[],true,\"horizontal\")"
      ]
     },
     "metadata": {},
     "output_type": "display_data"
    },
    {
     "data": {
      "text/html": [],
      "text/plain": [
       "Interact.Options{:SelectionSlider,Float64}(Signal{Float64}(0.0, nactions=1),\"joint6.1\",0.0,\"0.0\",Interact.OptionDict(DataStructures.OrderedDict(\"-3.141592653589793\"=>-3.14159,\"-3.015928947446201\"=>-3.01593,\"-2.8902652413026093\"=>-2.89027,\"-2.7646015351590183\"=>-2.7646,\"-2.6389378290154264\"=>-2.63894,\"-2.5132741228718345\"=>-2.51327,\"-2.3876104167282426\"=>-2.38761,\"-2.261946710584651\"=>-2.26195,\"-2.1362830044410597\"=>-2.13628,\"-2.0106192982974673\"=>-2.01062…),Dict(2.13628=>\"2.1362830044410597\",-3.01593=>\"-3.015928947446201\",-2.13628=>\"-2.1362830044410597\",1.88496=>\"1.8849555921538756\",1.75929=>\"1.7592918860102842\",2.63894=>\"2.6389378290154264\",-0.376991=>\"-0.3769911184307753\",0.251327=>\"0.25132741228718347\",-2.51327=>\"-2.5132741228718345\",1.25664=>\"1.2566370614359172\"…)),Any[],Any[],true,\"horizontal\")"
      ]
     },
     "metadata": {},
     "output_type": "display_data"
    }
   ],
   "source": [
    "# Or we can interactively explore the degrees of freedom of the mechanism.\n",
    "# Note that the quaternion floating base joint, \"joint1\", has been given \n",
    "# six sliders. The first three correspond to the exponential map representation\n",
    "# of its rotation, and the next three correspond to its translation. \n",
    "RigidBodyTreeInspector.inspect(mechanism; show_inertias=true, randomize_colors=true);"
   ]
  },
  {
   "cell_type": "code",
   "execution_count": 7,
   "metadata": {
    "collapsed": false
   },
   "outputs": [],
   "source": [
    "# We can also animate the mechanism, given a time sequence of states.\n",
    "# States will be linearly interpolated between the knot points.\n",
    "times = collect(linspace(0, 10, 3))\n",
    "configurations = Vector{Vector{Float64}}(length(times))\n",
    "for i = 1:length(times)\n",
    "    rand_configuration!(state)\n",
    "    configurations[i] = copy(configuration_vector(state))\n",
    "end\n",
    "setgeometry!(vis, create_geometry(mechanism))\n",
    "animate(vis, mechanism, times, configurations; fps = 60., realtimerate = 1.)"
   ]
  },
  {
   "cell_type": "code",
   "execution_count": 8,
   "metadata": {
    "collapsed": false
   },
   "outputs": [],
   "source": [
    "# We can simulate a mechanism from an initial state. We'll use a mechanism\n",
    "# without a QuaternionFloating joint so that it doesn't just fall straight down.\n",
    "mechanism = rand_chain_mechanism(Float64, [Revolute{Float64} for i = 1:10]...)\n",
    "vis = Visualizer()[:robot2]\n",
    "setgeometry!(vis, create_geometry(mechanism))\n",
    "state = MechanismState(Float64, mechanism)\n",
    "settransform!(vis, state)\n",
    "times, configurations, velocities = simulate(state, 10.);"
   ]
  },
  {
   "cell_type": "code",
   "execution_count": 9,
   "metadata": {
    "collapsed": false
   },
   "outputs": [],
   "source": [
    "# And we can animate the result in realtime\n",
    "animate(vis, mechanism, times, configurations)"
   ]
  },
  {
   "cell_type": "code",
   "execution_count": 10,
   "metadata": {
    "collapsed": false
   },
   "outputs": [
    {
     "data": {
      "text/html": [],
      "text/plain": [
       "Interact.Options{:SelectionSlider,Int64}(Signal{Int64}(50001, nactions=1),\"i\",50001,\"50001\",Interact.OptionDict(DataStructures.OrderedDict(\"1\"=>1,\"2\"=>2,\"3\"=>3,\"4\"=>4,\"5\"=>5,\"6\"=>6,\"7\"=>7,\"8\"=>8,\"9\"=>9,\"10\"=>10…),Dict(62417=>\"62417\",62682=>\"62682\",62591=>\"62591\",43031=>\"43031\",22035=>\"22035\",39001=>\"39001\",61670=>\"61670\",50996=>\"50996\",48586=>\"48586\",77654=>\"77654\"…)),Any[],Any[],true,\"horizontal\")"
      ]
     },
     "metadata": {},
     "output_type": "display_data"
    },
    {
     "data": {
      "text/plain": [
       "5.000000000001686"
      ]
     },
     "execution_count": 10,
     "metadata": {
      "comm_id": "31e8206a-c866-4135-8b0e-7bce958c1942",
      "reactive": true
     },
     "output_type": "execute_result"
    }
   ],
   "source": [
    "# We can also inspect individual frames from the simulation\n",
    "@manipulate for i in 1:length(times)\n",
    "    set_configuration!(state, configurations[i])\n",
    "    set_velocity!(state, velocities[i])\n",
    "    settransform!(vis, state)\n",
    "    times[i]\n",
    "end"
   ]
  }
 ],
 "metadata": {
  "kernelspec": {
   "display_name": "Julia 0.5.0",
   "language": "julia",
   "name": "julia-0.5"
  },
  "language_info": {
   "file_extension": ".jl",
   "mimetype": "application/julia",
   "name": "julia",
   "version": "0.5.0"
  },
  "widgets": {
   "state": {
    "01bf0cf6-647d-461a-8851-80c23476d3ce": {
     "views": [
      {
       "cell_index": 5
      }
     ]
    },
    "01c5983a-fdeb-4912-99fb-6f647f68257e": {
     "views": [
      {
       "cell_index": 5
      }
     ]
    },
    "087ea72f-1fff-449e-bbc9-c9035b8ec473": {
     "views": [
      {
       "cell_index": 6
      }
     ]
    },
    "10b43b9a-ba3a-4259-a4db-e124aa800191": {
     "views": [
      {
       "cell_index": 6
      }
     ]
    },
    "15a64a7c-5f6f-4852-be32-5c1db1529e64": {
     "views": [
      {
       "cell_index": 5
      }
     ]
    },
    "15e69b2d-d81d-4429-b22c-518651b488e1": {
     "views": [
      {
       "cell_index": 5
      }
     ]
    },
    "1a0aa12c-3e67-487d-9c38-177d55b4e042": {
     "views": [
      {
       "cell_index": 6
      }
     ]
    },
    "1bba678d-5ed5-4a83-8650-8ca7df56707b": {
     "views": [
      {
       "cell_index": 6
      }
     ]
    },
    "1c699eff-6712-483d-8d90-95ed09bdd232": {
     "views": [
      {
       "cell_index": 5
      }
     ]
    },
    "2869f456-2f46-498a-9881-cf7d4d7b6c13": {
     "views": [
      {
       "cell_index": 6
      }
     ]
    },
    "2fb208a3-0c0f-4cba-b191-64f1bde70511": {
     "views": [
      {
       "cell_index": 6
      }
     ]
    },
    "3482d216-87f0-49dd-9736-c4674954730b": {
     "views": [
      {
       "cell_index": 5
      }
     ]
    },
    "3cb22df2-5172-4c24-b549-539afab27753": {
     "views": [
      {
       "cell_index": 5
      }
     ]
    },
    "4bc41228-c3ee-4ac6-8724-6cc5ad88ae18": {
     "views": [
      {
       "cell_index": 5
      }
     ]
    },
    "5031b102-c98f-4b18-a9c2-2aff1b8f8371": {
     "views": [
      {
       "cell_index": 5
      }
     ]
    },
    "5665ef8e-9a14-4f92-b68c-3f5c319a0c38": {
     "views": [
      {
       "cell_index": 6
      }
     ]
    },
    "60091c82-6d68-4f7d-86a0-c7274a27d464": {
     "views": [
      {
       "cell_index": 5
      }
     ]
    },
    "620a0978-766a-4ba3-aae9-c35b32ff0948": {
     "views": [
      {
       "cell_index": 9
      }
     ]
    },
    "63aaf28b-dea6-4917-8c51-a9ce3c00f808": {
     "views": [
      {
       "cell_index": 5
      }
     ]
    },
    "701fe759-b0d0-4b49-af36-4b8aa4132a4c": {
     "views": [
      {
       "cell_index": 6
      }
     ]
    },
    "7b2ce6ab-86d5-4a8f-8d90-557e947328b4": {
     "views": [
      {
       "cell_index": 5
      }
     ]
    },
    "8ad2f879-d9cc-4a31-9d75-4cfbe9662642": {
     "views": [
      {
       "cell_index": 5
      }
     ]
    },
    "8d1fd9b7-b960-49bb-bc81-7e36963702f3": {
     "views": [
      {
       "cell_index": 5
      }
     ]
    },
    "9092ae74-b2b3-4a9f-8d95-1b816c62440e": {
     "views": [
      {
       "cell_index": 6
      }
     ]
    },
    "9e467a37-e0e3-43c3-aeba-83c933e484c3": {
     "views": [
      {
       "cell_index": 5
      }
     ]
    },
    "9eec0dea-6f7e-420c-a3f0-bae32dbca460": {
     "views": [
      {
       "cell_index": 5
      }
     ]
    },
    "b7937779-a9be-4862-a379-641a2ca9fc9e": {
     "views": [
      {
       "cell_index": 6
      }
     ]
    },
    "bfde95ee-9c8c-4694-9e75-6468bb183229": {
     "views": [
      {
       "cell_index": 5
      }
     ]
    },
    "bff471b6-a006-44ac-bcad-bd8075c1fa12": {
     "views": [
      {
       "cell_index": 6
      }
     ]
    },
    "c4a1debd-3081-43f7-bf79-1377c5d4edd7": {
     "views": [
      {
       "cell_index": 6
      }
     ]
    },
    "cb59db1e-029b-404c-ac87-922ef582802d": {
     "views": [
      {
       "cell_index": 5
      }
     ]
    },
    "cddc219a-a5a3-47a3-8456-19cebff6ac5e": {
     "views": [
      {
       "cell_index": 5
      }
     ]
    },
    "d4f037d2-8805-483a-bf12-2a5617a4a913": {
     "views": [
      {
       "cell_index": 5
      }
     ]
    },
    "e15984de-e952-4a9e-a930-96d34e8989b4": {
     "views": [
      {
       "cell_index": 6
      }
     ]
    },
    "e65b76bd-d956-45ce-9ffc-c3bd2ce89953": {
     "views": [
      {
       "cell_index": 6
      }
     ]
    },
    "f93de428-ff75-4969-830a-0f29c166fc92": {
     "views": [
      {
       "cell_index": 6
      }
     ]
    },
    "feb6fb14-c8a1-43bc-ae1e-fe7f5385766c": {
     "views": [
      {
       "cell_index": 5
      }
     ]
    }
   },
   "version": "1.2.0"
  }
 },
 "nbformat": 4,
 "nbformat_minor": 0
}
