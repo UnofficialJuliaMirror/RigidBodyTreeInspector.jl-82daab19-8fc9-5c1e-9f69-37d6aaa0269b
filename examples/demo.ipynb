{
 "cells": [
  {
   "cell_type": "code",
   "execution_count": 1,
   "metadata": {
    "collapsed": false
   },
   "outputs": [
    {
     "data": {
      "text/html": [
       "<div id=\"interact-js-shim\">\n",
       "    <script charset=\"utf-8\">\n",
       "(function (IPython, $, _, MathJax) {\n",
       "    $.event.special.destroyed = {\n",
       "\tremove: function(o) {\n",
       "\t    if (o.handler) {\n",
       "\t\to.handler.apply(this, arguments)\n",
       "\t    }\n",
       "\t}\n",
       "    }\n",
       "\n",
       "    var OutputArea = IPython.version >= \"4.0.0\" ? require(\"notebook/js/outputarea\").OutputArea : IPython.OutputArea;\n",
       "\n",
       "    var redrawValue = function (container, type, val) {\n",
       "\tvar selector = $(\"<div/>\");\n",
       "\tvar oa = new OutputArea(_.extend(selector, {\n",
       "\t    selector: selector,\n",
       "\t    prompt_area: true,\n",
       "\t    events: IPython.events,\n",
       "\t    keyboard_manager: IPython.keyboard_manager\n",
       "\t})); // Hack to work with IPython 2.1.0\n",
       "\n",
       "\tswitch (type) {\n",
       "\tcase \"image/png\":\n",
       "            var _src = 'data:' + type + ';base64,' + val;\n",
       "\t    $(container).find(\"img\").attr('src', _src);\n",
       "\t    break;\n",
       "\tdefault:\n",
       "\t    var toinsert = OutputArea.append_map[type].apply(\n",
       "\t\toa, [val, {}, selector]\n",
       "\t    );\n",
       "\t    $(container).empty().append(toinsert.contents());\n",
       "\t    selector.remove();\n",
       "\t}\n",
       "\tif (type === \"text/latex\" && MathJax) {\n",
       "\t    MathJax.Hub.Queue([\"Typeset\", MathJax.Hub, toinsert.get(0)]);\n",
       "\t}\n",
       "    }\n",
       "\n",
       "\n",
       "    $(document).ready(function() {\n",
       "\tfunction initComm(evt, data) {\n",
       "\t    var comm_manager = data.kernel.comm_manager;\n",
       "        //_.extend(comm_manager.targets, require(\"widgets/js/widget\"))\n",
       "\t    comm_manager.register_target(\"Signal\", function (comm) {\n",
       "            comm.on_msg(function (msg) {\n",
       "                //Widgets.log(\"message received\", msg);\n",
       "                var val = msg.content.data.value;\n",
       "                $(\".signal-\" + comm.comm_id).each(function() {\n",
       "                var type = $(this).data(\"type\");\n",
       "                if (val[type]) {\n",
       "                    redrawValue(this, type, val[type], type);\n",
       "                }\n",
       "                });\n",
       "                delete val;\n",
       "                delete msg.content.data.value;\n",
       "            });\n",
       "\t    });\n",
       "\n",
       "\t    // coordingate with Comm and redraw Signals\n",
       "\t    // XXX: Test using Reactive here to improve performance\n",
       "\t    $([IPython.events]).on(\n",
       "\t\t'output_appended.OutputArea', function (event, type, value, md, toinsert) {\n",
       "\t\t    if (md && md.reactive) {\n",
       "                // console.log(md.comm_id);\n",
       "                toinsert.addClass(\"signal-\" + md.comm_id);\n",
       "                toinsert.data(\"type\", type);\n",
       "                // Signal back indicating the mimetype required\n",
       "                var comm_manager = IPython.notebook.kernel.comm_manager;\n",
       "                var comm = comm_manager.comms[md.comm_id];\n",
       "                comm.then(function (c) {\n",
       "                    c.send({action: \"subscribe_mime\",\n",
       "                       mime: type});\n",
       "                    toinsert.bind(\"destroyed\", function() {\n",
       "                        c.send({action: \"unsubscribe_mime\",\n",
       "                               mime: type});\n",
       "                    });\n",
       "                })\n",
       "\t\t    }\n",
       "\t    });\n",
       "\t}\n",
       "\n",
       "\ttry {\n",
       "\t    // try to initialize right away. otherwise, wait on the status_started event.\n",
       "\t    initComm(undefined, IPython.notebook);\n",
       "\t} catch (e) {\n",
       "\t    $([IPython.events]).on('kernel_created.Kernel kernel_created.Session', initComm);\n",
       "\t}\n",
       "    });\n",
       "})(IPython, jQuery, _, MathJax);\n",
       "</script>\n",
       "    <script>\n",
       "        window.interactLoadedFlag = true\n",
       "       $(\"#interact-js-shim\").bind(\"destroyed\", function () {\n",
       "           if (window.interactLoadedFlag) {\n",
       "               console.warn(\"JavaScript required by Interact will be removed if you remove this cell or run using Interact more than once.\")\n",
       "           }\n",
       "       })\n",
       "       $([IPython.events]).on(\"kernel_starting.Kernel kernel_restarting.Kernel\", function () { window.interactLoadedFlag = false })\n",
       "   </script>\n",
       "</div>"
      ]
     },
     "metadata": {},
     "output_type": "display_data"
    },
    {
     "name": "stdout",
     "output_type": "stream",
     "text": [
      "adding: /Users/rdeits/locomotion/explorations/point-cloud-signed-distance/packages/v0.5/DrakeVisualizer/src/lcmtypes to the python path\n"
     ]
    }
   ],
   "source": [
    "using RigidBodyDynamics\n",
    "using RigidBodyTreeInspector\n",
    "using Interact"
   ]
  },
  {
   "cell_type": "code",
   "execution_count": 2,
   "metadata": {
    "collapsed": false
   },
   "outputs": [],
   "source": [
    "# Create a new viewer window\n",
    "proc = DrakeVisualizer.new_window();"
   ]
  },
  {
   "cell_type": "code",
   "execution_count": 3,
   "metadata": {
    "collapsed": false
   },
   "outputs": [
    {
     "data": {
      "text/plain": [
       "Vertex: world (root)\n",
       "  Vertex: body1, Edge: joint1\n",
       "    Vertex: body2, Edge: joint2\n",
       "      Vertex: body3, Edge: joint3\n",
       "        Vertex: body4, Edge: joint4\n",
       "          Vertex: body5, Edge: joint5\n",
       "            Vertex: body6, Edge: joint6"
      ]
     },
     "execution_count": 3,
     "metadata": {},
     "output_type": "execute_result"
    }
   ],
   "source": [
    "mechanism = rand_chain_mechanism(Float64, [QuaternionFloating{Float64}; [Revolute{Float64} for i = 1:5]]...)"
   ]
  },
  {
   "cell_type": "code",
   "execution_count": 4,
   "metadata": {
    "collapsed": false
   },
   "outputs": [],
   "source": [
    "vis = Visualizer(mechanism);"
   ]
  },
  {
   "cell_type": "code",
   "execution_count": 5,
   "metadata": {
    "collapsed": false
   },
   "outputs": [],
   "source": [
    "# We can draw the mechanism at a single state:\n",
    "state = MechanismState(Float64, mechanism)\n",
    "zero!(state)\n",
    "draw(vis, state)"
   ]
  },
  {
   "cell_type": "code",
   "execution_count": 6,
   "metadata": {
    "collapsed": false
   },
   "outputs": [
    {
     "data": {
      "text/html": [],
      "text/plain": [
       "Interact.Slider{Float64}(Signal{Float64}(0.0, nactions=0),\"joint1.1\",0.0,linspace(-3.141592653589793,3.141592653589793,51),\".3f\",true)"
      ]
     },
     "metadata": {},
     "output_type": "display_data"
    },
    {
     "data": {
      "text/html": [],
      "text/plain": [
       "Interact.Slider{Float64}(Signal{Float64}(0.0, nactions=0),\"joint1.2\",0.0,linspace(-3.141592653589793,3.141592653589793,51),\".3f\",true)"
      ]
     },
     "metadata": {},
     "output_type": "display_data"
    },
    {
     "data": {
      "text/html": [],
      "text/plain": [
       "Interact.Slider{Float64}(Signal{Float64}(0.0, nactions=0),\"joint1.3\",0.0,linspace(-3.141592653589793,3.141592653589793,51),\".3f\",true)"
      ]
     },
     "metadata": {},
     "output_type": "display_data"
    },
    {
     "data": {
      "text/html": [],
      "text/plain": [
       "Interact.Slider{Float64}(Signal{Float64}(0.0, nactions=0),\"joint1.4\",0.0,linspace(-3.141592653589793,3.141592653589793,51),\".3f\",true)"
      ]
     },
     "metadata": {},
     "output_type": "display_data"
    },
    {
     "data": {
      "text/html": [],
      "text/plain": [
       "Interact.Slider{Float64}(Signal{Float64}(0.0, nactions=0),\"joint1.5\",0.0,linspace(-3.141592653589793,3.141592653589793,51),\".3f\",true)"
      ]
     },
     "metadata": {},
     "output_type": "display_data"
    },
    {
     "data": {
      "text/html": [],
      "text/plain": [
       "Interact.Slider{Float64}(Signal{Float64}(0.0, nactions=0),\"joint1.6\",0.0,linspace(-3.141592653589793,3.141592653589793,51),\".3f\",true)"
      ]
     },
     "metadata": {},
     "output_type": "display_data"
    },
    {
     "data": {
      "text/html": [],
      "text/plain": [
       "Interact.Slider{Float64}(Signal{Float64}(0.0, nactions=0),\"joint2.1\",0.0,linspace(-3.141592653589793,3.141592653589793,51),\".3f\",true)"
      ]
     },
     "metadata": {},
     "output_type": "display_data"
    },
    {
     "data": {
      "text/html": [],
      "text/plain": [
       "Interact.Slider{Float64}(Signal{Float64}(0.0, nactions=0),\"joint3.1\",0.0,linspace(-3.141592653589793,3.141592653589793,51),\".3f\",true)"
      ]
     },
     "metadata": {},
     "output_type": "display_data"
    },
    {
     "data": {
      "text/html": [],
      "text/plain": [
       "Interact.Slider{Float64}(Signal{Float64}(0.0, nactions=0),\"joint4.1\",0.0,linspace(-3.141592653589793,3.141592653589793,51),\".3f\",true)"
      ]
     },
     "metadata": {},
     "output_type": "display_data"
    },
    {
     "data": {
      "text/html": [],
      "text/plain": [
       "Interact.Slider{Float64}(Signal{Float64}(0.0, nactions=0),\"joint5.1\",0.0,linspace(-3.141592653589793,3.141592653589793,51),\".3f\",true)"
      ]
     },
     "metadata": {},
     "output_type": "display_data"
    },
    {
     "data": {
      "text/html": [],
      "text/plain": [
       "Interact.Slider{Float64}(Signal{Float64}(0.0, nactions=0),\"joint6.1\",0.0,linspace(-3.141592653589793,3.141592653589793,51),\".3f\",true)"
      ]
     },
     "metadata": {},
     "output_type": "display_data"
    },
    {
     "data": {
      "text/plain": [
       "nothing"
      ]
     },
     "execution_count": 6,
     "metadata": {
      "comm_id": "0749ff38-4f82-4dc3-ab0b-a7ec2e8503aa",
      "reactive": true
     },
     "output_type": "execute_result"
    }
   ],
   "source": [
    "# Or we can interactively explore the degrees of freedom of the mechanism.\n",
    "# Note that the quaternion floating base joint, \"joint1\", has been given \n",
    "# six sliders. The first three correspond to the exponential map representation\n",
    "# of its rotation, and the next three correspond to its translation. \n",
    "inspect(mechanism; show_inertias=true, randomize_colors=true)"
   ]
  },
  {
   "cell_type": "code",
   "execution_count": 7,
   "metadata": {
    "collapsed": false
   },
   "outputs": [],
   "source": [
    "# We can also animate the mechanism, given a time sequence of states.\n",
    "# States will be linearly interpolated between the knot points.\n",
    "times = collect(linspace(0, 10, 3))\n",
    "configurations = Vector{Vector{Float64}}(length(times))\n",
    "for i = 1:length(times)\n",
    "    rand_configuration!(state)\n",
    "    configurations[i] = copy(configuration_vector(state))\n",
    "end\n",
    "animate(vis, mechanism, times, configurations; fps = 60., realtimerate = 1.)"
   ]
  },
  {
   "cell_type": "code",
   "execution_count": 8,
   "metadata": {
    "collapsed": false
   },
   "outputs": [
    {
     "name": "stdout",
     "output_type": "stream",
     "text": [
      "  2.895969 seconds (3.39 M allocations: 178.144 MB, 2.36% gc time)\n"
     ]
    }
   ],
   "source": [
    "# We can simulate a mechanism from an initial state. We'll use a mechanism\n",
    "# without a QuaternionFloating joint so that it doesn't just fall straight down.\n",
    "mechanism = rand_chain_mechanism(Float64, [Revolute{Float64} for i = 1:10]...)\n",
    "vis = Visualizer(mechanism, show_inertias=true);\n",
    "state = MechanismState(Float64, mechanism)\n",
    "zero!(state)\n",
    "draw(vis, state)\n",
    "@time times, states = simulate(state, [0, 10]);"
   ]
  },
  {
   "cell_type": "code",
   "execution_count": 9,
   "metadata": {
    "collapsed": true
   },
   "outputs": [],
   "source": [
    "# And we can animate the result in realtime\n",
    "animate(vis, mechanism, times, states)"
   ]
  },
  {
   "cell_type": "code",
   "execution_count": 10,
   "metadata": {
    "collapsed": false
   },
   "outputs": [
    {
     "data": {
      "text/html": [],
      "text/plain": [
       "Interact.Slider{Int64}(Signal{Int64}(438, nactions=0),\"i\",438,1:876,\"d\",true)"
      ]
     },
     "metadata": {},
     "output_type": "display_data"
    },
    {
     "data": {
      "text/plain": [
       "5.126193063254829"
      ]
     },
     "execution_count": 10,
     "metadata": {
      "comm_id": "f5252e90-b338-4dde-b48f-d19433810072",
      "reactive": true
     },
     "output_type": "execute_result"
    }
   ],
   "source": [
    "# We can also inspect individual frames from the simulation\n",
    "@manipulate for i in 1:length(times)\n",
    "    RigidBodyDynamics.set!(state, states[i])\n",
    "    draw(vis, state)\n",
    "    times[i]\n",
    "end"
   ]
  },
  {
   "cell_type": "code",
   "execution_count": 11,
   "metadata": {
    "collapsed": false
   },
   "outputs": [
    {
     "data": {
      "text/plain": [
       "0"
      ]
     },
     "execution_count": 11,
     "metadata": {},
     "output_type": "execute_result"
    }
   ],
   "source": [
    "# close the viewer\n",
    "kill(proc)"
   ]
  },
  {
   "cell_type": "code",
   "execution_count": 12,
   "metadata": {
    "collapsed": true
   },
   "outputs": [],
   "source": []
  }
 ],
 "metadata": {
  "kernelspec": {
   "display_name": "Julia 0.5.0",
   "language": "julia",
   "name": "julia-0.5"
  },
  "language_info": {
   "file_extension": ".jl",
   "mimetype": "application/julia",
   "name": "julia",
   "version": "0.5.0"
  },
  "widgets": {
   "state": {
    "03a72e9b-f3fc-4b22-bed5-f4fd39e9730c": {
     "views": [
      {
       "cell_index": 5
      }
     ]
    },
    "16ca1dfe-30dc-4e33-806c-dc19193b995b": {
     "views": [
      {
       "cell_index": 5
      }
     ]
    },
    "2aedd179-3aef-4ef2-88c1-405e0ed3558a": {
     "views": [
      {
       "cell_index": 9
      }
     ]
    },
    "46a8d1f7-4052-4a91-bfd7-44633e2f5044": {
     "views": [
      {
       "cell_index": 5
      }
     ]
    },
    "4e188f74-ff29-4ca3-a796-5071b0c5178e": {
     "views": [
      {
       "cell_index": 5
      }
     ]
    },
    "5bdb1b9d-4648-43ba-a4e5-b0d97a2cfa20": {
     "views": [
      {
       "cell_index": 5
      }
     ]
    },
    "6967951e-a73d-48ac-ba1d-8dc302b1d867": {
     "views": [
      {
       "cell_index": 5
      }
     ]
    },
    "6971ac77-7560-44e1-92cd-3d433602d164": {
     "views": [
      {
       "cell_index": 5
      }
     ]
    },
    "732bdcad-81bd-402f-86dc-de8c704c304c": {
     "views": [
      {
       "cell_index": 5
      }
     ]
    },
    "7776dca0-3a83-4afd-a4a7-7b3bb591510b": {
     "views": [
      {
       "cell_index": 5
      }
     ]
    },
    "970e49bc-cf67-44d0-8078-0732bec3e15b": {
     "views": [
      {
       "cell_index": 5
      }
     ]
    },
    "f691f06e-75d7-497d-acb8-50d665262cb7": {
     "views": [
      {
       "cell_index": 5
      }
     ]
    }
   },
   "version": "1.2.0"
  }
 },
 "nbformat": 4,
 "nbformat_minor": 0
}
