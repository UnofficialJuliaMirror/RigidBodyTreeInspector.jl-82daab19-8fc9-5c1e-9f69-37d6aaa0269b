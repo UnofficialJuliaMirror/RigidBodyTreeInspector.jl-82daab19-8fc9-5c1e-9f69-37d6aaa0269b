{
 "cells": [
  {
   "cell_type": "code",
   "execution_count": 80,
   "metadata": {
    "collapsed": true
   },
   "outputs": [],
   "source": [
    "using ProfileView"
   ]
  },
  {
   "cell_type": "code",
   "execution_count": 1,
   "metadata": {
    "collapsed": false
   },
   "outputs": [
    {
     "data": {
      "text/html": [
       "<div id=\"interact-js-shim\">\n",
       "    <script charset=\"utf-8\">\n",
       "(function (IPython, $, _, MathJax) {\n",
       "    $.event.special.destroyed = {\n",
       "\tremove: function(o) {\n",
       "\t    if (o.handler) {\n",
       "\t\to.handler.apply(this, arguments)\n",
       "\t    }\n",
       "\t}\n",
       "    }\n",
       "\n",
       "    var OutputArea = IPython.version >= \"4.0.0\" ? require(\"notebook/js/outputarea\").OutputArea : IPython.OutputArea;\n",
       "\n",
       "    var redrawValue = function (container, type, val) {\n",
       "\tvar selector = $(\"<div/>\");\n",
       "\tvar oa = new OutputArea(_.extend(selector, {\n",
       "\t    selector: selector,\n",
       "\t    prompt_area: true,\n",
       "\t    events: IPython.events,\n",
       "\t    keyboard_manager: IPython.keyboard_manager\n",
       "\t})); // Hack to work with IPython 2.1.0\n",
       "\n",
       "\tswitch (type) {\n",
       "\tcase \"image/png\":\n",
       "            var _src = 'data:' + type + ';base64,' + val;\n",
       "\t    $(container).find(\"img\").attr('src', _src);\n",
       "\t    break;\n",
       "\tcase \"text/latex\":\n",
       "\t\tif (MathJax){\n",
       "\t\t\tvar math = MathJax.Hub.getAllJax(container)[0];\n",
       "\t\t\tMathJax.Hub.Queue([\"Text\", math, val.replace(/^\\${1,2}|\\${1,2}$/g, '')]);\n",
       "\t\t\tbreak;\n",
       "\t\t}\n",
       "\tdefault:\n",
       "\t    var toinsert = OutputArea.append_map[type].apply(\n",
       "\t\toa, [val, {}, selector]\n",
       "\t    );\n",
       "\t    $(container).empty().append(toinsert.contents());\n",
       "\t    selector.remove();\n",
       "\t}\n",
       "    }\n",
       "\n",
       "\n",
       "    $(document).ready(function() {\n",
       "\tfunction initComm(evt, data) {\n",
       "\t    var comm_manager = data.kernel.comm_manager;\n",
       "        //_.extend(comm_manager.targets, require(\"widgets/js/widget\"))\n",
       "\t    comm_manager.register_target(\"Signal\", function (comm) {\n",
       "            comm.on_msg(function (msg) {\n",
       "                var val = msg.content.data.value;\n",
       "                $(\".signal-\" + comm.comm_id).each(function() {\n",
       "                var type = $(this).data(\"type\");\n",
       "                if (typeof(val[type]) !== \"undefined\" && val[type] !== null) {\n",
       "                    redrawValue(this, type, val[type], type);\n",
       "                }\n",
       "                });\n",
       "                delete val;\n",
       "                delete msg.content.data.value;\n",
       "            });\n",
       "\t    });\n",
       "\n",
       "\t    // coordingate with Comm and redraw Signals\n",
       "\t    // XXX: Test using Reactive here to improve performance\n",
       "\t    $([IPython.events]).on(\n",
       "\t\t'output_appended.OutputArea', function (event, type, value, md, toinsert) {\n",
       "\t\t    if (md && md.reactive) {\n",
       "                // console.log(md.comm_id);\n",
       "                toinsert.addClass(\"signal-\" + md.comm_id);\n",
       "                toinsert.data(\"type\", type);\n",
       "                // Signal back indicating the mimetype required\n",
       "                var comm_manager = IPython.notebook.kernel.comm_manager;\n",
       "                var comm = comm_manager.comms[md.comm_id];\n",
       "                comm.then(function (c) {\n",
       "                    c.send({action: \"subscribe_mime\",\n",
       "                       mime: type});\n",
       "                    toinsert.bind(\"destroyed\", function() {\n",
       "                        c.send({action: \"unsubscribe_mime\",\n",
       "                               mime: type});\n",
       "                    });\n",
       "                })\n",
       "\t\t    }\n",
       "\t    });\n",
       "\t}\n",
       "\n",
       "\ttry {\n",
       "\t    // try to initialize right away. otherwise, wait on the status_started event.\n",
       "\t    initComm(undefined, IPython.notebook);\n",
       "\t} catch (e) {\n",
       "\t    $([IPython.events]).on('kernel_created.Kernel kernel_created.Session', initComm);\n",
       "\t}\n",
       "    });\n",
       "})(IPython, jQuery, _, MathJax);\n",
       "</script>\n",
       "    <script>\n",
       "        window.interactLoadedFlag = true\n",
       "       $(\"#interact-js-shim\").bind(\"destroyed\", function () {\n",
       "           if (window.interactLoadedFlag) {\n",
       "               console.warn(\"JavaScript required by Interact will be removed if you remove this cell or run using Interact more than once.\")\n",
       "           }\n",
       "       })\n",
       "       $([IPython.events]).on(\"kernel_starting.Kernel kernel_restarting.Kernel\", function () { window.interactLoadedFlag = false })\n",
       "   </script>\n",
       "</div>"
      ]
     },
     "metadata": {},
     "output_type": "display_data"
    }
   ],
   "source": [
    "using RigidBodyDynamics\n",
    "using Interact"
   ]
  },
  {
   "cell_type": "code",
   "execution_count": 2,
   "metadata": {
    "collapsed": false
   },
   "outputs": [
    {
     "name": "stdout",
     "output_type": "stream",
     "text": [
      "adding: /home/rdeits/.julia/v0.5/DrakeVisualizer/src/lcmtypes to the python path\n"
     ]
    }
   ],
   "source": [
    "import RigidBodyTreeInspector"
   ]
  },
  {
   "cell_type": "code",
   "execution_count": 122,
   "metadata": {
    "collapsed": false
   },
   "outputs": [
    {
     "name": "stdout",
     "output_type": "stream",
     "text": [
      "adding: /home/rdeits/.julia/v0.5/DrakeVisualizer/src/lcmtypes to the python path\n"
     ]
    },
    {
     "name": "stderr",
     "output_type": "stream",
     "text": [
      "WARNING: replacing module DrakeVisualizer.\n",
      "\u001b[1m\u001b[34mINFO: Recompiling stale cache file /home/rdeits/.julia/lib/v0.5/RigidBodyTreeInspector.ji for module RigidBodyTreeInspector.\n",
      "\u001b[0m"
     ]
    },
    {
     "name": "stdout",
     "output_type": "stream",
     "text": [
      "adding: /home/rdeits/.julia/v0.5/DrakeVisualizer/src/lcmtypes to the python path\n"
     ]
    },
    {
     "name": "stderr",
     "output_type": "stream",
     "text": [
      "WARNING: replacing module RigidBodyTreeInspector.\n",
      "WARNING: Method definition convert(Type{CoordinateTransformations.AffineMap}, RigidBodyDynamics.Transform3D) in module RigidBodyTreeInspector at /home/rdeits/.julia/v0.5/RigidBodyTreeInspector/src/visualizer.jl:45 overwritten in module RigidBodyTreeInspector at /home/rdeits/.julia/v0.5/RigidBodyTreeInspector/src/visualizer.jl:45.\n",
      "WARNING: Method definition #parse_urdf(Array{Any, 1}, RigidBodyDynamics.#parse_urdf, String, RigidBodyDynamics.Mechanism) in module RigidBodyTreeInspector overwritten in module RigidBodyTreeInspector.\n",
      "WARNING: Method definition parse_urdf(String, RigidBodyDynamics.Mechanism) in module RigidBodyTreeInspector at /home/rdeits/.julia/v0.5/RigidBodyTreeInspector/src/parse_urdf.jl:158 overwritten in module RigidBodyTreeInspector at /home/rdeits/.julia/v0.5/RigidBodyTreeInspector/src/parse_urdf.jl:158.\n"
     ]
    }
   ],
   "source": [
    "reload(\"DrakeVisualizer\")\n",
    "reload(\"RigidBodyTreeInspector\")"
   ]
  },
  {
   "cell_type": "code",
   "execution_count": 123,
   "metadata": {
    "collapsed": false
   },
   "outputs": [
    {
     "data": {
      "text/plain": [
       "MechanismState{Float64, Float64, Float64}(…)"
      ]
     },
     "execution_count": 123,
     "metadata": {},
     "output_type": "execute_result"
    }
   ],
   "source": [
    "mechanism = rand_chain_mechanism(Float64, [QuaternionFloating{Float64}; [Revolute{Float64} for i = 1:5]]...)\n",
    "state = MechanismState(Float64, mechanism)"
   ]
  },
  {
   "cell_type": "code",
   "execution_count": 124,
   "metadata": {
    "collapsed": false
   },
   "outputs": [
    {
     "data": {
      "text/plain": [
       "DrakeVisualizer.Visualizer(DrakeVisualizer.CoreVisualizer(PyLCM.LCM(PyObject <LCM object at 0x7f8f380bd150>),LazyTree: DrakeVisualizer.VisData(CoordinateTransformations.IdentityTransformation(),DrakeVisualizer.GeometryData[]),DrakeVisualizer.CommandQueue(Set{Array{Symbol,1}}(),Set{Array{Symbol,1}}(),Set{Array{Symbol,1}}()),true),Symbol[:robot1])"
      ]
     },
     "execution_count": 124,
     "metadata": {},
     "output_type": "execute_result"
    }
   ],
   "source": [
    "vis = DrakeVisualizer.Visualizer()[:robot1]"
   ]
  },
  {
   "cell_type": "code",
   "execution_count": 125,
   "metadata": {
    "collapsed": false
   },
   "outputs": [],
   "source": [
    "RigidBodyTreeInspector.load!(vis, RigidBodyTreeInspector.create_geometry(mechanism))"
   ]
  },
  {
   "cell_type": "code",
   "execution_count": 126,
   "metadata": {
    "collapsed": false
   },
   "outputs": [],
   "source": [
    "RigidBodyTreeInspector.draw!(vis, state)"
   ]
  },
  {
   "cell_type": "code",
   "execution_count": 127,
   "metadata": {
    "collapsed": false
   },
   "outputs": [
    {
     "name": "stdout",
     "output_type": "stream",
     "text": [
      "0.0008907648110000001\n"
     ]
    },
    {
     "data": {
      "image/svg+xml": [
       "<?xml version=\"1.0\" standalone=\"no\"?>\n",
       "<!DOCTYPE svg PUBLIC \"-//W3C//DTD SVG 1.1//EN\" \"http://www.w3.org/Graphics/SVG/1.1/DTD/svg11.dtd\">\n",
       "<svg version=\"1.1\" width=\"1200\" height=\"415\" viewBox=\"0 0 1200 415\" xmlns=\"http://www.w3.org/2000/svg\" >\n",
       "<defs >\n",
       "    <linearGradient id=\"background\" y1=\"0\" y2=\"1\" x1=\"0\" x2=\"0\" >\n",
       "        <stop stop-color=\"#eeeeee\" offset=\"5%\" />\n",
       "        <stop stop-color=\"#eeeeb0\" offset=\"95%\" />\n",
       "    </linearGradient>\n",
       "    <clipPath id=\"fig-2d09b0eca65e440da24d7468b573a69d-image-frame\">\n",
       "      <rect id=\"fig-2d09b0eca65e440da24d7468b573a69d-clip-rect\" x=\"0\" y=\"0\" width=\"1200\" height=\"415\" />\n",
       "    </clipPath>\n",
       "</defs>\n",
       "<style type=\"text/css\">\n",
       "    rect[rx]:hover { stroke:black; stroke-width:1; }\n",
       "    text:hover { stroke:black; stroke-width:1; stroke-opacity:0.35; }\n",
       "</style>\n",
       "<g id=\"fig-2d09b0eca65e440da24d7468b573a69d-frame\" clip-path=\"url(#fig-2d09b0eca65e440da24d7468b573a69d-image-frame)\">\n",
       "<rect class=\"pvbackground\" x=\"0.0\" y=\"0\" width=\"1200.0\" height=\"415.0\" fill=\"url(#background)\"  />\n",
       "<text class=\"pvbackground\" text-anchor=\"middle\" x=\"600\" y=\"24\" font-size=\"17\" font-family=\"Verdana\" fill=\"rgb(0,0,0)\"  >Profile results</text>\n",
       "<text text-anchor=\"left\" x=\"10\" y=\"398\" font-size=\"12\" font-family=\"Verdana\" fill=\"rgb(0,0,0)\"  >Function:</text>\n",
       "<text text-anchor=\"\" x=\"70\" y=\"398\" font-size=\"12\" font-family=\"Verdana\" fill=\"rgb(0,0,0)\" id=\"fig-2d09b0eca65e440da24d7468b573a69d-details\" > </text>\n",
       "<g id=\"fig-2d09b0eca65e440da24d7468b573a69d-viewport\" transform=\"scale(1)\">\n",
       "<rect vector-effect=\"non-scaling-stroke\" x=\"10.0\" y=\"360.0\" width=\"1177.3483146067415\" height=\"15.0\" fill=\"rgb(232,112,221)\" rx=\"2\" ry=\"2\" data-shortinfo=\"#13 in task.jl:360\" data-info=\"#13 in ./task.jl:360\"/>\n",
       "<text text-anchor=\"\" x=\"14.0\" y=\"371.5\" font-size=\"12\" font-family=\"Verdana\" fill=\"rgb(0,0,0)\" ></text>\n",
       "<rect vector-effect=\"non-scaling-stroke\" x=\"10.0\" y=\"345.0\" width=\"1177.3483146067415\" height=\"15.0\" fill=\"rgb(255,164,156)\" rx=\"2\" ry=\"2\" data-shortinfo=\"eventloop in eventloop.jl:8\" data-info=\"eventloop in /home/rdeits/.julia/v0.5/IJulia/src/eventloop.jl:8\"/>\n",
       "<text text-anchor=\"\" x=\"14.0\" y=\"356.5\" font-size=\"12\" font-family=\"Verdana\" fill=\"rgb(0,0,0)\" ></text>\n",
       "<rect vector-effect=\"non-scaling-stroke\" x=\"10.0\" y=\"330.0\" width=\"1177.3483146067415\" height=\"15.0\" fill=\"rgb(232,112,221)\" rx=\"2\" ry=\"2\" data-shortinfo=\"execute_request in execute_request.jl:175\" data-info=\"execute_request in /home/rdeits/.julia/v0.5/IJulia/src/execute_request.jl:175\"/>\n",
       "<text text-anchor=\"\" x=\"14.0\" y=\"341.5\" font-size=\"12\" font-family=\"Verdana\" fill=\"rgb(0,0,0)\" ></text>\n",
       "<rect vector-effect=\"non-scaling-stroke\" x=\"10.0\" y=\"315.0\" width=\"1177.3483146067415\" height=\"15.0\" fill=\"rgb(255,164,156)\" rx=\"2\" ry=\"2\" data-shortinfo=\"include_string in loading.jl:441\" data-info=\"include_string in ./loading.jl:441\"/>\n",
       "<text text-anchor=\"\" x=\"14.0\" y=\"326.5\" font-size=\"12\" font-family=\"Verdana\" fill=\"rgb(0,0,0)\" ></text>\n",
       "<rect vector-effect=\"non-scaling-stroke\" x=\"10.0\" y=\"300.0\" width=\"1.3258426966292127\" height=\"15.0\" fill=\"rgb(232,112,221)\" rx=\"2\" ry=\"2\" data-shortinfo=\"macro expansion; in In[127]:8; macro expansion; in profile.jl:16; macro expansion; in util.jl:226; anonymous in &amp;lt;missing&amp;gt;:-1\" data-info=\"macro expansion; in ./In[127]:8; macro expansion; in ./profile.jl:16; macro expansion; in ./util.jl:226; anonymous in ./&amp;lt;missing&amp;gt;:-1\"/>\n",
       "<text text-anchor=\"\" x=\"14.0\" y=\"311.5\" font-size=\"12\" font-family=\"Verdana\" fill=\"rgb(0,0,0)\" ></text>\n",
       "<rect vector-effect=\"non-scaling-stroke\" x=\"11.325842696629213\" y=\"300.0\" width=\"414.9887640449438\" height=\"15.0\" fill=\"rgb(50,180,78)\" rx=\"2\" ry=\"2\" data-shortinfo=\"macro expansion; in In[127]:9; macro expansion; in profile.jl:16; macro expansion; in util.jl:226; anonymous in &amp;lt;missing&amp;gt;:-1\" data-info=\"macro expansion; in ./In[127]:9; macro expansion; in ./profile.jl:16; macro expansion; in ./util.jl:226; anonymous in ./&amp;lt;missing&amp;gt;:-1\"/>\n",
       "<text text-anchor=\"\" x=\"15.325842696629213\" y=\"311.5\" font-size=\"12\" font-family=\"Verdana\" fill=\"rgb(0,0,0)\" ></text>\n",
       "<rect vector-effect=\"non-scaling-stroke\" x=\"426.314606741573\" y=\"300.0\" width=\"343.3932584269662\" height=\"15.0\" fill=\"rgb(26,162,255)\" rx=\"2\" ry=\"2\" data-shortinfo=\"macro expansion; in In[127]:10; macro expansion; in profile.jl:16; macro expansion; in util.jl:226; anonymous in &amp;lt;missing&amp;gt;:-1\" data-info=\"macro expansion; in ./In[127]:10; macro expansion; in ./profile.jl:16; macro expansion; in ./util.jl:226; anonymous in ./&amp;lt;missing&amp;gt;:-1\"/>\n",
       "<text text-anchor=\"\" x=\"430.314606741573\" y=\"311.5\" font-size=\"12\" font-family=\"Verdana\" fill=\"rgb(0,0,0)\" ></text>\n",
       "<rect vector-effect=\"non-scaling-stroke\" x=\"769.7078651685392\" y=\"300.0\" width=\"417.64044943820227\" height=\"15.0\" fill=\"rgb(210,165,23)\" rx=\"2\" ry=\"2\" data-shortinfo=\"macro expansion; in In[127]:11; macro expansion; in profile.jl:16; macro expansion; in util.jl:226; anonymous in &amp;lt;missing&amp;gt;:-1\" data-info=\"macro expansion; in ./In[127]:11; macro expansion; in ./profile.jl:16; macro expansion; in ./util.jl:226; anonymous in ./&amp;lt;missing&amp;gt;:-1\"/>\n",
       "<text text-anchor=\"\" x=\"773.7078651685392\" y=\"311.5\" font-size=\"12\" font-family=\"Verdana\" fill=\"rgb(0,0,0)\" ></text>\n",
       "<rect vector-effect=\"non-scaling-stroke\" x=\"10.0\" y=\"285.0\" width=\"1.3258426966292127\" height=\"15.0\" fill=\"rgb(255,164,156)\" rx=\"2\" ry=\"2\" data-shortinfo=\"empty! in set.jl:44; empty! in visualizer.jl:33\" data-info=\"empty! in ./set.jl:44; empty! in /home/rdeits/.julia/v0.5/DrakeVisualizer/src/visualizer.jl:33\"/>\n",
       "<text text-anchor=\"\" x=\"14.0\" y=\"296.5\" font-size=\"12\" font-family=\"Verdana\" fill=\"rgb(0,0,0)\" ></text>\n",
       "<rect vector-effect=\"non-scaling-stroke\" x=\"11.325842696629213\" y=\"285.0\" width=\"414.9887640449438\" height=\"15.0\" fill=\"rgb(158,158,158)\" rx=\"2\" ry=\"2\" data-shortinfo=\"draw! in visualizer.jl:17\" data-info=\"draw! in /home/rdeits/.julia/v0.5/RigidBodyTreeInspector/src/visualizer.jl:17\"/>\n",
       "<text text-anchor=\"\" x=\"15.325842696629213\" y=\"296.5\" font-size=\"12\" font-family=\"Verdana\" fill=\"rgb(0,0,0)\" ></text>\n",
       "<rect vector-effect=\"non-scaling-stroke\" x=\"426.314606741573\" y=\"285.0\" width=\"1.325842696629195\" height=\"15.0\" fill=\"rgb(205,185,255)\" rx=\"2\" ry=\"2\" data-shortinfo=\"push! in array.jl:480; serialize in serialization.jl:18\" data-info=\"push! in ./array.jl:480; serialize in /home/rdeits/.julia/v0.5/DrakeVisualizer/src/serialization.jl:18\"/>\n",
       "<text text-anchor=\"\" x=\"430.314606741573\" y=\"296.5\" font-size=\"12\" font-family=\"Verdana\" fill=\"rgb(0,0,0)\" ></text>\n",
       "<rect vector-effect=\"non-scaling-stroke\" x=\"427.6404494382022\" y=\"285.0\" width=\"1.325842696629195\" height=\"15.0\" fill=\"rgb(255,141,62)\" rx=\"2\" ry=\"2\" data-shortinfo=\"start in dict.jl:752; start in set.jl:47; serialize in serialization.jl:9\" data-info=\"start in ./dict.jl:752; start in ./set.jl:47; serialize in /home/rdeits/.julia/v0.5/DrakeVisualizer/src/serialization.jl:9\"/>\n",
       "<text text-anchor=\"\" x=\"431.6404494382022\" y=\"296.5\" font-size=\"12\" font-family=\"Verdana\" fill=\"rgb(0,0,0)\" ></text>\n",
       "<rect vector-effect=\"non-scaling-stroke\" x=\"428.9662921348314\" y=\"285.0\" width=\"1.3258426966292518\" height=\"15.0\" fill=\"rgb(180,211,70)\" rx=\"2\" ry=\"2\" data-shortinfo=\"serialize in serialization.jl:2\" data-info=\"serialize in /home/rdeits/.julia/v0.5/DrakeVisualizer/src/serialization.jl:2\"/>\n",
       "<text text-anchor=\"\" x=\"432.9662921348314\" y=\"296.5\" font-size=\"12\" font-family=\"Verdana\" fill=\"rgb(0,0,0)\" ></text>\n",
       "<rect vector-effect=\"non-scaling-stroke\" x=\"430.29213483146066\" y=\"285.0\" width=\"5.303370786516837\" height=\"15.0\" fill=\"rgb(255,164,156)\" rx=\"2\" ry=\"2\" data-shortinfo=\"serialize in serialization.jl:16\" data-info=\"serialize in /home/rdeits/.julia/v0.5/DrakeVisualizer/src/serialization.jl:16\"/>\n",
       "<text text-anchor=\"\" x=\"434.29213483146066\" y=\"296.5\" font-size=\"12\" font-family=\"Verdana\" fill=\"rgb(0,0,0)\" ></text>\n",
       "<rect vector-effect=\"non-scaling-stroke\" x=\"435.5955056179775\" y=\"285.0\" width=\"107.39325842696627\" height=\"15.0\" fill=\"rgb(158,158,158)\" rx=\"2\" ry=\"2\" data-shortinfo=\"serialize in serialization.jl:17\" data-info=\"serialize in /home/rdeits/.julia/v0.5/DrakeVisualizer/src/serialization.jl:17\"/>\n",
       "<text text-anchor=\"\" x=\"439.5955056179775\" y=\"296.5\" font-size=\"12\" font-family=\"Verdana\" fill=\"rgb(0,0,0)\" ></text>\n",
       "<rect vector-effect=\"non-scaling-stroke\" x=\"542.9887640449438\" y=\"285.0\" width=\"153.79775280898878\" height=\"15.0\" fill=\"rgb(158,158,158)\" rx=\"2\" ry=\"2\" data-shortinfo=\"serialize in serialization.jl:17\" data-info=\"serialize in /home/rdeits/.julia/v0.5/DrakeVisualizer/src/serialization.jl:17\"/>\n",
       "<text text-anchor=\"\" x=\"546.9887640449438\" y=\"296.5\" font-size=\"12\" font-family=\"Verdana\" fill=\"rgb(0,0,0)\" ></text>\n",
       "<rect vector-effect=\"non-scaling-stroke\" x=\"696.7865168539325\" y=\"285.0\" width=\"39.77528089887642\" height=\"15.0\" fill=\"rgb(158,158,158)\" rx=\"2\" ry=\"2\" data-shortinfo=\"serialize in serialization.jl:17\" data-info=\"serialize in /home/rdeits/.julia/v0.5/DrakeVisualizer/src/serialization.jl:17\"/>\n",
       "<text text-anchor=\"\" x=\"700.7865168539325\" y=\"296.5\" font-size=\"12\" font-family=\"Verdana\" fill=\"rgb(0,0,0)\" ></text>\n",
       "<rect vector-effect=\"non-scaling-stroke\" x=\"736.561797752809\" y=\"285.0\" width=\"1.3258426966291381\" height=\"15.0\" fill=\"rgb(158,158,158)\" rx=\"2\" ry=\"2\" data-shortinfo=\"serialize in serialization.jl:17\" data-info=\"serialize in /home/rdeits/.julia/v0.5/DrakeVisualizer/src/serialization.jl:17\"/>\n",
       "<text text-anchor=\"\" x=\"740.561797752809\" y=\"296.5\" font-size=\"12\" font-family=\"Verdana\" fill=\"rgb(0,0,0)\" ></text>\n",
       "<rect vector-effect=\"non-scaling-stroke\" x=\"737.8876404494381\" y=\"285.0\" width=\"26.516853932584354\" height=\"15.0\" fill=\"rgb(205,185,255)\" rx=\"2\" ry=\"2\" data-shortinfo=\"serialize in serialization.jl:18\" data-info=\"serialize in /home/rdeits/.julia/v0.5/DrakeVisualizer/src/serialization.jl:18\"/>\n",
       "<text text-anchor=\"\" x=\"741.8876404494381\" y=\"296.5\" font-size=\"12\" font-family=\"Verdana\" fill=\"rgb(0,0,0)\" ></text>\n",
       "<rect vector-effect=\"non-scaling-stroke\" x=\"764.4044943820224\" y=\"285.0\" width=\"1.3258426966291381\" height=\"15.0\" fill=\"rgb(205,185,255)\" rx=\"2\" ry=\"2\" data-shortinfo=\"serialize in serialization.jl:18\" data-info=\"serialize in /home/rdeits/.julia/v0.5/DrakeVisualizer/src/serialization.jl:18\"/>\n",
       "<text text-anchor=\"\" x=\"768.4044943820224\" y=\"296.5\" font-size=\"12\" font-family=\"Verdana\" fill=\"rgb(0,0,0)\" ></text>\n",
       "<rect vector-effect=\"non-scaling-stroke\" x=\"765.7303370786516\" y=\"285.0\" width=\"2.6516853932585036\" height=\"15.0\" fill=\"rgb(255,141,62)\" rx=\"2\" ry=\"2\" data-shortinfo=\"serialize in serialization.jl:24\" data-info=\"serialize in /home/rdeits/.julia/v0.5/DrakeVisualizer/src/serialization.jl:24\"/>\n",
       "<text text-anchor=\"\" x=\"769.7303370786516\" y=\"296.5\" font-size=\"12\" font-family=\"Verdana\" fill=\"rgb(0,0,0)\" ></text>\n",
       "<rect vector-effect=\"non-scaling-stroke\" x=\"768.3820224719101\" y=\"285.0\" width=\"1.3258426966291381\" height=\"15.0\" fill=\"rgb(255,141,62)\" rx=\"2\" ry=\"2\" data-shortinfo=\"serialize in serialization.jl:24\" data-info=\"serialize in /home/rdeits/.julia/v0.5/DrakeVisualizer/src/serialization.jl:24\"/>\n",
       "<text text-anchor=\"\" x=\"772.3820224719101\" y=\"296.5\" font-size=\"12\" font-family=\"Verdana\" fill=\"rgb(0,0,0)\" ></text>\n",
       "<rect vector-effect=\"non-scaling-stroke\" x=\"769.7078651685392\" y=\"285.0\" width=\"107.39325842696633\" height=\"15.0\" fill=\"rgb(180,211,70)\" rx=\"2\" ry=\"2\" data-shortinfo=\"to_lcm in visualizer.jl:120\" data-info=\"to_lcm in /home/rdeits/.julia/v0.5/DrakeVisualizer/src/visualizer.jl:120\"/>\n",
       "<text text-anchor=\"\" x=\"773.7078651685392\" y=\"296.5\" font-size=\"12\" font-family=\"Verdana\" fill=\"rgb(0,0,0)\" ></text>\n",
       "<rect vector-effect=\"non-scaling-stroke\" x=\"877.1011235955056\" y=\"285.0\" width=\"116.67415730337075\" height=\"15.0\" fill=\"rgb(180,211,70)\" rx=\"2\" ry=\"2\" data-shortinfo=\"to_lcm in visualizer.jl:120\" data-info=\"to_lcm in /home/rdeits/.julia/v0.5/DrakeVisualizer/src/visualizer.jl:120\"/>\n",
       "<text text-anchor=\"\" x=\"881.1011235955056\" y=\"296.5\" font-size=\"12\" font-family=\"Verdana\" fill=\"rgb(0,0,0)\" ></text>\n",
       "<rect vector-effect=\"non-scaling-stroke\" x=\"993.7752808988763\" y=\"285.0\" width=\"1.3258426966292518\" height=\"15.0\" fill=\"rgb(180,211,70)\" rx=\"2\" ry=\"2\" data-shortinfo=\"to_lcm in visualizer.jl:120\" data-info=\"to_lcm in /home/rdeits/.julia/v0.5/DrakeVisualizer/src/visualizer.jl:120\"/>\n",
       "<text text-anchor=\"\" x=\"997.7752808988763\" y=\"296.5\" font-size=\"12\" font-family=\"Verdana\" fill=\"rgb(0,0,0)\" ></text>\n",
       "<rect vector-effect=\"non-scaling-stroke\" x=\"995.1011235955056\" y=\"285.0\" width=\"1.3258426966292518\" height=\"15.0\" fill=\"rgb(255,164,156)\" rx=\"2\" ry=\"2\" data-shortinfo=\"to_lcm in visualizer.jl:121\" data-info=\"to_lcm in /home/rdeits/.julia/v0.5/DrakeVisualizer/src/visualizer.jl:121\"/>\n",
       "<text text-anchor=\"\" x=\"999.1011235955056\" y=\"296.5\" font-size=\"12\" font-family=\"Verdana\" fill=\"rgb(0,0,0)\" ></text>\n",
       "<rect vector-effect=\"non-scaling-stroke\" x=\"996.4269662921348\" y=\"285.0\" width=\"1.3258426966291381\" height=\"15.0\" fill=\"rgb(158,158,158)\" rx=\"2\" ry=\"2\" data-shortinfo=\"to_lcm in visualizer.jl:122\" data-info=\"to_lcm in /home/rdeits/.julia/v0.5/DrakeVisualizer/src/visualizer.jl:122\"/>\n",
       "<text text-anchor=\"\" x=\"1000.4269662921348\" y=\"296.5\" font-size=\"12\" font-family=\"Verdana\" fill=\"rgb(0,0,0)\" ></text>\n",
       "<rect vector-effect=\"non-scaling-stroke\" x=\"997.752808988764\" y=\"285.0\" width=\"1.3258426966292518\" height=\"15.0\" fill=\"rgb(205,185,255)\" rx=\"2\" ry=\"2\" data-shortinfo=\"to_lcm in visualizer.jl:123\" data-info=\"to_lcm in /home/rdeits/.julia/v0.5/DrakeVisualizer/src/visualizer.jl:123\"/>\n",
       "<text text-anchor=\"\" x=\"1001.752808988764\" y=\"296.5\" font-size=\"12\" font-family=\"Verdana\" fill=\"rgb(0,0,0)\" ></text>\n",
       "<rect vector-effect=\"non-scaling-stroke\" x=\"999.0786516853932\" y=\"285.0\" width=\"160.42696629213492\" height=\"15.0\" fill=\"rgb(255,141,62)\" rx=\"2\" ry=\"2\" data-shortinfo=\"to_lcm in visualizer.jl:125\" data-info=\"to_lcm in /home/rdeits/.julia/v0.5/DrakeVisualizer/src/visualizer.jl:125\"/>\n",
       "<text text-anchor=\"\" x=\"1003.0786516853932\" y=\"296.5\" font-size=\"12\" font-family=\"Verdana\" fill=\"rgb(0,0,0)\" ></text>\n",
       "<rect vector-effect=\"non-scaling-stroke\" x=\"1159.5056179775281\" y=\"285.0\" width=\"9.280898876404308\" height=\"15.0\" fill=\"rgb(180,211,70)\" rx=\"2\" ry=\"2\" data-shortinfo=\"to_lcm in visualizer.jl:126\" data-info=\"to_lcm in /home/rdeits/.julia/v0.5/DrakeVisualizer/src/visualizer.jl:126\"/>\n",
       "<text text-anchor=\"\" x=\"1163.5056179775281\" y=\"296.5\" font-size=\"12\" font-family=\"Verdana\" fill=\"rgb(0,0,0)\" ></text>\n",
       "<rect vector-effect=\"non-scaling-stroke\" x=\"1168.7865168539324\" y=\"285.0\" width=\"2.6516853932585036\" height=\"15.0\" fill=\"rgb(180,211,70)\" rx=\"2\" ry=\"2\" data-shortinfo=\"to_lcm in visualizer.jl:126\" data-info=\"to_lcm in /home/rdeits/.julia/v0.5/DrakeVisualizer/src/visualizer.jl:126\"/>\n",
       "<text text-anchor=\"\" x=\"1172.7865168539324\" y=\"296.5\" font-size=\"12\" font-family=\"Verdana\" fill=\"rgb(0,0,0)\" ></text>\n",
       "<rect vector-effect=\"non-scaling-stroke\" x=\"1171.438202247191\" y=\"285.0\" width=\"15.910112359550567\" height=\"15.0\" fill=\"rgb(255,164,156)\" rx=\"2\" ry=\"2\" data-shortinfo=\"to_lcm in visualizer.jl:127\" data-info=\"to_lcm in /home/rdeits/.julia/v0.5/DrakeVisualizer/src/visualizer.jl:127\"/>\n",
       "<text text-anchor=\"\" x=\"1175.438202247191\" y=\"296.5\" font-size=\"12\" font-family=\"Verdana\" fill=\"rgb(0,0,0)\" ></text>\n",
       "<rect vector-effect=\"non-scaling-stroke\" x=\"10.0\" y=\"270.0\" width=\"1.3258426966292127\" height=\"15.0\" fill=\"rgb(232,112,221)\" rx=\"2\" ry=\"2\" data-shortinfo=\"empty! in dict.jl:518\" data-info=\"empty! in ./dict.jl:518\"/>\n",
       "<text text-anchor=\"\" x=\"14.0\" y=\"281.5\" font-size=\"12\" font-family=\"Verdana\" fill=\"rgb(0,0,0)\" ></text>\n",
       "<rect vector-effect=\"non-scaling-stroke\" x=\"11.325842696629213\" y=\"270.0\" width=\"414.9887640449438\" height=\"15.0\" fill=\"rgb(50,180,78)\" rx=\"2\" ry=\"2\" data-shortinfo=\"batch in visualizer.jl:153\" data-info=\"batch in /home/rdeits/.julia/v0.5/DrakeVisualizer/src/visualizer.jl:153\"/>\n",
       "<text text-anchor=\"\" x=\"15.325842696629213\" y=\"281.5\" font-size=\"12\" font-family=\"Verdana\" fill=\"rgb(0,0,0)\" ></text>\n",
       "<rect vector-effect=\"non-scaling-stroke\" x=\"427.6404494382022\" y=\"270.0\" width=\"1.325842696629195\" height=\"15.0\" fill=\"rgb(26,162,255)\" rx=\"2\" ry=\"2\" data-shortinfo=\"skip_deleted in dict.jl:746\" data-info=\"skip_deleted in ./dict.jl:746\"/>\n",
       "<text text-anchor=\"\" x=\"431.6404494382022\" y=\"281.5\" font-size=\"12\" font-family=\"Verdana\" fill=\"rgb(0,0,0)\" ></text>\n",
       "<rect vector-effect=\"non-scaling-stroke\" x=\"430.29213483146066\" y=\"270.0\" width=\"1.325842696629195\" height=\"15.0\" fill=\"rgb(210,165,23)\" rx=\"2\" ry=\"2\" data-shortinfo=\"getindex in lazytree.jl:45\" data-info=\"getindex in /home/rdeits/.julia/v0.5/DrakeVisualizer/src/lazytree.jl:45\"/>\n",
       "<text text-anchor=\"\" x=\"434.29213483146066\" y=\"281.5\" font-size=\"12\" font-family=\"Verdana\" fill=\"rgb(0,0,0)\" ></text>\n",
       "<rect vector-effect=\"non-scaling-stroke\" x=\"431.61797752808985\" y=\"270.0\" width=\"3.9775280898876417\" height=\"15.0\" fill=\"rgb(0,222,230)\" rx=\"2\" ry=\"2\" data-shortinfo=\"getindex in lazytree.jl:46\" data-info=\"getindex in /home/rdeits/.julia/v0.5/DrakeVisualizer/src/lazytree.jl:46\"/>\n",
       "<text text-anchor=\"\" x=\"435.61797752808985\" y=\"281.5\" font-size=\"12\" font-family=\"Verdana\" fill=\"rgb(0,0,0)\" ></text>\n",
       "<rect vector-effect=\"non-scaling-stroke\" x=\"696.7865168539325\" y=\"270.0\" width=\"7.9550561797752835\" height=\"15.0\" fill=\"rgb(232,112,221)\" rx=\"2\" ry=\"2\" data-shortinfo=\"Type in dict.jl:344; Type in dict.jl:355\" data-info=\"Type in ./dict.jl:344; Type in ./dict.jl:355\"/>\n",
       "<text text-anchor=\"\" x=\"700.7865168539325\" y=\"281.5\" font-size=\"12\" font-family=\"Verdana\" fill=\"rgb(0,0,0)\" ></text>\n",
       "<rect vector-effect=\"non-scaling-stroke\" x=\"704.7415730337078\" y=\"270.0\" width=\"23.86516853932585\" height=\"15.0\" fill=\"rgb(232,112,221)\" rx=\"2\" ry=\"2\" data-shortinfo=\"Type in dict.jl:344; Type in dict.jl:355\" data-info=\"Type in ./dict.jl:344; Type in ./dict.jl:355\"/>\n",
       "<text text-anchor=\"\" x=\"708.7415730337078\" y=\"281.5\" font-size=\"12\" font-family=\"Verdana\" fill=\"rgb(0,0,0)\" ></text>\n",
       "<rect vector-effect=\"non-scaling-stroke\" x=\"728.6067415730337\" y=\"270.0\" width=\"1.3258426966292518\" height=\"15.0\" fill=\"rgb(50,180,78)\" rx=\"2\" ry=\"2\" data-shortinfo=\"Type in dict.jl:355\" data-info=\"Type in ./dict.jl:355\"/>\n",
       "<text text-anchor=\"\" x=\"732.6067415730337\" y=\"281.5\" font-size=\"12\" font-family=\"Verdana\" fill=\"rgb(0,0,0)\" ></text>\n",
       "<rect vector-effect=\"non-scaling-stroke\" x=\"729.9325842696629\" y=\"270.0\" width=\"3.9775280898876417\" height=\"15.0\" fill=\"rgb(26,162,255)\" rx=\"2\" ry=\"2\" data-shortinfo=\"Type in dict.jl:358\" data-info=\"Type in ./dict.jl:358\"/>\n",
       "<text text-anchor=\"\" x=\"733.9325842696629\" y=\"281.5\" font-size=\"12\" font-family=\"Verdana\" fill=\"rgb(0,0,0)\" ></text>\n",
       "<rect vector-effect=\"non-scaling-stroke\" x=\"733.9101123595506\" y=\"270.0\" width=\"1.3258426966291381\" height=\"15.0\" fill=\"rgb(26,162,255)\" rx=\"2\" ry=\"2\" data-shortinfo=\"Type in dict.jl:358\" data-info=\"Type in ./dict.jl:358\"/>\n",
       "<text text-anchor=\"\" x=\"737.9101123595506\" y=\"281.5\" font-size=\"12\" font-family=\"Verdana\" fill=\"rgb(0,0,0)\" ></text>\n",
       "<rect vector-effect=\"non-scaling-stroke\" x=\"737.8876404494381\" y=\"270.0\" width=\"19.88764044943821\" height=\"15.0\" fill=\"rgb(210,165,23)\" rx=\"2\" ry=\"2\" data-shortinfo=\"Type in dict.jl:344; Type in dict.jl:355\" data-info=\"Type in ./dict.jl:344; Type in ./dict.jl:355\"/>\n",
       "<text text-anchor=\"\" x=\"741.8876404494381\" y=\"281.5\" font-size=\"12\" font-family=\"Verdana\" fill=\"rgb(0,0,0)\" ></text>\n",
       "<rect vector-effect=\"non-scaling-stroke\" x=\"757.7752808988763\" y=\"270.0\" width=\"2.6516853932585036\" height=\"15.0\" fill=\"rgb(210,165,23)\" rx=\"2\" ry=\"2\" data-shortinfo=\"Type in dict.jl:344; Type in dict.jl:355\" data-info=\"Type in ./dict.jl:344; Type in ./dict.jl:355\"/>\n",
       "<text text-anchor=\"\" x=\"761.7752808988763\" y=\"281.5\" font-size=\"12\" font-family=\"Verdana\" fill=\"rgb(0,0,0)\" ></text>\n",
       "<rect vector-effect=\"non-scaling-stroke\" x=\"760.4269662921348\" y=\"270.0\" width=\"2.65168539325839\" height=\"15.0\" fill=\"rgb(0,222,230)\" rx=\"2\" ry=\"2\" data-shortinfo=\"Type in dict.jl:358\" data-info=\"Type in ./dict.jl:358\"/>\n",
       "<text text-anchor=\"\" x=\"764.4269662921348\" y=\"281.5\" font-size=\"12\" font-family=\"Verdana\" fill=\"rgb(0,0,0)\" ></text>\n",
       "<rect vector-effect=\"non-scaling-stroke\" x=\"763.0786516853932\" y=\"270.0\" width=\"1.3258426966292518\" height=\"15.0\" fill=\"rgb(0,222,230)\" rx=\"2\" ry=\"2\" data-shortinfo=\"Type in dict.jl:358\" data-info=\"Type in ./dict.jl:358\"/>\n",
       "<text text-anchor=\"\" x=\"767.0786516853932\" y=\"281.5\" font-size=\"12\" font-family=\"Verdana\" fill=\"rgb(0,0,0)\" ></text>\n",
       "<rect vector-effect=\"non-scaling-stroke\" x=\"765.7303370786516\" y=\"270.0\" width=\"2.6516853932585036\" height=\"15.0\" fill=\"rgb(232,112,221)\" rx=\"2\" ry=\"2\" data-shortinfo=\"Type in dict.jl:344; Type in dict.jl:355\" data-info=\"Type in ./dict.jl:344; Type in ./dict.jl:355\"/>\n",
       "<text text-anchor=\"\" x=\"769.7303370786516\" y=\"281.5\" font-size=\"12\" font-family=\"Verdana\" fill=\"rgb(0,0,0)\" ></text>\n",
       "<rect vector-effect=\"non-scaling-stroke\" x=\"769.7078651685392\" y=\"270.0\" width=\"106.06741573033707\" height=\"15.0\" fill=\"rgb(50,180,78)\" rx=\"2\" ry=\"2\" data-shortinfo=\"convert in conversions.jl:795\" data-info=\"convert in /home/rdeits/.julia/v0.5/PyCall/src/conversions.jl:795\"/>\n",
       "<text text-anchor=\"\" x=\"773.7078651685392\" y=\"281.5\" font-size=\"12\" font-family=\"Verdana\" fill=\"rgb(0,0,0)\" ></text>\n",
       "<rect vector-effect=\"non-scaling-stroke\" x=\"875.7752808988763\" y=\"270.0\" width=\"1.3258426966292518\" height=\"15.0\" fill=\"rgb(26,162,255)\" rx=\"2\" ry=\"2\" data-shortinfo=\"convert in conversions.jl:799\" data-info=\"convert in /home/rdeits/.julia/v0.5/PyCall/src/conversions.jl:799\"/>\n",
       "<text text-anchor=\"\" x=\"879.7752808988763\" y=\"281.5\" font-size=\"12\" font-family=\"Verdana\" fill=\"rgb(0,0,0)\" ></text>\n",
       "<rect vector-effect=\"non-scaling-stroke\" x=\"877.1011235955056\" y=\"270.0\" width=\"115.34831460674161\" height=\"15.0\" fill=\"rgb(210,165,23)\" rx=\"2\" ry=\"2\" data-shortinfo=\"PyObject in PyCall.jl:571\" data-info=\"PyObject in /home/rdeits/.julia/v0.5/PyCall/src/PyCall.jl:571\"/>\n",
       "<text text-anchor=\"\" x=\"881.1011235955056\" y=\"281.5\" font-size=\"12\" font-family=\"Verdana\" fill=\"rgb(0,0,0)\" ></text>\n",
       "<rect vector-effect=\"non-scaling-stroke\" x=\"992.4494382022472\" y=\"270.0\" width=\"1.3258426966291381\" height=\"15.0\" fill=\"rgb(210,165,23)\" rx=\"2\" ry=\"2\" data-shortinfo=\"PyObject in PyCall.jl:571\" data-info=\"PyObject in /home/rdeits/.julia/v0.5/PyCall/src/PyCall.jl:571\"/>\n",
       "<text text-anchor=\"\" x=\"996.4494382022472\" y=\"281.5\" font-size=\"12\" font-family=\"Verdana\" fill=\"rgb(0,0,0)\" ></text>\n",
       "<rect vector-effect=\"non-scaling-stroke\" x=\"993.7752808988763\" y=\"270.0\" width=\"1.3258426966292518\" height=\"15.0\" fill=\"rgb(0,222,230)\" rx=\"2\" ry=\"2\" data-shortinfo=\"getindex in PyCall.jl:258\" data-info=\"getindex in /home/rdeits/.julia/v0.5/PyCall/src/PyCall.jl:258\"/>\n",
       "<text text-anchor=\"\" x=\"997.7752808988763\" y=\"281.5\" font-size=\"12\" font-family=\"Verdana\" fill=\"rgb(0,0,0)\" ></text>\n",
       "<rect vector-effect=\"non-scaling-stroke\" x=\"996.4269662921348\" y=\"270.0\" width=\"1.3258426966291381\" height=\"15.0\" fill=\"rgb(232,112,221)\" rx=\"2\" ry=\"2\" data-shortinfo=\"setindex! in PyCall.jl:272\" data-info=\"setindex! in /home/rdeits/.julia/v0.5/PyCall/src/PyCall.jl:272\"/>\n",
       "<text text-anchor=\"\" x=\"1000.4269662921348\" y=\"281.5\" font-size=\"12\" font-family=\"Verdana\" fill=\"rgb(0,0,0)\" ></text>\n",
       "<rect vector-effect=\"non-scaling-stroke\" x=\"997.752808988764\" y=\"270.0\" width=\"1.3258426966292518\" height=\"15.0\" fill=\"rgb(232,112,221)\" rx=\"2\" ry=\"2\" data-shortinfo=\"setindex! in PyCall.jl:272\" data-info=\"setindex! in /home/rdeits/.julia/v0.5/PyCall/src/PyCall.jl:272\"/>\n",
       "<text text-anchor=\"\" x=\"1001.752808988764\" y=\"281.5\" font-size=\"12\" font-family=\"Verdana\" fill=\"rgb(0,0,0)\" ></text>\n",
       "<rect vector-effect=\"non-scaling-stroke\" x=\"999.0786516853932\" y=\"270.0\" width=\"2.65168539325839\" height=\"15.0\" fill=\"rgb(50,180,78)\" rx=\"2\" ry=\"2\" data-shortinfo=\"#sprint#304 in io.jl:0\" data-info=\"#sprint#304 in ./strings/io.jl:0\"/>\n",
       "<text text-anchor=\"\" x=\"1003.0786516853932\" y=\"281.5\" font-size=\"12\" font-family=\"Verdana\" fill=\"rgb(0,0,0)\" ></text>\n",
       "<rect vector-effect=\"non-scaling-stroke\" x=\"1001.7303370786516\" y=\"270.0\" width=\"157.77528089887653\" height=\"15.0\" fill=\"rgb(26,162,255)\" rx=\"2\" ry=\"2\" data-shortinfo=\"#sprint#304 in io.jl:37\" data-info=\"#sprint#304 in ./strings/io.jl:37\"/>\n",
       "<text text-anchor=\"\" x=\"1005.7303370786516\" y=\"281.5\" font-size=\"12\" font-family=\"Verdana\" fill=\"rgb(0,0,0)\" ></text>\n",
       "<rect vector-effect=\"non-scaling-stroke\" x=\"1159.5056179775281\" y=\"270.0\" width=\"1.3258426966290244\" height=\"15.0\" fill=\"rgb(210,165,23)\" rx=\"2\" ry=\"2\" data-shortinfo=\"length in string.jl:49\" data-info=\"length in ./strings/string.jl:49\"/>\n",
       "<text text-anchor=\"\" x=\"1163.5056179775281\" y=\"281.5\" font-size=\"12\" font-family=\"Verdana\" fill=\"rgb(0,0,0)\" ></text>\n",
       "<rect vector-effect=\"non-scaling-stroke\" x=\"1160.8314606741571\" y=\"270.0\" width=\"1.3258426966292518\" height=\"15.0\" fill=\"rgb(210,165,23)\" rx=\"2\" ry=\"2\" data-shortinfo=\"length in string.jl:49\" data-info=\"length in ./strings/string.jl:49\"/>\n",
       "<text text-anchor=\"\" x=\"1164.8314606741571\" y=\"281.5\" font-size=\"12\" font-family=\"Verdana\" fill=\"rgb(0,0,0)\" ></text>\n",
       "<rect vector-effect=\"non-scaling-stroke\" x=\"1162.1573033707864\" y=\"270.0\" width=\"1.3258426966292518\" height=\"15.0\" fill=\"rgb(210,165,23)\" rx=\"2\" ry=\"2\" data-shortinfo=\"length in string.jl:49\" data-info=\"length in ./strings/string.jl:49\"/>\n",
       "<text text-anchor=\"\" x=\"1166.1573033707864\" y=\"281.5\" font-size=\"12\" font-family=\"Verdana\" fill=\"rgb(0,0,0)\" ></text>\n",
       "<rect vector-effect=\"non-scaling-stroke\" x=\"1163.4831460674156\" y=\"270.0\" width=\"1.3258426966292518\" height=\"15.0\" fill=\"rgb(210,165,23)\" rx=\"2\" ry=\"2\" data-shortinfo=\"length in string.jl:49\" data-info=\"length in ./strings/string.jl:49\"/>\n",
       "<text text-anchor=\"\" x=\"1167.4831460674156\" y=\"281.5\" font-size=\"12\" font-family=\"Verdana\" fill=\"rgb(0,0,0)\" ></text>\n",
       "<rect vector-effect=\"non-scaling-stroke\" x=\"1164.808988764045\" y=\"270.0\" width=\"1.3258426966292518\" height=\"15.0\" fill=\"rgb(210,165,23)\" rx=\"2\" ry=\"2\" data-shortinfo=\"length in string.jl:49\" data-info=\"length in ./strings/string.jl:49\"/>\n",
       "<text text-anchor=\"\" x=\"1168.808988764045\" y=\"281.5\" font-size=\"12\" font-family=\"Verdana\" fill=\"rgb(0,0,0)\" ></text>\n",
       "<rect vector-effect=\"non-scaling-stroke\" x=\"1166.1348314606741\" y=\"270.0\" width=\"1.3258426966292518\" height=\"15.0\" fill=\"rgb(210,165,23)\" rx=\"2\" ry=\"2\" data-shortinfo=\"length in string.jl:49\" data-info=\"length in ./strings/string.jl:49\"/>\n",
       "<text text-anchor=\"\" x=\"1170.1348314606741\" y=\"281.5\" font-size=\"12\" font-family=\"Verdana\" fill=\"rgb(0,0,0)\" ></text>\n",
       "<rect vector-effect=\"non-scaling-stroke\" x=\"1167.4606741573034\" y=\"270.0\" width=\"1.3258426966290244\" height=\"15.0\" fill=\"rgb(210,165,23)\" rx=\"2\" ry=\"2\" data-shortinfo=\"length in string.jl:49\" data-info=\"length in ./strings/string.jl:49\"/>\n",
       "<text text-anchor=\"\" x=\"1171.4606741573034\" y=\"281.5\" font-size=\"12\" font-family=\"Verdana\" fill=\"rgb(0,0,0)\" ></text>\n",
       "<rect vector-effect=\"non-scaling-stroke\" x=\"1168.7865168539324\" y=\"270.0\" width=\"2.6516853932585036\" height=\"15.0\" fill=\"rgb(0,222,230)\" rx=\"2\" ry=\"2\" data-shortinfo=\"setindex! in PyCall.jl:272\" data-info=\"setindex! in /home/rdeits/.julia/v0.5/PyCall/src/PyCall.jl:272\"/>\n",
       "<text text-anchor=\"\" x=\"1172.7865168539324\" y=\"281.5\" font-size=\"12\" font-family=\"Verdana\" fill=\"rgb(0,0,0)\" ></text>\n",
       "<rect vector-effect=\"non-scaling-stroke\" x=\"1171.438202247191\" y=\"270.0\" width=\"15.910112359550567\" height=\"15.0\" fill=\"rgb(0,222,230)\" rx=\"2\" ry=\"2\" data-shortinfo=\"setindex! in PyCall.jl:272\" data-info=\"setindex! in /home/rdeits/.julia/v0.5/PyCall/src/PyCall.jl:272\"/>\n",
       "<text text-anchor=\"\" x=\"1175.438202247191\" y=\"281.5\" font-size=\"12\" font-family=\"Verdana\" fill=\"rgb(0,0,0)\" ></text>\n",
       "<rect vector-effect=\"non-scaling-stroke\" x=\"11.325842696629213\" y=\"255.0\" width=\"2.6516853932584272\" height=\"15.0\" fill=\"rgb(255,164,156)\" rx=\"2\" ry=\"2\" data-shortinfo=\"in in dict.jl:702; #10 in visualizer.jl:20\" data-info=\"in in ./dict.jl:702; #10 in /home/rdeits/.julia/v0.5/RigidBodyTreeInspector/src/visualizer.jl:20\"/>\n",
       "<text text-anchor=\"\" x=\"15.325842696629213\" y=\"266.5\" font-size=\"12\" font-family=\"Verdana\" fill=\"rgb(0,0,0)\" ></text>\n",
       "<rect vector-effect=\"non-scaling-stroke\" x=\"13.97752808988764\" y=\"255.0\" width=\"1.3258426966292145\" height=\"15.0\" fill=\"rgb(158,158,158)\" rx=\"2\" ry=\"2\" data-shortinfo=\"#10 in visualizer.jl:18\" data-info=\"#10 in /home/rdeits/.julia/v0.5/RigidBodyTreeInspector/src/visualizer.jl:18\"/>\n",
       "<text text-anchor=\"\" x=\"17.97752808988764\" y=\"266.5\" font-size=\"12\" font-family=\"Verdana\" fill=\"rgb(0,0,0)\" ></text>\n",
       "<rect vector-effect=\"non-scaling-stroke\" x=\"15.303370786516854\" y=\"255.0\" width=\"54.35955056179775\" height=\"15.0\" fill=\"rgb(205,185,255)\" rx=\"2\" ry=\"2\" data-shortinfo=\"#10 in visualizer.jl:19\" data-info=\"#10 in /home/rdeits/.julia/v0.5/RigidBodyTreeInspector/src/visualizer.jl:19\"/>\n",
       "<text text-anchor=\"\" x=\"19.303370786516854\" y=\"266.5\" font-size=\"12\" font-family=\"Verdana\" fill=\"rgb(0,0,0)\" ></text>\n",
       "<rect vector-effect=\"non-scaling-stroke\" x=\"69.6629213483146\" y=\"255.0\" width=\"323.5056179775281\" height=\"15.0\" fill=\"rgb(255,141,62)\" rx=\"2\" ry=\"2\" data-shortinfo=\"#10 in visualizer.jl:21\" data-info=\"#10 in /home/rdeits/.julia/v0.5/RigidBodyTreeInspector/src/visualizer.jl:21\"/>\n",
       "<text text-anchor=\"\" x=\"73.6629213483146\" y=\"266.5\" font-size=\"12\" font-family=\"Verdana\" fill=\"rgb(0,0,0)\" ></text>\n",
       "<rect vector-effect=\"non-scaling-stroke\" x=\"393.1685393258427\" y=\"255.0\" width=\"1.325842696629195\" height=\"15.0\" fill=\"rgb(255,141,62)\" rx=\"2\" ry=\"2\" data-shortinfo=\"#10 in visualizer.jl:21\" data-info=\"#10 in /home/rdeits/.julia/v0.5/RigidBodyTreeInspector/src/visualizer.jl:21\"/>\n",
       "<text text-anchor=\"\" x=\"397.1685393258427\" y=\"266.5\" font-size=\"12\" font-family=\"Verdana\" fill=\"rgb(0,0,0)\" ></text>\n",
       "<rect vector-effect=\"non-scaling-stroke\" x=\"394.4943820224719\" y=\"255.0\" width=\"7.9550561797752835\" height=\"15.0\" fill=\"rgb(255,141,62)\" rx=\"2\" ry=\"2\" data-shortinfo=\"#10 in visualizer.jl:21\" data-info=\"#10 in /home/rdeits/.julia/v0.5/RigidBodyTreeInspector/src/visualizer.jl:21\"/>\n",
       "<text text-anchor=\"\" x=\"398.4943820224719\" y=\"266.5\" font-size=\"12\" font-family=\"Verdana\" fill=\"rgb(0,0,0)\" ></text>\n",
       "<rect vector-effect=\"non-scaling-stroke\" x=\"402.44943820224717\" y=\"255.0\" width=\"7.9550561797752835\" height=\"15.0\" fill=\"rgb(255,141,62)\" rx=\"2\" ry=\"2\" data-shortinfo=\"#10 in visualizer.jl:21\" data-info=\"#10 in /home/rdeits/.julia/v0.5/RigidBodyTreeInspector/src/visualizer.jl:21\"/>\n",
       "<text text-anchor=\"\" x=\"406.44943820224717\" y=\"266.5\" font-size=\"12\" font-family=\"Verdana\" fill=\"rgb(0,0,0)\" ></text>\n",
       "<rect vector-effect=\"non-scaling-stroke\" x=\"410.40449438202245\" y=\"255.0\" width=\"7.9550561797752835\" height=\"15.0\" fill=\"rgb(180,211,70)\" rx=\"2\" ry=\"2\" data-shortinfo=\"#10 in visualizer.jl:22\" data-info=\"#10 in /home/rdeits/.julia/v0.5/RigidBodyTreeInspector/src/visualizer.jl:22\"/>\n",
       "<text text-anchor=\"\" x=\"414.40449438202245\" y=\"266.5\" font-size=\"12\" font-family=\"Verdana\" fill=\"rgb(0,0,0)\" ></text>\n",
       "<rect vector-effect=\"non-scaling-stroke\" x=\"418.35955056179773\" y=\"255.0\" width=\"6.629213483146032\" height=\"15.0\" fill=\"rgb(180,211,70)\" rx=\"2\" ry=\"2\" data-shortinfo=\"#10 in visualizer.jl:22\" data-info=\"#10 in /home/rdeits/.julia/v0.5/RigidBodyTreeInspector/src/visualizer.jl:22\"/>\n",
       "<text text-anchor=\"\" x=\"422.35955056179773\" y=\"266.5\" font-size=\"12\" font-family=\"Verdana\" fill=\"rgb(0,0,0)\" ></text>\n",
       "<rect vector-effect=\"non-scaling-stroke\" x=\"424.98876404494376\" y=\"255.0\" width=\"1.3258426966292518\" height=\"15.0\" fill=\"rgb(255,164,156)\" rx=\"2\" ry=\"2\" data-shortinfo=\" in :-1\" data-info=\" in :-1\"/>\n",
       "<text text-anchor=\"\" x=\"428.98876404494376\" y=\"266.5\" font-size=\"12\" font-family=\"Verdana\" fill=\"rgb(0,0,0)\" ></text>\n",
       "<rect vector-effect=\"non-scaling-stroke\" x=\"431.61797752808985\" y=\"255.0\" width=\"2.6516853932584468\" height=\"15.0\" fill=\"rgb(158,158,158)\" rx=\"2\" ry=\"2\" data-shortinfo=\"getindex in dict.jl:687; getindex in lazytree.jl:31\" data-info=\"getindex in ./dict.jl:687; getindex in /home/rdeits/.julia/v0.5/DrakeVisualizer/src/lazytree.jl:31\"/>\n",
       "<text text-anchor=\"\" x=\"435.61797752808985\" y=\"266.5\" font-size=\"12\" font-family=\"Verdana\" fill=\"rgb(0,0,0)\" ></text>\n",
       "<rect vector-effect=\"non-scaling-stroke\" x=\"434.2696629213483\" y=\"255.0\" width=\"1.325842696629195\" height=\"15.0\" fill=\"rgb(205,185,255)\" rx=\"2\" ry=\"2\" data-shortinfo=\"haskey in dict.jl:701; getindex in lazytree.jl:30\" data-info=\"haskey in ./dict.jl:701; getindex in /home/rdeits/.julia/v0.5/DrakeVisualizer/src/lazytree.jl:30\"/>\n",
       "<text text-anchor=\"\" x=\"438.2696629213483\" y=\"266.5\" font-size=\"12\" font-family=\"Verdana\" fill=\"rgb(0,0,0)\" ></text>\n",
       "<rect vector-effect=\"non-scaling-stroke\" x=\"704.7415730337078\" y=\"255.0\" width=\"7.9550561797752835\" height=\"15.0\" fill=\"rgb(255,141,62)\" rx=\"2\" ry=\"2\" data-shortinfo=\"zeros in array.jl:169\" data-info=\"zeros in ./array.jl:169\"/>\n",
       "<text text-anchor=\"\" x=\"708.7415730337078\" y=\"266.5\" font-size=\"12\" font-family=\"Verdana\" fill=\"rgb(0,0,0)\" ></text>\n",
       "<rect vector-effect=\"non-scaling-stroke\" x=\"712.6966292134831\" y=\"255.0\" width=\"13.258426966292177\" height=\"15.0\" fill=\"rgb(255,141,62)\" rx=\"2\" ry=\"2\" data-shortinfo=\"zeros in array.jl:169\" data-info=\"zeros in ./array.jl:169\"/>\n",
       "<text text-anchor=\"\" x=\"716.6966292134831\" y=\"266.5\" font-size=\"12\" font-family=\"Verdana\" fill=\"rgb(0,0,0)\" ></text>\n",
       "<rect vector-effect=\"non-scaling-stroke\" x=\"725.9550561797753\" y=\"255.0\" width=\"2.65168539325839\" height=\"15.0\" fill=\"rgb(255,141,62)\" rx=\"2\" ry=\"2\" data-shortinfo=\"zeros in array.jl:169\" data-info=\"zeros in ./array.jl:169\"/>\n",
       "<text text-anchor=\"\" x=\"729.9550561797753\" y=\"266.5\" font-size=\"12\" font-family=\"Verdana\" fill=\"rgb(0,0,0)\" ></text>\n",
       "<rect vector-effect=\"non-scaling-stroke\" x=\"731.2584269662921\" y=\"255.0\" width=\"2.6516853932585036\" height=\"15.0\" fill=\"rgb(180,211,70)\" rx=\"2\" ry=\"2\" data-shortinfo=\"setindex! in dict.jl:634\" data-info=\"setindex! in ./dict.jl:634\"/>\n",
       "<text text-anchor=\"\" x=\"735.2584269662921\" y=\"266.5\" font-size=\"12\" font-family=\"Verdana\" fill=\"rgb(0,0,0)\" ></text>\n",
       "<rect vector-effect=\"non-scaling-stroke\" x=\"737.8876404494381\" y=\"255.0\" width=\"1.3258426966292518\" height=\"15.0\" fill=\"rgb(255,164,156)\" rx=\"2\" ry=\"2\" data-shortinfo=\"zeros in array.jl:0\" data-info=\"zeros in ./array.jl:0\"/>\n",
       "<text text-anchor=\"\" x=\"741.8876404494381\" y=\"266.5\" font-size=\"12\" font-family=\"Verdana\" fill=\"rgb(0,0,0)\" ></text>\n",
       "<rect vector-effect=\"non-scaling-stroke\" x=\"739.2134831460673\" y=\"255.0\" width=\"6.629213483146032\" height=\"15.0\" fill=\"rgb(158,158,158)\" rx=\"2\" ry=\"2\" data-shortinfo=\"zeros in array.jl:169\" data-info=\"zeros in ./array.jl:169\"/>\n",
       "<text text-anchor=\"\" x=\"743.2134831460673\" y=\"266.5\" font-size=\"12\" font-family=\"Verdana\" fill=\"rgb(0,0,0)\" ></text>\n",
       "<rect vector-effect=\"non-scaling-stroke\" x=\"745.8426966292134\" y=\"255.0\" width=\"11.932584269662925\" height=\"15.0\" fill=\"rgb(158,158,158)\" rx=\"2\" ry=\"2\" data-shortinfo=\"zeros in array.jl:169\" data-info=\"zeros in ./array.jl:169\"/>\n",
       "<text text-anchor=\"\" x=\"749.8426966292134\" y=\"266.5\" font-size=\"12\" font-family=\"Verdana\" fill=\"rgb(0,0,0)\" ></text>\n",
       "<rect vector-effect=\"non-scaling-stroke\" x=\"761.752808988764\" y=\"255.0\" width=\"1.3258426966292518\" height=\"15.0\" fill=\"rgb(205,185,255)\" rx=\"2\" ry=\"2\" data-shortinfo=\"setindex! in dict.jl:635\" data-info=\"setindex! in ./dict.jl:635\"/>\n",
       "<text text-anchor=\"\" x=\"765.752808988764\" y=\"266.5\" font-size=\"12\" font-family=\"Verdana\" fill=\"rgb(0,0,0)\" ></text>\n",
       "<rect vector-effect=\"non-scaling-stroke\" x=\"765.7303370786516\" y=\"255.0\" width=\"2.6516853932585036\" height=\"15.0\" fill=\"rgb(255,141,62)\" rx=\"2\" ry=\"2\" data-shortinfo=\"zeros in array.jl:169\" data-info=\"zeros in ./array.jl:169\"/>\n",
       "<text text-anchor=\"\" x=\"769.7303370786516\" y=\"266.5\" font-size=\"12\" font-family=\"Verdana\" fill=\"rgb(0,0,0)\" ></text>\n",
       "<rect vector-effect=\"non-scaling-stroke\" x=\"769.7078651685392\" y=\"255.0\" width=\"104.74157303370794\" height=\"15.0\" fill=\"rgb(180,211,70)\" rx=\"2\" ry=\"2\" data-shortinfo=\"pytype_query in conversions.jl:738\" data-info=\"pytype_query in /home/rdeits/.julia/v0.5/PyCall/src/conversions.jl:738\"/>\n",
       "<text text-anchor=\"\" x=\"773.7078651685392\" y=\"266.5\" font-size=\"12\" font-family=\"Verdana\" fill=\"rgb(0,0,0)\" ></text>\n",
       "<rect vector-effect=\"non-scaling-stroke\" x=\"874.4494382022472\" y=\"255.0\" width=\"1.3258426966291381\" height=\"15.0\" fill=\"rgb(255,164,156)\" rx=\"2\" ry=\"2\" data-shortinfo=\"pytype_query in conversions.jl:739\" data-info=\"pytype_query in /home/rdeits/.julia/v0.5/PyCall/src/conversions.jl:739\"/>\n",
       "<text text-anchor=\"\" x=\"878.4494382022472\" y=\"266.5\" font-size=\"12\" font-family=\"Verdana\" fill=\"rgb(0,0,0)\" ></text>\n",
       "<rect vector-effect=\"non-scaling-stroke\" x=\"877.1011235955056\" y=\"255.0\" width=\"115.34831460674161\" height=\"15.0\" fill=\"rgb(158,158,158)\" rx=\"2\" ry=\"2\" data-shortinfo=\"#call#71 in PyCall.jl:571\" data-info=\"#call#71 in /home/rdeits/.julia/v0.5/PyCall/src/PyCall.jl:571\"/>\n",
       "<text text-anchor=\"\" x=\"881.1011235955056\" y=\"266.5\" font-size=\"12\" font-family=\"Verdana\" fill=\"rgb(0,0,0)\" ></text>\n",
       "<rect vector-effect=\"non-scaling-stroke\" x=\"996.4269662921348\" y=\"255.0\" width=\"1.3258426966291381\" height=\"15.0\" fill=\"rgb(205,185,255)\" rx=\"2\" ry=\"2\" data-shortinfo=\"Type in PyCall.jl:72; Type in conversions.jl:68\" data-info=\"Type in /home/rdeits/.julia/v0.5/PyCall/src/PyCall.jl:72; Type in /home/rdeits/.julia/v0.5/PyCall/src/conversions.jl:68\"/>\n",
       "<text text-anchor=\"\" x=\"1000.4269662921348\" y=\"266.5\" font-size=\"12\" font-family=\"Verdana\" fill=\"rgb(0,0,0)\" ></text>\n",
       "<rect vector-effect=\"non-scaling-stroke\" x=\"1001.7303370786516\" y=\"255.0\" width=\"153.79775280898878\" height=\"15.0\" fill=\"rgb(255,141,62)\" rx=\"2\" ry=\"2\" data-shortinfo=\"print in JSON.jl:264\" data-info=\"print in /home/rdeits/.julia/v0.5/JSON/src/JSON.jl:264\"/>\n",
       "<text text-anchor=\"\" x=\"1005.7303370786516\" y=\"266.5\" font-size=\"12\" font-family=\"Verdana\" fill=\"rgb(0,0,0)\" ></text>\n",
       "<rect vector-effect=\"non-scaling-stroke\" x=\"1155.5280898876404\" y=\"255.0\" width=\"1.3258426966292518\" height=\"15.0\" fill=\"rgb(255,141,62)\" rx=\"2\" ry=\"2\" data-shortinfo=\"print in JSON.jl:264\" data-info=\"print in /home/rdeits/.julia/v0.5/JSON/src/JSON.jl:264\"/>\n",
       "<text text-anchor=\"\" x=\"1159.5280898876404\" y=\"266.5\" font-size=\"12\" font-family=\"Verdana\" fill=\"rgb(0,0,0)\" ></text>\n",
       "<rect vector-effect=\"non-scaling-stroke\" x=\"1156.8539325842696\" y=\"255.0\" width=\"2.6516853932585036\" height=\"15.0\" fill=\"rgb(255,141,62)\" rx=\"2\" ry=\"2\" data-shortinfo=\"print in JSON.jl:264\" data-info=\"print in /home/rdeits/.julia/v0.5/JSON/src/JSON.jl:264\"/>\n",
       "<text text-anchor=\"\" x=\"1160.8539325842696\" y=\"266.5\" font-size=\"12\" font-family=\"Verdana\" fill=\"rgb(0,0,0)\" ></text>\n",
       "<rect vector-effect=\"non-scaling-stroke\" x=\"1171.438202247191\" y=\"255.0\" width=\"14.584269662921315\" height=\"15.0\" fill=\"rgb(180,211,70)\" rx=\"2\" ry=\"2\" data-shortinfo=\"Type in conversions.jl:63\" data-info=\"Type in /home/rdeits/.julia/v0.5/PyCall/src/conversions.jl:63\"/>\n",
       "<text text-anchor=\"\" x=\"1175.438202247191\" y=\"266.5\" font-size=\"12\" font-family=\"Verdana\" fill=\"rgb(0,0,0)\" ></text>\n",
       "<rect vector-effect=\"non-scaling-stroke\" x=\"1186.0224719101122\" y=\"255.0\" width=\"1.3258426966292518\" height=\"15.0\" fill=\"rgb(255,164,156)\" rx=\"2\" ry=\"2\" data-shortinfo=\"macro expansion in exception.jl:78; Type in conversions.jl:68\" data-info=\"macro expansion in /home/rdeits/.julia/v0.5/PyCall/src/exception.jl:78; Type in /home/rdeits/.julia/v0.5/PyCall/src/conversions.jl:68\"/>\n",
       "<text text-anchor=\"\" x=\"1190.0224719101122\" y=\"266.5\" font-size=\"12\" font-family=\"Verdana\" fill=\"rgb(0,0,0)\" ></text>\n",
       "<rect vector-effect=\"non-scaling-stroke\" x=\"11.325842696629213\" y=\"240.0\" width=\"1.3258426966292145\" height=\"15.0\" fill=\"rgb(232,112,221)\" rx=\"2\" ry=\"2\" data-shortinfo=\"ht_keyindex in dict.jl:540\" data-info=\"ht_keyindex in ./dict.jl:540\"/>\n",
       "<text text-anchor=\"\" x=\"15.325842696629213\" y=\"251.5\" font-size=\"12\" font-family=\"Verdana\" fill=\"rgb(0,0,0)\" ></text>\n",
       "<rect vector-effect=\"non-scaling-stroke\" x=\"12.651685393258427\" y=\"240.0\" width=\"1.3258426966292127\" height=\"15.0\" fill=\"rgb(50,180,78)\" rx=\"2\" ry=\"2\" data-shortinfo=\"ht_keyindex in dict.jl:543\" data-info=\"ht_keyindex in ./dict.jl:543\"/>\n",
       "<text text-anchor=\"\" x=\"16.651685393258425\" y=\"251.5\" font-size=\"12\" font-family=\"Verdana\" fill=\"rgb(0,0,0)\" ></text>\n",
       "<rect vector-effect=\"non-scaling-stroke\" x=\"13.97752808988764\" y=\"240.0\" width=\"1.3258426966292145\" height=\"15.0\" fill=\"rgb(26,162,255)\" rx=\"2\" ry=\"2\" data-shortinfo=\"skip_deleted in dict.jl:745\" data-info=\"skip_deleted in ./dict.jl:745\"/>\n",
       "<text text-anchor=\"\" x=\"17.97752808988764\" y=\"251.5\" font-size=\"12\" font-family=\"Verdana\" fill=\"rgb(0,0,0)\" ></text>\n",
       "<rect vector-effect=\"non-scaling-stroke\" x=\"15.303370786516854\" y=\"240.0\" width=\"29.16853932584269\" height=\"15.0\" fill=\"rgb(210,165,23)\" rx=\"2\" ry=\"2\" data-shortinfo=\"to_link_name in visualizer.jl:1\" data-info=\"to_link_name in /home/rdeits/.julia/v0.5/RigidBodyTreeInspector/src/visualizer.jl:1\"/>\n",
       "<text text-anchor=\"\" x=\"19.303370786516854\" y=\"251.5\" font-size=\"12\" font-family=\"Verdana\" fill=\"rgb(0,0,0)\" ></text>\n",
       "<rect vector-effect=\"non-scaling-stroke\" x=\"44.471910112359545\" y=\"240.0\" width=\"22.539325842696634\" height=\"15.0\" fill=\"rgb(210,165,23)\" rx=\"2\" ry=\"2\" data-shortinfo=\"to_link_name in visualizer.jl:1\" data-info=\"to_link_name in /home/rdeits/.julia/v0.5/RigidBodyTreeInspector/src/visualizer.jl:1\"/>\n",
       "<text text-anchor=\"\" x=\"48.471910112359545\" y=\"251.5\" font-size=\"12\" font-family=\"Verdana\" fill=\"rgb(0,0,0)\" ></text>\n",
       "<rect vector-effect=\"non-scaling-stroke\" x=\"67.01123595505618\" y=\"240.0\" width=\"1.3258426966292092\" height=\"15.0\" fill=\"rgb(210,165,23)\" rx=\"2\" ry=\"2\" data-shortinfo=\"to_link_name in visualizer.jl:1\" data-info=\"to_link_name in /home/rdeits/.julia/v0.5/RigidBodyTreeInspector/src/visualizer.jl:1\"/>\n",
       "<text text-anchor=\"\" x=\"71.01123595505618\" y=\"251.5\" font-size=\"12\" font-family=\"Verdana\" fill=\"rgb(0,0,0)\" ></text>\n",
       "<rect vector-effect=\"non-scaling-stroke\" x=\"68.33707865168539\" y=\"240.0\" width=\"1.3258426966292092\" height=\"15.0\" fill=\"rgb(210,165,23)\" rx=\"2\" ry=\"2\" data-shortinfo=\"to_link_name in visualizer.jl:1\" data-info=\"to_link_name in /home/rdeits/.julia/v0.5/RigidBodyTreeInspector/src/visualizer.jl:1\"/>\n",
       "<text text-anchor=\"\" x=\"72.33707865168539\" y=\"251.5\" font-size=\"12\" font-family=\"Verdana\" fill=\"rgb(0,0,0)\" ></text>\n",
       "<rect vector-effect=\"non-scaling-stroke\" x=\"69.6629213483146\" y=\"240.0\" width=\"7.9550561797752835\" height=\"15.0\" fill=\"rgb(0,222,230)\" rx=\"2\" ry=\"2\" data-shortinfo=\"cat in abstractarray.jl:1056; vcat in abstractarray.jl:1139\" data-info=\"cat in ./abstractarray.jl:1056; vcat in ./abstractarray.jl:1139\"/>\n",
       "<text text-anchor=\"\" x=\"73.6629213483146\" y=\"251.5\" font-size=\"12\" font-family=\"Verdana\" fill=\"rgb(0,0,0)\" ></text>\n",
       "<rect vector-effect=\"non-scaling-stroke\" x=\"77.61797752808988\" y=\"240.0\" width=\"315.55056179775283\" height=\"15.0\" fill=\"rgb(232,112,221)\" rx=\"2\" ry=\"2\" data-shortinfo=\"vcat in abstractarray.jl:1139\" data-info=\"vcat in ./abstractarray.jl:1139\"/>\n",
       "<text text-anchor=\"\" x=\"81.61797752808988\" y=\"251.5\" font-size=\"12\" font-family=\"Verdana\" fill=\"rgb(0,0,0)\" ></text>\n",
       "<rect vector-effect=\"non-scaling-stroke\" x=\"394.4943820224719\" y=\"240.0\" width=\"7.9550561797752835\" height=\"15.0\" fill=\"rgb(50,180,78)\" rx=\"2\" ry=\"2\" data-shortinfo=\"to_link_name in visualizer.jl:1\" data-info=\"to_link_name in /home/rdeits/.julia/v0.5/RigidBodyTreeInspector/src/visualizer.jl:1\"/>\n",
       "<text text-anchor=\"\" x=\"398.4943820224719\" y=\"251.5\" font-size=\"12\" font-family=\"Verdana\" fill=\"rgb(0,0,0)\" ></text>\n",
       "<rect vector-effect=\"non-scaling-stroke\" x=\"403.77528089887636\" y=\"240.0\" width=\"1.3258426966292518\" height=\"15.0\" fill=\"rgb(26,162,255)\" rx=\"2\" ry=\"2\" data-shortinfo=\"Type in visualizer.jl:0\" data-info=\"Type in /home/rdeits/.julia/v0.5/DrakeVisualizer/src/visualizer.jl:0\"/>\n",
       "<text text-anchor=\"\" x=\"407.77528089887636\" y=\"251.5\" font-size=\"12\" font-family=\"Verdana\" fill=\"rgb(0,0,0)\" ></text>\n",
       "<rect vector-effect=\"non-scaling-stroke\" x=\"405.1011235955056\" y=\"240.0\" width=\"1.325842696629195\" height=\"15.0\" fill=\"rgb(210,165,23)\" rx=\"2\" ry=\"2\" data-shortinfo=\"Type in visualizer.jl:136\" data-info=\"Type in /home/rdeits/.julia/v0.5/DrakeVisualizer/src/visualizer.jl:136\"/>\n",
       "<text text-anchor=\"\" x=\"409.1011235955056\" y=\"251.5\" font-size=\"12\" font-family=\"Verdana\" fill=\"rgb(0,0,0)\" ></text>\n",
       "<rect vector-effect=\"non-scaling-stroke\" x=\"410.40449438202245\" y=\"240.0\" width=\"2.6516853932584468\" height=\"15.0\" fill=\"rgb(0,222,230)\" rx=\"2\" ry=\"2\" data-shortinfo=\"getindex in dict.jl:687; transform_to_root in mechanism_state.jl:276\" data-info=\"getindex in ./dict.jl:687; transform_to_root in /home/rdeits/.julia/v0.5/RigidBodyDynamics/src/mechanism_state.jl:276\"/>\n",
       "<text text-anchor=\"\" x=\"414.40449438202245\" y=\"251.5\" font-size=\"12\" font-family=\"Verdana\" fill=\"rgb(0,0,0)\" ></text>\n",
       "<rect vector-effect=\"non-scaling-stroke\" x=\"413.0561797752809\" y=\"240.0\" width=\"1.325842696629195\" height=\"15.0\" fill=\"rgb(232,112,221)\" rx=\"2\" ry=\"2\" data-shortinfo=\"transform_to_root in mechanism_state.jl:276\" data-info=\"transform_to_root in /home/rdeits/.julia/v0.5/RigidBodyDynamics/src/mechanism_state.jl:276\"/>\n",
       "<text text-anchor=\"\" x=\"417.0561797752809\" y=\"251.5\" font-size=\"12\" font-family=\"Verdana\" fill=\"rgb(0,0,0)\" ></text>\n",
       "<rect vector-effect=\"non-scaling-stroke\" x=\"414.3820224719101\" y=\"240.0\" width=\"1.325842696629195\" height=\"15.0\" fill=\"rgb(50,180,78)\" rx=\"2\" ry=\"2\" data-shortinfo=\"transform_to_root in mechanism_state.jl:277\" data-info=\"transform_to_root in /home/rdeits/.julia/v0.5/RigidBodyDynamics/src/mechanism_state.jl:277\"/>\n",
       "<text text-anchor=\"\" x=\"418.3820224719101\" y=\"251.5\" font-size=\"12\" font-family=\"Verdana\" fill=\"rgb(0,0,0)\" ></text>\n",
       "<rect vector-effect=\"non-scaling-stroke\" x=\"415.7078651685393\" y=\"240.0\" width=\"2.6516853932584468\" height=\"15.0\" fill=\"rgb(50,180,78)\" rx=\"2\" ry=\"2\" data-shortinfo=\"transform_to_root in mechanism_state.jl:277\" data-info=\"transform_to_root in /home/rdeits/.julia/v0.5/RigidBodyDynamics/src/mechanism_state.jl:277\"/>\n",
       "<text text-anchor=\"\" x=\"419.7078651685393\" y=\"251.5\" font-size=\"12\" font-family=\"Verdana\" fill=\"rgb(0,0,0)\" ></text>\n",
       "<rect vector-effect=\"non-scaling-stroke\" x=\"418.35955056179773\" y=\"240.0\" width=\"3.9775280898876417\" height=\"15.0\" fill=\"rgb(26,162,255)\" rx=\"2\" ry=\"2\" data-shortinfo=\"draw! in visualizer.jl:75\" data-info=\"draw! in /home/rdeits/.julia/v0.5/DrakeVisualizer/src/visualizer.jl:75\"/>\n",
       "<text text-anchor=\"\" x=\"422.35955056179773\" y=\"251.5\" font-size=\"12\" font-family=\"Verdana\" fill=\"rgb(0,0,0)\" ></text>\n",
       "<rect vector-effect=\"non-scaling-stroke\" x=\"422.3370786516854\" y=\"240.0\" width=\"1.325842696629195\" height=\"15.0\" fill=\"rgb(26,162,255)\" rx=\"2\" ry=\"2\" data-shortinfo=\"draw! in visualizer.jl:75\" data-info=\"draw! in /home/rdeits/.julia/v0.5/DrakeVisualizer/src/visualizer.jl:75\"/>\n",
       "<text text-anchor=\"\" x=\"426.3370786516854\" y=\"251.5\" font-size=\"12\" font-family=\"Verdana\" fill=\"rgb(0,0,0)\" ></text>\n",
       "<rect vector-effect=\"non-scaling-stroke\" x=\"423.66292134831457\" y=\"240.0\" width=\"1.325842696629195\" height=\"15.0\" fill=\"rgb(26,162,255)\" rx=\"2\" ry=\"2\" data-shortinfo=\"draw! in visualizer.jl:75\" data-info=\"draw! in /home/rdeits/.julia/v0.5/DrakeVisualizer/src/visualizer.jl:75\"/>\n",
       "<text text-anchor=\"\" x=\"427.66292134831457\" y=\"251.5\" font-size=\"12\" font-family=\"Verdana\" fill=\"rgb(0,0,0)\" ></text>\n",
       "<rect vector-effect=\"non-scaling-stroke\" x=\"431.61797752808985\" y=\"240.0\" width=\"1.325842696629195\" height=\"15.0\" fill=\"rgb(210,165,23)\" rx=\"2\" ry=\"2\" data-shortinfo=\"ht_keyindex in dict.jl:533\" data-info=\"ht_keyindex in ./dict.jl:533\"/>\n",
       "<text text-anchor=\"\" x=\"435.61797752808985\" y=\"251.5\" font-size=\"12\" font-family=\"Verdana\" fill=\"rgb(0,0,0)\" ></text>\n",
       "<rect vector-effect=\"non-scaling-stroke\" x=\"432.94382022471905\" y=\"240.0\" width=\"1.3258426966292518\" height=\"15.0\" fill=\"rgb(0,222,230)\" rx=\"2\" ry=\"2\" data-shortinfo=\"hash in hashing.jl:58; hash in hashing.jl:5; hashindex in dict.jl:441; ht_keyindex in dict.jl:536\" data-info=\"hash in ./hashing.jl:58; hash in ./hashing.jl:5; hashindex in ./dict.jl:441; ht_keyindex in ./dict.jl:536\"/>\n",
       "<text text-anchor=\"\" x=\"436.94382022471905\" y=\"251.5\" font-size=\"12\" font-family=\"Verdana\" fill=\"rgb(0,0,0)\" ></text>\n",
       "<rect vector-effect=\"non-scaling-stroke\" x=\"434.2696629213483\" y=\"240.0\" width=\"1.325842696629195\" height=\"15.0\" fill=\"rgb(232,112,221)\" rx=\"2\" ry=\"2\" data-shortinfo=\"ht_keyindex in dict.jl:533\" data-info=\"ht_keyindex in ./dict.jl:533\"/>\n",
       "<text text-anchor=\"\" x=\"438.2696629213483\" y=\"251.5\" font-size=\"12\" font-family=\"Verdana\" fill=\"rgb(0,0,0)\" ></text>\n",
       "<rect vector-effect=\"non-scaling-stroke\" x=\"731.2584269662921\" y=\"240.0\" width=\"2.6516853932585036\" height=\"15.0\" fill=\"rgb(50,180,78)\" rx=\"2\" ry=\"2\" data-shortinfo=\"convert in core.jl:102\" data-info=\"convert in /home/rdeits/.julia/v0.5/StaticArrays/src/core.jl:102\"/>\n",
       "<text text-anchor=\"\" x=\"735.2584269662921\" y=\"251.5\" font-size=\"12\" font-family=\"Verdana\" fill=\"rgb(0,0,0)\" ></text>\n",
       "<rect vector-effect=\"non-scaling-stroke\" x=\"761.752808988764\" y=\"240.0\" width=\"1.3258426966292518\" height=\"15.0\" fill=\"rgb(26,162,255)\" rx=\"2\" ry=\"2\" data-shortinfo=\"hashindex in dict.jl:441; ht_keyindex2 in dict.jl:562\" data-info=\"hashindex in ./dict.jl:441; ht_keyindex2 in ./dict.jl:562\"/>\n",
       "<text text-anchor=\"\" x=\"765.752808988764\" y=\"251.5\" font-size=\"12\" font-family=\"Verdana\" fill=\"rgb(0,0,0)\" ></text>\n",
       "<rect vector-effect=\"non-scaling-stroke\" x=\"769.7078651685392\" y=\"240.0\" width=\"104.74157303370794\" height=\"15.0\" fill=\"rgb(210,165,23)\" rx=\"2\" ry=\"2\" data-shortinfo=\"pysequence_query in conversions.jl:722\" data-info=\"pysequence_query in /home/rdeits/.julia/v0.5/PyCall/src/conversions.jl:722\"/>\n",
       "<text text-anchor=\"\" x=\"773.7078651685392\" y=\"251.5\" font-size=\"12\" font-family=\"Verdana\" fill=\"rgb(0,0,0)\" ></text>\n",
       "<rect vector-effect=\"non-scaling-stroke\" x=\"874.4494382022472\" y=\"240.0\" width=\"1.3258426966291381\" height=\"15.0\" fill=\"rgb(0,222,230)\" rx=\"2\" ry=\"2\" data-shortinfo=\"!= in operators.jl:50\" data-info=\"!= in ./operators.jl:50\"/>\n",
       "<text text-anchor=\"\" x=\"878.4494382022472\" y=\"251.5\" font-size=\"12\" font-family=\"Verdana\" fill=\"rgb(0,0,0)\" ></text>\n",
       "<rect vector-effect=\"non-scaling-stroke\" x=\"877.1011235955056\" y=\"240.0\" width=\"108.71910112359546\" height=\"15.0\" fill=\"rgb(232,112,221)\" rx=\"2\" ry=\"2\" data-shortinfo=\"#pycall#70 in PyCall.jl:568\" data-info=\"#pycall#70 in /home/rdeits/.julia/v0.5/PyCall/src/PyCall.jl:568\"/>\n",
       "<text text-anchor=\"\" x=\"881.1011235955056\" y=\"251.5\" font-size=\"12\" font-family=\"Verdana\" fill=\"rgb(0,0,0)\" ></text>\n",
       "<rect vector-effect=\"non-scaling-stroke\" x=\"985.820224719101\" y=\"240.0\" width=\"6.629213483146145\" height=\"15.0\" fill=\"rgb(232,112,221)\" rx=\"2\" ry=\"2\" data-shortinfo=\"#pycall#70 in PyCall.jl:568\" data-info=\"#pycall#70 in /home/rdeits/.julia/v0.5/PyCall/src/PyCall.jl:568\"/>\n",
       "<text text-anchor=\"\" x=\"989.820224719101\" y=\"251.5\" font-size=\"12\" font-family=\"Verdana\" fill=\"rgb(0,0,0)\" ></text>\n",
       "<rect vector-effect=\"non-scaling-stroke\" x=\"996.4269662921348\" y=\"240.0\" width=\"1.3258426966291381\" height=\"15.0\" fill=\"rgb(50,180,78)\" rx=\"2\" ry=\"2\" data-shortinfo=\"isimmutable in reflection.jl:111; finalizer in base.jl:127\" data-info=\"isimmutable in ./reflection.jl:111; finalizer in ./base.jl:127\"/>\n",
       "<text text-anchor=\"\" x=\"1000.4269662921348\" y=\"251.5\" font-size=\"12\" font-family=\"Verdana\" fill=\"rgb(0,0,0)\" ></text>\n",
       "<rect vector-effect=\"non-scaling-stroke\" x=\"1001.7303370786516\" y=\"240.0\" width=\"1.3258426966292518\" height=\"15.0\" fill=\"rgb(26,162,255)\" rx=\"2\" ry=\"2\" data-shortinfo=\"_writejson in JSON.jl:187\" data-info=\"_writejson in /home/rdeits/.julia/v0.5/JSON/src/JSON.jl:187\"/>\n",
       "<text text-anchor=\"\" x=\"1005.7303370786516\" y=\"251.5\" font-size=\"12\" font-family=\"Verdana\" fill=\"rgb(0,0,0)\" ></text>\n",
       "<rect vector-effect=\"non-scaling-stroke\" x=\"1003.0561797752808\" y=\"240.0\" width=\"152.47191011235952\" height=\"15.0\" fill=\"rgb(210,165,23)\" rx=\"2\" ry=\"2\" data-shortinfo=\"_writejson in JSON.jl:191\" data-info=\"_writejson in /home/rdeits/.julia/v0.5/JSON/src/JSON.jl:191\"/>\n",
       "<text text-anchor=\"\" x=\"1007.0561797752808\" y=\"251.5\" font-size=\"12\" font-family=\"Verdana\" fill=\"rgb(0,0,0)\" ></text>\n",
       "<rect vector-effect=\"non-scaling-stroke\" x=\"1171.438202247191\" y=\"240.0\" width=\"10.606741573033787\" height=\"15.0\" fill=\"rgb(0,222,230)\" rx=\"2\" ry=\"2\" data-shortinfo=\"done in basic.jl:69; mapreduce_sc_impl in reduce.jl:190\" data-info=\"done in ./strings/basic.jl:69; mapreduce_sc_impl in ./reduce.jl:190\"/>\n",
       "<text text-anchor=\"\" x=\"1175.438202247191\" y=\"251.5\" font-size=\"12\" font-family=\"Verdana\" fill=\"rgb(0,0,0)\" ></text>\n",
       "<rect vector-effect=\"non-scaling-stroke\" x=\"1182.0449438202247\" y=\"240.0\" width=\"1.3258426966290244\" height=\"15.0\" fill=\"rgb(232,112,221)\" rx=\"2\" ry=\"2\" data-shortinfo=\"next in string.jl:90; mapreduce_sc_impl in reduce.jl:190\" data-info=\"next in ./strings/string.jl:90; mapreduce_sc_impl in ./reduce.jl:190\"/>\n",
       "<text text-anchor=\"\" x=\"1186.0449438202247\" y=\"251.5\" font-size=\"12\" font-family=\"Verdana\" fill=\"rgb(0,0,0)\" ></text>\n",
       "<rect vector-effect=\"non-scaling-stroke\" x=\"1183.3707865168537\" y=\"240.0\" width=\"2.6516853932585036\" height=\"15.0\" fill=\"rgb(50,180,78)\" rx=\"2\" ry=\"2\" data-shortinfo=\" in sys.so:-1\" data-info=\" in /home/rdeits/tools/julia-3c9d75391c/lib/julia/sys.so:-1\"/>\n",
       "<text text-anchor=\"\" x=\"1187.3707865168537\" y=\"251.5\" font-size=\"12\" font-family=\"Verdana\" fill=\"rgb(0,0,0)\" ></text>\n",
       "<rect vector-effect=\"non-scaling-stroke\" x=\"15.303370786516854\" y=\"225.0\" width=\"11.932584269662918\" height=\"15.0\" fill=\"rgb(255,164,156)\" rx=\"2\" ry=\"2\" data-shortinfo=\"#print_to_string#305 in io.jl:50\" data-info=\"#print_to_string#305 in ./strings/io.jl:50\"/>\n",
       "<text text-anchor=\"\" x=\"19.303370786516854\" y=\"236.5\" font-size=\"12\" font-family=\"Verdana\" fill=\"rgb(0,0,0)\" ></text>\n",
       "<rect vector-effect=\"non-scaling-stroke\" x=\"27.235955056179773\" y=\"225.0\" width=\"1.3258426966292163\" height=\"15.0\" fill=\"rgb(255,164,156)\" rx=\"2\" ry=\"2\" data-shortinfo=\"#print_to_string#305 in io.jl:50\" data-info=\"#print_to_string#305 in ./strings/io.jl:50\"/>\n",
       "<text text-anchor=\"\" x=\"31.235955056179773\" y=\"236.5\" font-size=\"12\" font-family=\"Verdana\" fill=\"rgb(0,0,0)\" ></text>\n",
       "<rect vector-effect=\"non-scaling-stroke\" x=\"28.56179775280899\" y=\"225.0\" width=\"14.584269662921347\" height=\"15.0\" fill=\"rgb(158,158,158)\" rx=\"2\" ry=\"2\" data-shortinfo=\"#print_to_string#305 in io.jl:61\" data-info=\"#print_to_string#305 in ./strings/io.jl:61\"/>\n",
       "<text text-anchor=\"\" x=\"32.561797752808985\" y=\"236.5\" font-size=\"12\" font-family=\"Verdana\" fill=\"rgb(0,0,0)\" ></text>\n",
       "<rect vector-effect=\"non-scaling-stroke\" x=\"43.146067415730336\" y=\"225.0\" width=\"1.3258426966292092\" height=\"15.0\" fill=\"rgb(205,185,255)\" rx=\"2\" ry=\"2\" data-shortinfo=\"#print_to_string#305 in io.jl:64\" data-info=\"#print_to_string#305 in ./strings/io.jl:64\"/>\n",
       "<text text-anchor=\"\" x=\"47.146067415730336\" y=\"236.5\" font-size=\"12\" font-family=\"Verdana\" fill=\"rgb(0,0,0)\" ></text>\n",
       "<rect vector-effect=\"non-scaling-stroke\" x=\"67.01123595505618\" y=\"225.0\" width=\"1.3258426966292092\" height=\"15.0\" fill=\"rgb(255,141,62)\" rx=\"2\" ry=\"2\" data-shortinfo=\"name in frames.jl:0\" data-info=\"name in /home/rdeits/.julia/v0.5/RigidBodyDynamics/src/frames.jl:0\"/>\n",
       "<text text-anchor=\"\" x=\"71.01123595505618\" y=\"236.5\" font-size=\"12\" font-family=\"Verdana\" fill=\"rgb(0,0,0)\" ></text>\n",
       "<rect vector-effect=\"non-scaling-stroke\" x=\"78.94382022471909\" y=\"225.0\" width=\"10.606741573033716\" height=\"15.0\" fill=\"rgb(180,211,70)\" rx=\"2\" ry=\"2\" data-shortinfo=\"cat_t in abstractarray.jl:1061\" data-info=\"cat_t in ./abstractarray.jl:1061\"/>\n",
       "<text text-anchor=\"\" x=\"82.94382022471909\" y=\"236.5\" font-size=\"12\" font-family=\"Verdana\" fill=\"rgb(0,0,0)\" ></text>\n",
       "<rect vector-effect=\"non-scaling-stroke\" x=\"89.5505617977528\" y=\"225.0\" width=\"1.3258426966292092\" height=\"15.0\" fill=\"rgb(180,211,70)\" rx=\"2\" ry=\"2\" data-shortinfo=\"cat_t in abstractarray.jl:1061\" data-info=\"cat_t in ./abstractarray.jl:1061\"/>\n",
       "<text text-anchor=\"\" x=\"93.5505617977528\" y=\"236.5\" font-size=\"12\" font-family=\"Verdana\" fill=\"rgb(0,0,0)\" ></text>\n",
       "<rect vector-effect=\"non-scaling-stroke\" x=\"90.87640449438202\" y=\"225.0\" width=\"156.44943820224717\" height=\"15.0\" fill=\"rgb(255,164,156)\" rx=\"2\" ry=\"2\" data-shortinfo=\"cat_t in abstractarray.jl:1063\" data-info=\"cat_t in ./abstractarray.jl:1063\"/>\n",
       "<text text-anchor=\"\" x=\"94.87640449438202\" y=\"236.5\" font-size=\"12\" font-family=\"Verdana\" fill=\"rgb(0,0,0)\" ></text>\n",
       "<rect vector-effect=\"non-scaling-stroke\" x=\"247.3258426966292\" y=\"225.0\" width=\"3.9775280898876417\" height=\"15.0\" fill=\"rgb(255,164,156)\" rx=\"2\" ry=\"2\" data-shortinfo=\"cat_t in abstractarray.jl:1063\" data-info=\"cat_t in ./abstractarray.jl:1063\"/>\n",
       "<text text-anchor=\"\" x=\"251.3258426966292\" y=\"236.5\" font-size=\"12\" font-family=\"Verdana\" fill=\"rgb(0,0,0)\" ></text>\n",
       "<rect vector-effect=\"non-scaling-stroke\" x=\"251.30337078651684\" y=\"225.0\" width=\"5.303370786516837\" height=\"15.0\" fill=\"rgb(255,164,156)\" rx=\"2\" ry=\"2\" data-shortinfo=\"cat_t in abstractarray.jl:1063\" data-info=\"cat_t in ./abstractarray.jl:1063\"/>\n",
       "<text text-anchor=\"\" x=\"255.30337078651684\" y=\"236.5\" font-size=\"12\" font-family=\"Verdana\" fill=\"rgb(0,0,0)\" ></text>\n",
       "<rect vector-effect=\"non-scaling-stroke\" x=\"256.6067415730337\" y=\"225.0\" width=\"1.3258426966292518\" height=\"15.0\" fill=\"rgb(158,158,158)\" rx=\"2\" ry=\"2\" data-shortinfo=\"cat_t in abstractarray.jl:1065\" data-info=\"cat_t in ./abstractarray.jl:1065\"/>\n",
       "<text text-anchor=\"\" x=\"260.6067415730337\" y=\"236.5\" font-size=\"12\" font-family=\"Verdana\" fill=\"rgb(0,0,0)\" ></text>\n",
       "<rect vector-effect=\"non-scaling-stroke\" x=\"257.9325842696629\" y=\"225.0\" width=\"3.9775280898876417\" height=\"15.0\" fill=\"rgb(205,185,255)\" rx=\"2\" ry=\"2\" data-shortinfo=\"cat_t in abstractarray.jl:1066\" data-info=\"cat_t in ./abstractarray.jl:1066\"/>\n",
       "<text text-anchor=\"\" x=\"261.9325842696629\" y=\"236.5\" font-size=\"12\" font-family=\"Verdana\" fill=\"rgb(0,0,0)\" ></text>\n",
       "<rect vector-effect=\"non-scaling-stroke\" x=\"261.91011235955057\" y=\"225.0\" width=\"2.65168539325839\" height=\"15.0\" fill=\"rgb(255,141,62)\" rx=\"2\" ry=\"2\" data-shortinfo=\"cat_t in abstractarray.jl:1071\" data-info=\"cat_t in ./abstractarray.jl:1071\"/>\n",
       "<text text-anchor=\"\" x=\"265.91011235955057\" y=\"236.5\" font-size=\"12\" font-family=\"Verdana\" fill=\"rgb(0,0,0)\" ></text>\n",
       "<rect vector-effect=\"non-scaling-stroke\" x=\"264.56179775280896\" y=\"225.0\" width=\"2.6516853932584468\" height=\"15.0\" fill=\"rgb(255,141,62)\" rx=\"2\" ry=\"2\" data-shortinfo=\"cat_t in abstractarray.jl:1071\" data-info=\"cat_t in ./abstractarray.jl:1071\"/>\n",
       "<text text-anchor=\"\" x=\"268.56179775280896\" y=\"236.5\" font-size=\"12\" font-family=\"Verdana\" fill=\"rgb(0,0,0)\" ></text>\n",
       "<rect vector-effect=\"non-scaling-stroke\" x=\"267.2134831460674\" y=\"225.0\" width=\"1.325842696629195\" height=\"15.0\" fill=\"rgb(255,141,62)\" rx=\"2\" ry=\"2\" data-shortinfo=\"cat_t in abstractarray.jl:1071\" data-info=\"cat_t in ./abstractarray.jl:1071\"/>\n",
       "<text text-anchor=\"\" x=\"271.2134831460674\" y=\"236.5\" font-size=\"12\" font-family=\"Verdana\" fill=\"rgb(0,0,0)\" ></text>\n",
       "<rect vector-effect=\"non-scaling-stroke\" x=\"268.5393258426966\" y=\"225.0\" width=\"2.6516853932584468\" height=\"15.0\" fill=\"rgb(255,141,62)\" rx=\"2\" ry=\"2\" data-shortinfo=\"cat_t in abstractarray.jl:1071\" data-info=\"cat_t in ./abstractarray.jl:1071\"/>\n",
       "<text text-anchor=\"\" x=\"272.5393258426966\" y=\"236.5\" font-size=\"12\" font-family=\"Verdana\" fill=\"rgb(0,0,0)\" ></text>\n",
       "<rect vector-effect=\"non-scaling-stroke\" x=\"271.19101123595505\" y=\"225.0\" width=\"1.325842696629195\" height=\"15.0\" fill=\"rgb(255,141,62)\" rx=\"2\" ry=\"2\" data-shortinfo=\"cat_t in abstractarray.jl:1071\" data-info=\"cat_t in ./abstractarray.jl:1071\"/>\n",
       "<text text-anchor=\"\" x=\"275.19101123595505\" y=\"236.5\" font-size=\"12\" font-family=\"Verdana\" fill=\"rgb(0,0,0)\" ></text>\n",
       "<rect vector-effect=\"non-scaling-stroke\" x=\"272.51685393258424\" y=\"225.0\" width=\"2.6516853932584468\" height=\"15.0\" fill=\"rgb(255,141,62)\" rx=\"2\" ry=\"2\" data-shortinfo=\"cat_t in abstractarray.jl:1071\" data-info=\"cat_t in ./abstractarray.jl:1071\"/>\n",
       "<text text-anchor=\"\" x=\"276.51685393258424\" y=\"236.5\" font-size=\"12\" font-family=\"Verdana\" fill=\"rgb(0,0,0)\" ></text>\n",
       "<rect vector-effect=\"non-scaling-stroke\" x=\"275.1685393258427\" y=\"225.0\" width=\"1.325842696629195\" height=\"15.0\" fill=\"rgb(255,141,62)\" rx=\"2\" ry=\"2\" data-shortinfo=\"cat_t in abstractarray.jl:1071\" data-info=\"cat_t in ./abstractarray.jl:1071\"/>\n",
       "<text text-anchor=\"\" x=\"279.1685393258427\" y=\"236.5\" font-size=\"12\" font-family=\"Verdana\" fill=\"rgb(0,0,0)\" ></text>\n",
       "<rect vector-effect=\"non-scaling-stroke\" x=\"276.4943820224719\" y=\"225.0\" width=\"1.325842696629195\" height=\"15.0\" fill=\"rgb(180,211,70)\" rx=\"2\" ry=\"2\" data-shortinfo=\"cat_t in abstractarray.jl:1073\" data-info=\"cat_t in ./abstractarray.jl:1073\"/>\n",
       "<text text-anchor=\"\" x=\"280.4943820224719\" y=\"236.5\" font-size=\"12\" font-family=\"Verdana\" fill=\"rgb(0,0,0)\" ></text>\n",
       "<rect vector-effect=\"non-scaling-stroke\" x=\"277.8202247191011\" y=\"225.0\" width=\"2.6516853932584468\" height=\"15.0\" fill=\"rgb(255,164,156)\" rx=\"2\" ry=\"2\" data-shortinfo=\"cat_t in abstractarray.jl:1076\" data-info=\"cat_t in ./abstractarray.jl:1076\"/>\n",
       "<text text-anchor=\"\" x=\"281.8202247191011\" y=\"236.5\" font-size=\"12\" font-family=\"Verdana\" fill=\"rgb(0,0,0)\" ></text>\n",
       "<rect vector-effect=\"non-scaling-stroke\" x=\"280.4719101123595\" y=\"225.0\" width=\"1.325842696629195\" height=\"15.0\" fill=\"rgb(255,164,156)\" rx=\"2\" ry=\"2\" data-shortinfo=\"cat_t in abstractarray.jl:1076\" data-info=\"cat_t in ./abstractarray.jl:1076\"/>\n",
       "<text text-anchor=\"\" x=\"284.4719101123595\" y=\"236.5\" font-size=\"12\" font-family=\"Verdana\" fill=\"rgb(0,0,0)\" ></text>\n",
       "<rect vector-effect=\"non-scaling-stroke\" x=\"281.7977528089887\" y=\"225.0\" width=\"1.3258426966292518\" height=\"15.0\" fill=\"rgb(255,164,156)\" rx=\"2\" ry=\"2\" data-shortinfo=\"cat_t in abstractarray.jl:1076\" data-info=\"cat_t in ./abstractarray.jl:1076\"/>\n",
       "<text text-anchor=\"\" x=\"285.7977528089887\" y=\"236.5\" font-size=\"12\" font-family=\"Verdana\" fill=\"rgb(0,0,0)\" ></text>\n",
       "<rect vector-effect=\"non-scaling-stroke\" x=\"283.12359550561797\" y=\"225.0\" width=\"1.325842696629195\" height=\"15.0\" fill=\"rgb(255,164,156)\" rx=\"2\" ry=\"2\" data-shortinfo=\"cat_t in abstractarray.jl:1076\" data-info=\"cat_t in ./abstractarray.jl:1076\"/>\n",
       "<text text-anchor=\"\" x=\"287.12359550561797\" y=\"236.5\" font-size=\"12\" font-family=\"Verdana\" fill=\"rgb(0,0,0)\" ></text>\n",
       "<rect vector-effect=\"non-scaling-stroke\" x=\"284.44943820224717\" y=\"225.0\" width=\"1.325842696629195\" height=\"15.0\" fill=\"rgb(255,164,156)\" rx=\"2\" ry=\"2\" data-shortinfo=\"cat_t in abstractarray.jl:1076\" data-info=\"cat_t in ./abstractarray.jl:1076\"/>\n",
       "<text text-anchor=\"\" x=\"288.44943820224717\" y=\"236.5\" font-size=\"12\" font-family=\"Verdana\" fill=\"rgb(0,0,0)\" ></text>\n",
       "<rect vector-effect=\"non-scaling-stroke\" x=\"285.77528089887636\" y=\"225.0\" width=\"1.3258426966292518\" height=\"15.0\" fill=\"rgb(255,164,156)\" rx=\"2\" ry=\"2\" data-shortinfo=\"cat_t in abstractarray.jl:1076\" data-info=\"cat_t in ./abstractarray.jl:1076\"/>\n",
       "<text text-anchor=\"\" x=\"289.77528089887636\" y=\"236.5\" font-size=\"12\" font-family=\"Verdana\" fill=\"rgb(0,0,0)\" ></text>\n",
       "<rect vector-effect=\"non-scaling-stroke\" x=\"287.1011235955056\" y=\"225.0\" width=\"2.65168539325839\" height=\"15.0\" fill=\"rgb(158,158,158)\" rx=\"2\" ry=\"2\" data-shortinfo=\"cat_t in abstractarray.jl:1077\" data-info=\"cat_t in ./abstractarray.jl:1077\"/>\n",
       "<text text-anchor=\"\" x=\"291.1011235955056\" y=\"236.5\" font-size=\"12\" font-family=\"Verdana\" fill=\"rgb(0,0,0)\" ></text>\n",
       "<rect vector-effect=\"non-scaling-stroke\" x=\"289.752808988764\" y=\"225.0\" width=\"1.3258426966292518\" height=\"15.0\" fill=\"rgb(205,185,255)\" rx=\"2\" ry=\"2\" data-shortinfo=\"cat_t in abstractarray.jl:1078\" data-info=\"cat_t in ./abstractarray.jl:1078\"/>\n",
       "<text text-anchor=\"\" x=\"293.752808988764\" y=\"236.5\" font-size=\"12\" font-family=\"Verdana\" fill=\"rgb(0,0,0)\" ></text>\n",
       "<rect vector-effect=\"non-scaling-stroke\" x=\"291.07865168539325\" y=\"225.0\" width=\"2.65168539325839\" height=\"15.0\" fill=\"rgb(205,185,255)\" rx=\"2\" ry=\"2\" data-shortinfo=\"cat_t in abstractarray.jl:1078\" data-info=\"cat_t in ./abstractarray.jl:1078\"/>\n",
       "<text text-anchor=\"\" x=\"295.07865168539325\" y=\"236.5\" font-size=\"12\" font-family=\"Verdana\" fill=\"rgb(0,0,0)\" ></text>\n",
       "<rect vector-effect=\"non-scaling-stroke\" x=\"293.73033707865164\" y=\"225.0\" width=\"1.3258426966292518\" height=\"15.0\" fill=\"rgb(255,141,62)\" rx=\"2\" ry=\"2\" data-shortinfo=\"cat_t in abstractarray.jl:1079\" data-info=\"cat_t in ./abstractarray.jl:1079\"/>\n",
       "<text text-anchor=\"\" x=\"297.73033707865164\" y=\"236.5\" font-size=\"12\" font-family=\"Verdana\" fill=\"rgb(0,0,0)\" ></text>\n",
       "<rect vector-effect=\"non-scaling-stroke\" x=\"295.0561797752809\" y=\"225.0\" width=\"13.25842696629212\" height=\"15.0\" fill=\"rgb(180,211,70)\" rx=\"2\" ry=\"2\" data-shortinfo=\"cat_t in abstractarray.jl:1089\" data-info=\"cat_t in ./abstractarray.jl:1089\"/>\n",
       "<text text-anchor=\"\" x=\"299.0561797752809\" y=\"236.5\" font-size=\"12\" font-family=\"Verdana\" fill=\"rgb(0,0,0)\" ></text>\n",
       "<rect vector-effect=\"non-scaling-stroke\" x=\"308.314606741573\" y=\"225.0\" width=\"21.213483146067404\" height=\"15.0\" fill=\"rgb(180,211,70)\" rx=\"2\" ry=\"2\" data-shortinfo=\"cat_t in abstractarray.jl:1089\" data-info=\"cat_t in ./abstractarray.jl:1089\"/>\n",
       "<text text-anchor=\"\" x=\"312.314606741573\" y=\"236.5\" font-size=\"12\" font-family=\"Verdana\" fill=\"rgb(0,0,0)\" ></text>\n",
       "<rect vector-effect=\"non-scaling-stroke\" x=\"329.5280898876404\" y=\"225.0\" width=\"1.325842696629195\" height=\"15.0\" fill=\"rgb(255,164,156)\" rx=\"2\" ry=\"2\" data-shortinfo=\"cat_t in abstractarray.jl:1094\" data-info=\"cat_t in ./abstractarray.jl:1094\"/>\n",
       "<text text-anchor=\"\" x=\"333.5280898876404\" y=\"236.5\" font-size=\"12\" font-family=\"Verdana\" fill=\"rgb(0,0,0)\" ></text>\n",
       "<rect vector-effect=\"non-scaling-stroke\" x=\"330.8539325842696\" y=\"225.0\" width=\"22.539325842696655\" height=\"15.0\" fill=\"rgb(158,158,158)\" rx=\"2\" ry=\"2\" data-shortinfo=\"cat_t in abstractarray.jl:1096\" data-info=\"cat_t in ./abstractarray.jl:1096\"/>\n",
       "<text text-anchor=\"\" x=\"334.8539325842696\" y=\"236.5\" font-size=\"12\" font-family=\"Verdana\" fill=\"rgb(0,0,0)\" ></text>\n",
       "<rect vector-effect=\"non-scaling-stroke\" x=\"353.39325842696627\" y=\"225.0\" width=\"17.235955056179762\" height=\"15.0\" fill=\"rgb(158,158,158)\" rx=\"2\" ry=\"2\" data-shortinfo=\"cat_t in abstractarray.jl:1096\" data-info=\"cat_t in ./abstractarray.jl:1096\"/>\n",
       "<text text-anchor=\"\" x=\"357.39325842696627\" y=\"236.5\" font-size=\"12\" font-family=\"Verdana\" fill=\"rgb(0,0,0)\" ></text>\n",
       "<rect vector-effect=\"non-scaling-stroke\" x=\"370.62921348314603\" y=\"225.0\" width=\"7.9550561797752835\" height=\"15.0\" fill=\"rgb(158,158,158)\" rx=\"2\" ry=\"2\" data-shortinfo=\"cat_t in abstractarray.jl:1096\" data-info=\"cat_t in ./abstractarray.jl:1096\"/>\n",
       "<text text-anchor=\"\" x=\"374.62921348314603\" y=\"236.5\" font-size=\"12\" font-family=\"Verdana\" fill=\"rgb(0,0,0)\" ></text>\n",
       "<rect vector-effect=\"non-scaling-stroke\" x=\"378.5842696629213\" y=\"225.0\" width=\"1.325842696629195\" height=\"15.0\" fill=\"rgb(158,158,158)\" rx=\"2\" ry=\"2\" data-shortinfo=\"cat_t in abstractarray.jl:1096\" data-info=\"cat_t in ./abstractarray.jl:1096\"/>\n",
       "<text text-anchor=\"\" x=\"382.5842696629213\" y=\"236.5\" font-size=\"12\" font-family=\"Verdana\" fill=\"rgb(0,0,0)\" ></text>\n",
       "<rect vector-effect=\"non-scaling-stroke\" x=\"379.9101123595505\" y=\"225.0\" width=\"2.6516853932584468\" height=\"15.0\" fill=\"rgb(205,185,255)\" rx=\"2\" ry=\"2\" data-shortinfo=\"cat_t in abstractarray.jl:1098\" data-info=\"cat_t in ./abstractarray.jl:1098\"/>\n",
       "<text text-anchor=\"\" x=\"383.9101123595505\" y=\"236.5\" font-size=\"12\" font-family=\"Verdana\" fill=\"rgb(0,0,0)\" ></text>\n",
       "<rect vector-effect=\"non-scaling-stroke\" x=\"382.56179775280896\" y=\"225.0\" width=\"1.325842696629195\" height=\"15.0\" fill=\"rgb(205,185,255)\" rx=\"2\" ry=\"2\" data-shortinfo=\"cat_t in abstractarray.jl:1098\" data-info=\"cat_t in ./abstractarray.jl:1098\"/>\n",
       "<text text-anchor=\"\" x=\"386.56179775280896\" y=\"236.5\" font-size=\"12\" font-family=\"Verdana\" fill=\"rgb(0,0,0)\" ></text>\n",
       "<rect vector-effect=\"non-scaling-stroke\" x=\"383.88764044943815\" y=\"225.0\" width=\"1.3258426966292518\" height=\"15.0\" fill=\"rgb(255,141,62)\" rx=\"2\" ry=\"2\" data-shortinfo=\"cat_t in abstractarray.jl:1100\" data-info=\"cat_t in ./abstractarray.jl:1100\"/>\n",
       "<text text-anchor=\"\" x=\"387.88764044943815\" y=\"236.5\" font-size=\"12\" font-family=\"Verdana\" fill=\"rgb(0,0,0)\" ></text>\n",
       "<rect vector-effect=\"non-scaling-stroke\" x=\"385.2134831460674\" y=\"225.0\" width=\"1.325842696629195\" height=\"15.0\" fill=\"rgb(255,141,62)\" rx=\"2\" ry=\"2\" data-shortinfo=\"cat_t in abstractarray.jl:1100\" data-info=\"cat_t in ./abstractarray.jl:1100\"/>\n",
       "<text text-anchor=\"\" x=\"389.2134831460674\" y=\"236.5\" font-size=\"12\" font-family=\"Verdana\" fill=\"rgb(0,0,0)\" ></text>\n",
       "<rect vector-effect=\"non-scaling-stroke\" x=\"386.5393258426966\" y=\"225.0\" width=\"1.325842696629195\" height=\"15.0\" fill=\"rgb(255,141,62)\" rx=\"2\" ry=\"2\" data-shortinfo=\"cat_t in abstractarray.jl:1100\" data-info=\"cat_t in ./abstractarray.jl:1100\"/>\n",
       "<text text-anchor=\"\" x=\"390.5393258426966\" y=\"236.5\" font-size=\"12\" font-family=\"Verdana\" fill=\"rgb(0,0,0)\" ></text>\n",
       "<rect vector-effect=\"non-scaling-stroke\" x=\"387.8651685393258\" y=\"225.0\" width=\"1.3258426966292518\" height=\"15.0\" fill=\"rgb(180,211,70)\" rx=\"2\" ry=\"2\" data-shortinfo=\" in julia.h:665\" data-info=\" in /home/centos/buildbot/slave/package_tarball64/build/src/julia.h:665\"/>\n",
       "<text text-anchor=\"\" x=\"391.8651685393258\" y=\"236.5\" font-size=\"12\" font-family=\"Verdana\" fill=\"rgb(0,0,0)\" ></text>\n",
       "<rect vector-effect=\"non-scaling-stroke\" x=\"394.4943820224719\" y=\"225.0\" width=\"1.325842696629195\" height=\"15.0\" fill=\"rgb(255,164,156)\" rx=\"2\" ry=\"2\" data-shortinfo=\"#print_to_string#305 in io.jl:50\" data-info=\"#print_to_string#305 in ./strings/io.jl:50\"/>\n",
       "<text text-anchor=\"\" x=\"398.4943820224719\" y=\"236.5\" font-size=\"12\" font-family=\"Verdana\" fill=\"rgb(0,0,0)\" ></text>\n",
       "<rect vector-effect=\"non-scaling-stroke\" x=\"395.8202247191011\" y=\"225.0\" width=\"1.3258426966292518\" height=\"15.0\" fill=\"rgb(255,164,156)\" rx=\"2\" ry=\"2\" data-shortinfo=\"#print_to_string#305 in io.jl:50\" data-info=\"#print_to_string#305 in ./strings/io.jl:50\"/>\n",
       "<text text-anchor=\"\" x=\"399.8202247191011\" y=\"236.5\" font-size=\"12\" font-family=\"Verdana\" fill=\"rgb(0,0,0)\" ></text>\n",
       "<rect vector-effect=\"non-scaling-stroke\" x=\"397.14606741573033\" y=\"225.0\" width=\"5.303370786516837\" height=\"15.0\" fill=\"rgb(158,158,158)\" rx=\"2\" ry=\"2\" data-shortinfo=\"#print_to_string#305 in io.jl:61\" data-info=\"#print_to_string#305 in ./strings/io.jl:61\"/>\n",
       "<text text-anchor=\"\" x=\"401.14606741573033\" y=\"236.5\" font-size=\"12\" font-family=\"Verdana\" fill=\"rgb(0,0,0)\" ></text>\n",
       "<rect vector-effect=\"non-scaling-stroke\" x=\"410.40449438202245\" y=\"225.0\" width=\"1.325842696629195\" height=\"15.0\" fill=\"rgb(205,185,255)\" rx=\"2\" ry=\"2\" data-shortinfo=\"ht_keyindex in dict.jl:540\" data-info=\"ht_keyindex in ./dict.jl:540\"/>\n",
       "<text text-anchor=\"\" x=\"414.40449438202245\" y=\"236.5\" font-size=\"12\" font-family=\"Verdana\" fill=\"rgb(0,0,0)\" ></text>\n",
       "<rect vector-effect=\"non-scaling-stroke\" x=\"411.73033707865164\" y=\"225.0\" width=\"1.3258426966292518\" height=\"15.0\" fill=\"rgb(255,141,62)\" rx=\"2\" ry=\"2\" data-shortinfo=\"hash in hashing.jl:10; hash in hashing.jl:5; hashindex in dict.jl:441; ht_keyindex in dict.jl:536\" data-info=\"hash in ./hashing.jl:10; hash in ./hashing.jl:5; hashindex in ./dict.jl:441; ht_keyindex in ./dict.jl:536\"/>\n",
       "<text text-anchor=\"\" x=\"415.73033707865164\" y=\"236.5\" font-size=\"12\" font-family=\"Verdana\" fill=\"rgb(0,0,0)\" ></text>\n",
       "<rect vector-effect=\"non-scaling-stroke\" x=\"414.3820224719101\" y=\"225.0\" width=\"1.325842696629195\" height=\"15.0\" fill=\"rgb(180,211,70)\" rx=\"2\" ry=\"2\" data-shortinfo=\"macro expansion in cache_element.jl:29; transform_to_root in mechanism_state.jl:207\" data-info=\"macro expansion in /home/rdeits/.julia/v0.5/RigidBodyDynamics/src/cache_element.jl:29; transform_to_root in /home/rdeits/.julia/v0.5/RigidBodyDynamics/src/mechanism_state.jl:207\"/>\n",
       "<text text-anchor=\"\" x=\"418.3820224719101\" y=\"236.5\" font-size=\"12\" font-family=\"Verdana\" fill=\"rgb(0,0,0)\" ></text>\n",
       "<rect vector-effect=\"non-scaling-stroke\" x=\"415.7078651685393\" y=\"225.0\" width=\"2.6516853932584468\" height=\"15.0\" fill=\"rgb(255,164,156)\" rx=\"2\" ry=\"2\" data-shortinfo=\"state_vertex in mechanism_state.jl:127\" data-info=\"state_vertex in /home/rdeits/.julia/v0.5/RigidBodyDynamics/src/mechanism_state.jl:127\"/>\n",
       "<text text-anchor=\"\" x=\"419.7078651685393\" y=\"236.5\" font-size=\"12\" font-family=\"Verdana\" fill=\"rgb(0,0,0)\" ></text>\n",
       "<rect vector-effect=\"non-scaling-stroke\" x=\"418.35955056179773\" y=\"225.0\" width=\"3.9775280898876417\" height=\"15.0\" fill=\"rgb(158,158,158)\" rx=\"2\" ry=\"2\" data-shortinfo=\"getindex in lazytree.jl:46\" data-info=\"getindex in /home/rdeits/.julia/v0.5/DrakeVisualizer/src/lazytree.jl:46\"/>\n",
       "<text text-anchor=\"\" x=\"422.35955056179773\" y=\"236.5\" font-size=\"12\" font-family=\"Verdana\" fill=\"rgb(0,0,0)\" ></text>\n",
       "<rect vector-effect=\"non-scaling-stroke\" x=\"761.752808988764\" y=\"225.0\" width=\"1.3258426966292518\" height=\"15.0\" fill=\"rgb(205,185,255)\" rx=\"2\" ry=\"2\" data-shortinfo=\"hash in hashing2.jl:179\" data-info=\"hash in ./hashing2.jl:179\"/>\n",
       "<text text-anchor=\"\" x=\"765.752808988764\" y=\"236.5\" font-size=\"12\" font-family=\"Verdana\" fill=\"rgb(0,0,0)\" ></text>\n",
       "<rect vector-effect=\"non-scaling-stroke\" x=\"769.7078651685392\" y=\"225.0\" width=\"1.3258426966292518\" height=\"15.0\" fill=\"rgb(255,141,62)\" rx=\"2\" ry=\"2\" data-shortinfo=\"getindex in PyCall.jl:258\" data-info=\"getindex in /home/rdeits/.julia/v0.5/PyCall/src/PyCall.jl:258\"/>\n",
       "<text text-anchor=\"\" x=\"773.7078651685392\" y=\"236.5\" font-size=\"12\" font-family=\"Verdana\" fill=\"rgb(0,0,0)\" ></text>\n",
       "<rect vector-effect=\"non-scaling-stroke\" x=\"771.0337078651685\" y=\"225.0\" width=\"103.41573033707868\" height=\"15.0\" fill=\"rgb(180,211,70)\" rx=\"2\" ry=\"2\" data-shortinfo=\"getindex in PyCall.jl:261\" data-info=\"getindex in /home/rdeits/.julia/v0.5/PyCall/src/PyCall.jl:261\"/>\n",
       "<text text-anchor=\"\" x=\"775.0337078651685\" y=\"236.5\" font-size=\"12\" font-family=\"Verdana\" fill=\"rgb(0,0,0)\" ></text>\n",
       "<rect vector-effect=\"non-scaling-stroke\" x=\"877.1011235955056\" y=\"225.0\" width=\"1.3258426966292518\" height=\"15.0\" fill=\"rgb(255,164,156)\" rx=\"2\" ry=\"2\" data-shortinfo=\"convert in conversions.jl:794\" data-info=\"convert in /home/rdeits/.julia/v0.5/PyCall/src/conversions.jl:794\"/>\n",
       "<text text-anchor=\"\" x=\"881.1011235955056\" y=\"236.5\" font-size=\"12\" font-family=\"Verdana\" fill=\"rgb(0,0,0)\" ></text>\n",
       "<rect vector-effect=\"non-scaling-stroke\" x=\"878.4269662921348\" y=\"225.0\" width=\"106.06741573033707\" height=\"15.0\" fill=\"rgb(158,158,158)\" rx=\"2\" ry=\"2\" data-shortinfo=\"convert in conversions.jl:795\" data-info=\"convert in /home/rdeits/.julia/v0.5/PyCall/src/conversions.jl:795\"/>\n",
       "<text text-anchor=\"\" x=\"882.4269662921348\" y=\"236.5\" font-size=\"12\" font-family=\"Verdana\" fill=\"rgb(0,0,0)\" ></text>\n",
       "<rect vector-effect=\"non-scaling-stroke\" x=\"984.4943820224719\" y=\"225.0\" width=\"1.3258426966291381\" height=\"15.0\" fill=\"rgb(205,185,255)\" rx=\"2\" ry=\"2\" data-shortinfo=\"convert in conversions.jl:799\" data-info=\"convert in /home/rdeits/.julia/v0.5/PyCall/src/conversions.jl:799\"/>\n",
       "<text text-anchor=\"\" x=\"988.4943820224719\" y=\"236.5\" font-size=\"12\" font-family=\"Verdana\" fill=\"rgb(0,0,0)\" ></text>\n",
       "<rect vector-effect=\"non-scaling-stroke\" x=\"987.1460674157303\" y=\"225.0\" width=\"1.3258426966292518\" height=\"15.0\" fill=\"rgb(255,141,62)\" rx=\"2\" ry=\"2\" data-shortinfo=\"Type in PyCall.jl:72; #_pycall#66 in PyCall.jl:538\" data-info=\"Type in /home/rdeits/.julia/v0.5/PyCall/src/PyCall.jl:72; #_pycall#66 in /home/rdeits/.julia/v0.5/PyCall/src/PyCall.jl:538\"/>\n",
       "<text text-anchor=\"\" x=\"991.1460674157303\" y=\"236.5\" font-size=\"12\" font-family=\"Verdana\" fill=\"rgb(0,0,0)\" ></text>\n",
       "<rect vector-effect=\"non-scaling-stroke\" x=\"988.4719101123595\" y=\"225.0\" width=\"3.9775280898876417\" height=\"15.0\" fill=\"rgb(180,211,70)\" rx=\"2\" ry=\"2\" data-shortinfo=\"macro expansion in exception.jl:78; #_pycall#66 in PyCall.jl:546\" data-info=\"macro expansion in /home/rdeits/.julia/v0.5/PyCall/src/exception.jl:78; #_pycall#66 in /home/rdeits/.julia/v0.5/PyCall/src/PyCall.jl:546\"/>\n",
       "<text text-anchor=\"\" x=\"992.4719101123595\" y=\"236.5\" font-size=\"12\" font-family=\"Verdana\" fill=\"rgb(0,0,0)\" ></text>\n",
       "<rect vector-effect=\"non-scaling-stroke\" x=\"1001.7303370786516\" y=\"225.0\" width=\"1.3258426966292518\" height=\"15.0\" fill=\"rgb(255,164,156)\" rx=\"2\" ry=\"2\" data-shortinfo=\"print in io.jl:70; print in io.jl:19\" data-info=\"print in ./strings/io.jl:70; print in ./strings/io.jl:19\"/>\n",
       "<text text-anchor=\"\" x=\"1005.7303370786516\" y=\"236.5\" font-size=\"12\" font-family=\"Verdana\" fill=\"rgb(0,0,0)\" ></text>\n",
       "<rect vector-effect=\"non-scaling-stroke\" x=\"1003.0561797752808\" y=\"225.0\" width=\"14.584269662921315\" height=\"15.0\" fill=\"rgb(158,158,158)\" rx=\"2\" ry=\"2\" data-shortinfo=\"_writejson in JSON.jl:204\" data-info=\"_writejson in /home/rdeits/.julia/v0.5/JSON/src/JSON.jl:204\"/>\n",
       "<text text-anchor=\"\" x=\"1007.0561797752808\" y=\"236.5\" font-size=\"12\" font-family=\"Verdana\" fill=\"rgb(0,0,0)\" ></text>\n",
       "<rect vector-effect=\"non-scaling-stroke\" x=\"1017.6404494382022\" y=\"225.0\" width=\"137.8876404494382\" height=\"15.0\" fill=\"rgb(205,185,255)\" rx=\"2\" ry=\"2\" data-shortinfo=\"_writejson in JSON.jl:210\" data-info=\"_writejson in /home/rdeits/.julia/v0.5/JSON/src/JSON.jl:210\"/>\n",
       "<text text-anchor=\"\" x=\"1021.6404494382022\" y=\"236.5\" font-size=\"12\" font-family=\"Verdana\" fill=\"rgb(0,0,0)\" ></text>\n",
       "<rect vector-effect=\"non-scaling-stroke\" x=\"1171.438202247191\" y=\"225.0\" width=\"2.6516853932585036\" height=\"15.0\" fill=\"rgb(255,141,62)\" rx=\"2\" ry=\"2\" data-shortinfo=\"endof in string.jl:0\" data-info=\"endof in ./strings/string.jl:0\"/>\n",
       "<text text-anchor=\"\" x=\"1175.438202247191\" y=\"236.5\" font-size=\"12\" font-family=\"Verdana\" fill=\"rgb(0,0,0)\" ></text>\n",
       "<rect vector-effect=\"non-scaling-stroke\" x=\"1174.0898876404494\" y=\"225.0\" width=\"1.3258426966290244\" height=\"15.0\" fill=\"rgb(255,141,62)\" rx=\"2\" ry=\"2\" data-shortinfo=\"endof in string.jl:0\" data-info=\"endof in ./strings/string.jl:0\"/>\n",
       "<text text-anchor=\"\" x=\"1178.0898876404494\" y=\"236.5\" font-size=\"12\" font-family=\"Verdana\" fill=\"rgb(0,0,0)\" ></text>\n",
       "<rect vector-effect=\"non-scaling-stroke\" x=\"1175.4157303370785\" y=\"225.0\" width=\"2.6516853932585036\" height=\"15.0\" fill=\"rgb(180,211,70)\" rx=\"2\" ry=\"2\" data-shortinfo=\"endof in string.jl:39\" data-info=\"endof in ./strings/string.jl:39\"/>\n",
       "<text text-anchor=\"\" x=\"1179.4157303370785\" y=\"236.5\" font-size=\"12\" font-family=\"Verdana\" fill=\"rgb(0,0,0)\" ></text>\n",
       "<rect vector-effect=\"non-scaling-stroke\" x=\"1178.067415730337\" y=\"225.0\" width=\"1.3258426966292518\" height=\"15.0\" fill=\"rgb(180,211,70)\" rx=\"2\" ry=\"2\" data-shortinfo=\"endof in string.jl:39\" data-info=\"endof in ./strings/string.jl:39\"/>\n",
       "<text text-anchor=\"\" x=\"1182.067415730337\" y=\"236.5\" font-size=\"12\" font-family=\"Verdana\" fill=\"rgb(0,0,0)\" ></text>\n",
       "<rect vector-effect=\"non-scaling-stroke\" x=\"1179.3932584269662\" y=\"225.0\" width=\"2.6516853932585036\" height=\"15.0\" fill=\"rgb(255,164,156)\" rx=\"2\" ry=\"2\" data-shortinfo=\" in julia:-1\" data-info=\" in /home/rdeits/tools/julia-3c9d75391c/bin/julia:-1\"/>\n",
       "<text text-anchor=\"\" x=\"1183.3932584269662\" y=\"236.5\" font-size=\"12\" font-family=\"Verdana\" fill=\"rgb(0,0,0)\" ></text>\n",
       "<rect vector-effect=\"non-scaling-stroke\" x=\"33.865168539325836\" y=\"210.0\" width=\"1.3258426966292234\" height=\"15.0\" fill=\"rgb(232,112,221)\" rx=\"2\" ry=\"2\" data-shortinfo=\"print in io.jl:8\" data-info=\"print in ./strings/io.jl:8\"/>\n",
       "<text text-anchor=\"\" x=\"37.865168539325836\" y=\"221.5\" font-size=\"12\" font-family=\"Verdana\" fill=\"rgb(0,0,0)\" ></text>\n",
       "<rect vector-effect=\"non-scaling-stroke\" x=\"35.19101123595506\" y=\"210.0\" width=\"1.3258426966292092\" height=\"15.0\" fill=\"rgb(50,180,78)\" rx=\"2\" ry=\"2\" data-shortinfo=\" in builtins.c:226\" data-info=\" in /home/centos/buildbot/slave/package_tarball64/build/src/builtins.c:226\"/>\n",
       "<text text-anchor=\"\" x=\"39.19101123595506\" y=\"221.5\" font-size=\"12\" font-family=\"Verdana\" fill=\"rgb(0,0,0)\" ></text>\n",
       "<rect vector-effect=\"non-scaling-stroke\" x=\"36.51685393258427\" y=\"210.0\" width=\"5.303370786516851\" height=\"15.0\" fill=\"rgb(26,162,255)\" rx=\"2\" ry=\"2\" data-shortinfo=\"print in io.jl:70\" data-info=\"print in ./strings/io.jl:70\"/>\n",
       "<text text-anchor=\"\" x=\"40.51685393258427\" y=\"221.5\" font-size=\"12\" font-family=\"Verdana\" fill=\"rgb(0,0,0)\" ></text>\n",
       "<rect vector-effect=\"non-scaling-stroke\" x=\"43.146067415730336\" y=\"210.0\" width=\"1.3258426966292092\" height=\"15.0\" fill=\"rgb(210,165,23)\" rx=\"2\" ry=\"2\" data-shortinfo=\"resize! in array.jl:517\" data-info=\"resize! in ./array.jl:517\"/>\n",
       "<text text-anchor=\"\" x=\"47.146067415730336\" y=\"221.5\" font-size=\"12\" font-family=\"Verdana\" fill=\"rgb(0,0,0)\" ></text>\n",
       "<rect vector-effect=\"non-scaling-stroke\" x=\"259.2584269662921\" y=\"210.0\" width=\"1.325842696629195\" height=\"15.0\" fill=\"rgb(0,222,230)\" rx=\"2\" ry=\"2\" data-shortinfo=\"Type in boot.jl:320\" data-info=\"Type in ./boot.jl:320\"/>\n",
       "<text text-anchor=\"\" x=\"263.2584269662921\" y=\"221.5\" font-size=\"12\" font-family=\"Verdana\" fill=\"rgb(0,0,0)\" ></text>\n",
       "<rect vector-effect=\"non-scaling-stroke\" x=\"280.4719101123595\" y=\"210.0\" width=\"1.325842696629195\" height=\"15.0\" fill=\"rgb(232,112,221)\" rx=\"2\" ry=\"2\" data-shortinfo=\"start in range.jl:0\" data-info=\"start in ./range.jl:0\"/>\n",
       "<text text-anchor=\"\" x=\"284.4719101123595\" y=\"221.5\" font-size=\"12\" font-family=\"Verdana\" fill=\"rgb(0,0,0)\" ></text>\n",
       "<rect vector-effect=\"non-scaling-stroke\" x=\"310.96629213483146\" y=\"210.0\" width=\"11.932584269662925\" height=\"15.0\" fill=\"rgb(50,180,78)\" rx=\"2\" ry=\"2\" data-shortinfo=\"similar in array.jl:125\" data-info=\"similar in ./array.jl:125\"/>\n",
       "<text text-anchor=\"\" x=\"314.96629213483146\" y=\"221.5\" font-size=\"12\" font-family=\"Verdana\" fill=\"rgb(0,0,0)\" ></text>\n",
       "<rect vector-effect=\"non-scaling-stroke\" x=\"322.8988764044944\" y=\"210.0\" width=\"3.977528089887585\" height=\"15.0\" fill=\"rgb(50,180,78)\" rx=\"2\" ry=\"2\" data-shortinfo=\"similar in array.jl:125\" data-info=\"similar in ./array.jl:125\"/>\n",
       "<text text-anchor=\"\" x=\"326.8988764044944\" y=\"221.5\" font-size=\"12\" font-family=\"Verdana\" fill=\"rgb(0,0,0)\" ></text>\n",
       "<rect vector-effect=\"non-scaling-stroke\" x=\"326.876404494382\" y=\"210.0\" width=\"1.3258426966292518\" height=\"15.0\" fill=\"rgb(50,180,78)\" rx=\"2\" ry=\"2\" data-shortinfo=\"similar in array.jl:125\" data-info=\"similar in ./array.jl:125\"/>\n",
       "<text text-anchor=\"\" x=\"330.876404494382\" y=\"221.5\" font-size=\"12\" font-family=\"Verdana\" fill=\"rgb(0,0,0)\" ></text>\n",
       "<rect vector-effect=\"non-scaling-stroke\" x=\"330.8539325842696\" y=\"210.0\" width=\"1.3258426966292518\" height=\"15.0\" fill=\"rgb(26,162,255)\" rx=\"2\" ry=\"2\" data-shortinfo=\"collect in array.jl:0\" data-info=\"collect in ./array.jl:0\"/>\n",
       "<text text-anchor=\"\" x=\"334.8539325842696\" y=\"221.5\" font-size=\"12\" font-family=\"Verdana\" fill=\"rgb(0,0,0)\" ></text>\n",
       "<rect vector-effect=\"non-scaling-stroke\" x=\"332.17977528089887\" y=\"210.0\" width=\"11.932584269662925\" height=\"15.0\" fill=\"rgb(210,165,23)\" rx=\"2\" ry=\"2\" data-shortinfo=\"collect in array.jl:307\" data-info=\"collect in ./array.jl:307\"/>\n",
       "<text text-anchor=\"\" x=\"336.17977528089887\" y=\"221.5\" font-size=\"12\" font-family=\"Verdana\" fill=\"rgb(0,0,0)\" ></text>\n",
       "<rect vector-effect=\"non-scaling-stroke\" x=\"344.1123595505618\" y=\"210.0\" width=\"1.325842696629195\" height=\"15.0\" fill=\"rgb(0,222,230)\" rx=\"2\" ry=\"2\" data-shortinfo=\"collect in array.jl:308\" data-info=\"collect in ./array.jl:308\"/>\n",
       "<text text-anchor=\"\" x=\"348.1123595505618\" y=\"221.5\" font-size=\"12\" font-family=\"Verdana\" fill=\"rgb(0,0,0)\" ></text>\n",
       "<rect vector-effect=\"non-scaling-stroke\" x=\"345.438202247191\" y=\"210.0\" width=\"1.325842696629195\" height=\"15.0\" fill=\"rgb(0,222,230)\" rx=\"2\" ry=\"2\" data-shortinfo=\"collect in array.jl:308\" data-info=\"collect in ./array.jl:308\"/>\n",
       "<text text-anchor=\"\" x=\"349.438202247191\" y=\"221.5\" font-size=\"12\" font-family=\"Verdana\" fill=\"rgb(0,0,0)\" ></text>\n",
       "<rect vector-effect=\"non-scaling-stroke\" x=\"346.7640449438202\" y=\"210.0\" width=\"5.3033707865168935\" height=\"15.0\" fill=\"rgb(0,222,230)\" rx=\"2\" ry=\"2\" data-shortinfo=\"collect in array.jl:308\" data-info=\"collect in ./array.jl:308\"/>\n",
       "<text text-anchor=\"\" x=\"350.7640449438202\" y=\"221.5\" font-size=\"12\" font-family=\"Verdana\" fill=\"rgb(0,0,0)\" ></text>\n",
       "<rect vector-effect=\"non-scaling-stroke\" x=\"352.0674157303371\" y=\"210.0\" width=\"1.325842696629195\" height=\"15.0\" fill=\"rgb(232,112,221)\" rx=\"2\" ry=\"2\" data-shortinfo=\"collect_to_with_first! in array.jl:325; collect in array.jl:308\" data-info=\"collect_to_with_first! in ./array.jl:325; collect in ./array.jl:308\"/>\n",
       "<text text-anchor=\"\" x=\"356.0674157303371\" y=\"221.5\" font-size=\"12\" font-family=\"Verdana\" fill=\"rgb(0,0,0)\" ></text>\n",
       "<rect vector-effect=\"non-scaling-stroke\" x=\"354.71910112359546\" y=\"210.0\" width=\"1.3258426966292518\" height=\"15.0\" fill=\"rgb(50,180,78)\" rx=\"2\" ry=\"2\" data-shortinfo=\"Type in generator.jl:13\" data-info=\"Type in ./generator.jl:13\"/>\n",
       "<text text-anchor=\"\" x=\"358.71910112359546\" y=\"221.5\" font-size=\"12\" font-family=\"Verdana\" fill=\"rgb(0,0,0)\" ></text>\n",
       "<rect vector-effect=\"non-scaling-stroke\" x=\"397.14606741573033\" y=\"210.0\" width=\"2.65168539325839\" height=\"15.0\" fill=\"rgb(26,162,255)\" rx=\"2\" ry=\"2\" data-shortinfo=\"print in io.jl:8\" data-info=\"print in ./strings/io.jl:8\"/>\n",
       "<text text-anchor=\"\" x=\"401.14606741573033\" y=\"221.5\" font-size=\"12\" font-family=\"Verdana\" fill=\"rgb(0,0,0)\" ></text>\n",
       "<rect vector-effect=\"non-scaling-stroke\" x=\"399.7977528089887\" y=\"210.0\" width=\"2.6516853932584468\" height=\"15.0\" fill=\"rgb(210,165,23)\" rx=\"2\" ry=\"2\" data-shortinfo=\"print in io.jl:70\" data-info=\"print in ./strings/io.jl:70\"/>\n",
       "<text text-anchor=\"\" x=\"403.7977528089887\" y=\"221.5\" font-size=\"12\" font-family=\"Verdana\" fill=\"rgb(0,0,0)\" ></text>\n",
       "<rect vector-effect=\"non-scaling-stroke\" x=\"418.35955056179773\" y=\"210.0\" width=\"3.9775280898876417\" height=\"15.0\" fill=\"rgb(0,222,230)\" rx=\"2\" ry=\"2\" data-shortinfo=\"haskey in dict.jl:701; getindex in lazytree.jl:30\" data-info=\"haskey in ./dict.jl:701; getindex in /home/rdeits/.julia/v0.5/DrakeVisualizer/src/lazytree.jl:30\"/>\n",
       "<text text-anchor=\"\" x=\"422.35955056179773\" y=\"221.5\" font-size=\"12\" font-family=\"Verdana\" fill=\"rgb(0,0,0)\" ></text>\n",
       "<rect vector-effect=\"non-scaling-stroke\" x=\"878.4269662921348\" y=\"210.0\" width=\"100.76404494382018\" height=\"15.0\" fill=\"rgb(232,112,221)\" rx=\"2\" ry=\"2\" data-shortinfo=\"pytype_query in conversions.jl:738\" data-info=\"pytype_query in /home/rdeits/.julia/v0.5/PyCall/src/conversions.jl:738\"/>\n",
       "<text text-anchor=\"\" x=\"882.4269662921348\" y=\"221.5\" font-size=\"12\" font-family=\"Verdana\" fill=\"rgb(0,0,0)\" ></text>\n",
       "<rect vector-effect=\"non-scaling-stroke\" x=\"979.191011235955\" y=\"210.0\" width=\"1.3258426966292518\" height=\"15.0\" fill=\"rgb(232,112,221)\" rx=\"2\" ry=\"2\" data-shortinfo=\"pytype_query in conversions.jl:738\" data-info=\"pytype_query in /home/rdeits/.julia/v0.5/PyCall/src/conversions.jl:738\"/>\n",
       "<text text-anchor=\"\" x=\"983.191011235955\" y=\"221.5\" font-size=\"12\" font-family=\"Verdana\" fill=\"rgb(0,0,0)\" ></text>\n",
       "<rect vector-effect=\"non-scaling-stroke\" x=\"980.5168539325842\" y=\"210.0\" width=\"2.65168539325839\" height=\"15.0\" fill=\"rgb(50,180,78)\" rx=\"2\" ry=\"2\" data-shortinfo=\"pytype_query in conversions.jl:739\" data-info=\"pytype_query in /home/rdeits/.julia/v0.5/PyCall/src/conversions.jl:739\"/>\n",
       "<text text-anchor=\"\" x=\"984.5168539325842\" y=\"221.5\" font-size=\"12\" font-family=\"Verdana\" fill=\"rgb(0,0,0)\" ></text>\n",
       "<rect vector-effect=\"non-scaling-stroke\" x=\"983.1685393258426\" y=\"210.0\" width=\"1.3258426966292518\" height=\"15.0\" fill=\"rgb(50,180,78)\" rx=\"2\" ry=\"2\" data-shortinfo=\"pytype_query in conversions.jl:739\" data-info=\"pytype_query in /home/rdeits/.julia/v0.5/PyCall/src/conversions.jl:739\"/>\n",
       "<text text-anchor=\"\" x=\"987.1685393258426\" y=\"221.5\" font-size=\"12\" font-family=\"Verdana\" fill=\"rgb(0,0,0)\" ></text>\n",
       "<rect vector-effect=\"non-scaling-stroke\" x=\"987.1460674157303\" y=\"210.0\" width=\"1.3258426966292518\" height=\"15.0\" fill=\"rgb(26,162,255)\" rx=\"2\" ry=\"2\" data-shortinfo=\"finalizer in base.jl:130\" data-info=\"finalizer in ./base.jl:130\"/>\n",
       "<text text-anchor=\"\" x=\"991.1460674157303\" y=\"221.5\" font-size=\"12\" font-family=\"Verdana\" fill=\"rgb(0,0,0)\" ></text>\n",
       "<rect vector-effect=\"non-scaling-stroke\" x=\"1003.0561797752808\" y=\"210.0\" width=\"14.584269662921315\" height=\"15.0\" fill=\"rgb(210,165,23)\" rx=\"2\" ry=\"2\" data-shortinfo=\"_writejson in JSON.jl:191\" data-info=\"_writejson in /home/rdeits/.julia/v0.5/JSON/src/JSON.jl:191\"/>\n",
       "<text text-anchor=\"\" x=\"1007.0561797752808\" y=\"221.5\" font-size=\"12\" font-family=\"Verdana\" fill=\"rgb(0,0,0)\" ></text>\n",
       "<rect vector-effect=\"non-scaling-stroke\" x=\"1017.6404494382022\" y=\"210.0\" width=\"1.3258426966292518\" height=\"15.0\" fill=\"rgb(0,222,230)\" rx=\"2\" ry=\"2\" data-shortinfo=\"print in io.jl:70; _writejson in JSON.jl:188\" data-info=\"print in ./strings/io.jl:70; _writejson in /home/rdeits/.julia/v0.5/JSON/src/JSON.jl:188\"/>\n",
       "<text text-anchor=\"\" x=\"1021.6404494382022\" y=\"221.5\" font-size=\"12\" font-family=\"Verdana\" fill=\"rgb(0,0,0)\" ></text>\n",
       "<rect vector-effect=\"non-scaling-stroke\" x=\"1018.9662921348314\" y=\"210.0\" width=\"1.3258426966292518\" height=\"15.0\" fill=\"rgb(232,112,221)\" rx=\"2\" ry=\"2\" data-shortinfo=\"print in io.jl:70; _writejson in JSON.jl:190\" data-info=\"print in ./strings/io.jl:70; _writejson in /home/rdeits/.julia/v0.5/JSON/src/JSON.jl:190\"/>\n",
       "<text text-anchor=\"\" x=\"1022.9662921348314\" y=\"221.5\" font-size=\"12\" font-family=\"Verdana\" fill=\"rgb(0,0,0)\" ></text>\n",
       "<rect vector-effect=\"non-scaling-stroke\" x=\"1020.2921348314607\" y=\"210.0\" width=\"6.629213483146145\" height=\"15.0\" fill=\"rgb(50,180,78)\" rx=\"2\" ry=\"2\" data-shortinfo=\"_writejson in JSON.jl:149; _writejson in JSON.jl:189\" data-info=\"_writejson in /home/rdeits/.julia/v0.5/JSON/src/JSON.jl:149; _writejson in /home/rdeits/.julia/v0.5/JSON/src/JSON.jl:189\"/>\n",
       "<text text-anchor=\"\" x=\"1024.2921348314608\" y=\"221.5\" font-size=\"12\" font-family=\"Verdana\" fill=\"rgb(0,0,0)\" ></text>\n",
       "<rect vector-effect=\"non-scaling-stroke\" x=\"1026.9213483146068\" y=\"210.0\" width=\"1.3258426966290244\" height=\"15.0\" fill=\"rgb(26,162,255)\" rx=\"2\" ry=\"2\" data-shortinfo=\"_writejson in JSON.jl:186\" data-info=\"_writejson in /home/rdeits/.julia/v0.5/JSON/src/JSON.jl:186\"/>\n",
       "<text text-anchor=\"\" x=\"1030.9213483146068\" y=\"221.5\" font-size=\"12\" font-family=\"Verdana\" fill=\"rgb(0,0,0)\" ></text>\n",
       "<rect vector-effect=\"non-scaling-stroke\" x=\"1028.2471910112358\" y=\"210.0\" width=\"127.28089887640454\" height=\"15.0\" fill=\"rgb(210,165,23)\" rx=\"2\" ry=\"2\" data-shortinfo=\"_writejson in JSON.jl:191\" data-info=\"_writejson in /home/rdeits/.julia/v0.5/JSON/src/JSON.jl:191\"/>\n",
       "<text text-anchor=\"\" x=\"1032.2471910112358\" y=\"221.5\" font-size=\"12\" font-family=\"Verdana\" fill=\"rgb(0,0,0)\" ></text>\n",
       "<rect vector-effect=\"non-scaling-stroke\" x=\"33.865168539325836\" y=\"195.0\" width=\"1.3258426966292234\" height=\"15.0\" fill=\"rgb(255,164,156)\" rx=\"2\" ry=\"2\" data-shortinfo=\"show in show.jl:234\" data-info=\"show in ./show.jl:234\"/>\n",
       "<text text-anchor=\"\" x=\"37.865168539325836\" y=\"206.5\" font-size=\"12\" font-family=\"Verdana\" fill=\"rgb(0,0,0)\" ></text>\n",
       "<rect vector-effect=\"non-scaling-stroke\" x=\"36.51685393258427\" y=\"195.0\" width=\"5.303370786516851\" height=\"15.0\" fill=\"rgb(158,158,158)\" rx=\"2\" ry=\"2\" data-shortinfo=\"write in io.jl:175\" data-info=\"write in ./io.jl:175\"/>\n",
       "<text text-anchor=\"\" x=\"40.51685393258427\" y=\"206.5\" font-size=\"12\" font-family=\"Verdana\" fill=\"rgb(0,0,0)\" ></text>\n",
       "<rect vector-effect=\"non-scaling-stroke\" x=\"324.2247191011236\" y=\"195.0\" width=\"2.65168539325839\" height=\"15.0\" fill=\"rgb(205,185,255)\" rx=\"2\" ry=\"2\" data-shortinfo=\"Type in boot.jl:310\" data-info=\"Type in ./boot.jl:310\"/>\n",
       "<text text-anchor=\"\" x=\"328.2247191011236\" y=\"206.5\" font-size=\"12\" font-family=\"Verdana\" fill=\"rgb(0,0,0)\" ></text>\n",
       "<rect vector-effect=\"non-scaling-stroke\" x=\"332.17977528089887\" y=\"195.0\" width=\"2.65168539325839\" height=\"15.0\" fill=\"rgb(255,141,62)\" rx=\"2\" ry=\"2\" data-shortinfo=\"#83 in &amp;lt;missing&amp;gt;:0\" data-info=\"#83 in ./&amp;lt;missing&amp;gt;:0\"/>\n",
       "<text text-anchor=\"\" x=\"336.17977528089887\" y=\"206.5\" font-size=\"12\" font-family=\"Verdana\" fill=\"rgb(0,0,0)\" ></text>\n",
       "<rect vector-effect=\"non-scaling-stroke\" x=\"334.83146067415726\" y=\"195.0\" width=\"6.6292134831460885\" height=\"15.0\" fill=\"rgb(255,141,62)\" rx=\"2\" ry=\"2\" data-shortinfo=\"#83 in &amp;lt;missing&amp;gt;:0\" data-info=\"#83 in ./&amp;lt;missing&amp;gt;:0\"/>\n",
       "<text text-anchor=\"\" x=\"338.83146067415726\" y=\"206.5\" font-size=\"12\" font-family=\"Verdana\" fill=\"rgb(0,0,0)\" ></text>\n",
       "<rect vector-effect=\"non-scaling-stroke\" x=\"341.46067415730334\" y=\"195.0\" width=\"1.325842696629195\" height=\"15.0\" fill=\"rgb(255,141,62)\" rx=\"2\" ry=\"2\" data-shortinfo=\"#83 in &amp;lt;missing&amp;gt;:0\" data-info=\"#83 in ./&amp;lt;missing&amp;gt;:0\"/>\n",
       "<text text-anchor=\"\" x=\"345.46067415730334\" y=\"206.5\" font-size=\"12\" font-family=\"Verdana\" fill=\"rgb(0,0,0)\" ></text>\n",
       "<rect vector-effect=\"non-scaling-stroke\" x=\"342.78651685393254\" y=\"195.0\" width=\"1.3258426966292518\" height=\"15.0\" fill=\"rgb(255,141,62)\" rx=\"2\" ry=\"2\" data-shortinfo=\"#83 in &amp;lt;missing&amp;gt;:0\" data-info=\"#83 in ./&amp;lt;missing&amp;gt;:0\"/>\n",
       "<text text-anchor=\"\" x=\"346.78651685393254\" y=\"206.5\" font-size=\"12\" font-family=\"Verdana\" fill=\"rgb(0,0,0)\" ></text>\n",
       "<rect vector-effect=\"non-scaling-stroke\" x=\"346.7640449438202\" y=\"195.0\" width=\"3.9775280898876417\" height=\"15.0\" fill=\"rgb(180,211,70)\" rx=\"2\" ry=\"2\" data-shortinfo=\"_array_for in array.jl:295\" data-info=\"_array_for in ./array.jl:295\"/>\n",
       "<text text-anchor=\"\" x=\"350.7640449438202\" y=\"206.5\" font-size=\"12\" font-family=\"Verdana\" fill=\"rgb(0,0,0)\" ></text>\n",
       "<rect vector-effect=\"non-scaling-stroke\" x=\"397.14606741573033\" y=\"195.0\" width=\"2.65168539325839\" height=\"15.0\" fill=\"rgb(255,164,156)\" rx=\"2\" ry=\"2\" data-shortinfo=\"show in show.jl:234\" data-info=\"show in ./show.jl:234\"/>\n",
       "<text text-anchor=\"\" x=\"401.14606741573033\" y=\"206.5\" font-size=\"12\" font-family=\"Verdana\" fill=\"rgb(0,0,0)\" ></text>\n",
       "<rect vector-effect=\"non-scaling-stroke\" x=\"399.7977528089887\" y=\"195.0\" width=\"2.6516853932584468\" height=\"15.0\" fill=\"rgb(158,158,158)\" rx=\"2\" ry=\"2\" data-shortinfo=\"write in io.jl:175\" data-info=\"write in ./io.jl:175\"/>\n",
       "<text text-anchor=\"\" x=\"403.7977528089887\" y=\"206.5\" font-size=\"12\" font-family=\"Verdana\" fill=\"rgb(0,0,0)\" ></text>\n",
       "<rect vector-effect=\"non-scaling-stroke\" x=\"418.35955056179773\" y=\"195.0\" width=\"1.325842696629195\" height=\"15.0\" fill=\"rgb(205,185,255)\" rx=\"2\" ry=\"2\" data-shortinfo=\"ht_keyindex in dict.jl:533\" data-info=\"ht_keyindex in ./dict.jl:533\"/>\n",
       "<text text-anchor=\"\" x=\"422.35955056179773\" y=\"206.5\" font-size=\"12\" font-family=\"Verdana\" fill=\"rgb(0,0,0)\" ></text>\n",
       "<rect vector-effect=\"non-scaling-stroke\" x=\"419.6853932584269\" y=\"195.0\" width=\"1.3258426966292518\" height=\"15.0\" fill=\"rgb(255,141,62)\" rx=\"2\" ry=\"2\" data-shortinfo=\"ht_keyindex in dict.jl:540\" data-info=\"ht_keyindex in ./dict.jl:540\"/>\n",
       "<text text-anchor=\"\" x=\"423.6853932584269\" y=\"206.5\" font-size=\"12\" font-family=\"Verdana\" fill=\"rgb(0,0,0)\" ></text>\n",
       "<rect vector-effect=\"non-scaling-stroke\" x=\"421.0112359550562\" y=\"195.0\" width=\"1.325842696629195\" height=\"15.0\" fill=\"rgb(180,211,70)\" rx=\"2\" ry=\"2\" data-shortinfo=\"ht_keyindex in dict.jl:543\" data-info=\"ht_keyindex in ./dict.jl:543\"/>\n",
       "<text text-anchor=\"\" x=\"425.0112359550562\" y=\"206.5\" font-size=\"12\" font-family=\"Verdana\" fill=\"rgb(0,0,0)\" ></text>\n",
       "<rect vector-effect=\"non-scaling-stroke\" x=\"878.4269662921348\" y=\"195.0\" width=\"100.76404494382018\" height=\"15.0\" fill=\"rgb(255,164,156)\" rx=\"2\" ry=\"2\" data-shortinfo=\"pysequence_query in conversions.jl:722\" data-info=\"pysequence_query in /home/rdeits/.julia/v0.5/PyCall/src/conversions.jl:722\"/>\n",
       "<text text-anchor=\"\" x=\"882.4269662921348\" y=\"206.5\" font-size=\"12\" font-family=\"Verdana\" fill=\"rgb(0,0,0)\" ></text>\n",
       "<rect vector-effect=\"non-scaling-stroke\" x=\"979.191011235955\" y=\"195.0\" width=\"1.3258426966292518\" height=\"15.0\" fill=\"rgb(158,158,158)\" rx=\"2\" ry=\"2\" data-shortinfo=\"pyisinstance in PyCall.jl:133; pystring_query in conversions.jl:693\" data-info=\"pyisinstance in /home/rdeits/.julia/v0.5/PyCall/src/PyCall.jl:133; pystring_query in /home/rdeits/.julia/v0.5/PyCall/src/conversions.jl:693\"/>\n",
       "<text text-anchor=\"\" x=\"983.191011235955\" y=\"206.5\" font-size=\"12\" font-family=\"Verdana\" fill=\"rgb(0,0,0)\" ></text>\n",
       "<rect vector-effect=\"non-scaling-stroke\" x=\"980.5168539325842\" y=\"195.0\" width=\"1.3258426966291381\" height=\"15.0\" fill=\"rgb(205,185,255)\" rx=\"2\" ry=\"2\" data-shortinfo=\"!= in operators.jl:50\" data-info=\"!= in ./operators.jl:50\"/>\n",
       "<text text-anchor=\"\" x=\"984.5168539325842\" y=\"206.5\" font-size=\"12\" font-family=\"Verdana\" fill=\"rgb(0,0,0)\" ></text>\n",
       "<rect vector-effect=\"non-scaling-stroke\" x=\"1003.0561797752808\" y=\"195.0\" width=\"9.280898876404535\" height=\"15.0\" fill=\"rgb(255,141,62)\" rx=\"2\" ry=\"2\" data-shortinfo=\"_writejson in JSON.jl:191\" data-info=\"_writejson in /home/rdeits/.julia/v0.5/JSON/src/JSON.jl:191\"/>\n",
       "<text text-anchor=\"\" x=\"1007.0561797752808\" y=\"206.5\" font-size=\"12\" font-family=\"Verdana\" fill=\"rgb(0,0,0)\" ></text>\n",
       "<rect vector-effect=\"non-scaling-stroke\" x=\"1012.3370786516854\" y=\"195.0\" width=\"3.9775280898876417\" height=\"15.0\" fill=\"rgb(180,211,70)\" rx=\"2\" ry=\"2\" data-shortinfo=\"_writejson in JSON.jl:204\" data-info=\"_writejson in /home/rdeits/.julia/v0.5/JSON/src/JSON.jl:204\"/>\n",
       "<text text-anchor=\"\" x=\"1016.3370786516854\" y=\"206.5\" font-size=\"12\" font-family=\"Verdana\" fill=\"rgb(0,0,0)\" ></text>\n",
       "<rect vector-effect=\"non-scaling-stroke\" x=\"1016.314606741573\" y=\"195.0\" width=\"1.3258426966291381\" height=\"15.0\" fill=\"rgb(255,164,156)\" rx=\"2\" ry=\"2\" data-shortinfo=\"_writejson in JSON.jl:210\" data-info=\"_writejson in /home/rdeits/.julia/v0.5/JSON/src/JSON.jl:210\"/>\n",
       "<text text-anchor=\"\" x=\"1020.314606741573\" y=\"206.5\" font-size=\"12\" font-family=\"Verdana\" fill=\"rgb(0,0,0)\" ></text>\n",
       "<rect vector-effect=\"non-scaling-stroke\" x=\"1017.6404494382022\" y=\"195.0\" width=\"2.6516853932585036\" height=\"15.0\" fill=\"rgb(158,158,158)\" rx=\"2\" ry=\"2\" data-shortinfo=\"write in io.jl:175\" data-info=\"write in ./io.jl:175\"/>\n",
       "<text text-anchor=\"\" x=\"1021.6404494382022\" y=\"206.5\" font-size=\"12\" font-family=\"Verdana\" fill=\"rgb(0,0,0)\" ></text>\n",
       "<rect vector-effect=\"non-scaling-stroke\" x=\"1020.2921348314607\" y=\"195.0\" width=\"1.3258426966291381\" height=\"15.0\" fill=\"rgb(205,185,255)\" rx=\"2\" ry=\"2\" data-shortinfo=\"print_escaped in JSON.jl:0\" data-info=\"print_escaped in /home/rdeits/.julia/v0.5/JSON/src/JSON.jl:0\"/>\n",
       "<text text-anchor=\"\" x=\"1024.2921348314608\" y=\"206.5\" font-size=\"12\" font-family=\"Verdana\" fill=\"rgb(0,0,0)\" ></text>\n",
       "<rect vector-effect=\"non-scaling-stroke\" x=\"1021.6179775280898\" y=\"195.0\" width=\"1.3258426966292518\" height=\"15.0\" fill=\"rgb(255,141,62)\" rx=\"2\" ry=\"2\" data-shortinfo=\"print_escaped in JSON.jl:143\" data-info=\"print_escaped in /home/rdeits/.julia/v0.5/JSON/src/JSON.jl:143\"/>\n",
       "<text text-anchor=\"\" x=\"1025.6179775280898\" y=\"206.5\" font-size=\"12\" font-family=\"Verdana\" fill=\"rgb(0,0,0)\" ></text>\n",
       "<rect vector-effect=\"non-scaling-stroke\" x=\"1022.943820224719\" y=\"195.0\" width=\"1.3258426966292518\" height=\"15.0\" fill=\"rgb(255,141,62)\" rx=\"2\" ry=\"2\" data-shortinfo=\"print_escaped in JSON.jl:143\" data-info=\"print_escaped in /home/rdeits/.julia/v0.5/JSON/src/JSON.jl:143\"/>\n",
       "<text text-anchor=\"\" x=\"1026.943820224719\" y=\"206.5\" font-size=\"12\" font-family=\"Verdana\" fill=\"rgb(0,0,0)\" ></text>\n",
       "<rect vector-effect=\"non-scaling-stroke\" x=\"1024.2696629213483\" y=\"195.0\" width=\"1.3258426966290244\" height=\"15.0\" fill=\"rgb(255,141,62)\" rx=\"2\" ry=\"2\" data-shortinfo=\"print_escaped in JSON.jl:143\" data-info=\"print_escaped in /home/rdeits/.julia/v0.5/JSON/src/JSON.jl:143\"/>\n",
       "<text text-anchor=\"\" x=\"1028.2696629213483\" y=\"206.5\" font-size=\"12\" font-family=\"Verdana\" fill=\"rgb(0,0,0)\" ></text>\n",
       "<rect vector-effect=\"non-scaling-stroke\" x=\"1025.5955056179773\" y=\"195.0\" width=\"1.3258426966294792\" height=\"15.0\" fill=\"rgb(255,141,62)\" rx=\"2\" ry=\"2\" data-shortinfo=\"print_escaped in JSON.jl:143\" data-info=\"print_escaped in /home/rdeits/.julia/v0.5/JSON/src/JSON.jl:143\"/>\n",
       "<text text-anchor=\"\" x=\"1029.5955056179773\" y=\"206.5\" font-size=\"12\" font-family=\"Verdana\" fill=\"rgb(0,0,0)\" ></text>\n",
       "<rect vector-effect=\"non-scaling-stroke\" x=\"1030.8988764044943\" y=\"195.0\" width=\"1.3258426966290244\" height=\"15.0\" fill=\"rgb(180,211,70)\" rx=\"2\" ry=\"2\" data-shortinfo=\"print in char.jl:45; _writejson in JSON.jl:148; _writejson in JSON.jl:189\" data-info=\"print in ./char.jl:45; _writejson in /home/rdeits/.julia/v0.5/JSON/src/JSON.jl:148; _writejson in /home/rdeits/.julia/v0.5/JSON/src/JSON.jl:189\"/>\n",
       "<text text-anchor=\"\" x=\"1034.8988764044943\" y=\"206.5\" font-size=\"12\" font-family=\"Verdana\" fill=\"rgb(0,0,0)\" ></text>\n",
       "<rect vector-effect=\"non-scaling-stroke\" x=\"1032.2247191011234\" y=\"195.0\" width=\"1.3258426966294792\" height=\"15.0\" fill=\"rgb(255,164,156)\" rx=\"2\" ry=\"2\" data-shortinfo=\"print in io.jl:70; _writejson in JSON.jl:190\" data-info=\"print in ./strings/io.jl:70; _writejson in /home/rdeits/.julia/v0.5/JSON/src/JSON.jl:190\"/>\n",
       "<text text-anchor=\"\" x=\"1036.2247191011234\" y=\"206.5\" font-size=\"12\" font-family=\"Verdana\" fill=\"rgb(0,0,0)\" ></text>\n",
       "<rect vector-effect=\"non-scaling-stroke\" x=\"1033.5505617977528\" y=\"195.0\" width=\"13.258426966292063\" height=\"15.0\" fill=\"rgb(158,158,158)\" rx=\"2\" ry=\"2\" data-shortinfo=\"_writejson in JSON.jl:149; _writejson in JSON.jl:189\" data-info=\"_writejson in /home/rdeits/.julia/v0.5/JSON/src/JSON.jl:149; _writejson in /home/rdeits/.julia/v0.5/JSON/src/JSON.jl:189\"/>\n",
       "<text text-anchor=\"\" x=\"1037.5505617977528\" y=\"206.5\" font-size=\"12\" font-family=\"Verdana\" fill=\"rgb(0,0,0)\" ></text>\n",
       "<rect vector-effect=\"non-scaling-stroke\" x=\"1046.808988764045\" y=\"195.0\" width=\"1.3258426966292518\" height=\"15.0\" fill=\"rgb(205,185,255)\" rx=\"2\" ry=\"2\" data-shortinfo=\"_writejson in JSON.jl:186\" data-info=\"_writejson in /home/rdeits/.julia/v0.5/JSON/src/JSON.jl:186\"/>\n",
       "<text text-anchor=\"\" x=\"1050.808988764045\" y=\"206.5\" font-size=\"12\" font-family=\"Verdana\" fill=\"rgb(0,0,0)\" ></text>\n",
       "<rect vector-effect=\"non-scaling-stroke\" x=\"1048.1348314606741\" y=\"195.0\" width=\"1.3258426966292518\" height=\"15.0\" fill=\"rgb(255,141,62)\" rx=\"2\" ry=\"2\" data-shortinfo=\"_writejson in JSON.jl:189\" data-info=\"_writejson in /home/rdeits/.julia/v0.5/JSON/src/JSON.jl:189\"/>\n",
       "<text text-anchor=\"\" x=\"1052.1348314606741\" y=\"206.5\" font-size=\"12\" font-family=\"Verdana\" fill=\"rgb(0,0,0)\" ></text>\n",
       "<rect vector-effect=\"non-scaling-stroke\" x=\"1049.4606741573034\" y=\"195.0\" width=\"63.64044943820204\" height=\"15.0\" fill=\"rgb(180,211,70)\" rx=\"2\" ry=\"2\" data-shortinfo=\"_writejson in JSON.jl:191\" data-info=\"_writejson in /home/rdeits/.julia/v0.5/JSON/src/JSON.jl:191\"/>\n",
       "<text text-anchor=\"\" x=\"1053.4606741573034\" y=\"206.5\" font-size=\"12\" font-family=\"Verdana\" fill=\"rgb(0,0,0)\" ></text>\n",
       "<rect vector-effect=\"non-scaling-stroke\" x=\"1113.1011235955054\" y=\"195.0\" width=\"1.3258426966292518\" height=\"15.0\" fill=\"rgb(255,164,156)\" rx=\"2\" ry=\"2\" data-shortinfo=\"print in io.jl:70; _writejson in JSON.jl:208\" data-info=\"print in ./strings/io.jl:70; _writejson in /home/rdeits/.julia/v0.5/JSON/src/JSON.jl:208\"/>\n",
       "<text text-anchor=\"\" x=\"1117.1011235955054\" y=\"206.5\" font-size=\"12\" font-family=\"Verdana\" fill=\"rgb(0,0,0)\" ></text>\n",
       "<rect vector-effect=\"non-scaling-stroke\" x=\"1114.4269662921347\" y=\"195.0\" width=\"1.3258426966292518\" height=\"15.0\" fill=\"rgb(158,158,158)\" rx=\"2\" ry=\"2\" data-shortinfo=\"_writejson in JSON.jl:201\" data-info=\"_writejson in /home/rdeits/.julia/v0.5/JSON/src/JSON.jl:201\"/>\n",
       "<text text-anchor=\"\" x=\"1118.4269662921347\" y=\"206.5\" font-size=\"12\" font-family=\"Verdana\" fill=\"rgb(0,0,0)\" ></text>\n",
       "<rect vector-effect=\"non-scaling-stroke\" x=\"1115.752808988764\" y=\"195.0\" width=\"17.23595505617982\" height=\"15.0\" fill=\"rgb(205,185,255)\" rx=\"2\" ry=\"2\" data-shortinfo=\"_writejson in JSON.jl:204\" data-info=\"_writejson in /home/rdeits/.julia/v0.5/JSON/src/JSON.jl:204\"/>\n",
       "<text text-anchor=\"\" x=\"1119.752808988764\" y=\"206.5\" font-size=\"12\" font-family=\"Verdana\" fill=\"rgb(0,0,0)\" ></text>\n",
       "<rect vector-effect=\"non-scaling-stroke\" x=\"1132.9887640449438\" y=\"195.0\" width=\"22.5393258426966\" height=\"15.0\" fill=\"rgb(255,141,62)\" rx=\"2\" ry=\"2\" data-shortinfo=\"_writejson in JSON.jl:210\" data-info=\"_writejson in /home/rdeits/.julia/v0.5/JSON/src/JSON.jl:210\"/>\n",
       "<text text-anchor=\"\" x=\"1136.9887640449438\" y=\"206.5\" font-size=\"12\" font-family=\"Verdana\" fill=\"rgb(0,0,0)\" ></text>\n",
       "<rect vector-effect=\"non-scaling-stroke\" x=\"33.865168539325836\" y=\"180.0\" width=\"1.3258426966292234\" height=\"15.0\" fill=\"rgb(232,112,221)\" rx=\"2\" ry=\"2\" data-shortinfo=\"write in io.jl:175\" data-info=\"write in ./io.jl:175\"/>\n",
       "<text text-anchor=\"\" x=\"37.865168539325836\" y=\"191.5\" font-size=\"12\" font-family=\"Verdana\" fill=\"rgb(0,0,0)\" ></text>\n",
       "<rect vector-effect=\"non-scaling-stroke\" x=\"36.51685393258427\" y=\"180.0\" width=\"1.3258426966292092\" height=\"15.0\" fill=\"rgb(50,180,78)\" rx=\"2\" ry=\"2\" data-shortinfo=\"ensureroom in iobuffer.jl:194; unsafe_write in iobuffer.jl:275\" data-info=\"ensureroom in ./iobuffer.jl:194; unsafe_write in ./iobuffer.jl:275\"/>\n",
       "<text text-anchor=\"\" x=\"40.51685393258427\" y=\"191.5\" font-size=\"12\" font-family=\"Verdana\" fill=\"rgb(0,0,0)\" ></text>\n",
       "<rect vector-effect=\"non-scaling-stroke\" x=\"37.84269662921348\" y=\"180.0\" width=\"1.3258426966292163\" height=\"15.0\" fill=\"rgb(26,162,255)\" rx=\"2\" ry=\"2\" data-shortinfo=\"unsafe_write in iobuffer.jl:277\" data-info=\"unsafe_write in ./iobuffer.jl:277\"/>\n",
       "<text text-anchor=\"\" x=\"41.84269662921348\" y=\"191.5\" font-size=\"12\" font-family=\"Verdana\" fill=\"rgb(0,0,0)\" ></text>\n",
       "<rect vector-effect=\"non-scaling-stroke\" x=\"39.168539325842694\" y=\"180.0\" width=\"1.3258426966292163\" height=\"15.0\" fill=\"rgb(210,165,23)\" rx=\"2\" ry=\"2\" data-shortinfo=\"unsafe_write in iobuffer.jl:286\" data-info=\"unsafe_write in ./iobuffer.jl:286\"/>\n",
       "<text text-anchor=\"\" x=\"43.168539325842694\" y=\"191.5\" font-size=\"12\" font-family=\"Verdana\" fill=\"rgb(0,0,0)\" ></text>\n",
       "<rect vector-effect=\"non-scaling-stroke\" x=\"40.49438202247191\" y=\"180.0\" width=\"1.3258426966292092\" height=\"15.0\" fill=\"rgb(0,222,230)\" rx=\"2\" ry=\"2\" data-shortinfo=\"unsafe_write in iobuffer.jl:288\" data-info=\"unsafe_write in ./iobuffer.jl:288\"/>\n",
       "<text text-anchor=\"\" x=\"44.49438202247191\" y=\"191.5\" font-size=\"12\" font-family=\"Verdana\" fill=\"rgb(0,0,0)\" ></text>\n",
       "<rect vector-effect=\"non-scaling-stroke\" x=\"397.14606741573033\" y=\"180.0\" width=\"1.325842696629195\" height=\"15.0\" fill=\"rgb(232,112,221)\" rx=\"2\" ry=\"2\" data-shortinfo=\"dec in intfuncs.jl:292\" data-info=\"dec in ./intfuncs.jl:292\"/>\n",
       "<text text-anchor=\"\" x=\"401.14606741573033\" y=\"191.5\" font-size=\"12\" font-family=\"Verdana\" fill=\"rgb(0,0,0)\" ></text>\n",
       "<rect vector-effect=\"non-scaling-stroke\" x=\"398.4719101123595\" y=\"180.0\" width=\"1.325842696629195\" height=\"15.0\" fill=\"rgb(50,180,78)\" rx=\"2\" ry=\"2\" data-shortinfo=\"dec in intfuncs.jl:294\" data-info=\"dec in ./intfuncs.jl:294\"/>\n",
       "<text text-anchor=\"\" x=\"402.4719101123595\" y=\"191.5\" font-size=\"12\" font-family=\"Verdana\" fill=\"rgb(0,0,0)\" ></text>\n",
       "<rect vector-effect=\"non-scaling-stroke\" x=\"399.7977528089887\" y=\"180.0\" width=\"1.3258426966292518\" height=\"15.0\" fill=\"rgb(26,162,255)\" rx=\"2\" ry=\"2\" data-shortinfo=\"ensureroom in iobuffer.jl:193; unsafe_write in iobuffer.jl:275\" data-info=\"ensureroom in ./iobuffer.jl:193; unsafe_write in ./iobuffer.jl:275\"/>\n",
       "<text text-anchor=\"\" x=\"403.7977528089887\" y=\"191.5\" font-size=\"12\" font-family=\"Verdana\" fill=\"rgb(0,0,0)\" ></text>\n",
       "<rect vector-effect=\"non-scaling-stroke\" x=\"401.12359550561797\" y=\"180.0\" width=\"1.325842696629195\" height=\"15.0\" fill=\"rgb(210,165,23)\" rx=\"2\" ry=\"2\" data-shortinfo=\"ensureroom in iobuffer.jl:194; unsafe_write in iobuffer.jl:275\" data-info=\"ensureroom in ./iobuffer.jl:194; unsafe_write in ./iobuffer.jl:275\"/>\n",
       "<text text-anchor=\"\" x=\"405.12359550561797\" y=\"191.5\" font-size=\"12\" font-family=\"Verdana\" fill=\"rgb(0,0,0)\" ></text>\n",
       "<rect vector-effect=\"non-scaling-stroke\" x=\"878.4269662921348\" y=\"180.0\" width=\"3.9775280898876417\" height=\"15.0\" fill=\"rgb(0,222,230)\" rx=\"2\" ry=\"2\" data-shortinfo=\"getindex in PyCall.jl:258\" data-info=\"getindex in /home/rdeits/.julia/v0.5/PyCall/src/PyCall.jl:258\"/>\n",
       "<text text-anchor=\"\" x=\"882.4269662921348\" y=\"191.5\" font-size=\"12\" font-family=\"Verdana\" fill=\"rgb(0,0,0)\" ></text>\n",
       "<rect vector-effect=\"non-scaling-stroke\" x=\"882.4044943820224\" y=\"180.0\" width=\"96.78651685393254\" height=\"15.0\" fill=\"rgb(232,112,221)\" rx=\"2\" ry=\"2\" data-shortinfo=\"getindex in PyCall.jl:261\" data-info=\"getindex in /home/rdeits/.julia/v0.5/PyCall/src/PyCall.jl:261\"/>\n",
       "<text text-anchor=\"\" x=\"886.4044943820224\" y=\"191.5\" font-size=\"12\" font-family=\"Verdana\" fill=\"rgb(0,0,0)\" ></text>\n",
       "<rect vector-effect=\"non-scaling-stroke\" x=\"1003.0561797752808\" y=\"180.0\" width=\"2.65168539325839\" height=\"15.0\" fill=\"rgb(50,180,78)\" rx=\"2\" ry=\"2\" data-shortinfo=\"print in io.jl:70; _writejson in JSON.jl:208\" data-info=\"print in ./strings/io.jl:70; _writejson in /home/rdeits/.julia/v0.5/JSON/src/JSON.jl:208\"/>\n",
       "<text text-anchor=\"\" x=\"1007.0561797752808\" y=\"191.5\" font-size=\"12\" font-family=\"Verdana\" fill=\"rgb(0,0,0)\" ></text>\n",
       "<rect vector-effect=\"non-scaling-stroke\" x=\"1005.7078651685392\" y=\"180.0\" width=\"2.6516853932585036\" height=\"15.0\" fill=\"rgb(26,162,255)\" rx=\"2\" ry=\"2\" data-shortinfo=\"_writejson in JSON.jl:204\" data-info=\"_writejson in /home/rdeits/.julia/v0.5/JSON/src/JSON.jl:204\"/>\n",
       "<text text-anchor=\"\" x=\"1009.7078651685392\" y=\"191.5\" font-size=\"12\" font-family=\"Verdana\" fill=\"rgb(0,0,0)\" ></text>\n",
       "<rect vector-effect=\"non-scaling-stroke\" x=\"1008.3595505617977\" y=\"180.0\" width=\"3.9775280898876417\" height=\"15.0\" fill=\"rgb(210,165,23)\" rx=\"2\" ry=\"2\" data-shortinfo=\"_writejson in JSON.jl:210\" data-info=\"_writejson in /home/rdeits/.julia/v0.5/JSON/src/JSON.jl:210\"/>\n",
       "<text text-anchor=\"\" x=\"1012.3595505617977\" y=\"191.5\" font-size=\"12\" font-family=\"Verdana\" fill=\"rgb(0,0,0)\" ></text>\n",
       "<rect vector-effect=\"non-scaling-stroke\" x=\"1012.3370786516854\" y=\"180.0\" width=\"1.3258426966291381\" height=\"15.0\" fill=\"rgb(0,222,230)\" rx=\"2\" ry=\"2\" data-shortinfo=\"print in char.jl:45; _writejson in JSON.jl:150; _writejson in JSON.jl:224\" data-info=\"print in ./char.jl:45; _writejson in /home/rdeits/.julia/v0.5/JSON/src/JSON.jl:150; _writejson in /home/rdeits/.julia/v0.5/JSON/src/JSON.jl:224\"/>\n",
       "<text text-anchor=\"\" x=\"1016.3370786516854\" y=\"191.5\" font-size=\"12\" font-family=\"Verdana\" fill=\"rgb(0,0,0)\" ></text>\n",
       "<rect vector-effect=\"non-scaling-stroke\" x=\"1013.6629213483145\" y=\"180.0\" width=\"1.3258426966292518\" height=\"15.0\" fill=\"rgb(232,112,221)\" rx=\"2\" ry=\"2\" data-shortinfo=\"_writejson in JSON.jl:218\" data-info=\"_writejson in /home/rdeits/.julia/v0.5/JSON/src/JSON.jl:218\"/>\n",
       "<text text-anchor=\"\" x=\"1017.6629213483145\" y=\"191.5\" font-size=\"12\" font-family=\"Verdana\" fill=\"rgb(0,0,0)\" ></text>\n",
       "<rect vector-effect=\"non-scaling-stroke\" x=\"1014.9887640449438\" y=\"180.0\" width=\"1.3258426966292518\" height=\"15.0\" fill=\"rgb(232,112,221)\" rx=\"2\" ry=\"2\" data-shortinfo=\"_writejson in JSON.jl:218\" data-info=\"_writejson in /home/rdeits/.julia/v0.5/JSON/src/JSON.jl:218\"/>\n",
       "<text text-anchor=\"\" x=\"1018.9887640449438\" y=\"191.5\" font-size=\"12\" font-family=\"Verdana\" fill=\"rgb(0,0,0)\" ></text>\n",
       "<rect vector-effect=\"non-scaling-stroke\" x=\"1016.314606741573\" y=\"180.0\" width=\"1.3258426966291381\" height=\"15.0\" fill=\"rgb(50,180,78)\" rx=\"2\" ry=\"2\" data-shortinfo=\"_writejson in JSON.jl:149; _writejson in JSON.jl:224\" data-info=\"_writejson in /home/rdeits/.julia/v0.5/JSON/src/JSON.jl:149; _writejson in /home/rdeits/.julia/v0.5/JSON/src/JSON.jl:224\"/>\n",
       "<text text-anchor=\"\" x=\"1020.314606741573\" y=\"191.5\" font-size=\"12\" font-family=\"Verdana\" fill=\"rgb(0,0,0)\" ></text>\n",
       "<rect vector-effect=\"non-scaling-stroke\" x=\"1017.6404494382022\" y=\"180.0\" width=\"1.3258426966292518\" height=\"15.0\" fill=\"rgb(26,162,255)\" rx=\"2\" ry=\"2\" data-shortinfo=\"unsafe_write in iobuffer.jl:277\" data-info=\"unsafe_write in ./iobuffer.jl:277\"/>\n",
       "<text text-anchor=\"\" x=\"1021.6404494382022\" y=\"191.5\" font-size=\"12\" font-family=\"Verdana\" fill=\"rgb(0,0,0)\" ></text>\n",
       "<rect vector-effect=\"non-scaling-stroke\" x=\"1018.9662921348314\" y=\"180.0\" width=\"1.3258426966292518\" height=\"15.0\" fill=\"rgb(210,165,23)\" rx=\"2\" ry=\"2\" data-shortinfo=\"ensureroom in iobuffer.jl:194; unsafe_write in iobuffer.jl:275\" data-info=\"ensureroom in ./iobuffer.jl:194; unsafe_write in ./iobuffer.jl:275\"/>\n",
       "<text text-anchor=\"\" x=\"1022.9662921348314\" y=\"191.5\" font-size=\"12\" font-family=\"Verdana\" fill=\"rgb(0,0,0)\" ></text>\n",
       "<rect vector-effect=\"non-scaling-stroke\" x=\"1022.943820224719\" y=\"180.0\" width=\"1.3258426966292518\" height=\"15.0\" fill=\"rgb(0,222,230)\" rx=\"2\" ry=\"2\" data-shortinfo=\"write in io.jl:175\" data-info=\"write in ./io.jl:175\"/>\n",
       "<text text-anchor=\"\" x=\"1026.943820224719\" y=\"191.5\" font-size=\"12\" font-family=\"Verdana\" fill=\"rgb(0,0,0)\" ></text>\n",
       "<rect vector-effect=\"non-scaling-stroke\" x=\"1030.8988764044943\" y=\"180.0\" width=\"1.3258426966290244\" height=\"15.0\" fill=\"rgb(232,112,221)\" rx=\"2\" ry=\"2\" data-shortinfo=\"write in io.jl:194\" data-info=\"write in ./io.jl:194\"/>\n",
       "<text text-anchor=\"\" x=\"1034.8988764044943\" y=\"191.5\" font-size=\"12\" font-family=\"Verdana\" fill=\"rgb(0,0,0)\" ></text>\n",
       "<rect vector-effect=\"non-scaling-stroke\" x=\"1032.2247191011234\" y=\"180.0\" width=\"1.3258426966294792\" height=\"15.0\" fill=\"rgb(50,180,78)\" rx=\"2\" ry=\"2\" data-shortinfo=\"write in io.jl:175\" data-info=\"write in ./io.jl:175\"/>\n",
       "<text text-anchor=\"\" x=\"1036.2247191011234\" y=\"191.5\" font-size=\"12\" font-family=\"Verdana\" fill=\"rgb(0,0,0)\" ></text>\n",
       "<rect vector-effect=\"non-scaling-stroke\" x=\"1033.5505617977528\" y=\"180.0\" width=\"1.3258426966290244\" height=\"15.0\" fill=\"rgb(26,162,255)\" rx=\"2\" ry=\"2\" data-shortinfo=\"print_escaped in JSON.jl:142\" data-info=\"print_escaped in /home/rdeits/.julia/v0.5/JSON/src/JSON.jl:142\"/>\n",
       "<text text-anchor=\"\" x=\"1037.5505617977528\" y=\"191.5\" font-size=\"12\" font-family=\"Verdana\" fill=\"rgb(0,0,0)\" ></text>\n",
       "<rect vector-effect=\"non-scaling-stroke\" x=\"1034.8764044943819\" y=\"180.0\" width=\"11.932584269663039\" height=\"15.0\" fill=\"rgb(210,165,23)\" rx=\"2\" ry=\"2\" data-shortinfo=\"print_escaped in JSON.jl:143\" data-info=\"print_escaped in /home/rdeits/.julia/v0.5/JSON/src/JSON.jl:143\"/>\n",
       "<text text-anchor=\"\" x=\"1038.8764044943819\" y=\"191.5\" font-size=\"12\" font-family=\"Verdana\" fill=\"rgb(0,0,0)\" ></text>\n",
       "<rect vector-effect=\"non-scaling-stroke\" x=\"1046.808988764045\" y=\"180.0\" width=\"1.3258426966292518\" height=\"15.0\" fill=\"rgb(0,222,230)\" rx=\"2\" ry=\"2\" data-shortinfo=\"skip_deleted in dict.jl:0\" data-info=\"skip_deleted in ./dict.jl:0\"/>\n",
       "<text text-anchor=\"\" x=\"1050.808988764045\" y=\"191.5\" font-size=\"12\" font-family=\"Verdana\" fill=\"rgb(0,0,0)\" ></text>\n",
       "<rect vector-effect=\"non-scaling-stroke\" x=\"1048.1348314606741\" y=\"180.0\" width=\"1.3258426966292518\" height=\"15.0\" fill=\"rgb(232,112,221)\" rx=\"2\" ry=\"2\" data-shortinfo=\"string in string.jl:168\" data-info=\"string in ./strings/string.jl:168\"/>\n",
       "<text text-anchor=\"\" x=\"1052.1348314606741\" y=\"191.5\" font-size=\"12\" font-family=\"Verdana\" fill=\"rgb(0,0,0)\" ></text>\n",
       "<rect vector-effect=\"non-scaling-stroke\" x=\"1049.4606741573034\" y=\"180.0\" width=\"2.6516853932582762\" height=\"15.0\" fill=\"rgb(50,180,78)\" rx=\"2\" ry=\"2\" data-shortinfo=\"print in io.jl:70; _writejson in JSON.jl:208\" data-info=\"print in ./strings/io.jl:70; _writejson in /home/rdeits/.julia/v0.5/JSON/src/JSON.jl:208\"/>\n",
       "<text text-anchor=\"\" x=\"1053.4606741573034\" y=\"191.5\" font-size=\"12\" font-family=\"Verdana\" fill=\"rgb(0,0,0)\" ></text>\n",
       "<rect vector-effect=\"non-scaling-stroke\" x=\"1052.1123595505617\" y=\"180.0\" width=\"1.3258426966292518\" height=\"15.0\" fill=\"rgb(26,162,255)\" rx=\"2\" ry=\"2\" data-shortinfo=\"print in io.jl:70; _writejson in JSON.jl:202\" data-info=\"print in ./strings/io.jl:70; _writejson in /home/rdeits/.julia/v0.5/JSON/src/JSON.jl:202\"/>\n",
       "<text text-anchor=\"\" x=\"1056.1123595505617\" y=\"191.5\" font-size=\"12\" font-family=\"Verdana\" fill=\"rgb(0,0,0)\" ></text>\n",
       "<rect vector-effect=\"non-scaling-stroke\" x=\"1053.438202247191\" y=\"180.0\" width=\"2.6516853932585036\" height=\"15.0\" fill=\"rgb(210,165,23)\" rx=\"2\" ry=\"2\" data-shortinfo=\"_writejson in JSON.jl:197\" data-info=\"_writejson in /home/rdeits/.julia/v0.5/JSON/src/JSON.jl:197\"/>\n",
       "<text text-anchor=\"\" x=\"1057.438202247191\" y=\"191.5\" font-size=\"12\" font-family=\"Verdana\" fill=\"rgb(0,0,0)\" ></text>\n",
       "<rect vector-effect=\"non-scaling-stroke\" x=\"1056.0898876404494\" y=\"180.0\" width=\"1.3258426966292518\" height=\"15.0\" fill=\"rgb(0,222,230)\" rx=\"2\" ry=\"2\" data-shortinfo=\"_writejson in JSON.jl:201\" data-info=\"_writejson in /home/rdeits/.julia/v0.5/JSON/src/JSON.jl:201\"/>\n",
       "<text text-anchor=\"\" x=\"1060.0898876404494\" y=\"191.5\" font-size=\"12\" font-family=\"Verdana\" fill=\"rgb(0,0,0)\" ></text>\n",
       "<rect vector-effect=\"non-scaling-stroke\" x=\"1057.4157303370787\" y=\"180.0\" width=\"21.213483146067347\" height=\"15.0\" fill=\"rgb(232,112,221)\" rx=\"2\" ry=\"2\" data-shortinfo=\"_writejson in JSON.jl:204\" data-info=\"_writejson in /home/rdeits/.julia/v0.5/JSON/src/JSON.jl:204\"/>\n",
       "<text text-anchor=\"\" x=\"1061.4157303370787\" y=\"191.5\" font-size=\"12\" font-family=\"Verdana\" fill=\"rgb(0,0,0)\" ></text>\n",
       "<rect vector-effect=\"non-scaling-stroke\" x=\"1078.629213483146\" y=\"180.0\" width=\"33.146067415730386\" height=\"15.0\" fill=\"rgb(50,180,78)\" rx=\"2\" ry=\"2\" data-shortinfo=\"_writejson in JSON.jl:210\" data-info=\"_writejson in /home/rdeits/.julia/v0.5/JSON/src/JSON.jl:210\"/>\n",
       "<text text-anchor=\"\" x=\"1082.629213483146\" y=\"191.5\" font-size=\"12\" font-family=\"Verdana\" fill=\"rgb(0,0,0)\" ></text>\n",
       "<rect vector-effect=\"non-scaling-stroke\" x=\"1111.7752808988764\" y=\"180.0\" width=\"1.3258426966290244\" height=\"15.0\" fill=\"rgb(26,162,255)\" rx=\"2\" ry=\"2\" data-shortinfo=\"_writejson in JSON.jl:212\" data-info=\"_writejson in /home/rdeits/.julia/v0.5/JSON/src/JSON.jl:212\"/>\n",
       "<text text-anchor=\"\" x=\"1115.7752808988764\" y=\"191.5\" font-size=\"12\" font-family=\"Verdana\" fill=\"rgb(0,0,0)\" ></text>\n",
       "<rect vector-effect=\"non-scaling-stroke\" x=\"1113.1011235955054\" y=\"180.0\" width=\"1.3258426966292518\" height=\"15.0\" fill=\"rgb(210,165,23)\" rx=\"2\" ry=\"2\" data-shortinfo=\"write in io.jl:175\" data-info=\"write in ./io.jl:175\"/>\n",
       "<text text-anchor=\"\" x=\"1117.1011235955054\" y=\"191.5\" font-size=\"12\" font-family=\"Verdana\" fill=\"rgb(0,0,0)\" ></text>\n",
       "<rect vector-effect=\"non-scaling-stroke\" x=\"1114.4269662921347\" y=\"180.0\" width=\"1.3258426966292518\" height=\"15.0\" fill=\"rgb(0,222,230)\" rx=\"2\" ry=\"2\" data-shortinfo=\"print in io.jl:70; start_object in JSON.jl:120\" data-info=\"print in ./strings/io.jl:70; start_object in /home/rdeits/.julia/v0.5/JSON/src/JSON.jl:120\"/>\n",
       "<text text-anchor=\"\" x=\"1118.4269662921347\" y=\"191.5\" font-size=\"12\" font-family=\"Verdana\" fill=\"rgb(0,0,0)\" ></text>\n",
       "<rect vector-effect=\"non-scaling-stroke\" x=\"1115.752808988764\" y=\"180.0\" width=\"1.3258426966292518\" height=\"15.0\" fill=\"rgb(232,112,221)\" rx=\"2\" ry=\"2\" data-shortinfo=\"print in char.jl:45; _writejson in JSON.jl:148; _writejson in JSON.jl:224\" data-info=\"print in ./char.jl:45; _writejson in /home/rdeits/.julia/v0.5/JSON/src/JSON.jl:148; _writejson in /home/rdeits/.julia/v0.5/JSON/src/JSON.jl:224\"/>\n",
       "<text text-anchor=\"\" x=\"1119.752808988764\" y=\"191.5\" font-size=\"12\" font-family=\"Verdana\" fill=\"rgb(0,0,0)\" ></text>\n",
       "<rect vector-effect=\"non-scaling-stroke\" x=\"1117.0786516853932\" y=\"180.0\" width=\"1.3258426966292518\" height=\"15.0\" fill=\"rgb(50,180,78)\" rx=\"2\" ry=\"2\" data-shortinfo=\"_writejson in JSON.jl:149; _writejson in JSON.jl:224\" data-info=\"_writejson in /home/rdeits/.julia/v0.5/JSON/src/JSON.jl:149; _writejson in /home/rdeits/.julia/v0.5/JSON/src/JSON.jl:224\"/>\n",
       "<text text-anchor=\"\" x=\"1121.0786516853932\" y=\"191.5\" font-size=\"12\" font-family=\"Verdana\" fill=\"rgb(0,0,0)\" ></text>\n",
       "<rect vector-effect=\"non-scaling-stroke\" x=\"1118.4044943820224\" y=\"180.0\" width=\"6.629213483146032\" height=\"15.0\" fill=\"rgb(26,162,255)\" rx=\"2\" ry=\"2\" data-shortinfo=\"_writejson in JSON.jl:218\" data-info=\"_writejson in /home/rdeits/.julia/v0.5/JSON/src/JSON.jl:218\"/>\n",
       "<text text-anchor=\"\" x=\"1122.4044943820224\" y=\"191.5\" font-size=\"12\" font-family=\"Verdana\" fill=\"rgb(0,0,0)\" ></text>\n",
       "<rect vector-effect=\"non-scaling-stroke\" x=\"1125.0337078651685\" y=\"180.0\" width=\"7.9550561797752835\" height=\"15.0\" fill=\"rgb(210,165,23)\" rx=\"2\" ry=\"2\" data-shortinfo=\"_writejson in JSON.jl:224\" data-info=\"_writejson in /home/rdeits/.julia/v0.5/JSON/src/JSON.jl:224\"/>\n",
       "<text text-anchor=\"\" x=\"1129.0337078651685\" y=\"191.5\" font-size=\"12\" font-family=\"Verdana\" fill=\"rgb(0,0,0)\" ></text>\n",
       "<rect vector-effect=\"non-scaling-stroke\" x=\"1132.9887640449438\" y=\"180.0\" width=\"10.606741573033787\" height=\"15.0\" fill=\"rgb(0,222,230)\" rx=\"2\" ry=\"2\" data-shortinfo=\"_writejson in JSON.jl:149; _writejson in JSON.jl:224\" data-info=\"_writejson in /home/rdeits/.julia/v0.5/JSON/src/JSON.jl:149; _writejson in /home/rdeits/.julia/v0.5/JSON/src/JSON.jl:224\"/>\n",
       "<text text-anchor=\"\" x=\"1136.9887640449438\" y=\"191.5\" font-size=\"12\" font-family=\"Verdana\" fill=\"rgb(0,0,0)\" ></text>\n",
       "<rect vector-effect=\"non-scaling-stroke\" x=\"1143.5955056179776\" y=\"180.0\" width=\"10.60674157303356\" height=\"15.0\" fill=\"rgb(232,112,221)\" rx=\"2\" ry=\"2\" data-shortinfo=\"_writejson in JSON.jl:218\" data-info=\"_writejson in /home/rdeits/.julia/v0.5/JSON/src/JSON.jl:218\"/>\n",
       "<text text-anchor=\"\" x=\"1147.5955056179776\" y=\"191.5\" font-size=\"12\" font-family=\"Verdana\" fill=\"rgb(0,0,0)\" ></text>\n",
       "<rect vector-effect=\"non-scaling-stroke\" x=\"1154.202247191011\" y=\"180.0\" width=\"1.3258426966292518\" height=\"15.0\" fill=\"rgb(50,180,78)\" rx=\"2\" ry=\"2\" data-shortinfo=\"_writejson in JSON.jl:224\" data-info=\"_writejson in /home/rdeits/.julia/v0.5/JSON/src/JSON.jl:224\"/>\n",
       "<text text-anchor=\"\" x=\"1158.202247191011\" y=\"191.5\" font-size=\"12\" font-family=\"Verdana\" fill=\"rgb(0,0,0)\" ></text>\n",
       "<rect vector-effect=\"non-scaling-stroke\" x=\"33.865168539325836\" y=\"165.0\" width=\"1.3258426966292234\" height=\"15.0\" fill=\"rgb(255,164,156)\" rx=\"2\" ry=\"2\" data-shortinfo=\"ensureroom in iobuffer.jl:194; unsafe_write in iobuffer.jl:275\" data-info=\"ensureroom in ./iobuffer.jl:194; unsafe_write in ./iobuffer.jl:275\"/>\n",
       "<text text-anchor=\"\" x=\"37.865168539325836\" y=\"176.5\" font-size=\"12\" font-family=\"Verdana\" fill=\"rgb(0,0,0)\" ></text>\n",
       "<rect vector-effect=\"non-scaling-stroke\" x=\"36.51685393258427\" y=\"165.0\" width=\"1.3258426966292092\" height=\"15.0\" fill=\"rgb(158,158,158)\" rx=\"2\" ry=\"2\" data-shortinfo=\"resize! in array.jl:512\" data-info=\"resize! in ./array.jl:512\"/>\n",
       "<text text-anchor=\"\" x=\"40.51685393258427\" y=\"176.5\" font-size=\"12\" font-family=\"Verdana\" fill=\"rgb(0,0,0)\" ></text>\n",
       "<rect vector-effect=\"non-scaling-stroke\" x=\"401.12359550561797\" y=\"165.0\" width=\"1.325842696629195\" height=\"15.0\" fill=\"rgb(205,185,255)\" rx=\"2\" ry=\"2\" data-shortinfo=\"resize! in array.jl:512\" data-info=\"resize! in ./array.jl:512\"/>\n",
       "<text text-anchor=\"\" x=\"405.12359550561797\" y=\"176.5\" font-size=\"12\" font-family=\"Verdana\" fill=\"rgb(0,0,0)\" ></text>\n",
       "<rect vector-effect=\"non-scaling-stroke\" x=\"1003.0561797752808\" y=\"165.0\" width=\"2.65168539325839\" height=\"15.0\" fill=\"rgb(255,141,62)\" rx=\"2\" ry=\"2\" data-shortinfo=\"write in io.jl:175\" data-info=\"write in ./io.jl:175\"/>\n",
       "<text text-anchor=\"\" x=\"1007.0561797752808\" y=\"176.5\" font-size=\"12\" font-family=\"Verdana\" fill=\"rgb(0,0,0)\" ></text>\n",
       "<rect vector-effect=\"non-scaling-stroke\" x=\"1005.7078651685392\" y=\"165.0\" width=\"6.629213483146145\" height=\"15.0\" fill=\"rgb(180,211,70)\" rx=\"2\" ry=\"2\" data-shortinfo=\"_writejson in JSON.jl:163\" data-info=\"_writejson in /home/rdeits/.julia/v0.5/JSON/src/JSON.jl:163\"/>\n",
       "<text text-anchor=\"\" x=\"1009.7078651685392\" y=\"176.5\" font-size=\"12\" font-family=\"Verdana\" fill=\"rgb(0,0,0)\" ></text>\n",
       "<rect vector-effect=\"non-scaling-stroke\" x=\"1012.3370786516854\" y=\"165.0\" width=\"1.3258426966291381\" height=\"15.0\" fill=\"rgb(255,164,156)\" rx=\"2\" ry=\"2\" data-shortinfo=\"write in iobuffer.jl:312; write in io.jl:194\" data-info=\"write in ./iobuffer.jl:312; write in ./io.jl:194\"/>\n",
       "<text text-anchor=\"\" x=\"1016.3370786516854\" y=\"176.5\" font-size=\"12\" font-family=\"Verdana\" fill=\"rgb(0,0,0)\" ></text>\n",
       "<rect vector-effect=\"non-scaling-stroke\" x=\"1016.314606741573\" y=\"165.0\" width=\"1.3258426966291381\" height=\"15.0\" fill=\"rgb(158,158,158)\" rx=\"2\" ry=\"2\" data-shortinfo=\"print_escaped in JSON.jl:143\" data-info=\"print_escaped in /home/rdeits/.julia/v0.5/JSON/src/JSON.jl:143\"/>\n",
       "<text text-anchor=\"\" x=\"1020.314606741573\" y=\"176.5\" font-size=\"12\" font-family=\"Verdana\" fill=\"rgb(0,0,0)\" ></text>\n",
       "<rect vector-effect=\"non-scaling-stroke\" x=\"1018.9662921348314\" y=\"165.0\" width=\"1.3258426966292518\" height=\"15.0\" fill=\"rgb(205,185,255)\" rx=\"2\" ry=\"2\" data-shortinfo=\"resize! in array.jl:512\" data-info=\"resize! in ./array.jl:512\"/>\n",
       "<text text-anchor=\"\" x=\"1022.9662921348314\" y=\"176.5\" font-size=\"12\" font-family=\"Verdana\" fill=\"rgb(0,0,0)\" ></text>\n",
       "<rect vector-effect=\"non-scaling-stroke\" x=\"1022.943820224719\" y=\"165.0\" width=\"1.3258426966292518\" height=\"15.0\" fill=\"rgb(255,141,62)\" rx=\"2\" ry=\"2\" data-shortinfo=\"ensureroom in iobuffer.jl:193; unsafe_write in iobuffer.jl:275\" data-info=\"ensureroom in ./iobuffer.jl:193; unsafe_write in ./iobuffer.jl:275\"/>\n",
       "<text text-anchor=\"\" x=\"1026.943820224719\" y=\"176.5\" font-size=\"12\" font-family=\"Verdana\" fill=\"rgb(0,0,0)\" ></text>\n",
       "<rect vector-effect=\"non-scaling-stroke\" x=\"1032.2247191011234\" y=\"165.0\" width=\"1.3258426966294792\" height=\"15.0\" fill=\"rgb(180,211,70)\" rx=\"2\" ry=\"2\" data-shortinfo=\"unsafe_write in iobuffer.jl:0\" data-info=\"unsafe_write in ./iobuffer.jl:0\"/>\n",
       "<text text-anchor=\"\" x=\"1036.2247191011234\" y=\"176.5\" font-size=\"12\" font-family=\"Verdana\" fill=\"rgb(0,0,0)\" ></text>\n",
       "<rect vector-effect=\"non-scaling-stroke\" x=\"1034.8764044943819\" y=\"165.0\" width=\"9.280898876404535\" height=\"15.0\" fill=\"rgb(255,164,156)\" rx=\"2\" ry=\"2\" data-shortinfo=\"write in io.jl:175\" data-info=\"write in ./io.jl:175\"/>\n",
       "<text text-anchor=\"\" x=\"1038.8764044943819\" y=\"176.5\" font-size=\"12\" font-family=\"Verdana\" fill=\"rgb(0,0,0)\" ></text>\n",
       "<rect vector-effect=\"non-scaling-stroke\" x=\"1049.4606741573034\" y=\"165.0\" width=\"3.977528089887528\" height=\"15.0\" fill=\"rgb(158,158,158)\" rx=\"2\" ry=\"2\" data-shortinfo=\"write in io.jl:175\" data-info=\"write in ./io.jl:175\"/>\n",
       "<text text-anchor=\"\" x=\"1053.4606741573034\" y=\"176.5\" font-size=\"12\" font-family=\"Verdana\" fill=\"rgb(0,0,0)\" ></text>\n",
       "<rect vector-effect=\"non-scaling-stroke\" x=\"1056.0898876404494\" y=\"165.0\" width=\"1.3258426966292518\" height=\"15.0\" fill=\"rgb(205,185,255)\" rx=\"2\" ry=\"2\" data-shortinfo=\"print in io.jl:70; start_object in JSON.jl:120\" data-info=\"print in ./strings/io.jl:70; start_object in /home/rdeits/.julia/v0.5/JSON/src/JSON.jl:120\"/>\n",
       "<text text-anchor=\"\" x=\"1060.0898876404494\" y=\"176.5\" font-size=\"12\" font-family=\"Verdana\" fill=\"rgb(0,0,0)\" ></text>\n",
       "<rect vector-effect=\"non-scaling-stroke\" x=\"1057.4157303370787\" y=\"165.0\" width=\"1.3258426966290244\" height=\"15.0\" fill=\"rgb(255,141,62)\" rx=\"2\" ry=\"2\" data-shortinfo=\"_writejson in JSON.jl:160\" data-info=\"_writejson in /home/rdeits/.julia/v0.5/JSON/src/JSON.jl:160\"/>\n",
       "<text text-anchor=\"\" x=\"1061.4157303370787\" y=\"176.5\" font-size=\"12\" font-family=\"Verdana\" fill=\"rgb(0,0,0)\" ></text>\n",
       "<rect vector-effect=\"non-scaling-stroke\" x=\"1058.7415730337077\" y=\"165.0\" width=\"1.3258426966292518\" height=\"15.0\" fill=\"rgb(255,141,62)\" rx=\"2\" ry=\"2\" data-shortinfo=\"_writejson in JSON.jl:160\" data-info=\"_writejson in /home/rdeits/.julia/v0.5/JSON/src/JSON.jl:160\"/>\n",
       "<text text-anchor=\"\" x=\"1062.7415730337077\" y=\"176.5\" font-size=\"12\" font-family=\"Verdana\" fill=\"rgb(0,0,0)\" ></text>\n",
       "<rect vector-effect=\"non-scaling-stroke\" x=\"1060.067415730337\" y=\"165.0\" width=\"1.3258426966292518\" height=\"15.0\" fill=\"rgb(255,141,62)\" rx=\"2\" ry=\"2\" data-shortinfo=\"_writejson in JSON.jl:160\" data-info=\"_writejson in /home/rdeits/.julia/v0.5/JSON/src/JSON.jl:160\"/>\n",
       "<text text-anchor=\"\" x=\"1064.067415730337\" y=\"176.5\" font-size=\"12\" font-family=\"Verdana\" fill=\"rgb(0,0,0)\" ></text>\n",
       "<rect vector-effect=\"non-scaling-stroke\" x=\"1061.3932584269662\" y=\"165.0\" width=\"17.23595505617982\" height=\"15.0\" fill=\"rgb(180,211,70)\" rx=\"2\" ry=\"2\" data-shortinfo=\"_writejson in JSON.jl:163\" data-info=\"_writejson in /home/rdeits/.julia/v0.5/JSON/src/JSON.jl:163\"/>\n",
       "<text text-anchor=\"\" x=\"1065.3932584269662\" y=\"176.5\" font-size=\"12\" font-family=\"Verdana\" fill=\"rgb(0,0,0)\" ></text>\n",
       "<rect vector-effect=\"non-scaling-stroke\" x=\"1078.629213483146\" y=\"165.0\" width=\"1.3258426966292518\" height=\"15.0\" fill=\"rgb(255,164,156)\" rx=\"2\" ry=\"2\" data-shortinfo=\"_writejson in JSON.jl:160\" data-info=\"_writejson in /home/rdeits/.julia/v0.5/JSON/src/JSON.jl:160\"/>\n",
       "<text text-anchor=\"\" x=\"1082.629213483146\" y=\"176.5\" font-size=\"12\" font-family=\"Verdana\" fill=\"rgb(0,0,0)\" ></text>\n",
       "<rect vector-effect=\"non-scaling-stroke\" x=\"1079.9550561797753\" y=\"165.0\" width=\"31.820224719101134\" height=\"15.0\" fill=\"rgb(158,158,158)\" rx=\"2\" ry=\"2\" data-shortinfo=\"_writejson in JSON.jl:163\" data-info=\"_writejson in /home/rdeits/.julia/v0.5/JSON/src/JSON.jl:163\"/>\n",
       "<text text-anchor=\"\" x=\"1083.9550561797753\" y=\"176.5\" font-size=\"12\" font-family=\"Verdana\" fill=\"rgb(0,0,0)\" ></text>\n",
       "<rect vector-effect=\"non-scaling-stroke\" x=\"1111.7752808988764\" y=\"165.0\" width=\"1.3258426966290244\" height=\"15.0\" fill=\"rgb(205,185,255)\" rx=\"2\" ry=\"2\" data-shortinfo=\"print in io.jl:70; end_object in JSON.jl:131\" data-info=\"print in ./strings/io.jl:70; end_object in /home/rdeits/.julia/v0.5/JSON/src/JSON.jl:131\"/>\n",
       "<text text-anchor=\"\" x=\"1115.7752808988764\" y=\"176.5\" font-size=\"12\" font-family=\"Verdana\" fill=\"rgb(0,0,0)\" ></text>\n",
       "<rect vector-effect=\"non-scaling-stroke\" x=\"1113.1011235955054\" y=\"165.0\" width=\"1.3258426966292518\" height=\"15.0\" fill=\"rgb(255,141,62)\" rx=\"2\" ry=\"2\" data-shortinfo=\"unsafe_write in iobuffer.jl:286\" data-info=\"unsafe_write in ./iobuffer.jl:286\"/>\n",
       "<text text-anchor=\"\" x=\"1117.1011235955054\" y=\"176.5\" font-size=\"12\" font-family=\"Verdana\" fill=\"rgb(0,0,0)\" ></text>\n",
       "<rect vector-effect=\"non-scaling-stroke\" x=\"1114.4269662921347\" y=\"165.0\" width=\"1.3258426966292518\" height=\"15.0\" fill=\"rgb(180,211,70)\" rx=\"2\" ry=\"2\" data-shortinfo=\"write in io.jl:175\" data-info=\"write in ./io.jl:175\"/>\n",
       "<text text-anchor=\"\" x=\"1118.4269662921347\" y=\"176.5\" font-size=\"12\" font-family=\"Verdana\" fill=\"rgb(0,0,0)\" ></text>\n",
       "<rect vector-effect=\"non-scaling-stroke\" x=\"1115.752808988764\" y=\"165.0\" width=\"1.3258426966292518\" height=\"15.0\" fill=\"rgb(255,164,156)\" rx=\"2\" ry=\"2\" data-shortinfo=\"write in io.jl:0\" data-info=\"write in ./io.jl:0\"/>\n",
       "<text text-anchor=\"\" x=\"1119.752808988764\" y=\"176.5\" font-size=\"12\" font-family=\"Verdana\" fill=\"rgb(0,0,0)\" ></text>\n",
       "<rect vector-effect=\"non-scaling-stroke\" x=\"1117.0786516853932\" y=\"165.0\" width=\"1.3258426966292518\" height=\"15.0\" fill=\"rgb(158,158,158)\" rx=\"2\" ry=\"2\" data-shortinfo=\"print_escaped in JSON.jl:143\" data-info=\"print_escaped in /home/rdeits/.julia/v0.5/JSON/src/JSON.jl:143\"/>\n",
       "<text text-anchor=\"\" x=\"1121.0786516853932\" y=\"176.5\" font-size=\"12\" font-family=\"Verdana\" fill=\"rgb(0,0,0)\" ></text>\n",
       "<rect vector-effect=\"non-scaling-stroke\" x=\"1125.0337078651685\" y=\"165.0\" width=\"2.6516853932585036\" height=\"15.0\" fill=\"rgb(205,185,255)\" rx=\"2\" ry=\"2\" data-shortinfo=\"print in show.jl:3; #print_to_string#305 in io.jl:61\" data-info=\"print in ./show.jl:3; #print_to_string#305 in ./strings/io.jl:61\"/>\n",
       "<text text-anchor=\"\" x=\"1129.0337078651685\" y=\"176.5\" font-size=\"12\" font-family=\"Verdana\" fill=\"rgb(0,0,0)\" ></text>\n",
       "<rect vector-effect=\"non-scaling-stroke\" x=\"1127.685393258427\" y=\"165.0\" width=\"1.3258426966290244\" height=\"15.0\" fill=\"rgb(255,141,62)\" rx=\"2\" ry=\"2\" data-shortinfo=\"#print_to_string#305 in io.jl:0\" data-info=\"#print_to_string#305 in ./strings/io.jl:0\"/>\n",
       "<text text-anchor=\"\" x=\"1131.685393258427\" y=\"176.5\" font-size=\"12\" font-family=\"Verdana\" fill=\"rgb(0,0,0)\" ></text>\n",
       "<rect vector-effect=\"non-scaling-stroke\" x=\"1129.011235955056\" y=\"165.0\" width=\"1.3258426966292518\" height=\"15.0\" fill=\"rgb(180,211,70)\" rx=\"2\" ry=\"2\" data-shortinfo=\"#print_to_string#305 in io.jl:50\" data-info=\"#print_to_string#305 in ./strings/io.jl:50\"/>\n",
       "<text text-anchor=\"\" x=\"1133.011235955056\" y=\"176.5\" font-size=\"12\" font-family=\"Verdana\" fill=\"rgb(0,0,0)\" ></text>\n",
       "<rect vector-effect=\"non-scaling-stroke\" x=\"1130.3370786516853\" y=\"165.0\" width=\"1.3258426966292518\" height=\"15.0\" fill=\"rgb(255,164,156)\" rx=\"2\" ry=\"2\" data-shortinfo=\"#print_to_string#305 in io.jl:64\" data-info=\"#print_to_string#305 in ./strings/io.jl:64\"/>\n",
       "<text text-anchor=\"\" x=\"1134.3370786516853\" y=\"176.5\" font-size=\"12\" font-family=\"Verdana\" fill=\"rgb(0,0,0)\" ></text>\n",
       "<rect vector-effect=\"non-scaling-stroke\" x=\"1131.6629213483145\" y=\"165.0\" width=\"1.3258426966292518\" height=\"15.0\" fill=\"rgb(255,164,156)\" rx=\"2\" ry=\"2\" data-shortinfo=\"#print_to_string#305 in io.jl:64\" data-info=\"#print_to_string#305 in ./strings/io.jl:64\"/>\n",
       "<text text-anchor=\"\" x=\"1135.6629213483145\" y=\"176.5\" font-size=\"12\" font-family=\"Verdana\" fill=\"rgb(0,0,0)\" ></text>\n",
       "<rect vector-effect=\"non-scaling-stroke\" x=\"1132.9887640449438\" y=\"165.0\" width=\"1.3258426966292518\" height=\"15.0\" fill=\"rgb(158,158,158)\" rx=\"2\" ry=\"2\" data-shortinfo=\"write in io.jl:175\" data-info=\"write in ./io.jl:175\"/>\n",
       "<text text-anchor=\"\" x=\"1136.9887640449438\" y=\"176.5\" font-size=\"12\" font-family=\"Verdana\" fill=\"rgb(0,0,0)\" ></text>\n",
       "<rect vector-effect=\"non-scaling-stroke\" x=\"1134.314606741573\" y=\"165.0\" width=\"1.3258426966292518\" height=\"15.0\" fill=\"rgb(205,185,255)\" rx=\"2\" ry=\"2\" data-shortinfo=\"print_escaped in JSON.jl:0\" data-info=\"print_escaped in /home/rdeits/.julia/v0.5/JSON/src/JSON.jl:0\"/>\n",
       "<text text-anchor=\"\" x=\"1138.314606741573\" y=\"176.5\" font-size=\"12\" font-family=\"Verdana\" fill=\"rgb(0,0,0)\" ></text>\n",
       "<rect vector-effect=\"non-scaling-stroke\" x=\"1135.6404494382023\" y=\"165.0\" width=\"1.3258426966290244\" height=\"15.0\" fill=\"rgb(255,141,62)\" rx=\"2\" ry=\"2\" data-shortinfo=\"print_escaped in JSON.jl:143\" data-info=\"print_escaped in /home/rdeits/.julia/v0.5/JSON/src/JSON.jl:143\"/>\n",
       "<text text-anchor=\"\" x=\"1139.6404494382023\" y=\"176.5\" font-size=\"12\" font-family=\"Verdana\" fill=\"rgb(0,0,0)\" ></text>\n",
       "<rect vector-effect=\"non-scaling-stroke\" x=\"1136.9662921348313\" y=\"165.0\" width=\"6.629213483146259\" height=\"15.0\" fill=\"rgb(255,141,62)\" rx=\"2\" ry=\"2\" data-shortinfo=\"print_escaped in JSON.jl:143\" data-info=\"print_escaped in /home/rdeits/.julia/v0.5/JSON/src/JSON.jl:143\"/>\n",
       "<text text-anchor=\"\" x=\"1140.9662921348313\" y=\"176.5\" font-size=\"12\" font-family=\"Verdana\" fill=\"rgb(0,0,0)\" ></text>\n",
       "<rect vector-effect=\"non-scaling-stroke\" x=\"1154.202247191011\" y=\"165.0\" width=\"1.3258426966292518\" height=\"15.0\" fill=\"rgb(180,211,70)\" rx=\"2\" ry=\"2\" data-shortinfo=\"print in show.jl:3; #print_to_string#305 in io.jl:61\" data-info=\"print in ./show.jl:3; #print_to_string#305 in ./strings/io.jl:61\"/>\n",
       "<text text-anchor=\"\" x=\"1158.202247191011\" y=\"176.5\" font-size=\"12\" font-family=\"Verdana\" fill=\"rgb(0,0,0)\" ></text>\n",
       "<rect vector-effect=\"non-scaling-stroke\" x=\"33.865168539325836\" y=\"150.0\" width=\"1.3258426966292234\" height=\"15.0\" fill=\"rgb(232,112,221)\" rx=\"2\" ry=\"2\" data-shortinfo=\"resize! in array.jl:512\" data-info=\"resize! in ./array.jl:512\"/>\n",
       "<text text-anchor=\"\" x=\"37.865168539325836\" y=\"161.5\" font-size=\"12\" font-family=\"Verdana\" fill=\"rgb(0,0,0)\" ></text>\n",
       "<rect vector-effect=\"non-scaling-stroke\" x=\"1003.0561797752808\" y=\"150.0\" width=\"2.65168539325839\" height=\"15.0\" fill=\"rgb(50,180,78)\" rx=\"2\" ry=\"2\" data-shortinfo=\"ensureroom in iobuffer.jl:194; unsafe_write in iobuffer.jl:275\" data-info=\"ensureroom in ./iobuffer.jl:194; unsafe_write in ./iobuffer.jl:275\"/>\n",
       "<text text-anchor=\"\" x=\"1007.0561797752808\" y=\"161.5\" font-size=\"12\" font-family=\"Verdana\" fill=\"rgb(0,0,0)\" ></text>\n",
       "<rect vector-effect=\"non-scaling-stroke\" x=\"1005.7078651685392\" y=\"150.0\" width=\"1.3258426966292518\" height=\"15.0\" fill=\"rgb(26,162,255)\" rx=\"2\" ry=\"2\" data-shortinfo=\"show in grisu.jl:123; print in io.jl:8\" data-info=\"show in ./grisu/grisu.jl:123; print in ./strings/io.jl:8\"/>\n",
       "<text text-anchor=\"\" x=\"1009.7078651685392\" y=\"161.5\" font-size=\"12\" font-family=\"Verdana\" fill=\"rgb(0,0,0)\" ></text>\n",
       "<rect vector-effect=\"non-scaling-stroke\" x=\"1007.0337078651685\" y=\"150.0\" width=\"1.3258426966292518\" height=\"15.0\" fill=\"rgb(210,165,23)\" rx=\"2\" ry=\"2\" data-shortinfo=\"print in io.jl:7\" data-info=\"print in ./strings/io.jl:7\"/>\n",
       "<text text-anchor=\"\" x=\"1011.0337078651685\" y=\"161.5\" font-size=\"12\" font-family=\"Verdana\" fill=\"rgb(0,0,0)\" ></text>\n",
       "<rect vector-effect=\"non-scaling-stroke\" x=\"1008.3595505617977\" y=\"150.0\" width=\"3.9775280898876417\" height=\"15.0\" fill=\"rgb(0,222,230)\" rx=\"2\" ry=\"2\" data-shortinfo=\"show in grisu.jl:123; print in io.jl:8\" data-info=\"show in ./grisu/grisu.jl:123; print in ./strings/io.jl:8\"/>\n",
       "<text text-anchor=\"\" x=\"1012.3595505617977\" y=\"161.5\" font-size=\"12\" font-family=\"Verdana\" fill=\"rgb(0,0,0)\" ></text>\n",
       "<rect vector-effect=\"non-scaling-stroke\" x=\"1012.3370786516854\" y=\"150.0\" width=\"1.3258426966291381\" height=\"15.0\" fill=\"rgb(232,112,221)\" rx=\"2\" ry=\"2\" data-shortinfo=\"ensureroom in iobuffer.jl:193\" data-info=\"ensureroom in ./iobuffer.jl:193\"/>\n",
       "<text text-anchor=\"\" x=\"1016.3370786516854\" y=\"161.5\" font-size=\"12\" font-family=\"Verdana\" fill=\"rgb(0,0,0)\" ></text>\n",
       "<rect vector-effect=\"non-scaling-stroke\" x=\"1016.314606741573\" y=\"150.0\" width=\"1.3258426966291381\" height=\"15.0\" fill=\"rgb(50,180,78)\" rx=\"2\" ry=\"2\" data-shortinfo=\"write in io.jl:175\" data-info=\"write in ./io.jl:175\"/>\n",
       "<text text-anchor=\"\" x=\"1020.314606741573\" y=\"161.5\" font-size=\"12\" font-family=\"Verdana\" fill=\"rgb(0,0,0)\" ></text>\n",
       "<rect vector-effect=\"non-scaling-stroke\" x=\"1034.8764044943819\" y=\"150.0\" width=\"5.303370786517007\" height=\"15.0\" fill=\"rgb(26,162,255)\" rx=\"2\" ry=\"2\" data-shortinfo=\"ensureroom in iobuffer.jl:194; unsafe_write in iobuffer.jl:275\" data-info=\"ensureroom in ./iobuffer.jl:194; unsafe_write in ./iobuffer.jl:275\"/>\n",
       "<text text-anchor=\"\" x=\"1038.8764044943819\" y=\"161.5\" font-size=\"12\" font-family=\"Verdana\" fill=\"rgb(0,0,0)\" ></text>\n",
       "<rect vector-effect=\"non-scaling-stroke\" x=\"1040.1797752808989\" y=\"150.0\" width=\"1.3258426966292518\" height=\"15.0\" fill=\"rgb(210,165,23)\" rx=\"2\" ry=\"2\" data-shortinfo=\"unsafe_write in iobuffer.jl:0\" data-info=\"unsafe_write in ./iobuffer.jl:0\"/>\n",
       "<text text-anchor=\"\" x=\"1044.1797752808989\" y=\"161.5\" font-size=\"12\" font-family=\"Verdana\" fill=\"rgb(0,0,0)\" ></text>\n",
       "<rect vector-effect=\"non-scaling-stroke\" x=\"1041.5056179775281\" y=\"150.0\" width=\"1.3258426966290244\" height=\"15.0\" fill=\"rgb(0,222,230)\" rx=\"2\" ry=\"2\" data-shortinfo=\"min in promotion.jl:217; unsafe_write in iobuffer.jl:277\" data-info=\"min in ./promotion.jl:217; unsafe_write in ./iobuffer.jl:277\"/>\n",
       "<text text-anchor=\"\" x=\"1045.5056179775281\" y=\"161.5\" font-size=\"12\" font-family=\"Verdana\" fill=\"rgb(0,0,0)\" ></text>\n",
       "<rect vector-effect=\"non-scaling-stroke\" x=\"1042.8314606741571\" y=\"150.0\" width=\"1.3258426966292518\" height=\"15.0\" fill=\"rgb(232,112,221)\" rx=\"2\" ry=\"2\" data-shortinfo=\" in julia:-1\" data-info=\" in /home/rdeits/tools/julia-3c9d75391c/bin/julia:-1\"/>\n",
       "<text text-anchor=\"\" x=\"1046.8314606741571\" y=\"161.5\" font-size=\"12\" font-family=\"Verdana\" fill=\"rgb(0,0,0)\" ></text>\n",
       "<rect vector-effect=\"non-scaling-stroke\" x=\"1049.4606741573034\" y=\"150.0\" width=\"1.3258426966290244\" height=\"15.0\" fill=\"rgb(50,180,78)\" rx=\"2\" ry=\"2\" data-shortinfo=\"ensureroom in iobuffer.jl:192; unsafe_write in iobuffer.jl:275\" data-info=\"ensureroom in ./iobuffer.jl:192; unsafe_write in ./iobuffer.jl:275\"/>\n",
       "<text text-anchor=\"\" x=\"1053.4606741573034\" y=\"161.5\" font-size=\"12\" font-family=\"Verdana\" fill=\"rgb(0,0,0)\" ></text>\n",
       "<rect vector-effect=\"non-scaling-stroke\" x=\"1050.7865168539324\" y=\"150.0\" width=\"1.3258426966292518\" height=\"15.0\" fill=\"rgb(26,162,255)\" rx=\"2\" ry=\"2\" data-shortinfo=\"unsafe_write in iobuffer.jl:290\" data-info=\"unsafe_write in ./iobuffer.jl:290\"/>\n",
       "<text text-anchor=\"\" x=\"1054.7865168539324\" y=\"161.5\" font-size=\"12\" font-family=\"Verdana\" fill=\"rgb(0,0,0)\" ></text>\n",
       "<rect vector-effect=\"non-scaling-stroke\" x=\"1052.1123595505617\" y=\"150.0\" width=\"1.3258426966292518\" height=\"15.0\" fill=\"rgb(210,165,23)\" rx=\"2\" ry=\"2\" data-shortinfo=\"unsafe_write in iobuffer.jl:0\" data-info=\"unsafe_write in ./iobuffer.jl:0\"/>\n",
       "<text text-anchor=\"\" x=\"1056.1123595505617\" y=\"161.5\" font-size=\"12\" font-family=\"Verdana\" fill=\"rgb(0,0,0)\" ></text>\n",
       "<rect vector-effect=\"non-scaling-stroke\" x=\"1056.0898876404494\" y=\"150.0\" width=\"1.3258426966292518\" height=\"15.0\" fill=\"rgb(0,222,230)\" rx=\"2\" ry=\"2\" data-shortinfo=\"write in io.jl:175\" data-info=\"write in ./io.jl:175\"/>\n",
       "<text text-anchor=\"\" x=\"1060.0898876404494\" y=\"161.5\" font-size=\"12\" font-family=\"Verdana\" fill=\"rgb(0,0,0)\" ></text>\n",
       "<rect vector-effect=\"non-scaling-stroke\" x=\"1061.3932584269662\" y=\"150.0\" width=\"1.3258426966292518\" height=\"15.0\" fill=\"rgb(232,112,221)\" rx=\"2\" ry=\"2\" data-shortinfo=\"show in grisu.jl:120; print in io.jl:8\" data-info=\"show in ./grisu/grisu.jl:120; print in ./strings/io.jl:8\"/>\n",
       "<text text-anchor=\"\" x=\"1065.3932584269662\" y=\"161.5\" font-size=\"12\" font-family=\"Verdana\" fill=\"rgb(0,0,0)\" ></text>\n",
       "<rect vector-effect=\"non-scaling-stroke\" x=\"1062.7191011235955\" y=\"150.0\" width=\"15.910112359550567\" height=\"15.0\" fill=\"rgb(50,180,78)\" rx=\"2\" ry=\"2\" data-shortinfo=\"show in grisu.jl:123; print in io.jl:8\" data-info=\"show in ./grisu/grisu.jl:123; print in ./strings/io.jl:8\"/>\n",
       "<text text-anchor=\"\" x=\"1066.7191011235955\" y=\"161.5\" font-size=\"12\" font-family=\"Verdana\" fill=\"rgb(0,0,0)\" ></text>\n",
       "<rect vector-effect=\"non-scaling-stroke\" x=\"1079.9550561797753\" y=\"150.0\" width=\"31.820224719101134\" height=\"15.0\" fill=\"rgb(26,162,255)\" rx=\"2\" ry=\"2\" data-shortinfo=\"show in grisu.jl:123; print in io.jl:8\" data-info=\"show in ./grisu/grisu.jl:123; print in ./strings/io.jl:8\"/>\n",
       "<text text-anchor=\"\" x=\"1083.9550561797753\" y=\"161.5\" font-size=\"12\" font-family=\"Verdana\" fill=\"rgb(0,0,0)\" ></text>\n",
       "<rect vector-effect=\"non-scaling-stroke\" x=\"1111.7752808988764\" y=\"150.0\" width=\"1.3258426966290244\" height=\"15.0\" fill=\"rgb(210,165,23)\" rx=\"2\" ry=\"2\" data-shortinfo=\"write in io.jl:175\" data-info=\"write in ./io.jl:175\"/>\n",
       "<text text-anchor=\"\" x=\"1115.7752808988764\" y=\"161.5\" font-size=\"12\" font-family=\"Verdana\" fill=\"rgb(0,0,0)\" ></text>\n",
       "<rect vector-effect=\"non-scaling-stroke\" x=\"1114.4269662921347\" y=\"150.0\" width=\"1.3258426966292518\" height=\"15.0\" fill=\"rgb(0,222,230)\" rx=\"2\" ry=\"2\" data-shortinfo=\"unsafe_write in iobuffer.jl:0\" data-info=\"unsafe_write in ./iobuffer.jl:0\"/>\n",
       "<text text-anchor=\"\" x=\"1118.4269662921347\" y=\"161.5\" font-size=\"12\" font-family=\"Verdana\" fill=\"rgb(0,0,0)\" ></text>\n",
       "<rect vector-effect=\"non-scaling-stroke\" x=\"1117.0786516853932\" y=\"150.0\" width=\"1.3258426966292518\" height=\"15.0\" fill=\"rgb(232,112,221)\" rx=\"2\" ry=\"2\" data-shortinfo=\"write in io.jl:175\" data-info=\"write in ./io.jl:175\"/>\n",
       "<text text-anchor=\"\" x=\"1121.0786516853932\" y=\"161.5\" font-size=\"12\" font-family=\"Verdana\" fill=\"rgb(0,0,0)\" ></text>\n",
       "<rect vector-effect=\"non-scaling-stroke\" x=\"1125.0337078651685\" y=\"150.0\" width=\"2.6516853932585036\" height=\"15.0\" fill=\"rgb(50,180,78)\" rx=\"2\" ry=\"2\" data-shortinfo=\"write in io.jl:214\" data-info=\"write in ./io.jl:214\"/>\n",
       "<text text-anchor=\"\" x=\"1129.0337078651685\" y=\"161.5\" font-size=\"12\" font-family=\"Verdana\" fill=\"rgb(0,0,0)\" ></text>\n",
       "<rect vector-effect=\"non-scaling-stroke\" x=\"1136.9662921348313\" y=\"150.0\" width=\"6.629213483146259\" height=\"15.0\" fill=\"rgb(26,162,255)\" rx=\"2\" ry=\"2\" data-shortinfo=\"write in io.jl:175\" data-info=\"write in ./io.jl:175\"/>\n",
       "<text text-anchor=\"\" x=\"1140.9662921348313\" y=\"161.5\" font-size=\"12\" font-family=\"Verdana\" fill=\"rgb(0,0,0)\" ></text>\n",
       "<rect vector-effect=\"non-scaling-stroke\" x=\"1154.202247191011\" y=\"150.0\" width=\"1.3258426966292518\" height=\"15.0\" fill=\"rgb(210,165,23)\" rx=\"2\" ry=\"2\" data-shortinfo=\"write in io.jl:214\" data-info=\"write in ./io.jl:214\"/>\n",
       "<text text-anchor=\"\" x=\"1158.202247191011\" y=\"161.5\" font-size=\"12\" font-family=\"Verdana\" fill=\"rgb(0,0,0)\" ></text>\n",
       "<rect vector-effect=\"non-scaling-stroke\" x=\"1003.0561797752808\" y=\"135.0\" width=\"1.3258426966292518\" height=\"15.0\" fill=\"rgb(255,164,156)\" rx=\"2\" ry=\"2\" data-shortinfo=\"resize! in array.jl:517\" data-info=\"resize! in ./array.jl:517\"/>\n",
       "<text text-anchor=\"\" x=\"1007.0561797752808\" y=\"146.5\" font-size=\"12\" font-family=\"Verdana\" fill=\"rgb(0,0,0)\" ></text>\n",
       "<rect vector-effect=\"non-scaling-stroke\" x=\"1004.3820224719101\" y=\"135.0\" width=\"1.3258426966291381\" height=\"15.0\" fill=\"rgb(158,158,158)\" rx=\"2\" ry=\"2\" data-shortinfo=\" in array.c:652\" data-info=\" in /home/centos/buildbot/slave/package_tarball64/build/src/array.c:652\"/>\n",
       "<text text-anchor=\"\" x=\"1008.3820224719101\" y=\"146.5\" font-size=\"12\" font-family=\"Verdana\" fill=\"rgb(0,0,0)\" ></text>\n",
       "<rect vector-effect=\"non-scaling-stroke\" x=\"1005.7078651685392\" y=\"135.0\" width=\"1.3258426966292518\" height=\"15.0\" fill=\"rgb(205,185,255)\" rx=\"2\" ry=\"2\" data-shortinfo=\"_show in grisu.jl:70\" data-info=\"_show in ./grisu/grisu.jl:70\"/>\n",
       "<text text-anchor=\"\" x=\"1009.7078651685392\" y=\"146.5\" font-size=\"12\" font-family=\"Verdana\" fill=\"rgb(0,0,0)\" ></text>\n",
       "<rect vector-effect=\"non-scaling-stroke\" x=\"1008.3595505617977\" y=\"135.0\" width=\"3.9775280898876417\" height=\"15.0\" fill=\"rgb(255,141,62)\" rx=\"2\" ry=\"2\" data-shortinfo=\"_show in grisu.jl:70\" data-info=\"_show in ./grisu/grisu.jl:70\"/>\n",
       "<text text-anchor=\"\" x=\"1012.3595505617977\" y=\"146.5\" font-size=\"12\" font-family=\"Verdana\" fill=\"rgb(0,0,0)\" ></text>\n",
       "<rect vector-effect=\"non-scaling-stroke\" x=\"1016.314606741573\" y=\"135.0\" width=\"1.3258426966291381\" height=\"15.0\" fill=\"rgb(180,211,70)\" rx=\"2\" ry=\"2\" data-shortinfo=\"ensureroom in iobuffer.jl:194; unsafe_write in iobuffer.jl:275\" data-info=\"ensureroom in ./iobuffer.jl:194; unsafe_write in ./iobuffer.jl:275\"/>\n",
       "<text text-anchor=\"\" x=\"1020.314606741573\" y=\"146.5\" font-size=\"12\" font-family=\"Verdana\" fill=\"rgb(0,0,0)\" ></text>\n",
       "<rect vector-effect=\"non-scaling-stroke\" x=\"1034.8764044943819\" y=\"135.0\" width=\"2.6516853932585036\" height=\"15.0\" fill=\"rgb(255,164,156)\" rx=\"2\" ry=\"2\" data-shortinfo=\"resize! in array.jl:0\" data-info=\"resize! in ./array.jl:0\"/>\n",
       "<text text-anchor=\"\" x=\"1038.8764044943819\" y=\"146.5\" font-size=\"12\" font-family=\"Verdana\" fill=\"rgb(0,0,0)\" ></text>\n",
       "<rect vector-effect=\"non-scaling-stroke\" x=\"1037.5280898876404\" y=\"135.0\" width=\"2.6516853932585036\" height=\"15.0\" fill=\"rgb(158,158,158)\" rx=\"2\" ry=\"2\" data-shortinfo=\"resize! in array.jl:512\" data-info=\"resize! in ./array.jl:512\"/>\n",
       "<text text-anchor=\"\" x=\"1041.5280898876404\" y=\"146.5\" font-size=\"12\" font-family=\"Verdana\" fill=\"rgb(0,0,0)\" ></text>\n",
       "<rect vector-effect=\"non-scaling-stroke\" x=\"1056.0898876404494\" y=\"135.0\" width=\"1.3258426966292518\" height=\"15.0\" fill=\"rgb(205,185,255)\" rx=\"2\" ry=\"2\" data-shortinfo=\"unsafe_write in iobuffer.jl:0\" data-info=\"unsafe_write in ./iobuffer.jl:0\"/>\n",
       "<text text-anchor=\"\" x=\"1060.0898876404494\" y=\"146.5\" font-size=\"12\" font-family=\"Verdana\" fill=\"rgb(0,0,0)\" ></text>\n",
       "<rect vector-effect=\"non-scaling-stroke\" x=\"1061.3932584269662\" y=\"135.0\" width=\"1.3258426966292518\" height=\"15.0\" fill=\"rgb(255,141,62)\" rx=\"2\" ry=\"2\" data-shortinfo=\"get in show.jl:94\" data-info=\"get in ./show.jl:94\"/>\n",
       "<text text-anchor=\"\" x=\"1065.3932584269662\" y=\"146.5\" font-size=\"12\" font-family=\"Verdana\" fill=\"rgb(0,0,0)\" ></text>\n",
       "<rect vector-effect=\"non-scaling-stroke\" x=\"1062.7191011235955\" y=\"135.0\" width=\"13.258426966292063\" height=\"15.0\" fill=\"rgb(180,211,70)\" rx=\"2\" ry=\"2\" data-shortinfo=\"_show in grisu.jl:70\" data-info=\"_show in ./grisu/grisu.jl:70\"/>\n",
       "<text text-anchor=\"\" x=\"1066.7191011235955\" y=\"146.5\" font-size=\"12\" font-family=\"Verdana\" fill=\"rgb(0,0,0)\" ></text>\n",
       "<rect vector-effect=\"non-scaling-stroke\" x=\"1075.9775280898875\" y=\"135.0\" width=\"1.3258426966292518\" height=\"15.0\" fill=\"rgb(255,164,156)\" rx=\"2\" ry=\"2\" data-shortinfo=\"_show in grisu.jl:97\" data-info=\"_show in ./grisu/grisu.jl:97\"/>\n",
       "<text text-anchor=\"\" x=\"1079.9775280898875\" y=\"146.5\" font-size=\"12\" font-family=\"Verdana\" fill=\"rgb(0,0,0)\" ></text>\n",
       "<rect vector-effect=\"non-scaling-stroke\" x=\"1077.3033707865168\" y=\"135.0\" width=\"1.3258426966292518\" height=\"15.0\" fill=\"rgb(158,158,158)\" rx=\"2\" ry=\"2\" data-shortinfo=\"_show in grisu.jl:112\" data-info=\"_show in ./grisu/grisu.jl:112\"/>\n",
       "<text text-anchor=\"\" x=\"1081.3033707865168\" y=\"146.5\" font-size=\"12\" font-family=\"Verdana\" fill=\"rgb(0,0,0)\" ></text>\n",
       "<rect vector-effect=\"non-scaling-stroke\" x=\"1079.9550561797753\" y=\"135.0\" width=\"22.5393258426966\" height=\"15.0\" fill=\"rgb(205,185,255)\" rx=\"2\" ry=\"2\" data-shortinfo=\"_show in grisu.jl:70\" data-info=\"_show in ./grisu/grisu.jl:70\"/>\n",
       "<text text-anchor=\"\" x=\"1083.9550561797753\" y=\"146.5\" font-size=\"12\" font-family=\"Verdana\" fill=\"rgb(0,0,0)\" ></text>\n",
       "<rect vector-effect=\"non-scaling-stroke\" x=\"1102.4943820224719\" y=\"135.0\" width=\"2.6516853932582762\" height=\"15.0\" fill=\"rgb(255,141,62)\" rx=\"2\" ry=\"2\" data-shortinfo=\"_show in grisu.jl:95\" data-info=\"_show in ./grisu/grisu.jl:95\"/>\n",
       "<text text-anchor=\"\" x=\"1106.4943820224719\" y=\"146.5\" font-size=\"12\" font-family=\"Verdana\" fill=\"rgb(0,0,0)\" ></text>\n",
       "<rect vector-effect=\"non-scaling-stroke\" x=\"1105.1460674157302\" y=\"135.0\" width=\"3.9775280898877554\" height=\"15.0\" fill=\"rgb(180,211,70)\" rx=\"2\" ry=\"2\" data-shortinfo=\"_show in grisu.jl:100\" data-info=\"_show in ./grisu/grisu.jl:100\"/>\n",
       "<text text-anchor=\"\" x=\"1109.1460674157302\" y=\"146.5\" font-size=\"12\" font-family=\"Verdana\" fill=\"rgb(0,0,0)\" ></text>\n",
       "<rect vector-effect=\"non-scaling-stroke\" x=\"1109.123595505618\" y=\"135.0\" width=\"1.3258426966292518\" height=\"15.0\" fill=\"rgb(255,164,156)\" rx=\"2\" ry=\"2\" data-shortinfo=\"_show in grisu.jl:111\" data-info=\"_show in ./grisu/grisu.jl:111\"/>\n",
       "<text text-anchor=\"\" x=\"1113.123595505618\" y=\"146.5\" font-size=\"12\" font-family=\"Verdana\" fill=\"rgb(0,0,0)\" ></text>\n",
       "<rect vector-effect=\"non-scaling-stroke\" x=\"1110.4494382022472\" y=\"135.0\" width=\"1.3258426966292518\" height=\"15.0\" fill=\"rgb(158,158,158)\" rx=\"2\" ry=\"2\" data-shortinfo=\"_show in grisu.jl:112\" data-info=\"_show in ./grisu/grisu.jl:112\"/>\n",
       "<text text-anchor=\"\" x=\"1114.4494382022472\" y=\"146.5\" font-size=\"12\" font-family=\"Verdana\" fill=\"rgb(0,0,0)\" ></text>\n",
       "<rect vector-effect=\"non-scaling-stroke\" x=\"1111.7752808988764\" y=\"135.0\" width=\"1.3258426966290244\" height=\"15.0\" fill=\"rgb(205,185,255)\" rx=\"2\" ry=\"2\" data-shortinfo=\"unsafe_write in iobuffer.jl:0\" data-info=\"unsafe_write in ./iobuffer.jl:0\"/>\n",
       "<text text-anchor=\"\" x=\"1115.7752808988764\" y=\"146.5\" font-size=\"12\" font-family=\"Verdana\" fill=\"rgb(0,0,0)\" ></text>\n",
       "<rect vector-effect=\"non-scaling-stroke\" x=\"1125.0337078651685\" y=\"135.0\" width=\"1.3258426966292518\" height=\"15.0\" fill=\"rgb(255,141,62)\" rx=\"2\" ry=\"2\" data-shortinfo=\"ensureroom in iobuffer.jl:194; unsafe_write in iobuffer.jl:275\" data-info=\"ensureroom in ./iobuffer.jl:194; unsafe_write in ./iobuffer.jl:275\"/>\n",
       "<text text-anchor=\"\" x=\"1129.0337078651685\" y=\"146.5\" font-size=\"12\" font-family=\"Verdana\" fill=\"rgb(0,0,0)\" ></text>\n",
       "<rect vector-effect=\"non-scaling-stroke\" x=\"1126.3595505617977\" y=\"135.0\" width=\"1.3258426966292518\" height=\"15.0\" fill=\"rgb(180,211,70)\" rx=\"2\" ry=\"2\" data-shortinfo=\" in julia:-1\" data-info=\" in /home/rdeits/tools/julia-3c9d75391c/bin/julia:-1\"/>\n",
       "<text text-anchor=\"\" x=\"1130.3595505617977\" y=\"146.5\" font-size=\"12\" font-family=\"Verdana\" fill=\"rgb(0,0,0)\" ></text>\n",
       "<rect vector-effect=\"non-scaling-stroke\" x=\"1136.9662921348313\" y=\"135.0\" width=\"2.6516853932585036\" height=\"15.0\" fill=\"rgb(255,164,156)\" rx=\"2\" ry=\"2\" data-shortinfo=\"ensureroom in iobuffer.jl:194; unsafe_write in iobuffer.jl:275\" data-info=\"ensureroom in ./iobuffer.jl:194; unsafe_write in ./iobuffer.jl:275\"/>\n",
       "<text text-anchor=\"\" x=\"1140.9662921348313\" y=\"146.5\" font-size=\"12\" font-family=\"Verdana\" fill=\"rgb(0,0,0)\" ></text>\n",
       "<rect vector-effect=\"non-scaling-stroke\" x=\"1139.6179775280898\" y=\"135.0\" width=\"1.3258426966292518\" height=\"15.0\" fill=\"rgb(158,158,158)\" rx=\"2\" ry=\"2\" data-shortinfo=\"unsafe_write in iobuffer.jl:0\" data-info=\"unsafe_write in ./iobuffer.jl:0\"/>\n",
       "<text text-anchor=\"\" x=\"1143.6179775280898\" y=\"146.5\" font-size=\"12\" font-family=\"Verdana\" fill=\"rgb(0,0,0)\" ></text>\n",
       "<rect vector-effect=\"non-scaling-stroke\" x=\"1140.943820224719\" y=\"135.0\" width=\"1.3258426966292518\" height=\"15.0\" fill=\"rgb(205,185,255)\" rx=\"2\" ry=\"2\" data-shortinfo=\"unsafe_write in iobuffer.jl:280\" data-info=\"unsafe_write in ./iobuffer.jl:280\"/>\n",
       "<text text-anchor=\"\" x=\"1144.943820224719\" y=\"146.5\" font-size=\"12\" font-family=\"Verdana\" fill=\"rgb(0,0,0)\" ></text>\n",
       "<rect vector-effect=\"non-scaling-stroke\" x=\"1142.2696629213483\" y=\"135.0\" width=\"1.3258426966292518\" height=\"15.0\" fill=\"rgb(255,141,62)\" rx=\"2\" ry=\"2\" data-shortinfo=\" in julia:-1\" data-info=\" in /home/rdeits/tools/julia-3c9d75391c/bin/julia:-1\"/>\n",
       "<text text-anchor=\"\" x=\"1146.2696629213483\" y=\"146.5\" font-size=\"12\" font-family=\"Verdana\" fill=\"rgb(0,0,0)\" ></text>\n",
       "<rect vector-effect=\"non-scaling-stroke\" x=\"1154.202247191011\" y=\"135.0\" width=\"1.3258426966292518\" height=\"15.0\" fill=\"rgb(180,211,70)\" rx=\"2\" ry=\"2\" data-shortinfo=\"ensureroom in iobuffer.jl:192; unsafe_write in iobuffer.jl:275\" data-info=\"ensureroom in ./iobuffer.jl:192; unsafe_write in ./iobuffer.jl:275\"/>\n",
       "<text text-anchor=\"\" x=\"1158.202247191011\" y=\"146.5\" font-size=\"12\" font-family=\"Verdana\" fill=\"rgb(0,0,0)\" ></text>\n",
       "<rect vector-effect=\"non-scaling-stroke\" x=\"1005.7078651685392\" y=\"120.0\" width=\"1.3258426966292518\" height=\"15.0\" fill=\"rgb(232,112,221)\" rx=\"2\" ry=\"2\" data-shortinfo=\"grisu in grisu.jl:0\" data-info=\"grisu in ./grisu/grisu.jl:0\"/>\n",
       "<text text-anchor=\"\" x=\"1009.7078651685392\" y=\"131.5\" font-size=\"12\" font-family=\"Verdana\" fill=\"rgb(0,0,0)\" ></text>\n",
       "<rect vector-effect=\"non-scaling-stroke\" x=\"1008.3595505617977\" y=\"120.0\" width=\"3.9775280898876417\" height=\"15.0\" fill=\"rgb(50,180,78)\" rx=\"2\" ry=\"2\" data-shortinfo=\"grisu in grisu.jl:26\" data-info=\"grisu in ./grisu/grisu.jl:26\"/>\n",
       "<text text-anchor=\"\" x=\"1012.3595505617977\" y=\"131.5\" font-size=\"12\" font-family=\"Verdana\" fill=\"rgb(0,0,0)\" ></text>\n",
       "<rect vector-effect=\"non-scaling-stroke\" x=\"1016.314606741573\" y=\"120.0\" width=\"1.3258426966291381\" height=\"15.0\" fill=\"rgb(26,162,255)\" rx=\"2\" ry=\"2\" data-shortinfo=\"resize! in array.jl:0\" data-info=\"resize! in ./array.jl:0\"/>\n",
       "<text text-anchor=\"\" x=\"1020.314606741573\" y=\"131.5\" font-size=\"12\" font-family=\"Verdana\" fill=\"rgb(0,0,0)\" ></text>\n",
       "<rect vector-effect=\"non-scaling-stroke\" x=\"1062.7191011235955\" y=\"120.0\" width=\"13.258426966292063\" height=\"15.0\" fill=\"rgb(210,165,23)\" rx=\"2\" ry=\"2\" data-shortinfo=\"grisu in grisu.jl:26\" data-info=\"grisu in ./grisu/grisu.jl:26\"/>\n",
       "<text text-anchor=\"\" x=\"1066.7191011235955\" y=\"131.5\" font-size=\"12\" font-family=\"Verdana\" fill=\"rgb(0,0,0)\" ></text>\n",
       "<rect vector-effect=\"non-scaling-stroke\" x=\"1075.9775280898875\" y=\"120.0\" width=\"1.3258426966292518\" height=\"15.0\" fill=\"rgb(0,222,230)\" rx=\"2\" ry=\"2\" data-shortinfo=\"write in io.jl:194\" data-info=\"write in ./io.jl:194\"/>\n",
       "<text text-anchor=\"\" x=\"1079.9775280898875\" y=\"131.5\" font-size=\"12\" font-family=\"Verdana\" fill=\"rgb(0,0,0)\" ></text>\n",
       "<rect vector-effect=\"non-scaling-stroke\" x=\"1077.3033707865168\" y=\"120.0\" width=\"1.3258426966292518\" height=\"15.0\" fill=\"rgb(232,112,221)\" rx=\"2\" ry=\"2\" data-shortinfo=\"min in promotion.jl:217; unsafe_write in iobuffer.jl:277\" data-info=\"min in ./promotion.jl:217; unsafe_write in ./iobuffer.jl:277\"/>\n",
       "<text text-anchor=\"\" x=\"1081.3033707865168\" y=\"131.5\" font-size=\"12\" font-family=\"Verdana\" fill=\"rgb(0,0,0)\" ></text>\n",
       "<rect vector-effect=\"non-scaling-stroke\" x=\"1079.9550561797753\" y=\"120.0\" width=\"22.5393258426966\" height=\"15.0\" fill=\"rgb(50,180,78)\" rx=\"2\" ry=\"2\" data-shortinfo=\"grisu in grisu.jl:26\" data-info=\"grisu in ./grisu/grisu.jl:26\"/>\n",
       "<text text-anchor=\"\" x=\"1083.9550561797753\" y=\"131.5\" font-size=\"12\" font-family=\"Verdana\" fill=\"rgb(0,0,0)\" ></text>\n",
       "<rect vector-effect=\"non-scaling-stroke\" x=\"1102.4943820224719\" y=\"120.0\" width=\"2.6516853932582762\" height=\"15.0\" fill=\"rgb(26,162,255)\" rx=\"2\" ry=\"2\" data-shortinfo=\"write in io.jl:175\" data-info=\"write in ./io.jl:175\"/>\n",
       "<text text-anchor=\"\" x=\"1106.4943820224719\" y=\"131.5\" font-size=\"12\" font-family=\"Verdana\" fill=\"rgb(0,0,0)\" ></text>\n",
       "<rect vector-effect=\"non-scaling-stroke\" x=\"1105.1460674157302\" y=\"120.0\" width=\"1.3258426966292518\" height=\"15.0\" fill=\"rgb(210,165,23)\" rx=\"2\" ry=\"2\" data-shortinfo=\"ensureroom in iobuffer.jl:194; unsafe_write in iobuffer.jl:275\" data-info=\"ensureroom in ./iobuffer.jl:194; unsafe_write in ./iobuffer.jl:275\"/>\n",
       "<text text-anchor=\"\" x=\"1109.1460674157302\" y=\"131.5\" font-size=\"12\" font-family=\"Verdana\" fill=\"rgb(0,0,0)\" ></text>\n",
       "<rect vector-effect=\"non-scaling-stroke\" x=\"1106.4719101123594\" y=\"120.0\" width=\"1.3258426966292518\" height=\"15.0\" fill=\"rgb(0,222,230)\" rx=\"2\" ry=\"2\" data-shortinfo=\"unsafe_write in iobuffer.jl:0\" data-info=\"unsafe_write in ./iobuffer.jl:0\"/>\n",
       "<text text-anchor=\"\" x=\"1110.4719101123594\" y=\"131.5\" font-size=\"12\" font-family=\"Verdana\" fill=\"rgb(0,0,0)\" ></text>\n",
       "<rect vector-effect=\"non-scaling-stroke\" x=\"1107.7977528089887\" y=\"120.0\" width=\"1.3258426966292518\" height=\"15.0\" fill=\"rgb(232,112,221)\" rx=\"2\" ry=\"2\" data-shortinfo=\"unsafe_write in iobuffer.jl:282\" data-info=\"unsafe_write in ./iobuffer.jl:282\"/>\n",
       "<text text-anchor=\"\" x=\"1111.7977528089887\" y=\"131.5\" font-size=\"12\" font-family=\"Verdana\" fill=\"rgb(0,0,0)\" ></text>\n",
       "<rect vector-effect=\"non-scaling-stroke\" x=\"1110.4494382022472\" y=\"120.0\" width=\"1.3258426966292518\" height=\"15.0\" fill=\"rgb(50,180,78)\" rx=\"2\" ry=\"2\" data-shortinfo=\"ensureroom in iobuffer.jl:194; unsafe_write in iobuffer.jl:275\" data-info=\"ensureroom in ./iobuffer.jl:194; unsafe_write in ./iobuffer.jl:275\"/>\n",
       "<text text-anchor=\"\" x=\"1114.4494382022472\" y=\"131.5\" font-size=\"12\" font-family=\"Verdana\" fill=\"rgb(0,0,0)\" ></text>\n",
       "<rect vector-effect=\"non-scaling-stroke\" x=\"1125.0337078651685\" y=\"120.0\" width=\"1.3258426966292518\" height=\"15.0\" fill=\"rgb(26,162,255)\" rx=\"2\" ry=\"2\" data-shortinfo=\"resize! in array.jl:512\" data-info=\"resize! in ./array.jl:512\"/>\n",
       "<text text-anchor=\"\" x=\"1129.0337078651685\" y=\"131.5\" font-size=\"12\" font-family=\"Verdana\" fill=\"rgb(0,0,0)\" ></text>\n",
       "<rect vector-effect=\"non-scaling-stroke\" x=\"1136.9662921348313\" y=\"120.0\" width=\"1.3258426966292518\" height=\"15.0\" fill=\"rgb(210,165,23)\" rx=\"2\" ry=\"2\" data-shortinfo=\"resize! in array.jl:512\" data-info=\"resize! in ./array.jl:512\"/>\n",
       "<text text-anchor=\"\" x=\"1140.9662921348313\" y=\"131.5\" font-size=\"12\" font-family=\"Verdana\" fill=\"rgb(0,0,0)\" ></text>\n",
       "<rect vector-effect=\"non-scaling-stroke\" x=\"1138.2921348314605\" y=\"120.0\" width=\"1.3258426966292518\" height=\"15.0\" fill=\"rgb(0,222,230)\" rx=\"2\" ry=\"2\" data-shortinfo=\"resize! in array.jl:519\" data-info=\"resize! in ./array.jl:519\"/>\n",
       "<text text-anchor=\"\" x=\"1142.2921348314605\" y=\"131.5\" font-size=\"12\" font-family=\"Verdana\" fill=\"rgb(0,0,0)\" ></text>\n",
       "<rect vector-effect=\"non-scaling-stroke\" x=\"1008.3595505617977\" y=\"105.0\" width=\"3.9775280898876417\" height=\"15.0\" fill=\"rgb(255,164,156)\" rx=\"2\" ry=\"2\" data-shortinfo=\"grisu in grisu.jl:44\" data-info=\"grisu in ./grisu/grisu.jl:44\"/>\n",
       "<text text-anchor=\"\" x=\"1012.3595505617977\" y=\"116.5\" font-size=\"12\" font-family=\"Verdana\" fill=\"rgb(0,0,0)\" ></text>\n",
       "<rect vector-effect=\"non-scaling-stroke\" x=\"1062.7191011235955\" y=\"105.0\" width=\"7.9550561797752835\" height=\"15.0\" fill=\"rgb(158,158,158)\" rx=\"2\" ry=\"2\" data-shortinfo=\"grisu in grisu.jl:44\" data-info=\"grisu in ./grisu/grisu.jl:44\"/>\n",
       "<text text-anchor=\"\" x=\"1066.7191011235955\" y=\"116.5\" font-size=\"12\" font-family=\"Verdana\" fill=\"rgb(0,0,0)\" ></text>\n",
       "<rect vector-effect=\"non-scaling-stroke\" x=\"1070.6741573033707\" y=\"105.0\" width=\"5.30337078651678\" height=\"15.0\" fill=\"rgb(205,185,255)\" rx=\"2\" ry=\"2\" data-shortinfo=\"grisu in grisu.jl:51\" data-info=\"grisu in ./grisu/grisu.jl:51\"/>\n",
       "<text text-anchor=\"\" x=\"1074.6741573033707\" y=\"116.5\" font-size=\"12\" font-family=\"Verdana\" fill=\"rgb(0,0,0)\" ></text>\n",
       "<rect vector-effect=\"non-scaling-stroke\" x=\"1079.9550561797753\" y=\"105.0\" width=\"22.5393258426966\" height=\"15.0\" fill=\"rgb(255,141,62)\" rx=\"2\" ry=\"2\" data-shortinfo=\"grisu in grisu.jl:44\" data-info=\"grisu in ./grisu/grisu.jl:44\"/>\n",
       "<text text-anchor=\"\" x=\"1083.9550561797753\" y=\"116.5\" font-size=\"12\" font-family=\"Verdana\" fill=\"rgb(0,0,0)\" ></text>\n",
       "<rect vector-effect=\"non-scaling-stroke\" x=\"1102.4943820224719\" y=\"105.0\" width=\"1.3258426966292518\" height=\"15.0\" fill=\"rgb(180,211,70)\" rx=\"2\" ry=\"2\" data-shortinfo=\"ensureroom in iobuffer.jl:194; unsafe_write in iobuffer.jl:275\" data-info=\"ensureroom in ./iobuffer.jl:194; unsafe_write in ./iobuffer.jl:275\"/>\n",
       "<text text-anchor=\"\" x=\"1106.4943820224719\" y=\"116.5\" font-size=\"12\" font-family=\"Verdana\" fill=\"rgb(0,0,0)\" ></text>\n",
       "<rect vector-effect=\"non-scaling-stroke\" x=\"1103.8202247191011\" y=\"105.0\" width=\"1.3258426966290244\" height=\"15.0\" fill=\"rgb(255,164,156)\" rx=\"2\" ry=\"2\" data-shortinfo=\"unsafe_write in iobuffer.jl:277\" data-info=\"unsafe_write in ./iobuffer.jl:277\"/>\n",
       "<text text-anchor=\"\" x=\"1107.8202247191011\" y=\"116.5\" font-size=\"12\" font-family=\"Verdana\" fill=\"rgb(0,0,0)\" ></text>\n",
       "<rect vector-effect=\"non-scaling-stroke\" x=\"1105.1460674157302\" y=\"105.0\" width=\"1.3258426966292518\" height=\"15.0\" fill=\"rgb(158,158,158)\" rx=\"2\" ry=\"2\" data-shortinfo=\"resize! in array.jl:512\" data-info=\"resize! in ./array.jl:512\"/>\n",
       "<text text-anchor=\"\" x=\"1109.1460674157302\" y=\"116.5\" font-size=\"12\" font-family=\"Verdana\" fill=\"rgb(0,0,0)\" ></text>\n",
       "<rect vector-effect=\"non-scaling-stroke\" x=\"1110.4494382022472\" y=\"105.0\" width=\"1.3258426966292518\" height=\"15.0\" fill=\"rgb(205,185,255)\" rx=\"2\" ry=\"2\" data-shortinfo=\"resize! in array.jl:512\" data-info=\"resize! in ./array.jl:512\"/>\n",
       "<text text-anchor=\"\" x=\"1114.4494382022472\" y=\"116.5\" font-size=\"12\" font-family=\"Verdana\" fill=\"rgb(0,0,0)\" ></text>\n",
       "<rect vector-effect=\"non-scaling-stroke\" x=\"1008.3595505617977\" y=\"90.0\" width=\"3.9775280898876417\" height=\"15.0\" fill=\"rgb(232,112,221)\" rx=\"2\" ry=\"2\" data-shortinfo=\"fastshortest in fastshortest.jl:114\" data-info=\"fastshortest in ./grisu/fastshortest.jl:114\"/>\n",
       "<text text-anchor=\"\" x=\"1012.3595505617977\" y=\"101.5\" font-size=\"12\" font-family=\"Verdana\" fill=\"rgb(0,0,0)\" ></text>\n",
       "<rect vector-effect=\"non-scaling-stroke\" x=\"1062.7191011235955\" y=\"90.0\" width=\"1.3258426966292518\" height=\"15.0\" fill=\"rgb(50,180,78)\" rx=\"2\" ry=\"2\" data-shortinfo=\"fastshortest in fastshortest.jl:107\" data-info=\"fastshortest in ./grisu/fastshortest.jl:107\"/>\n",
       "<text text-anchor=\"\" x=\"1066.7191011235955\" y=\"101.5\" font-size=\"12\" font-family=\"Verdana\" fill=\"rgb(0,0,0)\" ></text>\n",
       "<rect vector-effect=\"non-scaling-stroke\" x=\"1064.0449438202247\" y=\"90.0\" width=\"1.3258426966292518\" height=\"15.0\" fill=\"rgb(26,162,255)\" rx=\"2\" ry=\"2\" data-shortinfo=\"fastshortest in fastshortest.jl:112\" data-info=\"fastshortest in ./grisu/fastshortest.jl:112\"/>\n",
       "<text text-anchor=\"\" x=\"1068.0449438202247\" y=\"101.5\" font-size=\"12\" font-family=\"Verdana\" fill=\"rgb(0,0,0)\" ></text>\n",
       "<rect vector-effect=\"non-scaling-stroke\" x=\"1065.370786516854\" y=\"90.0\" width=\"5.30337078651678\" height=\"15.0\" fill=\"rgb(210,165,23)\" rx=\"2\" ry=\"2\" data-shortinfo=\"fastshortest in fastshortest.jl:114\" data-info=\"fastshortest in ./grisu/fastshortest.jl:114\"/>\n",
       "<text text-anchor=\"\" x=\"1069.370786516854\" y=\"101.5\" font-size=\"12\" font-family=\"Verdana\" fill=\"rgb(0,0,0)\" ></text>\n",
       "<rect vector-effect=\"non-scaling-stroke\" x=\"1070.6741573033707\" y=\"90.0\" width=\"2.6516853932585036\" height=\"15.0\" fill=\"rgb(0,222,230)\" rx=\"2\" ry=\"2\" data-shortinfo=\"bignumdtoa in bignum.jl:57\" data-info=\"bignumdtoa in ./grisu/bignum.jl:57\"/>\n",
       "<text text-anchor=\"\" x=\"1074.6741573033707\" y=\"101.5\" font-size=\"12\" font-family=\"Verdana\" fill=\"rgb(0,0,0)\" ></text>\n",
       "<rect vector-effect=\"non-scaling-stroke\" x=\"1073.3258426966293\" y=\"90.0\" width=\"2.6516853932582762\" height=\"15.0\" fill=\"rgb(232,112,221)\" rx=\"2\" ry=\"2\" data-shortinfo=\"bignumdtoa in bignum.jl:62\" data-info=\"bignumdtoa in ./grisu/bignum.jl:62\"/>\n",
       "<text text-anchor=\"\" x=\"1077.3258426966293\" y=\"101.5\" font-size=\"12\" font-family=\"Verdana\" fill=\"rgb(0,0,0)\" ></text>\n",
       "<rect vector-effect=\"non-scaling-stroke\" x=\"1079.9550561797753\" y=\"90.0\" width=\"1.3258426966290244\" height=\"15.0\" fill=\"rgb(50,180,78)\" rx=\"2\" ry=\"2\" data-shortinfo=\"fastshortest in fastshortest.jl:0\" data-info=\"fastshortest in ./grisu/fastshortest.jl:0\"/>\n",
       "<text text-anchor=\"\" x=\"1083.9550561797753\" y=\"101.5\" font-size=\"12\" font-family=\"Verdana\" fill=\"rgb(0,0,0)\" ></text>\n",
       "<rect vector-effect=\"non-scaling-stroke\" x=\"1081.2808988764043\" y=\"90.0\" width=\"3.9775280898877554\" height=\"15.0\" fill=\"rgb(26,162,255)\" rx=\"2\" ry=\"2\" data-shortinfo=\"fastshortest in fastshortest.jl:107\" data-info=\"fastshortest in ./grisu/fastshortest.jl:107\"/>\n",
       "<text text-anchor=\"\" x=\"1085.2808988764043\" y=\"101.5\" font-size=\"12\" font-family=\"Verdana\" fill=\"rgb(0,0,0)\" ></text>\n",
       "<rect vector-effect=\"non-scaling-stroke\" x=\"1085.258426966292\" y=\"90.0\" width=\"1.3258426966292518\" height=\"15.0\" fill=\"rgb(26,162,255)\" rx=\"2\" ry=\"2\" data-shortinfo=\"fastshortest in fastshortest.jl:107\" data-info=\"fastshortest in ./grisu/fastshortest.jl:107\"/>\n",
       "<text text-anchor=\"\" x=\"1089.258426966292\" y=\"101.5\" font-size=\"12\" font-family=\"Verdana\" fill=\"rgb(0,0,0)\" ></text>\n",
       "<rect vector-effect=\"non-scaling-stroke\" x=\"1086.5842696629213\" y=\"90.0\" width=\"1.3258426966292518\" height=\"15.0\" fill=\"rgb(210,165,23)\" rx=\"2\" ry=\"2\" data-shortinfo=\"fastshortest in fastshortest.jl:112\" data-info=\"fastshortest in ./grisu/fastshortest.jl:112\"/>\n",
       "<text text-anchor=\"\" x=\"1090.5842696629213\" y=\"101.5\" font-size=\"12\" font-family=\"Verdana\" fill=\"rgb(0,0,0)\" ></text>\n",
       "<rect vector-effect=\"non-scaling-stroke\" x=\"1087.9101123595506\" y=\"90.0\" width=\"1.3258426966290244\" height=\"15.0\" fill=\"rgb(210,165,23)\" rx=\"2\" ry=\"2\" data-shortinfo=\"fastshortest in fastshortest.jl:112\" data-info=\"fastshortest in ./grisu/fastshortest.jl:112\"/>\n",
       "<text text-anchor=\"\" x=\"1091.9101123595506\" y=\"101.5\" font-size=\"12\" font-family=\"Verdana\" fill=\"rgb(0,0,0)\" ></text>\n",
       "<rect vector-effect=\"non-scaling-stroke\" x=\"1089.2359550561796\" y=\"90.0\" width=\"13.25842696629229\" height=\"15.0\" fill=\"rgb(0,222,230)\" rx=\"2\" ry=\"2\" data-shortinfo=\"fastshortest in fastshortest.jl:114\" data-info=\"fastshortest in ./grisu/fastshortest.jl:114\"/>\n",
       "<text text-anchor=\"\" x=\"1093.2359550561796\" y=\"101.5\" font-size=\"12\" font-family=\"Verdana\" fill=\"rgb(0,0,0)\" ></text>\n",
       "<rect vector-effect=\"non-scaling-stroke\" x=\"1008.3595505617977\" y=\"75.0\" width=\"1.3258426966291381\" height=\"15.0\" fill=\"rgb(255,164,156)\" rx=\"2\" ry=\"2\" data-shortinfo=\"digitgen in fastshortest.jl:76\" data-info=\"digitgen in ./grisu/fastshortest.jl:76\"/>\n",
       "<text text-anchor=\"\" x=\"1012.3595505617977\" y=\"86.5\" font-size=\"12\" font-family=\"Verdana\" fill=\"rgb(0,0,0)\" ></text>\n",
       "<rect vector-effect=\"non-scaling-stroke\" x=\"1009.6853932584269\" y=\"75.0\" width=\"1.3258426966292518\" height=\"15.0\" fill=\"rgb(158,158,158)\" rx=\"2\" ry=\"2\" data-shortinfo=\"digitgen in fastshortest.jl:93\" data-info=\"digitgen in ./grisu/fastshortest.jl:93\"/>\n",
       "<text text-anchor=\"\" x=\"1013.6853932584269\" y=\"86.5\" font-size=\"12\" font-family=\"Verdana\" fill=\"rgb(0,0,0)\" ></text>\n",
       "<rect vector-effect=\"non-scaling-stroke\" x=\"1011.0112359550561\" y=\"75.0\" width=\"1.3258426966292518\" height=\"15.0\" fill=\"rgb(205,185,255)\" rx=\"2\" ry=\"2\" data-shortinfo=\"digitgen in fastshortest.jl:98\" data-info=\"digitgen in ./grisu/fastshortest.jl:98\"/>\n",
       "<text text-anchor=\"\" x=\"1015.0112359550561\" y=\"86.5\" font-size=\"12\" font-family=\"Verdana\" fill=\"rgb(0,0,0)\" ></text>\n",
       "<rect vector-effect=\"non-scaling-stroke\" x=\"1065.370786516854\" y=\"75.0\" width=\"1.3258426966290244\" height=\"15.0\" fill=\"rgb(255,141,62)\" rx=\"2\" ry=\"2\" data-shortinfo=\"digitgen in fastshortest.jl:66\" data-info=\"digitgen in ./grisu/fastshortest.jl:66\"/>\n",
       "<text text-anchor=\"\" x=\"1069.370786516854\" y=\"86.5\" font-size=\"12\" font-family=\"Verdana\" fill=\"rgb(0,0,0)\" ></text>\n",
       "<rect vector-effect=\"non-scaling-stroke\" x=\"1066.696629213483\" y=\"75.0\" width=\"1.3258426966292518\" height=\"15.0\" fill=\"rgb(180,211,70)\" rx=\"2\" ry=\"2\" data-shortinfo=\"digitgen in fastshortest.jl:75\" data-info=\"digitgen in ./grisu/fastshortest.jl:75\"/>\n",
       "<text text-anchor=\"\" x=\"1070.696629213483\" y=\"86.5\" font-size=\"12\" font-family=\"Verdana\" fill=\"rgb(0,0,0)\" ></text>\n",
       "<rect vector-effect=\"non-scaling-stroke\" x=\"1068.0224719101122\" y=\"75.0\" width=\"1.3258426966292518\" height=\"15.0\" fill=\"rgb(255,164,156)\" rx=\"2\" ry=\"2\" data-shortinfo=\"digitgen in fastshortest.jl:93\" data-info=\"digitgen in ./grisu/fastshortest.jl:93\"/>\n",
       "<text text-anchor=\"\" x=\"1072.0224719101122\" y=\"86.5\" font-size=\"12\" font-family=\"Verdana\" fill=\"rgb(0,0,0)\" ></text>\n",
       "<rect vector-effect=\"non-scaling-stroke\" x=\"1069.3483146067415\" y=\"75.0\" width=\"1.3258426966292518\" height=\"15.0\" fill=\"rgb(158,158,158)\" rx=\"2\" ry=\"2\" data-shortinfo=\"digitgen in fastshortest.jl:98\" data-info=\"digitgen in ./grisu/fastshortest.jl:98\"/>\n",
       "<text text-anchor=\"\" x=\"1073.3483146067415\" y=\"86.5\" font-size=\"12\" font-family=\"Verdana\" fill=\"rgb(0,0,0)\" ></text>\n",
       "<rect vector-effect=\"non-scaling-stroke\" x=\"1070.6741573033707\" y=\"75.0\" width=\"2.6516853932585036\" height=\"15.0\" fill=\"rgb(205,185,255)\" rx=\"2\" ry=\"2\" data-shortinfo=\"initialscaledstartvalues! in bignum.jl:227\" data-info=\"initialscaledstartvalues! in ./grisu/bignum.jl:227\"/>\n",
       "<text text-anchor=\"\" x=\"1074.6741573033707\" y=\"86.5\" font-size=\"12\" font-family=\"Verdana\" fill=\"rgb(0,0,0)\" ></text>\n",
       "<rect vector-effect=\"non-scaling-stroke\" x=\"1073.3258426966293\" y=\"75.0\" width=\"2.6516853932582762\" height=\"15.0\" fill=\"rgb(255,141,62)\" rx=\"2\" ry=\"2\" data-shortinfo=\"generateshortestdigits! in bignum.jl:76\" data-info=\"generateshortestdigits! in ./grisu/bignum.jl:76\"/>\n",
       "<text text-anchor=\"\" x=\"1077.3258426966293\" y=\"86.5\" font-size=\"12\" font-family=\"Verdana\" fill=\"rgb(0,0,0)\" ></text>\n",
       "<rect vector-effect=\"non-scaling-stroke\" x=\"1081.2808988764043\" y=\"75.0\" width=\"1.3258426966292518\" height=\"15.0\" fill=\"rgb(180,211,70)\" rx=\"2\" ry=\"2\" data-shortinfo=\"_significand in float.jl:114; normalizedbound in float.jl:119\" data-info=\"_significand in ./grisu/float.jl:114; normalizedbound in ./grisu/float.jl:119\"/>\n",
       "<text text-anchor=\"\" x=\"1085.2808988764043\" y=\"86.5\" font-size=\"12\" font-family=\"Verdana\" fill=\"rgb(0,0,0)\" ></text>\n",
       "<rect vector-effect=\"non-scaling-stroke\" x=\"1082.6067415730336\" y=\"75.0\" width=\"1.3258426966292518\" height=\"15.0\" fill=\"rgb(255,164,156)\" rx=\"2\" ry=\"2\" data-shortinfo=\"normalizedbound in float.jl:120\" data-info=\"normalizedbound in ./grisu/float.jl:120\"/>\n",
       "<text text-anchor=\"\" x=\"1086.6067415730336\" y=\"86.5\" font-size=\"12\" font-family=\"Verdana\" fill=\"rgb(0,0,0)\" ></text>\n",
       "<rect vector-effect=\"non-scaling-stroke\" x=\"1083.9325842696628\" y=\"75.0\" width=\"1.3258426966292518\" height=\"15.0\" fill=\"rgb(158,158,158)\" rx=\"2\" ry=\"2\" data-shortinfo=\"normalizedbound in float.jl:126\" data-info=\"normalizedbound in ./grisu/float.jl:126\"/>\n",
       "<text text-anchor=\"\" x=\"1087.9325842696628\" y=\"86.5\" font-size=\"12\" font-family=\"Verdana\" fill=\"rgb(0,0,0)\" ></text>\n",
       "<rect vector-effect=\"non-scaling-stroke\" x=\"1087.9101123595506\" y=\"75.0\" width=\"1.3258426966290244\" height=\"15.0\" fill=\"rgb(205,185,255)\" rx=\"2\" ry=\"2\" data-shortinfo=\"* in float.jl:144\" data-info=\"* in ./grisu/float.jl:144\"/>\n",
       "<text text-anchor=\"\" x=\"1091.9101123595506\" y=\"86.5\" font-size=\"12\" font-family=\"Verdana\" fill=\"rgb(0,0,0)\" ></text>\n",
       "<rect vector-effect=\"non-scaling-stroke\" x=\"1089.2359550561796\" y=\"75.0\" width=\"2.6516853932585036\" height=\"15.0\" fill=\"rgb(255,141,62)\" rx=\"2\" ry=\"2\" data-shortinfo=\"digitgen in fastshortest.jl:75\" data-info=\"digitgen in ./grisu/fastshortest.jl:75\"/>\n",
       "<text text-anchor=\"\" x=\"1093.2359550561796\" y=\"86.5\" font-size=\"12\" font-family=\"Verdana\" fill=\"rgb(0,0,0)\" ></text>\n",
       "<rect vector-effect=\"non-scaling-stroke\" x=\"1091.887640449438\" y=\"75.0\" width=\"1.3258426966292518\" height=\"15.0\" fill=\"rgb(180,211,70)\" rx=\"2\" ry=\"2\" data-shortinfo=\"digitgen in fastshortest.jl:78\" data-info=\"digitgen in ./grisu/fastshortest.jl:78\"/>\n",
       "<text text-anchor=\"\" x=\"1095.887640449438\" y=\"86.5\" font-size=\"12\" font-family=\"Verdana\" fill=\"rgb(0,0,0)\" ></text>\n",
       "<rect vector-effect=\"non-scaling-stroke\" x=\"1093.2134831460673\" y=\"75.0\" width=\"1.3258426966292518\" height=\"15.0\" fill=\"rgb(255,164,156)\" rx=\"2\" ry=\"2\" data-shortinfo=\"digitgen in fastshortest.jl:80\" data-info=\"digitgen in ./grisu/fastshortest.jl:80\"/>\n",
       "<text text-anchor=\"\" x=\"1097.2134831460673\" y=\"86.5\" font-size=\"12\" font-family=\"Verdana\" fill=\"rgb(0,0,0)\" ></text>\n",
       "<rect vector-effect=\"non-scaling-stroke\" x=\"1094.5393258426966\" y=\"75.0\" width=\"1.3258426966292518\" height=\"15.0\" fill=\"rgb(158,158,158)\" rx=\"2\" ry=\"2\" data-shortinfo=\"digitgen in fastshortest.jl:89\" data-info=\"digitgen in ./grisu/fastshortest.jl:89\"/>\n",
       "<text text-anchor=\"\" x=\"1098.5393258426966\" y=\"86.5\" font-size=\"12\" font-family=\"Verdana\" fill=\"rgb(0,0,0)\" ></text>\n",
       "<rect vector-effect=\"non-scaling-stroke\" x=\"1095.8651685393259\" y=\"75.0\" width=\"2.6516853932582762\" height=\"15.0\" fill=\"rgb(205,185,255)\" rx=\"2\" ry=\"2\" data-shortinfo=\"digitgen in fastshortest.jl:92\" data-info=\"digitgen in ./grisu/fastshortest.jl:92\"/>\n",
       "<text text-anchor=\"\" x=\"1099.8651685393259\" y=\"86.5\" font-size=\"12\" font-family=\"Verdana\" fill=\"rgb(0,0,0)\" ></text>\n",
       "<rect vector-effect=\"non-scaling-stroke\" x=\"1098.5168539325841\" y=\"75.0\" width=\"2.6516853932585036\" height=\"15.0\" fill=\"rgb(255,141,62)\" rx=\"2\" ry=\"2\" data-shortinfo=\"digitgen in fastshortest.jl:93\" data-info=\"digitgen in ./grisu/fastshortest.jl:93\"/>\n",
       "<text text-anchor=\"\" x=\"1102.5168539325841\" y=\"86.5\" font-size=\"12\" font-family=\"Verdana\" fill=\"rgb(0,0,0)\" ></text>\n",
       "<rect vector-effect=\"non-scaling-stroke\" x=\"1101.1685393258426\" y=\"75.0\" width=\"1.3258426966292518\" height=\"15.0\" fill=\"rgb(180,211,70)\" rx=\"2\" ry=\"2\" data-shortinfo=\"digitgen in fastshortest.jl:98\" data-info=\"digitgen in ./grisu/fastshortest.jl:98\"/>\n",
       "<text text-anchor=\"\" x=\"1105.1685393258426\" y=\"86.5\" font-size=\"12\" font-family=\"Verdana\" fill=\"rgb(0,0,0)\" ></text>\n",
       "<rect vector-effect=\"non-scaling-stroke\" x=\"1011.0112359550561\" y=\"60.0\" width=\"1.3258426966292518\" height=\"15.0\" fill=\"rgb(232,112,221)\" rx=\"2\" ry=\"2\" data-shortinfo=\"roundweed in fastshortest.jl:41\" data-info=\"roundweed in ./grisu/fastshortest.jl:41\"/>\n",
       "<text text-anchor=\"\" x=\"1015.0112359550561\" y=\"71.5\" font-size=\"12\" font-family=\"Verdana\" fill=\"rgb(0,0,0)\" ></text>\n",
       "<rect vector-effect=\"non-scaling-stroke\" x=\"1069.3483146067415\" y=\"60.0\" width=\"1.3258426966292518\" height=\"15.0\" fill=\"rgb(50,180,78)\" rx=\"2\" ry=\"2\" data-shortinfo=\"roundweed in fastshortest.jl:35\" data-info=\"roundweed in ./grisu/fastshortest.jl:35\"/>\n",
       "<text text-anchor=\"\" x=\"1073.3483146067415\" y=\"71.5\" font-size=\"12\" font-family=\"Verdana\" fill=\"rgb(0,0,0)\" ></text>\n",
       "<rect vector-effect=\"non-scaling-stroke\" x=\"1070.6741573033707\" y=\"60.0\" width=\"1.3258426966292518\" height=\"15.0\" fill=\"rgb(26,162,255)\" rx=\"2\" ry=\"2\" data-shortinfo=\"init1! in bignum.jl:185\" data-info=\"init1! in ./grisu/bignum.jl:185\"/>\n",
       "<text text-anchor=\"\" x=\"1074.6741573033707\" y=\"71.5\" font-size=\"12\" font-family=\"Verdana\" fill=\"rgb(0,0,0)\" ></text>\n",
       "<rect vector-effect=\"non-scaling-stroke\" x=\"1072.0\" y=\"60.0\" width=\"1.3258426966292518\" height=\"15.0\" fill=\"rgb(210,165,23)\" rx=\"2\" ry=\"2\" data-shortinfo=\" in sys.so:-1\" data-info=\" in /home/rdeits/tools/julia-3c9d75391c/lib/julia/sys.so:-1\"/>\n",
       "<text text-anchor=\"\" x=\"1076.0\" y=\"71.5\" font-size=\"12\" font-family=\"Verdana\" fill=\"rgb(0,0,0)\" ></text>\n",
       "<rect vector-effect=\"non-scaling-stroke\" x=\"1073.3258426966293\" y=\"60.0\" width=\"2.6516853932582762\" height=\"15.0\" fill=\"rgb(0,222,230)\" rx=\"2\" ry=\"2\" data-shortinfo=\"dividemodulointbignum! in bignums.jl:427\" data-info=\"dividemodulointbignum! in ./grisu/bignums.jl:427\"/>\n",
       "<text text-anchor=\"\" x=\"1077.3258426966293\" y=\"71.5\" font-size=\"12\" font-family=\"Verdana\" fill=\"rgb(0,0,0)\" ></text>\n",
       "<rect vector-effect=\"non-scaling-stroke\" x=\"1093.2134831460673\" y=\"60.0\" width=\"1.3258426966292518\" height=\"15.0\" fill=\"rgb(232,112,221)\" rx=\"2\" ry=\"2\" data-shortinfo=\"&amp;lt;&amp;lt; in operators.jl:188\" data-info=\"&amp;lt;&amp;lt; in ./operators.jl:188\"/>\n",
       "<text text-anchor=\"\" x=\"1097.2134831460673\" y=\"71.5\" font-size=\"12\" font-family=\"Verdana\" fill=\"rgb(0,0,0)\" ></text>\n",
       "<rect vector-effect=\"non-scaling-stroke\" x=\"1095.8651685393259\" y=\"60.0\" width=\"1.3258426966290244\" height=\"15.0\" fill=\"rgb(50,180,78)\" rx=\"2\" ry=\"2\" data-shortinfo=\"&amp;gt;&amp;gt; in operators.jl:226\" data-info=\"&amp;gt;&amp;gt; in ./operators.jl:226\"/>\n",
       "<text text-anchor=\"\" x=\"1099.8651685393259\" y=\"71.5\" font-size=\"12\" font-family=\"Verdana\" fill=\"rgb(0,0,0)\" ></text>\n",
       "<rect vector-effect=\"non-scaling-stroke\" x=\"1070.6741573033707\" y=\"45.0\" width=\"1.3258426966292518\" height=\"15.0\" fill=\"rgb(255,164,156)\" rx=\"2\" ry=\"2\" data-shortinfo=\"assignpoweruint16! in bignums.jl:373\" data-info=\"assignpoweruint16! in ./grisu/bignums.jl:373\"/>\n",
       "<text text-anchor=\"\" x=\"1074.6741573033707\" y=\"56.5\" font-size=\"12\" font-family=\"Verdana\" fill=\"rgb(0,0,0)\" ></text>\n",
       "<rect vector-effect=\"non-scaling-stroke\" x=\"1073.3258426966293\" y=\"45.0\" width=\"1.3258426966290244\" height=\"15.0\" fill=\"rgb(158,158,158)\" rx=\"2\" ry=\"2\" data-shortinfo=\"subtracttimes! in bignums.jl:135\" data-info=\"subtracttimes! in ./grisu/bignums.jl:135\"/>\n",
       "<text text-anchor=\"\" x=\"1077.3258426966293\" y=\"56.5\" font-size=\"12\" font-family=\"Verdana\" fill=\"rgb(0,0,0)\" ></text>\n",
       "<rect vector-effect=\"non-scaling-stroke\" x=\"1074.6516853932583\" y=\"45.0\" width=\"1.3258426966292518\" height=\"15.0\" fill=\"rgb(205,185,255)\" rx=\"2\" ry=\"2\" data-shortinfo=\" in julia:-1\" data-info=\" in /home/rdeits/tools/julia-3c9d75391c/bin/julia:-1\"/>\n",
       "<text text-anchor=\"\" x=\"1078.6516853932583\" y=\"56.5\" font-size=\"12\" font-family=\"Verdana\" fill=\"rgb(0,0,0)\" ></text>\n",
       "<rect vector-effect=\"non-scaling-stroke\" x=\"1070.6741573033707\" y=\"30.0\" width=\"1.3258426966292518\" height=\"15.0\" fill=\"rgb(232,112,221)\" rx=\"2\" ry=\"2\" data-shortinfo=\"assignuint16! in bignums.jl:0\" data-info=\"assignuint16! in ./grisu/bignums.jl:0\"/>\n",
       "<text text-anchor=\"\" x=\"1074.6741573033707\" y=\"41.5\" font-size=\"12\" font-family=\"Verdana\" fill=\"rgb(0,0,0)\" ></text>\n",
       "    </g></g>\n",
       "    <script><![CDATA[(function(N){var k=/[\\.\\/]/,L=/\\s*,\\s*/,C=function(a,d){return a-d},a,v,y={n:{}},M=function(){for(var a=0,d=this.length;a<d;a++)if(\"undefined\"!=typeof this[a])return this[a]},A=function(){for(var a=this.length;--a;)if(\"undefined\"!=typeof this[a])return this[a]},w=function(k,d){k=String(k);var f=v,n=Array.prototype.slice.call(arguments,2),u=w.listeners(k),p=0,b,q=[],e={},l=[],r=a;l.firstDefined=M;l.lastDefined=A;a=k;for(var s=v=0,x=u.length;s<x;s++)\"zIndex\"in u[s]&&(q.push(u[s].zIndex),0>u[s].zIndex&&\n",
       "(e[u[s].zIndex]=u[s]));for(q.sort(C);0>q[p];)if(b=e[q[p++] ],l.push(b.apply(d,n)),v)return v=f,l;for(s=0;s<x;s++)if(b=u[s],\"zIndex\"in b)if(b.zIndex==q[p]){l.push(b.apply(d,n));if(v)break;do if(p++,(b=e[q[p] ])&&l.push(b.apply(d,n)),v)break;while(b)}else e[b.zIndex]=b;else if(l.push(b.apply(d,n)),v)break;v=f;a=r;return l};w._events=y;w.listeners=function(a){a=a.split(k);var d=y,f,n,u,p,b,q,e,l=[d],r=[];u=0;for(p=a.length;u<p;u++){e=[];b=0;for(q=l.length;b<q;b++)for(d=l[b].n,f=[d[a[u] ],d[\"*\"] ],n=2;n--;)if(d=\n",
       "f[n])e.push(d),r=r.concat(d.f||[]);l=e}return r};w.on=function(a,d){a=String(a);if(\"function\"!=typeof d)return function(){};for(var f=a.split(L),n=0,u=f.length;n<u;n++)(function(a){a=a.split(k);for(var b=y,f,e=0,l=a.length;e<l;e++)b=b.n,b=b.hasOwnProperty(a[e])&&b[a[e] ]||(b[a[e] ]={n:{}});b.f=b.f||[];e=0;for(l=b.f.length;e<l;e++)if(b.f[e]==d){f=!0;break}!f&&b.f.push(d)})(f[n]);return function(a){+a==+a&&(d.zIndex=+a)}};w.f=function(a){var d=[].slice.call(arguments,1);return function(){w.apply(null,\n",
       "[a,null].concat(d).concat([].slice.call(arguments,0)))}};w.stop=function(){v=1};w.nt=function(k){return k?(new RegExp(\"(?:\\\\.|\\\\/|^)\"+k+\"(?:\\\\.|\\\\/|$)\")).test(a):a};w.nts=function(){return a.split(k)};w.off=w.unbind=function(a,d){if(a){var f=a.split(L);if(1<f.length)for(var n=0,u=f.length;n<u;n++)w.off(f[n],d);else{for(var f=a.split(k),p,b,q,e,l=[y],n=0,u=f.length;n<u;n++)for(e=0;e<l.length;e+=q.length-2){q=[e,1];p=l[e].n;if(\"*\"!=f[n])p[f[n] ]&&q.push(p[f[n] ]);else for(b in p)p.hasOwnProperty(b)&&\n",
       "q.push(p[b]);l.splice.apply(l,q)}n=0;for(u=l.length;n<u;n++)for(p=l[n];p.n;){if(d){if(p.f){e=0;for(f=p.f.length;e<f;e++)if(p.f[e]==d){p.f.splice(e,1);break}!p.f.length&&delete p.f}for(b in p.n)if(p.n.hasOwnProperty(b)&&p.n[b].f){q=p.n[b].f;e=0;for(f=q.length;e<f;e++)if(q[e]==d){q.splice(e,1);break}!q.length&&delete p.n[b].f}}else for(b in delete p.f,p.n)p.n.hasOwnProperty(b)&&p.n[b].f&&delete p.n[b].f;p=p.n}}}else w._events=y={n:{}}};w.once=function(a,d){var f=function(){w.unbind(a,f);return d.apply(this,\n",
       "arguments)};return w.on(a,f)};w.version=\"0.4.2\";w.toString=function(){return\"You are running Eve 0.4.2\"};\"undefined\"!=typeof module&&module.exports?module.exports=w:\"function\"===typeof define&&define.amd?define(\"eve\",[],function(){return w}):N.eve=w})(this);\n",
       "(function(N,k){\"function\"===typeof define&&define.amd?define(\"Snap.svg\",[\"eve\"],function(L){return k(N,L)}):k(N,N.eve)})(this,function(N,k){var L=function(a){var k={},y=N.requestAnimationFrame||N.webkitRequestAnimationFrame||N.mozRequestAnimationFrame||N.oRequestAnimationFrame||N.msRequestAnimationFrame||function(a){setTimeout(a,16)},M=Array.isArray||function(a){return a instanceof Array||\"[object Array]\"==Object.prototype.toString.call(a)},A=0,w=\"M\"+(+new Date).toString(36),z=function(a){if(null==\n",
       "a)return this.s;var b=this.s-a;this.b+=this.dur*b;this.B+=this.dur*b;this.s=a},d=function(a){if(null==a)return this.spd;this.spd=a},f=function(a){if(null==a)return this.dur;this.s=this.s*a/this.dur;this.dur=a},n=function(){delete k[this.id];this.update();a(\"mina.stop.\"+this.id,this)},u=function(){this.pdif||(delete k[this.id],this.update(),this.pdif=this.get()-this.b)},p=function(){this.pdif&&(this.b=this.get()-this.pdif,delete this.pdif,k[this.id]=this)},b=function(){var a;if(M(this.start)){a=[];\n",
       "for(var b=0,e=this.start.length;b<e;b++)a[b]=+this.start[b]+(this.end[b]-this.start[b])*this.easing(this.s)}else a=+this.start+(this.end-this.start)*this.easing(this.s);this.set(a)},q=function(){var l=0,b;for(b in k)if(k.hasOwnProperty(b)){var e=k[b],f=e.get();l++;e.s=(f-e.b)/(e.dur/e.spd);1<=e.s&&(delete k[b],e.s=1,l--,function(b){setTimeout(function(){a(\"mina.finish.\"+b.id,b)})}(e));e.update()}l&&y(q)},e=function(a,r,s,x,G,h,J){a={id:w+(A++).toString(36),start:a,end:r,b:s,s:0,dur:x-s,spd:1,get:G,\n",
       "set:h,easing:J||e.linear,status:z,speed:d,duration:f,stop:n,pause:u,resume:p,update:b};k[a.id]=a;r=0;for(var K in k)if(k.hasOwnProperty(K)&&(r++,2==r))break;1==r&&y(q);return a};e.time=Date.now||function(){return+new Date};e.getById=function(a){return k[a]||null};e.linear=function(a){return a};e.easeout=function(a){return Math.pow(a,1.7)};e.easein=function(a){return Math.pow(a,0.48)};e.easeinout=function(a){if(1==a)return 1;if(0==a)return 0;var b=0.48-a/1.04,e=Math.sqrt(0.1734+b*b);a=e-b;a=Math.pow(Math.abs(a),\n",
       "1/3)*(0>a?-1:1);b=-e-b;b=Math.pow(Math.abs(b),1/3)*(0>b?-1:1);a=a+b+0.5;return 3*(1-a)*a*a+a*a*a};e.backin=function(a){return 1==a?1:a*a*(2.70158*a-1.70158)};e.backout=function(a){if(0==a)return 0;a-=1;return a*a*(2.70158*a+1.70158)+1};e.elastic=function(a){return a==!!a?a:Math.pow(2,-10*a)*Math.sin(2*(a-0.075)*Math.PI/0.3)+1};e.bounce=function(a){a<1/2.75?a*=7.5625*a:a<2/2.75?(a-=1.5/2.75,a=7.5625*a*a+0.75):a<2.5/2.75?(a-=2.25/2.75,a=7.5625*a*a+0.9375):(a-=2.625/2.75,a=7.5625*a*a+0.984375);return a};\n",
       "return N.mina=e}(\"undefined\"==typeof k?function(){}:k),C=function(){function a(c,t){if(c){if(c.tagName)return x(c);if(y(c,\"array\")&&a.set)return a.set.apply(a,c);if(c instanceof e)return c;if(null==t)return c=G.doc.querySelector(c),x(c)}return new s(null==c?\"100%\":c,null==t?\"100%\":t)}function v(c,a){if(a){\"#text\"==c&&(c=G.doc.createTextNode(a.text||\"\"));\"string\"==typeof c&&(c=v(c));if(\"string\"==typeof a)return\"xlink:\"==a.substring(0,6)?c.getAttributeNS(m,a.substring(6)):\"xml:\"==a.substring(0,4)?c.getAttributeNS(la,\n",
       "a.substring(4)):c.getAttribute(a);for(var da in a)if(a[h](da)){var b=J(a[da]);b?\"xlink:\"==da.substring(0,6)?c.setAttributeNS(m,da.substring(6),b):\"xml:\"==da.substring(0,4)?c.setAttributeNS(la,da.substring(4),b):c.setAttribute(da,b):c.removeAttribute(da)}}else c=G.doc.createElementNS(la,c);return c}function y(c,a){a=J.prototype.toLowerCase.call(a);return\"finite\"==a?isFinite(c):\"array\"==a&&(c instanceof Array||Array.isArray&&Array.isArray(c))?!0:\"null\"==a&&null===c||a==typeof c&&null!==c||\"object\"==\n",
       "a&&c===Object(c)||$.call(c).slice(8,-1).toLowerCase()==a}function M(c){if(\"function\"==typeof c||Object(c)!==c)return c;var a=new c.constructor,b;for(b in c)c[h](b)&&(a[b]=M(c[b]));return a}function A(c,a,b){function m(){var e=Array.prototype.slice.call(arguments,0),f=e.join(\"\\u2400\"),d=m.cache=m.cache||{},l=m.count=m.count||[];if(d[h](f)){a:for(var e=l,l=f,B=0,H=e.length;B<H;B++)if(e[B]===l){e.push(e.splice(B,1)[0]);break a}return b?b(d[f]):d[f]}1E3<=l.length&&delete d[l.shift()];l.push(f);d[f]=c.apply(a,\n",
       "e);return b?b(d[f]):d[f]}return m}function w(c,a,b,m,e,f){return null==e?(c-=b,a-=m,c||a?(180*I.atan2(-a,-c)/C+540)%360:0):w(c,a,e,f)-w(b,m,e,f)}function z(c){return c%360*C/180}function d(c){var a=[];c=c.replace(/(?:^|\\s)(\\w+)\\(([^)]+)\\)/g,function(c,b,m){m=m.split(/\\s*,\\s*|\\s+/);\"rotate\"==b&&1==m.length&&m.push(0,0);\"scale\"==b&&(2<m.length?m=m.slice(0,2):2==m.length&&m.push(0,0),1==m.length&&m.push(m[0],0,0));\"skewX\"==b?a.push([\"m\",1,0,I.tan(z(m[0])),1,0,0]):\"skewY\"==b?a.push([\"m\",1,I.tan(z(m[0])),\n",
       "0,1,0,0]):a.push([b.charAt(0)].concat(m));return c});return a}function f(c,t){var b=O(c),m=new a.Matrix;if(b)for(var e=0,f=b.length;e<f;e++){var h=b[e],d=h.length,B=J(h[0]).toLowerCase(),H=h[0]!=B,l=H?m.invert():0,E;\"t\"==B&&2==d?m.translate(h[1],0):\"t\"==B&&3==d?H?(d=l.x(0,0),B=l.y(0,0),H=l.x(h[1],h[2]),l=l.y(h[1],h[2]),m.translate(H-d,l-B)):m.translate(h[1],h[2]):\"r\"==B?2==d?(E=E||t,m.rotate(h[1],E.x+E.width/2,E.y+E.height/2)):4==d&&(H?(H=l.x(h[2],h[3]),l=l.y(h[2],h[3]),m.rotate(h[1],H,l)):m.rotate(h[1],\n",
       "h[2],h[3])):\"s\"==B?2==d||3==d?(E=E||t,m.scale(h[1],h[d-1],E.x+E.width/2,E.y+E.height/2)):4==d?H?(H=l.x(h[2],h[3]),l=l.y(h[2],h[3]),m.scale(h[1],h[1],H,l)):m.scale(h[1],h[1],h[2],h[3]):5==d&&(H?(H=l.x(h[3],h[4]),l=l.y(h[3],h[4]),m.scale(h[1],h[2],H,l)):m.scale(h[1],h[2],h[3],h[4])):\"m\"==B&&7==d&&m.add(h[1],h[2],h[3],h[4],h[5],h[6])}return m}function n(c,t){if(null==t){var m=!0;t=\"linearGradient\"==c.type||\"radialGradient\"==c.type?c.node.getAttribute(\"gradientTransform\"):\"pattern\"==c.type?c.node.getAttribute(\"patternTransform\"):\n",
       "c.node.getAttribute(\"transform\");if(!t)return new a.Matrix;t=d(t)}else t=a._.rgTransform.test(t)?J(t).replace(/\\.{3}|\\u2026/g,c._.transform||aa):d(t),y(t,\"array\")&&(t=a.path?a.path.toString.call(t):J(t)),c._.transform=t;var b=f(t,c.getBBox(1));if(m)return b;c.matrix=b}function u(c){c=c.node.ownerSVGElement&&x(c.node.ownerSVGElement)||c.node.parentNode&&x(c.node.parentNode)||a.select(\"svg\")||a(0,0);var t=c.select(\"defs\"),t=null==t?!1:t.node;t||(t=r(\"defs\",c.node).node);return t}function p(c){return c.node.ownerSVGElement&&\n",
       "x(c.node.ownerSVGElement)||a.select(\"svg\")}function b(c,a,m){function b(c){if(null==c)return aa;if(c==+c)return c;v(B,{width:c});try{return B.getBBox().width}catch(a){return 0}}function h(c){if(null==c)return aa;if(c==+c)return c;v(B,{height:c});try{return B.getBBox().height}catch(a){return 0}}function e(b,B){null==a?d[b]=B(c.attr(b)||0):b==a&&(d=B(null==m?c.attr(b)||0:m))}var f=p(c).node,d={},B=f.querySelector(\".svg---mgr\");B||(B=v(\"rect\"),v(B,{x:-9E9,y:-9E9,width:10,height:10,\"class\":\"svg---mgr\",\n",
       "fill:\"none\"}),f.appendChild(B));switch(c.type){case \"rect\":e(\"rx\",b),e(\"ry\",h);case \"image\":e(\"width\",b),e(\"height\",h);case \"text\":e(\"x\",b);e(\"y\",h);break;case \"circle\":e(\"cx\",b);e(\"cy\",h);e(\"r\",b);break;case \"ellipse\":e(\"cx\",b);e(\"cy\",h);e(\"rx\",b);e(\"ry\",h);break;case \"line\":e(\"x1\",b);e(\"x2\",b);e(\"y1\",h);e(\"y2\",h);break;case \"marker\":e(\"refX\",b);e(\"markerWidth\",b);e(\"refY\",h);e(\"markerHeight\",h);break;case \"radialGradient\":e(\"fx\",b);e(\"fy\",h);break;case \"tspan\":e(\"dx\",b);e(\"dy\",h);break;default:e(a,\n",
       "b)}f.removeChild(B);return d}function q(c){y(c,\"array\")||(c=Array.prototype.slice.call(arguments,0));for(var a=0,b=0,m=this.node;this[a];)delete this[a++];for(a=0;a<c.length;a++)\"set\"==c[a].type?c[a].forEach(function(c){m.appendChild(c.node)}):m.appendChild(c[a].node);for(var h=m.childNodes,a=0;a<h.length;a++)this[b++]=x(h[a]);return this}function e(c){if(c.snap in E)return E[c.snap];var a=this.id=V(),b;try{b=c.ownerSVGElement}catch(m){}this.node=c;b&&(this.paper=new s(b));this.type=c.tagName;this.anims=\n",
       "{};this._={transform:[]};c.snap=a;E[a]=this;\"g\"==this.type&&(this.add=q);if(this.type in{g:1,mask:1,pattern:1})for(var e in s.prototype)s.prototype[h](e)&&(this[e]=s.prototype[e])}function l(c){this.node=c}function r(c,a){var b=v(c);a.appendChild(b);return x(b)}function s(c,a){var b,m,f,d=s.prototype;if(c&&\"svg\"==c.tagName){if(c.snap in E)return E[c.snap];var l=c.ownerDocument;b=new e(c);m=c.getElementsByTagName(\"desc\")[0];f=c.getElementsByTagName(\"defs\")[0];m||(m=v(\"desc\"),m.appendChild(l.createTextNode(\"Created with Snap\")),\n",
       "b.node.appendChild(m));f||(f=v(\"defs\"),b.node.appendChild(f));b.defs=f;for(var ca in d)d[h](ca)&&(b[ca]=d[ca]);b.paper=b.root=b}else b=r(\"svg\",G.doc.body),v(b.node,{height:a,version:1.1,width:c,xmlns:la});return b}function x(c){return!c||c instanceof e||c instanceof l?c:c.tagName&&\"svg\"==c.tagName.toLowerCase()?new s(c):c.tagName&&\"object\"==c.tagName.toLowerCase()&&\"image/svg+xml\"==c.type?new s(c.contentDocument.getElementsByTagName(\"svg\")[0]):new e(c)}a.version=\"0.3.0\";a.toString=function(){return\"Snap v\"+\n",
       "this.version};a._={};var G={win:N,doc:N.document};a._.glob=G;var h=\"hasOwnProperty\",J=String,K=parseFloat,U=parseInt,I=Math,P=I.max,Q=I.min,Y=I.abs,C=I.PI,aa=\"\",$=Object.prototype.toString,F=/^\\s*((#[a-f\\d]{6})|(#[a-f\\d]{3})|rgba?\\(\\s*([\\d\\.]+%?\\s*,\\s*[\\d\\.]+%?\\s*,\\s*[\\d\\.]+%?(?:\\s*,\\s*[\\d\\.]+%?)?)\\s*\\)|hsba?\\(\\s*([\\d\\.]+(?:deg|\\xb0|%)?\\s*,\\s*[\\d\\.]+%?\\s*,\\s*[\\d\\.]+(?:%?\\s*,\\s*[\\d\\.]+)?%?)\\s*\\)|hsla?\\(\\s*([\\d\\.]+(?:deg|\\xb0|%)?\\s*,\\s*[\\d\\.]+%?\\s*,\\s*[\\d\\.]+(?:%?\\s*,\\s*[\\d\\.]+)?%?)\\s*\\))\\s*$/i;a._.separator=\n",
       "RegExp(\"[,\\t\\n\\x0B\\f\\r \\u00a0\\u1680\\u180e\\u2000\\u2001\\u2002\\u2003\\u2004\\u2005\\u2006\\u2007\\u2008\\u2009\\u200a\\u202f\\u205f\\u3000\\u2028\\u2029]+\");var S=RegExp(\"[\\t\\n\\x0B\\f\\r \\u00a0\\u1680\\u180e\\u2000\\u2001\\u2002\\u2003\\u2004\\u2005\\u2006\\u2007\\u2008\\u2009\\u200a\\u202f\\u205f\\u3000\\u2028\\u2029]*,[\\t\\n\\x0B\\f\\r \\u00a0\\u1680\\u180e\\u2000\\u2001\\u2002\\u2003\\u2004\\u2005\\u2006\\u2007\\u2008\\u2009\\u200a\\u202f\\u205f\\u3000\\u2028\\u2029]*\"),X={hs:1,rg:1},W=RegExp(\"([a-z])[\\t\\n\\x0B\\f\\r \\u00a0\\u1680\\u180e\\u2000\\u2001\\u2002\\u2003\\u2004\\u2005\\u2006\\u2007\\u2008\\u2009\\u200a\\u202f\\u205f\\u3000\\u2028\\u2029,]*((-?\\\\d*\\\\.?\\\\d*(?:e[\\\\-+]?\\\\d+)?[\\t\\n\\x0B\\f\\r \\u00a0\\u1680\\u180e\\u2000\\u2001\\u2002\\u2003\\u2004\\u2005\\u2006\\u2007\\u2008\\u2009\\u200a\\u202f\\u205f\\u3000\\u2028\\u2029]*,?[\\t\\n\\x0B\\f\\r \\u00a0\\u1680\\u180e\\u2000\\u2001\\u2002\\u2003\\u2004\\u2005\\u2006\\u2007\\u2008\\u2009\\u200a\\u202f\\u205f\\u3000\\u2028\\u2029]*)+)\",\n",
       "\"ig\"),ma=RegExp(\"([rstm])[\\t\\n\\x0B\\f\\r \\u00a0\\u1680\\u180e\\u2000\\u2001\\u2002\\u2003\\u2004\\u2005\\u2006\\u2007\\u2008\\u2009\\u200a\\u202f\\u205f\\u3000\\u2028\\u2029,]*((-?\\\\d*\\\\.?\\\\d*(?:e[\\\\-+]?\\\\d+)?[\\t\\n\\x0B\\f\\r \\u00a0\\u1680\\u180e\\u2000\\u2001\\u2002\\u2003\\u2004\\u2005\\u2006\\u2007\\u2008\\u2009\\u200a\\u202f\\u205f\\u3000\\u2028\\u2029]*,?[\\t\\n\\x0B\\f\\r \\u00a0\\u1680\\u180e\\u2000\\u2001\\u2002\\u2003\\u2004\\u2005\\u2006\\u2007\\u2008\\u2009\\u200a\\u202f\\u205f\\u3000\\u2028\\u2029]*)+)\",\"ig\"),Z=RegExp(\"(-?\\\\d*\\\\.?\\\\d*(?:e[\\\\-+]?\\\\d+)?)[\\t\\n\\x0B\\f\\r \\u00a0\\u1680\\u180e\\u2000\\u2001\\u2002\\u2003\\u2004\\u2005\\u2006\\u2007\\u2008\\u2009\\u200a\\u202f\\u205f\\u3000\\u2028\\u2029]*,?[\\t\\n\\x0B\\f\\r \\u00a0\\u1680\\u180e\\u2000\\u2001\\u2002\\u2003\\u2004\\u2005\\u2006\\u2007\\u2008\\u2009\\u200a\\u202f\\u205f\\u3000\\u2028\\u2029]*\",\n",
       "\"ig\"),na=0,ba=\"S\"+(+new Date).toString(36),V=function(){return ba+(na++).toString(36)},m=\"http://www.w3.org/1999/xlink\",la=\"http://www.w3.org/2000/svg\",E={},ca=a.url=function(c){return\"url('#\"+c+\"')\"};a._.$=v;a._.id=V;a.format=function(){var c=/\\{([^\\}]+)\\}/g,a=/(?:(?:^|\\.)(.+?)(?=\\[|\\.|$|\\()|\\[('|\")(.+?)\\2\\])(\\(\\))?/g,b=function(c,b,m){var h=m;b.replace(a,function(c,a,b,m,t){a=a||m;h&&(a in h&&(h=h[a]),\"function\"==typeof h&&t&&(h=h()))});return h=(null==h||h==m?c:h)+\"\"};return function(a,m){return J(a).replace(c,\n",
       "function(c,a){return b(c,a,m)})}}();a._.clone=M;a._.cacher=A;a.rad=z;a.deg=function(c){return 180*c/C%360};a.angle=w;a.is=y;a.snapTo=function(c,a,b){b=y(b,\"finite\")?b:10;if(y(c,\"array\"))for(var m=c.length;m--;){if(Y(c[m]-a)<=b)return c[m]}else{c=+c;m=a%c;if(m<b)return a-m;if(m>c-b)return a-m+c}return a};a.getRGB=A(function(c){if(!c||(c=J(c)).indexOf(\"-\")+1)return{r:-1,g:-1,b:-1,hex:\"none\",error:1,toString:ka};if(\"none\"==c)return{r:-1,g:-1,b:-1,hex:\"none\",toString:ka};!X[h](c.toLowerCase().substring(0,\n",
       "2))&&\"#\"!=c.charAt()&&(c=T(c));if(!c)return{r:-1,g:-1,b:-1,hex:\"none\",error:1,toString:ka};var b,m,e,f,d;if(c=c.match(F)){c[2]&&(e=U(c[2].substring(5),16),m=U(c[2].substring(3,5),16),b=U(c[2].substring(1,3),16));c[3]&&(e=U((d=c[3].charAt(3))+d,16),m=U((d=c[3].charAt(2))+d,16),b=U((d=c[3].charAt(1))+d,16));c[4]&&(d=c[4].split(S),b=K(d[0]),\"%\"==d[0].slice(-1)&&(b*=2.55),m=K(d[1]),\"%\"==d[1].slice(-1)&&(m*=2.55),e=K(d[2]),\"%\"==d[2].slice(-1)&&(e*=2.55),\"rgba\"==c[1].toLowerCase().slice(0,4)&&(f=K(d[3])),\n",
       "d[3]&&\"%\"==d[3].slice(-1)&&(f/=100));if(c[5])return d=c[5].split(S),b=K(d[0]),\"%\"==d[0].slice(-1)&&(b/=100),m=K(d[1]),\"%\"==d[1].slice(-1)&&(m/=100),e=K(d[2]),\"%\"==d[2].slice(-1)&&(e/=100),\"deg\"!=d[0].slice(-3)&&\"\\u00b0\"!=d[0].slice(-1)||(b/=360),\"hsba\"==c[1].toLowerCase().slice(0,4)&&(f=K(d[3])),d[3]&&\"%\"==d[3].slice(-1)&&(f/=100),a.hsb2rgb(b,m,e,f);if(c[6])return d=c[6].split(S),b=K(d[0]),\"%\"==d[0].slice(-1)&&(b/=100),m=K(d[1]),\"%\"==d[1].slice(-1)&&(m/=100),e=K(d[2]),\"%\"==d[2].slice(-1)&&(e/=100),\n",
       "\"deg\"!=d[0].slice(-3)&&\"\\u00b0\"!=d[0].slice(-1)||(b/=360),\"hsla\"==c[1].toLowerCase().slice(0,4)&&(f=K(d[3])),d[3]&&\"%\"==d[3].slice(-1)&&(f/=100),a.hsl2rgb(b,m,e,f);b=Q(I.round(b),255);m=Q(I.round(m),255);e=Q(I.round(e),255);f=Q(P(f,0),1);c={r:b,g:m,b:e,toString:ka};c.hex=\"#\"+(16777216|e|m<<8|b<<16).toString(16).slice(1);c.opacity=y(f,\"finite\")?f:1;return c}return{r:-1,g:-1,b:-1,hex:\"none\",error:1,toString:ka}},a);a.hsb=A(function(c,b,m){return a.hsb2rgb(c,b,m).hex});a.hsl=A(function(c,b,m){return a.hsl2rgb(c,\n",
       "b,m).hex});a.rgb=A(function(c,a,b,m){if(y(m,\"finite\")){var e=I.round;return\"rgba(\"+[e(c),e(a),e(b),+m.toFixed(2)]+\")\"}return\"#\"+(16777216|b|a<<8|c<<16).toString(16).slice(1)});var T=function(c){var a=G.doc.getElementsByTagName(\"head\")[0]||G.doc.getElementsByTagName(\"svg\")[0];T=A(function(c){if(\"red\"==c.toLowerCase())return\"rgb(255, 0, 0)\";a.style.color=\"rgb(255, 0, 0)\";a.style.color=c;c=G.doc.defaultView.getComputedStyle(a,aa).getPropertyValue(\"color\");return\"rgb(255, 0, 0)\"==c?null:c});return T(c)},\n",
       "qa=function(){return\"hsb(\"+[this.h,this.s,this.b]+\")\"},ra=function(){return\"hsl(\"+[this.h,this.s,this.l]+\")\"},ka=function(){return 1==this.opacity||null==this.opacity?this.hex:\"rgba(\"+[this.r,this.g,this.b,this.opacity]+\")\"},D=function(c,b,m){null==b&&y(c,\"object\")&&\"r\"in c&&\"g\"in c&&\"b\"in c&&(m=c.b,b=c.g,c=c.r);null==b&&y(c,string)&&(m=a.getRGB(c),c=m.r,b=m.g,m=m.b);if(1<c||1<b||1<m)c/=255,b/=255,m/=255;return[c,b,m]},oa=function(c,b,m,e){c=I.round(255*c);b=I.round(255*b);m=I.round(255*m);c={r:c,\n",
       "g:b,b:m,opacity:y(e,\"finite\")?e:1,hex:a.rgb(c,b,m),toString:ka};y(e,\"finite\")&&(c.opacity=e);return c};a.color=function(c){var b;y(c,\"object\")&&\"h\"in c&&\"s\"in c&&\"b\"in c?(b=a.hsb2rgb(c),c.r=b.r,c.g=b.g,c.b=b.b,c.opacity=1,c.hex=b.hex):y(c,\"object\")&&\"h\"in c&&\"s\"in c&&\"l\"in c?(b=a.hsl2rgb(c),c.r=b.r,c.g=b.g,c.b=b.b,c.opacity=1,c.hex=b.hex):(y(c,\"string\")&&(c=a.getRGB(c)),y(c,\"object\")&&\"r\"in c&&\"g\"in c&&\"b\"in c&&!(\"error\"in c)?(b=a.rgb2hsl(c),c.h=b.h,c.s=b.s,c.l=b.l,b=a.rgb2hsb(c),c.v=b.b):(c={hex:\"none\"},\n",
       "c.r=c.g=c.b=c.h=c.s=c.v=c.l=-1,c.error=1));c.toString=ka;return c};a.hsb2rgb=function(c,a,b,m){y(c,\"object\")&&\"h\"in c&&\"s\"in c&&\"b\"in c&&(b=c.b,a=c.s,c=c.h,m=c.o);var e,h,d;c=360*c%360/60;d=b*a;a=d*(1-Y(c%2-1));b=e=h=b-d;c=~~c;b+=[d,a,0,0,a,d][c];e+=[a,d,d,a,0,0][c];h+=[0,0,a,d,d,a][c];return oa(b,e,h,m)};a.hsl2rgb=function(c,a,b,m){y(c,\"object\")&&\"h\"in c&&\"s\"in c&&\"l\"in c&&(b=c.l,a=c.s,c=c.h);if(1<c||1<a||1<b)c/=360,a/=100,b/=100;var e,h,d;c=360*c%360/60;d=2*a*(0.5>b?b:1-b);a=d*(1-Y(c%2-1));b=e=\n",
       "h=b-d/2;c=~~c;b+=[d,a,0,0,a,d][c];e+=[a,d,d,a,0,0][c];h+=[0,0,a,d,d,a][c];return oa(b,e,h,m)};a.rgb2hsb=function(c,a,b){b=D(c,a,b);c=b[0];a=b[1];b=b[2];var m,e;m=P(c,a,b);e=m-Q(c,a,b);c=((0==e?0:m==c?(a-b)/e:m==a?(b-c)/e+2:(c-a)/e+4)+360)%6*60/360;return{h:c,s:0==e?0:e/m,b:m,toString:qa}};a.rgb2hsl=function(c,a,b){b=D(c,a,b);c=b[0];a=b[1];b=b[2];var m,e,h;m=P(c,a,b);e=Q(c,a,b);h=m-e;c=((0==h?0:m==c?(a-b)/h:m==a?(b-c)/h+2:(c-a)/h+4)+360)%6*60/360;m=(m+e)/2;return{h:c,s:0==h?0:0.5>m?h/(2*m):h/(2-2*\n",
       "m),l:m,toString:ra}};a.parsePathString=function(c){if(!c)return null;var b=a.path(c);if(b.arr)return a.path.clone(b.arr);var m={a:7,c:6,o:2,h:1,l:2,m:2,r:4,q:4,s:4,t:2,v:1,u:3,z:0},e=[];y(c,\"array\")&&y(c[0],\"array\")&&(e=a.path.clone(c));e.length||J(c).replace(W,function(c,a,b){var h=[];c=a.toLowerCase();b.replace(Z,function(c,a){a&&h.push(+a)});\"m\"==c&&2<h.length&&(e.push([a].concat(h.splice(0,2))),c=\"l\",a=\"m\"==a?\"l\":\"L\");\"o\"==c&&1==h.length&&e.push([a,h[0] ]);if(\"r\"==c)e.push([a].concat(h));else for(;h.length>=\n",
       "m[c]&&(e.push([a].concat(h.splice(0,m[c]))),m[c]););});e.toString=a.path.toString;b.arr=a.path.clone(e);return e};var O=a.parseTransformString=function(c){if(!c)return null;var b=[];y(c,\"array\")&&y(c[0],\"array\")&&(b=a.path.clone(c));b.length||J(c).replace(ma,function(c,a,m){var e=[];a.toLowerCase();m.replace(Z,function(c,a){a&&e.push(+a)});b.push([a].concat(e))});b.toString=a.path.toString;return b};a._.svgTransform2string=d;a._.rgTransform=RegExp(\"^[a-z][\\t\\n\\x0B\\f\\r \\u00a0\\u1680\\u180e\\u2000\\u2001\\u2002\\u2003\\u2004\\u2005\\u2006\\u2007\\u2008\\u2009\\u200a\\u202f\\u205f\\u3000\\u2028\\u2029]*-?\\\\.?\\\\d\",\n",
       "\"i\");a._.transform2matrix=f;a._unit2px=b;a._.getSomeDefs=u;a._.getSomeSVG=p;a.select=function(c){return x(G.doc.querySelector(c))};a.selectAll=function(c){c=G.doc.querySelectorAll(c);for(var b=(a.set||Array)(),m=0;m<c.length;m++)b.push(x(c[m]));return b};setInterval(function(){for(var c in E)if(E[h](c)){var a=E[c],b=a.node;(\"svg\"!=a.type&&!b.ownerSVGElement||\"svg\"==a.type&&(!b.parentNode||\"ownerSVGElement\"in b.parentNode&&!b.ownerSVGElement))&&delete E[c]}},1E4);(function(c){function m(c){function a(c,\n",
       "b){var m=v(c.node,b);(m=(m=m&&m.match(d))&&m[2])&&\"#\"==m.charAt()&&(m=m.substring(1))&&(f[m]=(f[m]||[]).concat(function(a){var m={};m[b]=ca(a);v(c.node,m)}))}function b(c){var a=v(c.node,\"xlink:href\");a&&\"#\"==a.charAt()&&(a=a.substring(1))&&(f[a]=(f[a]||[]).concat(function(a){c.attr(\"xlink:href\",\"#\"+a)}))}var e=c.selectAll(\"*\"),h,d=/^\\s*url\\((\"|'|)(.*)\\1\\)\\s*$/;c=[];for(var f={},l=0,E=e.length;l<E;l++){h=e[l];a(h,\"fill\");a(h,\"stroke\");a(h,\"filter\");a(h,\"mask\");a(h,\"clip-path\");b(h);var t=v(h.node,\n",
       "\"id\");t&&(v(h.node,{id:h.id}),c.push({old:t,id:h.id}))}l=0;for(E=c.length;l<E;l++)if(e=f[c[l].old])for(h=0,t=e.length;h<t;h++)e[h](c[l].id)}function e(c,a,b){return function(m){m=m.slice(c,a);1==m.length&&(m=m[0]);return b?b(m):m}}function d(c){return function(){var a=c?\"<\"+this.type:\"\",b=this.node.attributes,m=this.node.childNodes;if(c)for(var e=0,h=b.length;e<h;e++)a+=\" \"+b[e].name+'=\"'+b[e].value.replace(/\"/g,'\\\\\"')+'\"';if(m.length){c&&(a+=\">\");e=0;for(h=m.length;e<h;e++)3==m[e].nodeType?a+=m[e].nodeValue:\n",
       "1==m[e].nodeType&&(a+=x(m[e]).toString());c&&(a+=\"</\"+this.type+\">\")}else c&&(a+=\"/>\");return a}}c.attr=function(c,a){if(!c)return this;if(y(c,\"string\"))if(1<arguments.length){var b={};b[c]=a;c=b}else return k(\"snap.util.getattr.\"+c,this).firstDefined();for(var m in c)c[h](m)&&k(\"snap.util.attr.\"+m,this,c[m]);return this};c.getBBox=function(c){if(!a.Matrix||!a.path)return this.node.getBBox();var b=this,m=new a.Matrix;if(b.removed)return a._.box();for(;\"use\"==b.type;)if(c||(m=m.add(b.transform().localMatrix.translate(b.attr(\"x\")||\n",
       "0,b.attr(\"y\")||0))),b.original)b=b.original;else var e=b.attr(\"xlink:href\"),b=b.original=b.node.ownerDocument.getElementById(e.substring(e.indexOf(\"#\")+1));var e=b._,h=a.path.get[b.type]||a.path.get.deflt;try{if(c)return e.bboxwt=h?a.path.getBBox(b.realPath=h(b)):a._.box(b.node.getBBox()),a._.box(e.bboxwt);b.realPath=h(b);b.matrix=b.transform().localMatrix;e.bbox=a.path.getBBox(a.path.map(b.realPath,m.add(b.matrix)));return a._.box(e.bbox)}catch(d){return a._.box()}};var f=function(){return this.string};\n",
       "c.transform=function(c){var b=this._;if(null==c){var m=this;c=new a.Matrix(this.node.getCTM());for(var e=n(this),h=[e],d=new a.Matrix,l=e.toTransformString(),b=J(e)==J(this.matrix)?J(b.transform):l;\"svg\"!=m.type&&(m=m.parent());)h.push(n(m));for(m=h.length;m--;)d.add(h[m]);return{string:b,globalMatrix:c,totalMatrix:d,localMatrix:e,diffMatrix:c.clone().add(e.invert()),global:c.toTransformString(),total:d.toTransformString(),local:l,toString:f}}c instanceof a.Matrix?this.matrix=c:n(this,c);this.node&&\n",
       "(\"linearGradient\"==this.type||\"radialGradient\"==this.type?v(this.node,{gradientTransform:this.matrix}):\"pattern\"==this.type?v(this.node,{patternTransform:this.matrix}):v(this.node,{transform:this.matrix}));return this};c.parent=function(){return x(this.node.parentNode)};c.append=c.add=function(c){if(c){if(\"set\"==c.type){var a=this;c.forEach(function(c){a.add(c)});return this}c=x(c);this.node.appendChild(c.node);c.paper=this.paper}return this};c.appendTo=function(c){c&&(c=x(c),c.append(this));return this};\n",
       "c.prepend=function(c){if(c){if(\"set\"==c.type){var a=this,b;c.forEach(function(c){b?b.after(c):a.prepend(c);b=c});return this}c=x(c);var m=c.parent();this.node.insertBefore(c.node,this.node.firstChild);this.add&&this.add();c.paper=this.paper;this.parent()&&this.parent().add();m&&m.add()}return this};c.prependTo=function(c){c=x(c);c.prepend(this);return this};c.before=function(c){if(\"set\"==c.type){var a=this;c.forEach(function(c){var b=c.parent();a.node.parentNode.insertBefore(c.node,a.node);b&&b.add()});\n",
       "this.parent().add();return this}c=x(c);var b=c.parent();this.node.parentNode.insertBefore(c.node,this.node);this.parent()&&this.parent().add();b&&b.add();c.paper=this.paper;return this};c.after=function(c){c=x(c);var a=c.parent();this.node.nextSibling?this.node.parentNode.insertBefore(c.node,this.node.nextSibling):this.node.parentNode.appendChild(c.node);this.parent()&&this.parent().add();a&&a.add();c.paper=this.paper;return this};c.insertBefore=function(c){c=x(c);var a=this.parent();c.node.parentNode.insertBefore(this.node,\n",
       "c.node);this.paper=c.paper;a&&a.add();c.parent()&&c.parent().add();return this};c.insertAfter=function(c){c=x(c);var a=this.parent();c.node.parentNode.insertBefore(this.node,c.node.nextSibling);this.paper=c.paper;a&&a.add();c.parent()&&c.parent().add();return this};c.remove=function(){var c=this.parent();this.node.parentNode&&this.node.parentNode.removeChild(this.node);delete this.paper;this.removed=!0;c&&c.add();return this};c.select=function(c){return x(this.node.querySelector(c))};c.selectAll=\n",
       "function(c){c=this.node.querySelectorAll(c);for(var b=(a.set||Array)(),m=0;m<c.length;m++)b.push(x(c[m]));return b};c.asPX=function(c,a){null==a&&(a=this.attr(c));return+b(this,c,a)};c.use=function(){var c,a=this.node.id;a||(a=this.id,v(this.node,{id:a}));c=\"linearGradient\"==this.type||\"radialGradient\"==this.type||\"pattern\"==this.type?r(this.type,this.node.parentNode):r(\"use\",this.node.parentNode);v(c.node,{\"xlink:href\":\"#\"+a});c.original=this;return c};var l=/\\S+/g;c.addClass=function(c){var a=(c||\n",
       "\"\").match(l)||[];c=this.node;var b=c.className.baseVal,m=b.match(l)||[],e,h,d;if(a.length){for(e=0;d=a[e++];)h=m.indexOf(d),~h||m.push(d);a=m.join(\" \");b!=a&&(c.className.baseVal=a)}return this};c.removeClass=function(c){var a=(c||\"\").match(l)||[];c=this.node;var b=c.className.baseVal,m=b.match(l)||[],e,h;if(m.length){for(e=0;h=a[e++];)h=m.indexOf(h),~h&&m.splice(h,1);a=m.join(\" \");b!=a&&(c.className.baseVal=a)}return this};c.hasClass=function(c){return!!~(this.node.className.baseVal.match(l)||[]).indexOf(c)};\n",
       "c.toggleClass=function(c,a){if(null!=a)return a?this.addClass(c):this.removeClass(c);var b=(c||\"\").match(l)||[],m=this.node,e=m.className.baseVal,h=e.match(l)||[],d,f,E;for(d=0;E=b[d++];)f=h.indexOf(E),~f?h.splice(f,1):h.push(E);b=h.join(\" \");e!=b&&(m.className.baseVal=b);return this};c.clone=function(){var c=x(this.node.cloneNode(!0));v(c.node,\"id\")&&v(c.node,{id:c.id});m(c);c.insertAfter(this);return c};c.toDefs=function(){u(this).appendChild(this.node);return this};c.pattern=c.toPattern=function(c,\n",
       "a,b,m){var e=r(\"pattern\",u(this));null==c&&(c=this.getBBox());y(c,\"object\")&&\"x\"in c&&(a=c.y,b=c.width,m=c.height,c=c.x);v(e.node,{x:c,y:a,width:b,height:m,patternUnits:\"userSpaceOnUse\",id:e.id,viewBox:[c,a,b,m].join(\" \")});e.node.appendChild(this.node);return e};c.marker=function(c,a,b,m,e,h){var d=r(\"marker\",u(this));null==c&&(c=this.getBBox());y(c,\"object\")&&\"x\"in c&&(a=c.y,b=c.width,m=c.height,e=c.refX||c.cx,h=c.refY||c.cy,c=c.x);v(d.node,{viewBox:[c,a,b,m].join(\" \"),markerWidth:b,markerHeight:m,\n",
       "orient:\"auto\",refX:e||0,refY:h||0,id:d.id});d.node.appendChild(this.node);return d};var E=function(c,a,b,m){\"function\"!=typeof b||b.length||(m=b,b=L.linear);this.attr=c;this.dur=a;b&&(this.easing=b);m&&(this.callback=m)};a._.Animation=E;a.animation=function(c,a,b,m){return new E(c,a,b,m)};c.inAnim=function(){var c=[],a;for(a in this.anims)this.anims[h](a)&&function(a){c.push({anim:new E(a._attrs,a.dur,a.easing,a._callback),mina:a,curStatus:a.status(),status:function(c){return a.status(c)},stop:function(){a.stop()}})}(this.anims[a]);\n",
       "return c};a.animate=function(c,a,b,m,e,h){\"function\"!=typeof e||e.length||(h=e,e=L.linear);var d=L.time();c=L(c,a,d,d+m,L.time,b,e);h&&k.once(\"mina.finish.\"+c.id,h);return c};c.stop=function(){for(var c=this.inAnim(),a=0,b=c.length;a<b;a++)c[a].stop();return this};c.animate=function(c,a,b,m){\"function\"!=typeof b||b.length||(m=b,b=L.linear);c instanceof E&&(m=c.callback,b=c.easing,a=b.dur,c=c.attr);var d=[],f=[],l={},t,ca,n,T=this,q;for(q in c)if(c[h](q)){T.equal?(n=T.equal(q,J(c[q])),t=n.from,ca=\n",
       "n.to,n=n.f):(t=+T.attr(q),ca=+c[q]);var la=y(t,\"array\")?t.length:1;l[q]=e(d.length,d.length+la,n);d=d.concat(t);f=f.concat(ca)}t=L.time();var p=L(d,f,t,t+a,L.time,function(c){var a={},b;for(b in l)l[h](b)&&(a[b]=l[b](c));T.attr(a)},b);T.anims[p.id]=p;p._attrs=c;p._callback=m;k(\"snap.animcreated.\"+T.id,p);k.once(\"mina.finish.\"+p.id,function(){delete T.anims[p.id];m&&m.call(T)});k.once(\"mina.stop.\"+p.id,function(){delete T.anims[p.id]});return T};var T={};c.data=function(c,b){var m=T[this.id]=T[this.id]||\n",
       "{};if(0==arguments.length)return k(\"snap.data.get.\"+this.id,this,m,null),m;if(1==arguments.length){if(a.is(c,\"object\")){for(var e in c)c[h](e)&&this.data(e,c[e]);return this}k(\"snap.data.get.\"+this.id,this,m[c],c);return m[c]}m[c]=b;k(\"snap.data.set.\"+this.id,this,b,c);return this};c.removeData=function(c){null==c?T[this.id]={}:T[this.id]&&delete T[this.id][c];return this};c.outerSVG=c.toString=d(1);c.innerSVG=d()})(e.prototype);a.parse=function(c){var a=G.doc.createDocumentFragment(),b=!0,m=G.doc.createElement(\"div\");\n",
       "c=J(c);c.match(/^\\s*<\\s*svg(?:\\s|>)/)||(c=\"<svg>\"+c+\"</svg>\",b=!1);m.innerHTML=c;if(c=m.getElementsByTagName(\"svg\")[0])if(b)a=c;else for(;c.firstChild;)a.appendChild(c.firstChild);m.innerHTML=aa;return new l(a)};l.prototype.select=e.prototype.select;l.prototype.selectAll=e.prototype.selectAll;a.fragment=function(){for(var c=Array.prototype.slice.call(arguments,0),b=G.doc.createDocumentFragment(),m=0,e=c.length;m<e;m++){var h=c[m];h.node&&h.node.nodeType&&b.appendChild(h.node);h.nodeType&&b.appendChild(h);\n",
       "\"string\"==typeof h&&b.appendChild(a.parse(h).node)}return new l(b)};a._.make=r;a._.wrap=x;s.prototype.el=function(c,a){var b=r(c,this.node);a&&b.attr(a);return b};k.on(\"snap.util.getattr\",function(){var c=k.nt(),c=c.substring(c.lastIndexOf(\".\")+1),a=c.replace(/[A-Z]/g,function(c){return\"-\"+c.toLowerCase()});return pa[h](a)?this.node.ownerDocument.defaultView.getComputedStyle(this.node,null).getPropertyValue(a):v(this.node,c)});var pa={\"alignment-baseline\":0,\"baseline-shift\":0,clip:0,\"clip-path\":0,\n",
       "\"clip-rule\":0,color:0,\"color-interpolation\":0,\"color-interpolation-filters\":0,\"color-profile\":0,\"color-rendering\":0,cursor:0,direction:0,display:0,\"dominant-baseline\":0,\"enable-background\":0,fill:0,\"fill-opacity\":0,\"fill-rule\":0,filter:0,\"flood-color\":0,\"flood-opacity\":0,font:0,\"font-family\":0,\"font-size\":0,\"font-size-adjust\":0,\"font-stretch\":0,\"font-style\":0,\"font-variant\":0,\"font-weight\":0,\"glyph-orientation-horizontal\":0,\"glyph-orientation-vertical\":0,\"image-rendering\":0,kerning:0,\"letter-spacing\":0,\n",
       "\"lighting-color\":0,marker:0,\"marker-end\":0,\"marker-mid\":0,\"marker-start\":0,mask:0,opacity:0,overflow:0,\"pointer-events\":0,\"shape-rendering\":0,\"stop-color\":0,\"stop-opacity\":0,stroke:0,\"stroke-dasharray\":0,\"stroke-dashoffset\":0,\"stroke-linecap\":0,\"stroke-linejoin\":0,\"stroke-miterlimit\":0,\"stroke-opacity\":0,\"stroke-width\":0,\"text-anchor\":0,\"text-decoration\":0,\"text-rendering\":0,\"unicode-bidi\":0,visibility:0,\"word-spacing\":0,\"writing-mode\":0};k.on(\"snap.util.attr\",function(c){var a=k.nt(),b={},a=a.substring(a.lastIndexOf(\".\")+\n",
       "1);b[a]=c;var m=a.replace(/-(\\w)/gi,function(c,a){return a.toUpperCase()}),a=a.replace(/[A-Z]/g,function(c){return\"-\"+c.toLowerCase()});pa[h](a)?this.node.style[m]=null==c?aa:c:v(this.node,b)});a.ajax=function(c,a,b,m){var e=new XMLHttpRequest,h=V();if(e){if(y(a,\"function\"))m=b,b=a,a=null;else if(y(a,\"object\")){var d=[],f;for(f in a)a.hasOwnProperty(f)&&d.push(encodeURIComponent(f)+\"=\"+encodeURIComponent(a[f]));a=d.join(\"&\")}e.open(a?\"POST\":\"GET\",c,!0);a&&(e.setRequestHeader(\"X-Requested-With\",\"XMLHttpRequest\"),\n",
       "e.setRequestHeader(\"Content-type\",\"application/x-www-form-urlencoded\"));b&&(k.once(\"snap.ajax.\"+h+\".0\",b),k.once(\"snap.ajax.\"+h+\".200\",b),k.once(\"snap.ajax.\"+h+\".304\",b));e.onreadystatechange=function(){4==e.readyState&&k(\"snap.ajax.\"+h+\".\"+e.status,m,e)};if(4==e.readyState)return e;e.send(a);return e}};a.load=function(c,b,m){a.ajax(c,function(c){c=a.parse(c.responseText);m?b.call(m,c):b(c)})};a.getElementByPoint=function(c,a){var b,m,e=G.doc.elementFromPoint(c,a);if(G.win.opera&&\"svg\"==e.tagName){b=\n",
       "e;m=b.getBoundingClientRect();b=b.ownerDocument;var h=b.body,d=b.documentElement;b=m.top+(g.win.pageYOffset||d.scrollTop||h.scrollTop)-(d.clientTop||h.clientTop||0);m=m.left+(g.win.pageXOffset||d.scrollLeft||h.scrollLeft)-(d.clientLeft||h.clientLeft||0);h=e.createSVGRect();h.x=c-m;h.y=a-b;h.width=h.height=1;b=e.getIntersectionList(h,null);b.length&&(e=b[b.length-1])}return e?x(e):null};a.plugin=function(c){c(a,e,s,G,l)};return G.win.Snap=a}();C.plugin(function(a,k,y,M,A){function w(a,d,f,b,q,e){null==\n",
       "d&&\"[object SVGMatrix]\"==z.call(a)?(this.a=a.a,this.b=a.b,this.c=a.c,this.d=a.d,this.e=a.e,this.f=a.f):null!=a?(this.a=+a,this.b=+d,this.c=+f,this.d=+b,this.e=+q,this.f=+e):(this.a=1,this.c=this.b=0,this.d=1,this.f=this.e=0)}var z=Object.prototype.toString,d=String,f=Math;(function(n){function k(a){return a[0]*a[0]+a[1]*a[1]}function p(a){var d=f.sqrt(k(a));a[0]&&(a[0]/=d);a[1]&&(a[1]/=d)}n.add=function(a,d,e,f,n,p){var k=[[],[],[] ],u=[[this.a,this.c,this.e],[this.b,this.d,this.f],[0,0,1] ];d=[[a,\n",
       "e,n],[d,f,p],[0,0,1] ];a&&a instanceof w&&(d=[[a.a,a.c,a.e],[a.b,a.d,a.f],[0,0,1] ]);for(a=0;3>a;a++)for(e=0;3>e;e++){for(f=n=0;3>f;f++)n+=u[a][f]*d[f][e];k[a][e]=n}this.a=k[0][0];this.b=k[1][0];this.c=k[0][1];this.d=k[1][1];this.e=k[0][2];this.f=k[1][2];return this};n.invert=function(){var a=this.a*this.d-this.b*this.c;return new w(this.d/a,-this.b/a,-this.c/a,this.a/a,(this.c*this.f-this.d*this.e)/a,(this.b*this.e-this.a*this.f)/a)};n.clone=function(){return new w(this.a,this.b,this.c,this.d,this.e,\n",
       "this.f)};n.translate=function(a,d){return this.add(1,0,0,1,a,d)};n.scale=function(a,d,e,f){null==d&&(d=a);(e||f)&&this.add(1,0,0,1,e,f);this.add(a,0,0,d,0,0);(e||f)&&this.add(1,0,0,1,-e,-f);return this};n.rotate=function(b,d,e){b=a.rad(b);d=d||0;e=e||0;var l=+f.cos(b).toFixed(9);b=+f.sin(b).toFixed(9);this.add(l,b,-b,l,d,e);return this.add(1,0,0,1,-d,-e)};n.x=function(a,d){return a*this.a+d*this.c+this.e};n.y=function(a,d){return a*this.b+d*this.d+this.f};n.get=function(a){return+this[d.fromCharCode(97+\n",
       "a)].toFixed(4)};n.toString=function(){return\"matrix(\"+[this.get(0),this.get(1),this.get(2),this.get(3),this.get(4),this.get(5)].join()+\")\"};n.offset=function(){return[this.e.toFixed(4),this.f.toFixed(4)]};n.determinant=function(){return this.a*this.d-this.b*this.c};n.split=function(){var b={};b.dx=this.e;b.dy=this.f;var d=[[this.a,this.c],[this.b,this.d] ];b.scalex=f.sqrt(k(d[0]));p(d[0]);b.shear=d[0][0]*d[1][0]+d[0][1]*d[1][1];d[1]=[d[1][0]-d[0][0]*b.shear,d[1][1]-d[0][1]*b.shear];b.scaley=f.sqrt(k(d[1]));\n",
       "p(d[1]);b.shear/=b.scaley;0>this.determinant()&&(b.scalex=-b.scalex);var e=-d[0][1],d=d[1][1];0>d?(b.rotate=a.deg(f.acos(d)),0>e&&(b.rotate=360-b.rotate)):b.rotate=a.deg(f.asin(e));b.isSimple=!+b.shear.toFixed(9)&&(b.scalex.toFixed(9)==b.scaley.toFixed(9)||!b.rotate);b.isSuperSimple=!+b.shear.toFixed(9)&&b.scalex.toFixed(9)==b.scaley.toFixed(9)&&!b.rotate;b.noRotation=!+b.shear.toFixed(9)&&!b.rotate;return b};n.toTransformString=function(a){a=a||this.split();if(+a.shear.toFixed(9))return\"m\"+[this.get(0),\n",
       "this.get(1),this.get(2),this.get(3),this.get(4),this.get(5)];a.scalex=+a.scalex.toFixed(4);a.scaley=+a.scaley.toFixed(4);a.rotate=+a.rotate.toFixed(4);return(a.dx||a.dy?\"t\"+[+a.dx.toFixed(4),+a.dy.toFixed(4)]:\"\")+(1!=a.scalex||1!=a.scaley?\"s\"+[a.scalex,a.scaley,0,0]:\"\")+(a.rotate?\"r\"+[+a.rotate.toFixed(4),0,0]:\"\")}})(w.prototype);a.Matrix=w;a.matrix=function(a,d,f,b,k,e){return new w(a,d,f,b,k,e)}});C.plugin(function(a,v,y,M,A){function w(h){return function(d){k.stop();d instanceof A&&1==d.node.childNodes.length&&\n",
       "(\"radialGradient\"==d.node.firstChild.tagName||\"linearGradient\"==d.node.firstChild.tagName||\"pattern\"==d.node.firstChild.tagName)&&(d=d.node.firstChild,b(this).appendChild(d),d=u(d));if(d instanceof v)if(\"radialGradient\"==d.type||\"linearGradient\"==d.type||\"pattern\"==d.type){d.node.id||e(d.node,{id:d.id});var f=l(d.node.id)}else f=d.attr(h);else f=a.color(d),f.error?(f=a(b(this).ownerSVGElement).gradient(d))?(f.node.id||e(f.node,{id:f.id}),f=l(f.node.id)):f=d:f=r(f);d={};d[h]=f;e(this.node,d);this.node.style[h]=\n",
       "x}}function z(a){k.stop();a==+a&&(a+=\"px\");this.node.style.fontSize=a}function d(a){var b=[];a=a.childNodes;for(var e=0,f=a.length;e<f;e++){var l=a[e];3==l.nodeType&&b.push(l.nodeValue);\"tspan\"==l.tagName&&(1==l.childNodes.length&&3==l.firstChild.nodeType?b.push(l.firstChild.nodeValue):b.push(d(l)))}return b}function f(){k.stop();return this.node.style.fontSize}var n=a._.make,u=a._.wrap,p=a.is,b=a._.getSomeDefs,q=/^url\\(#?([^)]+)\\)$/,e=a._.$,l=a.url,r=String,s=a._.separator,x=\"\";k.on(\"snap.util.attr.mask\",\n",
       "function(a){if(a instanceof v||a instanceof A){k.stop();a instanceof A&&1==a.node.childNodes.length&&(a=a.node.firstChild,b(this).appendChild(a),a=u(a));if(\"mask\"==a.type)var d=a;else d=n(\"mask\",b(this)),d.node.appendChild(a.node);!d.node.id&&e(d.node,{id:d.id});e(this.node,{mask:l(d.id)})}});(function(a){k.on(\"snap.util.attr.clip\",a);k.on(\"snap.util.attr.clip-path\",a);k.on(\"snap.util.attr.clipPath\",a)})(function(a){if(a instanceof v||a instanceof A){k.stop();if(\"clipPath\"==a.type)var d=a;else d=\n",
       "n(\"clipPath\",b(this)),d.node.appendChild(a.node),!d.node.id&&e(d.node,{id:d.id});e(this.node,{\"clip-path\":l(d.id)})}});k.on(\"snap.util.attr.fill\",w(\"fill\"));k.on(\"snap.util.attr.stroke\",w(\"stroke\"));var G=/^([lr])(?:\\(([^)]*)\\))?(.*)$/i;k.on(\"snap.util.grad.parse\",function(a){a=r(a);var b=a.match(G);if(!b)return null;a=b[1];var e=b[2],b=b[3],e=e.split(/\\s*,\\s*/).map(function(a){return+a==a?+a:a});1==e.length&&0==e[0]&&(e=[]);b=b.split(\"-\");b=b.map(function(a){a=a.split(\":\");var b={color:a[0]};a[1]&&\n",
       "(b.offset=parseFloat(a[1]));return b});return{type:a,params:e,stops:b}});k.on(\"snap.util.attr.d\",function(b){k.stop();p(b,\"array\")&&p(b[0],\"array\")&&(b=a.path.toString.call(b));b=r(b);b.match(/[ruo]/i)&&(b=a.path.toAbsolute(b));e(this.node,{d:b})})(-1);k.on(\"snap.util.attr.#text\",function(a){k.stop();a=r(a);for(a=M.doc.createTextNode(a);this.node.firstChild;)this.node.removeChild(this.node.firstChild);this.node.appendChild(a)})(-1);k.on(\"snap.util.attr.path\",function(a){k.stop();this.attr({d:a})})(-1);\n",
       "k.on(\"snap.util.attr.class\",function(a){k.stop();this.node.className.baseVal=a})(-1);k.on(\"snap.util.attr.viewBox\",function(a){a=p(a,\"object\")&&\"x\"in a?[a.x,a.y,a.width,a.height].join(\" \"):p(a,\"array\")?a.join(\" \"):a;e(this.node,{viewBox:a});k.stop()})(-1);k.on(\"snap.util.attr.transform\",function(a){this.transform(a);k.stop()})(-1);k.on(\"snap.util.attr.r\",function(a){\"rect\"==this.type&&(k.stop(),e(this.node,{rx:a,ry:a}))})(-1);k.on(\"snap.util.attr.textpath\",function(a){k.stop();if(\"text\"==this.type){var d,\n",
       "f;if(!a&&this.textPath){for(a=this.textPath;a.node.firstChild;)this.node.appendChild(a.node.firstChild);a.remove();delete this.textPath}else if(p(a,\"string\")?(d=b(this),a=u(d.parentNode).path(a),d.appendChild(a.node),d=a.id,a.attr({id:d})):(a=u(a),a instanceof v&&(d=a.attr(\"id\"),d||(d=a.id,a.attr({id:d})))),d)if(a=this.textPath,f=this.node,a)a.attr({\"xlink:href\":\"#\"+d});else{for(a=e(\"textPath\",{\"xlink:href\":\"#\"+d});f.firstChild;)a.appendChild(f.firstChild);f.appendChild(a);this.textPath=u(a)}}})(-1);\n",
       "k.on(\"snap.util.attr.text\",function(a){if(\"text\"==this.type){for(var b=this.node,d=function(a){var b=e(\"tspan\");if(p(a,\"array\"))for(var f=0;f<a.length;f++)b.appendChild(d(a[f]));else b.appendChild(M.doc.createTextNode(a));b.normalize&&b.normalize();return b};b.firstChild;)b.removeChild(b.firstChild);for(a=d(a);a.firstChild;)b.appendChild(a.firstChild)}k.stop()})(-1);k.on(\"snap.util.attr.fontSize\",z)(-1);k.on(\"snap.util.attr.font-size\",z)(-1);k.on(\"snap.util.getattr.transform\",function(){k.stop();\n",
       "return this.transform()})(-1);k.on(\"snap.util.getattr.textpath\",function(){k.stop();return this.textPath})(-1);(function(){function b(d){return function(){k.stop();var b=M.doc.defaultView.getComputedStyle(this.node,null).getPropertyValue(\"marker-\"+d);return\"none\"==b?b:a(M.doc.getElementById(b.match(q)[1]))}}function d(a){return function(b){k.stop();var d=\"marker\"+a.charAt(0).toUpperCase()+a.substring(1);if(\"\"==b||!b)this.node.style[d]=\"none\";else if(\"marker\"==b.type){var f=b.node.id;f||e(b.node,{id:b.id});\n",
       "this.node.style[d]=l(f)}}}k.on(\"snap.util.getattr.marker-end\",b(\"end\"))(-1);k.on(\"snap.util.getattr.markerEnd\",b(\"end\"))(-1);k.on(\"snap.util.getattr.marker-start\",b(\"start\"))(-1);k.on(\"snap.util.getattr.markerStart\",b(\"start\"))(-1);k.on(\"snap.util.getattr.marker-mid\",b(\"mid\"))(-1);k.on(\"snap.util.getattr.markerMid\",b(\"mid\"))(-1);k.on(\"snap.util.attr.marker-end\",d(\"end\"))(-1);k.on(\"snap.util.attr.markerEnd\",d(\"end\"))(-1);k.on(\"snap.util.attr.marker-start\",d(\"start\"))(-1);k.on(\"snap.util.attr.markerStart\",\n",
       "d(\"start\"))(-1);k.on(\"snap.util.attr.marker-mid\",d(\"mid\"))(-1);k.on(\"snap.util.attr.markerMid\",d(\"mid\"))(-1)})();k.on(\"snap.util.getattr.r\",function(){if(\"rect\"==this.type&&e(this.node,\"rx\")==e(this.node,\"ry\"))return k.stop(),e(this.node,\"rx\")})(-1);k.on(\"snap.util.getattr.text\",function(){if(\"text\"==this.type||\"tspan\"==this.type){k.stop();var a=d(this.node);return 1==a.length?a[0]:a}})(-1);k.on(\"snap.util.getattr.#text\",function(){return this.node.textContent})(-1);k.on(\"snap.util.getattr.viewBox\",\n",
       "function(){k.stop();var b=e(this.node,\"viewBox\");if(b)return b=b.split(s),a._.box(+b[0],+b[1],+b[2],+b[3])})(-1);k.on(\"snap.util.getattr.points\",function(){var a=e(this.node,\"points\");k.stop();if(a)return a.split(s)})(-1);k.on(\"snap.util.getattr.path\",function(){var a=e(this.node,\"d\");k.stop();return a})(-1);k.on(\"snap.util.getattr.class\",function(){return this.node.className.baseVal})(-1);k.on(\"snap.util.getattr.fontSize\",f)(-1);k.on(\"snap.util.getattr.font-size\",f)(-1)});C.plugin(function(a,v,y,\n",
       "M,A){function w(a){return a}function z(a){return function(b){return+b.toFixed(3)+a}}var d={\"+\":function(a,b){return a+b},\"-\":function(a,b){return a-b},\"/\":function(a,b){return a/b},\"*\":function(a,b){return a*b}},f=String,n=/[a-z]+$/i,u=/^\\s*([+\\-\\/*])\\s*=\\s*([\\d.eE+\\-]+)\\s*([^\\d\\s]+)?\\s*$/;k.on(\"snap.util.attr\",function(a){if(a=f(a).match(u)){var b=k.nt(),b=b.substring(b.lastIndexOf(\".\")+1),q=this.attr(b),e={};k.stop();var l=a[3]||\"\",r=q.match(n),s=d[a[1] ];r&&r==l?a=s(parseFloat(q),+a[2]):(q=this.asPX(b),\n",
       "a=s(this.asPX(b),this.asPX(b,a[2]+l)));isNaN(q)||isNaN(a)||(e[b]=a,this.attr(e))}})(-10);k.on(\"snap.util.equal\",function(a,b){var q=f(this.attr(a)||\"\"),e=f(b).match(u);if(e){k.stop();var l=e[3]||\"\",r=q.match(n),s=d[e[1] ];if(r&&r==l)return{from:parseFloat(q),to:s(parseFloat(q),+e[2]),f:z(r)};q=this.asPX(a);return{from:q,to:s(q,this.asPX(a,e[2]+l)),f:w}}})(-10)});C.plugin(function(a,v,y,M,A){var w=y.prototype,z=a.is;w.rect=function(a,d,k,p,b,q){var e;null==q&&(q=b);z(a,\"object\")&&\"[object Object]\"==\n",
       "a?e=a:null!=a&&(e={x:a,y:d,width:k,height:p},null!=b&&(e.rx=b,e.ry=q));return this.el(\"rect\",e)};w.circle=function(a,d,k){var p;z(a,\"object\")&&\"[object Object]\"==a?p=a:null!=a&&(p={cx:a,cy:d,r:k});return this.el(\"circle\",p)};var d=function(){function a(){this.parentNode.removeChild(this)}return function(d,k){var p=M.doc.createElement(\"img\"),b=M.doc.body;p.style.cssText=\"position:absolute;left:-9999em;top:-9999em\";p.onload=function(){k.call(p);p.onload=p.onerror=null;b.removeChild(p)};p.onerror=a;\n",
       "b.appendChild(p);p.src=d}}();w.image=function(f,n,k,p,b){var q=this.el(\"image\");if(z(f,\"object\")&&\"src\"in f)q.attr(f);else if(null!=f){var e={\"xlink:href\":f,preserveAspectRatio:\"none\"};null!=n&&null!=k&&(e.x=n,e.y=k);null!=p&&null!=b?(e.width=p,e.height=b):d(f,function(){a._.$(q.node,{width:this.offsetWidth,height:this.offsetHeight})});a._.$(q.node,e)}return q};w.ellipse=function(a,d,k,p){var b;z(a,\"object\")&&\"[object Object]\"==a?b=a:null!=a&&(b={cx:a,cy:d,rx:k,ry:p});return this.el(\"ellipse\",b)};\n",
       "w.path=function(a){var d;z(a,\"object\")&&!z(a,\"array\")?d=a:a&&(d={d:a});return this.el(\"path\",d)};w.group=w.g=function(a){var d=this.el(\"g\");1==arguments.length&&a&&!a.type?d.attr(a):arguments.length&&d.add(Array.prototype.slice.call(arguments,0));return d};w.svg=function(a,d,k,p,b,q,e,l){var r={};z(a,\"object\")&&null==d?r=a:(null!=a&&(r.x=a),null!=d&&(r.y=d),null!=k&&(r.width=k),null!=p&&(r.height=p),null!=b&&null!=q&&null!=e&&null!=l&&(r.viewBox=[b,q,e,l]));return this.el(\"svg\",r)};w.mask=function(a){var d=\n",
       "this.el(\"mask\");1==arguments.length&&a&&!a.type?d.attr(a):arguments.length&&d.add(Array.prototype.slice.call(arguments,0));return d};w.ptrn=function(a,d,k,p,b,q,e,l){if(z(a,\"object\"))var r=a;else arguments.length?(r={},null!=a&&(r.x=a),null!=d&&(r.y=d),null!=k&&(r.width=k),null!=p&&(r.height=p),null!=b&&null!=q&&null!=e&&null!=l&&(r.viewBox=[b,q,e,l])):r={patternUnits:\"userSpaceOnUse\"};return this.el(\"pattern\",r)};w.use=function(a){return null!=a?(make(\"use\",this.node),a instanceof v&&(a.attr(\"id\")||\n",
       "a.attr({id:ID()}),a=a.attr(\"id\")),this.el(\"use\",{\"xlink:href\":a})):v.prototype.use.call(this)};w.text=function(a,d,k){var p={};z(a,\"object\")?p=a:null!=a&&(p={x:a,y:d,text:k||\"\"});return this.el(\"text\",p)};w.line=function(a,d,k,p){var b={};z(a,\"object\")?b=a:null!=a&&(b={x1:a,x2:k,y1:d,y2:p});return this.el(\"line\",b)};w.polyline=function(a){1<arguments.length&&(a=Array.prototype.slice.call(arguments,0));var d={};z(a,\"object\")&&!z(a,\"array\")?d=a:null!=a&&(d={points:a});return this.el(\"polyline\",d)};\n",
       "w.polygon=function(a){1<arguments.length&&(a=Array.prototype.slice.call(arguments,0));var d={};z(a,\"object\")&&!z(a,\"array\")?d=a:null!=a&&(d={points:a});return this.el(\"polygon\",d)};(function(){function d(){return this.selectAll(\"stop\")}function n(b,d){var f=e(\"stop\"),k={offset:+d+\"%\"};b=a.color(b);k[\"stop-color\"]=b.hex;1>b.opacity&&(k[\"stop-opacity\"]=b.opacity);e(f,k);this.node.appendChild(f);return this}function u(){if(\"linearGradient\"==this.type){var b=e(this.node,\"x1\")||0,d=e(this.node,\"x2\")||\n",
       "1,f=e(this.node,\"y1\")||0,k=e(this.node,\"y2\")||0;return a._.box(b,f,math.abs(d-b),math.abs(k-f))}b=this.node.r||0;return a._.box((this.node.cx||0.5)-b,(this.node.cy||0.5)-b,2*b,2*b)}function p(a,d){function f(a,b){for(var d=(b-u)/(a-w),e=w;e<a;e++)h[e].offset=+(+u+d*(e-w)).toFixed(2);w=a;u=b}var n=k(\"snap.util.grad.parse\",null,d).firstDefined(),p;if(!n)return null;n.params.unshift(a);p=\"l\"==n.type.toLowerCase()?b.apply(0,n.params):q.apply(0,n.params);n.type!=n.type.toLowerCase()&&e(p.node,{gradientUnits:\"userSpaceOnUse\"});\n",
       "var h=n.stops,n=h.length,u=0,w=0;n--;for(var v=0;v<n;v++)\"offset\"in h[v]&&f(v,h[v].offset);h[n].offset=h[n].offset||100;f(n,h[n].offset);for(v=0;v<=n;v++){var y=h[v];p.addStop(y.color,y.offset)}return p}function b(b,k,p,q,w){b=a._.make(\"linearGradient\",b);b.stops=d;b.addStop=n;b.getBBox=u;null!=k&&e(b.node,{x1:k,y1:p,x2:q,y2:w});return b}function q(b,k,p,q,w,h){b=a._.make(\"radialGradient\",b);b.stops=d;b.addStop=n;b.getBBox=u;null!=k&&e(b.node,{cx:k,cy:p,r:q});null!=w&&null!=h&&e(b.node,{fx:w,fy:h});\n",
       "return b}var e=a._.$;w.gradient=function(a){return p(this.defs,a)};w.gradientLinear=function(a,d,e,f){return b(this.defs,a,d,e,f)};w.gradientRadial=function(a,b,d,e,f){return q(this.defs,a,b,d,e,f)};w.toString=function(){var b=this.node.ownerDocument,d=b.createDocumentFragment(),b=b.createElement(\"div\"),e=this.node.cloneNode(!0);d.appendChild(b);b.appendChild(e);a._.$(e,{xmlns:\"http://www.w3.org/2000/svg\"});b=b.innerHTML;d.removeChild(d.firstChild);return b};w.clear=function(){for(var a=this.node.firstChild,\n",
       "b;a;)b=a.nextSibling,\"defs\"!=a.tagName?a.parentNode.removeChild(a):w.clear.call({node:a}),a=b}})()});C.plugin(function(a,k,y,M){function A(a){var b=A.ps=A.ps||{};b[a]?b[a].sleep=100:b[a]={sleep:100};setTimeout(function(){for(var d in b)b[L](d)&&d!=a&&(b[d].sleep--,!b[d].sleep&&delete b[d])});return b[a]}function w(a,b,d,e){null==a&&(a=b=d=e=0);null==b&&(b=a.y,d=a.width,e=a.height,a=a.x);return{x:a,y:b,width:d,w:d,height:e,h:e,x2:a+d,y2:b+e,cx:a+d/2,cy:b+e/2,r1:F.min(d,e)/2,r2:F.max(d,e)/2,r0:F.sqrt(d*\n",
       "d+e*e)/2,path:s(a,b,d,e),vb:[a,b,d,e].join(\" \")}}function z(){return this.join(\",\").replace(N,\"$1\")}function d(a){a=C(a);a.toString=z;return a}function f(a,b,d,h,f,k,l,n,p){if(null==p)return e(a,b,d,h,f,k,l,n);if(0>p||e(a,b,d,h,f,k,l,n)<p)p=void 0;else{var q=0.5,O=1-q,s;for(s=e(a,b,d,h,f,k,l,n,O);0.01<Z(s-p);)q/=2,O+=(s<p?1:-1)*q,s=e(a,b,d,h,f,k,l,n,O);p=O}return u(a,b,d,h,f,k,l,n,p)}function n(b,d){function e(a){return+(+a).toFixed(3)}return a._.cacher(function(a,h,l){a instanceof k&&(a=a.attr(\"d\"));\n",
       "a=I(a);for(var n,p,D,q,O=\"\",s={},c=0,t=0,r=a.length;t<r;t++){D=a[t];if(\"M\"==D[0])n=+D[1],p=+D[2];else{q=f(n,p,D[1],D[2],D[3],D[4],D[5],D[6]);if(c+q>h){if(d&&!s.start){n=f(n,p,D[1],D[2],D[3],D[4],D[5],D[6],h-c);O+=[\"C\"+e(n.start.x),e(n.start.y),e(n.m.x),e(n.m.y),e(n.x),e(n.y)];if(l)return O;s.start=O;O=[\"M\"+e(n.x),e(n.y)+\"C\"+e(n.n.x),e(n.n.y),e(n.end.x),e(n.end.y),e(D[5]),e(D[6])].join();c+=q;n=+D[5];p=+D[6];continue}if(!b&&!d)return n=f(n,p,D[1],D[2],D[3],D[4],D[5],D[6],h-c)}c+=q;n=+D[5];p=+D[6]}O+=\n",
       "D.shift()+D}s.end=O;return n=b?c:d?s:u(n,p,D[0],D[1],D[2],D[3],D[4],D[5],1)},null,a._.clone)}function u(a,b,d,e,h,f,k,l,n){var p=1-n,q=ma(p,3),s=ma(p,2),c=n*n,t=c*n,r=q*a+3*s*n*d+3*p*n*n*h+t*k,q=q*b+3*s*n*e+3*p*n*n*f+t*l,s=a+2*n*(d-a)+c*(h-2*d+a),t=b+2*n*(e-b)+c*(f-2*e+b),x=d+2*n*(h-d)+c*(k-2*h+d),c=e+2*n*(f-e)+c*(l-2*f+e);a=p*a+n*d;b=p*b+n*e;h=p*h+n*k;f=p*f+n*l;l=90-180*F.atan2(s-x,t-c)/S;return{x:r,y:q,m:{x:s,y:t},n:{x:x,y:c},start:{x:a,y:b},end:{x:h,y:f},alpha:l}}function p(b,d,e,h,f,n,k,l){a.is(b,\n",
       "\"array\")||(b=[b,d,e,h,f,n,k,l]);b=U.apply(null,b);return w(b.min.x,b.min.y,b.max.x-b.min.x,b.max.y-b.min.y)}function b(a,b,d){return b>=a.x&&b<=a.x+a.width&&d>=a.y&&d<=a.y+a.height}function q(a,d){a=w(a);d=w(d);return b(d,a.x,a.y)||b(d,a.x2,a.y)||b(d,a.x,a.y2)||b(d,a.x2,a.y2)||b(a,d.x,d.y)||b(a,d.x2,d.y)||b(a,d.x,d.y2)||b(a,d.x2,d.y2)||(a.x<d.x2&&a.x>d.x||d.x<a.x2&&d.x>a.x)&&(a.y<d.y2&&a.y>d.y||d.y<a.y2&&d.y>a.y)}function e(a,b,d,e,h,f,n,k,l){null==l&&(l=1);l=(1<l?1:0>l?0:l)/2;for(var p=[-0.1252,\n",
       "0.1252,-0.3678,0.3678,-0.5873,0.5873,-0.7699,0.7699,-0.9041,0.9041,-0.9816,0.9816],q=[0.2491,0.2491,0.2335,0.2335,0.2032,0.2032,0.1601,0.1601,0.1069,0.1069,0.0472,0.0472],s=0,c=0;12>c;c++)var t=l*p[c]+l,r=t*(t*(-3*a+9*d-9*h+3*n)+6*a-12*d+6*h)-3*a+3*d,t=t*(t*(-3*b+9*e-9*f+3*k)+6*b-12*e+6*f)-3*b+3*e,s=s+q[c]*F.sqrt(r*r+t*t);return l*s}function l(a,b,d){a=I(a);b=I(b);for(var h,f,l,n,k,s,r,O,x,c,t=d?0:[],w=0,v=a.length;w<v;w++)if(x=a[w],\"M\"==x[0])h=k=x[1],f=s=x[2];else{\"C\"==x[0]?(x=[h,f].concat(x.slice(1)),\n",
       "h=x[6],f=x[7]):(x=[h,f,h,f,k,s,k,s],h=k,f=s);for(var G=0,y=b.length;G<y;G++)if(c=b[G],\"M\"==c[0])l=r=c[1],n=O=c[2];else{\"C\"==c[0]?(c=[l,n].concat(c.slice(1)),l=c[6],n=c[7]):(c=[l,n,l,n,r,O,r,O],l=r,n=O);var z;var K=x,B=c;z=d;var H=p(K),J=p(B);if(q(H,J)){for(var H=e.apply(0,K),J=e.apply(0,B),H=~~(H/8),J=~~(J/8),U=[],A=[],F={},M=z?0:[],P=0;P<H+1;P++){var C=u.apply(0,K.concat(P/H));U.push({x:C.x,y:C.y,t:P/H})}for(P=0;P<J+1;P++)C=u.apply(0,B.concat(P/J)),A.push({x:C.x,y:C.y,t:P/J});for(P=0;P<H;P++)for(K=\n",
       "0;K<J;K++){var Q=U[P],L=U[P+1],B=A[K],C=A[K+1],N=0.001>Z(L.x-Q.x)?\"y\":\"x\",S=0.001>Z(C.x-B.x)?\"y\":\"x\",R;R=Q.x;var Y=Q.y,V=L.x,ea=L.y,fa=B.x,ga=B.y,ha=C.x,ia=C.y;if(W(R,V)<X(fa,ha)||X(R,V)>W(fa,ha)||W(Y,ea)<X(ga,ia)||X(Y,ea)>W(ga,ia))R=void 0;else{var $=(R*ea-Y*V)*(fa-ha)-(R-V)*(fa*ia-ga*ha),aa=(R*ea-Y*V)*(ga-ia)-(Y-ea)*(fa*ia-ga*ha),ja=(R-V)*(ga-ia)-(Y-ea)*(fa-ha);if(ja){var $=$/ja,aa=aa/ja,ja=+$.toFixed(2),ba=+aa.toFixed(2);R=ja<+X(R,V).toFixed(2)||ja>+W(R,V).toFixed(2)||ja<+X(fa,ha).toFixed(2)||\n",
       "ja>+W(fa,ha).toFixed(2)||ba<+X(Y,ea).toFixed(2)||ba>+W(Y,ea).toFixed(2)||ba<+X(ga,ia).toFixed(2)||ba>+W(ga,ia).toFixed(2)?void 0:{x:$,y:aa}}else R=void 0}R&&F[R.x.toFixed(4)]!=R.y.toFixed(4)&&(F[R.x.toFixed(4)]=R.y.toFixed(4),Q=Q.t+Z((R[N]-Q[N])/(L[N]-Q[N]))*(L.t-Q.t),B=B.t+Z((R[S]-B[S])/(C[S]-B[S]))*(C.t-B.t),0<=Q&&1>=Q&&0<=B&&1>=B&&(z?M++:M.push({x:R.x,y:R.y,t1:Q,t2:B})))}z=M}else z=z?0:[];if(d)t+=z;else{H=0;for(J=z.length;H<J;H++)z[H].segment1=w,z[H].segment2=G,z[H].bez1=x,z[H].bez2=c;t=t.concat(z)}}}return t}\n",
       "function r(a){var b=A(a);if(b.bbox)return C(b.bbox);if(!a)return w();a=I(a);for(var d=0,e=0,h=[],f=[],l,n=0,k=a.length;n<k;n++)l=a[n],\"M\"==l[0]?(d=l[1],e=l[2],h.push(d),f.push(e)):(d=U(d,e,l[1],l[2],l[3],l[4],l[5],l[6]),h=h.concat(d.min.x,d.max.x),f=f.concat(d.min.y,d.max.y),d=l[5],e=l[6]);a=X.apply(0,h);l=X.apply(0,f);h=W.apply(0,h);f=W.apply(0,f);f=w(a,l,h-a,f-l);b.bbox=C(f);return f}function s(a,b,d,e,h){if(h)return[[\"M\",+a+ +h,b],[\"l\",d-2*h,0],[\"a\",h,h,0,0,1,h,h],[\"l\",0,e-2*h],[\"a\",h,h,0,0,1,\n",
       "-h,h],[\"l\",2*h-d,0],[\"a\",h,h,0,0,1,-h,-h],[\"l\",0,2*h-e],[\"a\",h,h,0,0,1,h,-h],[\"z\"] ];a=[[\"M\",a,b],[\"l\",d,0],[\"l\",0,e],[\"l\",-d,0],[\"z\"] ];a.toString=z;return a}function x(a,b,d,e,h){null==h&&null==e&&(e=d);a=+a;b=+b;d=+d;e=+e;if(null!=h){var f=Math.PI/180,l=a+d*Math.cos(-e*f);a+=d*Math.cos(-h*f);var n=b+d*Math.sin(-e*f);b+=d*Math.sin(-h*f);d=[[\"M\",l,n],[\"A\",d,d,0,+(180<h-e),0,a,b] ]}else d=[[\"M\",a,b],[\"m\",0,-e],[\"a\",d,e,0,1,1,0,2*e],[\"a\",d,e,0,1,1,0,-2*e],[\"z\"] ];d.toString=z;return d}function G(b){var e=\n",
       "A(b);if(e.abs)return d(e.abs);Q(b,\"array\")&&Q(b&&b[0],\"array\")||(b=a.parsePathString(b));if(!b||!b.length)return[[\"M\",0,0] ];var h=[],f=0,l=0,n=0,k=0,p=0;\"M\"==b[0][0]&&(f=+b[0][1],l=+b[0][2],n=f,k=l,p++,h[0]=[\"M\",f,l]);for(var q=3==b.length&&\"M\"==b[0][0]&&\"R\"==b[1][0].toUpperCase()&&\"Z\"==b[2][0].toUpperCase(),s,r,w=p,c=b.length;w<c;w++){h.push(s=[]);r=b[w];p=r[0];if(p!=p.toUpperCase())switch(s[0]=p.toUpperCase(),s[0]){case \"A\":s[1]=r[1];s[2]=r[2];s[3]=r[3];s[4]=r[4];s[5]=r[5];s[6]=+r[6]+f;s[7]=+r[7]+\n",
       "l;break;case \"V\":s[1]=+r[1]+l;break;case \"H\":s[1]=+r[1]+f;break;case \"R\":for(var t=[f,l].concat(r.slice(1)),u=2,v=t.length;u<v;u++)t[u]=+t[u]+f,t[++u]=+t[u]+l;h.pop();h=h.concat(P(t,q));break;case \"O\":h.pop();t=x(f,l,r[1],r[2]);t.push(t[0]);h=h.concat(t);break;case \"U\":h.pop();h=h.concat(x(f,l,r[1],r[2],r[3]));s=[\"U\"].concat(h[h.length-1].slice(-2));break;case \"M\":n=+r[1]+f,k=+r[2]+l;default:for(u=1,v=r.length;u<v;u++)s[u]=+r[u]+(u%2?f:l)}else if(\"R\"==p)t=[f,l].concat(r.slice(1)),h.pop(),h=h.concat(P(t,\n",
       "q)),s=[\"R\"].concat(r.slice(-2));else if(\"O\"==p)h.pop(),t=x(f,l,r[1],r[2]),t.push(t[0]),h=h.concat(t);else if(\"U\"==p)h.pop(),h=h.concat(x(f,l,r[1],r[2],r[3])),s=[\"U\"].concat(h[h.length-1].slice(-2));else for(t=0,u=r.length;t<u;t++)s[t]=r[t];p=p.toUpperCase();if(\"O\"!=p)switch(s[0]){case \"Z\":f=+n;l=+k;break;case \"H\":f=s[1];break;case \"V\":l=s[1];break;case \"M\":n=s[s.length-2],k=s[s.length-1];default:f=s[s.length-2],l=s[s.length-1]}}h.toString=z;e.abs=d(h);return h}function h(a,b,d,e){return[a,b,d,e,d,\n",
       "e]}function J(a,b,d,e,h,f){var l=1/3,n=2/3;return[l*a+n*d,l*b+n*e,l*h+n*d,l*f+n*e,h,f]}function K(b,d,e,h,f,l,n,k,p,s){var r=120*S/180,q=S/180*(+f||0),c=[],t,x=a._.cacher(function(a,b,c){var d=a*F.cos(c)-b*F.sin(c);a=a*F.sin(c)+b*F.cos(c);return{x:d,y:a}});if(s)v=s[0],t=s[1],l=s[2],u=s[3];else{t=x(b,d,-q);b=t.x;d=t.y;t=x(k,p,-q);k=t.x;p=t.y;F.cos(S/180*f);F.sin(S/180*f);t=(b-k)/2;v=(d-p)/2;u=t*t/(e*e)+v*v/(h*h);1<u&&(u=F.sqrt(u),e*=u,h*=u);var u=e*e,w=h*h,u=(l==n?-1:1)*F.sqrt(Z((u*w-u*v*v-w*t*t)/\n",
       "(u*v*v+w*t*t)));l=u*e*v/h+(b+k)/2;var u=u*-h*t/e+(d+p)/2,v=F.asin(((d-u)/h).toFixed(9));t=F.asin(((p-u)/h).toFixed(9));v=b<l?S-v:v;t=k<l?S-t:t;0>v&&(v=2*S+v);0>t&&(t=2*S+t);n&&v>t&&(v-=2*S);!n&&t>v&&(t-=2*S)}if(Z(t-v)>r){var c=t,w=k,G=p;t=v+r*(n&&t>v?1:-1);k=l+e*F.cos(t);p=u+h*F.sin(t);c=K(k,p,e,h,f,0,n,w,G,[t,c,l,u])}l=t-v;f=F.cos(v);r=F.sin(v);n=F.cos(t);t=F.sin(t);l=F.tan(l/4);e=4/3*e*l;l*=4/3*h;h=[b,d];b=[b+e*r,d-l*f];d=[k+e*t,p-l*n];k=[k,p];b[0]=2*h[0]-b[0];b[1]=2*h[1]-b[1];if(s)return[b,d,k].concat(c);\n",
       "c=[b,d,k].concat(c).join().split(\",\");s=[];k=0;for(p=c.length;k<p;k++)s[k]=k%2?x(c[k-1],c[k],q).y:x(c[k],c[k+1],q).x;return s}function U(a,b,d,e,h,f,l,k){for(var n=[],p=[[],[] ],s,r,c,t,q=0;2>q;++q)0==q?(r=6*a-12*d+6*h,s=-3*a+9*d-9*h+3*l,c=3*d-3*a):(r=6*b-12*e+6*f,s=-3*b+9*e-9*f+3*k,c=3*e-3*b),1E-12>Z(s)?1E-12>Z(r)||(s=-c/r,0<s&&1>s&&n.push(s)):(t=r*r-4*c*s,c=F.sqrt(t),0>t||(t=(-r+c)/(2*s),0<t&&1>t&&n.push(t),s=(-r-c)/(2*s),0<s&&1>s&&n.push(s)));for(r=q=n.length;q--;)s=n[q],c=1-s,p[0][q]=c*c*c*a+3*\n",
       "c*c*s*d+3*c*s*s*h+s*s*s*l,p[1][q]=c*c*c*b+3*c*c*s*e+3*c*s*s*f+s*s*s*k;p[0][r]=a;p[1][r]=b;p[0][r+1]=l;p[1][r+1]=k;p[0].length=p[1].length=r+2;return{min:{x:X.apply(0,p[0]),y:X.apply(0,p[1])},max:{x:W.apply(0,p[0]),y:W.apply(0,p[1])}}}function I(a,b){var e=!b&&A(a);if(!b&&e.curve)return d(e.curve);var f=G(a),l=b&&G(b),n={x:0,y:0,bx:0,by:0,X:0,Y:0,qx:null,qy:null},k={x:0,y:0,bx:0,by:0,X:0,Y:0,qx:null,qy:null},p=function(a,b,c){if(!a)return[\"C\",b.x,b.y,b.x,b.y,b.x,b.y];a[0]in{T:1,Q:1}||(b.qx=b.qy=null);\n",
       "switch(a[0]){case \"M\":b.X=a[1];b.Y=a[2];break;case \"A\":a=[\"C\"].concat(K.apply(0,[b.x,b.y].concat(a.slice(1))));break;case \"S\":\"C\"==c||\"S\"==c?(c=2*b.x-b.bx,b=2*b.y-b.by):(c=b.x,b=b.y);a=[\"C\",c,b].concat(a.slice(1));break;case \"T\":\"Q\"==c||\"T\"==c?(b.qx=2*b.x-b.qx,b.qy=2*b.y-b.qy):(b.qx=b.x,b.qy=b.y);a=[\"C\"].concat(J(b.x,b.y,b.qx,b.qy,a[1],a[2]));break;case \"Q\":b.qx=a[1];b.qy=a[2];a=[\"C\"].concat(J(b.x,b.y,a[1],a[2],a[3],a[4]));break;case \"L\":a=[\"C\"].concat(h(b.x,b.y,a[1],a[2]));break;case \"H\":a=[\"C\"].concat(h(b.x,\n",
       "b.y,a[1],b.y));break;case \"V\":a=[\"C\"].concat(h(b.x,b.y,b.x,a[1]));break;case \"Z\":a=[\"C\"].concat(h(b.x,b.y,b.X,b.Y))}return a},s=function(a,b){if(7<a[b].length){a[b].shift();for(var c=a[b];c.length;)q[b]=\"A\",l&&(u[b]=\"A\"),a.splice(b++,0,[\"C\"].concat(c.splice(0,6)));a.splice(b,1);v=W(f.length,l&&l.length||0)}},r=function(a,b,c,d,e){a&&b&&\"M\"==a[e][0]&&\"M\"!=b[e][0]&&(b.splice(e,0,[\"M\",d.x,d.y]),c.bx=0,c.by=0,c.x=a[e][1],c.y=a[e][2],v=W(f.length,l&&l.length||0))},q=[],u=[],c=\"\",t=\"\",x=0,v=W(f.length,\n",
       "l&&l.length||0);for(;x<v;x++){f[x]&&(c=f[x][0]);\"C\"!=c&&(q[x]=c,x&&(t=q[x-1]));f[x]=p(f[x],n,t);\"A\"!=q[x]&&\"C\"==c&&(q[x]=\"C\");s(f,x);l&&(l[x]&&(c=l[x][0]),\"C\"!=c&&(u[x]=c,x&&(t=u[x-1])),l[x]=p(l[x],k,t),\"A\"!=u[x]&&\"C\"==c&&(u[x]=\"C\"),s(l,x));r(f,l,n,k,x);r(l,f,k,n,x);var w=f[x],z=l&&l[x],y=w.length,U=l&&z.length;n.x=w[y-2];n.y=w[y-1];n.bx=$(w[y-4])||n.x;n.by=$(w[y-3])||n.y;k.bx=l&&($(z[U-4])||k.x);k.by=l&&($(z[U-3])||k.y);k.x=l&&z[U-2];k.y=l&&z[U-1]}l||(e.curve=d(f));return l?[f,l]:f}function P(a,\n",
       "b){for(var d=[],e=0,h=a.length;h-2*!b>e;e+=2){var f=[{x:+a[e-2],y:+a[e-1]},{x:+a[e],y:+a[e+1]},{x:+a[e+2],y:+a[e+3]},{x:+a[e+4],y:+a[e+5]}];b?e?h-4==e?f[3]={x:+a[0],y:+a[1]}:h-2==e&&(f[2]={x:+a[0],y:+a[1]},f[3]={x:+a[2],y:+a[3]}):f[0]={x:+a[h-2],y:+a[h-1]}:h-4==e?f[3]=f[2]:e||(f[0]={x:+a[e],y:+a[e+1]});d.push([\"C\",(-f[0].x+6*f[1].x+f[2].x)/6,(-f[0].y+6*f[1].y+f[2].y)/6,(f[1].x+6*f[2].x-f[3].x)/6,(f[1].y+6*f[2].y-f[3].y)/6,f[2].x,f[2].y])}return d}y=k.prototype;var Q=a.is,C=a._.clone,L=\"hasOwnProperty\",\n",
       "N=/,?([a-z]),?/gi,$=parseFloat,F=Math,S=F.PI,X=F.min,W=F.max,ma=F.pow,Z=F.abs;M=n(1);var na=n(),ba=n(0,1),V=a._unit2px;a.path=A;a.path.getTotalLength=M;a.path.getPointAtLength=na;a.path.getSubpath=function(a,b,d){if(1E-6>this.getTotalLength(a)-d)return ba(a,b).end;a=ba(a,d,1);return b?ba(a,b).end:a};y.getTotalLength=function(){if(this.node.getTotalLength)return this.node.getTotalLength()};y.getPointAtLength=function(a){return na(this.attr(\"d\"),a)};y.getSubpath=function(b,d){return a.path.getSubpath(this.attr(\"d\"),\n",
       "b,d)};a._.box=w;a.path.findDotsAtSegment=u;a.path.bezierBBox=p;a.path.isPointInsideBBox=b;a.path.isBBoxIntersect=q;a.path.intersection=function(a,b){return l(a,b)};a.path.intersectionNumber=function(a,b){return l(a,b,1)};a.path.isPointInside=function(a,d,e){var h=r(a);return b(h,d,e)&&1==l(a,[[\"M\",d,e],[\"H\",h.x2+10] ],1)%2};a.path.getBBox=r;a.path.get={path:function(a){return a.attr(\"path\")},circle:function(a){a=V(a);return x(a.cx,a.cy,a.r)},ellipse:function(a){a=V(a);return x(a.cx||0,a.cy||0,a.rx,\n",
       "a.ry)},rect:function(a){a=V(a);return s(a.x||0,a.y||0,a.width,a.height,a.rx,a.ry)},image:function(a){a=V(a);return s(a.x||0,a.y||0,a.width,a.height)},line:function(a){return\"M\"+[a.attr(\"x1\")||0,a.attr(\"y1\")||0,a.attr(\"x2\"),a.attr(\"y2\")]},polyline:function(a){return\"M\"+a.attr(\"points\")},polygon:function(a){return\"M\"+a.attr(\"points\")+\"z\"},deflt:function(a){a=a.node.getBBox();return s(a.x,a.y,a.width,a.height)}};a.path.toRelative=function(b){var e=A(b),h=String.prototype.toLowerCase;if(e.rel)return d(e.rel);\n",
       "a.is(b,\"array\")&&a.is(b&&b[0],\"array\")||(b=a.parsePathString(b));var f=[],l=0,n=0,k=0,p=0,s=0;\"M\"==b[0][0]&&(l=b[0][1],n=b[0][2],k=l,p=n,s++,f.push([\"M\",l,n]));for(var r=b.length;s<r;s++){var q=f[s]=[],x=b[s];if(x[0]!=h.call(x[0]))switch(q[0]=h.call(x[0]),q[0]){case \"a\":q[1]=x[1];q[2]=x[2];q[3]=x[3];q[4]=x[4];q[5]=x[5];q[6]=+(x[6]-l).toFixed(3);q[7]=+(x[7]-n).toFixed(3);break;case \"v\":q[1]=+(x[1]-n).toFixed(3);break;case \"m\":k=x[1],p=x[2];default:for(var c=1,t=x.length;c<t;c++)q[c]=+(x[c]-(c%2?l:\n",
       "n)).toFixed(3)}else for(f[s]=[],\"m\"==x[0]&&(k=x[1]+l,p=x[2]+n),q=0,c=x.length;q<c;q++)f[s][q]=x[q];x=f[s].length;switch(f[s][0]){case \"z\":l=k;n=p;break;case \"h\":l+=+f[s][x-1];break;case \"v\":n+=+f[s][x-1];break;default:l+=+f[s][x-2],n+=+f[s][x-1]}}f.toString=z;e.rel=d(f);return f};a.path.toAbsolute=G;a.path.toCubic=I;a.path.map=function(a,b){if(!b)return a;var d,e,h,f,l,n,k;a=I(a);h=0;for(l=a.length;h<l;h++)for(k=a[h],f=1,n=k.length;f<n;f+=2)d=b.x(k[f],k[f+1]),e=b.y(k[f],k[f+1]),k[f]=d,k[f+1]=e;return a};\n",
       "a.path.toString=z;a.path.clone=d});C.plugin(function(a,v,y,C){var A=Math.max,w=Math.min,z=function(a){this.items=[];this.bindings={};this.length=0;this.type=\"set\";if(a)for(var f=0,n=a.length;f<n;f++)a[f]&&(this[this.items.length]=this.items[this.items.length]=a[f],this.length++)};v=z.prototype;v.push=function(){for(var a,f,n=0,k=arguments.length;n<k;n++)if(a=arguments[n])f=this.items.length,this[f]=this.items[f]=a,this.length++;return this};v.pop=function(){this.length&&delete this[this.length--];\n",
       "return this.items.pop()};v.forEach=function(a,f){for(var n=0,k=this.items.length;n<k&&!1!==a.call(f,this.items[n],n);n++);return this};v.animate=function(d,f,n,u){\"function\"!=typeof n||n.length||(u=n,n=L.linear);d instanceof a._.Animation&&(u=d.callback,n=d.easing,f=n.dur,d=d.attr);var p=arguments;if(a.is(d,\"array\")&&a.is(p[p.length-1],\"array\"))var b=!0;var q,e=function(){q?this.b=q:q=this.b},l=0,r=u&&function(){l++==this.length&&u.call(this)};return this.forEach(function(a,l){k.once(\"snap.animcreated.\"+\n",
       "a.id,e);b?p[l]&&a.animate.apply(a,p[l]):a.animate(d,f,n,r)})};v.remove=function(){for(;this.length;)this.pop().remove();return this};v.bind=function(a,f,k){var u={};if(\"function\"==typeof f)this.bindings[a]=f;else{var p=k||a;this.bindings[a]=function(a){u[p]=a;f.attr(u)}}return this};v.attr=function(a){var f={},k;for(k in a)if(this.bindings[k])this.bindings[k](a[k]);else f[k]=a[k];a=0;for(k=this.items.length;a<k;a++)this.items[a].attr(f);return this};v.clear=function(){for(;this.length;)this.pop()};\n",
       "v.splice=function(a,f,k){a=0>a?A(this.length+a,0):a;f=A(0,w(this.length-a,f));var u=[],p=[],b=[],q;for(q=2;q<arguments.length;q++)b.push(arguments[q]);for(q=0;q<f;q++)p.push(this[a+q]);for(;q<this.length-a;q++)u.push(this[a+q]);var e=b.length;for(q=0;q<e+u.length;q++)this.items[a+q]=this[a+q]=q<e?b[q]:u[q-e];for(q=this.items.length=this.length-=f-e;this[q];)delete this[q++];return new z(p)};v.exclude=function(a){for(var f=0,k=this.length;f<k;f++)if(this[f]==a)return this.splice(f,1),!0;return!1};\n",
       "v.insertAfter=function(a){for(var f=this.items.length;f--;)this.items[f].insertAfter(a);return this};v.getBBox=function(){for(var a=[],f=[],k=[],u=[],p=this.items.length;p--;)if(!this.items[p].removed){var b=this.items[p].getBBox();a.push(b.x);f.push(b.y);k.push(b.x+b.width);u.push(b.y+b.height)}a=w.apply(0,a);f=w.apply(0,f);k=A.apply(0,k);u=A.apply(0,u);return{x:a,y:f,x2:k,y2:u,width:k-a,height:u-f,cx:a+(k-a)/2,cy:f+(u-f)/2}};v.clone=function(a){a=new z;for(var f=0,k=this.items.length;f<k;f++)a.push(this.items[f].clone());\n",
       "return a};v.toString=function(){return\"Snap\\u2018s set\"};v.type=\"set\";a.set=function(){var a=new z;arguments.length&&a.push.apply(a,Array.prototype.slice.call(arguments,0));return a}});C.plugin(function(a,v,y,C){function A(a){var b=a[0];switch(b.toLowerCase()){case \"t\":return[b,0,0];case \"m\":return[b,1,0,0,1,0,0];case \"r\":return 4==a.length?[b,0,a[2],a[3] ]:[b,0];case \"s\":return 5==a.length?[b,1,1,a[3],a[4] ]:3==a.length?[b,1,1]:[b,1]}}function w(b,d,f){d=q(d).replace(/\\.{3}|\\u2026/g,b);b=a.parseTransformString(b)||\n",
       "[];d=a.parseTransformString(d)||[];for(var k=Math.max(b.length,d.length),p=[],v=[],h=0,w,z,y,I;h<k;h++){y=b[h]||A(d[h]);I=d[h]||A(y);if(y[0]!=I[0]||\"r\"==y[0].toLowerCase()&&(y[2]!=I[2]||y[3]!=I[3])||\"s\"==y[0].toLowerCase()&&(y[3]!=I[3]||y[4]!=I[4])){b=a._.transform2matrix(b,f());d=a._.transform2matrix(d,f());p=[[\"m\",b.a,b.b,b.c,b.d,b.e,b.f] ];v=[[\"m\",d.a,d.b,d.c,d.d,d.e,d.f] ];break}p[h]=[];v[h]=[];w=0;for(z=Math.max(y.length,I.length);w<z;w++)w in y&&(p[h][w]=y[w]),w in I&&(v[h][w]=I[w])}return{from:u(p),\n",
       "to:u(v),f:n(p)}}function z(a){return a}function d(a){return function(b){return+b.toFixed(3)+a}}function f(b){return a.rgb(b[0],b[1],b[2])}function n(a){var b=0,d,f,k,n,h,p,q=[];d=0;for(f=a.length;d<f;d++){h=\"[\";p=['\"'+a[d][0]+'\"'];k=1;for(n=a[d].length;k<n;k++)p[k]=\"val[\"+b++ +\"]\";h+=p+\"]\";q[d]=h}return Function(\"val\",\"return Snap.path.toString.call([\"+q+\"])\")}function u(a){for(var b=[],d=0,f=a.length;d<f;d++)for(var k=1,n=a[d].length;k<n;k++)b.push(a[d][k]);return b}var p={},b=/[a-z]+$/i,q=String;\n",
       "p.stroke=p.fill=\"colour\";v.prototype.equal=function(a,b){return k(\"snap.util.equal\",this,a,b).firstDefined()};k.on(\"snap.util.equal\",function(e,k){var r,s;r=q(this.attr(e)||\"\");var x=this;if(r==+r&&k==+k)return{from:+r,to:+k,f:z};if(\"colour\"==p[e])return r=a.color(r),s=a.color(k),{from:[r.r,r.g,r.b,r.opacity],to:[s.r,s.g,s.b,s.opacity],f:f};if(\"transform\"==e||\"gradientTransform\"==e||\"patternTransform\"==e)return k instanceof a.Matrix&&(k=k.toTransformString()),a._.rgTransform.test(k)||(k=a._.svgTransform2string(k)),\n",
       "w(r,k,function(){return x.getBBox(1)});if(\"d\"==e||\"path\"==e)return r=a.path.toCubic(r,k),{from:u(r[0]),to:u(r[1]),f:n(r[0])};if(\"points\"==e)return r=q(r).split(a._.separator),s=q(k).split(a._.separator),{from:r,to:s,f:function(a){return a}};aUnit=r.match(b);s=q(k).match(b);return aUnit&&aUnit==s?{from:parseFloat(r),to:parseFloat(k),f:d(aUnit)}:{from:this.asPX(e),to:this.asPX(e,k),f:z}})});C.plugin(function(a,v,y,C){var A=v.prototype,w=\"createTouch\"in C.doc;v=\"click dblclick mousedown mousemove mouseout mouseover mouseup touchstart touchmove touchend touchcancel\".split(\" \");\n",
       "var z={mousedown:\"touchstart\",mousemove:\"touchmove\",mouseup:\"touchend\"},d=function(a,b){var d=\"y\"==a?\"scrollTop\":\"scrollLeft\",e=b&&b.node?b.node.ownerDocument:C.doc;return e[d in e.documentElement?\"documentElement\":\"body\"][d]},f=function(){this.returnValue=!1},n=function(){return this.originalEvent.preventDefault()},u=function(){this.cancelBubble=!0},p=function(){return this.originalEvent.stopPropagation()},b=function(){if(C.doc.addEventListener)return function(a,b,e,f){var k=w&&z[b]?z[b]:b,l=function(k){var l=\n",
       "d(\"y\",f),q=d(\"x\",f);if(w&&z.hasOwnProperty(b))for(var r=0,u=k.targetTouches&&k.targetTouches.length;r<u;r++)if(k.targetTouches[r].target==a||a.contains(k.targetTouches[r].target)){u=k;k=k.targetTouches[r];k.originalEvent=u;k.preventDefault=n;k.stopPropagation=p;break}return e.call(f,k,k.clientX+q,k.clientY+l)};b!==k&&a.addEventListener(b,l,!1);a.addEventListener(k,l,!1);return function(){b!==k&&a.removeEventListener(b,l,!1);a.removeEventListener(k,l,!1);return!0}};if(C.doc.attachEvent)return function(a,\n",
       "b,e,h){var k=function(a){a=a||h.node.ownerDocument.window.event;var b=d(\"y\",h),k=d(\"x\",h),k=a.clientX+k,b=a.clientY+b;a.preventDefault=a.preventDefault||f;a.stopPropagation=a.stopPropagation||u;return e.call(h,a,k,b)};a.attachEvent(\"on\"+b,k);return function(){a.detachEvent(\"on\"+b,k);return!0}}}(),q=[],e=function(a){for(var b=a.clientX,e=a.clientY,f=d(\"y\"),l=d(\"x\"),n,p=q.length;p--;){n=q[p];if(w)for(var r=a.touches&&a.touches.length,u;r--;){if(u=a.touches[r],u.identifier==n.el._drag.id||n.el.node.contains(u.target)){b=\n",
       "u.clientX;e=u.clientY;(a.originalEvent?a.originalEvent:a).preventDefault();break}}else a.preventDefault();b+=l;e+=f;k(\"snap.drag.move.\"+n.el.id,n.move_scope||n.el,b-n.el._drag.x,e-n.el._drag.y,b,e,a)}},l=function(b){a.unmousemove(e).unmouseup(l);for(var d=q.length,f;d--;)f=q[d],f.el._drag={},k(\"snap.drag.end.\"+f.el.id,f.end_scope||f.start_scope||f.move_scope||f.el,b);q=[]};for(y=v.length;y--;)(function(d){a[d]=A[d]=function(e,f){a.is(e,\"function\")&&(this.events=this.events||[],this.events.push({name:d,\n",
       "f:e,unbind:b(this.node||document,d,e,f||this)}));return this};a[\"un\"+d]=A[\"un\"+d]=function(a){for(var b=this.events||[],e=b.length;e--;)if(b[e].name==d&&(b[e].f==a||!a)){b[e].unbind();b.splice(e,1);!b.length&&delete this.events;break}return this}})(v[y]);A.hover=function(a,b,d,e){return this.mouseover(a,d).mouseout(b,e||d)};A.unhover=function(a,b){return this.unmouseover(a).unmouseout(b)};var r=[];A.drag=function(b,d,f,h,n,p){function u(r,v,w){(r.originalEvent||r).preventDefault();this._drag.x=v;\n",
       "this._drag.y=w;this._drag.id=r.identifier;!q.length&&a.mousemove(e).mouseup(l);q.push({el:this,move_scope:h,start_scope:n,end_scope:p});d&&k.on(\"snap.drag.start.\"+this.id,d);b&&k.on(\"snap.drag.move.\"+this.id,b);f&&k.on(\"snap.drag.end.\"+this.id,f);k(\"snap.drag.start.\"+this.id,n||h||this,v,w,r)}if(!arguments.length){var v;return this.drag(function(a,b){this.attr({transform:v+(v?\"T\":\"t\")+[a,b]})},function(){v=this.transform().local})}this._drag={};r.push({el:this,start:u});this.mousedown(u);return this};\n",
       "A.undrag=function(){for(var b=r.length;b--;)r[b].el==this&&(this.unmousedown(r[b].start),r.splice(b,1),k.unbind(\"snap.drag.*.\"+this.id));!r.length&&a.unmousemove(e).unmouseup(l);return this}});C.plugin(function(a,v,y,C){y=y.prototype;var A=/^\\s*url\\((.+)\\)/,w=String,z=a._.$;a.filter={};y.filter=function(d){var f=this;\"svg\"!=f.type&&(f=f.paper);d=a.parse(w(d));var k=a._.id(),u=z(\"filter\");z(u,{id:k,filterUnits:\"userSpaceOnUse\"});u.appendChild(d.node);f.defs.appendChild(u);return new v(u)};k.on(\"snap.util.getattr.filter\",\n",
       "function(){k.stop();var d=z(this.node,\"filter\");if(d)return(d=w(d).match(A))&&a.select(d[1])});k.on(\"snap.util.attr.filter\",function(d){if(d instanceof v&&\"filter\"==d.type){k.stop();var f=d.node.id;f||(z(d.node,{id:d.id}),f=d.id);z(this.node,{filter:a.url(f)})}d&&\"none\"!=d||(k.stop(),this.node.removeAttribute(\"filter\"))});a.filter.blur=function(d,f){null==d&&(d=2);return a.format('<feGaussianBlur stdDeviation=\"{def}\"/>',{def:null==f?d:[d,f]})};a.filter.blur.toString=function(){return this()};a.filter.shadow=\n",
       "function(d,f,k,u,p){\"string\"==typeof k&&(p=u=k,k=4);\"string\"!=typeof u&&(p=u,u=\"#000\");null==k&&(k=4);null==p&&(p=1);null==d&&(d=0,f=2);null==f&&(f=d);u=a.color(u||\"#000\");return a.format('<feGaussianBlur in=\"SourceAlpha\" stdDeviation=\"{blur}\"/><feOffset dx=\"{dx}\" dy=\"{dy}\" result=\"offsetblur\"/><feFlood flood-color=\"{color}\"/><feComposite in2=\"offsetblur\" operator=\"in\"/><feComponentTransfer><feFuncA type=\"linear\" slope=\"{opacity}\"/></feComponentTransfer><feMerge><feMergeNode/><feMergeNode in=\"SourceGraphic\"/></feMerge>',\n",
       "{color:u,dx:d,dy:f,blur:k,opacity:p})};a.filter.shadow.toString=function(){return this()};a.filter.grayscale=function(d){null==d&&(d=1);return a.format('<feColorMatrix type=\"matrix\" values=\"{a} {b} {c} 0 0 {d} {e} {f} 0 0 {g} {b} {h} 0 0 0 0 0 1 0\"/>',{a:0.2126+0.7874*(1-d),b:0.7152-0.7152*(1-d),c:0.0722-0.0722*(1-d),d:0.2126-0.2126*(1-d),e:0.7152+0.2848*(1-d),f:0.0722-0.0722*(1-d),g:0.2126-0.2126*(1-d),h:0.0722+0.9278*(1-d)})};a.filter.grayscale.toString=function(){return this()};a.filter.sepia=\n",
       "function(d){null==d&&(d=1);return a.format('<feColorMatrix type=\"matrix\" values=\"{a} {b} {c} 0 0 {d} {e} {f} 0 0 {g} {h} {i} 0 0 0 0 0 1 0\"/>',{a:0.393+0.607*(1-d),b:0.769-0.769*(1-d),c:0.189-0.189*(1-d),d:0.349-0.349*(1-d),e:0.686+0.314*(1-d),f:0.168-0.168*(1-d),g:0.272-0.272*(1-d),h:0.534-0.534*(1-d),i:0.131+0.869*(1-d)})};a.filter.sepia.toString=function(){return this()};a.filter.saturate=function(d){null==d&&(d=1);return a.format('<feColorMatrix type=\"saturate\" values=\"{amount}\"/>',{amount:1-\n",
       "d})};a.filter.saturate.toString=function(){return this()};a.filter.hueRotate=function(d){return a.format('<feColorMatrix type=\"hueRotate\" values=\"{angle}\"/>',{angle:d||0})};a.filter.hueRotate.toString=function(){return this()};a.filter.invert=function(d){null==d&&(d=1);return a.format('<feComponentTransfer><feFuncR type=\"table\" tableValues=\"{amount} {amount2}\"/><feFuncG type=\"table\" tableValues=\"{amount} {amount2}\"/><feFuncB type=\"table\" tableValues=\"{amount} {amount2}\"/></feComponentTransfer>',{amount:d,\n",
       "amount2:1-d})};a.filter.invert.toString=function(){return this()};a.filter.brightness=function(d){null==d&&(d=1);return a.format('<feComponentTransfer><feFuncR type=\"linear\" slope=\"{amount}\"/><feFuncG type=\"linear\" slope=\"{amount}\"/><feFuncB type=\"linear\" slope=\"{amount}\"/></feComponentTransfer>',{amount:d})};a.filter.brightness.toString=function(){return this()};a.filter.contrast=function(d){null==d&&(d=1);return a.format('<feComponentTransfer><feFuncR type=\"linear\" slope=\"{amount}\" intercept=\"{amount2}\"/><feFuncG type=\"linear\" slope=\"{amount}\" intercept=\"{amount2}\"/><feFuncB type=\"linear\" slope=\"{amount}\" intercept=\"{amount2}\"/></feComponentTransfer>',\n",
       "{amount:d,amount2:0.5-d/2})};a.filter.contrast.toString=function(){return this()}});return C});\n",
       "]]></script>\n",
       "    <script><![CDATA[\n",
       "        (function(glob, factory){\n",
       "    if (typeof define == \"function\" && define.amd) {\n",
       "        define(\"ProfileView\", [\"Snap.svg\"], function (Snap){\n",
       "            return factory(Snap);\n",
       "        });\n",
       "    }\n",
       "    else {\n",
       "        glob.ProfileView = factory(glob.Snap);\n",
       "    }\n",
       "}(this, function(Snap){\n",
       "    var ProfileView = {};\n",
       "\n",
       "    var avgcharwidth = 6;\n",
       "    var default_transition_time = 300;\n",
       "    var viewport_scale = 0.9;\n",
       "\n",
       "    var format_text = function(text, available_len){\n",
       "        if (available_len < 3*avgcharwidth) {\n",
       "            return \"\";\n",
       "        }\n",
       "        else if (text.length*avgcharwidth > available_len) {\n",
       "            nchars = Math.round(available_len/avgcharwidth)-2;\n",
       "            return text.slice(0,nchars) + \"..\"\n",
       "        }\n",
       "        return text;\n",
       "    }\n",
       "\n",
       "    // Shift the view port to center on xc, then scale in the x direction\n",
       "    ProfileView.move_and_zoom = function(xc, xs, xScale, fig, delta_t){\n",
       "        if (typeof delta_t === 'undefined') { delta_t = default_transition_time; }\n",
       "        if (typeof xs === 'undefined') {xs = xc;}\n",
       "\n",
       "        var oldScale = fig.scale;\n",
       "        var oldShift = fig.shift;\n",
       "\n",
       "        fig.scale = xScale;\n",
       "        fig.shift = xc;\n",
       "\n",
       "        xScale *= viewport_scale;\n",
       "\n",
       "        var oldxshift = -(oldShift - 0.5*fig.clip_width);\n",
       "        var xshift = -(xc - 0.5*fig.clip_width);\n",
       "\n",
       "        fig.texts.forEach(function(text){\n",
       "            text.node.textContent = \"\";\n",
       "        });\n",
       "\n",
       "        if (delta_t != 0){\n",
       "            Snap.animate(0, 1, function(step){\n",
       "\n",
       "                var scale = oldScale + (xScale - oldScale)*step\n",
       "                var rMatrix = new Snap.Matrix;\n",
       "                rMatrix.translate(oldxshift + (xshift - oldxshift)*step, 0);\n",
       "                rMatrix.scale(scale, 1, xs, fig.clip_middle);\n",
       "                fig.viewport.attr({\n",
       "                    transform: rMatrix\n",
       "                })\n",
       "                fig.rects.forEach(function(rect){\n",
       "                    rect.attr({\n",
       "                        rx: 2/scale,\n",
       "                        ry: 2/scale\n",
       "                    });\n",
       "                })\n",
       "\n",
       "            }, delta_t, null, function(){\n",
       "                fig.rects.forEach(function(rect, i){\n",
       "                    var bbox = rect.getBBox();\n",
       "                    var text = fig.texts[i];\n",
       "                    var shortinfo = rect.node.getAttribute(\"data-shortinfo\");\n",
       "\n",
       "                    var tMatrix = new Snap.Matrix;\n",
       "                    tMatrix.scale(1.0/xScale, 1, bbox.x, bbox.y);\n",
       "\n",
       "                    text.node.textContent = format_text(shortinfo, bbox.w*xScale);\n",
       "                    text.transform(tMatrix);\n",
       "                });\n",
       "            });\n",
       "        }\n",
       "        else {\n",
       "            var rMatrix = new Snap.Matrix;\n",
       "            rMatrix.translate(xshift, 0);\n",
       "            rMatrix.scale(xScale, 1, xs, fig.clip_middle);\n",
       "\n",
       "            fig.viewport.transform(rMatrix);\n",
       "            fig.rects.forEach(function(rect, i){\n",
       "                rect.attr({\n",
       "                    rx: 2/xScale,\n",
       "                    ry: 2/xScale\n",
       "                });\n",
       "                var bbox = rect.getBBox();\n",
       "                var text = fig.texts[i];\n",
       "                var shortinfo = rect.node.getAttribute(\"data-shortinfo\");\n",
       "\n",
       "                var tMatrix = new Snap.Matrix;\n",
       "                tMatrix.scale(1.0/xScale, 1, bbox.x, bbox.y);\n",
       "\n",
       "                text.node.textContent = format_text(shortinfo, bbox.w*xScale);\n",
       "                text.transform(tMatrix);\n",
       "            });\n",
       "       }\n",
       "\n",
       "    }\n",
       "\n",
       "    ProfileView.reset = function(fig) {\n",
       "        ProfileView.move_and_zoom(fig.viewport_cx, fig.viewport_cx, viewport_scale, fig);\n",
       "    }\n",
       "\n",
       "    return ProfileView;\n",
       "}));\n",
       "\n",
       "        (function (glob, factory) {\n",
       "            if (typeof require === \"function\" && typeof define === \"function\" && define.amd) {\n",
       "                require([\"Snap.svg\", \"ProfileView\"], function (Snap, ProfileView) {\n",
       "                    factory(Snap, ProfileView);\n",
       "                });\n",
       "          } else {\n",
       "              factory(glob.Snap, glob.ProfileView);\n",
       "          }\n",
       "        })(window, function (Snap, ProfileView) {\n",
       "            var svg = Snap.select('svg').node;\n",
       "            var pt = svg.createSVGPoint();\n",
       "\n",
       "            var fig = {};\n",
       "\n",
       "            fig.viewport = Snap.select('#fig-2d09b0eca65e440da24d7468b573a69d-viewport');\n",
       "            fig.frame = Snap.select('#fig-2d09b0eca65e440da24d7468b573a69d-frame');\n",
       "\n",
       "            fig.viewport_cx = fig.viewport.getBBox().cx;\n",
       "\n",
       "            fig.rects = Snap.selectAll('#fig-2d09b0eca65e440da24d7468b573a69d-viewport rect');\n",
       "            fig.texts = Snap.selectAll('#fig-2d09b0eca65e440da24d7468b573a69d-viewport text');\n",
       "            fig.clip = Snap.select('#fig-2d09b0eca65e440da24d7468b573a69d-clip-rect');\n",
       "            fig.clip_width  = fig.clip.getBBox().w;\n",
       "            fig.clip_middle = fig.clip.getBBox().cy;\n",
       "            fig.details = document.getElementById(\"fig-2d09b0eca65e440da24d7468b573a69d-details\").firstChild; \n",
       "\n",
       "            fig.scale = 1.0;\n",
       "            fig.shift = fig.viewport_cx;\n",
       "\n",
       "            ProfileView.reset(fig)\n",
       "\n",
       "            fig.rects.forEach(function(rect, i){\n",
       "                rect.dblclick(function(){\n",
       "                    bbox = rect.getBBox();\n",
       "                    ProfileView.move_and_zoom(bbox.cx, bbox.cx, fig.clip_width/bbox.w, fig);\n",
       "                })\n",
       "                .mouseover(function(){\n",
       "                    fig.details.nodeValue = rect.node.getAttribute(\"data-info\");\n",
       "                })\n",
       "                .mouseout(function(){\n",
       "                    fig.details.nodeValue = \"\";\n",
       "                });\n",
       "\n",
       "            })\n",
       "            fig.texts.forEach(function(text, i){\n",
       "                text.dblclick(function(){\n",
       "                    bbox = fig.rects[i].getBBox();\n",
       "                    ProfileView.move_and_zoom(bbox.cx, bbox.cx, fig.clip_width/bbox.w, fig);\n",
       "                })\n",
       "                .mouseover(function(){\n",
       "                    fig.details.nodeValue = fig.rects[i].node.getAttribute(\"data-info\");\n",
       "                })\n",
       "                .mouseout(function(){\n",
       "                    fig.details.nodeValue = \"\";\n",
       "                });\n",
       "            })\n",
       "            Snap.selectAll(\"#fig-2d09b0eca65e440da24d7468b573a69d-frame .pvbackground\").forEach(function(bg){\n",
       "               bg.dblclick(function(e){\n",
       "                   ProfileView.reset(fig);\n",
       "                });\n",
       "            });\n",
       "\n",
       "            function throttle(delay, callback) {\n",
       "                var previousCall = new Date().getTime();\n",
       "                return function() {\n",
       "                    var time = new Date().getTime();\n",
       "\n",
       "                    if ((time - previousCall) >= delay) {\n",
       "                        previousCall = time;\n",
       "                        callback.apply(null, arguments);\n",
       "                    }\n",
       "                    else {\n",
       "                        arguments[0].preventDefault();\n",
       "                    }\n",
       "                };\n",
       "            }\n",
       "\n",
       "            var MouseWheelHandler = throttle(400, function(e) {\n",
       "                e.preventDefault();\n",
       "                var e = window.event || e;\n",
       "                var delta = Math.max(-1, Math.min(1, (e.wheelDelta || -e.detail)));\n",
       "                pt.x = e.clientX;\n",
       "                pt.y = e.clientY;\n",
       "\n",
       "                pt.matrixTransform(fig.viewport.node.getScreenCTM().inverse());\n",
       "                var targetScale = fig.scale + 0.2*delta;\n",
       "                ProfileView.move_and_zoom(fig.shift, pt.x, targetScale, fig, 400);\n",
       "                return false;\n",
       "            })\n",
       "            frame = fig.frame.node;\n",
       "            if (frame.addEventListener) {\n",
       "                frame.addEventListener(\"mousewheel\", MouseWheelHandler, false);\n",
       "                frame.addEventListener(\"DOMMouseScroll\", MouseWheelHandler, false);\n",
       "            }\n",
       "            else {\n",
       "                frame.attachEvent(\"onmousewheel\", MouseWheelHandler);\n",
       "            }\n",
       "\n",
       "        fig.viewport.drag();\n",
       "}); ]]></script>\n",
       "</svg>\n"
      ],
      "text/plain": [
       "ProfileView.ProfileData(ColorTypes.RGB{FixedPointNumbers.UFixed{UInt8,8}}[RGB{U8}(0.91,0.439,0.867) RGB{U8}(1.0,0.643,0.612) … RGB{U8}(1.0,1.0,1.0) RGB{U8}(1.0,1.0,1.0); RGB{U8}(0.91,0.439,0.867) RGB{U8}(1.0,0.643,0.612) … RGB{U8}(1.0,1.0,1.0) RGB{U8}(1.0,1.0,1.0); … ; RGB{U8}(1.0,1.0,1.0) RGB{U8}(1.0,1.0,1.0) … RGB{U8}(1.0,1.0,1.0) RGB{U8}(1.0,1.0,1.0); RGB{U8}(1.0,1.0,1.0) RGB{U8}(1.0,1.0,1.0) … RGB{U8}(1.0,1.0,1.0) RGB{U8}(1.0,1.0,1.0)],Dict(0x00007f9171fe1189=>StackFrame[ in unsafe_write(::Base.AbstractIOBuffer{Array{UInt8,1}}, ::Ptr{UInt8}, ::UInt64) at iobuffer.jl:282],0x00007f9177b2a170=>StackFrame[ in ip:0x7f9177b2a16f at array.c:652],0x00007f8f28f26f14=>StackFrame[ in to_lcm(::Dict{String,Any}) at visualizer.jl:127],0x00007f9177b1740c=>StackFrame[ in jl_apply_2va at builtins.c:430],0x00007f8f55bf19a6=>StackFrame[ in print_escaped(::Base.AbstractIOBuffer{Array{UInt8,1}}, ::String) at JSON.jl:143],0x00007f9177b1050f=>StackFrame[ in jl_svecref at julia.h:690 [inlined], in sig_match_simple at typemap.c:136 [inlined], in jl_typemap_entry_assoc_exact at typemap.c:817],0x00007f8f50429597=>StackFrame[ in _writejson(::Base.AbstractIOBuffer{Array{UInt8,1}}, ::JSON.State{false}, ::Array{Dict{String,Any},1}) at JSON.jl:210],0x00007f9177af9500=>StackFrame[ in ip:0x7f9177af94ff at jltypes.c:384],0x00007f9171fe9f57=>StackFrame[ in endof(::String) at string.jl:39],0x00007f8f55c1b523=>StackFrame[ in convert(::Type{PyCall.PyAny}, ::PyCall.PyObject) at conversions.jl:795]…),ProfileView.TagData[ProfileView.TagData(0x00007f8f55bfa53a,0) ProfileView.TagData(0x00007f8f55bf91ee,0) … ProfileView.TagData(0x0000000000000000,-1) ProfileView.TagData(0x0000000000000000,-1); ProfileView.TagData(0x00007f8f55bfa53a,0) ProfileView.TagData(0x00007f8f55bf91ee,0) … ProfileView.TagData(0x0000000000000000,-1) ProfileView.TagData(0x0000000000000000,-1); … ; ProfileView.TagData(0x0000000000000000,-1) ProfileView.TagData(0x0000000000000000,-1) … ProfileView.TagData(0x0000000000000000,-1) ProfileView.TagData(0x0000000000000000,-1); ProfileView.TagData(0x0000000000000000,-1) ProfileView.TagData(0x0000000000000000,-1) … ProfileView.TagData(0x0000000000000000,-1) ProfileView.TagData(0x0000000000000000,-1)],12)"
      ]
     },
     "execution_count": 127,
     "metadata": {},
     "output_type": "execute_result"
    }
   ],
   "source": [
    "# We can draw the mechanism at a single state:\n",
    "state = MechanismState(Float64, mechanism)\n",
    "zero!(state)\n",
    "\n",
    "vis.core.publish_immediately = false\n",
    "Profile.clear()\n",
    "println((@elapsed (@profile for i in 1:1000\n",
    "    DrakeVisualizer.empty!(vis.core.queue)\n",
    "    RigidBodyTreeInspector.draw!(vis, state)\n",
    "    data = DrakeVisualizer.serialize(vis.core, vis.core.queue)\n",
    "    msg = DrakeVisualizer.to_lcm(data)\n",
    "end)) / 1000)\n",
    "vis.core.publish_immediately = true\n",
    "ProfileView.view()"
   ]
  },
  {
   "cell_type": "code",
   "execution_count": 132,
   "metadata": {
    "collapsed": false
   },
   "outputs": [
    {
     "data": {
      "text/html": [],
      "text/plain": [
       "Interact.Options{:SelectionSlider,Float64}(Signal{Float64}(-0.12566370614359187, nactions=1),\"joint1.1\",-0.12566370614359187,\"-0.12566370614359187\",Interact.OptionDict(DataStructures.OrderedDict(\"-3.141592653589793\"=>-3.14159,\"-3.015928947446201\"=>-3.01593,\"-2.8902652413026093\"=>-2.89027,\"-2.7646015351590183\"=>-2.7646,\"-2.6389378290154264\"=>-2.63894,\"-2.5132741228718345\"=>-2.51327,\"-2.3876104167282426\"=>-2.38761,\"-2.261946710584651\"=>-2.26195,\"-2.1362830044410597\"=>-2.13628,\"-2.0106192982974673\"=>-2.01062…),Dict(2.13628=>\"2.1362830044410597\",-3.01593=>\"-3.015928947446201\",-2.13628=>\"-2.1362830044410597\",1.88496=>\"1.8849555921538756\",1.75929=>\"1.7592918860102842\",2.63894=>\"2.6389378290154264\",-0.376991=>\"-0.3769911184307753\",0.251327=>\"0.25132741228718347\",-2.51327=>\"-2.5132741228718345\",1.25664=>\"1.2566370614359172\"…)),Any[],Any[],true,\"horizontal\")"
      ]
     },
     "metadata": {},
     "output_type": "display_data"
    },
    {
     "data": {
      "text/html": [],
      "text/plain": [
       "Interact.Options{:SelectionSlider,Float64}(Signal{Float64}(-0.12566370614359187, nactions=1),\"joint1.2\",-0.12566370614359187,\"-0.12566370614359187\",Interact.OptionDict(DataStructures.OrderedDict(\"-3.141592653589793\"=>-3.14159,\"-3.015928947446201\"=>-3.01593,\"-2.8902652413026093\"=>-2.89027,\"-2.7646015351590183\"=>-2.7646,\"-2.6389378290154264\"=>-2.63894,\"-2.5132741228718345\"=>-2.51327,\"-2.3876104167282426\"=>-2.38761,\"-2.261946710584651\"=>-2.26195,\"-2.1362830044410597\"=>-2.13628,\"-2.0106192982974673\"=>-2.01062…),Dict(2.13628=>\"2.1362830044410597\",-3.01593=>\"-3.015928947446201\",-2.13628=>\"-2.1362830044410597\",1.88496=>\"1.8849555921538756\",1.75929=>\"1.7592918860102842\",2.63894=>\"2.6389378290154264\",-0.376991=>\"-0.3769911184307753\",0.251327=>\"0.25132741228718347\",-2.51327=>\"-2.5132741228718345\",1.25664=>\"1.2566370614359172\"…)),Any[],Any[],true,\"horizontal\")"
      ]
     },
     "metadata": {},
     "output_type": "display_data"
    },
    {
     "data": {
      "text/html": [],
      "text/plain": [
       "Interact.Options{:SelectionSlider,Float64}(Signal{Float64}(-0.12566370614359187, nactions=1),\"joint1.3\",-0.12566370614359187,\"-0.12566370614359187\",Interact.OptionDict(DataStructures.OrderedDict(\"-3.141592653589793\"=>-3.14159,\"-3.015928947446201\"=>-3.01593,\"-2.8902652413026093\"=>-2.89027,\"-2.7646015351590183\"=>-2.7646,\"-2.6389378290154264\"=>-2.63894,\"-2.5132741228718345\"=>-2.51327,\"-2.3876104167282426\"=>-2.38761,\"-2.261946710584651\"=>-2.26195,\"-2.1362830044410597\"=>-2.13628,\"-2.0106192982974673\"=>-2.01062…),Dict(2.13628=>\"2.1362830044410597\",-3.01593=>\"-3.015928947446201\",-2.13628=>\"-2.1362830044410597\",1.88496=>\"1.8849555921538756\",1.75929=>\"1.7592918860102842\",2.63894=>\"2.6389378290154264\",-0.376991=>\"-0.3769911184307753\",0.251327=>\"0.25132741228718347\",-2.51327=>\"-2.5132741228718345\",1.25664=>\"1.2566370614359172\"…)),Any[],Any[],true,\"horizontal\")"
      ]
     },
     "metadata": {},
     "output_type": "display_data"
    },
    {
     "data": {
      "text/html": [],
      "text/plain": [
       "Interact.Options{:SelectionSlider,Float64}(Signal{Float64}(-0.12566370614359187, nactions=1),\"joint1.4\",-0.12566370614359187,\"-0.12566370614359187\",Interact.OptionDict(DataStructures.OrderedDict(\"-3.141592653589793\"=>-3.14159,\"-3.015928947446201\"=>-3.01593,\"-2.8902652413026093\"=>-2.89027,\"-2.7646015351590183\"=>-2.7646,\"-2.6389378290154264\"=>-2.63894,\"-2.5132741228718345\"=>-2.51327,\"-2.3876104167282426\"=>-2.38761,\"-2.261946710584651\"=>-2.26195,\"-2.1362830044410597\"=>-2.13628,\"-2.0106192982974673\"=>-2.01062…),Dict(2.13628=>\"2.1362830044410597\",-3.01593=>\"-3.015928947446201\",-2.13628=>\"-2.1362830044410597\",1.88496=>\"1.8849555921538756\",1.75929=>\"1.7592918860102842\",2.63894=>\"2.6389378290154264\",-0.376991=>\"-0.3769911184307753\",0.251327=>\"0.25132741228718347\",-2.51327=>\"-2.5132741228718345\",1.25664=>\"1.2566370614359172\"…)),Any[],Any[],true,\"horizontal\")"
      ]
     },
     "metadata": {},
     "output_type": "display_data"
    },
    {
     "data": {
      "text/html": [],
      "text/plain": [
       "Interact.Options{:SelectionSlider,Float64}(Signal{Float64}(-0.12566370614359187, nactions=1),\"joint1.5\",-0.12566370614359187,\"-0.12566370614359187\",Interact.OptionDict(DataStructures.OrderedDict(\"-3.141592653589793\"=>-3.14159,\"-3.015928947446201\"=>-3.01593,\"-2.8902652413026093\"=>-2.89027,\"-2.7646015351590183\"=>-2.7646,\"-2.6389378290154264\"=>-2.63894,\"-2.5132741228718345\"=>-2.51327,\"-2.3876104167282426\"=>-2.38761,\"-2.261946710584651\"=>-2.26195,\"-2.1362830044410597\"=>-2.13628,\"-2.0106192982974673\"=>-2.01062…),Dict(2.13628=>\"2.1362830044410597\",-3.01593=>\"-3.015928947446201\",-2.13628=>\"-2.1362830044410597\",1.88496=>\"1.8849555921538756\",1.75929=>\"1.7592918860102842\",2.63894=>\"2.6389378290154264\",-0.376991=>\"-0.3769911184307753\",0.251327=>\"0.25132741228718347\",-2.51327=>\"-2.5132741228718345\",1.25664=>\"1.2566370614359172\"…)),Any[],Any[],true,\"horizontal\")"
      ]
     },
     "metadata": {},
     "output_type": "display_data"
    },
    {
     "data": {
      "text/html": [],
      "text/plain": [
       "Interact.Options{:SelectionSlider,Float64}(Signal{Float64}(-0.12566370614359187, nactions=1),\"joint1.6\",-0.12566370614359187,\"-0.12566370614359187\",Interact.OptionDict(DataStructures.OrderedDict(\"-3.141592653589793\"=>-3.14159,\"-3.015928947446201\"=>-3.01593,\"-2.8902652413026093\"=>-2.89027,\"-2.7646015351590183\"=>-2.7646,\"-2.6389378290154264\"=>-2.63894,\"-2.5132741228718345\"=>-2.51327,\"-2.3876104167282426\"=>-2.38761,\"-2.261946710584651\"=>-2.26195,\"-2.1362830044410597\"=>-2.13628,\"-2.0106192982974673\"=>-2.01062…),Dict(2.13628=>\"2.1362830044410597\",-3.01593=>\"-3.015928947446201\",-2.13628=>\"-2.1362830044410597\",1.88496=>\"1.8849555921538756\",1.75929=>\"1.7592918860102842\",2.63894=>\"2.6389378290154264\",-0.376991=>\"-0.3769911184307753\",0.251327=>\"0.25132741228718347\",-2.51327=>\"-2.5132741228718345\",1.25664=>\"1.2566370614359172\"…)),Any[],Any[],true,\"horizontal\")"
      ]
     },
     "metadata": {},
     "output_type": "display_data"
    },
    {
     "data": {
      "text/html": [],
      "text/plain": [
       "Interact.Options{:SelectionSlider,Float64}(Signal{Float64}(-0.12566370614359187, nactions=1),\"joint2.1\",-0.12566370614359187,\"-0.12566370614359187\",Interact.OptionDict(DataStructures.OrderedDict(\"-3.141592653589793\"=>-3.14159,\"-3.015928947446201\"=>-3.01593,\"-2.8902652413026093\"=>-2.89027,\"-2.7646015351590183\"=>-2.7646,\"-2.6389378290154264\"=>-2.63894,\"-2.5132741228718345\"=>-2.51327,\"-2.3876104167282426\"=>-2.38761,\"-2.261946710584651\"=>-2.26195,\"-2.1362830044410597\"=>-2.13628,\"-2.0106192982974673\"=>-2.01062…),Dict(2.13628=>\"2.1362830044410597\",-3.01593=>\"-3.015928947446201\",-2.13628=>\"-2.1362830044410597\",1.88496=>\"1.8849555921538756\",1.75929=>\"1.7592918860102842\",2.63894=>\"2.6389378290154264\",-0.376991=>\"-0.3769911184307753\",0.251327=>\"0.25132741228718347\",-2.51327=>\"-2.5132741228718345\",1.25664=>\"1.2566370614359172\"…)),Any[],Any[],true,\"horizontal\")"
      ]
     },
     "metadata": {},
     "output_type": "display_data"
    },
    {
     "data": {
      "text/html": [],
      "text/plain": [
       "Interact.Options{:SelectionSlider,Float64}(Signal{Float64}(-0.12566370614359187, nactions=1),\"joint3.1\",-0.12566370614359187,\"-0.12566370614359187\",Interact.OptionDict(DataStructures.OrderedDict(\"-3.141592653589793\"=>-3.14159,\"-3.015928947446201\"=>-3.01593,\"-2.8902652413026093\"=>-2.89027,\"-2.7646015351590183\"=>-2.7646,\"-2.6389378290154264\"=>-2.63894,\"-2.5132741228718345\"=>-2.51327,\"-2.3876104167282426\"=>-2.38761,\"-2.261946710584651\"=>-2.26195,\"-2.1362830044410597\"=>-2.13628,\"-2.0106192982974673\"=>-2.01062…),Dict(2.13628=>\"2.1362830044410597\",-3.01593=>\"-3.015928947446201\",-2.13628=>\"-2.1362830044410597\",1.88496=>\"1.8849555921538756\",1.75929=>\"1.7592918860102842\",2.63894=>\"2.6389378290154264\",-0.376991=>\"-0.3769911184307753\",0.251327=>\"0.25132741228718347\",-2.51327=>\"-2.5132741228718345\",1.25664=>\"1.2566370614359172\"…)),Any[],Any[],true,\"horizontal\")"
      ]
     },
     "metadata": {},
     "output_type": "display_data"
    },
    {
     "data": {
      "text/html": [],
      "text/plain": [
       "Interact.Options{:SelectionSlider,Float64}(Signal{Float64}(-0.12566370614359187, nactions=1),\"joint4.1\",-0.12566370614359187,\"-0.12566370614359187\",Interact.OptionDict(DataStructures.OrderedDict(\"-3.141592653589793\"=>-3.14159,\"-3.015928947446201\"=>-3.01593,\"-2.8902652413026093\"=>-2.89027,\"-2.7646015351590183\"=>-2.7646,\"-2.6389378290154264\"=>-2.63894,\"-2.5132741228718345\"=>-2.51327,\"-2.3876104167282426\"=>-2.38761,\"-2.261946710584651\"=>-2.26195,\"-2.1362830044410597\"=>-2.13628,\"-2.0106192982974673\"=>-2.01062…),Dict(2.13628=>\"2.1362830044410597\",-3.01593=>\"-3.015928947446201\",-2.13628=>\"-2.1362830044410597\",1.88496=>\"1.8849555921538756\",1.75929=>\"1.7592918860102842\",2.63894=>\"2.6389378290154264\",-0.376991=>\"-0.3769911184307753\",0.251327=>\"0.25132741228718347\",-2.51327=>\"-2.5132741228718345\",1.25664=>\"1.2566370614359172\"…)),Any[],Any[],true,\"horizontal\")"
      ]
     },
     "metadata": {},
     "output_type": "display_data"
    },
    {
     "data": {
      "text/html": [],
      "text/plain": [
       "Interact.Options{:SelectionSlider,Float64}(Signal{Float64}(-0.12566370614359187, nactions=1),\"joint5.1\",-0.12566370614359187,\"-0.12566370614359187\",Interact.OptionDict(DataStructures.OrderedDict(\"-3.141592653589793\"=>-3.14159,\"-3.015928947446201\"=>-3.01593,\"-2.8902652413026093\"=>-2.89027,\"-2.7646015351590183\"=>-2.7646,\"-2.6389378290154264\"=>-2.63894,\"-2.5132741228718345\"=>-2.51327,\"-2.3876104167282426\"=>-2.38761,\"-2.261946710584651\"=>-2.26195,\"-2.1362830044410597\"=>-2.13628,\"-2.0106192982974673\"=>-2.01062…),Dict(2.13628=>\"2.1362830044410597\",-3.01593=>\"-3.015928947446201\",-2.13628=>\"-2.1362830044410597\",1.88496=>\"1.8849555921538756\",1.75929=>\"1.7592918860102842\",2.63894=>\"2.6389378290154264\",-0.376991=>\"-0.3769911184307753\",0.251327=>\"0.25132741228718347\",-2.51327=>\"-2.5132741228718345\",1.25664=>\"1.2566370614359172\"…)),Any[],Any[],true,\"horizontal\")"
      ]
     },
     "metadata": {},
     "output_type": "display_data"
    },
    {
     "data": {
      "text/html": [],
      "text/plain": [
       "Interact.Options{:SelectionSlider,Float64}(Signal{Float64}(-0.12566370614359187, nactions=1),\"joint6.1\",-0.12566370614359187,\"-0.12566370614359187\",Interact.OptionDict(DataStructures.OrderedDict(\"-3.141592653589793\"=>-3.14159,\"-3.015928947446201\"=>-3.01593,\"-2.8902652413026093\"=>-2.89027,\"-2.7646015351590183\"=>-2.7646,\"-2.6389378290154264\"=>-2.63894,\"-2.5132741228718345\"=>-2.51327,\"-2.3876104167282426\"=>-2.38761,\"-2.261946710584651\"=>-2.26195,\"-2.1362830044410597\"=>-2.13628,\"-2.0106192982974673\"=>-2.01062…),Dict(2.13628=>\"2.1362830044410597\",-3.01593=>\"-3.015928947446201\",-2.13628=>\"-2.1362830044410597\",1.88496=>\"1.8849555921538756\",1.75929=>\"1.7592918860102842\",2.63894=>\"2.6389378290154264\",-0.376991=>\"-0.3769911184307753\",0.251327=>\"0.25132741228718347\",-2.51327=>\"-2.5132741228718345\",1.25664=>\"1.2566370614359172\"…)),Any[],Any[],true,\"horizontal\")"
      ]
     },
     "metadata": {},
     "output_type": "display_data"
    }
   ],
   "source": [
    "# Or we can interactively explore the degrees of freedom of the mechanism.\n",
    "# Note that the quaternion floating base joint, \"joint1\", has been given \n",
    "# six sliders. The first three correspond to the exponential map representation\n",
    "# of its rotation, and the next three correspond to its translation. \n",
    "RigidBodyTreeInspector.inspect(mechanism; show_inertias=true, randomize_colors=true);"
   ]
  },
  {
   "cell_type": "code",
   "execution_count": 134,
   "metadata": {
    "collapsed": false
   },
   "outputs": [],
   "source": [
    "# We can also animate the mechanism, given a time sequence of states.\n",
    "# States will be linearly interpolated between the knot points.\n",
    "times = collect(linspace(0, 10, 3))\n",
    "configurations = Vector{Vector{Float64}}(length(times))\n",
    "for i = 1:length(times)\n",
    "    rand_configuration!(state)\n",
    "    configurations[i] = copy(configuration_vector(state))\n",
    "end\n",
    "RigidBodyTreeInspector.load!(vis, RigidBodyTreeInspector.create_geometry(mechanism))\n",
    "RigidBodyTreeInspector.animate(vis, mechanism, times, configurations; fps = 60., realtimerate = 1.)"
   ]
  },
  {
   "cell_type": "code",
   "execution_count": 8,
   "metadata": {
    "collapsed": false
   },
   "outputs": [],
   "source": [
    "# We can simulate a mechanism from an initial state. We'll use a mechanism\n",
    "# without a QuaternionFloating joint so that it doesn't just fall straight down.\n",
    "mechanism = rand_chain_mechanism(Float64, [Revolute{Float64} for i = 1:10]...)\n",
    "vis = Visualizer()[:robot2]\n",
    "RigidBodyTreeInspector.load!(vis, mechanism)\n",
    "state = MechanismState(Float64, mechanism)\n",
    "zero!(state)\n",
    "draw(vis, state)\n",
    "times, configurations, velocities = simulate(state, 10.);"
   ]
  },
  {
   "cell_type": "code",
   "execution_count": 9,
   "metadata": {
    "collapsed": false
   },
   "outputs": [],
   "source": [
    "# And we can animate the result in realtime\n",
    "animate(vis, mechanism, times, configurations)"
   ]
  },
  {
   "cell_type": "code",
   "execution_count": 10,
   "metadata": {
    "collapsed": false
   },
   "outputs": [
    {
     "data": {
      "text/html": [],
      "text/plain": [
       "Interact.Slider{Int64}(Signal{Int64}(50001, nactions=0),\"i\",50001,1:100002,\"d\",true)"
      ]
     },
     "metadata": {},
     "output_type": "display_data"
    },
    {
     "data": {
      "text/plain": [
       "5.000000000001686"
      ]
     },
     "execution_count": 10,
     "metadata": {
      "comm_id": "7d1020c5-28e0-42d7-87b7-4faec221a822",
      "reactive": true
     },
     "output_type": "execute_result"
    }
   ],
   "source": [
    "# We can also inspect individual frames from the simulation\n",
    "@manipulate for i in 1:length(times)\n",
    "    RigidBodyDynamics.set_configuration!(state, configurations[i])\n",
    "    RigidBodyDynamics.set_velocity!(state, velocities[i])\n",
    "    draw(vis, state)\n",
    "    times[i]\n",
    "end"
   ]
  },
  {
   "cell_type": "code",
   "execution_count": 11,
   "metadata": {
    "collapsed": false
   },
   "outputs": [
    {
     "data": {
      "text/plain": [
       "0"
      ]
     },
     "execution_count": 11,
     "metadata": {},
     "output_type": "execute_result"
    }
   ],
   "source": [
    "# close the viewer\n",
    "kill(proc)"
   ]
  },
  {
   "cell_type": "code",
   "execution_count": null,
   "metadata": {
    "collapsed": true
   },
   "outputs": [],
   "source": []
  }
 ],
 "metadata": {
  "kernelspec": {
   "display_name": "Julia 0.5.0",
   "language": "julia",
   "name": "julia-0.5"
  },
  "language_info": {
   "file_extension": ".jl",
   "mimetype": "application/julia",
   "name": "julia",
   "version": "0.5.0"
  },
  "widgets": {
   "state": {
    "04ba0f0b-2e33-4e70-878e-9f2f7c4c3928": {
     "views": [
      {
       "cell_index": 7
      }
     ]
    },
    "08c1bd6a-e30c-4abe-8d0e-9bffceba6fab": {
     "views": [
      {
       "cell_index": 9
      }
     ]
    },
    "0a3fe74a-aac5-4833-865e-80a034f1ffbd": {
     "views": [
      {
       "cell_index": 9
      }
     ]
    },
    "28a896ce-2b38-403b-9547-f5b353cbe644": {
     "views": [
      {
       "cell_index": 9
      }
     ]
    },
    "2e69bf9d-c9f6-4a4f-a499-5447484d12d8": {
     "views": [
      {
       "cell_index": 9
      }
     ]
    },
    "41bcb48e-d62c-4703-b9ef-aa2d4a38ceae": {
     "views": [
      {
       "cell_index": 9
      }
     ]
    },
    "52044c1a-5bba-4ab4-8965-3b51a7a7cb7d": {
     "views": [
      {
       "cell_index": 7
      }
     ]
    },
    "6cae2dc7-a5b3-4ebb-bbd4-f22dd2af72d3": {
     "views": [
      {
       "cell_index": 7
      }
     ]
    },
    "6dc31020-2cf1-4eea-8171-e62b1202ea91": {
     "views": [
      {
       "cell_index": 9
      }
     ]
    },
    "6fc1d1f9-9251-429b-8873-85f277e0e10b": {
     "views": [
      {
       "cell_index": 9
      }
     ]
    },
    "72a3bf95-1bf1-44c9-a5db-bc702884c5fb": {
     "views": [
      {
       "cell_index": 9
      }
     ]
    },
    "7635f07c-483d-4c00-b1e9-a553c9c87435": {
     "views": [
      {
       "cell_index": 9
      }
     ]
    },
    "7e6c3085-c0c8-4ae1-be8d-d9fa8f4db798": {
     "views": [
      {
       "cell_index": 7
      }
     ]
    },
    "89a090f7-6a4a-4d5e-a692-a1aa2e9874f6": {
     "views": [
      {
       "cell_index": 9
      }
     ]
    },
    "93ca37b8-1d38-4afc-927d-c1d941d0b2b7": {
     "views": [
      {
       "cell_index": 9
      }
     ]
    },
    "a8f66505-917d-4d20-91dd-e67014ca4bd6": {
     "views": [
      {
       "cell_index": 9
      }
     ]
    },
    "aa68afd8-0ec9-4ce2-97a8-3a4f2a51c145": {
     "views": [
      {
       "cell_index": 9
      }
     ]
    },
    "ab389f00-e51d-475b-a5de-8bbcdf90e8ab": {
     "views": [
      {
       "cell_index": 9
      }
     ]
    },
    "b29e4ce5-8b0d-4b9c-ad54-ff2aa4c08a17": {
     "views": [
      {
       "cell_index": 7
      }
     ]
    },
    "c2385565-13ad-442f-b68d-66ca976be9d5": {
     "views": [
      {
       "cell_index": 9
      }
     ]
    },
    "c85a6da1-cce6-4b59-9b95-d167b2fa0927": {
     "views": [
      {
       "cell_index": 9
      }
     ]
    },
    "c85b216d-b7fc-4c6e-b921-b906a2e064b8": {
     "views": [
      {
       "cell_index": 9
      }
     ]
    },
    "d2c26374-ccb6-45d0-b8df-6264822bae1c": {
     "views": [
      {
       "cell_index": 9
      }
     ]
    },
    "d6f8922a-abc1-4b20-864a-c8a4b8c6360e": {
     "views": [
      {
       "cell_index": 9
      }
     ]
    },
    "fb196417-258d-488a-981f-270afeca6f33": {
     "views": [
      {
       "cell_index": 9
      }
     ]
    },
    "fd8644a9-f62d-4c65-b97c-072925c25964": {
     "views": [
      {
       "cell_index": 9
      }
     ]
    }
   },
   "version": "1.2.0"
  }
 },
 "nbformat": 4,
 "nbformat_minor": 0
}
