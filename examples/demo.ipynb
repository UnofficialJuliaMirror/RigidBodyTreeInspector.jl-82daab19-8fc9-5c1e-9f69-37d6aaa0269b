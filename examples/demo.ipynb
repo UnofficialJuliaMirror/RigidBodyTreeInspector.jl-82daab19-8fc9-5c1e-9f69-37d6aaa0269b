{
 "cells": [
  {
   "cell_type": "code",
   "execution_count": 2,
   "metadata": {
    "collapsed": false
   },
   "outputs": [
    {
     "data": {
      "text/html": [
       "<div id=\"interact-js-shim\">\n",
       "    <script charset=\"utf-8\">\n",
       "(function (IPython, $, _, MathJax) {\n",
       "    $.event.special.destroyed = {\n",
       "\tremove: function(o) {\n",
       "\t    if (o.handler) {\n",
       "\t\to.handler.apply(this, arguments)\n",
       "\t    }\n",
       "\t}\n",
       "    }\n",
       "\n",
       "    var OutputArea = IPython.version >= \"4.0.0\" ? require(\"notebook/js/outputarea\").OutputArea : IPython.OutputArea;\n",
       "\n",
       "    var redrawValue = function (container, type, val) {\n",
       "\tvar selector = $(\"<div/>\");\n",
       "\tvar oa = new OutputArea(_.extend(selector, {\n",
       "\t    selector: selector,\n",
       "\t    prompt_area: true,\n",
       "\t    events: IPython.events,\n",
       "\t    keyboard_manager: IPython.keyboard_manager\n",
       "\t})); // Hack to work with IPython 2.1.0\n",
       "\n",
       "\tswitch (type) {\n",
       "\tcase \"image/png\":\n",
       "            var _src = 'data:' + type + ';base64,' + val;\n",
       "\t    $(container).find(\"img\").attr('src', _src);\n",
       "\t    break;\n",
       "\tcase \"text/latex\":\n",
       "\t\tif (MathJax){\n",
       "\t\t\tvar math = MathJax.Hub.getAllJax(container)[0];\n",
       "\t\t\tMathJax.Hub.Queue([\"Text\", math, val.replace(/^\\${1,2}|\\${1,2}$/g, '')]);\n",
       "\t\t\tbreak;\n",
       "\t\t}\n",
       "\tdefault:\n",
       "\t    var toinsert = OutputArea.append_map[type].apply(\n",
       "\t\toa, [val, {}, selector]\n",
       "\t    );\n",
       "\t    $(container).empty().append(toinsert.contents());\n",
       "\t    selector.remove();\n",
       "\t}\n",
       "    }\n",
       "\n",
       "\n",
       "    $(document).ready(function() {\n",
       "\tfunction initComm(evt, data) {\n",
       "\t    var comm_manager = data.kernel.comm_manager;\n",
       "        //_.extend(comm_manager.targets, require(\"widgets/js/widget\"))\n",
       "\t    comm_manager.register_target(\"Signal\", function (comm) {\n",
       "            comm.on_msg(function (msg) {\n",
       "                var val = msg.content.data.value;\n",
       "                $(\".signal-\" + comm.comm_id).each(function() {\n",
       "                var type = $(this).data(\"type\");\n",
       "                if (typeof(val[type]) !== \"undefined\" && val[type] !== null) {\n",
       "                    redrawValue(this, type, val[type], type);\n",
       "                }\n",
       "                });\n",
       "                delete val;\n",
       "                delete msg.content.data.value;\n",
       "            });\n",
       "\t    });\n",
       "\n",
       "\t    // coordingate with Comm and redraw Signals\n",
       "\t    // XXX: Test using Reactive here to improve performance\n",
       "\t    $([IPython.events]).on(\n",
       "\t\t'output_appended.OutputArea', function (event, type, value, md, toinsert) {\n",
       "\t\t    if (md && md.reactive) {\n",
       "                // console.log(md.comm_id);\n",
       "                toinsert.addClass(\"signal-\" + md.comm_id);\n",
       "                toinsert.data(\"type\", type);\n",
       "                // Signal back indicating the mimetype required\n",
       "                var comm_manager = IPython.notebook.kernel.comm_manager;\n",
       "                var comm = comm_manager.comms[md.comm_id];\n",
       "                comm.then(function (c) {\n",
       "                    c.send({action: \"subscribe_mime\",\n",
       "                       mime: type});\n",
       "                    toinsert.bind(\"destroyed\", function() {\n",
       "                        c.send({action: \"unsubscribe_mime\",\n",
       "                               mime: type});\n",
       "                    });\n",
       "                })\n",
       "\t\t    }\n",
       "\t    });\n",
       "\t}\n",
       "\n",
       "\ttry {\n",
       "\t    // try to initialize right away. otherwise, wait on the status_started event.\n",
       "\t    initComm(undefined, IPython.notebook);\n",
       "\t} catch (e) {\n",
       "\t    $([IPython.events]).on('kernel_created.Kernel kernel_created.Session', initComm);\n",
       "\t}\n",
       "    });\n",
       "})(IPython, jQuery, _, MathJax);\n",
       "</script>\n",
       "    <script>\n",
       "        window.interactLoadedFlag = true\n",
       "       $(\"#interact-js-shim\").bind(\"destroyed\", function () {\n",
       "           if (window.interactLoadedFlag) {\n",
       "               console.warn(\"JavaScript required by Interact will be removed if you remove this cell or run using Interact more than once.\")\n",
       "           }\n",
       "       })\n",
       "       $([IPython.events]).on(\"kernel_starting.Kernel kernel_restarting.Kernel\", function () { window.interactLoadedFlag = false })\n",
       "   </script>\n",
       "</div>"
      ]
     },
     "metadata": {},
     "output_type": "display_data"
    }
   ],
   "source": [
    "using RigidBodyDynamics\n",
    "using Interact"
   ]
  },
  {
   "cell_type": "code",
   "execution_count": 3,
   "metadata": {
    "collapsed": false
   },
   "outputs": [
    {
     "name": "stderr",
     "output_type": "stream",
     "text": [
      "\u001b[1m\u001b[34mINFO: Precompiling module RigidBodyTreeInspector.\n",
      "\u001b[0m"
     ]
    },
    {
     "name": "stdout",
     "output_type": "stream",
     "text": [
      "adding: /home/rdeits/.julia/v0.5/DrakeVisualizer/src/lcmtypes to the python path\n",
      "adding: /home/rdeits/.julia/v0.5/DrakeVisualizer/src/lcmtypes to the python path\n"
     ]
    }
   ],
   "source": [
    "import RigidBodyTreeInspector"
   ]
  },
  {
   "cell_type": "code",
   "execution_count": 105,
   "metadata": {
    "collapsed": false
   },
   "outputs": [
    {
     "name": "stdout",
     "output_type": "stream",
     "text": [
      "adding: /home/rdeits/.julia/v0.5/DrakeVisualizer/src/lcmtypes to the python path\n"
     ]
    },
    {
     "name": "stderr",
     "output_type": "stream",
     "text": [
      "WARNING: replacing module DrakeVisualizer.\n",
      "\u001b[1m\u001b[34mINFO: Recompiling stale cache file /home/rdeits/.julia/lib/v0.5/RigidBodyTreeInspector.ji for module RigidBodyTreeInspector.\n",
      "\u001b[0m"
     ]
    },
    {
     "name": "stdout",
     "output_type": "stream",
     "text": [
      "adding: /home/rdeits/.julia/v0.5/DrakeVisualizer/src/lcmtypes to the python path\n"
     ]
    },
    {
     "name": "stderr",
     "output_type": "stream",
     "text": [
      "WARNING: replacing module RigidBodyTreeInspector.\n",
      "WARNING: Method definition convert(Type{CoordinateTransformations.AffineMap}, RigidBodyDynamics.Transform3D) in module RigidBodyTreeInspector at /home/rdeits/.julia/v0.5/RigidBodyTreeInspector/src/visualizer.jl:44 overwritten in module RigidBodyTreeInspector at /home/rdeits/.julia/v0.5/RigidBodyTreeInspector/src/visualizer.jl:45.\n",
      "WARNING: Method definition #parse_urdf(Array{Any, 1}, RigidBodyDynamics.#parse_urdf, String, RigidBodyDynamics.Mechanism) in module RigidBodyTreeInspector overwritten in module RigidBodyTreeInspector.\n",
      "WARNING: Method definition parse_urdf(String, RigidBodyDynamics.Mechanism) in module RigidBodyTreeInspector at /home/rdeits/.julia/v0.5/RigidBodyTreeInspector/src/parse_urdf.jl:158 overwritten in module RigidBodyTreeInspector at /home/rdeits/.julia/v0.5/RigidBodyTreeInspector/src/parse_urdf.jl:158.\n"
     ]
    }
   ],
   "source": [
    "reload(\"DrakeVisualizer\")\n",
    "reload(\"RigidBodyTreeInspector\")"
   ]
  },
  {
   "cell_type": "code",
   "execution_count": 106,
   "metadata": {
    "collapsed": false
   },
   "outputs": [
    {
     "data": {
      "text/plain": [
       "Vertex: world (root)\n",
       "  Vertex: body1, Edge: joint1\n",
       "    Vertex: body2, Edge: joint2\n",
       "      Vertex: body3, Edge: joint3\n",
       "        Vertex: body4, Edge: joint4\n",
       "          Vertex: body5, Edge: joint5\n",
       "            Vertex: body6, Edge: joint6"
      ]
     },
     "execution_count": 106,
     "metadata": {},
     "output_type": "execute_result"
    }
   ],
   "source": [
    "mechanism = rand_chain_mechanism(Float64, [QuaternionFloating{Float64}; [Revolute{Float64} for i = 1:5]]...)"
   ]
  },
  {
   "cell_type": "code",
   "execution_count": 107,
   "metadata": {
    "collapsed": false
   },
   "outputs": [
    {
     "data": {
      "text/plain": [
       "DrakeVisualizer.Visualizer(DrakeVisualizer.CoreVisualizer(PyLCM.LCM(PyObject <LCM object at 0x7fb20d1fecc0>),LazyTree: DrakeVisualizer.VisData(CoordinateTransformations.IdentityTransformation(),DrakeVisualizer.GeometryData[]),DrakeVisualizer.CommandQueue(Array{Symbol,1}[],Array{Symbol,1}[],Array{Symbol,1}[]),true),Symbol[:robot1])"
      ]
     },
     "execution_count": 107,
     "metadata": {},
     "output_type": "execute_result"
    }
   ],
   "source": [
    "vis = DrakeVisualizer.Visualizer()[:robot1]"
   ]
  },
  {
   "cell_type": "code",
   "execution_count": 108,
   "metadata": {
    "collapsed": false
   },
   "outputs": [
    {
     "data": {
      "text/plain": [
       "true"
      ]
     },
     "execution_count": 108,
     "metadata": {},
     "output_type": "execute_result"
    }
   ],
   "source": [
    "RigidBodyTreeInspector.load!(vis, RigidBodyTreeInspector.create_geometry(mechanism))"
   ]
  },
  {
   "cell_type": "code",
   "execution_count": 121,
   "metadata": {
    "collapsed": false
   },
   "outputs": [
    {
     "name": "stdout",
     "output_type": "stream",
     "text": [
      "  0.015773 seconds (1.92 k allocations: 104.938 KB)\n"
     ]
    },
    {
     "data": {
      "text/plain": [
       "true"
      ]
     },
     "execution_count": 121,
     "metadata": {},
     "output_type": "execute_result"
    }
   ],
   "source": [
    "# We can draw the mechanism at a single state:\n",
    "state = MechanismState(Float64, mechanism)\n",
    "zero!(state)\n",
    "@time RigidBodyTreeInspector.draw!(vis, state)"
   ]
  },
  {
   "cell_type": "code",
   "execution_count": 122,
   "metadata": {
    "collapsed": false
   },
   "outputs": [
    {
     "data": {
      "text/html": [],
      "text/plain": [
       "Interact.Options{:SelectionSlider,Float64}(Signal{Float64}(-0.12566370614359187, nactions=1),\"joint1.1\",-0.12566370614359187,\"-0.12566370614359187\",Interact.OptionDict(DataStructures.OrderedDict(\"-3.141592653589793\"=>-3.14159,\"-3.015928947446201\"=>-3.01593,\"-2.8902652413026093\"=>-2.89027,\"-2.7646015351590183\"=>-2.7646,\"-2.6389378290154264\"=>-2.63894,\"-2.5132741228718345\"=>-2.51327,\"-2.3876104167282426\"=>-2.38761,\"-2.261946710584651\"=>-2.26195,\"-2.1362830044410597\"=>-2.13628,\"-2.0106192982974673\"=>-2.01062…),Dict(2.13628=>\"2.1362830044410597\",-3.01593=>\"-3.015928947446201\",-2.13628=>\"-2.1362830044410597\",1.88496=>\"1.8849555921538756\",1.75929=>\"1.7592918860102842\",2.63894=>\"2.6389378290154264\",-0.376991=>\"-0.3769911184307753\",0.251327=>\"0.25132741228718347\",-2.51327=>\"-2.5132741228718345\",1.25664=>\"1.2566370614359172\"…)),Any[],Any[],true,\"horizontal\")"
      ]
     },
     "metadata": {},
     "output_type": "display_data"
    },
    {
     "data": {
      "text/html": [],
      "text/plain": [
       "Interact.Options{:SelectionSlider,Float64}(Signal{Float64}(-0.12566370614359187, nactions=1),\"joint1.2\",-0.12566370614359187,\"-0.12566370614359187\",Interact.OptionDict(DataStructures.OrderedDict(\"-3.141592653589793\"=>-3.14159,\"-3.015928947446201\"=>-3.01593,\"-2.8902652413026093\"=>-2.89027,\"-2.7646015351590183\"=>-2.7646,\"-2.6389378290154264\"=>-2.63894,\"-2.5132741228718345\"=>-2.51327,\"-2.3876104167282426\"=>-2.38761,\"-2.261946710584651\"=>-2.26195,\"-2.1362830044410597\"=>-2.13628,\"-2.0106192982974673\"=>-2.01062…),Dict(2.13628=>\"2.1362830044410597\",-3.01593=>\"-3.015928947446201\",-2.13628=>\"-2.1362830044410597\",1.88496=>\"1.8849555921538756\",1.75929=>\"1.7592918860102842\",2.63894=>\"2.6389378290154264\",-0.376991=>\"-0.3769911184307753\",0.251327=>\"0.25132741228718347\",-2.51327=>\"-2.5132741228718345\",1.25664=>\"1.2566370614359172\"…)),Any[],Any[],true,\"horizontal\")"
      ]
     },
     "metadata": {},
     "output_type": "display_data"
    },
    {
     "data": {
      "text/html": [],
      "text/plain": [
       "Interact.Options{:SelectionSlider,Float64}(Signal{Float64}(-0.12566370614359187, nactions=1),\"joint1.3\",-0.12566370614359187,\"-0.12566370614359187\",Interact.OptionDict(DataStructures.OrderedDict(\"-3.141592653589793\"=>-3.14159,\"-3.015928947446201\"=>-3.01593,\"-2.8902652413026093\"=>-2.89027,\"-2.7646015351590183\"=>-2.7646,\"-2.6389378290154264\"=>-2.63894,\"-2.5132741228718345\"=>-2.51327,\"-2.3876104167282426\"=>-2.38761,\"-2.261946710584651\"=>-2.26195,\"-2.1362830044410597\"=>-2.13628,\"-2.0106192982974673\"=>-2.01062…),Dict(2.13628=>\"2.1362830044410597\",-3.01593=>\"-3.015928947446201\",-2.13628=>\"-2.1362830044410597\",1.88496=>\"1.8849555921538756\",1.75929=>\"1.7592918860102842\",2.63894=>\"2.6389378290154264\",-0.376991=>\"-0.3769911184307753\",0.251327=>\"0.25132741228718347\",-2.51327=>\"-2.5132741228718345\",1.25664=>\"1.2566370614359172\"…)),Any[],Any[],true,\"horizontal\")"
      ]
     },
     "metadata": {},
     "output_type": "display_data"
    },
    {
     "data": {
      "text/html": [],
      "text/plain": [
       "Interact.Options{:SelectionSlider,Float64}(Signal{Float64}(-0.12566370614359187, nactions=1),\"joint1.4\",-0.12566370614359187,\"-0.12566370614359187\",Interact.OptionDict(DataStructures.OrderedDict(\"-3.141592653589793\"=>-3.14159,\"-3.015928947446201\"=>-3.01593,\"-2.8902652413026093\"=>-2.89027,\"-2.7646015351590183\"=>-2.7646,\"-2.6389378290154264\"=>-2.63894,\"-2.5132741228718345\"=>-2.51327,\"-2.3876104167282426\"=>-2.38761,\"-2.261946710584651\"=>-2.26195,\"-2.1362830044410597\"=>-2.13628,\"-2.0106192982974673\"=>-2.01062…),Dict(2.13628=>\"2.1362830044410597\",-3.01593=>\"-3.015928947446201\",-2.13628=>\"-2.1362830044410597\",1.88496=>\"1.8849555921538756\",1.75929=>\"1.7592918860102842\",2.63894=>\"2.6389378290154264\",-0.376991=>\"-0.3769911184307753\",0.251327=>\"0.25132741228718347\",-2.51327=>\"-2.5132741228718345\",1.25664=>\"1.2566370614359172\"…)),Any[],Any[],true,\"horizontal\")"
      ]
     },
     "metadata": {},
     "output_type": "display_data"
    },
    {
     "data": {
      "text/html": [],
      "text/plain": [
       "Interact.Options{:SelectionSlider,Float64}(Signal{Float64}(-0.12566370614359187, nactions=1),\"joint1.5\",-0.12566370614359187,\"-0.12566370614359187\",Interact.OptionDict(DataStructures.OrderedDict(\"-3.141592653589793\"=>-3.14159,\"-3.015928947446201\"=>-3.01593,\"-2.8902652413026093\"=>-2.89027,\"-2.7646015351590183\"=>-2.7646,\"-2.6389378290154264\"=>-2.63894,\"-2.5132741228718345\"=>-2.51327,\"-2.3876104167282426\"=>-2.38761,\"-2.261946710584651\"=>-2.26195,\"-2.1362830044410597\"=>-2.13628,\"-2.0106192982974673\"=>-2.01062…),Dict(2.13628=>\"2.1362830044410597\",-3.01593=>\"-3.015928947446201\",-2.13628=>\"-2.1362830044410597\",1.88496=>\"1.8849555921538756\",1.75929=>\"1.7592918860102842\",2.63894=>\"2.6389378290154264\",-0.376991=>\"-0.3769911184307753\",0.251327=>\"0.25132741228718347\",-2.51327=>\"-2.5132741228718345\",1.25664=>\"1.2566370614359172\"…)),Any[],Any[],true,\"horizontal\")"
      ]
     },
     "metadata": {},
     "output_type": "display_data"
    },
    {
     "data": {
      "text/html": [],
      "text/plain": [
       "Interact.Options{:SelectionSlider,Float64}(Signal{Float64}(-0.12566370614359187, nactions=1),\"joint1.6\",-0.12566370614359187,\"-0.12566370614359187\",Interact.OptionDict(DataStructures.OrderedDict(\"-3.141592653589793\"=>-3.14159,\"-3.015928947446201\"=>-3.01593,\"-2.8902652413026093\"=>-2.89027,\"-2.7646015351590183\"=>-2.7646,\"-2.6389378290154264\"=>-2.63894,\"-2.5132741228718345\"=>-2.51327,\"-2.3876104167282426\"=>-2.38761,\"-2.261946710584651\"=>-2.26195,\"-2.1362830044410597\"=>-2.13628,\"-2.0106192982974673\"=>-2.01062…),Dict(2.13628=>\"2.1362830044410597\",-3.01593=>\"-3.015928947446201\",-2.13628=>\"-2.1362830044410597\",1.88496=>\"1.8849555921538756\",1.75929=>\"1.7592918860102842\",2.63894=>\"2.6389378290154264\",-0.376991=>\"-0.3769911184307753\",0.251327=>\"0.25132741228718347\",-2.51327=>\"-2.5132741228718345\",1.25664=>\"1.2566370614359172\"…)),Any[],Any[],true,\"horizontal\")"
      ]
     },
     "metadata": {},
     "output_type": "display_data"
    },
    {
     "data": {
      "text/html": [],
      "text/plain": [
       "Interact.Options{:SelectionSlider,Float64}(Signal{Float64}(-0.12566370614359187, nactions=1),\"joint2.1\",-0.12566370614359187,\"-0.12566370614359187\",Interact.OptionDict(DataStructures.OrderedDict(\"-3.141592653589793\"=>-3.14159,\"-3.015928947446201\"=>-3.01593,\"-2.8902652413026093\"=>-2.89027,\"-2.7646015351590183\"=>-2.7646,\"-2.6389378290154264\"=>-2.63894,\"-2.5132741228718345\"=>-2.51327,\"-2.3876104167282426\"=>-2.38761,\"-2.261946710584651\"=>-2.26195,\"-2.1362830044410597\"=>-2.13628,\"-2.0106192982974673\"=>-2.01062…),Dict(2.13628=>\"2.1362830044410597\",-3.01593=>\"-3.015928947446201\",-2.13628=>\"-2.1362830044410597\",1.88496=>\"1.8849555921538756\",1.75929=>\"1.7592918860102842\",2.63894=>\"2.6389378290154264\",-0.376991=>\"-0.3769911184307753\",0.251327=>\"0.25132741228718347\",-2.51327=>\"-2.5132741228718345\",1.25664=>\"1.2566370614359172\"…)),Any[],Any[],true,\"horizontal\")"
      ]
     },
     "metadata": {},
     "output_type": "display_data"
    },
    {
     "data": {
      "text/html": [],
      "text/plain": [
       "Interact.Options{:SelectionSlider,Float64}(Signal{Float64}(-0.12566370614359187, nactions=1),\"joint3.1\",-0.12566370614359187,\"-0.12566370614359187\",Interact.OptionDict(DataStructures.OrderedDict(\"-3.141592653589793\"=>-3.14159,\"-3.015928947446201\"=>-3.01593,\"-2.8902652413026093\"=>-2.89027,\"-2.7646015351590183\"=>-2.7646,\"-2.6389378290154264\"=>-2.63894,\"-2.5132741228718345\"=>-2.51327,\"-2.3876104167282426\"=>-2.38761,\"-2.261946710584651\"=>-2.26195,\"-2.1362830044410597\"=>-2.13628,\"-2.0106192982974673\"=>-2.01062…),Dict(2.13628=>\"2.1362830044410597\",-3.01593=>\"-3.015928947446201\",-2.13628=>\"-2.1362830044410597\",1.88496=>\"1.8849555921538756\",1.75929=>\"1.7592918860102842\",2.63894=>\"2.6389378290154264\",-0.376991=>\"-0.3769911184307753\",0.251327=>\"0.25132741228718347\",-2.51327=>\"-2.5132741228718345\",1.25664=>\"1.2566370614359172\"…)),Any[],Any[],true,\"horizontal\")"
      ]
     },
     "metadata": {},
     "output_type": "display_data"
    },
    {
     "data": {
      "text/html": [],
      "text/plain": [
       "Interact.Options{:SelectionSlider,Float64}(Signal{Float64}(-0.12566370614359187, nactions=1),\"joint4.1\",-0.12566370614359187,\"-0.12566370614359187\",Interact.OptionDict(DataStructures.OrderedDict(\"-3.141592653589793\"=>-3.14159,\"-3.015928947446201\"=>-3.01593,\"-2.8902652413026093\"=>-2.89027,\"-2.7646015351590183\"=>-2.7646,\"-2.6389378290154264\"=>-2.63894,\"-2.5132741228718345\"=>-2.51327,\"-2.3876104167282426\"=>-2.38761,\"-2.261946710584651\"=>-2.26195,\"-2.1362830044410597\"=>-2.13628,\"-2.0106192982974673\"=>-2.01062…),Dict(2.13628=>\"2.1362830044410597\",-3.01593=>\"-3.015928947446201\",-2.13628=>\"-2.1362830044410597\",1.88496=>\"1.8849555921538756\",1.75929=>\"1.7592918860102842\",2.63894=>\"2.6389378290154264\",-0.376991=>\"-0.3769911184307753\",0.251327=>\"0.25132741228718347\",-2.51327=>\"-2.5132741228718345\",1.25664=>\"1.2566370614359172\"…)),Any[],Any[],true,\"horizontal\")"
      ]
     },
     "metadata": {},
     "output_type": "display_data"
    },
    {
     "data": {
      "text/html": [],
      "text/plain": [
       "Interact.Options{:SelectionSlider,Float64}(Signal{Float64}(-0.12566370614359187, nactions=1),\"joint5.1\",-0.12566370614359187,\"-0.12566370614359187\",Interact.OptionDict(DataStructures.OrderedDict(\"-3.141592653589793\"=>-3.14159,\"-3.015928947446201\"=>-3.01593,\"-2.8902652413026093\"=>-2.89027,\"-2.7646015351590183\"=>-2.7646,\"-2.6389378290154264\"=>-2.63894,\"-2.5132741228718345\"=>-2.51327,\"-2.3876104167282426\"=>-2.38761,\"-2.261946710584651\"=>-2.26195,\"-2.1362830044410597\"=>-2.13628,\"-2.0106192982974673\"=>-2.01062…),Dict(2.13628=>\"2.1362830044410597\",-3.01593=>\"-3.015928947446201\",-2.13628=>\"-2.1362830044410597\",1.88496=>\"1.8849555921538756\",1.75929=>\"1.7592918860102842\",2.63894=>\"2.6389378290154264\",-0.376991=>\"-0.3769911184307753\",0.251327=>\"0.25132741228718347\",-2.51327=>\"-2.5132741228718345\",1.25664=>\"1.2566370614359172\"…)),Any[],Any[],true,\"horizontal\")"
      ]
     },
     "metadata": {},
     "output_type": "display_data"
    },
    {
     "data": {
      "text/html": [],
      "text/plain": [
       "Interact.Options{:SelectionSlider,Float64}(Signal{Float64}(-0.12566370614359187, nactions=1),\"joint6.1\",-0.12566370614359187,\"-0.12566370614359187\",Interact.OptionDict(DataStructures.OrderedDict(\"-3.141592653589793\"=>-3.14159,\"-3.015928947446201\"=>-3.01593,\"-2.8902652413026093\"=>-2.89027,\"-2.7646015351590183\"=>-2.7646,\"-2.6389378290154264\"=>-2.63894,\"-2.5132741228718345\"=>-2.51327,\"-2.3876104167282426\"=>-2.38761,\"-2.261946710584651\"=>-2.26195,\"-2.1362830044410597\"=>-2.13628,\"-2.0106192982974673\"=>-2.01062…),Dict(2.13628=>\"2.1362830044410597\",-3.01593=>\"-3.015928947446201\",-2.13628=>\"-2.1362830044410597\",1.88496=>\"1.8849555921538756\",1.75929=>\"1.7592918860102842\",2.63894=>\"2.6389378290154264\",-0.376991=>\"-0.3769911184307753\",0.251327=>\"0.25132741228718347\",-2.51327=>\"-2.5132741228718345\",1.25664=>\"1.2566370614359172\"…)),Any[],Any[],true,\"horizontal\")"
      ]
     },
     "metadata": {},
     "output_type": "display_data"
    }
   ],
   "source": [
    "# Or we can interactively explore the degrees of freedom of the mechanism.\n",
    "# Note that the quaternion floating base joint, \"joint1\", has been given \n",
    "# six sliders. The first three correspond to the exponential map representation\n",
    "# of its rotation, and the next three correspond to its translation. \n",
    "RigidBodyTreeInspector.inspect(mechanism; show_inertias=true, randomize_colors=true);"
   ]
  },
  {
   "cell_type": "code",
   "execution_count": 123,
   "metadata": {
    "collapsed": false
   },
   "outputs": [],
   "source": [
    "# We can also animate the mechanism, given a time sequence of states.\n",
    "# States will be linearly interpolated between the knot points.\n",
    "times = collect(linspace(0, 10, 3))\n",
    "configurations = Vector{Vector{Float64}}(length(times))\n",
    "for i = 1:length(times)\n",
    "    rand_configuration!(state)\n",
    "    configurations[i] = copy(configuration_vector(state))\n",
    "end\n",
    "RigidBodyTreeInspector.animate(vis, mechanism, times, configurations; fps = 60., realtimerate = 1.)"
   ]
  },
  {
   "cell_type": "code",
   "execution_count": 8,
   "metadata": {
    "collapsed": false
   },
   "outputs": [],
   "source": [
    "# We can simulate a mechanism from an initial state. We'll use a mechanism\n",
    "# without a QuaternionFloating joint so that it doesn't just fall straight down.\n",
    "mechanism = rand_chain_mechanism(Float64, [Revolute{Float64} for i = 1:10]...)\n",
    "vis = Visualizer(mechanism, show_inertias=true);\n",
    "state = MechanismState(Float64, mechanism)\n",
    "zero!(state)\n",
    "draw(vis, state)\n",
    "times, configurations, velocities = simulate(state, 10.);"
   ]
  },
  {
   "cell_type": "code",
   "execution_count": 9,
   "metadata": {
    "collapsed": false
   },
   "outputs": [],
   "source": [
    "# And we can animate the result in realtime\n",
    "animate(vis, mechanism, times, configurations)"
   ]
  },
  {
   "cell_type": "code",
   "execution_count": 10,
   "metadata": {
    "collapsed": false
   },
   "outputs": [
    {
     "data": {
      "text/html": [],
      "text/plain": [
       "Interact.Slider{Int64}(Signal{Int64}(50001, nactions=0),\"i\",50001,1:100002,\"d\",true)"
      ]
     },
     "metadata": {},
     "output_type": "display_data"
    },
    {
     "data": {
      "text/plain": [
       "5.000000000001686"
      ]
     },
     "execution_count": 10,
     "metadata": {
      "comm_id": "7d1020c5-28e0-42d7-87b7-4faec221a822",
      "reactive": true
     },
     "output_type": "execute_result"
    }
   ],
   "source": [
    "# We can also inspect individual frames from the simulation\n",
    "@manipulate for i in 1:length(times)\n",
    "    RigidBodyDynamics.set_configuration!(state, configurations[i])\n",
    "    RigidBodyDynamics.set_velocity!(state, velocities[i])\n",
    "    draw(vis, state)\n",
    "    times[i]\n",
    "end"
   ]
  },
  {
   "cell_type": "code",
   "execution_count": 11,
   "metadata": {
    "collapsed": false
   },
   "outputs": [
    {
     "data": {
      "text/plain": [
       "0"
      ]
     },
     "execution_count": 11,
     "metadata": {},
     "output_type": "execute_result"
    }
   ],
   "source": [
    "# close the viewer\n",
    "kill(proc)"
   ]
  },
  {
   "cell_type": "code",
   "execution_count": null,
   "metadata": {
    "collapsed": true
   },
   "outputs": [],
   "source": []
  }
 ],
 "metadata": {
  "kernelspec": {
   "display_name": "Julia 0.5.0",
   "language": "julia",
   "name": "julia-0.5"
  },
  "language_info": {
   "file_extension": ".jl",
   "mimetype": "application/julia",
   "name": "julia",
   "version": "0.5.0"
  },
  "widgets": {
   "state": {
    "01e1e3af-db86-4066-a488-0c2d82fc7e62": {
     "views": [
      {
       "cell_index": 7
      }
     ]
    },
    "045c54be-7c0b-4e9f-bbf7-350257f383a8": {
     "views": [
      {
       "cell_index": 7
      }
     ]
    },
    "0d6c4e81-bc45-4769-8088-50f6fd3ff929": {
     "views": [
      {
       "cell_index": 7
      }
     ]
    },
    "12d4bb01-798b-48b1-93ef-89355001be23": {
     "views": [
      {
       "cell_index": 7
      }
     ]
    },
    "147f4d63-1c77-4a1f-89c7-e1ca4172a126": {
     "views": [
      {
       "cell_index": 7
      }
     ]
    },
    "19676dd5-c34d-4808-9d6f-238f23d727eb": {
     "views": [
      {
       "cell_index": 7
      }
     ]
    },
    "202b544b-a4c8-4e6c-aea4-d0c9a4af7e31": {
     "views": [
      {
       "cell_index": 7
      }
     ]
    },
    "23786759-d24f-413e-917d-0b6f9c96d74b": {
     "views": [
      {
       "cell_index": 7
      }
     ]
    },
    "2775ef88-601b-492d-a93d-4d5cfafea57b": {
     "views": [
      {
       "cell_index": 7
      }
     ]
    },
    "2811d0e9-00f2-482e-ae56-b76b0b512fba": {
     "views": [
      {
       "cell_index": 7
      }
     ]
    },
    "362a1341-a21a-42a6-a21f-7d6a1927d1e4": {
     "views": [
      {
       "cell_index": 7
      }
     ]
    },
    "422ab0ed-59cb-4f46-919b-ed0b39fad4fa": {
     "views": [
      {
       "cell_index": 7
      }
     ]
    },
    "44e65a39-c407-4993-9633-d9fdc67e7804": {
     "views": [
      {
       "cell_index": 7
      }
     ]
    },
    "45e41d59-e95f-4d16-bda9-a9bd2635cc21": {
     "views": [
      {
       "cell_index": 7
      }
     ]
    },
    "4c4cc248-2146-4b75-bff1-9df3f31bfdf2": {
     "views": [
      {
       "cell_index": 7
      }
     ]
    },
    "53419468-767b-4c41-8c8b-62cebfcbd454": {
     "views": [
      {
       "cell_index": 7
      }
     ]
    },
    "5660a8af-6006-4e06-a0d7-697e231743eb": {
     "views": [
      {
       "cell_index": 7
      }
     ]
    },
    "57cdabda-6309-4dcb-ab6e-118a1e0eacf5": {
     "views": [
      {
       "cell_index": 7
      }
     ]
    },
    "5aeba34b-95ac-4bed-b991-3c6f505fcdbb": {
     "views": [
      {
       "cell_index": 7
      }
     ]
    },
    "60625a0a-92fa-47db-9242-63ebaaabaae7": {
     "views": [
      {
       "cell_index": 7
      }
     ]
    },
    "61932628-b0a1-45e5-87d6-4ff41c9257ef": {
     "views": [
      {
       "cell_index": 7
      }
     ]
    },
    "64f51b57-d0e0-470c-afe4-435d6f571b15": {
     "views": [
      {
       "cell_index": 7
      }
     ]
    },
    "6f4ed231-6d90-40fa-90b2-f95efcd67b97": {
     "views": [
      {
       "cell_index": 7
      }
     ]
    },
    "7174551a-e31b-497e-a621-7587a6dedb0e": {
     "views": [
      {
       "cell_index": 7
      }
     ]
    },
    "7a234f05-1b94-475e-801a-1469bb9ea0ae": {
     "views": [
      {
       "cell_index": 7
      }
     ]
    },
    "7f11c06a-b4d4-4bbc-b4eb-4ff70eee547a": {
     "views": [
      {
       "cell_index": 7
      }
     ]
    },
    "86fb7b05-ea17-4d90-8f3c-9b0d5e30ee6f": {
     "views": [
      {
       "cell_index": 7
      }
     ]
    },
    "891881dd-1b74-4cc6-94f0-184116bf9cb0": {
     "views": [
      {
       "cell_index": 7
      }
     ]
    },
    "95f33093-7bd0-4327-af30-b6f5079d7200": {
     "views": [
      {
       "cell_index": 7
      }
     ]
    },
    "9720b927-6170-4036-b1cf-4708a370b748": {
     "views": [
      {
       "cell_index": 7
      }
     ]
    },
    "98ed44d8-b0b3-43f9-92db-c2c0203dbdc3": {
     "views": [
      {
       "cell_index": 7
      }
     ]
    },
    "9fea2b9d-f792-4c13-94fd-78a02972e765": {
     "views": [
      {
       "cell_index": 7
      }
     ]
    },
    "a681f4d4-c72f-4679-804e-1be430e2e0cc": {
     "views": [
      {
       "cell_index": 7
      }
     ]
    },
    "a8a2ed17-02d9-4f29-8966-e130164a2f3d": {
     "views": [
      {
       "cell_index": 7
      }
     ]
    },
    "a9d7804c-7da6-48ba-a7f5-dd86d2dffcb9": {
     "views": [
      {
       "cell_index": 7
      }
     ]
    },
    "aa48792f-c669-4153-a599-11169311c1a5": {
     "views": [
      {
       "cell_index": 7
      }
     ]
    },
    "b1d8bc86-74e5-4262-9968-66e0532566be": {
     "views": [
      {
       "cell_index": 7
      }
     ]
    },
    "b5f2f0ee-f887-4349-8856-b5b158540145": {
     "views": [
      {
       "cell_index": 7
      }
     ]
    },
    "b783678d-6482-485d-81c1-fbcedd3e6c54": {
     "views": [
      {
       "cell_index": 7
      }
     ]
    },
    "b85210d6-614d-41a8-ab64-09646603b562": {
     "views": [
      {
       "cell_index": 7
      }
     ]
    },
    "bc1c8213-b49c-411d-a021-eb491ed41fa8": {
     "views": [
      {
       "cell_index": 7
      }
     ]
    },
    "bcac579d-a2f4-4f5d-9c0b-76dca5e0c9c3": {
     "views": [
      {
       "cell_index": 7
      }
     ]
    },
    "c394a00d-e4bf-4cbe-a03f-4df40f04750e": {
     "views": [
      {
       "cell_index": 7
      }
     ]
    },
    "c61f34a1-89b0-472a-a7d3-f7866298b548": {
     "views": [
      {
       "cell_index": 7
      }
     ]
    },
    "c6930cf8-b447-4cf9-a9be-004941a08ae6": {
     "views": [
      {
       "cell_index": 7
      }
     ]
    },
    "c7c16bbd-3713-4352-b86a-0480e5bf8a0f": {
     "views": [
      {
       "cell_index": 7
      }
     ]
    },
    "cde5d895-a95e-4f3c-9b38-ddc1c6cb1dc7": {
     "views": [
      {
       "cell_index": 7
      }
     ]
    },
    "da695ddf-872f-4ef8-9a72-795f0c1969fd": {
     "views": [
      {
       "cell_index": 7
      }
     ]
    },
    "fb7f2fbf-2d66-497b-9ec0-cdc1cb252df8": {
     "views": [
      {
       "cell_index": 7
      }
     ]
    },
    "fc6d3fdc-09fa-48f0-8749-b974e697999f": {
     "views": [
      {
       "cell_index": 7
      }
     ]
    },
    "ffe6dc82-a5b6-4668-b893-ea75eb240ff3": {
     "views": [
      {
       "cell_index": 7
      }
     ]
    }
   },
   "version": "1.2.0"
  }
 },
 "nbformat": 4,
 "nbformat_minor": 0
}
